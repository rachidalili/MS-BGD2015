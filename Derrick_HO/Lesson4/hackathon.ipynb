{
 "cells": [
  {
   "cell_type": "code",
   "execution_count": 80,
   "metadata": {
    "collapsed": true
   },
   "outputs": [],
   "source": [
    "import pandas as pd\n",
    "import requests\n",
    "from bs4 import BeautifulSoup\n",
    "import re\n",
    "import matplotlib.pyplot as plt\n",
    "import matplotlib\n",
    "import numpy as np\n",
    "matplotlib.style.use('ggplot')\n",
    "%matplotlib inline"
   ]
  },
  {
   "cell_type": "code",
   "execution_count": 81,
   "metadata": {
    "collapsed": false
   },
   "outputs": [],
   "source": [
    "dictDf = pd.read_excel('Honoraires_totaux_des_professionnels_de_sante_par_departement_en_2013.xls'\n",
    "                       ,sheetname = [2,3,4,5,6,7], header = 0)\n"
   ]
  },
  {
   "cell_type": "code",
   "execution_count": 82,
   "metadata": {
    "collapsed": false
   },
   "outputs": [
    {
     "data": {
      "text/html": [
       "<div>\n",
       "<table border=\"1\" class=\"dataframe\">\n",
       "  <thead>\n",
       "    <tr style=\"text-align: right;\">\n",
       "      <th></th>\n",
       "      <th>Généralistes et COMPETENCE MEP</th>\n",
       "      <th>DEPARTEMENT</th>\n",
       "      <th>EFFECTIFS</th>\n",
       "      <th>HONORAIRES SANS DEPASSEMENT (euros)</th>\n",
       "      <th>DEPASSEMENTS (euros)</th>\n",
       "      <th>FRAIS DE DEPLACEMENTS (euros)</th>\n",
       "      <th>HONORAIRES TOTAUX (euros)</th>\n",
       "      <th>NOMBRE DE DEPASSEMENTS</th>\n",
       "      <th>DEPASSEMENT MOYEN (euros)</th>\n",
       "    </tr>\n",
       "  </thead>\n",
       "  <tbody>\n",
       "    <tr>\n",
       "      <th>0</th>\n",
       "      <td>01- Médecine générale</td>\n",
       "      <td>01- Ain</td>\n",
       "      <td>390</td>\n",
       "      <td>54611476</td>\n",
       "      <td>583275</td>\n",
       "      <td>297951</td>\n",
       "      <td>55492702</td>\n",
       "      <td>76286</td>\n",
       "      <td>7</td>\n",
       "    </tr>\n",
       "    <tr>\n",
       "      <th>1</th>\n",
       "      <td>01- Médecine générale</td>\n",
       "      <td>02- Aisne</td>\n",
       "      <td>366</td>\n",
       "      <td>63385345</td>\n",
       "      <td>385176</td>\n",
       "      <td>368001</td>\n",
       "      <td>64138522</td>\n",
       "      <td>67037</td>\n",
       "      <td>5</td>\n",
       "    </tr>\n",
       "    <tr>\n",
       "      <th>2</th>\n",
       "      <td>01- Médecine générale</td>\n",
       "      <td>03- Allier</td>\n",
       "      <td>257</td>\n",
       "      <td>35083665</td>\n",
       "      <td>67697</td>\n",
       "      <td>325877</td>\n",
       "      <td>35477239</td>\n",
       "      <td>17797</td>\n",
       "      <td>3</td>\n",
       "    </tr>\n",
       "  </tbody>\n",
       "</table>\n",
       "</div>"
      ],
      "text/plain": [
       "  Généralistes et COMPETENCE MEP DEPARTEMENT  EFFECTIFS  \\\n",
       "0          01- Médecine générale     01- Ain        390   \n",
       "1          01- Médecine générale   02- Aisne        366   \n",
       "2          01- Médecine générale  03- Allier        257   \n",
       "\n",
       "  HONORAIRES SANS DEPASSEMENT (euros) DEPASSEMENTS (euros)  \\\n",
       "0                            54611476               583275   \n",
       "1                            63385345               385176   \n",
       "2                            35083665                67697   \n",
       "\n",
       "  FRAIS DE DEPLACEMENTS (euros) HONORAIRES TOTAUX (euros)  \\\n",
       "0                        297951                  55492702   \n",
       "1                        368001                  64138522   \n",
       "2                        325877                  35477239   \n",
       "\n",
       "  NOMBRE DE DEPASSEMENTS DEPASSEMENT MOYEN (euros)  \n",
       "0                  76286                         7  \n",
       "1                  67037                         5  \n",
       "2                  17797                         3  "
      ]
     },
     "execution_count": 82,
     "metadata": {},
     "output_type": "execute_result"
    }
   ],
   "source": [
    "dictDf[3].head(3)"
   ]
  },
  {
   "cell_type": "code",
   "execution_count": 83,
   "metadata": {
    "collapsed": true
   },
   "outputs": [],
   "source": [
    "for key, value in dictDf.iteritems():\n",
    "    name = (value.columns.values)[0]\n",
    "    value.rename(columns={name: 'PROFESSION'}, inplace=True)"
   ]
  },
  {
   "cell_type": "code",
   "execution_count": 84,
   "metadata": {
    "collapsed": false
   },
   "outputs": [
    {
     "data": {
      "text/html": [
       "<div>\n",
       "<table border=\"1\" class=\"dataframe\">\n",
       "  <thead>\n",
       "    <tr style=\"text-align: right;\">\n",
       "      <th></th>\n",
       "      <th></th>\n",
       "      <th>PROFESSION</th>\n",
       "      <th>DEPARTEMENT</th>\n",
       "      <th>EFFECTIFS</th>\n",
       "      <th>HONORAIRES SANS DEPASSEMENT (euros)</th>\n",
       "      <th>DEPASSEMENTS (euros)</th>\n",
       "      <th>FRAIS DE DEPLACEMENTS (euros)</th>\n",
       "      <th>HONORAIRES TOTAUX (euros)</th>\n",
       "      <th>NOMBRE DE DEPASSEMENTS</th>\n",
       "      <th>DEPASSEMENT MOYEN (euros)</th>\n",
       "    </tr>\n",
       "  </thead>\n",
       "  <tbody>\n",
       "    <tr>\n",
       "      <th rowspan=\"3\" valign=\"top\">2</th>\n",
       "      <th>0</th>\n",
       "      <td>02- Anesthésie-réanimation chirurgicale</td>\n",
       "      <td>01- Ain</td>\n",
       "      <td>17</td>\n",
       "      <td>4329488</td>\n",
       "      <td>1879396</td>\n",
       "      <td>0</td>\n",
       "      <td>6208884</td>\n",
       "      <td>27995</td>\n",
       "      <td>67</td>\n",
       "    </tr>\n",
       "    <tr>\n",
       "      <th>1</th>\n",
       "      <td>02- Anesthésie-réanimation chirurgicale</td>\n",
       "      <td>02- Aisne</td>\n",
       "      <td>22</td>\n",
       "      <td>4615160</td>\n",
       "      <td>191421</td>\n",
       "      <td>119</td>\n",
       "      <td>4806700</td>\n",
       "      <td>8150</td>\n",
       "      <td>23</td>\n",
       "    </tr>\n",
       "    <tr>\n",
       "      <th>2</th>\n",
       "      <td>02- Anesthésie-réanimation chirurgicale</td>\n",
       "      <td>03- Allier</td>\n",
       "      <td>19</td>\n",
       "      <td>4872085</td>\n",
       "      <td>416466</td>\n",
       "      <td>0</td>\n",
       "      <td>5288551</td>\n",
       "      <td>9479</td>\n",
       "      <td>43</td>\n",
       "    </tr>\n",
       "  </tbody>\n",
       "</table>\n",
       "</div>"
      ],
      "text/plain": [
       "                                  PROFESSION DEPARTEMENT  EFFECTIFS  \\\n",
       "2 0  02- Anesthésie-réanimation chirurgicale     01- Ain         17   \n",
       "  1  02- Anesthésie-réanimation chirurgicale   02- Aisne         22   \n",
       "  2  02- Anesthésie-réanimation chirurgicale  03- Allier         19   \n",
       "\n",
       "    HONORAIRES SANS DEPASSEMENT (euros) DEPASSEMENTS (euros)  \\\n",
       "2 0                             4329488              1879396   \n",
       "  1                             4615160               191421   \n",
       "  2                             4872085               416466   \n",
       "\n",
       "    FRAIS DE DEPLACEMENTS (euros) HONORAIRES TOTAUX (euros)  \\\n",
       "2 0                             0                   6208884   \n",
       "  1                           119                   4806700   \n",
       "  2                             0                   5288551   \n",
       "\n",
       "    NOMBRE DE DEPASSEMENTS DEPASSEMENT MOYEN (euros)  \n",
       "2 0                  27995                        67  \n",
       "  1                   8150                        23  \n",
       "  2                   9479                        43  "
      ]
     },
     "execution_count": 84,
     "metadata": {},
     "output_type": "execute_result"
    }
   ],
   "source": [
    "df = pd.concat(dictDf)\n",
    "df.head(3)"
   ]
  },
  {
   "cell_type": "code",
   "execution_count": 85,
   "metadata": {
    "collapsed": false
   },
   "outputs": [
    {
     "data": {
      "text/html": [
       "<div>\n",
       "<table border=\"1\" class=\"dataframe\">\n",
       "  <thead>\n",
       "    <tr style=\"text-align: right;\">\n",
       "      <th></th>\n",
       "      <th>PROFESSION</th>\n",
       "      <th>DEPARTEMENT</th>\n",
       "      <th>EFFECTIFS</th>\n",
       "      <th>HONORAIRES SANS DEPASSEMENT (euros)</th>\n",
       "      <th>DEPASSEMENTS (euros)</th>\n",
       "      <th>FRAIS DE DEPLACEMENTS (euros)</th>\n",
       "      <th>HONORAIRES TOTAUX (euros)</th>\n",
       "      <th>NOMBRE DE DEPASSEMENTS</th>\n",
       "      <th>DEPASSEMENT MOYEN (euros)</th>\n",
       "    </tr>\n",
       "  </thead>\n",
       "  <tbody>\n",
       "    <tr>\n",
       "      <th>0</th>\n",
       "      <td>02- Anesthésie-réanimation chirurgicale</td>\n",
       "      <td>01- Ain</td>\n",
       "      <td>17</td>\n",
       "      <td>4329488</td>\n",
       "      <td>1879396</td>\n",
       "      <td>0</td>\n",
       "      <td>6208884</td>\n",
       "      <td>27995</td>\n",
       "      <td>67</td>\n",
       "    </tr>\n",
       "    <tr>\n",
       "      <th>1</th>\n",
       "      <td>02- Anesthésie-réanimation chirurgicale</td>\n",
       "      <td>02- Aisne</td>\n",
       "      <td>22</td>\n",
       "      <td>4615160</td>\n",
       "      <td>191421</td>\n",
       "      <td>119</td>\n",
       "      <td>4806700</td>\n",
       "      <td>8150</td>\n",
       "      <td>23</td>\n",
       "    </tr>\n",
       "    <tr>\n",
       "      <th>2</th>\n",
       "      <td>02- Anesthésie-réanimation chirurgicale</td>\n",
       "      <td>03- Allier</td>\n",
       "      <td>19</td>\n",
       "      <td>4872085</td>\n",
       "      <td>416466</td>\n",
       "      <td>0</td>\n",
       "      <td>5288551</td>\n",
       "      <td>9479</td>\n",
       "      <td>43</td>\n",
       "    </tr>\n",
       "    <tr>\n",
       "      <th>3</th>\n",
       "      <td>02- Anesthésie-réanimation chirurgicale</td>\n",
       "      <td>04- Alpes-Hte-Provence</td>\n",
       "      <td>4</td>\n",
       "      <td>nc</td>\n",
       "      <td>nc</td>\n",
       "      <td>nc</td>\n",
       "      <td>nc</td>\n",
       "      <td>nc</td>\n",
       "      <td>nc</td>\n",
       "    </tr>\n",
       "    <tr>\n",
       "      <th>4</th>\n",
       "      <td>02- Anesthésie-réanimation chirurgicale</td>\n",
       "      <td>05- Hautes-Alpes</td>\n",
       "      <td>7</td>\n",
       "      <td>nc</td>\n",
       "      <td>nc</td>\n",
       "      <td>nc</td>\n",
       "      <td>nc</td>\n",
       "      <td>nc</td>\n",
       "      <td>nc</td>\n",
       "    </tr>\n",
       "  </tbody>\n",
       "</table>\n",
       "</div>"
      ],
      "text/plain": [
       "                                PROFESSION             DEPARTEMENT  EFFECTIFS  \\\n",
       "0  02- Anesthésie-réanimation chirurgicale                 01- Ain         17   \n",
       "1  02- Anesthésie-réanimation chirurgicale               02- Aisne         22   \n",
       "2  02- Anesthésie-réanimation chirurgicale              03- Allier         19   \n",
       "3  02- Anesthésie-réanimation chirurgicale  04- Alpes-Hte-Provence          4   \n",
       "4  02- Anesthésie-réanimation chirurgicale        05- Hautes-Alpes          7   \n",
       "\n",
       "  HONORAIRES SANS DEPASSEMENT (euros) DEPASSEMENTS (euros)  \\\n",
       "0                             4329488              1879396   \n",
       "1                             4615160               191421   \n",
       "2                             4872085               416466   \n",
       "3                                  nc                   nc   \n",
       "4                                  nc                   nc   \n",
       "\n",
       "  FRAIS DE DEPLACEMENTS (euros) HONORAIRES TOTAUX (euros)  \\\n",
       "0                             0                   6208884   \n",
       "1                           119                   4806700   \n",
       "2                             0                   5288551   \n",
       "3                            nc                        nc   \n",
       "4                            nc                        nc   \n",
       "\n",
       "  NOMBRE DE DEPASSEMENTS DEPASSEMENT MOYEN (euros)  \n",
       "0                  27995                        67  \n",
       "1                   8150                        23  \n",
       "2                   9479                        43  \n",
       "3                     nc                        nc  \n",
       "4                     nc                        nc  "
      ]
     },
     "execution_count": 85,
     "metadata": {},
     "output_type": "execute_result"
    }
   ],
   "source": [
    "df.reset_index(drop=[0,1], inplace = True)\n",
    "df.head(5)"
   ]
  },
  {
   "cell_type": "code",
   "execution_count": 86,
   "metadata": {
    "collapsed": false
   },
   "outputs": [
    {
     "data": {
      "text/plain": [
       "161298"
      ]
     },
     "execution_count": 86,
     "metadata": {},
     "output_type": "execute_result"
    }
   ],
   "source": [
    "df.size"
   ]
  },
  {
   "cell_type": "code",
   "execution_count": 87,
   "metadata": {
    "collapsed": false
   },
   "outputs": [
    {
     "name": "stdout",
     "output_type": "stream",
     "text": [
      "(17922, 3)\n"
     ]
    },
    {
     "data": {
      "text/html": [
       "<div>\n",
       "<table border=\"1\" class=\"dataframe\">\n",
       "  <thead>\n",
       "    <tr style=\"text-align: right;\">\n",
       "      <th></th>\n",
       "      <th>PROFESSION</th>\n",
       "      <th>DEPARTEMENT</th>\n",
       "      <th>NOMBRE DE DEPASSEMENTS</th>\n",
       "    </tr>\n",
       "  </thead>\n",
       "  <tbody>\n",
       "    <tr>\n",
       "      <th>0</th>\n",
       "      <td>02- Anesthésie-réanimation chirurgicale</td>\n",
       "      <td>01- Ain</td>\n",
       "      <td>27995</td>\n",
       "    </tr>\n",
       "    <tr>\n",
       "      <th>1</th>\n",
       "      <td>02- Anesthésie-réanimation chirurgicale</td>\n",
       "      <td>02- Aisne</td>\n",
       "      <td>8150</td>\n",
       "    </tr>\n",
       "    <tr>\n",
       "      <th>2</th>\n",
       "      <td>02- Anesthésie-réanimation chirurgicale</td>\n",
       "      <td>03- Allier</td>\n",
       "      <td>9479</td>\n",
       "    </tr>\n",
       "    <tr>\n",
       "      <th>3</th>\n",
       "      <td>02- Anesthésie-réanimation chirurgicale</td>\n",
       "      <td>04- Alpes-Hte-Provence</td>\n",
       "      <td>nc</td>\n",
       "    </tr>\n",
       "    <tr>\n",
       "      <th>4</th>\n",
       "      <td>02- Anesthésie-réanimation chirurgicale</td>\n",
       "      <td>05- Hautes-Alpes</td>\n",
       "      <td>nc</td>\n",
       "    </tr>\n",
       "  </tbody>\n",
       "</table>\n",
       "</div>"
      ],
      "text/plain": [
       "                                PROFESSION             DEPARTEMENT  \\\n",
       "0  02- Anesthésie-réanimation chirurgicale                 01- Ain   \n",
       "1  02- Anesthésie-réanimation chirurgicale               02- Aisne   \n",
       "2  02- Anesthésie-réanimation chirurgicale              03- Allier   \n",
       "3  02- Anesthésie-réanimation chirurgicale  04- Alpes-Hte-Provence   \n",
       "4  02- Anesthésie-réanimation chirurgicale        05- Hautes-Alpes   \n",
       "\n",
       "  NOMBRE DE DEPASSEMENTS  \n",
       "0                  27995  \n",
       "1                   8150  \n",
       "2                   9479  \n",
       "3                     nc  \n",
       "4                     nc  "
      ]
     },
     "execution_count": 87,
     "metadata": {},
     "output_type": "execute_result"
    }
   ],
   "source": [
    "subDf = df.loc[:, ['PROFESSION', 'DEPARTEMENT', 'NOMBRE DE DEPASSEMENTS']]\n",
    "subDf.replace(to_replace = r'- ', value = r'\\s- ', inplace = True)\n",
    "print subDf.shape\n",
    "subDf.head(5)"
   ]
  },
  {
   "cell_type": "code",
   "execution_count": 88,
   "metadata": {
    "collapsed": false,
    "scrolled": true
   },
   "outputs": [
    {
     "data": {
      "text/html": [
       "<div>\n",
       "<table border=\"1\" class=\"dataframe\">\n",
       "  <thead>\n",
       "    <tr style=\"text-align: right;\">\n",
       "      <th></th>\n",
       "      <th>PROFESSION</th>\n",
       "      <th>DEPARTEMENT</th>\n",
       "      <th>NOMBRE DE DEPASSEMENTS</th>\n",
       "    </tr>\n",
       "  </thead>\n",
       "  <tbody>\n",
       "    <tr>\n",
       "      <th>0</th>\n",
       "      <td>02- Anesthésie-réanimation chirurgicale</td>\n",
       "      <td>01- Ain</td>\n",
       "      <td>27995</td>\n",
       "    </tr>\n",
       "    <tr>\n",
       "      <th>1</th>\n",
       "      <td>02- Anesthésie-réanimation chirurgicale</td>\n",
       "      <td>02- Aisne</td>\n",
       "      <td>8150</td>\n",
       "    </tr>\n",
       "    <tr>\n",
       "      <th>2</th>\n",
       "      <td>02- Anesthésie-réanimation chirurgicale</td>\n",
       "      <td>03- Allier</td>\n",
       "      <td>9479</td>\n",
       "    </tr>\n",
       "    <tr>\n",
       "      <th>3</th>\n",
       "      <td>02- Anesthésie-réanimation chirurgicale</td>\n",
       "      <td>04- Alpes-Hte-Provence</td>\n",
       "      <td>NaN</td>\n",
       "    </tr>\n",
       "    <tr>\n",
       "      <th>4</th>\n",
       "      <td>02- Anesthésie-réanimation chirurgicale</td>\n",
       "      <td>05- Hautes-Alpes</td>\n",
       "      <td>NaN</td>\n",
       "    </tr>\n",
       "  </tbody>\n",
       "</table>\n",
       "</div>"
      ],
      "text/plain": [
       "                                PROFESSION             DEPARTEMENT  \\\n",
       "0  02- Anesthésie-réanimation chirurgicale                 01- Ain   \n",
       "1  02- Anesthésie-réanimation chirurgicale               02- Aisne   \n",
       "2  02- Anesthésie-réanimation chirurgicale              03- Allier   \n",
       "3  02- Anesthésie-réanimation chirurgicale  04- Alpes-Hte-Provence   \n",
       "4  02- Anesthésie-réanimation chirurgicale        05- Hautes-Alpes   \n",
       "\n",
       "   NOMBRE DE DEPASSEMENTS  \n",
       "0                   27995  \n",
       "1                    8150  \n",
       "2                    9479  \n",
       "3                     NaN  \n",
       "4                     NaN  "
      ]
     },
     "execution_count": 88,
     "metadata": {},
     "output_type": "execute_result"
    }
   ],
   "source": [
    "subDf.replace(to_replace = 'nc', value = np.nan, inplace = True)\n",
    "subDf.head(5)"
   ]
  },
  {
   "cell_type": "code",
   "execution_count": 89,
   "metadata": {
    "collapsed": false
   },
   "outputs": [
    {
     "data": {
      "text/html": [
       "<div>\n",
       "<table border=\"1\" class=\"dataframe\">\n",
       "  <thead>\n",
       "    <tr style=\"text-align: right;\">\n",
       "      <th></th>\n",
       "      <th>PROFESSION</th>\n",
       "      <th>DEPARTEMENT</th>\n",
       "      <th>NOMBRE DE DEPASSEMENTS</th>\n",
       "    </tr>\n",
       "  </thead>\n",
       "  <tbody>\n",
       "    <tr>\n",
       "      <th>0</th>\n",
       "      <td>02- Anesthésie-réanimation chirurgicale</td>\n",
       "      <td>01- Ain</td>\n",
       "      <td>27995</td>\n",
       "    </tr>\n",
       "    <tr>\n",
       "      <th>1</th>\n",
       "      <td>02- Anesthésie-réanimation chirurgicale</td>\n",
       "      <td>02- Aisne</td>\n",
       "      <td>8150</td>\n",
       "    </tr>\n",
       "    <tr>\n",
       "      <th>2</th>\n",
       "      <td>02- Anesthésie-réanimation chirurgicale</td>\n",
       "      <td>03- Allier</td>\n",
       "      <td>9479</td>\n",
       "    </tr>\n",
       "    <tr>\n",
       "      <th>5</th>\n",
       "      <td>02- Anesthésie-réanimation chirurgicale</td>\n",
       "      <td>06- Alpes-Maritimes</td>\n",
       "      <td>110114</td>\n",
       "    </tr>\n",
       "    <tr>\n",
       "      <th>6</th>\n",
       "      <td>02- Anesthésie-réanimation chirurgicale</td>\n",
       "      <td>07- Ardèche</td>\n",
       "      <td>12231</td>\n",
       "    </tr>\n",
       "  </tbody>\n",
       "</table>\n",
       "</div>"
      ],
      "text/plain": [
       "                                PROFESSION          DEPARTEMENT  \\\n",
       "0  02- Anesthésie-réanimation chirurgicale              01- Ain   \n",
       "1  02- Anesthésie-réanimation chirurgicale            02- Aisne   \n",
       "2  02- Anesthésie-réanimation chirurgicale           03- Allier   \n",
       "5  02- Anesthésie-réanimation chirurgicale  06- Alpes-Maritimes   \n",
       "6  02- Anesthésie-réanimation chirurgicale          07- Ardèche   \n",
       "\n",
       "   NOMBRE DE DEPASSEMENTS  \n",
       "0                   27995  \n",
       "1                    8150  \n",
       "2                    9479  \n",
       "5                  110114  \n",
       "6                   12231  "
      ]
     },
     "execution_count": 89,
     "metadata": {},
     "output_type": "execute_result"
    }
   ],
   "source": [
    "subDf.dropna(how='any', inplace=True)\n",
    "subDf.head(5)"
   ]
  },
  {
   "cell_type": "code",
   "execution_count": 90,
   "metadata": {
    "collapsed": false
   },
   "outputs": [],
   "source": [
    "subDffilter = subDf[subDf['DEPARTEMENT'].str.contains(r'^TOTAL.*$')== False]\n",
    "subDffilter2 = subDffilter[subDffilter['PROFESSION'].str.contains(r'^TOTAL.*$')== False]\n",
    "subDffilter3 = subDffilter2[subDffilter2['NOMBRE DE DEPASSEMENTS'] != 0]"
   ]
  },
  {
   "cell_type": "code",
   "execution_count": 91,
   "metadata": {
    "collapsed": false
   },
   "outputs": [
    {
     "data": {
      "text/html": [
       "<div>\n",
       "<table border=\"1\" class=\"dataframe\">\n",
       "  <thead>\n",
       "    <tr style=\"text-align: right;\">\n",
       "      <th></th>\n",
       "      <th>PROFESSION</th>\n",
       "      <th>DEPARTEMENT</th>\n",
       "      <th>NOMBRE DE DEPASSEMENTS</th>\n",
       "    </tr>\n",
       "  </thead>\n",
       "  <tbody>\n",
       "    <tr>\n",
       "      <th>0</th>\n",
       "      <td>02- Anesthésie-réanimation chirurgicale</td>\n",
       "      <td>01- Ain</td>\n",
       "      <td>27995</td>\n",
       "    </tr>\n",
       "    <tr>\n",
       "      <th>1</th>\n",
       "      <td>02- Anesthésie-réanimation chirurgicale</td>\n",
       "      <td>02- Aisne</td>\n",
       "      <td>8150</td>\n",
       "    </tr>\n",
       "    <tr>\n",
       "      <th>2</th>\n",
       "      <td>02- Anesthésie-réanimation chirurgicale</td>\n",
       "      <td>03- Allier</td>\n",
       "      <td>9479</td>\n",
       "    </tr>\n",
       "    <tr>\n",
       "      <th>5</th>\n",
       "      <td>02- Anesthésie-réanimation chirurgicale</td>\n",
       "      <td>06- Alpes-Maritimes</td>\n",
       "      <td>110114</td>\n",
       "    </tr>\n",
       "    <tr>\n",
       "      <th>6</th>\n",
       "      <td>02- Anesthésie-réanimation chirurgicale</td>\n",
       "      <td>07- Ardèche</td>\n",
       "      <td>12231</td>\n",
       "    </tr>\n",
       "  </tbody>\n",
       "</table>\n",
       "</div>"
      ],
      "text/plain": [
       "                                PROFESSION          DEPARTEMENT  \\\n",
       "0  02- Anesthésie-réanimation chirurgicale              01- Ain   \n",
       "1  02- Anesthésie-réanimation chirurgicale            02- Aisne   \n",
       "2  02- Anesthésie-réanimation chirurgicale           03- Allier   \n",
       "5  02- Anesthésie-réanimation chirurgicale  06- Alpes-Maritimes   \n",
       "6  02- Anesthésie-réanimation chirurgicale          07- Ardèche   \n",
       "\n",
       "   NOMBRE DE DEPASSEMENTS  \n",
       "0                   27995  \n",
       "1                    8150  \n",
       "2                    9479  \n",
       "5                  110114  \n",
       "6                   12231  "
      ]
     },
     "execution_count": 91,
     "metadata": {},
     "output_type": "execute_result"
    }
   ],
   "source": [
    "subDffilter3.head(5)"
   ]
  },
  {
   "cell_type": "code",
   "execution_count": 92,
   "metadata": {
    "collapsed": false
   },
   "outputs": [
    {
     "data": {
      "text/html": [
       "<div>\n",
       "<table border=\"1\" class=\"dataframe\">\n",
       "  <thead>\n",
       "    <tr style=\"text-align: right;\">\n",
       "      <th></th>\n",
       "      <th></th>\n",
       "      <th>NOMBRE DE DEPASSEMENTS</th>\n",
       "    </tr>\n",
       "    <tr>\n",
       "      <th>DEPARTEMENT</th>\n",
       "      <th>PROFESSION</th>\n",
       "      <th></th>\n",
       "    </tr>\n",
       "  </thead>\n",
       "  <tbody>\n",
       "    <tr>\n",
       "      <th rowspan=\"3\" valign=\"top\">75- Paris (Ville)</th>\n",
       "      <th>26- Masseurs-kinésithérapeutes-rééducateurs</th>\n",
       "      <td>3429673</td>\n",
       "    </tr>\n",
       "    <tr>\n",
       "      <th>01- OMNIPRATICIENS</th>\n",
       "      <td>2727344</td>\n",
       "    </tr>\n",
       "    <tr>\n",
       "      <th>01- Médecine générale</th>\n",
       "      <td>1880437</td>\n",
       "    </tr>\n",
       "    <tr>\n",
       "      <th rowspan=\"2\" valign=\"top\">92- Hauts-de-Seine</th>\n",
       "      <th>26- Masseurs-kinésithérapeutes-rééducateurs</th>\n",
       "      <td>1625487</td>\n",
       "    </tr>\n",
       "    <tr>\n",
       "      <th>01- OMNIPRATICIENS</th>\n",
       "      <td>1518491</td>\n",
       "    </tr>\n",
       "  </tbody>\n",
       "</table>\n",
       "</div>"
      ],
      "text/plain": [
       "                                                                NOMBRE DE DEPASSEMENTS\n",
       "DEPARTEMENT        PROFESSION                                                         \n",
       "75- Paris (Ville)  26- Masseurs-kinésithérapeutes-rééducateurs                 3429673\n",
       "                   01- OMNIPRATICIENS                                          2727344\n",
       "                   01- Médecine générale                                       1880437\n",
       "92- Hauts-de-Seine 26- Masseurs-kinésithérapeutes-rééducateurs                 1625487\n",
       "                   01- OMNIPRATICIENS                                          1518491"
      ]
     },
     "execution_count": 92,
     "metadata": {},
     "output_type": "execute_result"
    }
   ],
   "source": [
    "subDF = subDffilter3.groupby(['DEPARTEMENT', 'PROFESSION'])['NOMBRE DE DEPASSEMENTS'].mean()\n",
    "frame = pd.DataFrame(subDF)\n",
    "frame = frame.sort('NOMBRE DE DEPASSEMENTS', axis=0, ascending=False)\n",
    "frame.head(5)"
   ]
  },
  {
   "cell_type": "code",
   "execution_count": 93,
   "metadata": {
    "collapsed": false
   },
   "outputs": [
    {
     "data": {
      "text/html": [
       "<div>\n",
       "<table border=\"1\" class=\"dataframe\">\n",
       "  <thead>\n",
       "    <tr style=\"text-align: right;\">\n",
       "      <th></th>\n",
       "      <th>NOMBRE DE DEPASSEMENTS</th>\n",
       "    </tr>\n",
       "    <tr>\n",
       "      <th>DEPARTEMENT</th>\n",
       "      <th></th>\n",
       "    </tr>\n",
       "  </thead>\n",
       "  <tbody>\n",
       "    <tr>\n",
       "      <th>75- Paris (Ville)</th>\n",
       "      <td>396389.363636</td>\n",
       "    </tr>\n",
       "    <tr>\n",
       "      <th>92- Hauts-de-Seine</th>\n",
       "      <td>201734.872340</td>\n",
       "    </tr>\n",
       "    <tr>\n",
       "      <th>78- Yvelines</th>\n",
       "      <td>176894.526316</td>\n",
       "    </tr>\n",
       "    <tr>\n",
       "      <th>69- Rhône</th>\n",
       "      <td>153214.065217</td>\n",
       "    </tr>\n",
       "    <tr>\n",
       "      <th>77- Seine-et-Marne</th>\n",
       "      <td>141181.914286</td>\n",
       "    </tr>\n",
       "  </tbody>\n",
       "</table>\n",
       "</div>"
      ],
      "text/plain": [
       "                    NOMBRE DE DEPASSEMENTS\n",
       "DEPARTEMENT                               \n",
       "75- Paris (Ville)            396389.363636\n",
       "92- Hauts-de-Seine           201734.872340\n",
       "78- Yvelines                 176894.526316\n",
       "69- Rhône                    153214.065217\n",
       "77- Seine-et-Marne           141181.914286"
      ]
     },
     "execution_count": 93,
     "metadata": {},
     "output_type": "execute_result"
    }
   ],
   "source": [
    "subDF = subDffilter3.groupby(['DEPARTEMENT'])['NOMBRE DE DEPASSEMENTS'].mean()\n",
    "frame1 = pd.DataFrame(subDF)\n",
    "frame1 = frame1.sort('NOMBRE DE DEPASSEMENTS', axis=0, ascending=False)\n",
    "frame1.head(5)"
   ]
  },
  {
   "cell_type": "code",
   "execution_count": 94,
   "metadata": {
    "collapsed": false
   },
   "outputs": [
    {
     "data": {
      "text/html": [
       "<div>\n",
       "<table border=\"1\" class=\"dataframe\">\n",
       "  <thead>\n",
       "    <tr style=\"text-align: right;\">\n",
       "      <th></th>\n",
       "      <th>NOMBRE DE DEPASSEMENTS</th>\n",
       "    </tr>\n",
       "    <tr>\n",
       "      <th>PROFESSION</th>\n",
       "      <th></th>\n",
       "    </tr>\n",
       "  </thead>\n",
       "  <tbody>\n",
       "    <tr>\n",
       "      <th>01- OMNIPRATICIENS</th>\n",
       "      <td>214487.801980</td>\n",
       "    </tr>\n",
       "    <tr>\n",
       "      <th>15- Ophtalmologie</th>\n",
       "      <td>192657.404762</td>\n",
       "    </tr>\n",
       "    <tr>\n",
       "      <th>38- Médecins biologistes</th>\n",
       "      <td>154563.090000</td>\n",
       "    </tr>\n",
       "    <tr>\n",
       "      <th>19- Chirurgiens-dentistes</th>\n",
       "      <td>154563.090000</td>\n",
       "    </tr>\n",
       "    <tr>\n",
       "      <th>01- Médecine générale</th>\n",
       "      <td>139979.475248</td>\n",
       "    </tr>\n",
       "  </tbody>\n",
       "</table>\n",
       "</div>"
      ],
      "text/plain": [
       "                           NOMBRE DE DEPASSEMENTS\n",
       "PROFESSION                                       \n",
       "01- OMNIPRATICIENS                  214487.801980\n",
       "15- Ophtalmologie                   192657.404762\n",
       "38- Médecins biologistes            154563.090000\n",
       "19- Chirurgiens-dentistes           154563.090000\n",
       "01- Médecine générale               139979.475248"
      ]
     },
     "execution_count": 94,
     "metadata": {},
     "output_type": "execute_result"
    }
   ],
   "source": [
    "subDF = subDffilter3.groupby(['PROFESSION'])['NOMBRE DE DEPASSEMENTS'].mean()\n",
    "frame2 = pd.DataFrame(subDF)\n",
    "frame2 = frame2.sort('NOMBRE DE DEPASSEMENTS', axis=0, ascending=False)\n",
    "frame2.head(5)"
   ]
  },
  {
   "cell_type": "code",
   "execution_count": 95,
   "metadata": {
    "collapsed": false
   },
   "outputs": [
    {
     "data": {
      "text/plain": [
       "<matplotlib.axes._subplots.AxesSubplot at 0x7f0b0b980c90>"
      ]
     },
     "execution_count": 95,
     "metadata": {},
     "output_type": "execute_result"
    },
    {
     "data": {
      "image/png": "[encoded data removed]",
      "text/plain": [
       "<matplotlib.figure.Figure at 0x7f0b09885290>"
      ]
     },
     "metadata": {},
     "output_type": "display_data"
    }
   ],
   "source": [
    "fig, axes = plt.subplots(nrows=2, ncols=2)\n",
    "frame1.head(20).plot(ax=axes[0][0], kind='bar', figsize=(15,10))\n",
    "frame2.head(20).plot(ax=axes[0][1], kind='bar', figsize=(15,10))\n",
    "frame.head(20).plot(ax=axes[1][0], kind='bar', figsize=(15,10))"
   ]
  },
  {
   "cell_type": "markdown",
   "metadata": {},
   "source": [
    "<p>\n",
    "We notice that the number of overtaking is stronger for <b>OMNIPRATCIEN</b> and it is mostly for Paris.\n",
    "</p>"
   ]
  },
  {
   "cell_type": "code",
   "execution_count": 96,
   "metadata": {
    "collapsed": false
   },
   "outputs": [
    {
     "data": {
      "text/html": [
       "<div>\n",
       "<table border=\"1\" class=\"dataframe\">\n",
       "  <thead>\n",
       "    <tr style=\"text-align: right;\">\n",
       "      <th></th>\n",
       "      <th>CODEGEO</th>\n",
       "      <th>DEPARTEMENT</th>\n",
       "      <th>DENSITE DE POPULATION</th>\n",
       "    </tr>\n",
       "  </thead>\n",
       "  <tbody>\n",
       "    <tr>\n",
       "      <th>0</th>\n",
       "      <td>1</td>\n",
       "      <td>01 - Ain</td>\n",
       "      <td>106.24</td>\n",
       "    </tr>\n",
       "    <tr>\n",
       "      <th>1</th>\n",
       "      <td>2</td>\n",
       "      <td>02 - Aisne</td>\n",
       "      <td>73.40</td>\n",
       "    </tr>\n",
       "    <tr>\n",
       "      <th>2</th>\n",
       "      <td>3</td>\n",
       "      <td>03 - Allier</td>\n",
       "      <td>46.72</td>\n",
       "    </tr>\n",
       "    <tr>\n",
       "      <th>3</th>\n",
       "      <td>4</td>\n",
       "      <td>04 - Alpes-de-Haute-Provence</td>\n",
       "      <td>23.28</td>\n",
       "    </tr>\n",
       "    <tr>\n",
       "      <th>4</th>\n",
       "      <td>5</td>\n",
       "      <td>05 - Hautes-Alpes</td>\n",
       "      <td>25.15</td>\n",
       "    </tr>\n",
       "  </tbody>\n",
       "</table>\n",
       "</div>"
      ],
      "text/plain": [
       "  CODEGEO                   DEPARTEMENT  DENSITE DE POPULATION\n",
       "0       1                      01 - Ain                 106.24\n",
       "1       2                    02 - Aisne                  73.40\n",
       "2       3                   03 - Allier                  46.72\n",
       "3       4  04 - Alpes-de-Haute-Provence                  23.28\n",
       "4       5             05 - Hautes-Alpes                  25.15"
      ]
     },
     "execution_count": 96,
     "metadata": {},
     "output_type": "execute_result"
    }
   ],
   "source": [
    "densDf = pd.read_excel('densitePop.xls', skiprows=6, header=0)\n",
    "densDf.columns = ['CODEGEO', 'DEPARTEMENT', 'DENSITE DE POPULATION']\n",
    "densDf.head(5)"
   ]
  },
  {
   "cell_type": "code",
   "execution_count": 97,
   "metadata": {
    "collapsed": false
   },
   "outputs": [
    {
     "data": {
      "text/plain": [
       "(104, 2)"
      ]
     },
     "execution_count": 97,
     "metadata": {},
     "output_type": "execute_result"
    }
   ],
   "source": [
    "subDensDf = densDf.loc[:, ['DEPARTEMENT', 'DENSITE DE POPULATION']]\n",
    "subDensDf.shape"
   ]
  },
  {
   "cell_type": "code",
   "execution_count": 98,
   "metadata": {
    "collapsed": false
   },
   "outputs": [
    {
     "data": {
      "text/plain": [
       "(100, 2)"
      ]
     },
     "execution_count": 98,
     "metadata": {},
     "output_type": "execute_result"
    }
   ],
   "source": [
    "dropDensDf = subDensDf.dropna(how='any')\n",
    "dropDensDf.shape"
   ]
  },
  {
   "cell_type": "code",
   "execution_count": 99,
   "metadata": {
    "collapsed": false
   },
   "outputs": [
    {
     "name": "stderr",
     "output_type": "stream",
     "text": [
      "/cal/softs/anaconda/anaconda-2.0.1/lib/python2.7/site-packages/ipykernel/__main__.py:1: SettingWithCopyWarning: \n",
      "A value is trying to be set on a copy of a slice from a DataFrame.\n",
      "Try using .loc[row_indexer,col_indexer] = value instead\n",
      "\n",
      "See the the caveats in the documentation: http://pandas.pydata.org/pandas-docs/stable/indexing.html#indexing-view-versus-copy\n",
      "  if __name__ == '__main__':\n"
     ]
    }
   ],
   "source": [
    "dropDensDf['DEPARTEMENT'] = dropDensDf['DEPARTEMENT'].str.replace('75- Ville de Paris', '75- Paris (Ville)')"
   ]
  },
  {
   "cell_type": "code",
   "execution_count": 100,
   "metadata": {
    "collapsed": false
   },
   "outputs": [
    {
     "name": "stderr",
     "output_type": "stream",
     "text": [
      "/cal/softs/anaconda/anaconda-2.0.1/lib/python2.7/site-packages/ipykernel/__main__.py:1: SettingWithCopyWarning: \n",
      "A value is trying to be set on a copy of a slice from a DataFrame.\n",
      "Try using .loc[row_indexer,col_indexer] = value instead\n",
      "\n",
      "See the the caveats in the documentation: http://pandas.pydata.org/pandas-docs/stable/indexing.html#indexing-view-versus-copy\n",
      "  if __name__ == '__main__':\n"
     ]
    },
    {
     "data": {
      "text/html": [
       "<div>\n",
       "<table border=\"1\" class=\"dataframe\">\n",
       "  <thead>\n",
       "    <tr style=\"text-align: right;\">\n",
       "      <th></th>\n",
       "      <th>DEPARTEMENT</th>\n",
       "      <th>DENSITE DE POPULATION</th>\n",
       "    </tr>\n",
       "  </thead>\n",
       "  <tbody>\n",
       "    <tr>\n",
       "      <th>0</th>\n",
       "      <td>01- Ain</td>\n",
       "      <td>106.24</td>\n",
       "    </tr>\n",
       "    <tr>\n",
       "      <th>1</th>\n",
       "      <td>02- Aisne</td>\n",
       "      <td>73.40</td>\n",
       "    </tr>\n",
       "    <tr>\n",
       "      <th>2</th>\n",
       "      <td>03- Allier</td>\n",
       "      <td>46.72</td>\n",
       "    </tr>\n",
       "    <tr>\n",
       "      <th>3</th>\n",
       "      <td>04- Alpes-de-Haute-Provence</td>\n",
       "      <td>23.28</td>\n",
       "    </tr>\n",
       "    <tr>\n",
       "      <th>4</th>\n",
       "      <td>05- Hautes-Alpes</td>\n",
       "      <td>25.15</td>\n",
       "    </tr>\n",
       "  </tbody>\n",
       "</table>\n",
       "</div>"
      ],
      "text/plain": [
       "                   DEPARTEMENT  DENSITE DE POPULATION\n",
       "0                      01- Ain                 106.24\n",
       "1                    02- Aisne                  73.40\n",
       "2                   03- Allier                  46.72\n",
       "3  04- Alpes-de-Haute-Provence                  23.28\n",
       "4             05- Hautes-Alpes                  25.15"
      ]
     },
     "execution_count": 100,
     "metadata": {},
     "output_type": "execute_result"
    }
   ],
   "source": [
    "dropDensDf['DEPARTEMENT'] = dropDensDf['DEPARTEMENT'].str.replace(' - ', '- ')\n",
    "dropDensDf.head(5)"
   ]
  },
  {
   "cell_type": "code",
   "execution_count": 109,
   "metadata": {
    "collapsed": false
   },
   "outputs": [
    {
     "data": {
      "text/html": [
       "<div>\n",
       "<table border=\"1\" class=\"dataframe\">\n",
       "  <thead>\n",
       "    <tr style=\"text-align: right;\">\n",
       "      <th></th>\n",
       "      <th>PROFESSION</th>\n",
       "      <th>DEPARTEMENT</th>\n",
       "      <th>NOMBRE DE DEPASSEMENTS</th>\n",
       "      <th>DENSITE DE POPULATION</th>\n",
       "    </tr>\n",
       "  </thead>\n",
       "  <tbody>\n",
       "    <tr>\n",
       "      <th>0</th>\n",
       "      <td>02- Anesthésie-réanimation chirurgicale</td>\n",
       "      <td>01- Ain</td>\n",
       "      <td>27995</td>\n",
       "      <td>106.24</td>\n",
       "    </tr>\n",
       "    <tr>\n",
       "      <th>1</th>\n",
       "      <td>02- Anesthésie-réanimation chirurgicale</td>\n",
       "      <td>02- Aisne</td>\n",
       "      <td>8150</td>\n",
       "      <td>73.40</td>\n",
       "    </tr>\n",
       "    <tr>\n",
       "      <th>2</th>\n",
       "      <td>02- Anesthésie-réanimation chirurgicale</td>\n",
       "      <td>03- Allier</td>\n",
       "      <td>9479</td>\n",
       "      <td>46.72</td>\n",
       "    </tr>\n",
       "    <tr>\n",
       "      <th>3</th>\n",
       "      <td>02- Anesthésie-réanimation chirurgicale</td>\n",
       "      <td>06- Alpes-Maritimes</td>\n",
       "      <td>110114</td>\n",
       "      <td>251.71</td>\n",
       "    </tr>\n",
       "    <tr>\n",
       "      <th>4</th>\n",
       "      <td>02- Anesthésie-réanimation chirurgicale</td>\n",
       "      <td>07- Ardèche</td>\n",
       "      <td>12231</td>\n",
       "      <td>57.59</td>\n",
       "    </tr>\n",
       "  </tbody>\n",
       "</table>\n",
       "</div>"
      ],
      "text/plain": [
       "                                PROFESSION          DEPARTEMENT  \\\n",
       "0  02- Anesthésie-réanimation chirurgicale              01- Ain   \n",
       "1  02- Anesthésie-réanimation chirurgicale            02- Aisne   \n",
       "2  02- Anesthésie-réanimation chirurgicale           03- Allier   \n",
       "3  02- Anesthésie-réanimation chirurgicale  06- Alpes-Maritimes   \n",
       "4  02- Anesthésie-réanimation chirurgicale          07- Ardèche   \n",
       "\n",
       "   NOMBRE DE DEPASSEMENTS  DENSITE DE POPULATION  \n",
       "0                   27995                 106.24  \n",
       "1                    8150                  73.40  \n",
       "2                    9479                  46.72  \n",
       "3                  110114                 251.71  \n",
       "4                   12231                  57.59  "
      ]
     },
     "execution_count": 109,
     "metadata": {},
     "output_type": "execute_result"
    }
   ],
   "source": [
    "newResult = pd.merge(subDffilter3, dropDensDf, on=['DEPARTEMENT'], how='left')\n",
    "newResult.dropna(how='any')\n",
    "# newResult = newResult.sort('DENSITE DE POPULATION', axis=0, ascending=False)\n",
    "newResult.head(5)"
   ]
  },
  {
   "cell_type": "code",
   "execution_count": 108,
   "metadata": {
    "collapsed": true
   },
   "outputs": [],
   "source": [
    "t = newResult.groupby(['DEPARTEMENT'])['DENSITE DE POPULATION', 'NOMBRE DE DEPASSEMENTS'].mean()"
   ]
  },
  {
   "cell_type": "code",
   "execution_count": 103,
   "metadata": {
    "collapsed": false
   },
   "outputs": [
    {
     "data": {
      "text/html": [
       "<div>\n",
       "<table border=\"1\" class=\"dataframe\">\n",
       "  <thead>\n",
       "    <tr style=\"text-align: right;\">\n",
       "      <th></th>\n",
       "      <th>DENSITE DE POPULATION</th>\n",
       "      <th>NOMBRE DE DEPASSEMENTS</th>\n",
       "    </tr>\n",
       "    <tr>\n",
       "      <th>DEPARTEMENT</th>\n",
       "      <th></th>\n",
       "      <th></th>\n",
       "    </tr>\n",
       "  </thead>\n",
       "  <tbody>\n",
       "    <tr>\n",
       "      <th>01- Ain</th>\n",
       "      <td>106.24</td>\n",
       "      <td>34656.000000</td>\n",
       "    </tr>\n",
       "    <tr>\n",
       "      <th>02- Aisne</th>\n",
       "      <td>73.40</td>\n",
       "      <td>29326.888889</td>\n",
       "    </tr>\n",
       "    <tr>\n",
       "      <th>03- Allier</th>\n",
       "      <td>46.72</td>\n",
       "      <td>20025.681818</td>\n",
       "    </tr>\n",
       "    <tr>\n",
       "      <th>04- Alpes-Hte-Provence</th>\n",
       "      <td>NaN</td>\n",
       "      <td>14685.583333</td>\n",
       "    </tr>\n",
       "    <tr>\n",
       "      <th>05- Hautes-Alpes</th>\n",
       "      <td>25.15</td>\n",
       "      <td>16665.200000</td>\n",
       "    </tr>\n",
       "  </tbody>\n",
       "</table>\n",
       "</div>"
      ],
      "text/plain": [
       "                        DENSITE DE POPULATION  NOMBRE DE DEPASSEMENTS\n",
       "DEPARTEMENT                                                          \n",
       "01- Ain                                106.24            34656.000000\n",
       "02- Aisne                               73.40            29326.888889\n",
       "03- Allier                              46.72            20025.681818\n",
       "04- Alpes-Hte-Provence                    NaN            14685.583333\n",
       "05- Hautes-Alpes                        25.15            16665.200000"
      ]
     },
     "execution_count": 103,
     "metadata": {},
     "output_type": "execute_result"
    }
   ],
   "source": [
    "pd.DataFrame(t).head(5)"
   ]
  },
  {
   "cell_type": "code",
   "execution_count": 104,
   "metadata": {
    "collapsed": false
   },
   "outputs": [
    {
     "data": {
      "text/html": [
       "<div>\n",
       "<table border=\"1\" class=\"dataframe\">\n",
       "  <thead>\n",
       "    <tr style=\"text-align: right;\">\n",
       "      <th></th>\n",
       "      <th>DENSITE DE POPULATION</th>\n",
       "      <th>NOMBRE DE DEPASSEMENTS</th>\n",
       "    </tr>\n",
       "    <tr>\n",
       "      <th>DEPARTEMENT</th>\n",
       "      <th></th>\n",
       "      <th></th>\n",
       "    </tr>\n",
       "  </thead>\n",
       "  <tbody>\n",
       "    <tr>\n",
       "      <th>92- Hauts-de-Seine</th>\n",
       "      <td>9033.85</td>\n",
       "      <td>201734.872340</td>\n",
       "    </tr>\n",
       "    <tr>\n",
       "      <th>94- Val-de-Marne</th>\n",
       "      <td>5476.19</td>\n",
       "      <td>130962.135135</td>\n",
       "    </tr>\n",
       "    <tr>\n",
       "      <th>95- Val-d'Oise</th>\n",
       "      <td>952.78</td>\n",
       "      <td>100388.675676</td>\n",
       "    </tr>\n",
       "    <tr>\n",
       "      <th>91- Essonne</th>\n",
       "      <td>685.83</td>\n",
       "      <td>122890.138889</td>\n",
       "    </tr>\n",
       "    <tr>\n",
       "      <th>78- Yvelines</th>\n",
       "      <td>618.25</td>\n",
       "      <td>176894.526316</td>\n",
       "    </tr>\n",
       "  </tbody>\n",
       "</table>\n",
       "</div>"
      ],
      "text/plain": [
       "                    DENSITE DE POPULATION  NOMBRE DE DEPASSEMENTS\n",
       "DEPARTEMENT                                                      \n",
       "92- Hauts-de-Seine                9033.85           201734.872340\n",
       "94- Val-de-Marne                  5476.19           130962.135135\n",
       "95- Val-d'Oise                     952.78           100388.675676\n",
       "91- Essonne                        685.83           122890.138889\n",
       "78- Yvelines                       618.25           176894.526316"
      ]
     },
     "execution_count": 104,
     "metadata": {},
     "output_type": "execute_result"
    }
   ],
   "source": [
    "frame3 = pd.DataFrame(t)\n",
    "frame3 = frame3.sort('DENSITE DE POPULATION', axis=0, ascending=False)\n",
    "frame3.head(5)"
   ]
  },
  {
   "cell_type": "code",
   "execution_count": 105,
   "metadata": {
    "collapsed": false
   },
   "outputs": [
    {
     "data": {
      "text/html": [
       "<div>\n",
       "<table border=\"1\" class=\"dataframe\">\n",
       "  <thead>\n",
       "    <tr style=\"text-align: right;\">\n",
       "      <th></th>\n",
       "      <th>DENSITE DE POPULATION</th>\n",
       "      <th>NOMBRE DE DEPASSEMENTS</th>\n",
       "    </tr>\n",
       "    <tr>\n",
       "      <th>DEPARTEMENT</th>\n",
       "      <th></th>\n",
       "      <th></th>\n",
       "    </tr>\n",
       "  </thead>\n",
       "  <tbody>\n",
       "    <tr>\n",
       "      <th>75- Paris (Ville)</th>\n",
       "      <td>NaN</td>\n",
       "      <td>396389.363636</td>\n",
       "    </tr>\n",
       "    <tr>\n",
       "      <th>92- Hauts-de-Seine</th>\n",
       "      <td>9033.85</td>\n",
       "      <td>201734.872340</td>\n",
       "    </tr>\n",
       "    <tr>\n",
       "      <th>78- Yvelines</th>\n",
       "      <td>618.25</td>\n",
       "      <td>176894.526316</td>\n",
       "    </tr>\n",
       "    <tr>\n",
       "      <th>69- Rhône</th>\n",
       "      <td>542.57</td>\n",
       "      <td>153214.065217</td>\n",
       "    </tr>\n",
       "    <tr>\n",
       "      <th>77- Seine-et-Marne</th>\n",
       "      <td>228.89</td>\n",
       "      <td>141181.914286</td>\n",
       "    </tr>\n",
       "  </tbody>\n",
       "</table>\n",
       "</div>"
      ],
      "text/plain": [
       "                    DENSITE DE POPULATION  NOMBRE DE DEPASSEMENTS\n",
       "DEPARTEMENT                                                      \n",
       "75- Paris (Ville)                     NaN           396389.363636\n",
       "92- Hauts-de-Seine                9033.85           201734.872340\n",
       "78- Yvelines                       618.25           176894.526316\n",
       "69- Rhône                          542.57           153214.065217\n",
       "77- Seine-et-Marne                 228.89           141181.914286"
      ]
     },
     "execution_count": 105,
     "metadata": {},
     "output_type": "execute_result"
    }
   ],
   "source": [
    "frame3 = pd.DataFrame(t)\n",
    "frame3 = frame3.sort('NOMBRE DE DEPASSEMENTS', axis=0, ascending=False)\n",
    "frame3.head(5)"
   ]
  },
  {
   "cell_type": "code",
   "execution_count": null,
   "metadata": {
    "collapsed": true
   },
   "outputs": [],
   "source": []
  },
  {
   "cell_type": "code",
   "execution_count": null,
   "metadata": {
    "collapsed": true
   },
   "outputs": [],
   "source": []
  },
  {
   "cell_type": "code",
   "execution_count": 106,
   "metadata": {
    "collapsed": false
   },
   "outputs": [
    {
     "data": {
      "text/html": [
       "<div>\n",
       "<table border=\"1\" class=\"dataframe\">\n",
       "  <thead>\n",
       "    <tr style=\"text-align: right;\">\n",
       "      <th></th>\n",
       "      <th>NOMBRE DE DEPASSEMENTS</th>\n",
       "    </tr>\n",
       "    <tr>\n",
       "      <th>DEPARTEMENT</th>\n",
       "      <th></th>\n",
       "    </tr>\n",
       "  </thead>\n",
       "  <tbody>\n",
       "    <tr>\n",
       "      <th>75- Paris (Ville)</th>\n",
       "      <td>396389.363636</td>\n",
       "    </tr>\n",
       "    <tr>\n",
       "      <th>92- Hauts-de-Seine</th>\n",
       "      <td>201734.872340</td>\n",
       "    </tr>\n",
       "    <tr>\n",
       "      <th>78- Yvelines</th>\n",
       "      <td>176894.526316</td>\n",
       "    </tr>\n",
       "    <tr>\n",
       "      <th>69- Rhône</th>\n",
       "      <td>153214.065217</td>\n",
       "    </tr>\n",
       "    <tr>\n",
       "      <th>77- Seine-et-Marne</th>\n",
       "      <td>141181.914286</td>\n",
       "    </tr>\n",
       "  </tbody>\n",
       "</table>\n",
       "</div>"
      ],
      "text/plain": [
       "                    NOMBRE DE DEPASSEMENTS\n",
       "DEPARTEMENT                               \n",
       "75- Paris (Ville)            396389.363636\n",
       "92- Hauts-de-Seine           201734.872340\n",
       "78- Yvelines                 176894.526316\n",
       "69- Rhône                    153214.065217\n",
       "77- Seine-et-Marne           141181.914286"
      ]
     },
     "execution_count": 106,
     "metadata": {},
     "output_type": "execute_result"
    }
   ],
   "source": [
    "t = newResult.groupby(['DEPARTEMENT'])['NOMBRE DE DEPASSEMENTS'].mean()\n",
    "frame3 = pd.DataFrame(t)\n",
    "frame3 = frame3.sort('NOMBRE DE DEPASSEMENTS', axis=0, ascending=False)\n",
    "frame3.head(5)"
   ]
  },
  {
   "cell_type": "code",
   "execution_count": 107,
   "metadata": {
    "collapsed": false
   },
   "outputs": [
    {
     "data": {
      "text/plain": [
       "<matplotlib.axes._subplots.AxesSubplot at 0x7f0b08bf1e50>"
      ]
     },
     "execution_count": 107,
     "metadata": {},
     "output_type": "execute_result"
    },
    {
     "data": {
      "image/png": "[encoded data removed]",
      "text/plain": [
       "<matplotlib.figure.Figure at 0x7f0b09014110>"
      ]
     },
     "metadata": {},
     "output_type": "display_data"
    }
   ],
   "source": [
    "frame3.head(20).plot(kind='bar', figsize=(12,7))"
   ]
  },
  {
   "cell_type": "markdown",
   "metadata": {},
   "source": [
    "<p>\n",
    "Il manque une donnée importante celle de Paris concernant la densité de population.<br\\>\n",
    "Ce qui fausse grandement nos résultats finaux.\n",
    "</p>"
   ]
  }
 ],
 "metadata": {
  "kernelspec": {
   "display_name": "Python 2",
   "language": "python",
   "name": "python2"
  },
  "language_info": {
   "codemirror_mode": {
    "name": "ipython",
    "version": 2
   },
   "file_extension": ".py",
   "mimetype": "text/x-python",
   "name": "python",
   "nbconvert_exporter": "python",
   "pygments_lexer": "ipython2",
   "version": "2.7.10"
  }
 },
 "nbformat": 4,
 "nbformat_minor": 0
}
