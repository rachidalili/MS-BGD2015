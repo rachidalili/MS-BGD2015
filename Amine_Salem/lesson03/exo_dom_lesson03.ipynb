{
 "metadata": {
  "name": "",
  "signature": "sha256:a43be9636a9fda64fc777bcffbbc70b1cb404c249a198da003b0f335854fc0a0"
 },
 "nbformat": 3,
 "nbformat_minor": 0,
 "worksheets": [
  {
   "cells": [
    {
     "cell_type": "code",
     "collapsed": false,
     "input": [
      "import requests\n",
      "import pandas as pd\n",
      "from bs4 import BeautifulSoup\n",
      "token_ = '56d5c2991ee73fc1824a83337a05cc37f7809677'\n"
     ],
     "language": "python",
     "metadata": {},
     "outputs": [],
     "prompt_number": 13
    },
    {
     "cell_type": "code",
     "collapsed": false,
     "input": [
      "def get_soup_for_page(url_base):\n",
      "    page = requests.get(url_base)\n",
      "    soup = BeautifulSoup(page.text, 'html.parser')\n",
      "    return soup"
     ],
     "language": "python",
     "metadata": {},
     "outputs": [],
     "prompt_number": 2
    },
    {
     "cell_type": "code",
     "collapsed": false,
     "input": [
      "# -*- coding: utf-8 -*-\n",
      "\"\"\"\n",
      "Created on Wed Oct 28 19:25:15 2015\n",
      "\n",
      "@author: msalem\n",
      "\"\"\"\n",
      "\n",
      "import requests\n",
      "import json\n",
      "import urllib2, base64\n",
      "\n",
      "token = '56d5c2991ee73fc1824a83337a05cc37f7809677'\n",
      "user = 'masalem'\n",
      "url = 'https://api.github.com/'\n",
      "\n",
      "headers = {'Authorization':'token %s' % token , 'content-type': 'application/json'}\n",
      "payload = {'paulmillr': '2657075'}\n",
      "payload2 = {'callback':'foo'}\n",
      "\n",
      "r = requests.get(url, headers=headers)\n",
      "text = r.text\n",
      "\n",
      "print text\n",
      "\n",
      "\n",
      "\n",
      "#gists_url = https://api.github.com/gists{/gist_id}\n",
      "\n",
      "print \"++++++++++++++++++++++++++++++++++++++++\"\n",
      "\n"
     ],
     "language": "python",
     "metadata": {},
     "outputs": [
      {
       "output_type": "stream",
       "stream": "stdout",
       "text": [
        "{\"current_user_url\":\"https://api.github.com/user\",\"current_user_authorizations_html_url\":\"https://github.com/settings/connections/applications{/client_id}\",\"authorizations_url\":\"https://api.github.com/authorizations\",\"code_search_url\":\"https://api.github.com/search/code?q={query}{&page,per_page,sort,order}\",\"emails_url\":\"https://api.github.com/user/emails\",\"emojis_url\":\"https://api.github.com/emojis\",\"events_url\":\"https://api.github.com/events\",\"feeds_url\":\"https://api.github.com/feeds\",\"followers_url\":\"https://api.github.com/user/followers\",\"following_url\":\"https://api.github.com/user/following{/target}\",\"gists_url\":\"https://api.github.com/gists{/gist_id}\",\"hub_url\":\"https://api.github.com/hub\",\"issue_search_url\":\"https://api.github.com/search/issues?q={query}{&page,per_page,sort,order}\",\"issues_url\":\"https://api.github.com/issues\",\"keys_url\":\"https://api.github.com/user/keys\",\"notifications_url\":\"https://api.github.com/notifications\",\"organization_repositories_url\":\"https://api.github.com/orgs/{org}/repos{?type,page,per_page,sort}\",\"organization_url\":\"https://api.github.com/orgs/{org}\",\"public_gists_url\":\"https://api.github.com/gists/public\",\"rate_limit_url\":\"https://api.github.com/rate_limit\",\"repository_url\":\"https://api.github.com/repos/{owner}/{repo}\",\"repository_search_url\":\"https://api.github.com/search/repositories?q={query}{&page,per_page,sort,order}\",\"current_user_repositories_url\":\"https://api.github.com/user/repos{?type,page,per_page,sort}\",\"starred_url\":\"https://api.github.com/user/starred{/owner}{/repo}\",\"starred_gists_url\":\"https://api.github.com/gists/starred\",\"team_url\":\"https://api.github.com/teams\",\"user_url\":\"https://api.github.com/users/{user}\",\"user_organizations_url\":\"https://api.github.com/user/orgs\",\"user_repositories_url\":\"https://api.github.com/users/{user}/repos{?type,page,per_page,sort}\",\"user_search_url\":\"https://api.github.com/search/users?q={query}{&page,per_page,sort,order}\"}\n",
        "++++++++++++++++++++++++++++++++++++++++\n"
       ]
      }
     ],
     "prompt_number": 4
    },
    {
     "cell_type": "code",
     "collapsed": false,
     "input": [
      "\n",
      "# -*- coding: utf-8 -*-\n",
      "\"\"\"\n",
      "Created on Wed Oct 28 19:25:15 2015\n",
      "\n",
      "@author: msalem\n",
      "\"\"\"\n",
      "\n",
      "\n",
      "import requests\n",
      "import pandas as pd\n",
      "from bs4 import BeautifulSoup\n",
      "\n",
      "def get_soup_for_page(url_base):\n",
      "    page = requests.get(url_base)\n",
      "    soup = BeautifulSoup(page.text, 'html.parser')\n",
      "    return soup\n",
      "    \n",
      "    \n",
      "\n",
      "\n",
      "URL = 'https://gist.github.com/paulmillr/2657075'\n",
      "soup = get_soup_for_page(URL)\n",
      "\n",
      "tables = soup.find_all('table', {\"cellspacing\":\"0\"})\n",
      "lines = tables[0].select('tbody > tr')\n",
      "\n",
      "logins = []\n",
      "for idx in range (0, 256):\n",
      "    login = lines[idx].find_all('a')\n",
      "    logins.append(login[0].text)\n",
      "    print logins[idx]\n",
      "\n"
     ],
     "language": "python",
     "metadata": {},
     "outputs": [
      {
       "output_type": "stream",
       "stream": "stdout",
       "text": [
        "Ocramius\n",
        "taylorotwell\n",
        "GrahamCampbell\n",
        "brianchandotcom\n",
        "michalbe\n",
        "fabpot\n",
        "bevacqua\n",
        "kevinsawicki\n",
        "ornicar\n",
        "sebmck\n",
        "rkh\n",
        "KrauseFx\n",
        "mrmrs\n",
        "hadley\n",
        "springmeyer\n",
        "c9s\n",
        "mattdesl\n",
        "robrix\n",
        "stefanpenner\n",
        "feross\n",
        "rstacruz\n",
        "michaelklishin\n",
        "dcramer\n",
        "ebidel\n",
        "jgm\n",
        "phodal\n",
        "tmcw\n",
        "cvrebert\n",
        "Raynos\n",
        "mikermcneil\n",
        "jdalton\n",
        "mitchellh\n",
        "josevalim\n",
        "JedWatson\n",
        "markstory\n",
        "gorhill\n",
        "steveklabnik\n",
        "zcbenz\n",
        "addyosmani\n",
        "gaearon\n",
        "mafintosh\n",
        "ai\n",
        "SamyPesse\n",
        "ChenYilong\n",
        "kevva\n",
        "substack\n",
        "jamesward\n",
        "jspahrsummers\n",
        "josegonzalez\n",
        "orta\n",
        "benbalter\n",
        "ddollar\n",
        "pippinsplugins\n",
        "JakeWharton\n",
        "yihui\n",
        "ericholscher\n",
        "ekmett\n",
        "yiminghe\n",
        "evancz\n",
        "3rd-Eden\n",
        "nathansobo\n",
        "webmozart\n",
        "mcollina\n",
        "sferik\n",
        "frsyuki\n",
        "alex\n",
        "kartik-v\n",
        "swannodette\n",
        "dominictarr\n",
        "kylef\n",
        "maxogden\n",
        "leafo\n",
        "r7kamura\n",
        "creationix\n",
        "EisenbergEffect\n",
        "afollestad\n",
        "indutny\n",
        "josh\n",
        "ashfurrow\n",
        "HugoGiraudel\n",
        "weaverryan\n",
        "rxin\n",
        "jedisct1\n",
        "kazuho\n",
        "kytrinyx\n",
        "mgechev\n",
        "fsouza\n",
        "happypeter\n",
        "soumith\n",
        "clowwindy\n",
        "zenorocha\n",
        "rdegges\n",
        "rafaelfranca\n",
        "drnic\n",
        "gdi2290\n",
        "staltz\n",
        "purcell\n",
        "madskristensen\n",
        "rwaldron\n",
        "chrisdone\n",
        "jfrazelle\n",
        "leebyron\n",
        "derickr\n",
        "mikepenz\n",
        "chjj\n",
        "parkr\n",
        "kohsuke\n",
        "armon\n",
        "RubyLouvre\n",
        "mikolalysenko\n",
        "torvalds\n",
        "arunoda\n",
        "bbatsov\n",
        "stof\n",
        "matthewmccullough\n",
        "yyx990803\n",
        "Unknwon\n",
        "willdurand\n",
        "tenderlove\n",
        "tqchen\n",
        "kana\n",
        "nzakas\n",
        "graydon\n",
        "zilongshanren\n",
        "mattn\n",
        "remy\n",
        "ayende\n",
        "lihaoyi\n",
        "chneukirchen\n",
        "johnpapa\n",
        "samdark\n",
        "domenic\n",
        "paulcbetts\n",
        "bergie\n",
        "indirect\n",
        "schacon\n",
        "davecheney\n",
        "kripken\n",
        "appleboy\n",
        "jlord\n",
        "alloy\n",
        "vladikoff\n",
        "hueniverse\n",
        "STRd6\n",
        "SamSaffron\n",
        "luin\n",
        "tokuhirom\n",
        "michael\n",
        "TooTallNate\n",
        "PaulKinlan\n",
        "kriskowal\n",
        "karan\n",
        "numbbbbb\n",
        "passy\n",
        "marijnh\n",
        "audreyt\n",
        "aFarkas\n",
        "rvagg\n",
        "apotonick\n",
        "svenfuchs\n",
        "mjackson\n",
        "arturoc\n",
        "maryrosecook\n",
        "mrdoob\n",
        "jonathanong\n",
        "mbostock\n",
        "prakhar1989\n",
        "mourner\n",
        "balupton\n",
        "headius\n",
        "jessesquires\n",
        "swankjesse\n",
        "sahat\n",
        "nex3\n",
        "simurai\n",
        "zpao\n",
        "tomchristie\n",
        "fzaninotto\n",
        "bdarnell\n",
        "amueller\n",
        "shiffman\n",
        "darwin\n",
        "davidfowl\n",
        "junegunn\n",
        "gitster\n",
        "mathiasbynens\n",
        "olivergierke\n",
        "matyhtf\n",
        "mdo\n",
        "desandro\n",
        "photonstorm\n",
        "sebastianbergmann\n",
        "matthewmueller\n",
        "bradfitz\n",
        "weavejester\n",
        "fengmk2\n",
        "stephenplusplus\n",
        "aslakhellesoy\n",
        "arun-gupta\n",
        "alanhamlett\n",
        "STRML\n",
        "imathis\n",
        "tbranyen\n",
        "isaacs\n",
        "Shougo\n",
        "ibdknox\n",
        "pedrovgs\n",
        "kelseyhightower\n",
        "jakevdp\n",
        "munificent\n",
        "andrew\n",
        "contra\n",
        "mitsuhiko\n",
        "wbond\n",
        "ahmetalpbalkan\n",
        "jezdez\n",
        "hughsk\n",
        "CharlinFeng\n",
        "fatih\n",
        "DataTables\n",
        "rsc\n",
        "timoxley\n",
        "odersky\n",
        "shama\n",
        "pydanny\n",
        "technoweenie\n",
        "muan\n",
        "jordansissel\n",
        "sorah\n",
        "freddix\n",
        "sokra\n",
        "ianb\n",
        "andreamazz\n",
        "antirez\n",
        "soyjavi\n",
        "Seldaek\n",
        "akrabat\n",
        "aaronpk\n",
        "mnot\n",
        "michaelliao\n",
        "bboyfeiyu\n",
        "sole\n",
        "lepture\n",
        "robdodson\n",
        "soimort\n",
        "mgcrea\n",
        "tommy351\n",
        "barryvdh\n",
        "jiyinyiyong\n",
        "justintadlock\n",
        "HenrikJoreteg\n",
        "Trinea\n",
        "caitp\n",
        "philipwalton\n",
        "laruence\n",
        "spicyj\n"
       ]
      }
     ],
     "prompt_number": 5
    },
    {
     "cell_type": "code",
     "collapsed": true,
     "input": [
      "def get_all_projects_for_user(user, token = token_):\n",
      "    url_with_user = 'https://api.github.com/users/'+ user + '/repos'\n",
      "\n",
      "    headers = {'Authorization':'token %s' % token , 'content-type': 'application/json'}\n",
      "    payload2 = {'callback':'foo'}\n",
      "\n",
      "    r = requests.get(url_with_user, headers=headers)\n",
      "    #print r.url\n",
      "    return r.json()"
     ],
     "language": "python",
     "metadata": {},
     "outputs": [],
     "prompt_number": 31
    },
    {
     "cell_type": "code",
     "collapsed": false,
     "input": [
      "def get_project_stars_count(json):\n",
      "    return json['stargazers_count']"
     ],
     "language": "python",
     "metadata": {},
     "outputs": [],
     "prompt_number": 39
    },
    {
     "cell_type": "code",
     "collapsed": false,
     "input": [],
     "language": "python",
     "metadata": {},
     "outputs": []
    },
    {
     "cell_type": "code",
     "collapsed": false,
     "input": [
      "def get_mean_score_for_user(user):\n",
      "    projects_of_fabpot = get_all_projects_for_user(user)\n",
      "    number_of_projects = len(projects_of_fabpot)\n",
      "    total_stars = 0\n",
      "    for counter in range(0, number_of_projects):\n",
      "        total_stars = total_stars + get_project_stars_count(projects_of_fabpot[counter])\n",
      "    score = total_stars / number_of_projects\n",
      "    print \"score moyen pour \" + user + \": \" + str(score) + \" (\" + str(number_of_projects)+ \" projects)\"\n",
      "    return score"
     ],
     "language": "python",
     "metadata": {},
     "outputs": [],
     "prompt_number": 52
    },
    {
     "cell_type": "code",
     "collapsed": false,
     "input": [
      "ranking = []\n",
      "for user in logins:\n",
      "    ranking.append([user, get_mean_score_for_user(user)])"
     ],
     "language": "python",
     "metadata": {},
     "outputs": [
      {
       "output_type": "stream",
       "stream": "stdout",
       "text": [
        "score moyen pour Ocramius: 4 (30 projects)\n",
        "score moyen pour taylorotwell: 4 (2 projects)"
       ]
      },
      {
       "output_type": "stream",
       "stream": "stdout",
       "text": [
        "\n",
        "score moyen pour GrahamCampbell: 60 (21 projects)"
       ]
      },
      {
       "output_type": "stream",
       "stream": "stdout",
       "text": [
        "\n",
        "score moyen pour brianchandotcom: 7 (7 projects)"
       ]
      },
      {
       "output_type": "stream",
       "stream": "stdout",
       "text": [
        "\n",
        "score moyen pour michalbe: 4 (30 projects)"
       ]
      },
      {
       "output_type": "stream",
       "stream": "stdout",
       "text": [
        "\n",
        "score moyen pour fabpot: 43 (26 projects)"
       ]
      },
      {
       "output_type": "stream",
       "stream": "stdout",
       "text": [
        "\n",
        "score moyen pour bevacqua: 21 (30 projects)"
       ]
      },
      {
       "output_type": "stream",
       "stream": "stdout",
       "text": [
        "\n",
        "score moyen pour kevinsawicki: 5 (30 projects)"
       ]
      },
      {
       "output_type": "stream",
       "stream": "stdout",
       "text": [
        "\n",
        "score moyen pour ornicar: 7 (30 projects)"
       ]
      },
      {
       "output_type": "stream",
       "stream": "stdout",
       "text": [
        "\n",
        "score moyen pour sebmck: 1 (30 projects)"
       ]
      },
      {
       "output_type": "stream",
       "stream": "stdout",
       "text": [
        "\n",
        "score moyen pour rkh: 28 (30 projects)"
       ]
      },
      {
       "output_type": "stream",
       "stream": "stdout",
       "text": [
        "\n",
        "score moyen pour KrauseFx: 309 (13 projects)"
       ]
      },
      {
       "output_type": "stream",
       "stream": "stdout",
       "text": [
        "\n",
        "score moyen pour mrmrs: 218 (30 projects)"
       ]
      },
      {
       "output_type": "stream",
       "stream": "stdout",
       "text": [
        "\n",
        "score moyen pour hadley: 44 (30 projects)"
       ]
      },
      {
       "output_type": "stream",
       "stream": "stdout",
       "text": [
        "\n",
        "score moyen pour springmeyer: 9 (30 projects)"
       ]
      },
      {
       "output_type": "stream",
       "stream": "stdout",
       "text": [
        "\n",
        "score moyen pour c9s: 14 (30 projects)"
       ]
      },
      {
       "output_type": "stream",
       "stream": "stdout",
       "text": [
        "\n",
        "score moyen pour mattdesl: 2 (30 projects)"
       ]
      },
      {
       "output_type": "stream",
       "stream": "stdout",
       "text": [
        "\n",
        "score moyen pour robrix: 16 (30 projects)"
       ]
      },
      {
       "output_type": "stream",
       "stream": "stdout",
       "text": [
        "\n",
        "score moyen pour stefanpenner: 0 (30 projects)"
       ]
      },
      {
       "output_type": "stream",
       "stream": "stdout",
       "text": [
        "\n",
        "score moyen pour feross: 49 (30 projects)"
       ]
      },
      {
       "output_type": "stream",
       "stream": "stdout",
       "text": [
        "\n",
        "score moyen pour rstacruz: 36 (30 projects)"
       ]
      },
      {
       "output_type": "stream",
       "stream": "stdout",
       "text": [
        "\n",
        "score moyen pour michaelklishin: 13 (30 projects)"
       ]
      },
      {
       "output_type": "stream",
       "stream": "stdout",
       "text": [
        "\n",
        "score moyen pour dcramer: 57 (30 projects)"
       ]
      },
      {
       "output_type": "stream",
       "stream": "stdout",
       "text": [
        "\n",
        "score moyen pour ebidel: 83 (30 projects)"
       ]
      },
      {
       "output_type": "stream",
       "stream": "stdout",
       "text": [
        "\n",
        "score moyen pour jgm: 145 (30 projects)"
       ]
      },
      {
       "output_type": "stream",
       "stream": "stdout",
       "text": [
        "\n",
        "score moyen pour phodal: 89 (27 projects)"
       ]
      },
      {
       "output_type": "stream",
       "stream": "stdout",
       "text": [
        "\n",
        "score moyen pour tmcw: 35 (30 projects)"
       ]
      },
      {
       "output_type": "stream",
       "stream": "stdout",
       "text": [
        "\n",
        "score moyen pour cvrebert: 12 (29 projects)"
       ]
      },
      {
       "output_type": "stream",
       "stream": "stdout",
       "text": [
        "\n",
        "score moyen pour Raynos: 6 (30 projects)"
       ]
      },
      {
       "output_type": "stream",
       "stream": "stdout",
       "text": [
        "\n",
        "score moyen pour mikermcneil: 1 (30 projects)"
       ]
      },
      {
       "output_type": "stream",
       "stream": "stdout",
       "text": [
        "\n",
        "score moyen pour jdalton: 11 (14 projects)"
       ]
      },
      {
       "output_type": "stream",
       "stream": "stdout",
       "text": [
        "\n",
        "score moyen pour mitchellh: 127 (30 projects)"
       ]
      },
      {
       "output_type": "stream",
       "stream": "stdout",
       "text": [
        "\n",
        "score moyen pour josevalim: 107 (30 projects)"
       ]
      },
      {
       "output_type": "stream",
       "stream": "stdout",
       "text": [
        "\n",
        "score moyen pour JedWatson: 46 (30 projects)"
       ]
      },
      {
       "output_type": "stream",
       "stream": "stdout",
       "text": [
        "\n",
        "score moyen pour markstory: 29 (30 projects)"
       ]
      },
      {
       "output_type": "stream",
       "stream": "stdout",
       "text": [
        "\n",
        "score moyen pour gorhill: 329 (19 projects)"
       ]
      },
      {
       "output_type": "stream",
       "stream": "stdout",
       "text": [
        "\n",
        "score moyen pour steveklabnik: 3 (30 projects)"
       ]
      },
      {
       "output_type": "stream",
       "stream": "stdout",
       "text": [
        "\n",
        "score moyen pour zcbenz: 58 (30 projects)"
       ]
      },
      {
       "output_type": "stream",
       "stream": "stdout",
       "text": [
        "\n",
        "score moyen pour addyosmani: 369 (30 projects)"
       ]
      },
      {
       "output_type": "stream",
       "stream": "stdout",
       "text": [
        "\n",
        "score moyen pour gaearon: 15 (30 projects)"
       ]
      },
      {
       "output_type": "stream",
       "stream": "stdout",
       "text": [
        "\n",
        "score moyen pour mafintosh: 33 (30 projects)"
       ]
      },
      {
       "output_type": "stream",
       "stream": "stdout",
       "text": [
        "\n",
        "score moyen pour ai: 136 (30 projects)"
       ]
      },
      {
       "output_type": "stream",
       "stream": "stdout",
       "text": [
        "\n",
        "score moyen pour SamyPesse: 357 (30 projects)"
       ]
      },
      {
       "output_type": "stream",
       "stream": "stdout",
       "text": [
        "\n",
        "score moyen pour ChenYilong: 219 (27 projects)"
       ]
      },
      {
       "output_type": "stream",
       "stream": "stdout",
       "text": [
        "\n",
        "score moyen pour kevva: 14 (30 projects)"
       ]
      },
      {
       "output_type": "stream",
       "stream": "stdout",
       "text": [
        "\n",
        "score moyen pour substack: 23 (30 projects)"
       ]
      },
      {
       "output_type": "stream",
       "stream": "stdout",
       "text": [
        "\n",
        "score moyen pour jamesward: 0 (30 projects)"
       ]
      },
      {
       "output_type": "stream",
       "stream": "stdout",
       "text": [
        "\n",
        "score moyen pour jspahrsummers: 128 (30 projects)"
       ]
      },
      {
       "output_type": "stream",
       "stream": "stdout",
       "text": [
        "\n",
        "score moyen pour josegonzalez: 16 (30 projects)"
       ]
      },
      {
       "output_type": "stream",
       "stream": "stdout",
       "text": [
        "\n",
        "score moyen pour orta: 42 (30 projects)"
       ]
      },
      {
       "output_type": "stream",
       "stream": "stdout",
       "text": [
        "\n",
        "score moyen pour benbalter: 3 (30 projects)"
       ]
      },
      {
       "output_type": "stream",
       "stream": "stdout",
       "text": [
        "\n",
        "score moyen pour ddollar: 6 (30 projects)"
       ]
      },
      {
       "output_type": "stream",
       "stream": "stdout",
       "text": [
        "\n",
        "score moyen pour pippinsplugins: 6 (30 projects)"
       ]
      },
      {
       "output_type": "stream",
       "stream": "stdout",
       "text": [
        "\n",
        "score moyen pour JakeWharton: 659 (30 projects)"
       ]
      },
      {
       "output_type": "stream",
       "stream": "stdout",
       "text": [
        "\n",
        "score moyen pour yihui: 54 (30 projects)"
       ]
      },
      {
       "output_type": "stream",
       "stream": "stdout",
       "text": [
        "\n",
        "score moyen pour ericholscher: 26 (30 projects)"
       ]
      },
      {
       "output_type": "stream",
       "stream": "stdout",
       "text": [
        "\n",
        "score moyen pour ekmett: 12 (30 projects)"
       ]
      },
      {
       "output_type": "stream",
       "stream": "stdout",
       "text": [
        "\n",
        "score moyen pour yiminghe: 1 (30 projects)"
       ]
      },
      {
       "output_type": "stream",
       "stream": "stdout",
       "text": [
        "\n",
        "score moyen pour evancz: 67 (30 projects)"
       ]
      },
      {
       "output_type": "stream",
       "stream": "stdout",
       "text": [
        "\n",
        "score moyen pour 3rd-Eden: 5 (30 projects)"
       ]
      },
      {
       "output_type": "stream",
       "stream": "stdout",
       "text": [
        "\n",
        "score moyen pour nathansobo: 1 (30 projects)"
       ]
      },
      {
       "output_type": "stream",
       "stream": "stdout",
       "text": [
        "\n",
        "score moyen pour webmozart: 21 (30 projects)"
       ]
      },
      {
       "output_type": "stream",
       "stream": "stdout",
       "text": [
        "\n",
        "score moyen pour mcollina: 10 (30 projects)"
       ]
      },
      {
       "output_type": "stream",
       "stream": "stdout",
       "text": [
        "\n",
        "score moyen pour sferik: 12 (30 projects)"
       ]
      },
      {
       "output_type": "stream",
       "stream": "stdout",
       "text": [
        "\n",
        "score moyen pour frsyuki: 3 (30 projects)"
       ]
      },
      {
       "output_type": "stream",
       "stream": "stdout",
       "text": [
        "\n",
        "score moyen pour alex: 3 (30 projects)"
       ]
      },
      {
       "output_type": "stream",
       "stream": "stdout",
       "text": [
        "\n",
        "score moyen pour kartik-v: 66 (30 projects)"
       ]
      },
      {
       "output_type": "stream",
       "stream": "stdout",
       "text": [
        "\n",
        "score moyen pour swannodette: 16 (30 projects)"
       ]
      },
      {
       "output_type": "stream",
       "stream": "stdout",
       "text": [
        "\n",
        "score moyen pour dominictarr: 4 (30 projects)"
       ]
      },
      {
       "output_type": "stream",
       "stream": "stdout",
       "text": [
        "\n",
        "score moyen pour kylef: 18 (30 projects)"
       ]
      },
      {
       "output_type": "stream",
       "stream": "stdout",
       "text": [
        "\n",
        "score moyen pour maxogden: 148 (30 projects)"
       ]
      },
      {
       "output_type": "stream",
       "stream": "stdout",
       "text": [
        "\n",
        "score moyen pour leafo: 19 (30 projects)"
       ]
      },
      {
       "output_type": "stream",
       "stream": "stdout",
       "text": [
        "\n",
        "score moyen pour r7kamura: 22 (30 projects)"
       ]
      },
      {
       "output_type": "stream",
       "stream": "stdout",
       "text": [
        "\n",
        "score moyen pour creationix: 9 (30 projects)"
       ]
      },
      {
       "output_type": "stream",
       "stream": "stdout",
       "text": [
        "\n",
        "score moyen pour EisenbergEffect: 8 (6 projects)"
       ]
      },
      {
       "output_type": "stream",
       "stream": "stdout",
       "text": [
        "\n",
        "score moyen pour afollestad: 336 (17 projects)"
       ]
      },
      {
       "output_type": "stream",
       "stream": "stdout",
       "text": [
        "\n",
        "score moyen pour indutny: 36 (30 projects)"
       ]
      },
      {
       "output_type": "stream",
       "stream": "stdout",
       "text": [
        "\n",
        "score moyen pour josh: 92 (30 projects)"
       ]
      },
      {
       "output_type": "stream",
       "stream": "stdout",
       "text": [
        "\n",
        "score moyen pour ashfurrow: 62 (30 projects)"
       ]
      },
      {
       "output_type": "stream",
       "stream": "stdout",
       "text": [
        "\n",
        "score moyen pour HugoGiraudel: 67 (25 projects)"
       ]
      },
      {
       "output_type": "stream",
       "stream": "stdout",
       "text": [
        "\n",
        "score moyen pour weaverryan: 0 (30 projects)"
       ]
      },
      {
       "output_type": "stream",
       "stream": "stdout",
       "text": [
        "\n",
        "score moyen pour rxin: 134 (30 projects)"
       ]
      },
      {
       "output_type": "stream",
       "stream": "stdout",
       "text": [
        "\n",
        "score moyen pour jedisct1: 33 (30 projects)"
       ]
      },
      {
       "output_type": "stream",
       "stream": "stdout",
       "text": [
        "\n",
        "score moyen pour kazuho: 5 (30 projects)"
       ]
      },
      {
       "output_type": "stream",
       "stream": "stdout",
       "text": [
        "\n",
        "score moyen pour kytrinyx: 10 (30 projects)"
       ]
      },
      {
       "output_type": "stream",
       "stream": "stdout",
       "text": [
        "\n",
        "score moyen pour mgechev: 203 (30 projects)"
       ]
      },
      {
       "output_type": "stream",
       "stream": "stdout",
       "text": [
        "\n",
        "score moyen pour fsouza: 0 (30 projects)"
       ]
      },
      {
       "output_type": "stream",
       "stream": "stdout",
       "text": [
        "\n",
        "score moyen pour happypeter: 13 (30 projects)"
       ]
      },
      {
       "output_type": "stream",
       "stream": "stdout",
       "text": [
        "\n",
        "score moyen pour soumith: 28 (30 projects)"
       ]
      },
      {
       "output_type": "stream",
       "stream": "stdout",
       "text": [
        "\n",
        "score moyen pour clowwindy: 43 (30 projects)"
       ]
      },
      {
       "output_type": "stream",
       "stream": "stdout",
       "text": [
        "\n",
        "score moyen pour zenorocha: 592 (30 projects)"
       ]
      },
      {
       "output_type": "stream",
       "stream": "stdout",
       "text": [
        "\n",
        "score moyen pour rdegges: 43 (30 projects)"
       ]
      },
      {
       "output_type": "stream",
       "stream": "stdout",
       "text": [
        "\n",
        "score moyen pour rafaelfranca: 0 (30 projects)"
       ]
      },
      {
       "output_type": "stream",
       "stream": "stdout",
       "text": [
        "\n",
        "score moyen pour drnic: 13 (30 projects)"
       ]
      },
      {
       "output_type": "stream",
       "stream": "stdout",
       "text": [
        "\n",
        "score moyen pour gdi2290: 0 (30 projects)"
       ]
      },
      {
       "output_type": "stream",
       "stream": "stdout",
       "text": [
        "\n",
        "score moyen pour staltz: 43 (30 projects)"
       ]
      },
      {
       "output_type": "stream",
       "stream": "stdout",
       "text": [
        "\n",
        "score moyen pour purcell: 3 (30 projects)"
       ]
      },
      {
       "output_type": "stream",
       "stream": "stdout",
       "text": [
        "\n",
        "score moyen pour madskristensen: 7 (30 projects)"
       ]
      },
      {
       "output_type": "stream",
       "stream": "stdout",
       "text": [
        "\n",
        "score moyen pour rwaldron: 0 (30 projects)"
       ]
      },
      {
       "output_type": "stream",
       "stream": "stdout",
       "text": [
        "\n",
        "score moyen pour chrisdone: 20 (30 projects)"
       ]
      },
      {
       "output_type": "stream",
       "stream": "stdout",
       "text": [
        "\n",
        "score moyen pour jfrazelle: 59 (30 projects)"
       ]
      },
      {
       "output_type": "stream",
       "stream": "stdout",
       "text": [
        "\n",
        "score moyen pour leebyron: 5 (30 projects)"
       ]
      },
      {
       "output_type": "stream",
       "stream": "stdout",
       "text": [
        "\n",
        "score moyen pour derickr: 2 (30 projects)"
       ]
      },
      {
       "output_type": "stream",
       "stream": "stdout",
       "text": [
        "\n",
        "score moyen pour mikepenz: 232 (30 projects)"
       ]
      },
      {
       "output_type": "stream",
       "stream": "stdout",
       "text": [
        "\n",
        "score moyen pour chjj: 365 (30 projects)"
       ]
      },
      {
       "output_type": "stream",
       "stream": "stdout",
       "text": [
        "\n",
        "score moyen pour parkr: 3 (30 projects)"
       ]
      },
      {
       "output_type": "stream",
       "stream": "stdout",
       "text": [
        "\n",
        "score moyen pour kohsuke: 17 (30 projects)"
       ]
      },
      {
       "output_type": "stream",
       "stream": "stdout",
       "text": [
        "\n",
        "score moyen pour armon: 102 (30 projects)"
       ]
      },
      {
       "output_type": "stream",
       "stream": "stdout",
       "text": [
        "\n",
        "score moyen pour RubyLouvre: 98 (30 projects)"
       ]
      },
      {
       "output_type": "stream",
       "stream": "stdout",
       "text": [
        "\n",
        "score moyen pour mikolalysenko: 5 (30 projects)"
       ]
      },
      {
       "output_type": "stream",
       "stream": "stdout",
       "text": [
        "\n",
        "score moyen pour torvalds: 13831 (2 projects)"
       ]
      },
      {
       "output_type": "stream",
       "stream": "stdout",
       "text": [
        "\n",
        "score moyen pour arunoda: 3 (30 projects)"
       ]
      },
      {
       "output_type": "stream",
       "stream": "stdout",
       "text": [
        "\n",
        "score moyen pour bbatsov: 66 (30 projects)"
       ]
      },
      {
       "output_type": "stream",
       "stream": "stdout",
       "text": [
        "\n",
        "score moyen pour stof: 0 (30 projects)"
       ]
      },
      {
       "output_type": "stream",
       "stream": "stdout",
       "text": [
        "\n",
        "score moyen pour matthewmccullough: 6 (30 projects)"
       ]
      },
      {
       "output_type": "stream",
       "stream": "stdout",
       "text": [
        "\n",
        "score moyen pour yyx990803: 40 (30 projects)"
       ]
      },
      {
       "output_type": "stream",
       "stream": "stdout",
       "text": [
        "\n",
        "score moyen pour Unknwon: 126 (30 projects)"
       ]
      },
      {
       "output_type": "stream",
       "stream": "stdout",
       "text": [
        "\n",
        "score moyen pour willdurand: 68 (30 projects)"
       ]
      },
      {
       "output_type": "stream",
       "stream": "stdout",
       "text": [
        "\n",
        "score moyen pour tenderlove: 6 (30 projects)"
       ]
      },
      {
       "output_type": "stream",
       "stream": "stdout",
       "text": [
        "\n",
        "score moyen pour tqchen: 3 (7 projects)"
       ]
      },
      {
       "output_type": "stream",
       "stream": "stdout",
       "text": [
        "\n",
        "score moyen pour kana: 5 (30 projects)"
       ]
      },
      {
       "output_type": "stream",
       "stream": "stdout",
       "text": [
        "\n",
        "score moyen pour nzakas: 145 (30 projects)"
       ]
      },
      {
       "output_type": "stream",
       "stream": "stdout",
       "text": [
        "\n",
        "score moyen pour graydon: 5 (30 projects)"
       ]
      },
      {
       "output_type": "stream",
       "stream": "stdout",
       "text": [
        "\n",
        "score moyen pour zilongshanren: 7 (30 projects)"
       ]
      },
      {
       "output_type": "stream",
       "stream": "stdout",
       "text": [
        "\n",
        "score moyen pour mattn: 10 (30 projects)"
       ]
      },
      {
       "output_type": "stream",
       "stream": "stdout",
       "text": [
        "\n",
        "score moyen pour remy: 21 (30 projects)"
       ]
      },
      {
       "output_type": "stream",
       "stream": "stdout",
       "text": [
        "\n",
        "score moyen pour ayende: 9 (30 projects)"
       ]
      },
      {
       "output_type": "stream",
       "stream": "stdout",
       "text": [
        "\n",
        "score moyen pour lihaoyi: 187 (29 projects)"
       ]
      },
      {
       "output_type": "stream",
       "stream": "stdout",
       "text": [
        "\n",
        "score moyen pour chneukirchen: 48 (30 projects)"
       ]
      },
      {
       "output_type": "stream",
       "stream": "stdout",
       "text": [
        "\n",
        "score moyen pour johnpapa: 480 (30 projects)"
       ]
      },
      {
       "output_type": "stream",
       "stream": "stdout",
       "text": [
        "\n",
        "score moyen pour samdark: 2 (30 projects)"
       ]
      },
      {
       "output_type": "stream",
       "stream": "stdout",
       "text": [
        "\n",
        "score moyen pour domenic: 33 (30 projects)"
       ]
      },
      {
       "output_type": "stream",
       "stream": "stdout",
       "text": [
        "\n",
        "score moyen pour paulcbetts: 3 (30 projects)"
       ]
      },
      {
       "output_type": "stream",
       "stream": "stdout",
       "text": [
        "\n",
        "score moyen pour bergie: 89 (30 projects)"
       ]
      },
      {
       "output_type": "stream",
       "stream": "stdout",
       "text": [
        "\n",
        "score moyen pour indirect: 3 (30 projects)"
       ]
      },
      {
       "output_type": "stream",
       "stream": "stdout",
       "text": [
        "\n",
        "score moyen pour schacon: 8 (30 projects)"
       ]
      },
      {
       "output_type": "stream",
       "stream": "stdout",
       "text": [
        "\n",
        "score moyen pour davecheney: 5 (30 projects)"
       ]
      },
      {
       "output_type": "stream",
       "stream": "stdout",
       "text": [
        "\n",
        "score moyen pour kripken: 370 (30 projects)"
       ]
      },
      {
       "output_type": "stream",
       "stream": "stdout",
       "text": [
        "\n",
        "score moyen pour appleboy: 8 (30 projects)"
       ]
      },
      {
       "output_type": "stream",
       "stream": "stdout",
       "text": [
        "\n",
        "score moyen pour jlord: 5 (30 projects)"
       ]
      },
      {
       "output_type": "stream",
       "stream": "stdout",
       "text": [
        "\n",
        "score moyen pour alloy: 16 (30 projects)"
       ]
      },
      {
       "output_type": "stream",
       "stream": "stdout",
       "text": [
        "\n",
        "score moyen pour vladikoff: 1 (30 projects)"
       ]
      },
      {
       "output_type": "stream",
       "stream": "stdout",
       "text": [
        "\n",
        "score moyen pour hueniverse: 164 (15 projects)"
       ]
      },
      {
       "output_type": "stream",
       "stream": "stdout",
       "text": [
        "\n",
        "score moyen pour STRd6: 2 (30 projects)"
       ]
      },
      {
       "output_type": "stream",
       "stream": "stdout",
       "text": [
        "\n",
        "score moyen pour SamSaffron: 19 (30 projects)"
       ]
      },
      {
       "output_type": "stream",
       "stream": "stdout",
       "text": [
        "\n",
        "score moyen pour luin: 64 (30 projects)"
       ]
      },
      {
       "output_type": "stream",
       "stream": "stdout",
       "text": [
        "\n",
        "score moyen pour tokuhirom: 6 (30 projects)"
       ]
      },
      {
       "output_type": "stream",
       "stream": "stdout",
       "text": [
        "\n",
        "score moyen pour michael: 75 (30 projects)"
       ]
      },
      {
       "output_type": "stream",
       "stream": "stdout",
       "text": [
        "\n",
        "score moyen pour TooTallNate: 26 (30 projects)"
       ]
      },
      {
       "output_type": "stream",
       "stream": "stdout",
       "text": [
        "\n",
        "score moyen pour PaulKinlan: 4 (30 projects)"
       ]
      },
      {
       "output_type": "stream",
       "stream": "stdout",
       "text": [
        "\n",
        "score moyen pour kriskowal: 57 (30 projects)"
       ]
      },
      {
       "output_type": "stream",
       "stream": "stdout",
       "text": [
        "\n",
        "score moyen pour karan: 19 (30 projects)"
       ]
      },
      {
       "output_type": "stream",
       "stream": "stdout",
       "text": [
        "\n",
        "score moyen pour numbbbbb: 17 (30 projects)"
       ]
      },
      {
       "output_type": "stream",
       "stream": "stdout",
       "text": [
        "\n",
        "score moyen pour passy: 50 (30 projects)"
       ]
      },
      {
       "output_type": "stream",
       "stream": "stdout",
       "text": [
        "\n",
        "score moyen pour marijnh: 68 (25 projects)"
       ]
      },
      {
       "output_type": "stream",
       "stream": "stdout",
       "text": [
        "\n",
        "score moyen pour audreyt: 15 (30 projects)"
       ]
      },
      {
       "output_type": "stream",
       "stream": "stdout",
       "text": [
        "\n",
        "score moyen pour aFarkas: 345 (30 projects)"
       ]
      },
      {
       "output_type": "stream",
       "stream": "stdout",
       "text": [
        "\n",
        "score moyen pour rvagg: 32 (30 projects)"
       ]
      },
      {
       "output_type": "stream",
       "stream": "stdout",
       "text": [
        "\n",
        "score moyen pour apotonick: 120 (30 projects)"
       ]
      },
      {
       "output_type": "stream",
       "stream": "stdout",
       "text": [
        "\n",
        "score moyen pour svenfuchs: 58 (30 projects)"
       ]
      },
      {
       "output_type": "stream",
       "stream": "stdout",
       "text": [
        "\n",
        "score moyen pour mjackson: 16 (30 projects)"
       ]
      },
      {
       "output_type": "stream",
       "stream": "stdout",
       "text": [
        "\n",
        "score moyen pour arturoc: 11 (30 projects)"
       ]
      },
      {
       "output_type": "stream",
       "stream": "stdout",
       "text": [
        "\n",
        "score moyen pour maryrosecook: 29 (30 projects)"
       ]
      },
      {
       "output_type": "stream",
       "stream": "stdout",
       "text": [
        "\n",
        "score moyen pour mrdoob: 1020 (27 projects)"
       ]
      },
      {
       "output_type": "stream",
       "stream": "stdout",
       "text": [
        "\n",
        "score moyen pour jonathanong: 14 (30 projects)"
       ]
      },
      {
       "output_type": "stream",
       "stream": "stdout",
       "text": [
        "\n",
        "score moyen pour mbostock: 1457 (30 projects)"
       ]
      },
      {
       "output_type": "stream",
       "stream": "stdout",
       "text": [
        "\n",
        "score moyen pour prakhar1989: 487 (30 projects)"
       ]
      },
      {
       "output_type": "stream",
       "stream": "stdout",
       "text": [
        "\n",
        "score moyen pour mourner: 100 (27 projects)"
       ]
      },
      {
       "output_type": "stream",
       "stream": "stdout",
       "text": [
        "\n",
        "score moyen pour balupton: 9 (30 projects)"
       ]
      },
      {
       "output_type": "stream",
       "stream": "stdout",
       "text": [
        "\n",
        "score moyen pour headius: 12 (30 projects)"
       ]
      },
      {
       "output_type": "stream",
       "stream": "stdout",
       "text": [
        "\n",
        "score moyen pour jessesquires: 276 (30 projects)"
       ]
      },
      {
       "output_type": "stream",
       "stream": "stdout",
       "text": [
        "\n",
        "score moyen pour swankjesse: 122 (3 projects)"
       ]
      },
      {
       "output_type": "stream",
       "stream": "stdout",
       "text": [
        "\n",
        "score moyen pour sahat: 2 (30 projects)"
       ]
      },
      {
       "output_type": "stream",
       "stream": "stdout",
       "text": [
        "\n",
        "score moyen pour nex3: 17 (30 projects)"
       ]
      },
      {
       "output_type": "stream",
       "stream": "stdout",
       "text": [
        "\n",
        "score moyen pour simurai: 7 (30 projects)"
       ]
      },
      {
       "output_type": "stream",
       "stream": "stdout",
       "text": [
        "\n",
        "score moyen pour zpao: 1 (30 projects)"
       ]
      },
      {
       "output_type": "stream",
       "stream": "stdout",
       "text": [
        "\n",
        "score moyen pour tomchristie: 270 (25 projects)"
       ]
      },
      {
       "output_type": "stream",
       "stream": "stdout",
       "text": [
        "\n",
        "score moyen pour fzaninotto: 290 (30 projects)"
       ]
      },
      {
       "output_type": "stream",
       "stream": "stdout",
       "text": [
        "\n",
        "score moyen pour bdarnell: 58 (28 projects)"
       ]
      },
      {
       "output_type": "stream",
       "stream": "stdout",
       "text": [
        "\n",
        "score moyen pour amueller: 6 (30 projects)"
       ]
      },
      {
       "output_type": "stream",
       "stream": "stdout",
       "text": [
        "\n",
        "score moyen pour shiffman: 27 (30 projects)"
       ]
      },
      {
       "output_type": "stream",
       "stream": "stdout",
       "text": [
        "\n",
        "score moyen pour darwin: 25 (30 projects)"
       ]
      },
      {
       "output_type": "stream",
       "stream": "stdout",
       "text": [
        "\n",
        "score moyen pour davidfowl: 10 (30 projects)"
       ]
      },
      {
       "output_type": "stream",
       "stream": "stdout",
       "text": [
        "\n",
        "score moyen pour junegunn: 132 (30 projects)"
       ]
      },
      {
       "output_type": "stream",
       "stream": "stdout",
       "text": [
        "\n",
        "score moyen pour gitster: 78 (6 projects)"
       ]
      },
      {
       "output_type": "stream",
       "stream": "stdout",
       "text": [
        "\n",
        "score moyen pour mathiasbynens: 4 (30 projects)"
       ]
      },
      {
       "output_type": "stream",
       "stream": "stdout",
       "text": [
        "\n",
        "score moyen pour olivergierke: 6 (30 projects)"
       ]
      },
      {
       "output_type": "stream",
       "stream": "stdout",
       "text": [
        "\n",
        "score moyen pour matyhtf: 26 (20 projects)"
       ]
      },
      {
       "output_type": "stream",
       "stream": "stdout",
       "text": [
        "\n",
        "score moyen pour mdo: 368 (30 projects)"
       ]
      },
      {
       "output_type": "stream",
       "stream": "stdout",
       "text": [
        "\n",
        "score moyen pour desandro: 149 (30 projects)"
       ]
      },
      {
       "output_type": "stream",
       "stream": "stdout",
       "text": [
        "\n",
        "score moyen pour photonstorm: 629 (19 projects)"
       ]
      },
      {
       "output_type": "stream",
       "stream": "stdout",
       "text": [
        "\n",
        "score moyen pour sebastianbergmann: 147 (30 projects)"
       ]
      },
      {
       "output_type": "stream",
       "stream": "stdout",
       "text": [
        "\n",
        "score moyen pour matthewmueller: 25 (30 projects)"
       ]
      },
      {
       "output_type": "stream",
       "stream": "stdout",
       "text": [
        "\n",
        "score moyen pour bradfitz: 48 (30 projects)"
       ]
      },
      {
       "output_type": "stream",
       "stream": "stdout",
       "text": [
        "\n",
        "score moyen pour weavejester: 131 (30 projects)"
       ]
      },
      {
       "output_type": "stream",
       "stream": "stdout",
       "text": [
        "\n",
        "score moyen pour fengmk2: 0 (30 projects)"
       ]
      },
      {
       "output_type": "stream",
       "stream": "stdout",
       "text": [
        "\n",
        "score moyen pour stephenplusplus: 3 (30 projects)"
       ]
      },
      {
       "output_type": "stream",
       "stream": "stdout",
       "text": [
        "\n",
        "score moyen pour aslakhellesoy: 5 (30 projects)"
       ]
      },
      {
       "output_type": "stream",
       "stream": "stdout",
       "text": [
        "\n",
        "score moyen pour arun-gupta: 2 (30 projects)"
       ]
      },
      {
       "output_type": "stream",
       "stream": "stdout",
       "text": [
        "\n",
        "score moyen pour alanhamlett: 2 (30 projects)"
       ]
      },
      {
       "output_type": "stream",
       "stream": "stdout",
       "text": [
        "\n",
        "score moyen pour STRML: 0 (30 projects)"
       ]
      },
      {
       "output_type": "stream",
       "stream": "stdout",
       "text": [
        "\n",
        "score moyen pour imathis: 46 (30 projects)"
       ]
      },
      {
       "output_type": "stream",
       "stream": "stdout",
       "text": [
        "\n",
        "score moyen pour tbranyen: 219 (30 projects)"
       ]
      },
      {
       "output_type": "stream",
       "stream": "stdout",
       "text": [
        "\n",
        "score moyen pour isaacs: 17 (30 projects)"
       ]
      },
      {
       "output_type": "stream",
       "stream": "stdout",
       "text": [
        "\n",
        "score moyen pour Shougo: 196 (30 projects)"
       ]
      },
      {
       "output_type": "stream",
       "stream": "stdout",
       "text": [
        "\n",
        "score moyen pour ibdknox: 33 (30 projects)"
       ]
      },
      {
       "output_type": "stream",
       "stream": "stdout",
       "text": [
        "\n",
        "score moyen pour pedrovgs: 266 (29 projects)"
       ]
      },
      {
       "output_type": "stream",
       "stream": "stdout",
       "text": [
        "\n",
        "score moyen pour kelseyhightower: 82 (30 projects)"
       ]
      },
      {
       "output_type": "stream",
       "stream": "stdout",
       "text": [
        "\n",
        "score moyen pour jakevdp: 5 (30 projects)"
       ]
      },
      {
       "output_type": "stream",
       "stream": "stdout",
       "text": [
        "\n",
        "score moyen pour munificent: 68 (30 projects)"
       ]
      },
      {
       "output_type": "stream",
       "stream": "stdout",
       "text": [
        "\n",
        "score moyen pour andrew: 3 (30 projects)"
       ]
      },
      {
       "output_type": "stream",
       "stream": "stdout",
       "text": [
        "\n",
        "score moyen pour contra: 13 (30 projects)"
       ]
      },
      {
       "output_type": "stream",
       "stream": "stdout",
       "text": [
        "\n",
        "score moyen pour mitsuhiko: 691 (30 projects)"
       ]
      },
      {
       "output_type": "stream",
       "stream": "stdout",
       "text": [
        "\n",
        "score moyen pour wbond: 148 (30 projects)"
       ]
      },
      {
       "output_type": "stream",
       "stream": "stdout",
       "text": [
        "\n",
        "score moyen pour ahmetalpbalkan: 28 (30 projects)"
       ]
      },
      {
       "output_type": "stream",
       "stream": "stdout",
       "text": [
        "\n",
        "score moyen pour jezdez: 126 (16 projects)"
       ]
      },
      {
       "output_type": "stream",
       "stream": "stdout",
       "text": [
        "\n",
        "score moyen pour hughsk: 5 (30 projects)"
       ]
      },
      {
       "output_type": "stream",
       "stream": "stdout",
       "text": [
        "\n",
        "score moyen pour CharlinFeng: 43 (30 projects)"
       ]
      },
      {
       "output_type": "stream",
       "stream": "stdout",
       "text": [
        "\n",
        "score moyen pour fatih: 192 (30 projects)"
       ]
      },
      {
       "output_type": "stream",
       "stream": "stdout",
       "text": [
        "\n",
        "score moyen pour DataTables: 105 (30 projects)"
       ]
      },
      {
       "output_type": "stream",
       "stream": "stdout",
       "text": [
        "\n",
        "score moyen pour rsc: 32 (30 projects)"
       ]
      },
      {
       "output_type": "stream",
       "stream": "stdout",
       "text": [
        "\n",
        "score moyen pour timoxley: 2 (30 projects)"
       ]
      },
      {
       "output_type": "stream",
       "stream": "stdout",
       "text": [
        "\n",
        "score moyen pour odersky: 8 (8 projects)"
       ]
      },
      {
       "output_type": "stream",
       "stream": "stdout",
       "text": [
        "\n",
        "score moyen pour shama: 4 (30 projects)"
       ]
      },
      {
       "output_type": "stream",
       "stream": "stdout",
       "text": [
        "\n",
        "score moyen pour pydanny: 81 (30 projects)"
       ]
      },
      {
       "output_type": "stream",
       "stream": "stdout",
       "text": [
        "\n",
        "score moyen pour technoweenie: 79 (30 projects)"
       ]
      },
      {
       "output_type": "stream",
       "stream": "stdout",
       "text": [
        "\n",
        "score moyen pour muan: 77 (30 projects)"
       ]
      },
      {
       "output_type": "stream",
       "stream": "stdout",
       "text": [
        "\n",
        "score moyen pour jordansissel: 203 (30 projects)"
       ]
      },
      {
       "output_type": "stream",
       "stream": "stdout",
       "text": [
        "\n",
        "score moyen pour sorah: 2 (30 projects)"
       ]
      },
      {
       "output_type": "stream",
       "stream": "stdout",
       "text": [
        "\n",
        "score moyen pour freddix: 0 (30 projects)"
       ]
      },
      {
       "output_type": "stream",
       "stream": "stdout",
       "text": [
        "\n",
        "score moyen pour sokra: 0 (30 projects)"
       ]
      },
      {
       "output_type": "stream",
       "stream": "stdout",
       "text": [
        "\n",
        "score moyen pour ianb: 13 (30 projects)"
       ]
      },
      {
       "output_type": "stream",
       "stream": "stdout",
       "text": [
        "\n",
        "score moyen pour andreamazz: 265 (30 projects)"
       ]
      },
      {
       "output_type": "stream",
       "stream": "stdout",
       "text": [
        "\n",
        "score moyen pour antirez: 797 (30 projects)"
       ]
      },
      {
       "output_type": "stream",
       "stream": "stdout",
       "text": [
        "\n",
        "score moyen pour soyjavi: 5 (30 projects)"
       ]
      },
      {
       "output_type": "stream",
       "stream": "stdout",
       "text": [
        "\n",
        "score moyen pour Seldaek: 3 (30 projects)"
       ]
      },
      {
       "output_type": "stream",
       "stream": "stdout",
       "text": [
        "\n",
        "score moyen pour akrabat: 6 (30 projects)"
       ]
      },
      {
       "output_type": "stream",
       "stream": "stdout",
       "text": [
        "\n",
        "score moyen pour aaronpk: 4 (30 projects)"
       ]
      },
      {
       "output_type": "stream",
       "stream": "stdout",
       "text": [
        "\n",
        "score moyen pour mnot: 48 (30 projects)"
       ]
      },
      {
       "output_type": "stream",
       "stream": "stdout",
       "text": [
        "\n",
        "score moyen pour michaelliao: 39 (30 projects)"
       ]
      },
      {
       "output_type": "stream",
       "stream": "stdout",
       "text": [
        "\n",
        "score moyen pour bboyfeiyu: 100 (30 projects)"
       ]
      },
      {
       "output_type": "stream",
       "stream": "stdout",
       "text": [
        "\n",
        "score moyen pour sole: 10 (30 projects)"
       ]
      },
      {
       "output_type": "stream",
       "stream": "stdout",
       "text": [
        "\n",
        "score moyen pour lepture: 69 (30 projects)"
       ]
      },
      {
       "output_type": "stream",
       "stream": "stdout",
       "text": [
        "\n",
        "score moyen pour robdodson: 15 (30 projects)"
       ]
      },
      {
       "output_type": "stream",
       "stream": "stdout",
       "text": [
        "\n",
        "score moyen pour soimort: 1 (30 projects)"
       ]
      },
      {
       "output_type": "stream",
       "stream": "stdout",
       "text": [
        "\n",
        "score moyen pour mgcrea: 220 (30 projects)"
       ]
      },
      {
       "output_type": "stream",
       "stream": "stdout",
       "text": [
        "\n",
        "score moyen pour tommy351: 20 (30 projects)"
       ]
      },
      {
       "output_type": "stream",
       "stream": "stdout",
       "text": [
        "\n",
        "score moyen pour barryvdh: 2 (30 projects)"
       ]
      },
      {
       "output_type": "stream",
       "stream": "stdout",
       "text": [
        "\n",
        "score moyen pour jiyinyiyong: 0 (30 projects)"
       ]
      },
      {
       "output_type": "stream",
       "stream": "stdout",
       "text": [
        "\n",
        "score moyen pour justintadlock: 48 (30 projects)"
       ]
      },
      {
       "output_type": "stream",
       "stream": "stdout",
       "text": [
        "\n",
        "score moyen pour HenrikJoreteg: 21 (30 projects)"
       ]
      },
      {
       "output_type": "stream",
       "stream": "stdout",
       "text": [
        "\n",
        "score moyen pour Trinea: 854 (18 projects)"
       ]
      },
      {
       "output_type": "stream",
       "stream": "stdout",
       "text": [
        "\n",
        "score moyen pour caitp: 19 (30 projects)"
       ]
      },
      {
       "output_type": "stream",
       "stream": "stdout",
       "text": [
        "\n",
        "score moyen pour philipwalton: 395 (30 projects)"
       ]
      },
      {
       "output_type": "stream",
       "stream": "stdout",
       "text": [
        "\n",
        "score moyen pour laruence: 123 (30 projects)"
       ]
      },
      {
       "output_type": "stream",
       "stream": "stdout",
       "text": [
        "\n",
        "score moyen pour spicyj: 0 (30 projects)"
       ]
      },
      {
       "output_type": "stream",
       "stream": "stdout",
       "text": [
        "\n"
       ]
      }
     ],
     "prompt_number": 53
    },
    {
     "cell_type": "code",
     "collapsed": false,
     "input": [
      "len(ranking)\n",
      "ranking2 = ranking\n",
      "ranking2.sort(key=lambda x: x[1], reverse = True)\n",
      "ranking2"
     ],
     "language": "python",
     "metadata": {},
     "outputs": [
      {
       "metadata": {},
       "output_type": "pyout",
       "prompt_number": 58,
       "text": [
        "[[u'torvalds', 13831],\n",
        " [u'mbostock', 1457],\n",
        " [u'mrdoob', 1020],\n",
        " [u'Trinea', 854],\n",
        " [u'antirez', 797],\n",
        " [u'mitsuhiko', 691],\n",
        " [u'JakeWharton', 659],\n",
        " [u'photonstorm', 629],\n",
        " [u'zenorocha', 592],\n",
        " [u'prakhar1989', 487],\n",
        " [u'johnpapa', 480],\n",
        " [u'philipwalton', 395],\n",
        " [u'kripken', 370],\n",
        " [u'addyosmani', 369],\n",
        " [u'mdo', 368],\n",
        " [u'chjj', 365],\n",
        " [u'SamyPesse', 357],\n",
        " [u'aFarkas', 345],\n",
        " [u'afollestad', 336],\n",
        " [u'gorhill', 329],\n",
        " [u'KrauseFx', 309],\n",
        " [u'fzaninotto', 290],\n",
        " [u'jessesquires', 276],\n",
        " [u'tomchristie', 270],\n",
        " [u'pedrovgs', 266],\n",
        " [u'andreamazz', 265],\n",
        " [u'mikepenz', 232],\n",
        " [u'mgcrea', 220],\n",
        " [u'ChenYilong', 219],\n",
        " [u'tbranyen', 219],\n",
        " [u'mrmrs', 218],\n",
        " [u'mgechev', 203],\n",
        " [u'jordansissel', 203],\n",
        " [u'Shougo', 196],\n",
        " [u'fatih', 192],\n",
        " [u'lihaoyi', 187],\n",
        " [u'hueniverse', 164],\n",
        " [u'desandro', 149],\n",
        " [u'maxogden', 148],\n",
        " [u'wbond', 148],\n",
        " [u'sebastianbergmann', 147],\n",
        " [u'jgm', 145],\n",
        " [u'nzakas', 145],\n",
        " [u'ai', 136],\n",
        " [u'rxin', 134],\n",
        " [u'junegunn', 132],\n",
        " [u'weavejester', 131],\n",
        " [u'jspahrsummers', 128],\n",
        " [u'mitchellh', 127],\n",
        " [u'Unknwon', 126],\n",
        " [u'jezdez', 126],\n",
        " [u'laruence', 123],\n",
        " [u'swankjesse', 122],\n",
        " [u'apotonick', 120],\n",
        " [u'josevalim', 107],\n",
        " [u'DataTables', 105],\n",
        " [u'armon', 102],\n",
        " [u'mourner', 100],\n",
        " [u'bboyfeiyu', 100],\n",
        " [u'RubyLouvre', 98],\n",
        " [u'josh', 92],\n",
        " [u'phodal', 89],\n",
        " [u'bergie', 89],\n",
        " [u'ebidel', 83],\n",
        " [u'kelseyhightower', 82],\n",
        " [u'pydanny', 81],\n",
        " [u'technoweenie', 79],\n",
        " [u'gitster', 78],\n",
        " [u'muan', 77],\n",
        " [u'michael', 75],\n",
        " [u'lepture', 69],\n",
        " [u'willdurand', 68],\n",
        " [u'marijnh', 68],\n",
        " [u'munificent', 68],\n",
        " [u'evancz', 67],\n",
        " [u'HugoGiraudel', 67],\n",
        " [u'kartik-v', 66],\n",
        " [u'bbatsov', 66],\n",
        " [u'luin', 64],\n",
        " [u'ashfurrow', 62],\n",
        " [u'GrahamCampbell', 60],\n",
        " [u'jfrazelle', 59],\n",
        " [u'zcbenz', 58],\n",
        " [u'svenfuchs', 58],\n",
        " [u'bdarnell', 58],\n",
        " [u'dcramer', 57],\n",
        " [u'kriskowal', 57],\n",
        " [u'yihui', 54],\n",
        " [u'passy', 50],\n",
        " [u'feross', 49],\n",
        " [u'chneukirchen', 48],\n",
        " [u'bradfitz', 48],\n",
        " [u'mnot', 48],\n",
        " [u'justintadlock', 48],\n",
        " [u'JedWatson', 46],\n",
        " [u'imathis', 46],\n",
        " [u'hadley', 44],\n",
        " [u'fabpot', 43],\n",
        " [u'clowwindy', 43],\n",
        " [u'rdegges', 43],\n",
        " [u'staltz', 43],\n",
        " [u'CharlinFeng', 43],\n",
        " [u'orta', 42],\n",
        " [u'yyx990803', 40],\n",
        " [u'michaelliao', 39],\n",
        " [u'rstacruz', 36],\n",
        " [u'indutny', 36],\n",
        " [u'tmcw', 35],\n",
        " [u'mafintosh', 33],\n",
        " [u'jedisct1', 33],\n",
        " [u'domenic', 33],\n",
        " [u'ibdknox', 33],\n",
        " [u'rvagg', 32],\n",
        " [u'rsc', 32],\n",
        " [u'markstory', 29],\n",
        " [u'maryrosecook', 29],\n",
        " [u'rkh', 28],\n",
        " [u'soumith', 28],\n",
        " [u'ahmetalpbalkan', 28],\n",
        " [u'shiffman', 27],\n",
        " [u'ericholscher', 26],\n",
        " [u'TooTallNate', 26],\n",
        " [u'matyhtf', 26],\n",
        " [u'darwin', 25],\n",
        " [u'matthewmueller', 25],\n",
        " [u'substack', 23],\n",
        " [u'r7kamura', 22],\n",
        " [u'bevacqua', 21],\n",
        " [u'webmozart', 21],\n",
        " [u'remy', 21],\n",
        " [u'HenrikJoreteg', 21],\n",
        " [u'chrisdone', 20],\n",
        " [u'tommy351', 20],\n",
        " [u'leafo', 19],\n",
        " [u'SamSaffron', 19],\n",
        " [u'karan', 19],\n",
        " [u'caitp', 19],\n",
        " [u'kylef', 18],\n",
        " [u'kohsuke', 17],\n",
        " [u'numbbbbb', 17],\n",
        " [u'nex3', 17],\n",
        " [u'isaacs', 17],\n",
        " [u'robrix', 16],\n",
        " [u'josegonzalez', 16],\n",
        " [u'swannodette', 16],\n",
        " [u'alloy', 16],\n",
        " [u'mjackson', 16],\n",
        " [u'gaearon', 15],\n",
        " [u'audreyt', 15],\n",
        " [u'robdodson', 15],\n",
        " [u'c9s', 14],\n",
        " [u'kevva', 14],\n",
        " [u'jonathanong', 14],\n",
        " [u'michaelklishin', 13],\n",
        " [u'happypeter', 13],\n",
        " [u'drnic', 13],\n",
        " [u'contra', 13],\n",
        " [u'ianb', 13],\n",
        " [u'cvrebert', 12],\n",
        " [u'ekmett', 12],\n",
        " [u'sferik', 12],\n",
        " [u'headius', 12],\n",
        " [u'jdalton', 11],\n",
        " [u'arturoc', 11],\n",
        " [u'mcollina', 10],\n",
        " [u'kytrinyx', 10],\n",
        " [u'mattn', 10],\n",
        " [u'davidfowl', 10],\n",
        " [u'sole', 10],\n",
        " [u'springmeyer', 9],\n",
        " [u'creationix', 9],\n",
        " [u'ayende', 9],\n",
        " [u'balupton', 9],\n",
        " [u'EisenbergEffect', 8],\n",
        " [u'schacon', 8],\n",
        " [u'appleboy', 8],\n",
        " [u'odersky', 8],\n",
        " [u'brianchandotcom', 7],\n",
        " [u'ornicar', 7],\n",
        " [u'madskristensen', 7],\n",
        " [u'zilongshanren', 7],\n",
        " [u'simurai', 7],\n",
        " [u'Raynos', 6],\n",
        " [u'ddollar', 6],\n",
        " [u'pippinsplugins', 6],\n",
        " [u'matthewmccullough', 6],\n",
        " [u'tenderlove', 6],\n",
        " [u'tokuhirom', 6],\n",
        " [u'amueller', 6],\n",
        " [u'olivergierke', 6],\n",
        " [u'akrabat', 6],\n",
        " [u'kevinsawicki', 5],\n",
        " [u'3rd-Eden', 5],\n",
        " [u'kazuho', 5],\n",
        " [u'leebyron', 5],\n",
        " [u'mikolalysenko', 5],\n",
        " [u'kana', 5],\n",
        " [u'graydon', 5],\n",
        " [u'davecheney', 5],\n",
        " [u'jlord', 5],\n",
        " [u'aslakhellesoy', 5],\n",
        " [u'jakevdp', 5],\n",
        " [u'hughsk', 5],\n",
        " [u'soyjavi', 5],\n",
        " [u'Ocramius', 4],\n",
        " [u'taylorotwell', 4],\n",
        " [u'michalbe', 4],\n",
        " [u'dominictarr', 4],\n",
        " [u'PaulKinlan', 4],\n",
        " [u'mathiasbynens', 4],\n",
        " [u'shama', 4],\n",
        " [u'aaronpk', 4],\n",
        " [u'steveklabnik', 3],\n",
        " [u'benbalter', 3],\n",
        " [u'frsyuki', 3],\n",
        " [u'alex', 3],\n",
        " [u'purcell', 3],\n",
        " [u'parkr', 3],\n",
        " [u'arunoda', 3],\n",
        " [u'tqchen', 3],\n",
        " [u'paulcbetts', 3],\n",
        " [u'indirect', 3],\n",
        " [u'stephenplusplus', 3],\n",
        " [u'andrew', 3],\n",
        " [u'Seldaek', 3],\n",
        " [u'mattdesl', 2],\n",
        " [u'derickr', 2],\n",
        " [u'samdark', 2],\n",
        " [u'STRd6', 2],\n",
        " [u'sahat', 2],\n",
        " [u'arun-gupta', 2],\n",
        " [u'alanhamlett', 2],\n",
        " [u'timoxley', 2],\n",
        " [u'sorah', 2],\n",
        " [u'barryvdh', 2],\n",
        " [u'sebmck', 1],\n",
        " [u'mikermcneil', 1],\n",
        " [u'yiminghe', 1],\n",
        " [u'nathansobo', 1],\n",
        " [u'vladikoff', 1],\n",
        " [u'zpao', 1],\n",
        " [u'soimort', 1],\n",
        " [u'stefanpenner', 0],\n",
        " [u'jamesward', 0],\n",
        " [u'weaverryan', 0],\n",
        " [u'fsouza', 0],\n",
        " [u'rafaelfranca', 0],\n",
        " [u'gdi2290', 0],\n",
        " [u'rwaldron', 0],\n",
        " [u'stof', 0],\n",
        " [u'fengmk2', 0],\n",
        " [u'STRML', 0],\n",
        " [u'freddix', 0],\n",
        " [u'sokra', 0],\n",
        " [u'jiyinyiyong', 0],\n",
        " [u'spicyj', 0]]"
       ]
      }
     ],
     "prompt_number": 58
    },
    {
     "cell_type": "code",
     "collapsed": false,
     "input": [],
     "language": "python",
     "metadata": {},
     "outputs": []
    }
   ],
   "metadata": {}
  }
 ]
}