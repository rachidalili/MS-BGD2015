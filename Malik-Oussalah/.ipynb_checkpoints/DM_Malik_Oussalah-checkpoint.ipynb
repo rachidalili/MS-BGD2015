{
 "cells": [
  {
   "cell_type": "markdown",
   "metadata": {},
   "source": [
    "# Exercice 1#\n"
   ]
  },
  {
   "cell_type": "markdown",
   "metadata": {},
   "source": [
    "# 1) \n",
    "Dans cette première partie notre objectif est de déterminer sur un ensemble de données\n",
    "un estimateur linéaire de la concentration en ozone à partir des variables suivantes :\n",
    "* le rayonnement solaire\n",
    "* la force du vent \n",
    "* la température\n",
    "* le jour de la mesure\n",
    "* le mois de la mesure\n",
    "\n",
    "soit le modèle linéaire avec condition gaussienne :\n",
    "\n",
    "$$Y = X\\theta + \\epsilon~~ où~~ X~~ est~~ une~~ matrice~~ (n,p)~~ de~~ rang~~ p,\\\\\n",
    "Y\\in\\mathbb{R}^n\\;\\;et\\;\\;\n",
    "\\theta~~ est~~ un~~ vecteur~~ inconnu~~ de~~ \\mathbb{R}^p\\\\\n",
    "~~ \\epsilon~~ est~~ un~~ vecteur~~ de~~ n~~ réalisations~~ indépendantes~~ d’une~~ v.a.\\\\\n",
    "gaussienne~~ de~~ moyenne~~ 0~~ et~~ de~~ variance~~ \\sigma^2*\\mathsf{I}d\\\\\n",
    "tel~~ que~~ \\epsilon\\sim\\mathcal{N}(0_n,\\sigma^2*\\mathsf{I}d)\\\\\n",
    "on~~ peut~~ aussi~~ noter~~ y_i~~ =~~ {\\theta}_0^{*} + \\sum_{j=1}^{p} {\\theta}_j^{*}x_{ij} + {\\epsilon}_i\\\\\n",
    "avec~~ {\\epsilon}_i = {\\cal{N}}(0,{\\sigma}^2)~~ \\forall i = 1,...,n$$\n",
    "\n"
   ]
  },
  {
   "cell_type": "markdown",
   "metadata": {
    "collapsed": true
   },
   "source": [
    "# 2)\n"
   ]
  },
  {
   "cell_type": "code",
   "execution_count": 1,
   "metadata": {
    "collapsed": false
   },
   "outputs": [
    {
     "data": {
      "text/html": [
       "<div>\n",
       "<table border=\"1\" class=\"dataframe\">\n",
       "  <thead>\n",
       "    <tr style=\"text-align: right;\">\n",
       "      <th></th>\n",
       "      <th>Ozone</th>\n",
       "      <th>Solar.R</th>\n",
       "      <th>Wind</th>\n",
       "      <th>Temp</th>\n",
       "      <th>Month</th>\n",
       "      <th>Day</th>\n",
       "    </tr>\n",
       "  </thead>\n",
       "  <tbody>\n",
       "    <tr>\n",
       "      <th>0</th>\n",
       "      <td>41</td>\n",
       "      <td>190</td>\n",
       "      <td>7.4</td>\n",
       "      <td>67</td>\n",
       "      <td>5</td>\n",
       "      <td>1</td>\n",
       "    </tr>\n",
       "    <tr>\n",
       "      <th>1</th>\n",
       "      <td>36</td>\n",
       "      <td>118</td>\n",
       "      <td>8.0</td>\n",
       "      <td>72</td>\n",
       "      <td>5</td>\n",
       "      <td>2</td>\n",
       "    </tr>\n",
       "    <tr>\n",
       "      <th>2</th>\n",
       "      <td>12</td>\n",
       "      <td>149</td>\n",
       "      <td>12.6</td>\n",
       "      <td>74</td>\n",
       "      <td>5</td>\n",
       "      <td>3</td>\n",
       "    </tr>\n",
       "    <tr>\n",
       "      <th>3</th>\n",
       "      <td>18</td>\n",
       "      <td>313</td>\n",
       "      <td>11.5</td>\n",
       "      <td>62</td>\n",
       "      <td>5</td>\n",
       "      <td>4</td>\n",
       "    </tr>\n",
       "    <tr>\n",
       "      <th>4</th>\n",
       "      <td>NaN</td>\n",
       "      <td>NaN</td>\n",
       "      <td>14.3</td>\n",
       "      <td>56</td>\n",
       "      <td>5</td>\n",
       "      <td>5</td>\n",
       "    </tr>\n",
       "  </tbody>\n",
       "</table>\n",
       "</div>"
      ],
      "text/plain": [
       "   Ozone  Solar.R  Wind  Temp  Month  Day\n",
       "0     41      190   7.4    67      5    1\n",
       "1     36      118   8.0    72      5    2\n",
       "2     12      149  12.6    74      5    3\n",
       "3     18      313  11.5    62      5    4\n",
       "4    NaN      NaN  14.3    56      5    5"
      ]
     },
     "execution_count": 1,
     "metadata": {},
     "output_type": "execute_result"
    }
   ],
   "source": [
    "# -*- coding: utf-8 -*-\n",
    "#\n",
    "#Importation des librairies nécessaires\n",
    "#\n",
    "import numpy as np\n",
    "import pandas as pd\n",
    "import seaborn as sb\n",
    "import matplotlib.pyplot as plt\n",
    "import statsmodels.datasets as sm\n",
    "from IPython.display import display, Math, Latex\n",
    "import pylab\n",
    "import numpy.random as npr\n",
    "\n",
    "dataset = sm.get_rdataset('airquality').data\n",
    "dataset.head()\n"
   ]
  },
  {
   "cell_type": "markdown",
   "metadata": {},
   "source": [
    "# 3)"
   ]
  },
  {
   "cell_type": "code",
   "execution_count": 2,
   "metadata": {
    "collapsed": false
   },
   "outputs": [
    {
     "data": {
      "text/html": [
       "<div>\n",
       "<table border=\"1\" class=\"dataframe\">\n",
       "  <thead>\n",
       "    <tr style=\"text-align: right;\">\n",
       "      <th></th>\n",
       "      <th>Ozone</th>\n",
       "      <th>Solar.R</th>\n",
       "      <th>Wind</th>\n",
       "      <th>Temp</th>\n",
       "      <th>Month</th>\n",
       "      <th>Day</th>\n",
       "    </tr>\n",
       "  </thead>\n",
       "  <tbody>\n",
       "    <tr>\n",
       "      <th>0</th>\n",
       "      <td>41</td>\n",
       "      <td>190</td>\n",
       "      <td>7.4</td>\n",
       "      <td>67</td>\n",
       "      <td>5</td>\n",
       "      <td>1</td>\n",
       "    </tr>\n",
       "    <tr>\n",
       "      <th>1</th>\n",
       "      <td>36</td>\n",
       "      <td>118</td>\n",
       "      <td>8.0</td>\n",
       "      <td>72</td>\n",
       "      <td>5</td>\n",
       "      <td>2</td>\n",
       "    </tr>\n",
       "    <tr>\n",
       "      <th>2</th>\n",
       "      <td>12</td>\n",
       "      <td>149</td>\n",
       "      <td>12.6</td>\n",
       "      <td>74</td>\n",
       "      <td>5</td>\n",
       "      <td>3</td>\n",
       "    </tr>\n",
       "    <tr>\n",
       "      <th>3</th>\n",
       "      <td>18</td>\n",
       "      <td>313</td>\n",
       "      <td>11.5</td>\n",
       "      <td>62</td>\n",
       "      <td>5</td>\n",
       "      <td>4</td>\n",
       "    </tr>\n",
       "    <tr>\n",
       "      <th>6</th>\n",
       "      <td>23</td>\n",
       "      <td>299</td>\n",
       "      <td>8.6</td>\n",
       "      <td>65</td>\n",
       "      <td>5</td>\n",
       "      <td>7</td>\n",
       "    </tr>\n",
       "  </tbody>\n",
       "</table>\n",
       "</div>"
      ],
      "text/plain": [
       "   Ozone  Solar.R  Wind  Temp  Month  Day\n",
       "0     41      190   7.4    67      5    1\n",
       "1     36      118   8.0    72      5    2\n",
       "2     12      149  12.6    74      5    3\n",
       "3     18      313  11.5    62      5    4\n",
       "6     23      299   8.6    65      5    7"
      ]
     },
     "execution_count": 2,
     "metadata": {},
     "output_type": "execute_result"
    }
   ],
   "source": [
    "dataset = dataset.dropna()\n",
    "dataset.head()"
   ]
  },
  {
   "cell_type": "markdown",
   "metadata": {},
   "source": [
    "# 4)"
   ]
  },
  {
   "cell_type": "code",
   "execution_count": 3,
   "metadata": {
    "collapsed": false
   },
   "outputs": [
    {
     "data": {
      "text/plain": [
       "LinearRegression(copy_X=True, fit_intercept=True, n_jobs=1, normalize=False)"
      ]
     },
     "execution_count": 3,
     "metadata": {},
     "output_type": "execute_result"
    }
   ],
   "source": [
    "from sklearn import linear_model\n",
    "y_train = dataset['Ozone']\n",
    "x_train = dataset[['Solar.R','Wind','Temp','Month','Day']]\n",
    "x_scaled = (x_train - np.mean(x_train))/np.std(x_train)\n",
    "y_scaled = (y_train - np.mean(y_train))/np.std(y_train)\n",
    "skl_linmod_ozone = linear_model.LinearRegression()\n",
    "skl_linmod_ozone.fit(x_scaled,y_scaled)"
   ]
  },
  {
   "cell_type": "markdown",
   "metadata": {},
   "source": [
    "# 5)"
   ]
  },
  {
   "cell_type": "code",
   "execution_count": 4,
   "metadata": {
    "collapsed": false,
    "scrolled": true
   },
   "outputs": [
    {
     "data": {
      "text/latex": [
       "$$\\theta_0 =1.04978497857e-15$$"
      ],
      "text/plain": [
       "<IPython.core.display.Math object>"
      ]
     },
     "metadata": {},
     "output_type": "display_data"
    },
    {
     "data": {
      "text/latex": [
       "$$\\widehat\\theta = \\begin{bmatrix}0.137715597129\\\\-0.354792727082\\\\0.542937943515\\\\-0.13460690283\\\\0.0716644744076\\end{bmatrix}$$"
      ],
      "text/plain": [
       "<IPython.core.display.Math object>"
      ]
     },
     "metadata": {},
     "output_type": "display_data"
    }
   ],
   "source": [
    "display(Math(r'$\\theta_0 ='+str(skl_linmod_ozone.intercept_)))\n",
    "theta_hat = skl_linmod_ozone.coef_\n",
    "display(Math(r'$\\widehat\\theta = \\begin{bmatrix}'+r'{0}'.format(theta_hat[0])+r'\\\\{0}'.format(theta_hat[1])+r'\\\\{0}'.format(theta_hat[2])+r'\\\\{0}'.format(theta_hat[3])+r'\\\\{0}'.format(theta_hat[4])+r'\\end{bmatrix}$'))\n"
   ]
  },
  {
   "cell_type": "markdown",
   "metadata": {},
   "source": [
    "l'estimateur sans biais de la variance $$\\hat{\\sigma^2} = \\frac{\\Vert~ y-\\hat{y}\\Vert^2}{n-rang(X)}\\\n",
    "où~~ y~~ -~~ \\hat{y}~~ est~~ le~~ vecteur~~ résidus~~ avec~~ \\hat{y} = X\\hat{\\theta}$$ "
   ]
  },
  {
   "cell_type": "code",
   "execution_count": 5,
   "metadata": {
    "collapsed": false
   },
   "outputs": [
    {
     "data": {
      "text/latex": [
       "$$\\hat{\\sigma^2}= 0.392750672428$$"
      ],
      "text/plain": [
       "<IPython.core.display.Math object>"
      ]
     },
     "metadata": {},
     "output_type": "display_data"
    }
   ],
   "source": [
    "y_hat = skl_linmod_ozone.predict(x_scaled) \n",
    "residus = y_scaled - y_hat  \n",
    "norm_2 = residus.T.dot(residus) #calcul de la norme carré des résidus\n",
    "n = len(y_scaled)\n",
    "p = np.linalg.matrix_rank(x_scaled)\n",
    "var_hat = norm_2/(n - p)\n",
    "#l'estimateur sans biais de la variance #\n",
    "display(Math(r'$\\hat{\\sigma^2}= '+ str(var_hat)))"
   ]
  },
  {
   "cell_type": "markdown",
   "metadata": {},
   "source": [
    "# 6)"
   ]
  },
  {
   "cell_type": "code",
   "execution_count": null,
   "metadata": {
    "collapsed": true
   },
   "outputs": [],
   "source": []
  },
  {
   "cell_type": "code",
   "execution_count": 10,
   "metadata": {
    "collapsed": false
   },
   "outputs": [
    {
     "name": "stdout",
     "output_type": "stream",
     "text": [
      "2.62346549523\n"
     ]
    },
    {
     "data": {
      "text/latex": [
       "$$IC^*_1 =[ -1.50640558717;1.78183678143]$$"
      ],
      "text/plain": [
       "<IPython.core.display.Math object>"
      ]
     },
     "metadata": {},
     "output_type": "display_data"
    },
    {
     "data": {
      "text/latex": [
       "$$IC^*_2 =[ -1.99891391138;1.28932845722]$$"
      ],
      "text/plain": [
       "<IPython.core.display.Math object>"
      ]
     },
     "metadata": {},
     "output_type": "display_data"
    },
    {
     "data": {
      "text/latex": [
       "$$IC^*_3 =[ -1.10118324079;2.18705912782]$$"
      ],
      "text/plain": [
       "<IPython.core.display.Math object>"
      ]
     },
     "metadata": {},
     "output_type": "display_data"
    },
    {
     "data": {
      "text/latex": [
       "$$IC^*_4 =[ -1.77872808713;1.50951428147]$$"
      ],
      "text/plain": [
       "<IPython.core.display.Math object>"
      ]
     },
     "metadata": {},
     "output_type": "display_data"
    },
    {
     "data": {
      "text/latex": [
       "$$IC^*_5 =[ -1.57245670989;1.71578565871]$$"
      ],
      "text/plain": [
       "<IPython.core.display.Math object>"
      ]
     },
     "metadata": {},
     "output_type": "display_data"
    },
    {
     "name": "stdout",
     "output_type": "stream",
     "text": [
      "0.137715597129\n",
      "-0.354792727082\n",
      "0.542937943515\n",
      "-0.13460690283\n",
      "0.0716644744076\n",
      " \n",
      "on remarque que les variables Day et Month\n",
      "restent importante étant donné que l'estimateur theta_hat(3) et theta_hat(4)\n",
      "appartiennent respectivement à IC(3) et IC(4)\n"
     ]
    }
   ],
   "source": [
    "#d'apres la prop 1 on peut utiliser la Statistiques de Student avec theta_hat et var_hat\n",
    "from scipy.stats import t\n",
    "alpha = 1 - 0.99\n",
    "t_q = t.ppf(1 - alpha/2,n-p-1)\n",
    "print t_q\n",
    "\n",
    "def left(i):\n",
    "    \"\"\"fonction qui calcule la borne inférieure de l'intervalle de confiance pour theta_hat(i)\"\"\"\n",
    "    return theta_hat[i] - t_q*np.math.sqrt(var_hat)\n",
    "\n",
    "def right(i):\n",
    "    \"\"\"fonction qui calcule la borne suppérieure de l'intervalle de confiance pour theta_hat(i)\"\"\"\n",
    "    return theta_hat[i] + t_q*np.math.sqrt(var_hat)\n",
    "\n",
    "def IC(i):\n",
    "    \"\"\"intervalle de confiance pour theta_hat(i)\"\"\"\n",
    "    return \"[ \"+str(left(i))+\";\"+str(right(i)) + \"]\"\n",
    "\n",
    "#on affiche les intervalles de confiance pour les différents theta_hat(i) avec i=0...4\n",
    "display(Math(r'$IC^*_1 ={}$'.format(IC(0))))\n",
    "display(Math(r'$IC^*_2 ={}$'.format(IC(1))))\n",
    "display(Math(r'$IC^*_3 ={}$'.format(IC(2))))\n",
    "display(Math(r'$IC^*_4 ={}$'.format(IC(3))))\n",
    "display(Math(r'$IC^*_5 ={}$'.format(IC(4))))\n",
    "\n",
    "print theta_hat[0]\n",
    "print theta_hat[1]\n",
    "print theta_hat[2]\n",
    "print theta_hat[3]\n",
    "print theta_hat[4]\n",
    "print \" \"\n",
    "print \"on remarque que les variables Day et Month\" \n",
    "print\"restent importante étant donné que l'estimateur theta_hat(3) et theta_hat(4)\"\n",
    "print \"appartiennent respectivement à IC(3) et IC(4)\""
   ]
  },
  {
   "cell_type": "markdown",
   "metadata": {
    "collapsed": true
   },
   "source": [
    "# 7)"
   ]
  },
  {
   "cell_type": "markdown",
   "metadata": {},
   "source": [
    "$$On~~ remarque~~ que~~ les~~ variables~~ Day~~ et~~ Month\\\\ \n",
    "restent~~ importantes~~ étant~~ donné~~ que~~ \\hat{\\theta_4} \\in IC_4^*~~ et~~ \\hat{\\theta_5} \\in IC_5^*\n",
    "$$"
   ]
  },
  {
   "cell_type": "markdown",
   "metadata": {},
   "source": [
    "# 8)"
   ]
  },
  {
   "cell_type": "code",
   "execution_count": 9,
   "metadata": {
    "collapsed": false
   },
   "outputs": [
    {
     "name": "stdout",
     "output_type": "stream",
     "text": [
      "La prédiction pour cette nouvelle observation donne : \n"
     ]
    },
    {
     "data": {
      "text/latex": [
       "$$\\hat{y}_{new}~~ =~~ 61.6680879301$$"
      ],
      "text/plain": [
       "<IPython.core.display.Math object>"
      ]
     },
     "metadata": {},
     "output_type": "display_data"
    }
   ],
   "source": [
    "#Création de la nouvelle observation\n",
    "listenom = ['Solar.R','Wind','Temp','Month','Day']\n",
    "newline = pd.DataFrame([[197, 10, 70, 1,3]], columns = listenom)\n",
    "\n",
    "#prédiction de la valeur d'Ozone pour la nouvelle observation\n",
    "y_newline_pred = skl_linmod_ozone.predict(newline)\n",
    "print \"La prédiction pour cette nouvelle observation donne : \" \n",
    "display(Math(r'$\\hat{y}_{new}~~ =~~ '+str(y_newline_pred[0])))"
   ]
  },
  {
   "cell_type": "markdown",
   "metadata": {},
   "source": [
    "# Exercice 2 #"
   ]
  },
  {
   "cell_type": "code",
   "execution_count": null,
   "metadata": {
    "collapsed": false
   },
   "outputs": [],
   "source": []
  },
  {
   "cell_type": "code",
   "execution_count": null,
   "metadata": {
    "collapsed": true
   },
   "outputs": [],
   "source": []
  }
 ],
 "metadata": {
  "kernelspec": {
   "display_name": "Python 2",
   "language": "python",
   "name": "python2"
  },
  "language_info": {
   "codemirror_mode": {
    "name": "ipython",
    "version": 2
   },
   "file_extension": ".py",
   "mimetype": "text/x-python",
   "name": "python",
   "nbconvert_exporter": "python",
   "pygments_lexer": "ipython2",
   "version": "2.7.10"
  }
 },
 "nbformat": 4,
 "nbformat_minor": 0
}
