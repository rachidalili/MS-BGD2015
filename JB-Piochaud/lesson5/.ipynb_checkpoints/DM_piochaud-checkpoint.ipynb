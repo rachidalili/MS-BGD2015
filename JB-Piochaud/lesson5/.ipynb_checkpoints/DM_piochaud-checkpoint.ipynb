{
 "cells": [
  {
   "cell_type": "code",
   "execution_count": 256,
   "metadata": {
    "collapsed": false
   },
   "outputs": [],
   "source": [
    "%matplotlib inline\n",
    "\n",
    "import statsmodels.api as sm\n",
    "import pandas as pd\n",
    "from sklearn import linear_model\n",
    "from matplotlib import rc\n",
    "import matplotlib.pyplot as plt\n",
    "from sklearn import preprocessing\n",
    "import numpy as np\n",
    "import scipy as sci\n",
    "from pandas.tools.plotting import bootstrap_plot\n",
    "skl_linmod = linear_model.LinearRegression()\n",
    "\n",
    "from sklearn.utils import resample as resample\n",
    "import math\n",
    "\n",
    "pd.set_option('display.float_format', '{:.1E}'.format)\n",
    "\n",
    "rc('font', **{'family': 'sans-serif', 'sans-serif': ['Computer Modern Roman']})\n",
    "params = {'axes.labelsize': 12,\n",
    "          'font.size': 12,\n",
    "          'legend.fontsize': 12,\n",
    "          'xtick.labelsize': 10,\n",
    "          'ytick.labelsize': 10,\n",
    "          'text.usetex': True,\n",
    "          'figure.figsize': (8, 6)}\n",
    "plt.rcParams.update(params)\n"
   ]
  },
  {
   "cell_type": "markdown",
   "metadata": {},
   "source": [
    "# Exercice 1"
   ]
  },
  {
   "cell_type": "markdown",
   "metadata": {},
   "source": [
    "### Question1: Écrire mathématiquement le modèle linéaire correspondant."
   ]
  },
  {
   "cell_type": "markdown",
   "metadata": {},
   "source": [
    "$$ y = X\\theta^{*} + \\mathcal{N}(O_{n},\\sigma^{2}I_{d}) $$"
   ]
  },
  {
   "cell_type": "markdown",
   "metadata": {},
   "source": [
    "### Question 2: Récupérer le jeu de données à partir du package statsmodels.datasets. On pourra utiliser la fonction get_rdataset de ce package avec la méthode data."
   ]
  },
  {
   "cell_type": "code",
   "execution_count": 259,
   "metadata": {
    "collapsed": false,
    "scrolled": true
   },
   "outputs": [
    {
     "data": {
      "text/html": [
       "<div>\n",
       "<table border=\"1\" class=\"dataframe\">\n",
       "  <thead>\n",
       "    <tr style=\"text-align: right;\">\n",
       "      <th></th>\n",
       "      <th>Ozone</th>\n",
       "      <th>Solar.R</th>\n",
       "      <th>Wind</th>\n",
       "      <th>Temp</th>\n",
       "      <th>Month</th>\n",
       "      <th>Day</th>\n",
       "    </tr>\n",
       "  </thead>\n",
       "  <tbody>\n",
       "    <tr>\n",
       "      <th>0</th>\n",
       "      <td>4.1E+01</td>\n",
       "      <td>1.9E+02</td>\n",
       "      <td>7.4E+00</td>\n",
       "      <td>67</td>\n",
       "      <td>5</td>\n",
       "      <td>1</td>\n",
       "    </tr>\n",
       "    <tr>\n",
       "      <th>1</th>\n",
       "      <td>3.6E+01</td>\n",
       "      <td>1.2E+02</td>\n",
       "      <td>8.0E+00</td>\n",
       "      <td>72</td>\n",
       "      <td>5</td>\n",
       "      <td>2</td>\n",
       "    </tr>\n",
       "    <tr>\n",
       "      <th>2</th>\n",
       "      <td>1.2E+01</td>\n",
       "      <td>1.5E+02</td>\n",
       "      <td>1.3E+01</td>\n",
       "      <td>74</td>\n",
       "      <td>5</td>\n",
       "      <td>3</td>\n",
       "    </tr>\n",
       "    <tr>\n",
       "      <th>3</th>\n",
       "      <td>1.8E+01</td>\n",
       "      <td>3.1E+02</td>\n",
       "      <td>1.2E+01</td>\n",
       "      <td>62</td>\n",
       "      <td>5</td>\n",
       "      <td>4</td>\n",
       "    </tr>\n",
       "    <tr>\n",
       "      <th>4</th>\n",
       "      <td>NAN</td>\n",
       "      <td>NAN</td>\n",
       "      <td>1.4E+01</td>\n",
       "      <td>56</td>\n",
       "      <td>5</td>\n",
       "      <td>5</td>\n",
       "    </tr>\n",
       "  </tbody>\n",
       "</table>\n",
       "</div>"
      ],
      "text/plain": [
       "    Ozone  Solar.R    Wind  Temp  Month  Day\n",
       "0 4.1E+01  1.9E+02 7.4E+00    67      5    1\n",
       "1 3.6E+01  1.2E+02 8.0E+00    72      5    2\n",
       "2 1.2E+01  1.5E+02 1.3E+01    74      5    3\n",
       "3 1.8E+01  3.1E+02 1.2E+01    62      5    4\n",
       "4     NAN      NAN 1.4E+01    56      5    5"
      ]
     },
     "execution_count": 259,
     "metadata": {},
     "output_type": "execute_result"
    }
   ],
   "source": [
    "df = sm.datasets.get_rdataset(\"airquality\").data\n",
    "df.head()"
   ]
  },
  {
   "cell_type": "markdown",
   "metadata": {},
   "source": [
    "### Question 3: Enlever les lignes qui contiennent des valeurs manquantes."
   ]
  },
  {
   "cell_type": "code",
   "execution_count": 260,
   "metadata": {
    "collapsed": false
   },
   "outputs": [
    {
     "data": {
      "text/html": [
       "<div>\n",
       "<table border=\"1\" class=\"dataframe\">\n",
       "  <thead>\n",
       "    <tr style=\"text-align: right;\">\n",
       "      <th></th>\n",
       "      <th>Ozone</th>\n",
       "      <th>Solar.R</th>\n",
       "      <th>Wind</th>\n",
       "      <th>Temp</th>\n",
       "      <th>Month</th>\n",
       "      <th>Day</th>\n",
       "    </tr>\n",
       "  </thead>\n",
       "  <tbody>\n",
       "    <tr>\n",
       "      <th>0</th>\n",
       "      <td>4.1E+01</td>\n",
       "      <td>1.9E+02</td>\n",
       "      <td>7.4E+00</td>\n",
       "      <td>67</td>\n",
       "      <td>5</td>\n",
       "      <td>1</td>\n",
       "    </tr>\n",
       "    <tr>\n",
       "      <th>1</th>\n",
       "      <td>3.6E+01</td>\n",
       "      <td>1.2E+02</td>\n",
       "      <td>8.0E+00</td>\n",
       "      <td>72</td>\n",
       "      <td>5</td>\n",
       "      <td>2</td>\n",
       "    </tr>\n",
       "    <tr>\n",
       "      <th>2</th>\n",
       "      <td>1.2E+01</td>\n",
       "      <td>1.5E+02</td>\n",
       "      <td>1.3E+01</td>\n",
       "      <td>74</td>\n",
       "      <td>5</td>\n",
       "      <td>3</td>\n",
       "    </tr>\n",
       "    <tr>\n",
       "      <th>3</th>\n",
       "      <td>1.8E+01</td>\n",
       "      <td>3.1E+02</td>\n",
       "      <td>1.2E+01</td>\n",
       "      <td>62</td>\n",
       "      <td>5</td>\n",
       "      <td>4</td>\n",
       "    </tr>\n",
       "    <tr>\n",
       "      <th>6</th>\n",
       "      <td>2.3E+01</td>\n",
       "      <td>3.0E+02</td>\n",
       "      <td>8.6E+00</td>\n",
       "      <td>65</td>\n",
       "      <td>5</td>\n",
       "      <td>7</td>\n",
       "    </tr>\n",
       "  </tbody>\n",
       "</table>\n",
       "</div>"
      ],
      "text/plain": [
       "    Ozone  Solar.R    Wind  Temp  Month  Day\n",
       "0 4.1E+01  1.9E+02 7.4E+00    67      5    1\n",
       "1 3.6E+01  1.2E+02 8.0E+00    72      5    2\n",
       "2 1.2E+01  1.5E+02 1.3E+01    74      5    3\n",
       "3 1.8E+01  3.1E+02 1.2E+01    62      5    4\n",
       "6 2.3E+01  3.0E+02 8.6E+00    65      5    7"
      ]
     },
     "execution_count": 260,
     "metadata": {},
     "output_type": "execute_result"
    }
   ],
   "source": [
    "def setDataFrame():\n",
    "    df = sm.datasets.get_rdataset(\"airquality\").data\n",
    "    return df.dropna()\n",
    "\n",
    "df = setDataFrame()\n",
    "df.head()"
   ]
  },
  {
   "cell_type": "markdown",
   "metadata": {
    "collapsed": false
   },
   "source": [
    "### Question 4: Ajuster le modèle par la méthode des moindres carrés (avec sklearn ou statsmodels), enrégressant la variable 'Ozonne' sur les cinq autres variables. On se placera dans le cas où l’on a centré et réduit les variables explicatives au préalable."
   ]
  },
  {
   "cell_type": "markdown",
   "metadata": {},
   "source": [
    "On définit les variables a expliquer ainsi que les variables explicatives centrées et réduites:"
   ]
  },
  {
   "cell_type": "code",
   "execution_count": 261,
   "metadata": {
    "collapsed": false
   },
   "outputs": [],
   "source": [
    "def setVarToPredict():\n",
    "    return df[['Ozone']].reset_index(drop=True).reset_index(drop=True)\n",
    "\n",
    "def setVarToExplain():\n",
    "    return df[['Solar.R', 'Wind', 'Temp', 'Month', 'Day']].reset_index(drop=True)\n",
    "\n",
    "def setVarToExplain_cr():\n",
    "    X__cr = setVarToExplain()\n",
    "    X__cr = preprocessing.StandardScaler().fit_transform(X__cr)\n",
    "    return pd.DataFrame(X__cr, columns=['Solar.R', 'Wind', 'Temp', 'Month', 'Day'])\n",
    "\n",
    "def setVarToExplain_crWithOnes():\n",
    "    X__crWithOnes = setVarToExplain_cr()\n",
    "    X__crWithOnes.insert(0,\"Constant\",np.ones(X__crWithOnes.shape[0],float))\n",
    "    return X__crWithOnes\n",
    "\n",
    "\n",
    "y = setVarToPredict()\n",
    "X_cr = setVarToExplain_cr()\n",
    "X_crWithOnes = setVarToExplain_crWithOnes()"
   ]
  },
  {
   "cell_type": "code",
   "execution_count": 262,
   "metadata": {
    "collapsed": false
   },
   "outputs": [
    {
     "data": {
      "text/html": [
       "<div>\n",
       "<table border=\"1\" class=\"dataframe\">\n",
       "  <thead>\n",
       "    <tr style=\"text-align: right;\">\n",
       "      <th></th>\n",
       "      <th>Solar.R</th>\n",
       "      <th>Wind</th>\n",
       "      <th>Temp</th>\n",
       "      <th>Month</th>\n",
       "      <th>Day</th>\n",
       "    </tr>\n",
       "  </thead>\n",
       "  <tbody>\n",
       "    <tr>\n",
       "      <th>0</th>\n",
       "      <td>5.7E-02</td>\n",
       "      <td>-7.2E-01</td>\n",
       "      <td>-1.1E+00</td>\n",
       "      <td>-1.5E+00</td>\n",
       "      <td>-1.7E+00</td>\n",
       "    </tr>\n",
       "    <tr>\n",
       "      <th>1</th>\n",
       "      <td>-7.4E-01</td>\n",
       "      <td>-5.5E-01</td>\n",
       "      <td>-6.1E-01</td>\n",
       "      <td>-1.5E+00</td>\n",
       "      <td>-1.6E+00</td>\n",
       "    </tr>\n",
       "    <tr>\n",
       "      <th>2</th>\n",
       "      <td>-3.9E-01</td>\n",
       "      <td>7.5E-01</td>\n",
       "      <td>-4.0E-01</td>\n",
       "      <td>-1.5E+00</td>\n",
       "      <td>-1.5E+00</td>\n",
       "    </tr>\n",
       "    <tr>\n",
       "      <th>3</th>\n",
       "      <td>1.4E+00</td>\n",
       "      <td>4.4E-01</td>\n",
       "      <td>-1.7E+00</td>\n",
       "      <td>-1.5E+00</td>\n",
       "      <td>-1.4E+00</td>\n",
       "    </tr>\n",
       "    <tr>\n",
       "      <th>4</th>\n",
       "      <td>1.3E+00</td>\n",
       "      <td>-3.8E-01</td>\n",
       "      <td>-1.3E+00</td>\n",
       "      <td>-1.5E+00</td>\n",
       "      <td>-1.0E+00</td>\n",
       "    </tr>\n",
       "  </tbody>\n",
       "</table>\n",
       "</div>"
      ],
      "text/plain": [
       "   Solar.R     Wind     Temp    Month      Day\n",
       "0  5.7E-02 -7.2E-01 -1.1E+00 -1.5E+00 -1.7E+00\n",
       "1 -7.4E-01 -5.5E-01 -6.1E-01 -1.5E+00 -1.6E+00\n",
       "2 -3.9E-01  7.5E-01 -4.0E-01 -1.5E+00 -1.5E+00\n",
       "3  1.4E+00  4.4E-01 -1.7E+00 -1.5E+00 -1.4E+00\n",
       "4  1.3E+00 -3.8E-01 -1.3E+00 -1.5E+00 -1.0E+00"
      ]
     },
     "execution_count": 262,
     "metadata": {},
     "output_type": "execute_result"
    }
   ],
   "source": [
    "X_cr.head()"
   ]
  },
  {
   "cell_type": "code",
   "execution_count": 263,
   "metadata": {
    "collapsed": false
   },
   "outputs": [
    {
     "data": {
      "text/html": [
       "<div>\n",
       "<table border=\"1\" class=\"dataframe\">\n",
       "  <thead>\n",
       "    <tr style=\"text-align: right;\">\n",
       "      <th></th>\n",
       "      <th>Constant</th>\n",
       "      <th>Solar.R</th>\n",
       "      <th>Wind</th>\n",
       "      <th>Temp</th>\n",
       "      <th>Month</th>\n",
       "      <th>Day</th>\n",
       "    </tr>\n",
       "  </thead>\n",
       "  <tbody>\n",
       "    <tr>\n",
       "      <th>0</th>\n",
       "      <td>1.0E+00</td>\n",
       "      <td>5.7E-02</td>\n",
       "      <td>-7.2E-01</td>\n",
       "      <td>-1.1E+00</td>\n",
       "      <td>-1.5E+00</td>\n",
       "      <td>-1.7E+00</td>\n",
       "    </tr>\n",
       "    <tr>\n",
       "      <th>1</th>\n",
       "      <td>1.0E+00</td>\n",
       "      <td>-7.4E-01</td>\n",
       "      <td>-5.5E-01</td>\n",
       "      <td>-6.1E-01</td>\n",
       "      <td>-1.5E+00</td>\n",
       "      <td>-1.6E+00</td>\n",
       "    </tr>\n",
       "    <tr>\n",
       "      <th>2</th>\n",
       "      <td>1.0E+00</td>\n",
       "      <td>-3.9E-01</td>\n",
       "      <td>7.5E-01</td>\n",
       "      <td>-4.0E-01</td>\n",
       "      <td>-1.5E+00</td>\n",
       "      <td>-1.5E+00</td>\n",
       "    </tr>\n",
       "    <tr>\n",
       "      <th>3</th>\n",
       "      <td>1.0E+00</td>\n",
       "      <td>1.4E+00</td>\n",
       "      <td>4.4E-01</td>\n",
       "      <td>-1.7E+00</td>\n",
       "      <td>-1.5E+00</td>\n",
       "      <td>-1.4E+00</td>\n",
       "    </tr>\n",
       "    <tr>\n",
       "      <th>4</th>\n",
       "      <td>1.0E+00</td>\n",
       "      <td>1.3E+00</td>\n",
       "      <td>-3.8E-01</td>\n",
       "      <td>-1.3E+00</td>\n",
       "      <td>-1.5E+00</td>\n",
       "      <td>-1.0E+00</td>\n",
       "    </tr>\n",
       "  </tbody>\n",
       "</table>\n",
       "</div>"
      ],
      "text/plain": [
       "   Constant  Solar.R     Wind     Temp    Month      Day\n",
       "0   1.0E+00  5.7E-02 -7.2E-01 -1.1E+00 -1.5E+00 -1.7E+00\n",
       "1   1.0E+00 -7.4E-01 -5.5E-01 -6.1E-01 -1.5E+00 -1.6E+00\n",
       "2   1.0E+00 -3.9E-01  7.5E-01 -4.0E-01 -1.5E+00 -1.5E+00\n",
       "3   1.0E+00  1.4E+00  4.4E-01 -1.7E+00 -1.5E+00 -1.4E+00\n",
       "4   1.0E+00  1.3E+00 -3.8E-01 -1.3E+00 -1.5E+00 -1.0E+00"
      ]
     },
     "execution_count": 263,
     "metadata": {},
     "output_type": "execute_result"
    }
   ],
   "source": [
    "X_crWithOnes.head()"
   ]
  },
  {
   "cell_type": "markdown",
   "metadata": {},
   "source": [
    "On définit l'estimateur:"
   ]
  },
  {
   "cell_type": "code",
   "execution_count": 264,
   "metadata": {
    "collapsed": false
   },
   "outputs": [],
   "source": [
    "def estimateur(X,y):\n",
    "    skl_linmod.fit(X, y)\n",
    "    estimateur = [skl_linmod.intercept_, skl_linmod.coef_[0], skl_linmod.coef_[1], \n",
    "              skl_linmod.coef_[2], skl_linmod.coef_[3], skl_linmod.coef_[4]]\n",
    "    estimateur = pd.DataFrame(estimateur, columns=[\"Estimateur\"])\n",
    "    estimateur.index = ['Constante','Solar.R', 'Wind', 'Temp', 'Month', 'Day']\n",
    "    return estimateur"
   ]
  },
  {
   "cell_type": "markdown",
   "metadata": {},
   "source": [
    "### Question 5: Calculer l’estimateur des moindres carrés des coefficients du modèle (ainsi que de l’ordonnée à l’origine) ? Donner l’expression théorique d’un estimateur sans biais de la variance du bruit, puis le résultat numérique obtenu."
   ]
  },
  {
   "cell_type": "code",
   "execution_count": 265,
   "metadata": {
    "collapsed": false
   },
   "outputs": [
    {
     "data": {
      "text/html": [
       "<div>\n",
       "<table border=\"1\" class=\"dataframe\">\n",
       "  <thead>\n",
       "    <tr style=\"text-align: right;\">\n",
       "      <th></th>\n",
       "      <th>Estimateur</th>\n",
       "    </tr>\n",
       "  </thead>\n",
       "  <tbody>\n",
       "    <tr>\n",
       "      <th>Constante</th>\n",
       "      <td>4.2E+01</td>\n",
       "    </tr>\n",
       "    <tr>\n",
       "      <th>Solar.R</th>\n",
       "      <td>4.6E+00</td>\n",
       "    </tr>\n",
       "    <tr>\n",
       "      <th>Wind</th>\n",
       "      <td>-1.2E+01</td>\n",
       "    </tr>\n",
       "    <tr>\n",
       "      <th>Temp</th>\n",
       "      <td>1.8E+01</td>\n",
       "    </tr>\n",
       "    <tr>\n",
       "      <th>Month</th>\n",
       "      <td>-4.5E+00</td>\n",
       "    </tr>\n",
       "    <tr>\n",
       "      <th>Day</th>\n",
       "      <td>2.4E+00</td>\n",
       "    </tr>\n",
       "  </tbody>\n",
       "</table>\n",
       "</div>"
      ],
      "text/plain": [
       "           Estimateur\n",
       "Constante     4.2E+01\n",
       "Solar.R       4.6E+00\n",
       "Wind         -1.2E+01\n",
       "Temp          1.8E+01\n",
       "Month        -4.5E+00\n",
       "Day           2.4E+00"
      ]
     },
     "execution_count": 265,
     "metadata": {},
     "output_type": "execute_result"
    }
   ],
   "source": [
    "X = setVarToExplain_cr()\n",
    "y = setVarToPredict()\n",
    "estimateur_yFromX = estimateur(X,y['Ozone'])\n",
    "estimateur_yFromX"
   ]
  },
  {
   "cell_type": "markdown",
   "metadata": {},
   "source": [
    "un estimateur sans biais de la variance du bruit est :"
   ]
  },
  {
   "cell_type": "markdown",
   "metadata": {},
   "source": [
    "$ \\hat{\\sigma}^2 = \\frac{1}{n - rg(X)} ||y-X\\hat{\\theta}||^2_2 \\>\\>\\> (n > p) $"
   ]
  },
  {
   "cell_type": "markdown",
   "metadata": {},
   "source": [
    "Une autre condition pour construire cet estimateur est que la matrice des variables explicatives doit également être de plein rang. C'est le cas ici puisque son rang est égale au nombre de variables explicatives:"
   ]
  },
  {
   "cell_type": "code",
   "execution_count": 266,
   "metadata": {
    "collapsed": false
   },
   "outputs": [
    {
     "data": {
      "text/plain": [
       "6"
      ]
     },
     "execution_count": 266,
     "metadata": {},
     "output_type": "execute_result"
    }
   ],
   "source": [
    "X = setVarToExplain_crWithOnes()\n",
    "rankX = np.linalg.matrix_rank(X)\n",
    "rankX"
   ]
  },
  {
   "cell_type": "markdown",
   "metadata": {},
   "source": [
    "On définit différentes fonctions par soucis de lisibilité:"
   ]
  },
  {
   "cell_type": "code",
   "execution_count": 267,
   "metadata": {
    "collapsed": false
   },
   "outputs": [],
   "source": [
    "def predicteur(X, estimateur):\n",
    "    predicteur = np.dot(X, estimateur)\n",
    "    return pd.DataFrame(predicteur, columns=[\"Predicteur\"])\n",
    "\n",
    "def residus(y, predicteur):\n",
    "    residus = y - predicteur\n",
    "    return pd.DataFrame(residus, columns=[\"Residus\"])\n",
    "\n",
    "def norme(vecteur):\n",
    "    return np.dot(vecteur.transpose(), vecteur)\n",
    "\n",
    "def estimateurVarSansBiais(norme_residus, nombreObservation, rank):\n",
    "    return norme_residus / (float(nombreObservation-rank))\n",
    "\n",
    "def nombreObservation(X):\n",
    "    return len(X.index)\n",
    "\n",
    "def nombreVariable(X):\n",
    "    return len(X.columns)"
   ]
  },
  {
   "cell_type": "markdown",
   "metadata": {},
   "source": [
    "On calcule l'estimateur sans biais de la variance:"
   ]
  },
  {
   "cell_type": "code",
   "execution_count": 268,
   "metadata": {
    "collapsed": false
   },
   "outputs": [
    {
     "data": {
      "text/plain": [
       "array([[ 435.07549499]])"
      ]
     },
     "execution_count": 268,
     "metadata": {},
     "output_type": "execute_result"
    }
   ],
   "source": [
    "X = setVarToExplain_crWithOnes()\n",
    "y = setVarToPredict()\n",
    "rankX = np.linalg.matrix_rank(X)\n",
    "nombreObservationX = nombreObservation(X)\n",
    "predicteur_yFromX = predicteur(X, estimateur_yFromX)\n",
    "residus_yFromX = residus(y['Ozone'], predicteur_yFromX['Predicteur'])\n",
    "norme_residus_yFromX = norme(residus_yFromX)\n",
    "estimateurVarSansBiais_yFromX = estimateurVarSansBiais(norme_residus_yFromX, nombreObservationX, rankX)\n",
    "estimateurVarSansBiais_yFromX"
   ]
  },
  {
   "cell_type": "markdown",
   "metadata": {},
   "source": [
    "Calcul de l'estimateur sans biais de la variance du bruit:"
   ]
  },
  {
   "cell_type": "markdown",
   "metadata": {},
   "source": [
    "### Question 6: Proposer des intervalles de confiance pour chacun des coefficients de l'estimateur. Calculer les numériquement pour toutes les variables explicatives. On pourra par exemple utiliser scipy.stats.t."
   ]
  },
  {
   "cell_type": "markdown",
   "metadata": {},
   "source": [
    "Nous pouvons ici utiliser une loi de student car: \n",
    "* $\\hat{\\sigma}$ et $\\hat{\\theta}$ sont indépendants: en effet, $\\hat{\\sigma}$ est issu des résidu des moindres carrés, eux mêmes orthogonaux à tous les vecteurs de variables explicatives sur lesquels sont construit les $\\hat{\\theta}$. \n",
    "* $X^{\\top}X$ est inversible: en effet, $rang(X) = Vect( \\mathbb{1}_{n} , x_{1} ,..., x_{p} ) \\Rightarrow Ker(X)= \\{ 0 \\} \\Rightarrow X^{-1} = X^{\\top} \\Rightarrow X^{\\top}X$ est inversible."
   ]
  },
  {
   "cell_type": "markdown",
   "metadata": {},
   "source": [
    "En notant $t_{1-\\alpha/2}$ uun quantile d'ordre $1-\\alpha/2$ de la loi $\\mathfrak{T}_{n-rg(X)}$ alors l'intervalle de confiance de niveau $\\alpha$ s'écrit:\n",
    "$ [ \\hat{\\theta_{j}} - t_{1-\\alpha/2} \\hat{\\sigma} \\sqrt{(X^{\\top}X)_{j,j}^{-1} } \\:\\:,\\:\\: \\hat{\\theta_{j}} + t_{1-\\alpha/2} \\hat{\\sigma} \\sqrt{(X^{\\top}X)_{j,j}^{-1} } ] $"
   ]
  },
  {
   "cell_type": "markdown",
   "metadata": {},
   "source": [
    "Pour calculer $X^{\\top}X$, on définit la fonction covariance_metriqueI qui calcule la matrice de covariance avec la métrique identité. on définit également une fonction calculant l'inverse d'une matrice:"
   ]
  },
  {
   "cell_type": "code",
   "execution_count": 269,
   "metadata": {
    "collapsed": false
   },
   "outputs": [],
   "source": [
    "def covariance_metriqueI(X):\n",
    "    covariance = pd.DataFrame(np.dot(X.transpose(), X))\n",
    "    covariance.index = ['Constante','Solar.R', 'Wind', 'Temp', 'Month', 'Day']\n",
    "    covariance.columns = ['Constante','Solar.R', 'Wind', 'Temp', 'Month', 'Day']\n",
    "    return covariance\n",
    "\n",
    "def inverse(X):\n",
    "    inverse = pd.DataFrame(np.linalg.inv(X))\n",
    "    inverse.index = ['Constante','Solar.R', 'Wind', 'Temp', 'Month', 'Day']\n",
    "    inverse.columns = ['Constante','Solar.R', 'Wind', 'Temp', 'Month', 'Day']\n",
    "    return inverse\n",
    "\n",
    "X = setVarToExplain_crWithOnes()\n",
    "covarianceX = covariance_metriqueI(X)\n",
    "covarianceX_inv = inverse(covarianceX)"
   ]
  },
  {
   "cell_type": "markdown",
   "metadata": {},
   "source": [
    "Puis on calcule $t_{1-\\alpha/2}$:"
   ]
  },
  {
   "cell_type": "code",
   "execution_count": 270,
   "metadata": {
    "collapsed": true
   },
   "outputs": [],
   "source": [
    "alpha = 0.05\n",
    "nombreObservationX = nombreObservation(X)\n",
    "nombreVariableX = nombreVariable(X)\n",
    "quantile_student = sci.stats.t.ppf(1-alpha,nombreObservationX-nombreVariableX-1)"
   ]
  },
  {
   "cell_type": "markdown",
   "metadata": {},
   "source": [
    "Nous obtenons l'intervalle de confiance de niveau 99% suivant:"
   ]
  },
  {
   "cell_type": "code",
   "execution_count": 271,
   "metadata": {
    "collapsed": false
   },
   "outputs": [
    {
     "data": {
      "text/html": [
       "<div>\n",
       "<table border=\"1\" class=\"dataframe\">\n",
       "  <thead>\n",
       "    <tr style=\"text-align: right;\">\n",
       "      <th></th>\n",
       "      <th>IC_min</th>\n",
       "      <th>IC max</th>\n",
       "    </tr>\n",
       "  </thead>\n",
       "  <tbody>\n",
       "    <tr>\n",
       "      <th>Constante</th>\n",
       "      <td>3.9E+01</td>\n",
       "      <td>4.5E+01</td>\n",
       "    </tr>\n",
       "    <tr>\n",
       "      <th>Solar.R</th>\n",
       "      <td>1.0E+00</td>\n",
       "      <td>8.1E+00</td>\n",
       "    </tr>\n",
       "    <tr>\n",
       "      <th>Wind</th>\n",
       "      <td>-1.6E+01</td>\n",
       "      <td>-8.0E+00</td>\n",
       "    </tr>\n",
       "    <tr>\n",
       "      <th>Temp</th>\n",
       "      <td>1.4E+01</td>\n",
       "      <td>2.2E+01</td>\n",
       "    </tr>\n",
       "    <tr>\n",
       "      <th>Month</th>\n",
       "      <td>-8.1E+00</td>\n",
       "      <td>-7.7E-01</td>\n",
       "    </tr>\n",
       "    <tr>\n",
       "      <th>Day</th>\n",
       "      <td>-9.3E-01</td>\n",
       "      <td>5.7E+00</td>\n",
       "    </tr>\n",
       "  </tbody>\n",
       "</table>\n",
       "</div>"
      ],
      "text/plain": [
       "            IC_min   IC max\n",
       "Constante  3.9E+01  4.5E+01\n",
       "Solar.R    1.0E+00  8.1E+00\n",
       "Wind      -1.6E+01 -8.0E+00\n",
       "Temp       1.4E+01  2.2E+01\n",
       "Month     -8.1E+00 -7.7E-01\n",
       "Day       -9.3E-01  5.7E+00"
      ]
     },
     "execution_count": 271,
     "metadata": {},
     "output_type": "execute_result"
    }
   ],
   "source": [
    "def IC_confiance_student(quantile_student, estimateur, estimateurVarSansBiais, diag_covariance_inv):\n",
    "    dIC = quantile_student*np.sqrt(estimateurVarSansBiais)*np.sqrt(diag_covariance_inv)\n",
    "    dIC.index = ['Constante','Solar.R', 'Wind', 'Temp', 'Month', 'Day']\n",
    "    dIC.columns = ['dIC']\n",
    "    IC = pd.DataFrame(estimateur.sub(dIC['dIC']),columns=[\"IC_min\"])\n",
    "    IC[\"IC max\"] = estimateur.add(dIC['dIC'])\n",
    "    IC.index = ['Constante','Solar.R', 'Wind', 'Temp', 'Month', 'Day']\n",
    "    return IC\n",
    "\n",
    "X = setVarToExplain_crWithOnes()\n",
    "\n",
    "rankX = np.linalg.matrix_rank(X)\n",
    "predicteur_yFromX = predicteur(X, estimateur_yFromX)\n",
    "residus_yFromX = residus(y['Ozone'], predicteur_yFromX['Predicteur'])\n",
    "norme_residus_yFromX = norme(residus_yFromX)\n",
    "estimateurVarSansBiais_yFromX = estimateurVarSansBiais(norme_residus_yFromX, nombreObservationX, rankX)\n",
    "\n",
    "diag_covarianceX_inv = pd.DataFrame(np.diag(covarianceX_inv))\n",
    "\n",
    "IC_confianceX = IC_confiance_student(quantile_student, estimateur_yFromX['Estimateur'], \n",
    "                                     estimateurVarSansBiais_yFromX, diag_covarianceX_inv)\n",
    "IC_confianceX"
   ]
  },
  {
   "cell_type": "markdown",
   "metadata": {},
   "source": [
    "### Qestion 8: On enregistre une nouvelle observation (Solar.R=197, Wind=10, Temp=70, Day=1,Month=3). Quelle est la prévision du modèle concernant la concentration en ozone ?"
   ]
  },
  {
   "cell_type": "markdown",
   "metadata": {},
   "source": [
    "Notre nouvelle observation $y_{new}$ est:"
   ]
  },
  {
   "cell_type": "code",
   "execution_count": 273,
   "metadata": {
    "collapsed": false
   },
   "outputs": [
    {
     "data": {
      "text/html": [
       "<div>\n",
       "<table border=\"1\" class=\"dataframe\">\n",
       "  <thead>\n",
       "    <tr style=\"text-align: right;\">\n",
       "      <th></th>\n",
       "      <th>newObs</th>\n",
       "    </tr>\n",
       "  </thead>\n",
       "  <tbody>\n",
       "    <tr>\n",
       "      <th>Constante</th>\n",
       "      <td>1.0E+00</td>\n",
       "    </tr>\n",
       "    <tr>\n",
       "      <th>Solar.R</th>\n",
       "      <td>2.0E+02</td>\n",
       "    </tr>\n",
       "    <tr>\n",
       "      <th>Wind</th>\n",
       "      <td>1.0E+01</td>\n",
       "    </tr>\n",
       "    <tr>\n",
       "      <th>Temp</th>\n",
       "      <td>7.0E+01</td>\n",
       "    </tr>\n",
       "    <tr>\n",
       "      <th>Month</th>\n",
       "      <td>1.0E+00</td>\n",
       "    </tr>\n",
       "    <tr>\n",
       "      <th>Day</th>\n",
       "      <td>3.0E+00</td>\n",
       "    </tr>\n",
       "  </tbody>\n",
       "</table>\n",
       "</div>"
      ],
      "text/plain": [
       "           newObs\n",
       "Constante 1.0E+00\n",
       "Solar.R   2.0E+02\n",
       "Wind      1.0E+01\n",
       "Temp      7.0E+01\n",
       "Month     1.0E+00\n",
       "Day       3.0E+00"
      ]
     },
     "execution_count": 273,
     "metadata": {},
     "output_type": "execute_result"
    }
   ],
   "source": [
    "def newObs(Solar, Wind, Temp, Month, Day):\n",
    "    newObs = [1.0, Solar, Wind, Temp, Month, Day]\n",
    "    newObs = pd.DataFrame(newObs, columns=[\"newObs\"])\n",
    "    newObs.index = ['Constante','Solar.R', 'Wind', 'Temp', 'Month', 'Day']\n",
    "    return newObs\n",
    "\n",
    "yNew = newObs(197.0, 10.0, 70.0, 1.0, 3.0)\n",
    "yNew"
   ]
  },
  {
   "cell_type": "markdown",
   "metadata": {},
   "source": [
    "Notre nouvelle observation centrée et réduite $y_{new}^{cr}$ est:"
   ]
  },
  {
   "cell_type": "code",
   "execution_count": 274,
   "metadata": {
    "collapsed": false
   },
   "outputs": [
    {
     "data": {
      "text/html": [
       "<div>\n",
       "<table border=\"1\" class=\"dataframe\">\n",
       "  <thead>\n",
       "    <tr style=\"text-align: right;\">\n",
       "      <th></th>\n",
       "      <th>newObs_cr</th>\n",
       "    </tr>\n",
       "  </thead>\n",
       "  <tbody>\n",
       "    <tr>\n",
       "      <th>Constante</th>\n",
       "      <td>0.0E+00</td>\n",
       "    </tr>\n",
       "    <tr>\n",
       "      <th>Solar.R</th>\n",
       "      <td>1.3E-01</td>\n",
       "    </tr>\n",
       "    <tr>\n",
       "      <th>Wind</th>\n",
       "      <td>1.7E-02</td>\n",
       "    </tr>\n",
       "    <tr>\n",
       "      <th>Temp</th>\n",
       "      <td>-8.2E-01</td>\n",
       "    </tr>\n",
       "    <tr>\n",
       "      <th>Month</th>\n",
       "      <td>-4.2E+00</td>\n",
       "    </tr>\n",
       "    <tr>\n",
       "      <th>Day</th>\n",
       "      <td>-1.5E+00</td>\n",
       "    </tr>\n",
       "  </tbody>\n",
       "</table>\n",
       "</div>"
      ],
      "text/plain": [
       "           newObs_cr\n",
       "Constante    0.0E+00\n",
       "Solar.R      1.3E-01\n",
       "Wind         1.7E-02\n",
       "Temp        -8.2E-01\n",
       "Month       -4.2E+00\n",
       "Day         -1.5E+00"
      ]
     },
     "execution_count": 274,
     "metadata": {},
     "output_type": "execute_result"
    }
   ],
   "source": [
    "def std(X):\n",
    "    std = pd.DataFrame(X.std(), columns=[\"std\"])\n",
    "    std = pd.DataFrame(np.array([[1]]), columns=['std']).append(std, ignore_index=True)\n",
    "    std.index = ['Constante','Solar.R', 'Wind', 'Temp', 'Month', 'Day']\n",
    "    return std\n",
    "\n",
    "def mean(X):\n",
    "    mean = pd.DataFrame(X.mean(), columns=[\"mean\"])\n",
    "    mean = pd.DataFrame(np.array([[1]]), columns=['mean']).append(mean, ignore_index=True)\n",
    "    mean.index = ['Constante','Solar.R', 'Wind', 'Temp', 'Month', 'Day']\n",
    "    return mean\n",
    "\n",
    "def centreReduit(y):\n",
    "    X = setVarToExplain()\n",
    "    stdX = std(X)\n",
    "    meanX = mean(X)\n",
    "    y_cr = pd.DataFrame(y.sub(meanX['mean']), columns=[\"newObs\"])\n",
    "    y_cr = y_cr['newObs'] / stdX.T\n",
    "    y_cr = y_cr.transpose()\n",
    "    y_cr.columns = ['newObs_cr']\n",
    "    return y_cr\n",
    "    \n",
    "yNew = centreReduit(yNew['newObs'])\n",
    "yNew"
   ]
  },
  {
   "cell_type": "markdown",
   "metadata": {},
   "source": [
    "on calcule le produit scalaire $ \\langle \\hat{\\theta} | y_{new}^{cr} \\rangle$ afin de calculer notre nouvelle prédiction:"
   ]
  },
  {
   "cell_type": "code",
   "execution_count": 275,
   "metadata": {
    "collapsed": false
   },
   "outputs": [
    {
     "data": {
      "text/plain": [
       "array([[ 0.98643345]])"
      ]
     },
     "execution_count": 275,
     "metadata": {},
     "output_type": "execute_result"
    }
   ],
   "source": [
    "def scalaire(vect1, vect2):\n",
    "    scalaire = np.dot(vect1.transpose(), vect2)\n",
    "    return scalaire\n",
    "\n",
    "X = setVarToExplain_cr()\n",
    "y = setVarToPredict()\n",
    "estimateur_yFromX = estimateur(X,y['Ozone'])\n",
    "New_prediction = scalaire(yNew, estimateur_yFromX)\n",
    "New_prediction"
   ]
  },
  {
   "cell_type": "markdown",
   "metadata": {},
   "source": [
    "# Exercice 2"
   ]
  },
  {
   "cell_type": "markdown",
   "metadata": {},
   "source": [
    "##### Question 1: Calculer les estimateurs des coefficients obtenus par une moyenne, puis par une médiane sur les échantillons bootstrap. Comparer les avec ceux obtenus avec la méthode de régression classique. On utilisera notamment la fonction utils.resample de sklearn."
   ]
  },
  {
   "cell_type": "markdown",
   "metadata": {},
   "source": [
    "On créer une fonction qui renvoie le rééchantillonage bootstrap sur la moyenne de n_iter échantillons de taille sampleSize:"
   ]
  },
  {
   "cell_type": "code",
   "execution_count": 276,
   "metadata": {
    "collapsed": true
   },
   "outputs": [],
   "source": [
    "def bootstrapFromMean(n_iter,sampleSize):\n",
    "    \n",
    "    dataframe = pd.DataFrame(columns=['Ozone','Solar.R', 'Wind', 'Temp', 'Month', 'Day'])\n",
    "    X = setVarToExplain_cr()\n",
    "    y = setVarToPredict()\n",
    "    \n",
    "    for i in range(n_iter):\n",
    "        \n",
    "        sample = resample(X, n_samples=sampleSize, random_state=i)\n",
    "        sample = pd.concat([y, sample], axis=1, join='inner')\n",
    "        sample = sample[['Ozone','Solar.R', 'Wind', 'Temp', 'Month', 'Day']]\n",
    "        newSample = pd.DataFrame(sample.mean(), columns=[\"boostrap\"])\n",
    "        newSample = pd.DataFrame(sample.mean(), columns=[i])\n",
    "        newSample = newSample.transpose()\n",
    "        dataframe = dataframe.append(newSample)\n",
    "        \n",
    "    return dataframe"
   ]
  },
  {
   "cell_type": "markdown",
   "metadata": {},
   "source": [
    "On créer une fonction qui renvoie le rééchantillonage bootstrap sur la mediane de n_iter échantillons de taille sampleSize:"
   ]
  },
  {
   "cell_type": "code",
   "execution_count": 277,
   "metadata": {
    "collapsed": false
   },
   "outputs": [],
   "source": [
    "def bootstrapFromMediane(n_iter,sampleSize):\n",
    "    \n",
    "    dataframe = pd.DataFrame(columns=['Ozone','Solar.R', 'Wind', 'Temp', 'Month', 'Day'])\n",
    "    X = setVarToExplain_cr()\n",
    "    y = setVarToPredict()\n",
    "    \n",
    "    for i in range(n_iter):\n",
    "        \n",
    "        sample = resample(X, n_samples=sampleSize, random_state=i)\n",
    "        sample = pd.concat([y, sample], axis=1, join='inner')\n",
    "        sample = sample[['Ozone','Solar.R', 'Wind', 'Temp', 'Month', 'Day']]\n",
    "        newSample = pd.DataFrame(sample.median(), columns=[\"bootstrap\"])\n",
    "        newSample = pd.DataFrame(sample.median(), columns=[i])\n",
    "        newSample = newSample.transpose()\n",
    "        dataframe = dataframe.append(newSample)\n",
    "        \n",
    "    return dataframe"
   ]
  },
  {
   "cell_type": "markdown",
   "metadata": {},
   "source": [
    "On calcule les estimateurs des coefficients obtenus pour la moyenne, pour n_iter = 1000 échantillons de taille sampleSize = 10:"
   ]
  },
  {
   "cell_type": "code",
   "execution_count": 278,
   "metadata": {
    "collapsed": false
   },
   "outputs": [
    {
     "data": {
      "text/html": [
       "<div>\n",
       "<table border=\"1\" class=\"dataframe\">\n",
       "  <thead>\n",
       "    <tr style=\"text-align: right;\">\n",
       "      <th></th>\n",
       "      <th>Estimateur</th>\n",
       "    </tr>\n",
       "  </thead>\n",
       "  <tbody>\n",
       "    <tr>\n",
       "      <th>Constante</th>\n",
       "      <td>4.2E+01</td>\n",
       "    </tr>\n",
       "    <tr>\n",
       "      <th>Solar.R</th>\n",
       "      <td>4.0E+00</td>\n",
       "    </tr>\n",
       "    <tr>\n",
       "      <th>Wind</th>\n",
       "      <td>-1.2E+01</td>\n",
       "    </tr>\n",
       "    <tr>\n",
       "      <th>Temp</th>\n",
       "      <td>1.9E+01</td>\n",
       "    </tr>\n",
       "    <tr>\n",
       "      <th>Month</th>\n",
       "      <td>-5.2E+00</td>\n",
       "    </tr>\n",
       "    <tr>\n",
       "      <th>Day</th>\n",
       "      <td>1.9E+00</td>\n",
       "    </tr>\n",
       "  </tbody>\n",
       "</table>\n",
       "</div>"
      ],
      "text/plain": [
       "           Estimateur\n",
       "Constante     4.2E+01\n",
       "Solar.R       4.0E+00\n",
       "Wind         -1.2E+01\n",
       "Temp          1.9E+01\n",
       "Month        -5.2E+00\n",
       "Day           1.9E+00"
      ]
     },
     "execution_count": 278,
     "metadata": {},
     "output_type": "execute_result"
    }
   ],
   "source": [
    "sampleSize = 10\n",
    "n_iter = 1000\n",
    "\n",
    "dataframe = bootstrapFromMean(n_iter,sampleSize)\n",
    "y_bootstrapMean = dataframe['Ozone']\n",
    "X_bootstrapMean = dataframe[['Solar.R', 'Wind', 'Temp', 'Month', 'Day']]\n",
    "\n",
    "estimateur_bootstrapMean = estimateur(X_bootstrapMean,y_bootstrapMean)\n",
    "estimateur_bootstrapMean"
   ]
  },
  {
   "cell_type": "markdown",
   "metadata": {},
   "source": [
    "On calcule les estimateurs des coefficients obtenus pour la mediane, pour n_iter = 1000 échantillons de taille sampleSize = 10:"
   ]
  },
  {
   "cell_type": "code",
   "execution_count": 286,
   "metadata": {
    "collapsed": false
   },
   "outputs": [
    {
     "data": {
      "text/html": [
       "<div>\n",
       "<table border=\"1\" class=\"dataframe\">\n",
       "  <thead>\n",
       "    <tr style=\"text-align: right;\">\n",
       "      <th></th>\n",
       "      <th>Estimateur</th>\n",
       "    </tr>\n",
       "  </thead>\n",
       "  <tbody>\n",
       "    <tr>\n",
       "      <th>Constante</th>\n",
       "      <td>3.1E+01</td>\n",
       "    </tr>\n",
       "    <tr>\n",
       "      <th>Solar.R</th>\n",
       "      <td>3.3E+00</td>\n",
       "    </tr>\n",
       "    <tr>\n",
       "      <th>Wind</th>\n",
       "      <td>-9.1E+00</td>\n",
       "    </tr>\n",
       "    <tr>\n",
       "      <th>Temp</th>\n",
       "      <td>1.8E+01</td>\n",
       "    </tr>\n",
       "    <tr>\n",
       "      <th>Month</th>\n",
       "      <td>-2.1E+00</td>\n",
       "    </tr>\n",
       "    <tr>\n",
       "      <th>Day</th>\n",
       "      <td>1.6E+00</td>\n",
       "    </tr>\n",
       "  </tbody>\n",
       "</table>\n",
       "</div>"
      ],
      "text/plain": [
       "           Estimateur\n",
       "Constante     3.1E+01\n",
       "Solar.R       3.3E+00\n",
       "Wind         -9.1E+00\n",
       "Temp          1.8E+01\n",
       "Month        -2.1E+00\n",
       "Day           1.6E+00"
      ]
     },
     "execution_count": 286,
     "metadata": {},
     "output_type": "execute_result"
    }
   ],
   "source": [
    "sampleSize = 10\n",
    "n_iter = 1000\n",
    "\n",
    "dataframe = bootstrapFromMediane(n_iter,sampleSize)\n",
    "y_bootstrapMedian = dataframe['Ozone']\n",
    "X_bootstrapMedian = dataframe[['Solar.R', 'Wind', 'Temp', 'Month', 'Day']]\n",
    "\n",
    "estimateur_bootstrapMediane = estimateur(X_bootstrapMedian,y_bootstrapMedian)\n",
    "estimateur_bootstrapMediane"
   ]
  },
  {
   "cell_type": "markdown",
   "metadata": {},
   "source": [
    "##### Question 2: Calculer un intervalle de confiance de niveau 99%, en utilisant les quantiles empiriques de niveau 99:5% et 0:5% des échantillons bootstrap."
   ]
  },
  {
   "cell_type": "markdown",
   "metadata": {},
   "source": [
    "On défint une fonction pour le calcul de l'intervalle de confiance:"
   ]
  },
  {
   "cell_type": "code",
   "execution_count": 322,
   "metadata": {
    "collapsed": false
   },
   "outputs": [],
   "source": [
    "def calc_IC_bootstrap(dataframe,alpha):\n",
    "    IC_bootstrap = dataframe.quantile(alpha)\n",
    "    IC_bootstrap = pd.DataFrame(IC_bootstrap, columns=[\"quantileMin\"])\n",
    "    IC_bootstrap[\"quantileMax\"] = dataframe.quantile(1.0 - alpha)\n",
    "    return IC_bootstrap"
   ]
  },
  {
   "cell_type": "markdown",
   "metadata": {},
   "source": [
    "Nous obtenons pour la médiane l'intervalle de confiance de niveau 99% suivant:"
   ]
  },
  {
   "cell_type": "code",
   "execution_count": 323,
   "metadata": {
    "collapsed": false
   },
   "outputs": [
    {
     "data": {
      "text/html": [
       "<div>\n",
       "<table border=\"1\" class=\"dataframe\">\n",
       "  <thead>\n",
       "    <tr style=\"text-align: right;\">\n",
       "      <th></th>\n",
       "      <th>quantileMin</th>\n",
       "      <th>quantileMax</th>\n",
       "    </tr>\n",
       "  </thead>\n",
       "  <tbody>\n",
       "    <tr>\n",
       "      <th>Solar.R</th>\n",
       "      <td>-7.8E-01</td>\n",
       "      <td>7.5E-01</td>\n",
       "    </tr>\n",
       "    <tr>\n",
       "      <th>Wind</th>\n",
       "      <td>-6.3E-01</td>\n",
       "      <td>4.4E-01</td>\n",
       "    </tr>\n",
       "    <tr>\n",
       "      <th>Temp</th>\n",
       "      <td>-6.6E-01</td>\n",
       "      <td>6.5E-01</td>\n",
       "    </tr>\n",
       "    <tr>\n",
       "      <th>Month</th>\n",
       "      <td>-8.3E-01</td>\n",
       "      <td>8.8E-01</td>\n",
       "    </tr>\n",
       "    <tr>\n",
       "      <th>Day</th>\n",
       "      <td>-8.0E-01</td>\n",
       "      <td>7.0E-01</td>\n",
       "    </tr>\n",
       "  </tbody>\n",
       "</table>\n",
       "</div>"
      ],
      "text/plain": [
       "         quantileMin  quantileMax\n",
       "Solar.R     -7.8E-01      7.5E-01\n",
       "Wind        -6.3E-01      4.4E-01\n",
       "Temp        -6.6E-01      6.5E-01\n",
       "Month       -8.3E-01      8.8E-01\n",
       "Day         -8.0E-01      7.0E-01"
      ]
     },
     "execution_count": 323,
     "metadata": {},
     "output_type": "execute_result"
    }
   ],
   "source": [
    "alpha = 0.05\n",
    "calc_IC_bootstrap(X_bootstrapMedian,alpha)"
   ]
  },
  {
   "cell_type": "markdown",
   "metadata": {},
   "source": [
    "Nous obtenons pour la moyenne l'intervalle de confiance de niveau 99% suivant:"
   ]
  },
  {
   "cell_type": "code",
   "execution_count": 324,
   "metadata": {
    "collapsed": false
   },
   "outputs": [
    {
     "data": {
      "text/html": [
       "<div>\n",
       "<table border=\"1\" class=\"dataframe\">\n",
       "  <thead>\n",
       "    <tr style=\"text-align: right;\">\n",
       "      <th></th>\n",
       "      <th>quantileMin</th>\n",
       "      <th>quantileMax</th>\n",
       "    </tr>\n",
       "  </thead>\n",
       "  <tbody>\n",
       "    <tr>\n",
       "      <th>Solar.R</th>\n",
       "      <td>-5.7E-01</td>\n",
       "      <td>5.0E-01</td>\n",
       "    </tr>\n",
       "    <tr>\n",
       "      <th>Wind</th>\n",
       "      <td>-4.9E-01</td>\n",
       "      <td>5.5E-01</td>\n",
       "    </tr>\n",
       "    <tr>\n",
       "      <th>Temp</th>\n",
       "      <td>-5.3E-01</td>\n",
       "      <td>5.2E-01</td>\n",
       "    </tr>\n",
       "    <tr>\n",
       "      <th>Month</th>\n",
       "      <td>-5.6E-01</td>\n",
       "      <td>5.3E-01</td>\n",
       "    </tr>\n",
       "    <tr>\n",
       "      <th>Day</th>\n",
       "      <td>-5.1E-01</td>\n",
       "      <td>5.1E-01</td>\n",
       "    </tr>\n",
       "  </tbody>\n",
       "</table>\n",
       "</div>"
      ],
      "text/plain": [
       "         quantileMin  quantileMax\n",
       "Solar.R     -5.7E-01      5.0E-01\n",
       "Wind        -4.9E-01      5.5E-01\n",
       "Temp        -5.3E-01      5.2E-01\n",
       "Month       -5.6E-01      5.3E-01\n",
       "Day         -5.1E-01      5.1E-01"
      ]
     },
     "execution_count": 324,
     "metadata": {},
     "output_type": "execute_result"
    }
   ],
   "source": [
    "alpha = 0.05\n",
    "calc_IC_bootstrap(X_bootstrapMean,alpha)"
   ]
  },
  {
   "cell_type": "markdown",
   "metadata": {},
   "source": [
    "##### Question 3: Afficher sur un graphe les deux courbes (en pointillés noirs) donnant les bornes inférieures et supérieures (des intervalles de confiance) pour la variable 'Wind', et ce en fonction du paramètre B. On ajoutera en trait plein la courbe des estimés par la médiane bootstrap de ce même coefficient. On fera varier B de 1 à 5001 par saut de 500."
   ]
  },
  {
   "cell_type": "markdown",
   "metadata": {},
   "source": [
    "On défint une fonction qui va enregistrer la mediane ainsi que l'intervalle de confiance associé pour la variable explicative \"Wind\":"
   ]
  },
  {
   "cell_type": "code",
   "execution_count": 325,
   "metadata": {
    "collapsed": true
   },
   "outputs": [],
   "source": [
    "def saveData(dataframe, save_iter, n_iter):   \n",
    "    if (n_iter % save_iter == 0):\n",
    "        mediane = pd.DataFrame(columns=['Mediane'])\n",
    "        quantileMin = pd.DataFrame(columns=['quantileMin'])\n",
    "        quantileMax = pd.DataFrame(columns=['quantileMax'])\n",
    "        quantileMin['quantileMin'] = pd.DataFrame(dataframe.quantile(0.05), \n",
    "                                                  columns=[\"quantileMin\"]).transpose()['Wind']\n",
    "        quantileMax['quantileMax'] = pd.DataFrame(dataframe.quantile(0.95), \n",
    "                                                  columns=[\"quantileMax\"]).transpose()['Wind']\n",
    "        mediane['Mediane'] = pd.DataFrame(dataframe.median(), \n",
    "                                                  columns=[\"Mediane\"]).transpose()['Wind']\n",
    "        mediane.index = [n_iter]\n",
    "        quantileMin.index = [n_iter]\n",
    "        quantileMax.index = [n_iter]\n",
    "        IC = pd.concat([mediane, quantileMin, quantileMax],axis=1, join='inner')\n",
    "        \n",
    "        return IC"
   ]
  },
  {
   "cell_type": "markdown",
   "metadata": {},
   "source": [
    "On rédéfinit la fonction bootstrapFromMediane (question 1) pour y inclure la fonction save:"
   ]
  },
  {
   "cell_type": "code",
   "execution_count": 326,
   "metadata": {
    "collapsed": true
   },
   "outputs": [],
   "source": [
    "def bootstrapFromMediane_save(n_iter,sampleSize,save_iter):\n",
    "    \n",
    "    dataframe = pd.DataFrame(columns=['Ozone','Solar.R', 'Wind', 'Temp', 'Month', 'Day'])\n",
    "    X = setVarToExplain_cr()\n",
    "    y = setVarToPredict()\n",
    "    IC_MedianeWind = pd.DataFrame(columns=['Mediane','quantileMin','quantileMax'])  \n",
    "    \n",
    "    for i in range(n_iter):\n",
    "        \n",
    "        sample = resample(X, n_samples=sampleSize, random_state=i)\n",
    "        sample = pd.concat([y, sample], axis=1, join='inner')\n",
    "        sample = sample[['Ozone','Solar.R', 'Wind', 'Temp', 'Month', 'Day']]\n",
    "        newSample = pd.DataFrame(sample.median(), columns=[\"bootstrap\"])\n",
    "        newSample = pd.DataFrame(sample.median(), columns=[i])\n",
    "        newSample = newSample.transpose()\n",
    "        dataframe = dataframe.append(newSample)\n",
    "        IC_MedianeWind = IC_MedianeWind.append(saveData(dataframe, save_iter, i))\n",
    "        \n",
    "    return IC_MedianeWind"
   ]
  },
  {
   "cell_type": "markdown",
   "metadata": {},
   "source": [
    "On fait une simulation pour n_iter = 5000 échantillons de taille sampleSize = 10 en faisant 10 sauvegardes:"
   ]
  },
  {
   "cell_type": "code",
   "execution_count": 327,
   "metadata": {
    "collapsed": false
   },
   "outputs": [
    {
     "data": {
      "text/html": [
       "<div>\n",
       "<table border=\"1\" class=\"dataframe\">\n",
       "  <thead>\n",
       "    <tr style=\"text-align: right;\">\n",
       "      <th></th>\n",
       "      <th>Mediane</th>\n",
       "      <th>quantileMin</th>\n",
       "      <th>quantileMax</th>\n",
       "    </tr>\n",
       "  </thead>\n",
       "  <tbody>\n",
       "    <tr>\n",
       "      <th>0</th>\n",
       "      <td>-1.4E-01</td>\n",
       "      <td>-1.4E-01</td>\n",
       "      <td>-1.4E-01</td>\n",
       "    </tr>\n",
       "    <tr>\n",
       "      <th>500</th>\n",
       "      <td>-5.4E-02</td>\n",
       "      <td>-6.3E-01</td>\n",
       "      <td>4.4E-01</td>\n",
       "    </tr>\n",
       "    <tr>\n",
       "      <th>1000</th>\n",
       "      <td>1.7E-02</td>\n",
       "      <td>-6.3E-01</td>\n",
       "      <td>4.4E-01</td>\n",
       "    </tr>\n",
       "    <tr>\n",
       "      <th>1500</th>\n",
       "      <td>1.7E-02</td>\n",
       "      <td>-6.3E-01</td>\n",
       "      <td>5.1E-01</td>\n",
       "    </tr>\n",
       "    <tr>\n",
       "      <th>2000</th>\n",
       "      <td>-5.4E-02</td>\n",
       "      <td>-6.3E-01</td>\n",
       "      <td>4.4E-01</td>\n",
       "    </tr>\n",
       "    <tr>\n",
       "      <th>2500</th>\n",
       "      <td>-5.4E-02</td>\n",
       "      <td>-6.3E-01</td>\n",
       "      <td>4.4E-01</td>\n",
       "    </tr>\n",
       "    <tr>\n",
       "      <th>3000</th>\n",
       "      <td>-5.4E-02</td>\n",
       "      <td>-7.0E-01</td>\n",
       "      <td>5.1E-01</td>\n",
       "    </tr>\n",
       "    <tr>\n",
       "      <th>3500</th>\n",
       "      <td>-5.4E-02</td>\n",
       "      <td>-7.0E-01</td>\n",
       "      <td>5.1E-01</td>\n",
       "    </tr>\n",
       "    <tr>\n",
       "      <th>4000</th>\n",
       "      <td>-5.4E-02</td>\n",
       "      <td>-7.0E-01</td>\n",
       "      <td>5.1E-01</td>\n",
       "    </tr>\n",
       "    <tr>\n",
       "      <th>4500</th>\n",
       "      <td>-5.4E-02</td>\n",
       "      <td>-7.0E-01</td>\n",
       "      <td>4.4E-01</td>\n",
       "    </tr>\n",
       "    <tr>\n",
       "      <th>5000</th>\n",
       "      <td>-5.4E-02</td>\n",
       "      <td>-7.0E-01</td>\n",
       "      <td>4.4E-01</td>\n",
       "    </tr>\n",
       "  </tbody>\n",
       "</table>\n",
       "</div>"
      ],
      "text/plain": [
       "      Mediane  quantileMin  quantileMax\n",
       "0    -1.4E-01     -1.4E-01     -1.4E-01\n",
       "500  -5.4E-02     -6.3E-01      4.4E-01\n",
       "1000  1.7E-02     -6.3E-01      4.4E-01\n",
       "1500  1.7E-02     -6.3E-01      5.1E-01\n",
       "2000 -5.4E-02     -6.3E-01      4.4E-01\n",
       "2500 -5.4E-02     -6.3E-01      4.4E-01\n",
       "3000 -5.4E-02     -7.0E-01      5.1E-01\n",
       "3500 -5.4E-02     -7.0E-01      5.1E-01\n",
       "4000 -5.4E-02     -7.0E-01      5.1E-01\n",
       "4500 -5.4E-02     -7.0E-01      4.4E-01\n",
       "5000 -5.4E-02     -7.0E-01      4.4E-01"
      ]
     },
     "execution_count": 327,
     "metadata": {},
     "output_type": "execute_result"
    }
   ],
   "source": [
    "sampleSize = 10\n",
    "n_iter = 5001\n",
    "save_iter = 500\n",
    "\n",
    "IC_MedianeWind = bootstrapFromMediane_save(n_iter,sampleSize,save_iter)\n",
    "IC_MedianeWind"
   ]
  },
  {
   "cell_type": "code",
   "execution_count": 74,
   "metadata": {
    "collapsed": false
   },
   "outputs": [],
   "source": [
    "IC_MedianeWind['nSample'] = IC_MedianeWind.index\n",
    "plt.plot(IC_MedianeWind['nSample'],IC_MedianeWind['Mediane'],linewidth=3, color=\"black\",marker='o')\n",
    "plt.plot(IC_MedianeWind['nSample'],IC_MedianeWind['quantileMin'],linewidth=3,color=\"red\",marker='o')\n",
    "plt.plot(IC_MedianeWind['nSample'],IC_MedianeWind['quantileMax'],linewidth=3,color=\"blue\",marker='o')\n",
    "plt.show()"
   ]
  },
  {
   "cell_type": "code",
   "execution_count": null,
   "metadata": {
    "collapsed": true
   },
   "outputs": [],
   "source": []
  }
 ],
 "metadata": {
  "kernelspec": {
   "display_name": "Python 3",
   "language": "python",
   "name": "python3"
  },
  "language_info": {
   "codemirror_mode": {
    "name": "ipython",
    "version": 3
   },
   "file_extension": ".py",
   "mimetype": "text/x-python",
   "name": "python",
   "nbconvert_exporter": "python",
   "pygments_lexer": "ipython3",
   "version": "3.4.3"
  }
 },
 "nbformat": 4,
 "nbformat_minor": 0
}
