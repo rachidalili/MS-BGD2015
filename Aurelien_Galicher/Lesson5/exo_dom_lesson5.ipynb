{
 "cells": [
  {
   "cell_type": "markdown",
   "metadata": {},
   "source": [
    "# exo domicile 5 - hackaton santé"
   ]
  },
  {
   "cell_type": "code",
   "execution_count": 1,
   "metadata": {
    "collapsed": false
   },
   "outputs": [],
   "source": [
    "import pandas as pd\n",
    "import re\n",
    "import matplotlib.pyplot as plt\n",
    "import numpy as np\n",
    "%matplotlib inline\n",
    "\n"
   ]
  },
  {
   "cell_type": "markdown",
   "metadata": {},
   "source": [
    "on exploite les sources de données suivantes:\n",
    "- https://www.data.gouv.fr/fr/datasets/depenses-d-assurance-maladie-hors-prestations-hospitalieres-par-caisse-primaire-departement/ (fichier R de open damir)\n",
    "- fichier complémentaire sur https://github.com/SGMAP-AGD/DAMIR:\n",
    "    - fichier rpps (effectifs médecin 2013-2014 par spécialité)\n",
    "    - fichier pop_par_dep_par_an_regroupe.csv (donnée insee sur la populuation)"
   ]
  },
  {
   "cell_type": "code",
   "execution_count": 2,
   "metadata": {
    "collapsed": false
   },
   "outputs": [],
   "source": [
    "data_path = \"data/R_2014_sans_lib/\"\n",
    "liste = ['0'+str(i) if i <10 else str(i) for i in range(1,13)  ]\n",
    "fichiers = [ \"R2014\"+x+\"_sanslib.CSV\" for x in liste]\n",
    "fichierR_df = pd.concat([ pd.read_csv(data_path+file, sep=';', \n",
    "                          decimal=',',thousands='.',usecols=[0,17],dtype={'dep_mon':float}) for file in fichiers])\n"
   ]
  },
  {
   "cell_type": "markdown",
   "metadata": {},
   "source": [
    "les fichiers sont découpés par mois. \n",
    "on récuppére uniquement les colonnes 0 et 17 pour les 12 mois de 2014 dans un seul dataframe.\n",
    "Enfin on s'intéresse au nombre de dépassement et non au montant des dépassements. "
   ]
  },
  {
   "cell_type": "code",
   "execution_count": 3,
   "metadata": {
    "collapsed": false
   },
   "outputs": [
    {
     "data": {
      "text/plain": [
       "41580479"
      ]
     },
     "execution_count": 3,
     "metadata": {},
     "output_type": "execute_result"
    }
   ],
   "source": [
    "fichierR_df['count_dep']= list(map(lambda x: 1 if x > 0 else 0, fichierR_df['dep_mon']))\n",
    "len(fichierR_df.index)\n"
   ]
  },
  {
   "cell_type": "markdown",
   "metadata": {},
   "source": [
    "## Exploitation des données sur le nombre de medecin par spécialité par département"
   ]
  },
  {
   "cell_type": "markdown",
   "metadata": {},
   "source": [
    "récuppération données sur les effectifs des medecins par specialités en 2014 apr département: \n"
   ]
  },
  {
   "cell_type": "code",
   "execution_count": 4,
   "metadata": {
    "collapsed": false
   },
   "outputs": [
    {
     "data": {
      "text/plain": [
       "<matplotlib.text.Text at 0x1080a0f60>"
      ]
     },
     "execution_count": 4,
     "metadata": {},
     "output_type": "execute_result"
    },
    {
     "data": {
      "image/png": "[encoded data removed]",
      "text/plain": [
       "<matplotlib.figure.Figure at 0x1080aaa90>"
      ]
     },
     "metadata": {},
     "output_type": "display_data"
    }
   ],
   "source": [
    "df_med = pd.read_csv(\"data/rpps_tab3.csv\")\n",
    "df_med= df_med[df_med['annee'] == 2014]\n",
    "# récupération du code département.\n",
    "regx = re.compile(r'([0-9]\\w[0-9]?) -')\n",
    "df_med['dep'] = list(map(lambda x: regx.search(x).groups()[0] if regx.search(x) else None , list(df_med['zone_inscription'].astype(str))))\n",
    "#df_med.dropna() #removing non dep\n",
    "df_med= df_med.groupby(['dep','specialite']).sum().reset_index()\n",
    "#print(df_med.columns)\n",
    "pivot_med = df_med.pivot(index='dep', columns='specialite', values='effectifs')\n",
    "pivot_med.stack()\n",
    "pivot_med['r_spe_tot'] = pivot_med['Spécialistes'] / pivot_med['Ensemble des spécialités d\\'exercice']\n",
    "pivot_med['r_ger_tot'] = pivot_med['Gériatrie'] / pivot_med['Ensemble des spécialités d\\'exercice']\n",
    "#print(pivot_med.columns)\n",
    "pivot_med['r_ger_tot'].plot(kind='hist')\n",
    "plt.axhline(0, color='k')\n",
    "plt.title('répartition du ratio géraitre/ensemble medecin par département')\n"
   ]
  },
  {
   "cell_type": "markdown",
   "metadata": {},
   "source": [
    "on travaille le fichier R pour rattacher les CPAM à un département (jointure avec le lexique)"
   ]
  },
  {
   "cell_type": "code",
   "execution_count": 5,
   "metadata": {
    "collapsed": false
   },
   "outputs": [],
   "source": [
    "lex = pd.read_csv(\"data/cpam-utf8.txt\",sep=\";\")\n",
    "df4 = pd.merge (fichierR_df, lex, left_on='cpam', right_on='cpam', how='left')\n",
    "df5 = df4.groupby('dpt')['count_dep'].mean().reset_index()\n",
    "#print(pd.unique(df4['dpt'].values.ravel()))\n",
    "#df5.head()\n",
    "\n",
    "\n",
    "\n"
   ]
  },
  {
   "cell_type": "code",
   "execution_count": 6,
   "metadata": {
    "collapsed": false
   },
   "outputs": [
    {
     "data": {
      "text/plain": [
       "count_dep                             1.000000\n",
       "Gériatrie                             0.738922\n",
       "Gynécologie médicale                  0.654971\n",
       "Pédiatrie                             0.653324\n",
       "O.R.L et chirurgie cervico faciale    0.650491\n",
       "Gynécologie-obstétrique               0.639684\n",
       "Ophtalmologie                         0.631163\n",
       "Gastro-entérologie et hépatologie     0.629985\n",
       "Oncologie option médicale             0.629289\n",
       "Rhumatologie                          0.624104\n",
       "Name: count_dep, dtype: float64"
      ]
     },
     "execution_count": 6,
     "metadata": {},
     "output_type": "execute_result"
    },
    {
     "name": "stderr",
     "output_type": "stream",
     "text": [
      "/Users/galicher/anaconda/lib/python3.4/site-packages/matplotlib/collections.py:590: FutureWarning: elementwise comparison failed; returning scalar instead, but in the future will perform elementwise comparison\n",
      "  if self._edgecolors == str('face'):\n"
     ]
    },
    {
     "data": {
      "image/png": "[encoded data removed]",
      "text/plain": [
       "<matplotlib.figure.Figure at 0x10815b7f0>"
      ]
     },
     "metadata": {},
     "output_type": "display_data"
    }
   ],
   "source": [
    "df6 = pd.merge(df5, pivot_med.reset_index(), left_on='dpt', right_on='dep', how='inner')\n",
    "df6.head()\n",
    "import seaborn as sns; sns.set(color_codes=True)\n",
    "g = sns.lmplot(x=\"Gériatrie\", y=\"count_dep\", data=df6)\n",
    "df6.corr()['count_dep'].sort_values(ascending=False).head(10)\n",
    "\n"
   ]
  },
  {
   "cell_type": "code",
   "execution_count": 7,
   "metadata": {
    "collapsed": false
   },
   "outputs": [
    {
     "data": {
      "text/plain": [
       "0"
      ]
     },
     "execution_count": 7,
     "metadata": {},
     "output_type": "execute_result"
    }
   ],
   "source": [
    "test = pivot_med['Spécialistes'] + pivot_med['Généralistes'] - pivot_med['Ensemble des spécialités d\\'exercice']\n",
    "test.sum()"
   ]
  },
  {
   "cell_type": "markdown",
   "metadata": {},
   "source": [
    "on constate que c'est le nombre de spécialiste en gériatrie \n",
    "qui semble avoir le plus d'impact sur le nombre de dépassement d'honoraire."
   ]
  },
  {
   "cell_type": "markdown",
   "metadata": {
    "collapsed": false
   },
   "source": [
    "## Exploitation des données démographiques"
   ]
  },
  {
   "cell_type": "code",
   "execution_count": 32,
   "metadata": {
    "collapsed": false
   },
   "outputs": [
    {
     "name": "stdout",
     "output_type": "stream",
     "text": [
      "['1' '10' '11' '12' '13' '14' '15' '16' '17' '18' '19' '2' '21' '22' '23'\n",
      " '24' '25' '26' '27' '28' '29' '2A' '2B' '3' '30' '31' '32' '33' '34' '35'\n",
      " '36' '37' '38' '39' '4' '40' '41' '42' '43' '44' '45' '46' '47' '48' '49'\n",
      " '5' '50' '51' '52' '53' '54' '55' '56' '57' '58' '59' '6' '60' '61' '62'\n",
      " '63' '64' '65' '66' '67' '68' '69' '7' '70' '71' '72' '73' '74' '75' '76'\n",
      " '77' '78' '79' '8' '80' '81' '82' '83' '84' '85' '86' '87' '88' '89' '9'\n",
      " '90' '91' '92' '93' '94' '95' '971' '972' '973' '974']\n"
     ]
    }
   ],
   "source": [
    "dem = pd.read_csv(\"data/pop_par_dep_par_an_regroupe.csv\",sep=\";\")\n",
    "dem = dem[dem['annee'] > 2013]\n",
    "#dem1 = dem.groupby(['dep','age_max_cat'])['value'].sum()\n",
    "dem1 = dem.groupby('dep')['value'].sum().reset_index()\n",
    "dem1.columns = ['dep','pop total']\n",
    "print(pd.unique(dem1['dep'].values.ravel()))"
   ]
  },
  {
   "cell_type": "code",
   "execution_count": 29,
   "metadata": {
    "collapsed": false
   },
   "outputs": [],
   "source": [
    "df7 = pd.merge(df6, dem1, left_on='dpt', right_on='dep', how='inner')\n"
   ]
  },
  {
   "cell_type": "code",
   "execution_count": 30,
   "metadata": {
    "collapsed": false
   },
   "outputs": [
    {
     "data": {
      "text/html": [
       "<div>\n",
       "<table border=\"1\" class=\"dataframe\">\n",
       "  <thead>\n",
       "    <tr style=\"text-align: right;\">\n",
       "      <th></th>\n",
       "      <th>dpt</th>\n",
       "      <th>count_dep</th>\n",
       "      <th>dep_x</th>\n",
       "      <th>Anatomie et cytologie pathologiques</th>\n",
       "      <th>Anesthésie-réanimation</th>\n",
       "      <th>Biologie médicale</th>\n",
       "      <th>Cardiologie et maladies vasculaires</th>\n",
       "      <th>Chirurgie générale</th>\n",
       "      <th>Chirurgie infantile</th>\n",
       "      <th>Chirurgie maxillo-faciale et stomatologie</th>\n",
       "      <th>...</th>\n",
       "      <th>Radio-thérapie</th>\n",
       "      <th>Recherche médicale</th>\n",
       "      <th>Rhumatologie</th>\n",
       "      <th>Réanimation médicale</th>\n",
       "      <th>Santé publique et médecine sociale</th>\n",
       "      <th>Spécialistes</th>\n",
       "      <th>r_spe_tot</th>\n",
       "      <th>r_ger_tot</th>\n",
       "      <th>dep_y</th>\n",
       "      <th>pop total</th>\n",
       "    </tr>\n",
       "  </thead>\n",
       "  <tbody>\n",
       "    <tr>\n",
       "      <th>0</th>\n",
       "      <td>10</td>\n",
       "      <td>0.087075</td>\n",
       "      <td>10</td>\n",
       "      <td>12</td>\n",
       "      <td>60</td>\n",
       "      <td>14</td>\n",
       "      <td>42</td>\n",
       "      <td>24</td>\n",
       "      <td>0</td>\n",
       "      <td>8</td>\n",
       "      <td>...</td>\n",
       "      <td>8</td>\n",
       "      <td>0</td>\n",
       "      <td>14</td>\n",
       "      <td>2</td>\n",
       "      <td>4</td>\n",
       "      <td>710</td>\n",
       "      <td>0.483651</td>\n",
       "      <td>0.009537</td>\n",
       "      <td>10</td>\n",
       "      <td>306490</td>\n",
       "    </tr>\n",
       "    <tr>\n",
       "      <th>1</th>\n",
       "      <td>11</td>\n",
       "      <td>0.074436</td>\n",
       "      <td>11</td>\n",
       "      <td>10</td>\n",
       "      <td>104</td>\n",
       "      <td>26</td>\n",
       "      <td>72</td>\n",
       "      <td>22</td>\n",
       "      <td>0</td>\n",
       "      <td>14</td>\n",
       "      <td>...</td>\n",
       "      <td>10</td>\n",
       "      <td>0</td>\n",
       "      <td>36</td>\n",
       "      <td>2</td>\n",
       "      <td>4</td>\n",
       "      <td>1032</td>\n",
       "      <td>0.476454</td>\n",
       "      <td>0.006464</td>\n",
       "      <td>11</td>\n",
       "      <td>367158</td>\n",
       "    </tr>\n",
       "    <tr>\n",
       "      <th>2</th>\n",
       "      <td>12</td>\n",
       "      <td>0.065038</td>\n",
       "      <td>12</td>\n",
       "      <td>6</td>\n",
       "      <td>54</td>\n",
       "      <td>8</td>\n",
       "      <td>48</td>\n",
       "      <td>26</td>\n",
       "      <td>0</td>\n",
       "      <td>12</td>\n",
       "      <td>...</td>\n",
       "      <td>6</td>\n",
       "      <td>0</td>\n",
       "      <td>18</td>\n",
       "      <td>4</td>\n",
       "      <td>4</td>\n",
       "      <td>658</td>\n",
       "      <td>0.445799</td>\n",
       "      <td>0.009485</td>\n",
       "      <td>12</td>\n",
       "      <td>275063</td>\n",
       "    </tr>\n",
       "    <tr>\n",
       "      <th>3</th>\n",
       "      <td>13</td>\n",
       "      <td>0.100518</td>\n",
       "      <td>13</td>\n",
       "      <td>138</td>\n",
       "      <td>1058</td>\n",
       "      <td>238</td>\n",
       "      <td>674</td>\n",
       "      <td>288</td>\n",
       "      <td>44</td>\n",
       "      <td>130</td>\n",
       "      <td>...</td>\n",
       "      <td>58</td>\n",
       "      <td>2</td>\n",
       "      <td>200</td>\n",
       "      <td>26</td>\n",
       "      <td>148</td>\n",
       "      <td>10188</td>\n",
       "      <td>0.576766</td>\n",
       "      <td>0.002491</td>\n",
       "      <td>13</td>\n",
       "      <td>1996351</td>\n",
       "    </tr>\n",
       "    <tr>\n",
       "      <th>4</th>\n",
       "      <td>14</td>\n",
       "      <td>0.092752</td>\n",
       "      <td>14</td>\n",
       "      <td>38</td>\n",
       "      <td>254</td>\n",
       "      <td>50</td>\n",
       "      <td>158</td>\n",
       "      <td>94</td>\n",
       "      <td>8</td>\n",
       "      <td>44</td>\n",
       "      <td>...</td>\n",
       "      <td>36</td>\n",
       "      <td>0</td>\n",
       "      <td>44</td>\n",
       "      <td>2</td>\n",
       "      <td>42</td>\n",
       "      <td>2600</td>\n",
       "      <td>0.539419</td>\n",
       "      <td>0.004564</td>\n",
       "      <td>14</td>\n",
       "      <td>690836</td>\n",
       "    </tr>\n",
       "  </tbody>\n",
       "</table>\n",
       "<p>5 rows × 51 columns</p>\n",
       "</div>"
      ],
      "text/plain": [
       "  dpt  count_dep dep_x  Anatomie et cytologie pathologiques  \\\n",
       "0  10   0.087075    10                                   12   \n",
       "1  11   0.074436    11                                   10   \n",
       "2  12   0.065038    12                                    6   \n",
       "3  13   0.100518    13                                  138   \n",
       "4  14   0.092752    14                                   38   \n",
       "\n",
       "   Anesthésie-réanimation  Biologie médicale  \\\n",
       "0                      60                 14   \n",
       "1                     104                 26   \n",
       "2                      54                  8   \n",
       "3                    1058                238   \n",
       "4                     254                 50   \n",
       "\n",
       "   Cardiologie et maladies vasculaires  Chirurgie générale  \\\n",
       "0                                   42                  24   \n",
       "1                                   72                  22   \n",
       "2                                   48                  26   \n",
       "3                                  674                 288   \n",
       "4                                  158                  94   \n",
       "\n",
       "   Chirurgie infantile  Chirurgie maxillo-faciale et stomatologie    ...      \\\n",
       "0                    0                                          8    ...       \n",
       "1                    0                                         14    ...       \n",
       "2                    0                                         12    ...       \n",
       "3                   44                                        130    ...       \n",
       "4                    8                                         44    ...       \n",
       "\n",
       "   Radio-thérapie  Recherche médicale  Rhumatologie  Réanimation médicale  \\\n",
       "0               8                   0            14                     2   \n",
       "1              10                   0            36                     2   \n",
       "2               6                   0            18                     4   \n",
       "3              58                   2           200                    26   \n",
       "4              36                   0            44                     2   \n",
       "\n",
       "   Santé publique et médecine sociale  Spécialistes  r_spe_tot  r_ger_tot  \\\n",
       "0                                   4           710   0.483651   0.009537   \n",
       "1                                   4          1032   0.476454   0.006464   \n",
       "2                                   4           658   0.445799   0.009485   \n",
       "3                                 148         10188   0.576766   0.002491   \n",
       "4                                  42          2600   0.539419   0.004564   \n",
       "\n",
       "   dep_y  pop total  \n",
       "0     10     306490  \n",
       "1     11     367158  \n",
       "2     12     275063  \n",
       "3     13    1996351  \n",
       "4     14     690836  \n",
       "\n",
       "[5 rows x 51 columns]"
      ]
     },
     "execution_count": 30,
     "metadata": {},
     "output_type": "execute_result"
    }
   ],
   "source": [
    "df7.head()"
   ]
  },
  {
   "cell_type": "code",
   "execution_count": 40,
   "metadata": {
    "collapsed": false
   },
   "outputs": [
    {
     "name": "stdout",
     "output_type": "stream",
     "text": [
      "correlation entre la demographie d'un dep et le taux de dep hon: % 0.593354111961\n"
     ]
    },
    {
     "name": "stderr",
     "output_type": "stream",
     "text": [
      "/Users/galicher/anaconda/lib/python3.4/site-packages/matplotlib/collections.py:590: FutureWarning: elementwise comparison failed; returning scalar instead, but in the future will perform elementwise comparison\n",
      "  if self._edgecolors == str('face'):\n"
     ]
    },
    {
     "data": {
      "image/png": "[encoded data removed]",
      "text/plain": [
       "<matplotlib.figure.Figure at 0x11e3e6cf8>"
      ]
     },
     "metadata": {},
     "output_type": "display_data"
    }
   ],
   "source": [
    "print( \"correlation entre la demographie d'un dep et le taux de dep hon: %\", df7.corr()['count_dep']['pop total'])\n",
    "g = sns.lmplot(x=\"pop total\", y=\"count_dep\", data=df7)"
   ]
  },
  {
   "cell_type": "markdown",
   "metadata": {
    "collapsed": true
   },
   "source": [
    "la densité de population ne semble pas la variable la plus pertinente pour expliquer le taux de dépassement d'honoraire."
   ]
  },
  {
   "cell_type": "code",
   "execution_count": 41,
   "metadata": {
    "collapsed": true
   },
   "outputs": [],
   "source": [
    "dem2 = dem.groupby(['dep','age_max_cat'])['value'].sum()"
   ]
  },
  {
   "cell_type": "code",
   "execution_count": 48,
   "metadata": {
    "collapsed": false
   },
   "outputs": [],
   "source": [
    "dem3 = dem2.transpose().reset_index().pivot(index='dep',columns='age_max_cat',values='value').reset_index()"
   ]
  },
  {
   "cell_type": "markdown",
   "metadata": {},
   "source": [
    "dem3"
   ]
  },
  {
   "cell_type": "code",
   "execution_count": 50,
   "metadata": {
    "collapsed": false
   },
   "outputs": [
    {
     "data": {
      "text/plain": [
       "Index(['dep',   4.0,   9.0,  14.0,  19.0,  24.0,  29.0,  34.0,  39.0,  44.0,\n",
       "        49.0,  54.0,  59.0,  64.0,  69.0,  74.0,  79.0,  84.0,  89.0,  94.0,\n",
       "         inf],\n",
       "      dtype='object', name='age_max_cat')"
      ]
     },
     "execution_count": 50,
     "metadata": {},
     "output_type": "execute_result"
    }
   ],
   "source": [
    "dem3.columns"
   ]
  },
  {
   "cell_type": "code",
   "execution_count": 54,
   "metadata": {
    "collapsed": false
   },
   "outputs": [
    {
     "data": {
      "text/plain": [
       "Index([                                              'dpt',\n",
       "                                               'count_dep',\n",
       "                                                   'dep_x',\n",
       "                     'Anatomie et cytologie pathologiques',\n",
       "                                  'Anesthésie-réanimation',\n",
       "                                       'Biologie médicale',\n",
       "                     'Cardiologie et maladies vasculaires',\n",
       "                                      'Chirurgie générale',\n",
       "                                     'Chirurgie infantile',\n",
       "               'Chirurgie maxillo-faciale et stomatologie',\n",
       "                 'Chirurgie orthopédique et traumatologie',\n",
       "       'Chirurgie plastique reconstructrice et esthétique',\n",
       "               'Chirurgie thoracique et cardio-vasculaire',\n",
       "                                    'Chirurgie urologique',\n",
       "                                    'Chirurgie vasculaire',\n",
       "                        'Chirurgie viscérale et digestive',\n",
       "                            'Dermatologie et vénéréologie',\n",
       "                           'Endocrinologie et métabolisme',\n",
       "                     'Ensemble des spécialités d'exercice',\n",
       "                       'Gastro-entérologie et hépatologie',\n",
       "                                    'Gynécologie médicale',\n",
       "                                 'Gynécologie-obstétrique',\n",
       "                                            'Généralistes',\n",
       "                                      'Génétique médicale',\n",
       "                                               'Gériatrie',\n",
       "                                             'Hématologie',\n",
       "                                     'Médecine du travail',\n",
       "                                       'Médecine générale',\n",
       "                                        'Médecine interne',\n",
       "                                      'Médecine nucléaire',\n",
       "                       'Médecine physique et réadaptation',\n",
       "                                         'Neuro-chirurgie',\n",
       "                                              'Neurologie',\n",
       "                                             'Néphrologie',\n",
       "                      'O.R.L et chirurgie cervico faciale',\n",
       "                               'Oncologie option médicale',\n",
       "                                           'Ophtalmologie',\n",
       "                                             'Pneumologie',\n",
       "                                             'Psychiatrie',\n",
       "                                               'Pédiatrie',\n",
       "                   'Radio-diagnostic et imagerie médicale',\n",
       "                                          'Radio-thérapie',\n",
       "                                      'Recherche médicale',\n",
       "                                            'Rhumatologie',\n",
       "                                    'Réanimation médicale',\n",
       "                      'Santé publique et médecine sociale',\n",
       "                                            'Spécialistes',\n",
       "                                               'r_spe_tot',\n",
       "                                               'r_ger_tot',\n",
       "                                                   'dep_y',\n",
       "                                                       4.0,\n",
       "                                                       9.0,\n",
       "                                                      14.0,\n",
       "                                                      19.0,\n",
       "                                                      24.0,\n",
       "                                                      29.0,\n",
       "                                                      34.0,\n",
       "                                                      39.0,\n",
       "                                                      44.0,\n",
       "                                                      49.0,\n",
       "                                                      54.0,\n",
       "                                                      59.0,\n",
       "                                                      64.0,\n",
       "                                                      69.0,\n",
       "                                                      74.0,\n",
       "                                                      79.0,\n",
       "                                                      84.0,\n",
       "                                                      89.0,\n",
       "                                                      94.0,\n",
       "                                                       inf],\n",
       "      dtype='object')"
      ]
     },
     "execution_count": 54,
     "metadata": {},
     "output_type": "execute_result"
    }
   ],
   "source": [
    "df8 = pd.merge(df6, dem3, left_on='dpt', right_on='dep', how='inner')\n",
    "df8.columns"
   ]
  },
  {
   "cell_type": "code",
   "execution_count": 65,
   "metadata": {
    "collapsed": false
   },
   "outputs": [],
   "source": [
    "liste = { x: df8.corr()[x]['Anatomie et cytologie pathologiques':'Spécialistes'].sort_values(ascending=False).head(10) for x in dem3.columns[1:]}"
   ]
  },
  {
   "cell_type": "code",
   "execution_count": 75,
   "metadata": {
    "collapsed": false
   },
   "outputs": [
    {
     "data": {
      "text/plain": [
       "Médecine générale                          0.951775\n",
       "Généralistes                               0.951775\n",
       "Médecine physique et réadaptation          0.933611\n",
       "Chirurgie urologique                       0.893646\n",
       "Ensemble des spécialités d'exercice        0.883265\n",
       "Chirurgie orthopédique et traumatologie    0.879256\n",
       "Cardiologie et maladies vasculaires        0.878751\n",
       "Gastro-entérologie et hépatologie          0.873369\n",
       "Pneumologie                                0.872915\n",
       "Gynécologie-obstétrique                    0.868781\n",
       "Name: 74.0, dtype: float64"
      ]
     },
     "execution_count": 75,
     "metadata": {},
     "output_type": "execute_result"
    }
   ],
   "source": [
    "liste.get(74.0)"
   ]
  },
  {
   "cell_type": "markdown",
   "metadata": {},
   "source": [
    "Est ce que la densité de certains médecins / praticiens est corrélé à la densité de population pour certaines classes d'ages (bebe/pediatre, personnes agées / infirmiers etc...) ?\n",
    "Il n'y a pas de corrélation forte entre bébé et pédiatre, personnes agées / gériatres ou infirmiers ...\n"
   ]
  },
  {
   "cell_type": "code",
   "execution_count": 76,
   "metadata": {
    "collapsed": false
   },
   "outputs": [
    {
     "data": {
      "text/plain": [
       "Médecine générale                      0.906135\n",
       "Généralistes                           0.906135\n",
       "Gériatrie                              0.864939\n",
       "Gynécologie-obstétrique                0.839551\n",
       "Médecine physique et réadaptation      0.835050\n",
       "Chirurgie urologique                   0.830220\n",
       "Gastro-entérologie et hépatologie      0.828617\n",
       "Ensemble des spécialités d'exercice    0.824762\n",
       "Pneumologie                            0.816440\n",
       "Cardiologie et maladies vasculaires    0.815588\n",
       "Name: 4.0, dtype: float64"
      ]
     },
     "execution_count": 76,
     "metadata": {},
     "output_type": "execute_result"
    }
   ],
   "source": [
    "liste.get(4.0)"
   ]
  },
  {
   "cell_type": "code",
   "execution_count": null,
   "metadata": {
    "collapsed": true
   },
   "outputs": [],
   "source": []
  }
 ],
 "metadata": {
  "kernelspec": {
   "display_name": "Python 3",
   "language": "python",
   "name": "python3"
  },
  "language_info": {
   "codemirror_mode": {
    "name": "ipython",
    "version": 3
   },
   "file_extension": ".py",
   "mimetype": "text/x-python",
   "name": "python",
   "nbconvert_exporter": "python",
   "pygments_lexer": "ipython3",
   "version": "3.4.3"
  }
 },
 "nbformat": 4,
 "nbformat_minor": 0
}
