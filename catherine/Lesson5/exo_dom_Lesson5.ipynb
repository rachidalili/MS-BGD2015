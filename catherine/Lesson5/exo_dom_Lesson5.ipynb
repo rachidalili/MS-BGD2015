{
 "cells": [
  {
   "cell_type": "code",
   "execution_count": 353,
   "metadata": {
    "collapsed": false
   },
   "outputs": [],
   "source": [
    "%pylab inline"
   ]
  },
  {
   "cell_type": "code",
   "execution_count": 370,
   "metadata": {
    "collapsed": false,
    "scrolled": false
   },
   "outputs": [
    {
     "data": {
      "text/html": [
       "<script>jQuery(function() {if (jQuery(\"body.notebook_app\").length == 0) { jQuery(\".input_area\").toggle(); jQuery(\".prompt\").toggle();}});</script>"
      ]
     },
     "metadata": {},
     "output_type": "display_data"
    },
    {
     "data": {
      "text/html": [
       "<button onclick=\"jQuery('.input_area').toggle(); jQuery('.prompt').toggle();\">Toggle code</button>"
      ]
     },
     "metadata": {},
     "output_type": "display_data"
    }
   ],
   "source": [
    "from IPython.display import display\n",
    "from IPython.display import HTML\n",
    "import IPython.core.display as di # Example: di.display_html('<h3>%s:</h3>' % str, raw=True)\n",
    "\n",
    "# This line will hide code by default when the notebook is exported as HTML\n",
    "di.display_html('<script>jQuery(function() {if (jQuery(\"body.notebook_app\").length == 0) { jQuery(\".input_area\").toggle(); jQuery(\".prompt\").toggle();}});</script>', raw=True)\n",
    "\n",
    "# This line will add a button to toggle visibility of code blocks, for use with the HTML export version\n",
    "di.display_html('''<button onclick=\"jQuery('.input_area').toggle(); jQuery('.prompt').toggle();\">Toggle code</button>''', raw=True)"
   ]
  },
  {
   "cell_type": "markdown",
   "metadata": {},
   "source": [
    "Peut-on établir un lien entre la densité de médecins par spécialité  et par territoire et la pratique\n",
    "du dépassement d'honoraires ?<br>\n",
    "Est-ce  dans les territoires où la densité est la plus forte que les médecins  pratiquent le moins les\n",
    "dépassement d'honoraires ?<br>\n",
    "Est ce que la densité de certains médecins / praticiens est corrélée à la densité de population pour\n",
    "certaines classes d'âges (bebe/pediatre, personnes agées / infirmiers etc...) ?"
   ]
  },
  {
   "cell_type": "code",
   "execution_count": 355,
   "metadata": {
    "collapsed": true
   },
   "outputs": [],
   "source": [
    "\"\"\"\n",
    "On choisira comme granularité de territoire le département (plus significatif que la région)\n",
    "\n",
    "1/ Pour les dépassements d'honoraires sur les praticiens spécialistes :\n",
    "On dispose d'un jeu de données disponibles sur 2013 : sur le site ameli.fr\n",
    "ici : http://www.ameli.fr/fileadmin/user_upload/documents/Honoraires_totaux_des_professionnels_de_sante_par_departement_en_2013.xls\n",
    "2/ Les données du point 1 étant relatives à 2013, on les mettra en regard des données de densité de 2013 qu'on récupérera\n",
    "sous format csv à partir de http://www.data.drees.sante.gouv.fr/ReportFolders/reportFolders.aspx?IF_ActivePath=P,490,497,514\n",
    "\n",
    "Pour les questions de mise en regard de la densité de spécialistes avec la structure de la population par tranche\n",
    "d'âge, on utilisera les données de l'insee et en particulier le fichier suivant :\n",
    "http://www.insee.fr/fr/ppp/bases-de-donnees/donnees-detaillees/estim-pop/estim-pop-dep-sexe-aq-1975-2014.xls\n",
    "\"\"\"\n",
    "\n",
    "import requests\n",
    "from bs4 import BeautifulSoup\n",
    "#import re\n",
    "import json\n",
    "import pandas as pd\n",
    "import sys\n",
    "#import numpy as np\n",
    "import matplotlib.pyplot as plt\n",
    "import seaborn as sns\n",
    "from scipy.stats import norm, t\n",
    "import statsmodels.formula.api as smf\n",
    "from IPython.html import widgets\n",
    "\n",
    "reload(sys)\n",
    "sys.setdefaultencoding(\"utf-8\")\n",
    "sns.set(color_codes=True)\n"
   ]
  },
  {
   "cell_type": "code",
   "execution_count": 356,
   "metadata": {
    "collapsed": true
   },
   "outputs": [],
   "source": [
    "global simple_columns\n",
    "simple_columns = [\n",
    "    'DEPARTEMENT',\n",
    "    'TTES_SPECIALITES',\n",
    "    'SPECIALISTES',\n",
    "    'ANATOMIE',\n",
    "    'ANESTHESIE',\n",
    "    'BIOLOGIE',\n",
    "    'CARDIOLOGIE',\n",
    "    'CHIRURGIE',\n",
    "    'STOMATOLOGIE',\n",
    "    'TRAUMATOLOGIE',\n",
    "    'CHIR_INFANT',\n",
    "    'CHIR_PLASTIQUE',\n",
    "    'CHIR_CARDIO',\n",
    "    'CHIR_UROLOGIQUE',\n",
    "    'CHIR_VASCULAIRE',\n",
    "    'CHIR_DISGESTIVE',\n",
    "    'DERMATOLOGIE',\n",
    "    'ENDOCRINOLOGIE',\n",
    "    'GENETIQUE',\n",
    "    'GERIATRIE',\n",
    "    'GYNECOLOGIE',\n",
    "    'OBSTETRIQUE',\n",
    "    'HEMATOLOGIE',\n",
    "    'HEPATOLOGIE',\n",
    "    'MEDECINE_TRAVAIL',\n",
    "    'MEDECINE_INTERNE',\n",
    "    'MEDECINE_NUCLEAIRE',\n",
    "    'READAPTATION',\n",
    "    'NEPHROLOGIE',\n",
    "    'NEURO_CHIRURGIE',\n",
    "    'NEUROLOGIE',\n",
    "    'ORL',\n",
    "    'ONCOLOGIE',\n",
    "    'OPHTALMOLOGIE',\n",
    "    'PEDIATRIE',\n",
    "    'PNEUMOLOGIE',\n",
    "    'PSYCHIATRIE',\n",
    "    'RADIOLOGIE',\n",
    "    'RADIO_THERAPIE',\n",
    "    'REANIMATION',\n",
    "    'RECHERCHE',\n",
    "    'RHUMATOLOGIE',\n",
    "    'MEDECINE_SOCIALE',\n",
    "    'GENERALISTES',\n",
    "    'MEDECINE_GENERALE'\n",
    "]\n",
    "\n",
    "global ameli_spe_codes\n",
    "ameli_spe_codes = {\n",
    "    '37': 'ANATOMIE',\n",
    "    '02': 'ANESTHESIE',\n",
    "    '38': 'BIOLOGIE',\n",
    "    '03': 'CARDIOLOGIE',\n",
    "    '04': 'CHIRURGIE',\n",
    "    '18': 'STOMATOLOGIE',\n",
    "    '44': 'STOMATOLOGIE',\n",
    "    '45': 'STOMATOLOGIE',\n",
    "    '41': 'TRAUMATOLOGIE',\n",
    "    '43': 'CHIR_INFANT',\n",
    "    '46': 'CHIR_PLASTIQUE',\n",
    "    '47': 'CHIR_CARDIO',\n",
    "    '16': 'CHIR_UROLOGIQUE',\n",
    "    '48': 'CHIR_VASCULAIRE',\n",
    "    '49': 'CHIR_DISGESTIVE',\n",
    "    '05': 'DERMATOLOGIE',\n",
    "    '42': 'ENDOCRINOLOGIE',\n",
    "    '78': 'GENETIQUE',\n",
    "    '34': 'GERIATRIE',\n",
    "    '70': 'GYNECOLOGIE',\n",
    "    '07': 'OBSTETRIQUE',\n",
    "    '77': 'OBSTETRIQUE',\n",
    "    '79': 'OBSTETRIQUE',\n",
    "    '71': 'HEMATOLOGIE',\n",
    "    '08': 'HEPATOLOGIE',\n",
    "    '09': 'MEDECINE_INTERNE',\n",
    "    '72': 'MEDECINE_NUCLEAIRE',\n",
    "    '31': 'READAPTATION',\n",
    "    '35': 'NEPHROLOGIE',\n",
    "    '10': 'NEURO_CHIRURGIE',\n",
    "    '32': 'NEUROLOGIE',\n",
    "    '11': 'ORL',\n",
    "    '73': 'ONCOLOGIE',\n",
    "    '15': 'OPHTALMOLOGIE',\n",
    "    '12': 'PEDIATRIE',\n",
    "    '13': 'PNEUMOLOGIE',\n",
    "    '33': 'PSYCHIATRIE',\n",
    "    '75': 'PSYCHIATRIE',\n",
    "    '17': 'PSYCHIATRIE',\n",
    "    '06': 'RADIOLOGIE',\n",
    "    '74': 'RADIO_THERAPIE',\n",
    "    '76': 'RADIO_THERAPIE',\n",
    "    '20': 'REANIMATION',\n",
    "    '14': 'RHUMATOLOGIE'\n",
    "}\n",
    "\n",
    "global pop_columns\n",
    "pop_columns = [\n",
    "    'DEP_ID', 'DEPARTEMENT',\n",
    "    '0_4', '5_9', '10_14', '15_19', '20_24', '25_29', '30_34', '35_39', '40_44', '45_49', '50_54', '55_59', '60_64',\n",
    "    '65_69', '70_74', '75_79', '80_84', '85_89', '90_95', '95_et_plus'\n",
    "]\n"
   ]
  },
  {
   "cell_type": "code",
   "execution_count": 357,
   "metadata": {
    "collapsed": false
   },
   "outputs": [],
   "source": [
    "#\n",
    "# Replace several substrings in string\n",
    "#\n",
    "def replace_non_ascii(text):\n",
    "    dic = {'é': 'e', 'è': 'e', 'ô': 'o'}\n",
    "    if not text is None:\n",
    "        for i, j in dic.iteritems():\n",
    "            text = text.replace(i, j)\n",
    "    return text\n",
    "\n",
    "def replace_bad_dpt(dep):\n",
    "    if not dep is None:\n",
    "        dep = dep.upper()\n",
    "        if dep == \"SEINE-ST-DENIS\":\n",
    "            dep = \"SEINE-SAINT-DENIS\"\n",
    "        elif dep == \"ALPES-HTE-PROVENCE\":\n",
    "            dep = \"ALPES-DE-HAUTE-PROVENCE\"\n",
    "        elif dep == \"TERR\":\n",
    "            dep = \"TERRITOIRE DE BELFORT\"\n",
    "    return dep\n",
    "\n",
    "#\n",
    "# Chargement dataset des densités de spécialistes\n",
    "#\n",
    "def getDensites():\n",
    "    global simple_columns\n",
    "    df_densites = pd.read_csv(\"rpps-medecin-densite-2013.csv\", header=34, encoding=\"iso-8859-1\")\n",
    "    df_densites.columns = simple_columns\n",
    "    df_densites['DEPARTEMENT'] = df_densites['DEPARTEMENT'].map(replace_non_ascii)\n",
    "    df_densites['DEPARTEMENT'] = df_densites['DEPARTEMENT'].str.extract(\"-\\ ([A-Z][A-Za-z\\ \\-']*)\")\n",
    "    df_densites['DEPARTEMENT'] = df_densites['DEPARTEMENT'].str.upper()\n",
    "    print(len(df_densites))\n",
    "    df_densites.index = df_densites['DEPARTEMENT'].loc[0:]\n",
    "    print(len(df_densites))\n",
    "    df_densites.drop('DEPARTEMENT', axis=1, inplace=True)\n",
    "    print(len(df_densites))\n",
    "    # Eliminer les colonnes inutiles\n",
    "    df_densites.drop('MEDECINE_GENERALE', axis=1, inplace=True)\n",
    "    df_densites.drop('GENERALISTES', axis=1, inplace=True)\n",
    "    df_densites.drop('MEDECINE_SOCIALE', axis=1, inplace=True)\n",
    "    df_densites.drop('MEDECINE_TRAVAIL', axis=1, inplace=True)\n",
    "    df_densites.drop('MEDECINE_INTERNE', axis=1, inplace=True)\n",
    "    df_densites.drop('TTES_SPECIALITES', axis=1, inplace=True)\n",
    "    df_densites.drop('RECHERCHE', axis=1, inplace=True)\n",
    "    return df_densites\n",
    "\n",
    "def getDepassementsSpe():\n",
    "    global ameli_spe_codes\n",
    "    df = pd.read_excel(\"Honoraires_prof_sante_par_dep_2013.xls\", sheetname='Spécialistes',\n",
    "                       encoding='UTF-8', na_values=['nc'], thousands=' ', keep_default_na=False,\n",
    "                       skip_footer=4017)\n",
    "    # remove columns from 2 to 7\n",
    "    df = df.drop(df.columns[range(2, 8)], axis=1)\n",
    "    # set columns titles\n",
    "    df.columns = ['SPECIALITE', 'DEPARTEMENT', 'DEPASSEMENT']\n",
    "    # select and remove rows with first column begining with TOTAL\n",
    "    select = df.iloc[:, 0].str.startswith('TOTAL')\n",
    "    df = df.drop(df[select].index)\n",
    "    # select and remove rows with second column begin ing with TOTAL\n",
    "    select = df.iloc[:, 1].str.startswith('TOTAL')\n",
    "    df = df.drop(df[select].index)\n",
    "    df = df.reset_index(drop=True)\n",
    "    df.iloc[:, 1] = df.iloc[:, 1].map(replace_non_ascii)\n",
    "    df.iloc[:, 1] = df.iloc[:, 1].str.extract(\"-\\ ([A-Z][A-Za-z\\ \\-']*)\")\n",
    "    df.iloc[:, 1] = df.iloc[:, 1].str.upper()\n",
    "    df.iloc[:, 1] = df.iloc[:, 1].map(replace_bad_dpt)\n",
    "    # keep only code for SPECIALITE\n",
    "    df['SPECIALITE'] = df['SPECIALITE'].str[0:2]\n",
    "    df['SPECIALITE'] = df['SPECIALITE'].map(ameli_spe_codes)\n",
    "    #df.to_csv('dep1.csv')\n",
    "    grp = df.groupby(['DEPARTEMENT', 'SPECIALITE'])\n",
    "    depassement_sums = grp['DEPASSEMENT'].sum()\n",
    "    depassement_sums = depassement_sums.copy()\n",
    "    df.drop('DEPASSEMENT', axis=1, inplace=True)\n",
    "    df = df.drop_duplicates()\n",
    "    df = df.reset_index(drop=True)\n",
    "    depassement_sums = depassement_sums.reset_index(drop=True)\n",
    "    df['DEPASSEMENT'] = depassement_sums\n",
    "    #df.to_csv('dep2.csv')\n",
    "    df.index = df['DEPARTEMENT']\n",
    "    df.drop('DEPARTEMENT', axis=1, inplace=True)\n",
    "    df = df.drop(['DEPARTEMENT'])\n",
    "    return df\n",
    "\n",
    "#\n",
    "# Chargement du dataset de données insee sur la structure des populations par département\n",
    "#\n",
    "def getPopulationDF():\n",
    "    global pop_columns\n",
    "    df = pd.read_excel(\"estim-pop-dep.xls\", sheetname=\"2013\", parse_cols=21, skiprows=4, skip_footer=4)\n",
    "    df.columns = pop_columns\n",
    "    df = df.drop([96])\n",
    "    #df = df.dropna()\n",
    "    df['DEPARTEMENT'] = df['DEPARTEMENT'].map(replace_non_ascii)\n",
    "    df['DEPARTEMENT'] = df['DEPARTEMENT'].str.upper()\n",
    "    df.index = df['DEPARTEMENT']\n",
    "    df.drop('DEP_ID', axis=1, inplace=True)\n",
    "    df.drop('DEPARTEMENT', axis=1, inplace=True)\n",
    "    return df\n"
   ]
  },
  {
   "cell_type": "code",
   "execution_count": 358,
   "metadata": {
    "collapsed": false
   },
   "outputs": [],
   "source": [
    "df_densites = getDensites()\n",
    "# on élimine MAYOTTE pour laquelle on n'a pas de données de recensement insee\n",
    "df_densites = df_densites.drop(['MAYOTTE'])\n",
    "#df_densites.head()"
   ]
  },
  {
   "cell_type": "code",
   "execution_count": 359,
   "metadata": {
    "collapsed": false
   },
   "outputs": [],
   "source": [
    "df_depassements = getDepassementsSpe()\n",
    "# on élimine MAYOTTE pour laquelle on n'a pas de données de recensement insee\n",
    "df_depassements = df_depassements.drop(['MAYOTTE'])\n",
    "#df_depassements.head()"
   ]
  },
  {
   "cell_type": "code",
   "execution_count": 360,
   "metadata": {
    "collapsed": false
   },
   "outputs": [],
   "source": [
    "df_pop = getPopulationDF()\n",
    "#df_pop.head()"
   ]
  },
  {
   "cell_type": "code",
   "execution_count": 361,
   "metadata": {
    "collapsed": false
   },
   "outputs": [],
   "source": [
    "# Get departement list in json\n",
    "departements = pd.Series(df_pop.index.copy())\n",
    "json_dpts = departements.to_json(orient='records')\n",
    "\n",
    "# Création de la liste des spécialités en json\n",
    "global simple_columns\n",
    "simple_columns\n",
    "specialites = pd.Series(simple_columns)\n",
    "specialites.drop([0,1,2], inplace=True)\n",
    "json_spe = specialites.to_json(orient='records')\n",
    "\n",
    "# Classes d'âge en json\n",
    "ages = pd.Series(pop_columns[2:])\n",
    "json_ages = ages.to_json(orient='records')\n"
   ]
  },
  {
   "cell_type": "code",
   "execution_count": 371,
   "metadata": {
    "collapsed": false
   },
   "outputs": [
    {
     "data": {
      "text/html": [
       "<center><br><br><div style=\"background-color:gainsboro; border:solid black; width:600px; padding:20px;\">Sélectionnez la spécialité: <select id=\"var_spe\" value=\"foo\"><option value=\"ANATOMIE\">ANATOMIE</option><option value=\"ANESTHESIE\">ANESTHESIE</option><option value=\"BIOLOGIE\">BIOLOGIE</option><option value=\"CARDIOLOGIE\">CARDIOLOGIE</option><option value=\"CHIRURGIE\">CHIRURGIE</option><option value=\"STOMATOLOGIE\">STOMATOLOGIE</option><option value=\"TRAUMATOLOGIE\">TRAUMATOLOGIE</option><option value=\"CHIR_INFANT\">CHIR_INFANT</option><option value=\"CHIR_PLASTIQUE\">CHIR_PLASTIQUE</option><option value=\"CHIR_CARDIO\">CHIR_CARDIO</option><option value=\"CHIR_UROLOGIQUE\">CHIR_UROLOGIQUE</option><option value=\"CHIR_VASCULAIRE\">CHIR_VASCULAIRE</option><option value=\"CHIR_DISGESTIVE\">CHIR_DISGESTIVE</option><option value=\"DERMATOLOGIE\">DERMATOLOGIE</option><option value=\"ENDOCRINOLOGIE\">ENDOCRINOLOGIE</option><option value=\"GENETIQUE\">GENETIQUE</option><option value=\"GERIATRIE\">GERIATRIE</option><option value=\"GYNECOLOGIE\">GYNECOLOGIE</option><option value=\"OBSTETRIQUE\">OBSTETRIQUE</option><option value=\"HEMATOLOGIE\">HEMATOLOGIE</option><option value=\"HEPATOLOGIE\">HEPATOLOGIE</option><option value=\"MEDECINE_TRAVAIL\">MEDECINE_TRAVAIL</option><option value=\"MEDECINE_INTERNE\">MEDECINE_INTERNE</option><option value=\"MEDECINE_NUCLEAIRE\">MEDECINE_NUCLEAIRE</option><option value=\"READAPTATION\">READAPTATION</option><option value=\"NEPHROLOGIE\">NEPHROLOGIE</option><option value=\"NEURO_CHIRURGIE\">NEURO_CHIRURGIE</option><option value=\"NEUROLOGIE\">NEUROLOGIE</option><option value=\"ORL\">ORL</option><option value=\"ONCOLOGIE\">ONCOLOGIE</option><option value=\"OPHTALMOLOGIE\">OPHTALMOLOGIE</option><option value=\"PEDIATRIE\">PEDIATRIE</option><option value=\"PNEUMOLOGIE\">PNEUMOLOGIE</option><option value=\"PSYCHIATRIE\">PSYCHIATRIE</option><option value=\"RADIOLOGIE\">RADIOLOGIE</option><option value=\"RADIO_THERAPIE\">RADIO_THERAPIE</option><option value=\"REANIMATION\">REANIMATION</option><option value=\"RECHERCHE\">RECHERCHE</option><option value=\"RHUMATOLOGIE\">RHUMATOLOGIE</option><option value=\"MEDECINE_SOCIALE\">MEDECINE_SOCIALE</option><option value=\"GENERALISTES\">GENERALISTES</option><option value=\"MEDECINE_GENERALE\">MEDECINE_GENERALE</option></select><br><br><button onclick=\"apply_test_corre1()\">Tester corrélation densité spécialistes / dépassements honoraires</button></div></center>"
      ],
      "text/plain": [
       "<IPython.core.display.HTML object>"
      ]
     },
     "metadata": {},
     "output_type": "display_data"
    },
    {
     "data": {
      "text/html": [
       "\n",
       "<script type=\"text/Javascript\">\n",
       "    function apply_test_corre1(){\n",
       "        var var_value = document.getElementById('var_spe').value;\n",
       "        var kernel = IPython.notebook.kernel;\n",
       "        // Create a python variable named var_spe\n",
       "        kernel.execute(\"var_spe = '\"+var_value+\"'\");\n",
       "        // execute cells below\n",
       "        IPython.notebook.execute_cells_below()\n",
       "        /*\n",
       "        var var_value = document.getElementById('var_value').value;\n",
       "        var command = var_name + \" = '\" + var_value + \"'\";\n",
       "        console.log(\"Executing Command: \" + command);\n",
       "        \n",
       "        var kernel = IPython.notebook.kernel;\n",
       "        kernel.execute(command);\n",
       "        IPython.notebook.execute_all_cells()\n",
       "        */\n",
       "    }\n",
       "</script>\n"
      ],
      "text/plain": [
       "<IPython.core.display.HTML object>"
      ]
     },
     "execution_count": 371,
     "metadata": {},
     "output_type": "execute_result"
    }
   ],
   "source": [
    "from IPython.display import HTML, Javascript, clear_output\n",
    "\n",
    "spe_list = json.loads(json_spe)\n",
    "clear_output(wait=True)\n",
    "content = '<center><br><br><div style=\"background-color:gainsboro; border:solid black; width:600px; padding:20px;\">'\n",
    "content += 'Sélectionnez la spécialité: <select id=\"var_spe\" value=\"foo\">'\n",
    "for spe in spe_list:\n",
    "    content += '<option value=\"'+str(spe)+'\">'+str(spe)+'</option>'\n",
    "content += '</select><br><br>'\n",
    "content += '<button onclick=\"apply_test_corre1()\">Tester corrélation densité spécialistes / dépassements honoraires</button>'\n",
    "content += '</div></center>'\n",
    "display(HTML(content))\n",
    "\n",
    "\n",
    "javascript = \"\"\"\n",
    "<script type=\"text/Javascript\">\n",
    "    function apply_test_corre1(){\n",
    "        var var_value = document.getElementById('var_spe').value;\n",
    "        var kernel = IPython.notebook.kernel;\n",
    "        // Create a python variable named var_spe\n",
    "        kernel.execute(\"var_spe = '\"+var_value+\"'\");\n",
    "        // execute cells below\n",
    "        IPython.notebook.execute_cells_below()\n",
    "        /*\n",
    "        var var_value = document.getElementById('var_value').value;\n",
    "        var command = var_name + \" = '\" + var_value + \"'\";\n",
    "        console.log(\"Executing Command: \" + command);\n",
    "        \n",
    "        var kernel = IPython.notebook.kernel;\n",
    "        kernel.execute(command);\n",
    "        IPython.notebook.execute_all_cells()\n",
    "        */\n",
    "    }\n",
    "</script>\n",
    "\"\"\"\n",
    "\n",
    "HTML(javascript)"
   ]
  },
  {
   "cell_type": "code",
   "execution_count": 363,
   "metadata": {
    "collapsed": false,
    "scrolled": true
   },
   "outputs": [
    {
     "data": {
      "image/png": "[encoded data removed]",
      "text/plain": [
       "<matplotlib.figure.Figure at 0x7eff353460d0>"
      ]
     },
     "metadata": {},
     "output_type": "display_data"
    }
   ],
   "source": [
    "#var_spe\n",
    "# filtrer les dépassements pas la spécialité sélectionnée\n",
    "df_depassements_rl = df_depassements[df_depassements['SPECIALITE']==var_spe]\n",
    "# faire une jointure avec le dataframe des densites\n",
    "df = df_densites.join(df_depassements_rl)\n",
    "df = df[[var_spe,'DEPASSEMENT']]\n",
    "df = df.dropna()\n",
    "X = df[[var_spe]]\n",
    "y = df['DEPASSEMENT']\n",
    "# centrer/réduire X\n",
    "mean = X.mean()\n",
    "std = X.std()\n",
    "Xcr = (X - mean)/std\n",
    "#dat = pd.concat([Xcr, y-y.mean()], axis=1)\n",
    "dat = pd.concat([X, y], axis=1)\n",
    "title = 'DENSITE_SPECIALISTES '+var_spe\n",
    "dat.columns = [title, 'MOYENNE_DEPASSEMENT']\n",
    "#print(dat)\n",
    "#plt.scatter(Xcr, y, c='blue', alpha=0.5)\n",
    "sns.set_palette(\"bright\")\n",
    "fig1, ax = plt.subplots(figsize=(13, 6))\n",
    "ax = sns.regplot(x=title, y='MOYENNE_DEPASSEMENT', data=dat, ci=95)"
   ]
  },
  {
   "cell_type": "markdown",
   "metadata": {},
   "source": [
    "## Identification des outliers\n",
    "\n",
    "On considère outliers les départements pour lesquels des dépassements excèdent 4 fois la médiane des dépassements"
   ]
  },
  {
   "cell_type": "code",
   "execution_count": 364,
   "metadata": {
    "collapsed": false
   },
   "outputs": [
    {
     "data": {
      "text/html": [
       "<div>\n",
       "<table border=\"1\" class=\"dataframe\">\n",
       "  <thead>\n",
       "    <tr style=\"text-align: right;\">\n",
       "      <th></th>\n",
       "      <th>RHUMATOLOGIE</th>\n",
       "      <th>DEPASSEMENT</th>\n",
       "    </tr>\n",
       "    <tr>\n",
       "      <th>DEPARTEMENT</th>\n",
       "      <th></th>\n",
       "      <th></th>\n",
       "    </tr>\n",
       "  </thead>\n",
       "  <tbody>\n",
       "    <tr>\n",
       "      <th>MAYENNE</th>\n",
       "      <td>2.3</td>\n",
       "      <td>371</td>\n",
       "    </tr>\n",
       "    <tr>\n",
       "      <th>HAUTE-VIENNE</th>\n",
       "      <td>5.8</td>\n",
       "      <td>272</td>\n",
       "    </tr>\n",
       "    <tr>\n",
       "      <th>HAUTE-SAONE</th>\n",
       "      <td>1.7</td>\n",
       "      <td>262</td>\n",
       "    </tr>\n",
       "    <tr>\n",
       "      <th>MORBIHAN</th>\n",
       "      <td>3.6</td>\n",
       "      <td>258</td>\n",
       "    </tr>\n",
       "    <tr>\n",
       "      <th>CALVADOS</th>\n",
       "      <td>3.1</td>\n",
       "      <td>257</td>\n",
       "    </tr>\n",
       "    <tr>\n",
       "      <th>VAR</th>\n",
       "      <td>4.2</td>\n",
       "      <td>255</td>\n",
       "    </tr>\n",
       "    <tr>\n",
       "      <th>MANCHE</th>\n",
       "      <td>3.6</td>\n",
       "      <td>226</td>\n",
       "    </tr>\n",
       "    <tr>\n",
       "      <th>NIEVRE</th>\n",
       "      <td>2.3</td>\n",
       "      <td>224</td>\n",
       "    </tr>\n",
       "    <tr>\n",
       "      <th>MEURTHE-ET-MOSELLE</th>\n",
       "      <td>5.0</td>\n",
       "      <td>194</td>\n",
       "    </tr>\n",
       "    <tr>\n",
       "      <th>HAUTE-MARNE</th>\n",
       "      <td>4.4</td>\n",
       "      <td>164</td>\n",
       "    </tr>\n",
       "    <tr>\n",
       "      <th>SAONE-ET-LOIRE</th>\n",
       "      <td>2.5</td>\n",
       "      <td>135</td>\n",
       "    </tr>\n",
       "    <tr>\n",
       "      <th>VAUCLUSE</th>\n",
       "      <td>3.8</td>\n",
       "      <td>131</td>\n",
       "    </tr>\n",
       "  </tbody>\n",
       "</table>\n",
       "</div>"
      ],
      "text/plain": [
       "                    RHUMATOLOGIE  DEPASSEMENT\n",
       "DEPARTEMENT                                  \n",
       "MAYENNE                      2.3          371\n",
       "HAUTE-VIENNE                 5.8          272\n",
       "HAUTE-SAONE                  1.7          262\n",
       "MORBIHAN                     3.6          258\n",
       "CALVADOS                     3.1          257\n",
       "VAR                          4.2          255\n",
       "MANCHE                       3.6          226\n",
       "NIEVRE                       2.3          224\n",
       "MEURTHE-ET-MOSELLE           5.0          194\n",
       "HAUTE-MARNE                  4.4          164\n",
       "SAONE-ET-LOIRE               2.5          135\n",
       "VAUCLUSE                     3.8          131"
      ]
     },
     "execution_count": 364,
     "metadata": {},
     "output_type": "execute_result"
    }
   ],
   "source": [
    "# Médiane des dépassements\n",
    "med = df['DEPASSEMENT'].median()\n",
    "df_outliers = df[df['DEPASSEMENT'] > 4*med]\n",
    "df_outliers.sort(columns=['DEPASSEMENT'], ascending=False)"
   ]
  },
  {
   "cell_type": "markdown",
   "metadata": {},
   "source": [
    "## Corrélation potentielle entre la densité de certains spécialistes et l'effectif de certaines classes d'âge\n",
    "On travaille sur tout le territoire et dans un 1er temps, on conserve les quantiles d'âges tels que définis dans le fichier insee<br>"
   ]
  },
  {
   "cell_type": "code",
   "execution_count": 365,
   "metadata": {
    "collapsed": false
   },
   "outputs": [
    {
     "data": {
      "text/html": [
       "<center><div style=\"background-color:gainsboro; border:solid black; width:600px; padding:20px;\">Sélectionnez la spécialité: <select id=\"var_spe2\"><option value=\"ANATOMIE\">ANATOMIE</option><option value=\"ANESTHESIE\">ANESTHESIE</option><option value=\"BIOLOGIE\">BIOLOGIE</option><option value=\"CARDIOLOGIE\">CARDIOLOGIE</option><option value=\"CHIRURGIE\">CHIRURGIE</option><option value=\"STOMATOLOGIE\">STOMATOLOGIE</option><option value=\"TRAUMATOLOGIE\">TRAUMATOLOGIE</option><option value=\"CHIR_INFANT\">CHIR_INFANT</option><option value=\"CHIR_PLASTIQUE\">CHIR_PLASTIQUE</option><option value=\"CHIR_CARDIO\">CHIR_CARDIO</option><option value=\"CHIR_UROLOGIQUE\">CHIR_UROLOGIQUE</option><option value=\"CHIR_VASCULAIRE\">CHIR_VASCULAIRE</option><option value=\"CHIR_DISGESTIVE\">CHIR_DISGESTIVE</option><option value=\"DERMATOLOGIE\">DERMATOLOGIE</option><option value=\"ENDOCRINOLOGIE\">ENDOCRINOLOGIE</option><option value=\"GENETIQUE\">GENETIQUE</option><option value=\"GERIATRIE\">GERIATRIE</option><option value=\"GYNECOLOGIE\">GYNECOLOGIE</option><option value=\"OBSTETRIQUE\">OBSTETRIQUE</option><option value=\"HEMATOLOGIE\">HEMATOLOGIE</option><option value=\"HEPATOLOGIE\">HEPATOLOGIE</option><option value=\"MEDECINE_TRAVAIL\">MEDECINE_TRAVAIL</option><option value=\"MEDECINE_INTERNE\">MEDECINE_INTERNE</option><option value=\"MEDECINE_NUCLEAIRE\">MEDECINE_NUCLEAIRE</option><option value=\"READAPTATION\">READAPTATION</option><option value=\"NEPHROLOGIE\">NEPHROLOGIE</option><option value=\"NEURO_CHIRURGIE\">NEURO_CHIRURGIE</option><option value=\"NEUROLOGIE\">NEUROLOGIE</option><option value=\"ORL\">ORL</option><option value=\"ONCOLOGIE\">ONCOLOGIE</option><option value=\"OPHTALMOLOGIE\">OPHTALMOLOGIE</option><option value=\"PEDIATRIE\">PEDIATRIE</option><option value=\"PNEUMOLOGIE\">PNEUMOLOGIE</option><option value=\"PSYCHIATRIE\">PSYCHIATRIE</option><option value=\"RADIOLOGIE\">RADIOLOGIE</option><option value=\"RADIO_THERAPIE\">RADIO_THERAPIE</option><option value=\"REANIMATION\">REANIMATION</option><option value=\"RECHERCHE\">RECHERCHE</option><option value=\"RHUMATOLOGIE\">RHUMATOLOGIE</option><option value=\"MEDECINE_SOCIALE\">MEDECINE_SOCIALE</option><option value=\"GENERALISTES\">GENERALISTES</option><option value=\"MEDECINE_GENERALE\">MEDECINE_GENERALE</option></select><br><br>Sélectionnez la classe d&apos;&acirc;ge: <select id=\"var_age\"><option value=\"0_4\">0_4</option><option value=\"5_9\">5_9</option><option value=\"10_14\">10_14</option><option value=\"15_19\">15_19</option><option value=\"20_24\">20_24</option><option value=\"25_29\">25_29</option><option value=\"30_34\">30_34</option><option value=\"35_39\">35_39</option><option value=\"40_44\">40_44</option><option value=\"45_49\">45_49</option><option value=\"50_54\">50_54</option><option value=\"55_59\">55_59</option><option value=\"60_64\">60_64</option><option value=\"65_69\">65_69</option><option value=\"70_74\">70_74</option><option value=\"75_79\">75_79</option><option value=\"80_84\">80_84</option><option value=\"85_89\">85_89</option><option value=\"90_95\">90_95</option><option value=\"95_et_plus\">95_et_plus</option></select><br><br><button onclick=\"apply_test_corre2()\">Tester corrélation densité spécialistes / classe d&apos;&acirc;ge</button></div></center>"
      ],
      "text/plain": [
       "<IPython.core.display.HTML object>"
      ]
     },
     "metadata": {},
     "output_type": "display_data"
    },
    {
     "data": {
      "text/html": [
       "\n",
       "<script type=\"text/Javascript\">\n",
       "    function apply_test_corre2(){\n",
       "        var var_value = document.getElementById('var_spe2').value;\n",
       "        var var_vage = document.getElementById('var_age').value;\n",
       "        var kernel = IPython.notebook.kernel;\n",
       "        // Create a python variable named var_spe\n",
       "        kernel.execute(\"var_spe2 = '\"+var_value+\"'\");\n",
       "        kernel.execute(\"var_age = '\"+var_vage+\"'\");\n",
       "        // execute cells below\n",
       "        IPython.notebook.execute_cells_below()\n",
       "        /*\n",
       "        var var_value = document.getElementById('var_value').value;\n",
       "        var command = var_name + \" = '\" + var_value + \"'\";\n",
       "        console.log(\"Executing Command: \" + command);\n",
       "        \n",
       "        var kernel = IPython.notebook.kernel;\n",
       "        kernel.execute(command);\n",
       "        IPython.notebook.execute_all_cells()\n",
       "        */\n",
       "    }\n",
       "</script>\n"
      ],
      "text/plain": [
       "<IPython.core.display.HTML object>"
      ]
     },
     "execution_count": 365,
     "metadata": {},
     "output_type": "execute_result"
    }
   ],
   "source": [
    "spe_list = json.loads(json_spe)\n",
    "ages_list = json.loads(json_ages)\n",
    "clear_output(wait=True)\n",
    "content = '<center><br><br><div style=\"background-color:gainsboro; border:solid black; width:600px; padding:20px;\">'\n",
    "content += 'Sélectionnez la spécialité: <select id=\"var_spe2\">'\n",
    "for spe in spe_list:\n",
    "    content += '<option value=\"'+str(spe)+'\">'+str(spe)+'</option>'\n",
    "content += '</select><br><br>'\n",
    "content += 'Sélectionnez la classe d&apos;&acirc;ge: <select id=\"var_age\">'\n",
    "for age in ages_list:\n",
    "    content += '<option value=\"'+str(age)+'\">'+str(age)+'</option>'\n",
    "content += '</select><br><br>'\n",
    "content += '<button onclick=\"apply_test_corre2()\">Tester corrélation densité spécialistes / classe d&apos;&acirc;ge</button>'\n",
    "content += '</div></center>'\n",
    "display(HTML(content))\n",
    "\n",
    "\n",
    "javascript = \"\"\"\n",
    "<script type=\"text/Javascript\">\n",
    "    function apply_test_corre2(){\n",
    "        var var_value = document.getElementById('var_spe2').value;\n",
    "        var var_vage = document.getElementById('var_age').value;\n",
    "        var kernel = IPython.notebook.kernel;\n",
    "        // Create a python variable named var_spe\n",
    "        kernel.execute(\"var_spe2 = '\"+var_value+\"'\");\n",
    "        kernel.execute(\"var_age = '\"+var_vage+\"'\");\n",
    "        // execute cells below\n",
    "        IPython.notebook.execute_cells_below()\n",
    "        /*\n",
    "        var var_value = document.getElementById('var_value').value;\n",
    "        var command = var_name + \" = '\" + var_value + \"'\";\n",
    "        console.log(\"Executing Command: \" + command);\n",
    "        \n",
    "        var kernel = IPython.notebook.kernel;\n",
    "        kernel.execute(command);\n",
    "        IPython.notebook.execute_all_cells()\n",
    "        */\n",
    "    }\n",
    "</script>\n",
    "\"\"\"\n",
    "\n",
    "HTML(javascript)"
   ]
  },
  {
   "cell_type": "code",
   "execution_count": 366,
   "metadata": {
    "collapsed": false
   },
   "outputs": [
    {
     "data": {
      "image/png": "[encoded data removed]",
      "text/plain": [
       "<matplotlib.figure.Figure at 0x7eff35e3d450>"
      ]
     },
     "metadata": {},
     "output_type": "display_data"
    }
   ],
   "source": [
    "#var_spe2 et var_age\n",
    "# faire une jointure dataframe des densites / dataframe population\n",
    "df2 = df_densites.join(df_pop)\n",
    "df2 = df2[[var_spe2,var_age]]\n",
    "df2 = df2.dropna()\n",
    "X2 = df2[[var_spe2]]\n",
    "y2 = df2[var_age]\n",
    "# centrer/réduire X\n",
    "mean2 = X2.mean()\n",
    "std2 = X2.std()\n",
    "Xcr2 = (X2 - mean2)/std2\n",
    "#dat = pd.concat([Xcr, y-y.mean()], axis=1)\n",
    "dat2 = pd.concat([X2, y2], axis=1)\n",
    "title2 = 'DENSITE_SPECIALISTES '+var_spe2\n",
    "title22 = 'EFFECTIF '+var_age\n",
    "dat2.columns = [title2, title22]\n",
    "#print(dat)\n",
    "#plt.scatter(Xcr, y, c='blue', alpha=0.5)\n",
    "sns.set_palette(\"bright\")\n",
    "fig1, ax = plt.subplots(figsize=(13, 6))\n",
    "ax = sns.regplot(x=title2, y=title22, data=dat2, ci=95)"
   ]
  },
  {
   "cell_type": "markdown",
   "metadata": {},
   "source": [
    "On propose un autre axe d'étude du sujet en définissant une structuration des populations en 5 grandes classes d'âge :<br>\n",
    "<ul>\n",
    "<li>enfant (de 0 à 14 ans)</li>\n",
    "<li>jeune (de 15 à 29 ans)</li>\n",
    "<li>âge médian (de 30 à 49 ans)</li>\n",
    "<li>sénior (de 50 à 69 ans)</li>\n",
    "<li>personne âgée (70 ans et plus)</li>\n",
    "</ul>"
   ]
  },
  {
   "cell_type": "code",
   "execution_count": 367,
   "metadata": {
    "collapsed": false
   },
   "outputs": [],
   "source": [
    "# Restructuration du dataset insee\n",
    "\n",
    "def replace_classe_age(text):\n",
    "    if not text is None:\n",
    "        if text == '0_4' or text == '5_9' or text == '10_14':\n",
    "            text = '0_14'\n",
    "        elif text == '15_19' or text == '20_24' or text == '25_29':\n",
    "            text = '15_29'\n",
    "        elif text == '30_34' or text == '35_39' or text == '40_44' or text == '45_49':\n",
    "            text = '30_49'\n",
    "        elif text == '50_54' or text == '55_59' or text == '60_64' or text == '65_69':\n",
    "            text = '50_69'\n",
    "        else:\n",
    "            text = '70_et_plus'\n",
    "    return text\n",
    "\n",
    "df_pop2 = df_pop.transpose()\n",
    "df_pop2.reset_index(inplace=True)\n",
    "df_pop2.rename(columns={'index': 'CLASSE_AGE'}, inplace=True)\n",
    "df_pop2['CLASSE_AGE'] = df_pop2['CLASSE_AGE'].map(replace_classe_age)\n",
    "df_grp_pop2 = df_pop2.groupby(['CLASSE_AGE']).sum().transpose()\n",
    "#df_grp_pop2.columns = df_grp_pop2.iloc[0,:]\n",
    "#df_grp_pop2"
   ]
  },
  {
   "cell_type": "code",
   "execution_count": 376,
   "metadata": {
    "collapsed": false
   },
   "outputs": [
    {
     "data": {
      "text/html": [
       "<center><div style=\"background-color:gainsboro; border:solid black; width:600px; padding:20px;\">Sélectionnez la spécialité: <select id=\"var_spe3\"><option value=\"ANATOMIE\">ANATOMIE</option><option value=\"ANESTHESIE\">ANESTHESIE</option><option value=\"BIOLOGIE\">BIOLOGIE</option><option value=\"CARDIOLOGIE\">CARDIOLOGIE</option><option value=\"CHIRURGIE\">CHIRURGIE</option><option value=\"STOMATOLOGIE\">STOMATOLOGIE</option><option value=\"TRAUMATOLOGIE\">TRAUMATOLOGIE</option><option value=\"CHIR_INFANT\">CHIR_INFANT</option><option value=\"CHIR_PLASTIQUE\">CHIR_PLASTIQUE</option><option value=\"CHIR_CARDIO\">CHIR_CARDIO</option><option value=\"CHIR_UROLOGIQUE\">CHIR_UROLOGIQUE</option><option value=\"CHIR_VASCULAIRE\">CHIR_VASCULAIRE</option><option value=\"CHIR_DISGESTIVE\">CHIR_DISGESTIVE</option><option value=\"DERMATOLOGIE\">DERMATOLOGIE</option><option value=\"ENDOCRINOLOGIE\">ENDOCRINOLOGIE</option><option value=\"GENETIQUE\">GENETIQUE</option><option value=\"GERIATRIE\">GERIATRIE</option><option value=\"GYNECOLOGIE\">GYNECOLOGIE</option><option value=\"OBSTETRIQUE\">OBSTETRIQUE</option><option value=\"HEMATOLOGIE\">HEMATOLOGIE</option><option value=\"HEPATOLOGIE\">HEPATOLOGIE</option><option value=\"MEDECINE_TRAVAIL\">MEDECINE_TRAVAIL</option><option value=\"MEDECINE_INTERNE\">MEDECINE_INTERNE</option><option value=\"MEDECINE_NUCLEAIRE\">MEDECINE_NUCLEAIRE</option><option value=\"READAPTATION\">READAPTATION</option><option value=\"NEPHROLOGIE\">NEPHROLOGIE</option><option value=\"NEURO_CHIRURGIE\">NEURO_CHIRURGIE</option><option value=\"NEUROLOGIE\">NEUROLOGIE</option><option value=\"ORL\">ORL</option><option value=\"ONCOLOGIE\">ONCOLOGIE</option><option value=\"OPHTALMOLOGIE\">OPHTALMOLOGIE</option><option value=\"PEDIATRIE\">PEDIATRIE</option><option value=\"PNEUMOLOGIE\">PNEUMOLOGIE</option><option value=\"PSYCHIATRIE\">PSYCHIATRIE</option><option value=\"RADIOLOGIE\">RADIOLOGIE</option><option value=\"RADIO_THERAPIE\">RADIO_THERAPIE</option><option value=\"REANIMATION\">REANIMATION</option><option value=\"RECHERCHE\">RECHERCHE</option><option value=\"RHUMATOLOGIE\">RHUMATOLOGIE</option><option value=\"MEDECINE_SOCIALE\">MEDECINE_SOCIALE</option><option value=\"GENERALISTES\">GENERALISTES</option><option value=\"MEDECINE_GENERALE\">MEDECINE_GENERALE</option></select><br><br>Sélectionnez la classe d&apos;&acirc;ge: <select id=\"var_age2\"><option value=\"0_14\">0_14</option><option value=\"15_29\">15_29</option><option value=\"30_49\">30_49</option><option value=\"50_69\">50_69</option><option value=\"70_et_plus\">70_et_plus</option></select><br><br><button onclick=\"apply_test_corre3()\">Tester corrélation densité spécialistes / classe d&apos;&acirc;ge</button></div></center>"
      ],
      "text/plain": [
       "<IPython.core.display.HTML object>"
      ]
     },
     "metadata": {},
     "output_type": "display_data"
    },
    {
     "data": {
      "text/html": [
       "\n",
       "<script type=\"text/Javascript\">\n",
       "    function apply_test_corre3(){\n",
       "        var var_value = document.getElementById('var_spe3').value;\n",
       "        var var_vage = document.getElementById('var_age2').value;\n",
       "        var kernel = IPython.notebook.kernel;\n",
       "        // Create a python variable named var_spe\n",
       "        kernel.execute(\"var_spe3 = '\"+var_value+\"'\");\n",
       "        kernel.execute(\"var_age2 = '\"+var_vage+\"'\");\n",
       "        // execute cells below\n",
       "        IPython.notebook.execute_cells_below()\n",
       "        /*\n",
       "        var var_value = document.getElementById('var_value').value;\n",
       "        var command = var_name + \" = '\" + var_value + \"'\";\n",
       "        console.log(\"Executing Command: \" + command);\n",
       "        \n",
       "        var kernel = IPython.notebook.kernel;\n",
       "        kernel.execute(command);\n",
       "        IPython.notebook.execute_all_cells()\n",
       "        */\n",
       "    }\n",
       "</script>\n"
      ],
      "text/plain": [
       "<IPython.core.display.HTML object>"
      ]
     },
     "execution_count": 376,
     "metadata": {},
     "output_type": "execute_result"
    }
   ],
   "source": [
    "# 2èmes Classes d'âge en json\n",
    "ages2 = pd.Series(df_grp_pop2.columns)\n",
    "json_ages2 = ages2.to_json(orient='records')\n",
    "\n",
    "spe_list = json.loads(json_spe)\n",
    "ages2_list = json.loads(json_ages2)\n",
    "clear_output(wait=True)\n",
    "content = '<center><div style=\"background-color:gainsboro; border:solid black; width:600px; padding:20px;\">'\n",
    "content += 'Sélectionnez la spécialité: <select id=\"var_spe3\">'\n",
    "for spe in spe_list:\n",
    "    content += '<option value=\"'+str(spe)+'\">'+str(spe)+'</option>'\n",
    "content += '</select><br><br>'\n",
    "content += 'Sélectionnez la classe d&apos;&acirc;ge: <select id=\"var_age2\">'\n",
    "for age in ages2_list:\n",
    "    content += '<option value=\"'+str(age)+'\">'+str(age)+'</option>'\n",
    "content += '</select><br><br>'\n",
    "content += '<button onclick=\"apply_test_corre3()\">Tester corrélation densité spécialistes / classe d&apos;&acirc;ge</button>'\n",
    "content += '</div></center>'\n",
    "display(HTML(content))\n",
    "\n",
    "\n",
    "javascript = \"\"\"\n",
    "<script type=\"text/Javascript\">\n",
    "    function apply_test_corre3(){\n",
    "        var var_value = document.getElementById('var_spe3').value;\n",
    "        var var_vage = document.getElementById('var_age2').value;\n",
    "        var kernel = IPython.notebook.kernel;\n",
    "        // Create a python variable named var_spe\n",
    "        kernel.execute(\"var_spe3 = '\"+var_value+\"'\");\n",
    "        kernel.execute(\"var_age2 = '\"+var_vage+\"'\");\n",
    "        // execute cells below\n",
    "        IPython.notebook.execute_cells_below()\n",
    "        /*\n",
    "        var var_value = document.getElementById('var_value').value;\n",
    "        var command = var_name + \" = '\" + var_value + \"'\";\n",
    "        console.log(\"Executing Command: \" + command);\n",
    "        \n",
    "        var kernel = IPython.notebook.kernel;\n",
    "        kernel.execute(command);\n",
    "        IPython.notebook.execute_all_cells()\n",
    "        */\n",
    "    }\n",
    "</script>\n",
    "\"\"\"\n",
    "\n",
    "HTML(javascript)"
   ]
  },
  {
   "cell_type": "code",
   "execution_count": 377,
   "metadata": {
    "collapsed": false
   },
   "outputs": [
    {
     "data": {
      "image/png": "[encoded data removed]",
      "text/plain": [
       "<matplotlib.figure.Figure at 0x7eff36078150>"
      ]
     },
     "metadata": {},
     "output_type": "display_data"
    }
   ],
   "source": [
    "#var_spe3 et var_age2\n",
    "# faire une jointure dataframe des densites / dataframe population\n",
    "df3 = df_densites.join(df_grp_pop2)\n",
    "df3 = df3[[var_spe3,var_age2]]\n",
    "df3 = df3.dropna()\n",
    "X3 = df3[[var_spe3]]\n",
    "y3 = df3[var_age2]\n",
    "# centrer/réduire X\n",
    "mean3 = X3.mean()\n",
    "std3 = X3.std()\n",
    "Xcr3 = (X3 - mean3)/std3\n",
    "#dat = pd.concat([Xcr, y-y.mean()], axis=1)\n",
    "dat3 = pd.concat([X3, y3], axis=1)\n",
    "title3 = 'DENSITE_SPECIALISTES '+var_spe3\n",
    "title33 = 'EFFECTIF '+var_age2\n",
    "dat3.columns = [title3, title33]\n",
    "#print(dat)\n",
    "#plt.scatter(Xcr, y, c='blue', alpha=0.5)\n",
    "sns.set_palette(\"bright\")\n",
    "fig1, ax = plt.subplots(figsize=(13, 6))\n",
    "ax = sns.regplot(x=title3, y=title33, data=dat3, ci=95)"
   ]
  }
 ],
 "metadata": {
  "kernelspec": {
   "display_name": "Python 2",
   "language": "python",
   "name": "python2"
  },
  "language_info": {
   "codemirror_mode": {
    "name": "ipython",
    "version": 2
   },
   "file_extension": ".py",
   "mimetype": "text/x-python",
   "name": "python",
   "nbconvert_exporter": "python",
   "pygments_lexer": "ipython2",
   "version": "2.7.6"
  }
 },
 "nbformat": 4,
 "nbformat_minor": 0
}
