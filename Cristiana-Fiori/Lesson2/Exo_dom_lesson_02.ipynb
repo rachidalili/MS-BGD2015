{
 "cells": [
  {
   "cell_type": "code",
   "execution_count": 1,
   "metadata": {
    "collapsed": true
   },
   "outputs": [],
   "source": [
    "import requests\n",
    "from bs4 import BeautifulSoup"
   ]
  },
  {
   "cell_type": "code",
   "execution_count": 2,
   "metadata": {
    "collapsed": true
   },
   "outputs": [],
   "source": [
    "def extractIntFromText(text):\n",
    "  intermediate_string=text.replace(u' ', u'')\n",
    "  return int(intermediate_string.replace(u'\\xa0', u''))"
   ]
  },
  {
   "cell_type": "code",
   "execution_count": 3,
   "metadata": {
    "collapsed": true
   },
   "outputs": [],
   "source": [
    "def getSoupFromUrl(url):\n",
    "  request = requests.get(url)\n",
    "  soup = BeautifulSoup(request.text, 'html.parser')\n",
    "  return soup"
   ]
  },
  {
   "cell_type": "code",
   "execution_count": 4,
   "metadata": {
    "collapsed": true
   },
   "outputs": [],
   "source": [
    "# only one str 'search' in table_line\n",
    "def what_line(table_line,ressource): \n",
    "    for line in table_line:    \n",
    "        current_test=line.findAll(\"td\", { \"class\" : \"libellepetit G\" })\n",
    "        if current_test and current_test[0].text == ressource :\n",
    "            good_line=line\n",
    "            return good_line"
   ]
  },
  {
   "cell_type": "code",
   "execution_count": 11,
   "metadata": {
    "collapsed": false
   },
   "outputs": [
    {
     "name": "stdout",
     "output_type": "stream",
     "text": [
      "###############################################################################\n",
      "Comptes de la Mairie de Paris : \n",
      "\n",
      "\n",
      "===========================================================================\n",
      "Année2010 :\n",
      "\n",
      "\n",
      "TOTAL DES PRODUITS DE FONCTIONNEMENT = A\n",
      " Euros par habitant: 2449, Moyenne de la strate: 2449\n",
      "\n",
      "TOTAL DES CHARGES DE FONCTIONNEMENT = B\n",
      " Euros par habitant: 2241, Moyenne de la strate: 2241\n",
      "\n",
      "TOTAL DES RESSOURCES D'INVESTISSEMENT = C\n",
      " Euros par habitant: 1119, Moyenne de la strate: 1119\n",
      "\n",
      "TOTAL DES EMPLOIS D'INVESTISSEMENT = D\n",
      " Euros par habitant: 1265, Moyenne de la strate: 1265\n",
      "\n",
      " \n",
      "\n",
      "===========================================================================\n",
      "Année2011 :\n",
      "\n",
      "\n",
      "TOTAL DES PRODUITS DE FONCTIONNEMENT = A\n",
      " Euros par habitant: 2546, Moyenne de la strate: 2546\n",
      "\n",
      "TOTAL DES CHARGES DE FONCTIONNEMENT = B\n",
      " Euros par habitant: 2327, Moyenne de la strate: 2327\n",
      "\n",
      "TOTAL DES RESSOURCES D'INVESTISSEMENT = C\n",
      " Euros par habitant: 1264, Moyenne de la strate: 1264\n",
      "\n",
      "TOTAL DES EMPLOIS D'INVESTISSEMENT = D\n",
      " Euros par habitant: 1268, Moyenne de la strate: 1268\n",
      "\n",
      " \n",
      "\n",
      "===========================================================================\n",
      "Année2012 :\n",
      "\n",
      "\n",
      "TOTAL DES PRODUITS DE FONCTIONNEMENT = A\n",
      " Euros par habitant: 2311, Moyenne de la strate: 2311\n",
      "\n",
      "TOTAL DES CHARGES DE FONCTIONNEMENT = B\n",
      " Euros par habitant: 2135, Moyenne de la strate: 2135\n",
      "\n",
      "TOTAL DES RESSOURCES D'INVESTISSEMENT = C\n",
      " Euros par habitant: 1085, Moyenne de la strate: 1085\n",
      "\n",
      "TOTAL DES EMPLOIS D'INVESTISSEMENT = D\n",
      " Euros par habitant: 1058, Moyenne de la strate: 1058\n",
      "\n",
      " \n",
      "\n",
      "===========================================================================\n",
      "Année2013 :\n",
      "\n",
      "\n",
      "TOTAL DES PRODUITS DE FONCTIONNEMENT = A\n",
      " Euros par habitant: 2308, Moyenne de la strate: 2308\n",
      "\n",
      "TOTAL DES CHARGES DE FONCTIONNEMENT = B\n",
      " Euros par habitant: 2235, Moyenne de la strate: 2235\n",
      "\n",
      "TOTAL DES RESSOURCES D'INVESTISSEMENT = C\n",
      " Euros par habitant: 1157, Moyenne de la strate: 1157\n",
      "\n",
      "TOTAL DES EMPLOIS D'INVESTISSEMENT = D\n",
      " Euros par habitant: 1048, Moyenne de la strate: 1048\n",
      "\n",
      " \n",
      "\n",
      "===========================================================================\n",
      "Année2014 :\n",
      "\n",
      "\n",
      "TOTAL DES PRODUITS DE FONCTIONNEMENT = A\n",
      " Euros par habitant: 2365, Moyenne de la strate: 2365\n",
      "\n",
      "TOTAL DES CHARGES DE FONCTIONNEMENT = B\n",
      " Euros par habitant: 2294, Moyenne de la strate: 2294\n",
      "\n",
      "TOTAL DES RESSOURCES D'INVESTISSEMENT = C\n",
      " Euros par habitant: 1066, Moyenne de la strate: 1066\n",
      "\n",
      "TOTAL DES EMPLOIS D'INVESTISSEMENT = D\n",
      " Euros par habitant: 1048, Moyenne de la strate: 1048\n",
      "\n",
      " \n",
      "\n"
     ]
    }
   ],
   "source": [
    "metrics={};\n",
    "years=range(2010,2015)\n",
    "candidates = ['TOTAL DES PRODUITS DE FONCTIONNEMENT = A','TOTAL DES CHARGES DE FONCTIONNEMENT = B','TOTAL DES RESSOURCES D\\'INVESTISSEMENT = C','TOTAL DES EMPLOIS D\\'INVESTISSEMENT = D']\n",
    "\n",
    "print '###############################################################################'\n",
    "print('Comptes de la Mairie de Paris : \\n\\n')\n",
    "\n",
    "\n",
    "for year in years:\n",
    "    soup=getSoupFromUrl('http://alize2.finances.gouv.fr/communes/eneuro/detail.php?icom=056&dep=075&type=BPS&param=5&exercice='+str(year))\n",
    "            \n",
    "    print '==========================================================================='    \n",
    "    print('Année'+str(year)+' :\\n')\n",
    "    \n",
    "    for candidate in candidates:\n",
    "    \n",
    "        table_line = soup.findAll(\"tr\", { \"class\" : \"bleu\" })\n",
    "        right_line=what_line(table_line,candidate)\n",
    "\n",
    "        value_euros=extractIntFromText(right_line.findAll(\"td\", { \"class\" : \"montantpetit G\" })[1].text)\n",
    "        value_meanstrate=extractIntFromText(right_line.findAll(\"td\", { \"class\" : \"montantpetit G\" })[2].text)\n",
    "\n",
    "        metrics[candidate]=['Euros par habitant: '+str(value_euros),'Moyenne de la strate: '+str(value_meanstrate)]\n",
    "        print ''\n",
    "        print(candidate+'\\n '+metrics[candidate][0]+', '+metrics[candidate][1])\n",
    "        \n",
    "    print('\\n \\n')"
   ]
  },
  {
   "cell_type": "code",
   "execution_count": null,
   "metadata": {
    "collapsed": true
   },
   "outputs": [],
   "source": []
  },
  {
   "cell_type": "code",
   "execution_count": null,
   "metadata": {
    "collapsed": true
   },
   "outputs": [],
   "source": []
  }
 ],
 "metadata": {
  "kernelspec": {
   "display_name": "Python 2",
   "language": "python",
   "name": "python2"
  },
  "language_info": {
   "codemirror_mode": {
    "name": "ipython",
    "version": 2
   },
   "file_extension": ".py",
   "mimetype": "text/x-python",
   "name": "python",
   "nbconvert_exporter": "python",
   "pygments_lexer": "ipython2",
   "version": "2.7.10"
  }
 },
 "nbformat": 4,
 "nbformat_minor": 0
}
