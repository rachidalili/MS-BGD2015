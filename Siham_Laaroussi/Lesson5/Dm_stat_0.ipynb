{
 "cells": [
  {
   "cell_type": "code",
   "execution_count": 13,
   "metadata": {
    "collapsed": false
   },
   "outputs": [],
   "source": [
    "%matplotlib inline"
   ]
  },
  {
   "cell_type": "code",
   "execution_count": 176,
   "metadata": {
    "collapsed": false
   },
   "outputs": [
    {
     "name": "stdout",
     "output_type": "stream",
     "text": [
      "Recuperation des jeux de donnees Airquality\n"
     ]
    }
   ],
   "source": [
    "import numpy as np\n",
    "import matplotlib.pyplot as plt  # for plots\n",
    "from sklearn import linear_model\n",
    "from matplotlib import rc\n",
    "import seaborn as sns\n",
    "import pandas as pd\n",
    "from sklearn import preprocessing\n",
    "from mpl_toolkits.mplot3d import Axes3D\n",
    "import statsmodels.api as sm\n",
    "from scipy.stats import t\n",
    "from sklearn.utils import resample\n",
    "from math import *\n",
    "\n",
    "print \"Recuperation des jeux de donnees Airquality\""
   ]
  },
  {
   "cell_type": "code",
   "execution_count": 319,
   "metadata": {
    "collapsed": false
   },
   "outputs": [
    {
     "name": "stdout",
     "output_type": "stream",
     "text": [
      "   Ozone  Solar.R  Wind  Temp  Month  Day\n",
      "0     41      190   7.4    67      5    1\n",
      "1     36      118   8.0    72      5    2\n",
      "2     12      149  12.6    74      5    3\n",
      "3     18      313  11.5    62      5    4\n",
      "4    NaN      NaN  14.3    56      5    5\n",
      "   Ozone  Solar.R  Wind  Temp  Month  Day\n",
      "0     41      190   7.4    67      5    1\n",
      "1     36      118   8.0    72      5    2\n",
      "2     12      149  12.6    74      5    3\n",
      "3     18      313  11.5    62      5    4\n",
      "6     23      299   8.6    65      5    7\n",
      "   Solar.R  Wind  Temp  Month  Day\n",
      "0      190   7.4    67      5    1\n",
      "1      118   8.0    72      5    2\n",
      "2      149  12.6    74      5    3\n",
      "3      313  11.5    62      5    4\n",
      "6      299   8.6    65      5    7\n",
      "1.0\n"
     ]
    },
    {
     "data": {
      "text/plain": [
       "LinearRegression(copy_X=True, fit_intercept=True, n_jobs=1, normalize=False)"
      ]
     },
     "execution_count": 319,
     "metadata": {},
     "output_type": "execute_result"
    }
   ],
   "source": [
    "data_air_quality = sm.datasets.get_rdataset('airquality').data\n",
    "print data_air_quality.head()\n",
    "df_air_quality = data_air_quality.dropna()\n",
    "print df_air_quality.head()\n",
    "Y = df_air_quality['Ozone']\n",
    "#F = {'Solar.R': df_air_quality['Solar.R'], 'Wind': df_air_quality['Wind'], 'Temp': df_air_quality['Temp'],'Month': df_air_quality['Month'], 'Day': df_air_quality['Day']}\n",
    "#X = pd.DataFrame(F)\n",
    "X = df_air_quality.drop(['Ozone'], 1)\n",
    "print X.head()\n",
    "X_scaled = preprocessing.scale(X)\n",
    "print X_scaled.var()\n",
    "model = linear_model.LinearRegression(fit_intercept= True )\n",
    "model.fit(X_scaled, Y)"
   ]
  },
  {
   "cell_type": "code",
   "execution_count": 320,
   "metadata": {
    "collapsed": false
   },
   "outputs": [
    {
     "name": "stdout",
     "output_type": "stream",
     "text": [
      "Le coefficient de mon modele est: [  4.56193076 -11.75277084  17.98521995  -4.45895297   2.37393859]\n",
      "La valeur a l'origine de mon modele est: 42.0990990991\n",
      "L'estimateur sans biais de la variance est egale a 2223.9634593\n"
     ]
    }
   ],
   "source": [
    "theta_hat = model.coef_\n",
    "print \"Le coefficient de mon modele est: \"+ str(theta_hat)\n",
    "print \"La valeur a l'origine de mon modele est: \"+ str(model.intercept_)\n",
    "estimateur_sans_biais = 1./(len(Y)-np.ndim(X_scaled))*(((Y-np.dot(X_scaled, theta_hat))*)\n",
    "print \"L'estimateur sans biais de la variance est egale a \"+ str(estimateur_sans_biais)"
   ]
  },
  {
   "cell_type": "code",
   "execution_count": 344,
   "metadata": {
    "collapsed": false
   },
   "outputs": [
    {
     "name": "stdout",
     "output_type": "stream",
     "text": [
      "(-0.012563068696957329, 0.012563068696957329)\n",
      "-0.012563068697\n",
      "0.012563068697\n",
      "borne inférieure de l'intervalle de confiance de theta 4.56193075918  est: 4.50157193983\n",
      "borne supérieure de l'intervalle de confiance de theta 4.56193075918 est: 4.62228957853\n",
      "sa largeur est 0.120717638695\n",
      "---------------------------------\n",
      "borne inférieure de l'intervalle de confiance de theta -11.7527708448  est: -11.8176062743\n",
      "borne supérieure de l'intervalle de confiance de theta -11.7527708448 est: -11.6879354152\n",
      "sa largeur est 0.129670859052\n",
      "---------------------------------\n",
      "borne inférieure de l'intervalle de confiance de theta 17.9852199495  est: 17.9114168121\n",
      "borne supérieure de l'intervalle de confiance de theta 17.9852199495 est: 18.0590230869\n",
      "sa largeur est 0.147606274747\n",
      "---------------------------------\n",
      "borne inférieure de l'intervalle de confiance de theta -4.45895296698  est: -4.522006987\n",
      "borne supérieure de l'intervalle de confiance de theta -4.45895296698 est: -4.39589894696\n",
      "sa largeur est 0.126108040038\n",
      "---------------------------------\n",
      "borne inférieure de l'intervalle de confiance de theta 2.37393858761  est: 2.317393339\n",
      "borne supérieure de l'intervalle de confiance de theta 2.37393858761 est: 2.43048383622\n",
      "sa largeur est 0.113090497217\n",
      "---------------------------------\n"
     ]
    }
   ],
   "source": [
    "alpha = 1-0.99\n",
    "n = len(Y)\n",
    "p = X_scaled.shape[1]\n",
    "interval = t.interval(alpha, n-p)\n",
    "print interval\n",
    "print interval[0]\n",
    "print interval[1]\n",
    "\n",
    "# Les intervalles de confiance des différents theta_j\n",
    "mat_product = np.dot(X_scaled.transpose(),X_scaled)\n",
    "inversed_mat = np.linalg.inv(mat_product)\n",
    "j = 0\n",
    "\n",
    "for theta_hat_j in theta_hat:\n",
    "    borne_inf = theta_hat_j - interval[1]*((estimateur_sans_biais)**0.5)*(inversed_mat[j][j])**0.5\n",
    "    print \"borne inférieure de l'intervalle de confiance de theta \" +str(theta_hat_j)+ \"  est: \" +str(borne_inf)\n",
    "    borne_sup = theta_hat_j - interval[0]*(estimateur_sans_biais)**0.5*(inversed_mat[j][j])**0.5\n",
    "    print \"borne supérieure de l'intervalle de confiance de theta \" + str(theta_hat_j)+ \" est: \"  + str(borne_sup)\n",
    "    print \"sa largeur est \"+str(borne_sup-borne_inf)\n",
    "    print \"---------------------------------\"\n",
    "    j += 1\n",
    "\n"
   ]
  },
  {
   "cell_type": "code",
   "execution_count": 347,
   "metadata": {
    "collapsed": false
   },
   "outputs": [
    {
     "name": "stdout",
     "output_type": "stream",
     "text": [
      "-------Prediction de la nouvelle variable----------\n",
      "[ 0.05027432 -3.31844386  1.89578642 -3.03995664  0.27387752]\n",
      "[ 36.46233787]\n"
     ]
    }
   ],
   "source": [
    "#Prediction de la nouvelle variable\n",
    "print \"-------Prediction de la nouvelle variable----------\"\n",
    "non_sacled_model = linear_model.LinearRegression(fit_intercept= True )\n",
    "non_sacled_model.fit(X, Y)\n",
    "X_values = [197,10,70,3,1]\n",
    "theta_hat_2 = non_sacled_model.coef_\n",
    "print theta_hat_2\n",
    "Y_to_predict = non_sacled_model.predict(X_values)\n",
    "print Y_to_predict"
   ]
  },
  {
   "cell_type": "code",
   "execution_count": 182,
   "metadata": {
    "collapsed": false
   },
   "outputs": [
    {
     "name": "stdout",
     "output_type": "stream",
     "text": [
      "   Ozone  Solar.R  Wind  Temp  Month  Day\n",
      "0     41      190   7.4    67      5    1\n",
      "1     36      118   8.0    72      5    2\n",
      "2     12      149  12.6    74      5    3\n",
      "3     18      313  11.5    62      5    4\n",
      "6     23      299   8.6    65      5    7\n",
      "10001\n"
     ]
    }
   ],
   "source": [
    "#Exercice 2:\n",
    "dataset = sm.datasets.get_rdataset(\"airquality\").data   \n",
    "dataset = dataset.dropna()\n",
    "print dataset.head()\n",
    "linear = linear_model.LinearRegression(fit_intercept=True)\n",
    "theta = np.empty([1, 6])\n",
    "#print theta\n",
    "#theta_2 = np.zeros(shape=(1,5))\n",
    "for i in range(10000):\n",
    "    dataset_sample = resample(dataset) #Il faut shuffler le Dataset et non les X et les Y séparémment \n",
    "    X = dataset_sample.drop('Ozone', 1)\n",
    "    X_sample = sm.add_constant(X)\n",
    "    Y_sample = dataset_sample['Ozone']\n",
    "    Samplemodel = linear_model.LinearRegression(fit_intercept=False)\n",
    "    Samplemodel.fit(X_sample, Y_sample)\n",
    "    theta_sample_i = Samplemodel.coef_\n",
    "    theta_sample_i = np.expand_dims(theta_sample_i, axis=0)\n",
    "    theta = np.append(theta, theta_sample_i, axis=0 )\n",
    "#F = {'Solar.R': X_sample['Solar.R'], 'Wind': X_sample['Wind'], 'Temp': X_sample['Temp'],'Month': X_sample['Month'], 'Day': X_sample['Day']}\n",
    "# dataset = pd.DataFrame(F,Y_sample)\n",
    "print len(theta) #Il faut enlever la premiere ligne de chaque colonne dans le calcul de la moyenne et la mediane car np.empty ne donne pas une matrice vide\n",
    "\n"
   ]
  },
  {
   "cell_type": "code",
   "execution_count": 183,
   "metadata": {
    "collapsed": false
   },
   "outputs": [
    {
     "name": "stdout",
     "output_type": "stream",
     "text": [
      "Theta_moyenne\n",
      "[ -6.45400339e+01   5.08625298e-02  -3.33579993e+00   1.89897379e+00\n",
      "  -3.02557231e+00   2.73098930e-01]\n",
      "Theta_mediane\n",
      "[ -6.53084553e+01   5.05275228e-02  -3.28557363e+00   1.90278413e+00\n",
      "  -3.01913593e+00   2.71590663e-01]\n"
     ]
    }
   ],
   "source": [
    "print (\"Theta_moyenne\")\n",
    "theta_moyenne = np.mean(theta,axis=0)\n",
    "print theta_moyenne\n",
    "\n",
    "print (\"Theta_mediane\")\n",
    "Theta_mediane = np.median(theta,axis=0)\n",
    "print Theta_mediane"
   ]
  },
  {
   "cell_type": "code",
   "execution_count": 184,
   "metadata": {
    "collapsed": false
   },
   "outputs": [
    {
     "name": "stdout",
     "output_type": "stream",
     "text": [
      "[ -1.15174985e+02   1.33896874e-03  -5.78143190e+00   1.28055660e+00\n",
      "  -6.45688596e+00  -3.42576048e-01]\n",
      "[-7.00441244  0.10673808 -1.42766178  2.44761055  0.37268319  0.91653147]\n"
     ]
    }
   ],
   "source": [
    "#Question2:\n",
    "theta_sorted = np.sort(theta, axis=0) # on trie tous les theta_i pour chaque itération de notre bootstrap\n",
    "index_inf = int(0.005*10000)\n",
    "index_sup = int(0.995*10000)\n",
    "borne_inf = theta_sorted[index_inf]\n",
    "print borne_inf\n",
    "borne_sup = theta_sorted[index_sup]\n",
    "print borne_sup"
   ]
  },
  {
   "cell_type": "code",
   "execution_count": 271,
   "metadata": {
    "collapsed": false
   },
   "outputs": [
    {
     "name": "stdout",
     "output_type": "stream",
     "text": [
      "[1, 501, 1001, 1501, 2001, 2501, 3001, 3501, 4001, 4501, 5001]\n",
      "[0, 2, 5, 7, 10, 12, 15, 17, 20, 22, 25]\n",
      "[-7.0654237676534732, -6.5929429055963951, -6.393002388025077, -6.3404797909282831, -6.2285504963668457, -6.2048183707328244, -6.1868894746392353, -6.1492325686462497, -6.1102691226224541, -6.0402359800861252, -6.0143298181073339]\n",
      "[0, 498, 995, 1493, 1990, 2488, 2985, 3483, 3980, 4478, 4975]\n",
      "[-7.0654237676534732, -4.8402812533532211, -4.4648645253815165, -4.2159264503973981, -4.040808284286479, -3.8949699838640441, -3.7578519603728977, -3.6302155679506036, -3.5099944466019171, -3.4013442869512582, -3.2924119273011825]\n"
     ]
    },
    {
     "data": {
      "image/png": "[encoded data removed]",
      "text/plain": [
       "<matplotlib.figure.Figure at 0x21712278>"
      ]
     },
     "metadata": {},
     "output_type": "display_data"
    }
   ],
   "source": [
    "#Question3:\n",
    "x = range(1,5002,500) #la plage de variation du B\n",
    "print x\n",
    "index_inf_ = [int(0.005*x[i]) for i in range(0,len(x))]\n",
    "print index_inf_\n",
    "y = []\n",
    "for idx in index_inf_:\n",
    "    y_int = theta_sorted[idx,2]\n",
    "    y.append(y_int)\n",
    "print y\n",
    "index_sup_ = [int(0.995*x[i])for i in range(0,len(x))]\n",
    "print index_sup_\n",
    "S = []\n",
    "for idx in index_sup_:\n",
    "    S_int = theta_sorted[idx,2]\n",
    "    S.append(S_int)\n",
    "print S\n",
    "fig = plt.figure(figsize=(30, 10), dpi=100)\n",
    "plt.plot(x,y,'--')\n",
    "plt.plot(x,S,'--')\n",
    "plt.show()\n",
    "#ajouter le trait de la médiane "
   ]
  },
  {
   "cell_type": "code",
   "execution_count": 272,
   "metadata": {
    "collapsed": false
   },
   "outputs": [
    {
     "name": "stdout",
     "output_type": "stream",
     "text": [
      "0    11.504167\n",
      "1    11.504167\n",
      "2    11.504167\n",
      "3    11.504167\n",
      "6    11.504167\n",
      "Name: Wind_, dtype: float64\n",
      "147    10.075862\n",
      "148    10.075862\n",
      "150    10.075862\n",
      "151    10.075862\n",
      "152    10.075862\n",
      "Name: Wind_, dtype: float64\n"
     ]
    },
    {
     "data": {
      "image/png": "[encoded data removed]",
      "text/plain": [
       "<matplotlib.figure.Figure at 0x2183ad30>"
      ]
     },
     "metadata": {},
     "output_type": "display_data"
    }
   ],
   "source": [
    "#Question4:\n",
    "dataset['Wind_'] = dataset.groupby('Month')['Wind'].transform(np.mean)\n",
    "dataset['Ozone_'] = dataset.groupby('Month')['Ozone'].transform(np.mean)\n",
    "\n",
    "print dataset['Wind_'].head() \n",
    "print dataset['Wind_'].tail()\n",
    "\n",
    "y = dataset['Ozone_']\n",
    "X = dataset[['Wind_']]\n",
    "linear.fit(X,y)\n",
    "fig = plt.figure(figsize=(30, 10), dpi=100)\n",
    "plt.plot(X,linear.predict(X))\n",
    "plt.plot(X,y,'bs')\n",
    "plt.show()\n"
   ]
  },
  {
   "cell_type": "code",
   "execution_count": 348,
   "metadata": {
    "collapsed": false
   },
   "outputs": [
    {
     "name": "stdout",
     "output_type": "stream",
     "text": [
      "[[  5.09952663e-316   5.09952663e-316   5.09952663e-316   5.09943177e-316\n",
      "    5.09943177e-316   5.09943177e-316]\n",
      " [  1.90000000e+001   1.90000000e+001   1.90000000e+001   1.90000000e+001\n",
      "    1.90000000e+001   1.90000000e+001]\n",
      " [ -6.63264626e+001   5.32519231e-002  -2.54335340e+000   1.72453692e+000\n",
      "   -2.33995477e+000   3.20631036e-001]\n",
      " ..., \n",
      " [ -8.93452971e+001   8.00121268e-002  -2.17924558e+000   1.94196081e+000\n",
      "   -1.85089549e+000   4.38623176e-002]\n",
      " [ -5.22803721e+001   4.42643947e-002  -3.93403489e+000   1.76655399e+000\n",
      "   -2.72290678e+000   4.20049585e-001]\n",
      " [ -5.53266600e+001   6.50368962e-002  -3.72707607e+000   1.66639047e+000\n",
      "   -1.57091930e+000   2.89767257e-001]]\n",
      "[1, 3, 5]\n"
     ]
    }
   ],
   "source": [
    "#Exercice 3:\n",
    "data_ = sm.datasets.get_rdataset(\"airquality\").data  \n",
    "data_ = dataset.dropna()\n",
    "X = data_.drop('Ozone', 1)  \n",
    "Y = data_['Ozone']  \n",
    "X_scaled = preprocessing.scale(X) \n",
    "\n",
    "def stpforward(X_scaled,Y,M):\n",
    "    R = Y\n",
    "    S = []\n",
    "    alpha =[]\n",
    "    for i in range(1,M):\n",
    "        for j in range(0,X.shape[1]): \n",
    "            if  j not in S:\n",
    "                alpha_j = np.dot(X_scaled[:,j],R)\n",
    "                alpha.append(alpha_j)\n",
    "            else:\n",
    "                j += 1\n",
    "        print alpha\n",
    "        index_sup = alpha.index(max(alpha))\n",
    "        S.append(index_sup)\n",
    "        for j in S:\n",
    "            X_s = X_s.append(X_scaled[:,j])\n",
    "        model = linear_model.LinearRegression(fit_intercept= True )\n",
    "        model.fit(X_s, Y)\n",
    "        theta_int = model.coef_\n",
    "        R = Y - np.dot(X_s,theta_int)\n",
    "    theta_s = theta_int \n",
    "    print theta_s.shape()\n",
    "    theta = np.zeros(len(X))\n",
    "    k = 0\n",
    "    for i in S:\n",
    "        theta[i] = theta_s[k]\n",
    "        k += 1\n",
    "print theta\n",
    "print S\n",
    "    "
   ]
  },
  {
   "cell_type": "code",
   "execution_count": 317,
   "metadata": {
    "collapsed": false
   },
   "outputs": [],
   "source": [
    "#stpforward(X_scaled,Y,3)"
   ]
  },
  {
   "cell_type": "code",
   "execution_count": null,
   "metadata": {
    "collapsed": false
   },
   "outputs": [],
   "source": []
  },
  {
   "cell_type": "code",
   "execution_count": null,
   "metadata": {
    "collapsed": true
   },
   "outputs": [],
   "source": []
  }
 ],
 "metadata": {
  "kernelspec": {
   "display_name": "Python 2",
   "language": "python",
   "name": "python2"
  },
  "language_info": {
   "codemirror_mode": {
    "name": "ipython",
    "version": 2
   },
   "file_extension": ".py",
   "mimetype": "text/x-python",
   "name": "python",
   "nbconvert_exporter": "python",
   "pygments_lexer": "ipython2",
   "version": "2.7.10"
  }
 },
 "nbformat": 4,
 "nbformat_minor": 0
}
