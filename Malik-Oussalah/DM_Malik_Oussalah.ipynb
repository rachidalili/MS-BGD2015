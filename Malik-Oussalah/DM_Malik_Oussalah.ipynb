{
 "cells": [
  {
   "cell_type": "markdown",
   "metadata": {},
   "source": [
    "# Exercice 1#\n"
   ]
  },
  {
   "cell_type": "markdown",
   "metadata": {},
   "source": [
    "# 1) \n",
    "Dans cette première partie notre objectif est de déterminer sur un ensemble de données\n",
    "un estimateur linéaire de la concentration en ozone à partir des variables suivantes :\n",
    "* le rayonnement solaire\n",
    "* la force du vent \n",
    "* la température\n",
    "* le jour de la mesure\n",
    "* le mois de la mesure\n",
    "\n",
    "soit le modèle linéaire avec condition gaussienne :\n",
    "\n",
    "$$Y = X\\theta + \\epsilon~~ où~~ X~~ est~~ une~~ matrice~~ (n,p)~~ de~~ rang~~ p,\\\\\n",
    "Y\\in\\mathbb{R}^n\\;\\;et\\;\\;\n",
    "\\theta~~ est~~ un~~ vecteur~~ inconnu~~ de~~ \\mathbb{R}^p\\\\\n",
    "~~ \\epsilon~~ est~~ un~~ vecteur~~ de~~ n~~ réalisations~~ indépendantes~~ d’une~~ v.a.\\\\\n",
    "gaussienne~~ de~~ moyenne~~ 0~~ et~~ de~~ variance~~ \\sigma^2*\\mathsf{I}d\\\\\n",
    "tel~~ que~~ \\epsilon\\sim\\mathcal{N}(0_n,\\sigma^2*\\mathsf{I}d)\\\\\n",
    "on~~ peut~~ aussi~~ noter~~ y_i~~ =~~ {\\theta}_0^{*} + \\sum_{j=1}^{p} {\\theta}_j^{*}x_{ij} + {\\epsilon}_i\\\\\n",
    "avec~~ {\\epsilon}_i = {\\cal{N}}(0,{\\sigma}^2)~~ \\forall i = 1,...,n$$\n",
    "\n"
   ]
  },
  {
   "cell_type": "markdown",
   "metadata": {
    "collapsed": true
   },
   "source": [
    "# 2)\n"
   ]
  },
  {
   "cell_type": "code",
   "execution_count": 1,
   "metadata": {
    "collapsed": false
   },
   "outputs": [
    {
     "data": {
      "text/html": [
       "<div>\n",
       "<table border=\"1\" class=\"dataframe\">\n",
       "  <thead>\n",
       "    <tr style=\"text-align: right;\">\n",
       "      <th></th>\n",
       "      <th>Ozone</th>\n",
       "      <th>Solar.R</th>\n",
       "      <th>Wind</th>\n",
       "      <th>Temp</th>\n",
       "      <th>Month</th>\n",
       "      <th>Day</th>\n",
       "    </tr>\n",
       "  </thead>\n",
       "  <tbody>\n",
       "    <tr>\n",
       "      <th>0</th>\n",
       "      <td>41</td>\n",
       "      <td>190</td>\n",
       "      <td>7.4</td>\n",
       "      <td>67</td>\n",
       "      <td>5</td>\n",
       "      <td>1</td>\n",
       "    </tr>\n",
       "    <tr>\n",
       "      <th>1</th>\n",
       "      <td>36</td>\n",
       "      <td>118</td>\n",
       "      <td>8.0</td>\n",
       "      <td>72</td>\n",
       "      <td>5</td>\n",
       "      <td>2</td>\n",
       "    </tr>\n",
       "    <tr>\n",
       "      <th>2</th>\n",
       "      <td>12</td>\n",
       "      <td>149</td>\n",
       "      <td>12.6</td>\n",
       "      <td>74</td>\n",
       "      <td>5</td>\n",
       "      <td>3</td>\n",
       "    </tr>\n",
       "    <tr>\n",
       "      <th>3</th>\n",
       "      <td>18</td>\n",
       "      <td>313</td>\n",
       "      <td>11.5</td>\n",
       "      <td>62</td>\n",
       "      <td>5</td>\n",
       "      <td>4</td>\n",
       "    </tr>\n",
       "    <tr>\n",
       "      <th>4</th>\n",
       "      <td>NaN</td>\n",
       "      <td>NaN</td>\n",
       "      <td>14.3</td>\n",
       "      <td>56</td>\n",
       "      <td>5</td>\n",
       "      <td>5</td>\n",
       "    </tr>\n",
       "  </tbody>\n",
       "</table>\n",
       "</div>"
      ],
      "text/plain": [
       "   Ozone  Solar.R  Wind  Temp  Month  Day\n",
       "0     41      190   7.4    67      5    1\n",
       "1     36      118   8.0    72      5    2\n",
       "2     12      149  12.6    74      5    3\n",
       "3     18      313  11.5    62      5    4\n",
       "4    NaN      NaN  14.3    56      5    5"
      ]
     },
     "execution_count": 1,
     "metadata": {},
     "output_type": "execute_result"
    }
   ],
   "source": [
    "# -*- coding: utf-8 -*-\n",
    "#\n",
    "#Importation des librairies nécessaires\n",
    "#\n",
    "import numpy as np\n",
    "import pandas as pd\n",
    "import seaborn as sb\n",
    "import matplotlib.pyplot as plt\n",
    "import statsmodels.datasets as sm\n",
    "from IPython.display import display, Math, Latex\n",
    "import pylab\n",
    "import numpy.random as npr\n",
    "\n",
    "dataset = sm.get_rdataset('airquality').data\n",
    "dataset.head()\n"
   ]
  },
  {
   "cell_type": "markdown",
   "metadata": {},
   "source": [
    "# 3)"
   ]
  },
  {
   "cell_type": "code",
   "execution_count": 2,
   "metadata": {
    "collapsed": false
   },
   "outputs": [
    {
     "data": {
      "text/html": [
       "<div>\n",
       "<table border=\"1\" class=\"dataframe\">\n",
       "  <thead>\n",
       "    <tr style=\"text-align: right;\">\n",
       "      <th></th>\n",
       "      <th>Ozone</th>\n",
       "      <th>Solar.R</th>\n",
       "      <th>Wind</th>\n",
       "      <th>Temp</th>\n",
       "      <th>Month</th>\n",
       "      <th>Day</th>\n",
       "    </tr>\n",
       "  </thead>\n",
       "  <tbody>\n",
       "    <tr>\n",
       "      <th>0</th>\n",
       "      <td>41</td>\n",
       "      <td>190</td>\n",
       "      <td>7.4</td>\n",
       "      <td>67</td>\n",
       "      <td>5</td>\n",
       "      <td>1</td>\n",
       "    </tr>\n",
       "    <tr>\n",
       "      <th>1</th>\n",
       "      <td>36</td>\n",
       "      <td>118</td>\n",
       "      <td>8.0</td>\n",
       "      <td>72</td>\n",
       "      <td>5</td>\n",
       "      <td>2</td>\n",
       "    </tr>\n",
       "    <tr>\n",
       "      <th>2</th>\n",
       "      <td>12</td>\n",
       "      <td>149</td>\n",
       "      <td>12.6</td>\n",
       "      <td>74</td>\n",
       "      <td>5</td>\n",
       "      <td>3</td>\n",
       "    </tr>\n",
       "    <tr>\n",
       "      <th>3</th>\n",
       "      <td>18</td>\n",
       "      <td>313</td>\n",
       "      <td>11.5</td>\n",
       "      <td>62</td>\n",
       "      <td>5</td>\n",
       "      <td>4</td>\n",
       "    </tr>\n",
       "    <tr>\n",
       "      <th>6</th>\n",
       "      <td>23</td>\n",
       "      <td>299</td>\n",
       "      <td>8.6</td>\n",
       "      <td>65</td>\n",
       "      <td>5</td>\n",
       "      <td>7</td>\n",
       "    </tr>\n",
       "  </tbody>\n",
       "</table>\n",
       "</div>"
      ],
      "text/plain": [
       "   Ozone  Solar.R  Wind  Temp  Month  Day\n",
       "0     41      190   7.4    67      5    1\n",
       "1     36      118   8.0    72      5    2\n",
       "2     12      149  12.6    74      5    3\n",
       "3     18      313  11.5    62      5    4\n",
       "6     23      299   8.6    65      5    7"
      ]
     },
     "execution_count": 2,
     "metadata": {},
     "output_type": "execute_result"
    }
   ],
   "source": [
    "dataset = dataset.dropna()\n",
    "dataset.head()"
   ]
  },
  {
   "cell_type": "markdown",
   "metadata": {},
   "source": [
    "# 4)"
   ]
  },
  {
   "cell_type": "code",
   "execution_count": 32,
   "metadata": {
    "collapsed": false
   },
   "outputs": [
    {
     "data": {
      "text/plain": [
       "LinearRegression(copy_X=True, fit_intercept=True, n_jobs=1, normalize=False)"
      ]
     },
     "execution_count": 32,
     "metadata": {},
     "output_type": "execute_result"
    }
   ],
   "source": [
    "from sklearn import linear_model\n",
    "y_train = dataset['Ozone']\n",
    "x_train = dataset[['Solar.R','Wind','Temp','Month','Day']]\n",
    "x_scaled = (x_train - np.mean(x_train))/np.std(x_train)\n",
    "skl_linmod_ozone_scaled = linear_model.LinearRegression()\n",
    "skl_linmod_ozone_scaled.fit(x_scaled,y_train)\n"
   ]
  },
  {
   "cell_type": "markdown",
   "metadata": {},
   "source": [
    "# 5)"
   ]
  },
  {
   "cell_type": "code",
   "execution_count": 33,
   "metadata": {
    "collapsed": false,
    "scrolled": true
   },
   "outputs": [
    {
     "data": {
      "text/latex": [
       "$$\\widehat\\theta = \\begin{bmatrix}42.0990990991\\\\4.56193075918\\\\-11.7527708448\\\\17.9852199495\\\\-4.45895296698\\\\2.37393858761\\end{bmatrix}$$"
      ],
      "text/plain": [
       "<IPython.core.display.Math object>"
      ]
     },
     "metadata": {},
     "output_type": "display_data"
    }
   ],
   "source": [
    "theta_hat = np.insert(skl_linmod_ozone_scaled.coef_,0,skl_linmod_ozone_scaled.intercept_,axis=None)\n",
    "display(Math(r'$\\widehat\\theta = \\begin{bmatrix}'+r'{0}'.format(theta_hat[0])+r'\\\\{0}'.format(theta_hat[1])+r'\\\\{0}'.format(theta_hat[2])+r'\\\\{0}'.format(theta_hat[3])+r'\\\\{0}'.format(theta_hat[4])+r'\\\\{0}'.format(theta_hat[5])+r'\\end{bmatrix}$'))\n"
   ]
  },
  {
   "cell_type": "markdown",
   "metadata": {},
   "source": [
    "l'estimateur sans biais de la variance $$\\hat{\\sigma^2} = \\frac{\\Vert~ y-\\hat{y}\\Vert^2}{n-rang(X)}\\\n",
    "où~~ y~~ -~~ \\hat{y}~~ est~~ le~~ vecteur~~ résidus~~ avec~~ \\hat{y} = X\\hat{\\theta}$$ "
   ]
  },
  {
   "cell_type": "code",
   "execution_count": 34,
   "metadata": {
    "collapsed": false
   },
   "outputs": [
    {
     "data": {
      "text/latex": [
       "$$\\hat{\\sigma^2}= 430.97100919$$"
      ],
      "text/plain": [
       "<IPython.core.display.Math object>"
      ]
     },
     "metadata": {},
     "output_type": "display_data"
    }
   ],
   "source": [
    "y_hat = skl_linmod_ozone_scaled.predict(x_scaled) \n",
    "residus = y_train - y_hat  \n",
    "norm_2 = residus.T.dot(residus) #calcul de la norme carré des résidus\n",
    "n = len(y_train)\n",
    "p = np.linalg.matrix_rank(x_scaled)\n",
    "var_hat = norm_2/(n - p)\n",
    "#l'estimateur sans biais de la variance #\n",
    "display(Math(r'$\\hat{\\sigma^2}= '+ str(var_hat)))"
   ]
  },
  {
   "cell_type": "markdown",
   "metadata": {},
   "source": [
    "# 6)"
   ]
  },
  {
   "cell_type": "code",
   "execution_count": null,
   "metadata": {
    "collapsed": true
   },
   "outputs": [],
   "source": []
  },
  {
   "cell_type": "code",
   "execution_count": 35,
   "metadata": {
    "collapsed": false,
    "scrolled": true
   },
   "outputs": [
    {
     "data": {
      "text/latex": [
       "$$IC^*_0 =[ -125.430539337;-2.80210286958]$$"
      ],
      "text/plain": [
       "<IPython.core.display.Math object>"
      ]
     },
     "metadata": {},
     "output_type": "display_data"
    },
    {
     "data": {
      "text/latex": [
       "$$IC^*_1 =[ -0.0108730914564;0.111421729023]$$"
      ],
      "text/plain": [
       "<IPython.core.display.Math object>"
      ]
     },
     "metadata": {},
     "output_type": "display_data"
    },
    {
     "data": {
      "text/latex": [
       "$$IC^*_2 =[ -5.00129780889;-1.63558991447]$$"
      ],
      "text/plain": [
       "<IPython.core.display.Math object>"
      ]
     },
     "metadata": {},
     "output_type": "display_data"
    },
    {
     "data": {
      "text/latex": [
       "$$IC^*_3 =[ 1.18065097073;2.61092186324]$$"
      ],
      "text/plain": [
       "<IPython.core.display.Math object>"
      ]
     },
     "metadata": {},
     "output_type": "display_data"
    },
    {
     "data": {
      "text/latex": [
       "$$IC^*_4 =[ -6.99168519292;0.911771911375]$$"
      ],
      "text/plain": [
       "<IPython.core.display.Math object>"
      ]
     },
     "metadata": {},
     "output_type": "display_data"
    },
    {
     "data": {
      "text/latex": [
       "$$IC^*_5 =[ -0.325807019413;0.873562061716]$$"
      ],
      "text/plain": [
       "<IPython.core.display.Math object>"
      ]
     },
     "metadata": {},
     "output_type": "display_data"
    },
    {
     "name": "stdout",
     "output_type": "stream",
     "text": [
      "122.628436468 0.122294820479 3.36570789442 1.43027089251 7.9034571043\n",
      "1.19936908113\n",
      " \n",
      "[ -6.41163211e+01   5.02743188e-02  -3.31844386e+00   1.89578642e+00\n",
      "  -3.03995664e+00   2.73877521e-01]\n"
     ]
    }
   ],
   "source": [
    "#d'apres la prop 1 on peut utiliser la Statistiques de Student avec theta_hat et var_hat\n",
    "skl_linmod_ozone_original = linear_model.LinearRegression()\n",
    "skl_linmod_ozone_original.fit(x_train,y_train)\n",
    "theta_o = skl_linmod_ozone_original.coef_\n",
    "theta_o_zero = skl_linmod_ozone_original.intercept_\n",
    "#print theta_o_zero\n",
    "#print theta_o\n",
    "theta_hat_etoile = np.insert(theta_o,0,theta_o_zero,axis=None)\n",
    "#print fu\n",
    "x_new = np.asarray(x_train)\n",
    "x_new = np.insert(x_new,0,np.ones(n),axis=1)\n",
    "\n",
    "\n",
    "from scipy.stats import t\n",
    "\n",
    "alpha = 1 - 0.99\n",
    "t_q = t.ppf(1 - alpha/2,n-p-1)\n",
    "\n",
    "\n",
    "def left(i):\n",
    "    \"\"\"fonction qui calcule la borne inférieure de l'intervalle de confiance pour theta_hat(i)\"\"\"\n",
    "    return theta_hat_etoile[i] - t_q*np.math.sqrt(var_hat*np.linalg.solve(x_new.T.dot(x_new),np.identity(p+1))[i][i])\n",
    "\n",
    "def right(i):\n",
    "    \"\"\"fonction qui calcule la borne suppérieure de l'intervalle de confiance pour theta_hat(i)\"\"\"\n",
    "    return theta_hat_etoile[i] + t_q*np.math.sqrt(var_hat*np.linalg.solve(x_new.T.dot(x_new),np.identity(p+1))[i][i])\n",
    "\n",
    "def IC(i):\n",
    "    \"\"\"intervalle de confiance pour theta_hat(i)\"\"\"\n",
    "    return \"[ \"+str(left(i))+\";\"+str(right(i)) + \"]\"\n",
    "def IC_size(i):\n",
    "    \"\"\"taille de l'intervalle de confiance pour theta_hat(i)\"\"\"\n",
    "    return right(i) - left(i)\n",
    "\n",
    "\n",
    "\n",
    "\n",
    "#on affiche les intervalles de confiance pour les différents theta_hat(i) avec i=0...4\n",
    "display(Math(r'$IC^*_0 ={}$'.format(IC(0))))\n",
    "display(Math(r'$IC^*_1 ={}$'.format(IC(1))))\n",
    "display(Math(r'$IC^*_2 ={}$'.format(IC(2))))\n",
    "display(Math(r'$IC^*_3 ={}$'.format(IC(3))))\n",
    "display(Math(r'$IC^*_4 ={}$'.format(IC(4))))\n",
    "display(Math(r'$IC^*_5 ={}$'.format(IC(5))))\n",
    "\n",
    "\n",
    "\n",
    "print IC_size(0),IC_size(1),IC_size(2),IC_size(3),IC_size(4)\n",
    "print IC_size(5)\n",
    "print \" \"\n",
    "print theta_hat_etoile\n"
   ]
  },
  {
   "cell_type": "markdown",
   "metadata": {
    "collapsed": true
   },
   "source": [
    "# 7)"
   ]
  },
  {
   "cell_type": "markdown",
   "metadata": {},
   "source": [
    "$$On~~ remarque~~ que~~ les~~ variables~~ Day~~ et~~ Month\\\\ \n",
    "ne~~ sont~~ pas~~ pertinentes~~ étant~~ donné~~ que~~ \\hat{\\theta_4}~~ et~~ \\hat{\\theta_5}~~ sont~~ trop~~ proches~~ des~~ bornes~~ limites~~\n",
    "$$"
   ]
  },
  {
   "cell_type": "markdown",
   "metadata": {},
   "source": [
    "# 8)"
   ]
  },
  {
   "cell_type": "code",
   "execution_count": 36,
   "metadata": {
    "collapsed": false
   },
   "outputs": [
    {
     "name": "stdout",
     "output_type": "stream",
     "text": [
      "La prédiction pour cette nouvelle observation donne : \n"
     ]
    },
    {
     "data": {
      "text/latex": [
       "$$\\hat{y}_{new}~~ =~~ 43.0900061919$$"
      ],
      "text/plain": [
       "<IPython.core.display.Math object>"
      ]
     },
     "metadata": {},
     "output_type": "display_data"
    }
   ],
   "source": [
    "#Création de la nouvelle observation\n",
    "listenom = ['Solar.R','Wind','Temp','Month','Day']\n",
    "newline = pd.DataFrame([[197, 10, 70, 1,3]], columns = listenom)\n",
    "\n",
    "#prédiction de la valeur d'Ozone pour la nouvelle observation\n",
    "y_newline_pred = skl_linmod_ozone_original.predict(newline)\n",
    "print \"La prédiction pour cette nouvelle observation donne : \" \n",
    "display(Math(r'$\\hat{y}_{new}~~ =~~ '+str(y_newline_pred[0])))"
   ]
  },
  {
   "cell_type": "markdown",
   "metadata": {},
   "source": [
    "# Exercice 2 #"
   ]
  },
  {
   "cell_type": "markdown",
   "metadata": {
    "collapsed": false
   },
   "source": [
    "# 1)"
   ]
  },
  {
   "cell_type": "code",
   "execution_count": 186,
   "metadata": {
    "collapsed": false
   },
   "outputs": [],
   "source": [
    "from sklearn.utils import resample\n"
   ]
  }
 ],
 "metadata": {
  "kernelspec": {
   "display_name": "Python 2",
   "language": "python",
   "name": "python2"
  },
  "language_info": {
   "codemirror_mode": {
    "name": "ipython",
    "version": 2
   },
   "file_extension": ".py",
   "mimetype": "text/x-python",
   "name": "python",
   "nbconvert_exporter": "python",
   "pygments_lexer": "ipython2",
   "version": "2.7.10"
  }
 },
 "nbformat": 4,
 "nbformat_minor": 0
}
