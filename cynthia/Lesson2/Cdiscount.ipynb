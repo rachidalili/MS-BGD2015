{
 "cells": [
  {
   "cell_type": "markdown",
   "metadata": {},
   "source": [
    "Liste des matériels dispo : \n",
    "* Dell XPS 15\"\n",
    "* Acer Aspire 13\" \n",
    "        \n",
    "Sur Cdiscount :     \n",
    "Lien vers page de l'article, la description, prix (\"Ancien prix\"), lien vers image"
   ]
  },
  {
   "cell_type": "code",
   "execution_count": 15,
   "metadata": {
    "collapsed": true
   },
   "outputs": [],
   "source": [
    "import urllib2\n",
    "from bs4 import BeautifulSoup\n",
    "import re"
   ]
  },
  {
   "cell_type": "code",
   "execution_count": 16,
   "metadata": {
    "collapsed": true
   },
   "outputs": [],
   "source": [
    "data_table = []\n",
    "\n",
    "url = \"http://www.cdiscount.com/search/10/acer+aspire.html\"\n",
    "data = []\n",
    "page = 0"
   ]
  },
  {
   "cell_type": "code",
   "execution_count": 17,
   "metadata": {
    "collapsed": false
   },
   "outputs": [],
   "source": [
    "html = urllib2.urlopen(url).read()\n",
    "#print html"
   ]
  },
  {
   "cell_type": "code",
   "execution_count": 18,
   "metadata": {
    "collapsed": false
   },
   "outputs": [],
   "source": [
    "soup = BeautifulSoup(html, 'html.parser')\n",
    "entries = soup.findAll('div', {'class': 'prdtBloc'})\n",
    "\n",
    "#print entries"
   ]
  },
  {
   "cell_type": "code",
   "execution_count": 19,
   "metadata": {
    "collapsed": false
   },
   "outputs": [
    {
     "name": "stdout",
     "output_type": "stream",
     "text": [
      "349,00\n",
      "499,00\n",
      "599,00\n",
      "499,00\n",
      "399,00\n",
      "399,00\n",
      "329,00\n",
      "499,00\n",
      "219,00\n",
      "629,00\n",
      "699,00\n",
      "599,00\n",
      "329,00\n",
      "749,00\n",
      "649,00\n",
      "538,80\n",
      "299,00\n",
      "{'url': u'http://www.cdiscount.com/informatique/ordinateurs-tactiles/acer-aspire-r3-131t-c1pt/f-10754-nxg11ef001.html', 'old_price': 299.0, 'price': 279.99, 'image_url': u'http://i4.cdscdn.com/RWD/px.gif', 'title': u'Acer Aspire R3-131T-C1PT'}\n"
     ]
    }
   ],
   "source": [
    "for entry in entries:\n",
    "    data_point = {} \n",
    "    data_point['url'] = entry.find('a').get('href')\n",
    "    data_point['title'] = entry.find('div', {'class': 'prdtBTit'}).get_text()\n",
    "    data_point['image_url'] = entry.find('ul', {'class': 'prdtBPCar'}).find('img')['src']\n",
    "    old_price = entry.find('div', {'class': 'prdtPrSt'})\n",
    "    if old_price is not None and len(old_price.get_text().strip()) > 0:\n",
    "        print old_price.get_text()\n",
    "        data_point['old_price'] = float(re.sub(r'\\D', '', old_price.get_text().strip()))/100\n",
    "    price = entry.find('span', {'class': 'price'}).get_text()\n",
    "    data_point['price'] = float(re.sub(r'\\D', '', price))/100\n",
    "    data.append(data_point)\n",
    "\n",
    "print data_point"
   ]
  },
  {
   "cell_type": "code",
   "execution_count": null,
   "metadata": {
    "collapsed": true
   },
   "outputs": [],
   "source": []
  }
 ],
 "metadata": {
  "kernelspec": {
   "display_name": "Python 2",
   "language": "python",
   "name": "python2"
  },
  "language_info": {
   "codemirror_mode": {
    "name": "ipython",
    "version": 2
   },
   "file_extension": ".py",
   "mimetype": "text/x-python",
   "name": "python",
   "nbconvert_exporter": "python",
   "pygments_lexer": "ipython2",
   "version": "2.7.10"
  }
 },
 "nbformat": 4,
 "nbformat_minor": 0
}
