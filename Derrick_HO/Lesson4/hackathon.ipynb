{
 "cells": [
  {
   "cell_type": "code",
   "execution_count": 1,
   "metadata": {
    "collapsed": true
   },
   "outputs": [],
   "source": [
    "import pandas as pd\n",
    "import requests\n",
    "from bs4 import BeautifulSoup\n",
    "import re\n",
    "import matplotlib.pyplot as plt\n",
    "import matplotlib\n",
    "import numpy as np\n",
    "matplotlib.style.use('ggplot')\n",
    "%matplotlib inline"
   ]
  },
  {
   "cell_type": "code",
   "execution_count": 2,
   "metadata": {
    "collapsed": false
   },
   "outputs": [],
   "source": [
    "dictDf = pd.read_excel('Honoraires_totaux_des_professionnels_de_sante_par_departement_en_2013.xls'\n",
    "                       ,sheetname = [2,3,4,5,6,7], header = 0)\n"
   ]
  },
  {
   "cell_type": "code",
   "execution_count": 3,
   "metadata": {
    "collapsed": false
   },
   "outputs": [
    {
     "data": {
      "text/html": [
       "<div>\n",
       "<table border=\"1\" class=\"dataframe\">\n",
       "  <thead>\n",
       "    <tr style=\"text-align: right;\">\n",
       "      <th></th>\n",
       "      <th>Généralistes et COMPETENCE MEP</th>\n",
       "      <th>DEPARTEMENT</th>\n",
       "      <th>EFFECTIFS</th>\n",
       "      <th>HONORAIRES SANS DEPASSEMENT (euros)</th>\n",
       "      <th>DEPASSEMENTS (euros)</th>\n",
       "      <th>FRAIS DE DEPLACEMENTS (euros)</th>\n",
       "      <th>HONORAIRES TOTAUX (euros)</th>\n",
       "      <th>NOMBRE DE DEPASSEMENTS</th>\n",
       "      <th>DEPASSEMENT MOYEN (euros)</th>\n",
       "    </tr>\n",
       "  </thead>\n",
       "  <tbody>\n",
       "    <tr>\n",
       "      <th>0</th>\n",
       "      <td>01- Médecine générale</td>\n",
       "      <td>01- Ain</td>\n",
       "      <td>390</td>\n",
       "      <td>54611476</td>\n",
       "      <td>583275</td>\n",
       "      <td>297951</td>\n",
       "      <td>55492702</td>\n",
       "      <td>76286</td>\n",
       "      <td>7</td>\n",
       "    </tr>\n",
       "    <tr>\n",
       "      <th>1</th>\n",
       "      <td>01- Médecine générale</td>\n",
       "      <td>02- Aisne</td>\n",
       "      <td>366</td>\n",
       "      <td>63385345</td>\n",
       "      <td>385176</td>\n",
       "      <td>368001</td>\n",
       "      <td>64138522</td>\n",
       "      <td>67037</td>\n",
       "      <td>5</td>\n",
       "    </tr>\n",
       "    <tr>\n",
       "      <th>2</th>\n",
       "      <td>01- Médecine générale</td>\n",
       "      <td>03- Allier</td>\n",
       "      <td>257</td>\n",
       "      <td>35083665</td>\n",
       "      <td>67697</td>\n",
       "      <td>325877</td>\n",
       "      <td>35477239</td>\n",
       "      <td>17797</td>\n",
       "      <td>3</td>\n",
       "    </tr>\n",
       "  </tbody>\n",
       "</table>\n",
       "</div>"
      ],
      "text/plain": [
       "  Généralistes et COMPETENCE MEP DEPARTEMENT  EFFECTIFS  \\\n",
       "0          01- Médecine générale     01- Ain        390   \n",
       "1          01- Médecine générale   02- Aisne        366   \n",
       "2          01- Médecine générale  03- Allier        257   \n",
       "\n",
       "  HONORAIRES SANS DEPASSEMENT (euros) DEPASSEMENTS (euros)  \\\n",
       "0                            54611476               583275   \n",
       "1                            63385345               385176   \n",
       "2                            35083665                67697   \n",
       "\n",
       "  FRAIS DE DEPLACEMENTS (euros) HONORAIRES TOTAUX (euros)  \\\n",
       "0                        297951                  55492702   \n",
       "1                        368001                  64138522   \n",
       "2                        325877                  35477239   \n",
       "\n",
       "  NOMBRE DE DEPASSEMENTS DEPASSEMENT MOYEN (euros)  \n",
       "0                  76286                         7  \n",
       "1                  67037                         5  \n",
       "2                  17797                         3  "
      ]
     },
     "execution_count": 3,
     "metadata": {},
     "output_type": "execute_result"
    }
   ],
   "source": [
    "dictDf[3].head(3)"
   ]
  },
  {
   "cell_type": "code",
   "execution_count": 4,
   "metadata": {
    "collapsed": true
   },
   "outputs": [],
   "source": [
    "for key, value in dictDf.iteritems():\n",
    "    name = (value.columns.values)[0]\n",
    "    value.rename(columns={name: 'PROFESSION'}, inplace=True)"
   ]
  },
  {
   "cell_type": "code",
   "execution_count": 5,
   "metadata": {
    "collapsed": false
   },
   "outputs": [
    {
     "data": {
      "text/html": [
       "<div>\n",
       "<table border=\"1\" class=\"dataframe\">\n",
       "  <thead>\n",
       "    <tr style=\"text-align: right;\">\n",
       "      <th></th>\n",
       "      <th></th>\n",
       "      <th>PROFESSION</th>\n",
       "      <th>DEPARTEMENT</th>\n",
       "      <th>EFFECTIFS</th>\n",
       "      <th>HONORAIRES SANS DEPASSEMENT (euros)</th>\n",
       "      <th>DEPASSEMENTS (euros)</th>\n",
       "      <th>FRAIS DE DEPLACEMENTS (euros)</th>\n",
       "      <th>HONORAIRES TOTAUX (euros)</th>\n",
       "      <th>NOMBRE DE DEPASSEMENTS</th>\n",
       "      <th>DEPASSEMENT MOYEN (euros)</th>\n",
       "    </tr>\n",
       "  </thead>\n",
       "  <tbody>\n",
       "    <tr>\n",
       "      <th rowspan=\"3\" valign=\"top\">2</th>\n",
       "      <th>0</th>\n",
       "      <td>02- Anesthésie-réanimation chirurgicale</td>\n",
       "      <td>01- Ain</td>\n",
       "      <td>17</td>\n",
       "      <td>4329488</td>\n",
       "      <td>1879396</td>\n",
       "      <td>0</td>\n",
       "      <td>6208884</td>\n",
       "      <td>27995</td>\n",
       "      <td>67</td>\n",
       "    </tr>\n",
       "    <tr>\n",
       "      <th>1</th>\n",
       "      <td>02- Anesthésie-réanimation chirurgicale</td>\n",
       "      <td>02- Aisne</td>\n",
       "      <td>22</td>\n",
       "      <td>4615160</td>\n",
       "      <td>191421</td>\n",
       "      <td>119</td>\n",
       "      <td>4806700</td>\n",
       "      <td>8150</td>\n",
       "      <td>23</td>\n",
       "    </tr>\n",
       "    <tr>\n",
       "      <th>2</th>\n",
       "      <td>02- Anesthésie-réanimation chirurgicale</td>\n",
       "      <td>03- Allier</td>\n",
       "      <td>19</td>\n",
       "      <td>4872085</td>\n",
       "      <td>416466</td>\n",
       "      <td>0</td>\n",
       "      <td>5288551</td>\n",
       "      <td>9479</td>\n",
       "      <td>43</td>\n",
       "    </tr>\n",
       "  </tbody>\n",
       "</table>\n",
       "</div>"
      ],
      "text/plain": [
       "                                  PROFESSION DEPARTEMENT  EFFECTIFS  \\\n",
       "2 0  02- Anesthésie-réanimation chirurgicale     01- Ain         17   \n",
       "  1  02- Anesthésie-réanimation chirurgicale   02- Aisne         22   \n",
       "  2  02- Anesthésie-réanimation chirurgicale  03- Allier         19   \n",
       "\n",
       "    HONORAIRES SANS DEPASSEMENT (euros) DEPASSEMENTS (euros)  \\\n",
       "2 0                             4329488              1879396   \n",
       "  1                             4615160               191421   \n",
       "  2                             4872085               416466   \n",
       "\n",
       "    FRAIS DE DEPLACEMENTS (euros) HONORAIRES TOTAUX (euros)  \\\n",
       "2 0                             0                   6208884   \n",
       "  1                           119                   4806700   \n",
       "  2                             0                   5288551   \n",
       "\n",
       "    NOMBRE DE DEPASSEMENTS DEPASSEMENT MOYEN (euros)  \n",
       "2 0                  27995                        67  \n",
       "  1                   8150                        23  \n",
       "  2                   9479                        43  "
      ]
     },
     "execution_count": 5,
     "metadata": {},
     "output_type": "execute_result"
    }
   ],
   "source": [
    "df = pd.concat(dictDf)\n",
    "df.head(3)"
   ]
  },
  {
   "cell_type": "code",
   "execution_count": 6,
   "metadata": {
    "collapsed": false
   },
   "outputs": [
    {
     "data": {
      "text/html": [
       "<div>\n",
       "<table border=\"1\" class=\"dataframe\">\n",
       "  <thead>\n",
       "    <tr style=\"text-align: right;\">\n",
       "      <th></th>\n",
       "      <th>PROFESSION</th>\n",
       "      <th>DEPARTEMENT</th>\n",
       "      <th>EFFECTIFS</th>\n",
       "      <th>HONORAIRES SANS DEPASSEMENT (euros)</th>\n",
       "      <th>DEPASSEMENTS (euros)</th>\n",
       "      <th>FRAIS DE DEPLACEMENTS (euros)</th>\n",
       "      <th>HONORAIRES TOTAUX (euros)</th>\n",
       "      <th>NOMBRE DE DEPASSEMENTS</th>\n",
       "      <th>DEPASSEMENT MOYEN (euros)</th>\n",
       "    </tr>\n",
       "  </thead>\n",
       "  <tbody>\n",
       "    <tr>\n",
       "      <th>0</th>\n",
       "      <td>02- Anesthésie-réanimation chirurgicale</td>\n",
       "      <td>01- Ain</td>\n",
       "      <td>17</td>\n",
       "      <td>4329488</td>\n",
       "      <td>1879396</td>\n",
       "      <td>0</td>\n",
       "      <td>6208884</td>\n",
       "      <td>27995</td>\n",
       "      <td>67</td>\n",
       "    </tr>\n",
       "    <tr>\n",
       "      <th>1</th>\n",
       "      <td>02- Anesthésie-réanimation chirurgicale</td>\n",
       "      <td>02- Aisne</td>\n",
       "      <td>22</td>\n",
       "      <td>4615160</td>\n",
       "      <td>191421</td>\n",
       "      <td>119</td>\n",
       "      <td>4806700</td>\n",
       "      <td>8150</td>\n",
       "      <td>23</td>\n",
       "    </tr>\n",
       "    <tr>\n",
       "      <th>2</th>\n",
       "      <td>02- Anesthésie-réanimation chirurgicale</td>\n",
       "      <td>03- Allier</td>\n",
       "      <td>19</td>\n",
       "      <td>4872085</td>\n",
       "      <td>416466</td>\n",
       "      <td>0</td>\n",
       "      <td>5288551</td>\n",
       "      <td>9479</td>\n",
       "      <td>43</td>\n",
       "    </tr>\n",
       "    <tr>\n",
       "      <th>3</th>\n",
       "      <td>02- Anesthésie-réanimation chirurgicale</td>\n",
       "      <td>04- Alpes-Hte-Provence</td>\n",
       "      <td>4</td>\n",
       "      <td>nc</td>\n",
       "      <td>nc</td>\n",
       "      <td>nc</td>\n",
       "      <td>nc</td>\n",
       "      <td>nc</td>\n",
       "      <td>nc</td>\n",
       "    </tr>\n",
       "    <tr>\n",
       "      <th>4</th>\n",
       "      <td>02- Anesthésie-réanimation chirurgicale</td>\n",
       "      <td>05- Hautes-Alpes</td>\n",
       "      <td>7</td>\n",
       "      <td>nc</td>\n",
       "      <td>nc</td>\n",
       "      <td>nc</td>\n",
       "      <td>nc</td>\n",
       "      <td>nc</td>\n",
       "      <td>nc</td>\n",
       "    </tr>\n",
       "  </tbody>\n",
       "</table>\n",
       "</div>"
      ],
      "text/plain": [
       "                                PROFESSION             DEPARTEMENT  EFFECTIFS  \\\n",
       "0  02- Anesthésie-réanimation chirurgicale                 01- Ain         17   \n",
       "1  02- Anesthésie-réanimation chirurgicale               02- Aisne         22   \n",
       "2  02- Anesthésie-réanimation chirurgicale              03- Allier         19   \n",
       "3  02- Anesthésie-réanimation chirurgicale  04- Alpes-Hte-Provence          4   \n",
       "4  02- Anesthésie-réanimation chirurgicale        05- Hautes-Alpes          7   \n",
       "\n",
       "  HONORAIRES SANS DEPASSEMENT (euros) DEPASSEMENTS (euros)  \\\n",
       "0                             4329488              1879396   \n",
       "1                             4615160               191421   \n",
       "2                             4872085               416466   \n",
       "3                                  nc                   nc   \n",
       "4                                  nc                   nc   \n",
       "\n",
       "  FRAIS DE DEPLACEMENTS (euros) HONORAIRES TOTAUX (euros)  \\\n",
       "0                             0                   6208884   \n",
       "1                           119                   4806700   \n",
       "2                             0                   5288551   \n",
       "3                            nc                        nc   \n",
       "4                            nc                        nc   \n",
       "\n",
       "  NOMBRE DE DEPASSEMENTS DEPASSEMENT MOYEN (euros)  \n",
       "0                  27995                        67  \n",
       "1                   8150                        23  \n",
       "2                   9479                        43  \n",
       "3                     nc                        nc  \n",
       "4                     nc                        nc  "
      ]
     },
     "execution_count": 6,
     "metadata": {},
     "output_type": "execute_result"
    }
   ],
   "source": [
    "df.reset_index(drop=[0,1], inplace = True)\n",
    "df.head(5)"
   ]
  },
  {
   "cell_type": "code",
   "execution_count": 7,
   "metadata": {
    "collapsed": false
   },
   "outputs": [
    {
     "data": {
      "text/plain": [
       "161298"
      ]
     },
     "execution_count": 7,
     "metadata": {},
     "output_type": "execute_result"
    }
   ],
   "source": [
    "df.size"
   ]
  },
  {
   "cell_type": "code",
   "execution_count": 8,
   "metadata": {
    "collapsed": false
   },
   "outputs": [
    {
     "name": "stdout",
     "output_type": "stream",
     "text": [
      "(17922, 4)\n"
     ]
    },
    {
     "name": "stderr",
     "output_type": "stream",
     "text": [
      "/cal/softs/anaconda/anaconda-2.0.1/lib/python2.7/site-packages/pandas/core/common.py:516: FutureWarning: elementwise comparison failed; returning scalar instead, but in the future will perform elementwise comparison\n",
      "  mask = arr == x\n"
     ]
    },
    {
     "data": {
      "text/html": [
       "<div>\n",
       "<table border=\"1\" class=\"dataframe\">\n",
       "  <thead>\n",
       "    <tr style=\"text-align: right;\">\n",
       "      <th></th>\n",
       "      <th>PROFESSION</th>\n",
       "      <th>DEPARTEMENT</th>\n",
       "      <th>NOMBRE DE DEPASSEMENTS</th>\n",
       "      <th>EFFECTIFS</th>\n",
       "    </tr>\n",
       "  </thead>\n",
       "  <tbody>\n",
       "    <tr>\n",
       "      <th>0</th>\n",
       "      <td>02- Anesthésie-réanimation chirurgicale</td>\n",
       "      <td>01- Ain</td>\n",
       "      <td>27995</td>\n",
       "      <td>17</td>\n",
       "    </tr>\n",
       "    <tr>\n",
       "      <th>1</th>\n",
       "      <td>02- Anesthésie-réanimation chirurgicale</td>\n",
       "      <td>02- Aisne</td>\n",
       "      <td>8150</td>\n",
       "      <td>22</td>\n",
       "    </tr>\n",
       "    <tr>\n",
       "      <th>2</th>\n",
       "      <td>02- Anesthésie-réanimation chirurgicale</td>\n",
       "      <td>03- Allier</td>\n",
       "      <td>9479</td>\n",
       "      <td>19</td>\n",
       "    </tr>\n",
       "    <tr>\n",
       "      <th>3</th>\n",
       "      <td>02- Anesthésie-réanimation chirurgicale</td>\n",
       "      <td>04- Alpes-Hte-Provence</td>\n",
       "      <td>nc</td>\n",
       "      <td>4</td>\n",
       "    </tr>\n",
       "    <tr>\n",
       "      <th>4</th>\n",
       "      <td>02- Anesthésie-réanimation chirurgicale</td>\n",
       "      <td>05- Hautes-Alpes</td>\n",
       "      <td>nc</td>\n",
       "      <td>7</td>\n",
       "    </tr>\n",
       "  </tbody>\n",
       "</table>\n",
       "</div>"
      ],
      "text/plain": [
       "                                PROFESSION             DEPARTEMENT  \\\n",
       "0  02- Anesthésie-réanimation chirurgicale                 01- Ain   \n",
       "1  02- Anesthésie-réanimation chirurgicale               02- Aisne   \n",
       "2  02- Anesthésie-réanimation chirurgicale              03- Allier   \n",
       "3  02- Anesthésie-réanimation chirurgicale  04- Alpes-Hte-Provence   \n",
       "4  02- Anesthésie-réanimation chirurgicale        05- Hautes-Alpes   \n",
       "\n",
       "  NOMBRE DE DEPASSEMENTS  EFFECTIFS  \n",
       "0                  27995         17  \n",
       "1                   8150         22  \n",
       "2                   9479         19  \n",
       "3                     nc          4  \n",
       "4                     nc          7  "
      ]
     },
     "execution_count": 8,
     "metadata": {},
     "output_type": "execute_result"
    }
   ],
   "source": [
    "subDf = df.loc[:, ['PROFESSION', 'DEPARTEMENT', 'NOMBRE DE DEPASSEMENTS', 'EFFECTIFS']]\n",
    "subDf.replace(to_replace = r'- ', value = r'\\s- ', inplace = True)\n",
    "print subDf.shape\n",
    "subDf.head(5)"
   ]
  },
  {
   "cell_type": "code",
   "execution_count": 9,
   "metadata": {
    "collapsed": false,
    "scrolled": true
   },
   "outputs": [
    {
     "data": {
      "text/html": [
       "<div>\n",
       "<table border=\"1\" class=\"dataframe\">\n",
       "  <thead>\n",
       "    <tr style=\"text-align: right;\">\n",
       "      <th></th>\n",
       "      <th>PROFESSION</th>\n",
       "      <th>DEPARTEMENT</th>\n",
       "      <th>NOMBRE DE DEPASSEMENTS</th>\n",
       "      <th>EFFECTIFS</th>\n",
       "    </tr>\n",
       "  </thead>\n",
       "  <tbody>\n",
       "    <tr>\n",
       "      <th>0</th>\n",
       "      <td>02- Anesthésie-réanimation chirurgicale</td>\n",
       "      <td>01- Ain</td>\n",
       "      <td>27995</td>\n",
       "      <td>17</td>\n",
       "    </tr>\n",
       "    <tr>\n",
       "      <th>1</th>\n",
       "      <td>02- Anesthésie-réanimation chirurgicale</td>\n",
       "      <td>02- Aisne</td>\n",
       "      <td>8150</td>\n",
       "      <td>22</td>\n",
       "    </tr>\n",
       "    <tr>\n",
       "      <th>2</th>\n",
       "      <td>02- Anesthésie-réanimation chirurgicale</td>\n",
       "      <td>03- Allier</td>\n",
       "      <td>9479</td>\n",
       "      <td>19</td>\n",
       "    </tr>\n",
       "    <tr>\n",
       "      <th>3</th>\n",
       "      <td>02- Anesthésie-réanimation chirurgicale</td>\n",
       "      <td>04- Alpes-Hte-Provence</td>\n",
       "      <td>NaN</td>\n",
       "      <td>4</td>\n",
       "    </tr>\n",
       "    <tr>\n",
       "      <th>4</th>\n",
       "      <td>02- Anesthésie-réanimation chirurgicale</td>\n",
       "      <td>05- Hautes-Alpes</td>\n",
       "      <td>NaN</td>\n",
       "      <td>7</td>\n",
       "    </tr>\n",
       "  </tbody>\n",
       "</table>\n",
       "</div>"
      ],
      "text/plain": [
       "                                PROFESSION             DEPARTEMENT  \\\n",
       "0  02- Anesthésie-réanimation chirurgicale                 01- Ain   \n",
       "1  02- Anesthésie-réanimation chirurgicale               02- Aisne   \n",
       "2  02- Anesthésie-réanimation chirurgicale              03- Allier   \n",
       "3  02- Anesthésie-réanimation chirurgicale  04- Alpes-Hte-Provence   \n",
       "4  02- Anesthésie-réanimation chirurgicale        05- Hautes-Alpes   \n",
       "\n",
       "   NOMBRE DE DEPASSEMENTS  EFFECTIFS  \n",
       "0                   27995         17  \n",
       "1                    8150         22  \n",
       "2                    9479         19  \n",
       "3                     NaN          4  \n",
       "4                     NaN          7  "
      ]
     },
     "execution_count": 9,
     "metadata": {},
     "output_type": "execute_result"
    }
   ],
   "source": [
    "subDf.replace(to_replace = 'nc', value = np.nan, inplace = True)\n",
    "subDf.head(5)"
   ]
  },
  {
   "cell_type": "code",
   "execution_count": 10,
   "metadata": {
    "collapsed": false
   },
   "outputs": [
    {
     "data": {
      "text/html": [
       "<div>\n",
       "<table border=\"1\" class=\"dataframe\">\n",
       "  <thead>\n",
       "    <tr style=\"text-align: right;\">\n",
       "      <th></th>\n",
       "      <th>PROFESSION</th>\n",
       "      <th>DEPARTEMENT</th>\n",
       "      <th>NOMBRE DE DEPASSEMENTS</th>\n",
       "      <th>EFFECTIFS</th>\n",
       "    </tr>\n",
       "  </thead>\n",
       "  <tbody>\n",
       "    <tr>\n",
       "      <th>0</th>\n",
       "      <td>02- Anesthésie-réanimation chirurgicale</td>\n",
       "      <td>01- Ain</td>\n",
       "      <td>27995</td>\n",
       "      <td>17</td>\n",
       "    </tr>\n",
       "    <tr>\n",
       "      <th>1</th>\n",
       "      <td>02- Anesthésie-réanimation chirurgicale</td>\n",
       "      <td>02- Aisne</td>\n",
       "      <td>8150</td>\n",
       "      <td>22</td>\n",
       "    </tr>\n",
       "    <tr>\n",
       "      <th>2</th>\n",
       "      <td>02- Anesthésie-réanimation chirurgicale</td>\n",
       "      <td>03- Allier</td>\n",
       "      <td>9479</td>\n",
       "      <td>19</td>\n",
       "    </tr>\n",
       "    <tr>\n",
       "      <th>5</th>\n",
       "      <td>02- Anesthésie-réanimation chirurgicale</td>\n",
       "      <td>06- Alpes-Maritimes</td>\n",
       "      <td>110114</td>\n",
       "      <td>105</td>\n",
       "    </tr>\n",
       "    <tr>\n",
       "      <th>6</th>\n",
       "      <td>02- Anesthésie-réanimation chirurgicale</td>\n",
       "      <td>07- Ardèche</td>\n",
       "      <td>12231</td>\n",
       "      <td>21</td>\n",
       "    </tr>\n",
       "  </tbody>\n",
       "</table>\n",
       "</div>"
      ],
      "text/plain": [
       "                                PROFESSION          DEPARTEMENT  \\\n",
       "0  02- Anesthésie-réanimation chirurgicale              01- Ain   \n",
       "1  02- Anesthésie-réanimation chirurgicale            02- Aisne   \n",
       "2  02- Anesthésie-réanimation chirurgicale           03- Allier   \n",
       "5  02- Anesthésie-réanimation chirurgicale  06- Alpes-Maritimes   \n",
       "6  02- Anesthésie-réanimation chirurgicale          07- Ardèche   \n",
       "\n",
       "   NOMBRE DE DEPASSEMENTS  EFFECTIFS  \n",
       "0                   27995         17  \n",
       "1                    8150         22  \n",
       "2                    9479         19  \n",
       "5                  110114        105  \n",
       "6                   12231         21  "
      ]
     },
     "execution_count": 10,
     "metadata": {},
     "output_type": "execute_result"
    }
   ],
   "source": [
    "subDf.dropna(how='any', inplace=True)\n",
    "subDf.head(5)"
   ]
  },
  {
   "cell_type": "code",
   "execution_count": 11,
   "metadata": {
    "collapsed": false
   },
   "outputs": [],
   "source": [
    "subDffilter = subDf[subDf['DEPARTEMENT'].str.contains(r'^TOTAL.*$')== False]\n",
    "subDffilter2 = subDffilter[subDffilter['PROFESSION'].str.contains(r'^TOTAL.*$')== False]\n",
    "subDffilter3 = subDffilter2[subDffilter2['NOMBRE DE DEPASSEMENTS'] != 0]"
   ]
  },
  {
   "cell_type": "code",
   "execution_count": 12,
   "metadata": {
    "collapsed": false
   },
   "outputs": [
    {
     "data": {
      "text/html": [
       "<div>\n",
       "<table border=\"1\" class=\"dataframe\">\n",
       "  <thead>\n",
       "    <tr style=\"text-align: right;\">\n",
       "      <th></th>\n",
       "      <th>DEPARTEMENT</th>\n",
       "      <th>TOTAL EFFECTIF</th>\n",
       "    </tr>\n",
       "  </thead>\n",
       "  <tbody>\n",
       "    <tr>\n",
       "      <th>0</th>\n",
       "      <td>01- Ain</td>\n",
       "      <td>2990</td>\n",
       "    </tr>\n",
       "    <tr>\n",
       "      <th>1</th>\n",
       "      <td>02- Aisne</td>\n",
       "      <td>2533</td>\n",
       "    </tr>\n",
       "    <tr>\n",
       "      <th>2</th>\n",
       "      <td>03- Allier</td>\n",
       "      <td>2010</td>\n",
       "    </tr>\n",
       "    <tr>\n",
       "      <th>3</th>\n",
       "      <td>04- Alpes-Hte-Provence</td>\n",
       "      <td>1166</td>\n",
       "    </tr>\n",
       "    <tr>\n",
       "      <th>4</th>\n",
       "      <td>05- Hautes-Alpes</td>\n",
       "      <td>1083</td>\n",
       "    </tr>\n",
       "  </tbody>\n",
       "</table>\n",
       "</div>"
      ],
      "text/plain": [
       "              DEPARTEMENT  TOTAL EFFECTIF\n",
       "0                 01- Ain            2990\n",
       "1               02- Aisne            2533\n",
       "2              03- Allier            2010\n",
       "3  04- Alpes-Hte-Provence            1166\n",
       "4        05- Hautes-Alpes            1083"
      ]
     },
     "execution_count": 12,
     "metadata": {},
     "output_type": "execute_result"
    }
   ],
   "source": [
    "df2 = subDffilter3.groupby(['DEPARTEMENT'], as_index=False)['EFFECTIFS'].sum()\n",
    "dfTotal = pd.DataFrame(df2)\n",
    "dfTotal.columns = ['DEPARTEMENT', 'TOTAL EFFECTIF']\n",
    "dfTotal.head(5)"
   ]
  },
  {
   "cell_type": "code",
   "execution_count": 13,
   "metadata": {
    "collapsed": false
   },
   "outputs": [],
   "source": [
    "result = pd.merge(subDffilter3, dfTotal,how = 'inner', on='DEPARTEMENT' )"
   ]
  },
  {
   "cell_type": "code",
   "execution_count": 14,
   "metadata": {
    "collapsed": false
   },
   "outputs": [
    {
     "data": {
      "text/html": [
       "<div>\n",
       "<table border=\"1\" class=\"dataframe\">\n",
       "  <thead>\n",
       "    <tr style=\"text-align: right;\">\n",
       "      <th></th>\n",
       "      <th>PROFESSION</th>\n",
       "      <th>DEPARTEMENT</th>\n",
       "      <th>NOMBRE DE DEPASSEMENTS</th>\n",
       "      <th>EFFECTIFS</th>\n",
       "      <th>TOTAL EFFECTIF</th>\n",
       "    </tr>\n",
       "  </thead>\n",
       "  <tbody>\n",
       "    <tr>\n",
       "      <th>0</th>\n",
       "      <td>02- Anesthésie-réanimation chirurgicale</td>\n",
       "      <td>01- Ain</td>\n",
       "      <td>27995</td>\n",
       "      <td>17</td>\n",
       "      <td>2990</td>\n",
       "    </tr>\n",
       "    <tr>\n",
       "      <th>1</th>\n",
       "      <td>03- Pathologie cardio-vasculaire</td>\n",
       "      <td>01- Ain</td>\n",
       "      <td>11550</td>\n",
       "      <td>16</td>\n",
       "      <td>2990</td>\n",
       "    </tr>\n",
       "    <tr>\n",
       "      <th>2</th>\n",
       "      <td>05- Dermato-vénéréologie</td>\n",
       "      <td>01- Ain</td>\n",
       "      <td>20491</td>\n",
       "      <td>13</td>\n",
       "      <td>2990</td>\n",
       "    </tr>\n",
       "    <tr>\n",
       "      <th>3</th>\n",
       "      <td>06- Radiodiagnostic et imagerie médicale</td>\n",
       "      <td>01- Ain</td>\n",
       "      <td>84364</td>\n",
       "      <td>41</td>\n",
       "      <td>2990</td>\n",
       "    </tr>\n",
       "    <tr>\n",
       "      <th>4</th>\n",
       "      <td>07- Gynécologie obstétrique</td>\n",
       "      <td>01- Ain</td>\n",
       "      <td>34620</td>\n",
       "      <td>20</td>\n",
       "      <td>2990</td>\n",
       "    </tr>\n",
       "  </tbody>\n",
       "</table>\n",
       "</div>"
      ],
      "text/plain": [
       "                                 PROFESSION DEPARTEMENT  \\\n",
       "0   02- Anesthésie-réanimation chirurgicale     01- Ain   \n",
       "1          03- Pathologie cardio-vasculaire     01- Ain   \n",
       "2                  05- Dermato-vénéréologie     01- Ain   \n",
       "3  06- Radiodiagnostic et imagerie médicale     01- Ain   \n",
       "4               07- Gynécologie obstétrique     01- Ain   \n",
       "\n",
       "   NOMBRE DE DEPASSEMENTS  EFFECTIFS  TOTAL EFFECTIF  \n",
       "0                   27995         17            2990  \n",
       "1                   11550         16            2990  \n",
       "2                   20491         13            2990  \n",
       "3                   84364         41            2990  \n",
       "4                   34620         20            2990  "
      ]
     },
     "execution_count": 14,
     "metadata": {},
     "output_type": "execute_result"
    }
   ],
   "source": [
    "result.head(5)"
   ]
  },
  {
   "cell_type": "code",
   "execution_count": 15,
   "metadata": {
    "collapsed": false
   },
   "outputs": [],
   "source": [
    "result['DENSITE'] = pd.Series( result['EFFECTIFS'] / result['TOTAL EFFECTIF'], index=result.index)"
   ]
  },
  {
   "cell_type": "code",
   "execution_count": 16,
   "metadata": {
    "collapsed": false
   },
   "outputs": [
    {
     "data": {
      "text/html": [
       "<div>\n",
       "<table border=\"1\" class=\"dataframe\">\n",
       "  <thead>\n",
       "    <tr style=\"text-align: right;\">\n",
       "      <th></th>\n",
       "      <th>PROFESSION</th>\n",
       "      <th>DEPARTEMENT</th>\n",
       "      <th>NOMBRE DE DEPASSEMENTS</th>\n",
       "      <th>EFFECTIFS</th>\n",
       "      <th>TOTAL EFFECTIF</th>\n",
       "      <th>DENSITE</th>\n",
       "    </tr>\n",
       "  </thead>\n",
       "  <tbody>\n",
       "    <tr>\n",
       "      <th>0</th>\n",
       "      <td>02- Anesthésie-réanimation chirurgicale</td>\n",
       "      <td>01- Ain</td>\n",
       "      <td>27995</td>\n",
       "      <td>17</td>\n",
       "      <td>2990</td>\n",
       "      <td>0.005686</td>\n",
       "    </tr>\n",
       "    <tr>\n",
       "      <th>1</th>\n",
       "      <td>03- Pathologie cardio-vasculaire</td>\n",
       "      <td>01- Ain</td>\n",
       "      <td>11550</td>\n",
       "      <td>16</td>\n",
       "      <td>2990</td>\n",
       "      <td>0.005351</td>\n",
       "    </tr>\n",
       "    <tr>\n",
       "      <th>2</th>\n",
       "      <td>05- Dermato-vénéréologie</td>\n",
       "      <td>01- Ain</td>\n",
       "      <td>20491</td>\n",
       "      <td>13</td>\n",
       "      <td>2990</td>\n",
       "      <td>0.004348</td>\n",
       "    </tr>\n",
       "    <tr>\n",
       "      <th>3</th>\n",
       "      <td>06- Radiodiagnostic et imagerie médicale</td>\n",
       "      <td>01- Ain</td>\n",
       "      <td>84364</td>\n",
       "      <td>41</td>\n",
       "      <td>2990</td>\n",
       "      <td>0.013712</td>\n",
       "    </tr>\n",
       "    <tr>\n",
       "      <th>4</th>\n",
       "      <td>07- Gynécologie obstétrique</td>\n",
       "      <td>01- Ain</td>\n",
       "      <td>34620</td>\n",
       "      <td>20</td>\n",
       "      <td>2990</td>\n",
       "      <td>0.006689</td>\n",
       "    </tr>\n",
       "  </tbody>\n",
       "</table>\n",
       "</div>"
      ],
      "text/plain": [
       "                                 PROFESSION DEPARTEMENT  \\\n",
       "0   02- Anesthésie-réanimation chirurgicale     01- Ain   \n",
       "1          03- Pathologie cardio-vasculaire     01- Ain   \n",
       "2                  05- Dermato-vénéréologie     01- Ain   \n",
       "3  06- Radiodiagnostic et imagerie médicale     01- Ain   \n",
       "4               07- Gynécologie obstétrique     01- Ain   \n",
       "\n",
       "   NOMBRE DE DEPASSEMENTS  EFFECTIFS  TOTAL EFFECTIF   DENSITE  \n",
       "0                   27995         17            2990  0.005686  \n",
       "1                   11550         16            2990  0.005351  \n",
       "2                   20491         13            2990  0.004348  \n",
       "3                   84364         41            2990  0.013712  \n",
       "4                   34620         20            2990  0.006689  "
      ]
     },
     "execution_count": 16,
     "metadata": {},
     "output_type": "execute_result"
    }
   ],
   "source": [
    "result.head(5)"
   ]
  },
  {
   "cell_type": "code",
   "execution_count": 17,
   "metadata": {
    "collapsed": true
   },
   "outputs": [],
   "source": [
    "result.drop('EFFECTIFS', axis=1, inplace=True)\n",
    "result.drop('TOTAL EFFECTIF', axis=1, inplace=True)"
   ]
  },
  {
   "cell_type": "code",
   "execution_count": 18,
   "metadata": {
    "collapsed": false
   },
   "outputs": [
    {
     "data": {
      "text/html": [
       "<div>\n",
       "<table border=\"1\" class=\"dataframe\">\n",
       "  <thead>\n",
       "    <tr style=\"text-align: right;\">\n",
       "      <th></th>\n",
       "      <th>PROFESSION</th>\n",
       "      <th>DEPARTEMENT</th>\n",
       "      <th>NOMBRE DE DEPASSEMENTS</th>\n",
       "      <th>DENSITE</th>\n",
       "    </tr>\n",
       "  </thead>\n",
       "  <tbody>\n",
       "    <tr>\n",
       "      <th>0</th>\n",
       "      <td>02- Anesthésie-réanimation chirurgicale</td>\n",
       "      <td>01- Ain</td>\n",
       "      <td>27995</td>\n",
       "      <td>0.005686</td>\n",
       "    </tr>\n",
       "    <tr>\n",
       "      <th>1</th>\n",
       "      <td>03- Pathologie cardio-vasculaire</td>\n",
       "      <td>01- Ain</td>\n",
       "      <td>11550</td>\n",
       "      <td>0.005351</td>\n",
       "    </tr>\n",
       "    <tr>\n",
       "      <th>2</th>\n",
       "      <td>05- Dermato-vénéréologie</td>\n",
       "      <td>01- Ain</td>\n",
       "      <td>20491</td>\n",
       "      <td>0.004348</td>\n",
       "    </tr>\n",
       "    <tr>\n",
       "      <th>3</th>\n",
       "      <td>06- Radiodiagnostic et imagerie médicale</td>\n",
       "      <td>01- Ain</td>\n",
       "      <td>84364</td>\n",
       "      <td>0.013712</td>\n",
       "    </tr>\n",
       "    <tr>\n",
       "      <th>4</th>\n",
       "      <td>07- Gynécologie obstétrique</td>\n",
       "      <td>01- Ain</td>\n",
       "      <td>34620</td>\n",
       "      <td>0.006689</td>\n",
       "    </tr>\n",
       "  </tbody>\n",
       "</table>\n",
       "</div>"
      ],
      "text/plain": [
       "                                 PROFESSION DEPARTEMENT  \\\n",
       "0   02- Anesthésie-réanimation chirurgicale     01- Ain   \n",
       "1          03- Pathologie cardio-vasculaire     01- Ain   \n",
       "2                  05- Dermato-vénéréologie     01- Ain   \n",
       "3  06- Radiodiagnostic et imagerie médicale     01- Ain   \n",
       "4               07- Gynécologie obstétrique     01- Ain   \n",
       "\n",
       "   NOMBRE DE DEPASSEMENTS   DENSITE  \n",
       "0                   27995  0.005686  \n",
       "1                   11550  0.005351  \n",
       "2                   20491  0.004348  \n",
       "3                   84364  0.013712  \n",
       "4                   34620  0.006689  "
      ]
     },
     "execution_count": 18,
     "metadata": {},
     "output_type": "execute_result"
    }
   ],
   "source": [
    "result.head(5)"
   ]
  },
  {
   "cell_type": "code",
   "execution_count": 19,
   "metadata": {
    "collapsed": false
   },
   "outputs": [
    {
     "data": {
      "text/html": [
       "<div>\n",
       "<table border=\"1\" class=\"dataframe\">\n",
       "  <thead>\n",
       "    <tr style=\"text-align: right;\">\n",
       "      <th></th>\n",
       "      <th></th>\n",
       "      <th>NOMBRE DE DEPASSEMENTS</th>\n",
       "    </tr>\n",
       "    <tr>\n",
       "      <th>DEPARTEMENT</th>\n",
       "      <th>PROFESSION</th>\n",
       "      <th></th>\n",
       "    </tr>\n",
       "  </thead>\n",
       "  <tbody>\n",
       "    <tr>\n",
       "      <th rowspan=\"3\" valign=\"top\">75- Paris (Ville)</th>\n",
       "      <th>26- Masseurs-kinésithérapeutes-rééducateurs</th>\n",
       "      <td>3429673</td>\n",
       "    </tr>\n",
       "    <tr>\n",
       "      <th>01- OMNIPRATICIENS</th>\n",
       "      <td>2727344</td>\n",
       "    </tr>\n",
       "    <tr>\n",
       "      <th>01- Médecine générale</th>\n",
       "      <td>1880437</td>\n",
       "    </tr>\n",
       "    <tr>\n",
       "      <th rowspan=\"2\" valign=\"top\">92- Hauts-de-Seine</th>\n",
       "      <th>26- Masseurs-kinésithérapeutes-rééducateurs</th>\n",
       "      <td>1625487</td>\n",
       "    </tr>\n",
       "    <tr>\n",
       "      <th>01- OMNIPRATICIENS</th>\n",
       "      <td>1518491</td>\n",
       "    </tr>\n",
       "  </tbody>\n",
       "</table>\n",
       "</div>"
      ],
      "text/plain": [
       "                                                                NOMBRE DE DEPASSEMENTS\n",
       "DEPARTEMENT        PROFESSION                                                         \n",
       "75- Paris (Ville)  26- Masseurs-kinésithérapeutes-rééducateurs                 3429673\n",
       "                   01- OMNIPRATICIENS                                          2727344\n",
       "                   01- Médecine générale                                       1880437\n",
       "92- Hauts-de-Seine 26- Masseurs-kinésithérapeutes-rééducateurs                 1625487\n",
       "                   01- OMNIPRATICIENS                                          1518491"
      ]
     },
     "execution_count": 19,
     "metadata": {},
     "output_type": "execute_result"
    }
   ],
   "source": [
    "subDF = result.groupby(['DEPARTEMENT', 'PROFESSION'])['NOMBRE DE DEPASSEMENTS'].mean()\n",
    "frame1 = pd.DataFrame(subDF)\n",
    "frame1 = frame1.sort('NOMBRE DE DEPASSEMENTS', axis=0, ascending=False)\n",
    "frame1.head(5)"
   ]
  },
  {
   "cell_type": "code",
   "execution_count": 20,
   "metadata": {
    "collapsed": false
   },
   "outputs": [
    {
     "data": {
      "text/html": [
       "<div>\n",
       "<table border=\"1\" class=\"dataframe\">\n",
       "  <thead>\n",
       "    <tr style=\"text-align: right;\">\n",
       "      <th></th>\n",
       "      <th></th>\n",
       "      <th>DENSITE</th>\n",
       "    </tr>\n",
       "    <tr>\n",
       "      <th>DEPARTEMENT</th>\n",
       "      <th>PROFESSION</th>\n",
       "      <th></th>\n",
       "    </tr>\n",
       "  </thead>\n",
       "  <tbody>\n",
       "    <tr>\n",
       "      <th>976- Mayotte</th>\n",
       "      <th>24- Infirmiers</th>\n",
       "      <td>0.557214</td>\n",
       "    </tr>\n",
       "    <tr>\n",
       "      <th>23- Creuse</th>\n",
       "      <th>24- Infirmiers</th>\n",
       "      <td>0.388535</td>\n",
       "    </tr>\n",
       "    <tr>\n",
       "      <th>2B- Haute-Corse</th>\n",
       "      <th>24- Infirmiers</th>\n",
       "      <td>0.384185</td>\n",
       "    </tr>\n",
       "    <tr>\n",
       "      <th>972- Martinique</th>\n",
       "      <th>24- Infirmiers</th>\n",
       "      <td>0.381373</td>\n",
       "    </tr>\n",
       "    <tr>\n",
       "      <th>971- Guadeloupe</th>\n",
       "      <th>24- Infirmiers</th>\n",
       "      <td>0.341517</td>\n",
       "    </tr>\n",
       "  </tbody>\n",
       "</table>\n",
       "</div>"
      ],
      "text/plain": [
       "                                 DENSITE\n",
       "DEPARTEMENT     PROFESSION              \n",
       "976- Mayotte    24- Infirmiers  0.557214\n",
       "23- Creuse      24- Infirmiers  0.388535\n",
       "2B- Haute-Corse 24- Infirmiers  0.384185\n",
       "972- Martinique 24- Infirmiers  0.381373\n",
       "971- Guadeloupe 24- Infirmiers  0.341517"
      ]
     },
     "execution_count": 20,
     "metadata": {},
     "output_type": "execute_result"
    }
   ],
   "source": [
    "subDF = result.groupby(['DEPARTEMENT', 'PROFESSION'])['DENSITE'].mean()\n",
    "frame2 = pd.DataFrame(subDF)\n",
    "frame2 = frame2.sort('DENSITE', axis=0, ascending=False)\n",
    "frame2.head(5)"
   ]
  },
  {
   "cell_type": "markdown",
   "metadata": {},
   "source": [
    "<p>\n",
    "On constate dans ce deuxième dataframe que les infirmier est ma specialite qui a la plus grande densite, alors qu'elle n'apparait pas dans les specialite avec un depassement d'honoraire.\n",
    "</p>"
   ]
  },
  {
   "cell_type": "code",
   "execution_count": 21,
   "metadata": {
    "collapsed": false
   },
   "outputs": [
    {
     "data": {
      "text/html": [
       "<div>\n",
       "<table border=\"1\" class=\"dataframe\">\n",
       "  <thead>\n",
       "    <tr style=\"text-align: right;\">\n",
       "      <th></th>\n",
       "      <th>DEPARTEMENT</th>\n",
       "      <th>PROFESSION</th>\n",
       "      <th>DENSITE</th>\n",
       "    </tr>\n",
       "  </thead>\n",
       "  <tbody>\n",
       "    <tr>\n",
       "      <th>0</th>\n",
       "      <td>01- Ain</td>\n",
       "      <td>01- M.E.P.</td>\n",
       "      <td>0.018729</td>\n",
       "    </tr>\n",
       "    <tr>\n",
       "      <th>1</th>\n",
       "      <td>01- Ain</td>\n",
       "      <td>01- Médecine générale</td>\n",
       "      <td>0.130435</td>\n",
       "    </tr>\n",
       "    <tr>\n",
       "      <th>2</th>\n",
       "      <td>01- Ain</td>\n",
       "      <td>01- OMNIPRATICIENS</td>\n",
       "      <td>0.149164</td>\n",
       "    </tr>\n",
       "    <tr>\n",
       "      <th>3</th>\n",
       "      <td>01- Ain</td>\n",
       "      <td>02- Anesthésie-réanimation chirurgicale</td>\n",
       "      <td>0.005686</td>\n",
       "    </tr>\n",
       "    <tr>\n",
       "      <th>4</th>\n",
       "      <td>01- Ain</td>\n",
       "      <td>03- Pathologie cardio-vasculaire</td>\n",
       "      <td>0.005351</td>\n",
       "    </tr>\n",
       "  </tbody>\n",
       "</table>\n",
       "</div>"
      ],
      "text/plain": [
       "  DEPARTEMENT                               PROFESSION   DENSITE\n",
       "0     01- Ain                               01- M.E.P.  0.018729\n",
       "1     01- Ain                    01- Médecine générale  0.130435\n",
       "2     01- Ain                       01- OMNIPRATICIENS  0.149164\n",
       "3     01- Ain  02- Anesthésie-réanimation chirurgicale  0.005686\n",
       "4     01- Ain         03- Pathologie cardio-vasculaire  0.005351"
      ]
     },
     "execution_count": 21,
     "metadata": {},
     "output_type": "execute_result"
    }
   ],
   "source": [
    "subDF1 = result.groupby(['DEPARTEMENT', 'PROFESSION'], as_index = False)['DENSITE'].mean()\n",
    "subDF1.head(5)"
   ]
  },
  {
   "cell_type": "code",
   "execution_count": 22,
   "metadata": {
    "collapsed": false
   },
   "outputs": [
    {
     "data": {
      "text/html": [
       "<div>\n",
       "<table border=\"1\" class=\"dataframe\">\n",
       "  <thead>\n",
       "    <tr style=\"text-align: right;\">\n",
       "      <th></th>\n",
       "      <th></th>\n",
       "      <th>DENSITE</th>\n",
       "    </tr>\n",
       "    <tr>\n",
       "      <th>DEPARTEMENT</th>\n",
       "      <th>PROFESSION</th>\n",
       "      <th></th>\n",
       "    </tr>\n",
       "  </thead>\n",
       "  <tbody>\n",
       "    <tr>\n",
       "      <th>05- Hautes-Alpes</th>\n",
       "      <th>26- Masseurs-kinésithérapeutes-rééducateurs</th>\n",
       "      <td>0.226223</td>\n",
       "    </tr>\n",
       "    <tr>\n",
       "      <th>70- Haute-Saône</th>\n",
       "      <th>01- OMNIPRATICIENS</th>\n",
       "      <td>0.209693</td>\n",
       "    </tr>\n",
       "    <tr>\n",
       "      <th>52- Haute-Marne</th>\n",
       "      <th>01- OMNIPRATICIENS</th>\n",
       "      <td>0.207895</td>\n",
       "    </tr>\n",
       "    <tr>\n",
       "      <th>55- Meuse</th>\n",
       "      <th>01- OMNIPRATICIENS</th>\n",
       "      <td>0.205619</td>\n",
       "    </tr>\n",
       "    <tr>\n",
       "      <th>39- Jura</th>\n",
       "      <th>01- OMNIPRATICIENS</th>\n",
       "      <td>0.202510</td>\n",
       "    </tr>\n",
       "  </tbody>\n",
       "</table>\n",
       "</div>"
      ],
      "text/plain": [
       "                                                               DENSITE\n",
       "DEPARTEMENT      PROFESSION                                           \n",
       "05- Hautes-Alpes 26- Masseurs-kinésithérapeutes-rééducateurs  0.226223\n",
       "70- Haute-Saône  01- OMNIPRATICIENS                           0.209693\n",
       "52- Haute-Marne  01- OMNIPRATICIENS                           0.207895\n",
       "55- Meuse        01- OMNIPRATICIENS                           0.205619\n",
       "39- Jura         01- OMNIPRATICIENS                           0.202510"
      ]
     },
     "execution_count": 22,
     "metadata": {},
     "output_type": "execute_result"
    }
   ],
   "source": [
    "subDf2 = subDF1.replace(to_replace = '24- Infirmiers', value = np.nan)\n",
    "subDf2 = subDf2.dropna(how='any')\n",
    "subDF3 = subDf2.groupby(['DEPARTEMENT', 'PROFESSION'])['DENSITE'].mean()\n",
    "subDF3 = pd.DataFrame(subDF3)\n",
    "subDF3 = subDF3.sort('DENSITE', axis=0, ascending=False)\n",
    "subDF3.head(5)"
   ]
  },
  {
   "cell_type": "code",
   "execution_count": 23,
   "metadata": {
    "collapsed": false
   },
   "outputs": [
    {
     "data": {
      "text/plain": [
       "<matplotlib.axes._subplots.AxesSubplot at 0x7f1a589edd90>"
      ]
     },
     "execution_count": 23,
     "metadata": {},
     "output_type": "execute_result"
    },
    {
     "data": {
      "image/png": "[encoded data removed]",
      "text/plain": [
       "<matplotlib.figure.Figure at 0x7f1a58aed490>"
      ]
     },
     "metadata": {},
     "output_type": "display_data"
    }
   ],
   "source": [
    "fig, axes = plt.subplots(nrows=1, ncols=2)\n",
    "frame1.head(20).plot(ax=axes[0], kind='bar', figsize=(15,10))\n",
    "subDF3.head(20).plot(ax=axes[1], kind='bar', figsize=(15,10))"
   ]
  },
  {
   "cell_type": "markdown",
   "metadata": {},
   "source": [
    "<p>\n",
    "Lorsque l'on retire les infirmiers des données, on remarque qu'<b>il n'y a pas de corrélation entre la densité de médecins par spécialité  et par territoire et la pratique du dépassement d'honoraires.</b>\n",
    "<br\\><br\\>\n",
    "Dans les graphes ci-dessus, on constate que la densite des Masseurs-kinésithérapeutes-rééducateurs est en corrélation avec leur nombre de dépassement, mais il ne sont pas liées par le departement.\n",
    "<br\\><br\\>\n",
    "De plus, sur le graphe de gauche, on constate que les omnipraticiens de Paris ont un fort nombre de depassement, mais ils n'apparaissent meme pas dans le top 20 des densite par  specialite et par departement.\n",
    "</p>"
   ]
  },
  {
   "cell_type": "code",
   "execution_count": 24,
   "metadata": {
    "collapsed": false
   },
   "outputs": [
    {
     "data": {
      "text/html": [
       "<div>\n",
       "<table border=\"1\" class=\"dataframe\">\n",
       "  <thead>\n",
       "    <tr style=\"text-align: right;\">\n",
       "      <th></th>\n",
       "      <th>CODEGEO</th>\n",
       "      <th>DEPARTEMENT</th>\n",
       "      <th>DENSITE DE POPULATION</th>\n",
       "    </tr>\n",
       "  </thead>\n",
       "  <tbody>\n",
       "    <tr>\n",
       "      <th>0</th>\n",
       "      <td>1</td>\n",
       "      <td>01 - Ain</td>\n",
       "      <td>106.24</td>\n",
       "    </tr>\n",
       "    <tr>\n",
       "      <th>1</th>\n",
       "      <td>2</td>\n",
       "      <td>02 - Aisne</td>\n",
       "      <td>73.40</td>\n",
       "    </tr>\n",
       "    <tr>\n",
       "      <th>2</th>\n",
       "      <td>3</td>\n",
       "      <td>03 - Allier</td>\n",
       "      <td>46.72</td>\n",
       "    </tr>\n",
       "    <tr>\n",
       "      <th>3</th>\n",
       "      <td>4</td>\n",
       "      <td>04 - Alpes-de-Haute-Provence</td>\n",
       "      <td>23.28</td>\n",
       "    </tr>\n",
       "    <tr>\n",
       "      <th>4</th>\n",
       "      <td>5</td>\n",
       "      <td>05 - Hautes-Alpes</td>\n",
       "      <td>25.15</td>\n",
       "    </tr>\n",
       "  </tbody>\n",
       "</table>\n",
       "</div>"
      ],
      "text/plain": [
       "  CODEGEO                   DEPARTEMENT  DENSITE DE POPULATION\n",
       "0       1                      01 - Ain                 106.24\n",
       "1       2                    02 - Aisne                  73.40\n",
       "2       3                   03 - Allier                  46.72\n",
       "3       4  04 - Alpes-de-Haute-Provence                  23.28\n",
       "4       5             05 - Hautes-Alpes                  25.15"
      ]
     },
     "execution_count": 24,
     "metadata": {},
     "output_type": "execute_result"
    }
   ],
   "source": [
    "densDf = pd.read_excel('densitePop.xls', skiprows=6, header=0)\n",
    "densDf.columns = ['CODEGEO', 'DEPARTEMENT', 'DENSITE DE POPULATION']\n",
    "densDf.head(5)"
   ]
  },
  {
   "cell_type": "code",
   "execution_count": 25,
   "metadata": {
    "collapsed": false
   },
   "outputs": [
    {
     "data": {
      "text/plain": [
       "(104, 2)"
      ]
     },
     "execution_count": 25,
     "metadata": {},
     "output_type": "execute_result"
    }
   ],
   "source": [
    "subDensDf = densDf.loc[:, ['DEPARTEMENT', 'DENSITE DE POPULATION']]\n",
    "subDensDf.shape"
   ]
  },
  {
   "cell_type": "code",
   "execution_count": 26,
   "metadata": {
    "collapsed": false
   },
   "outputs": [
    {
     "data": {
      "text/plain": [
       "(100, 2)"
      ]
     },
     "execution_count": 26,
     "metadata": {},
     "output_type": "execute_result"
    }
   ],
   "source": [
    "dropDensDf = subDensDf.dropna(how='any')\n",
    "dropDensDf.shape"
   ]
  },
  {
   "cell_type": "code",
   "execution_count": 27,
   "metadata": {
    "collapsed": false
   },
   "outputs": [
    {
     "name": "stderr",
     "output_type": "stream",
     "text": [
      "/cal/softs/anaconda/anaconda-2.0.1/lib/python2.7/site-packages/ipykernel/__main__.py:1: SettingWithCopyWarning: \n",
      "A value is trying to be set on a copy of a slice from a DataFrame.\n",
      "Try using .loc[row_indexer,col_indexer] = value instead\n",
      "\n",
      "See the the caveats in the documentation: http://pandas.pydata.org/pandas-docs/stable/indexing.html#indexing-view-versus-copy\n",
      "  if __name__ == '__main__':\n"
     ]
    }
   ],
   "source": [
    "dropDensDf['DEPARTEMENT'] = dropDensDf['DEPARTEMENT'].str.replace('75- Ville de Paris', '75- Paris (Ville)')"
   ]
  },
  {
   "cell_type": "code",
   "execution_count": 28,
   "metadata": {
    "collapsed": false
   },
   "outputs": [
    {
     "name": "stderr",
     "output_type": "stream",
     "text": [
      "/cal/softs/anaconda/anaconda-2.0.1/lib/python2.7/site-packages/ipykernel/__main__.py:1: SettingWithCopyWarning: \n",
      "A value is trying to be set on a copy of a slice from a DataFrame.\n",
      "Try using .loc[row_indexer,col_indexer] = value instead\n",
      "\n",
      "See the the caveats in the documentation: http://pandas.pydata.org/pandas-docs/stable/indexing.html#indexing-view-versus-copy\n",
      "  if __name__ == '__main__':\n"
     ]
    },
    {
     "data": {
      "text/html": [
       "<div>\n",
       "<table border=\"1\" class=\"dataframe\">\n",
       "  <thead>\n",
       "    <tr style=\"text-align: right;\">\n",
       "      <th></th>\n",
       "      <th>DEPARTEMENT</th>\n",
       "      <th>DENSITE DE POPULATION</th>\n",
       "    </tr>\n",
       "  </thead>\n",
       "  <tbody>\n",
       "    <tr>\n",
       "      <th>0</th>\n",
       "      <td>01- Ain</td>\n",
       "      <td>106.24</td>\n",
       "    </tr>\n",
       "    <tr>\n",
       "      <th>1</th>\n",
       "      <td>02- Aisne</td>\n",
       "      <td>73.40</td>\n",
       "    </tr>\n",
       "    <tr>\n",
       "      <th>2</th>\n",
       "      <td>03- Allier</td>\n",
       "      <td>46.72</td>\n",
       "    </tr>\n",
       "    <tr>\n",
       "      <th>3</th>\n",
       "      <td>04- Alpes-de-Haute-Provence</td>\n",
       "      <td>23.28</td>\n",
       "    </tr>\n",
       "    <tr>\n",
       "      <th>4</th>\n",
       "      <td>05- Hautes-Alpes</td>\n",
       "      <td>25.15</td>\n",
       "    </tr>\n",
       "  </tbody>\n",
       "</table>\n",
       "</div>"
      ],
      "text/plain": [
       "                   DEPARTEMENT  DENSITE DE POPULATION\n",
       "0                      01- Ain                 106.24\n",
       "1                    02- Aisne                  73.40\n",
       "2                   03- Allier                  46.72\n",
       "3  04- Alpes-de-Haute-Provence                  23.28\n",
       "4             05- Hautes-Alpes                  25.15"
      ]
     },
     "execution_count": 28,
     "metadata": {},
     "output_type": "execute_result"
    }
   ],
   "source": [
    "dropDensDf['DEPARTEMENT'] = dropDensDf['DEPARTEMENT'].str.replace(' - ', '- ')\n",
    "dropDensDf.head(5)"
   ]
  },
  {
   "cell_type": "code",
   "execution_count": 29,
   "metadata": {
    "collapsed": false
   },
   "outputs": [
    {
     "name": "stderr",
     "output_type": "stream",
     "text": [
      "/cal/softs/anaconda/anaconda-2.0.1/lib/python2.7/site-packages/ipykernel/__main__.py:1: SettingWithCopyWarning: \n",
      "A value is trying to be set on a copy of a slice from a DataFrame\n",
      "\n",
      "See the the caveats in the documentation: http://pandas.pydata.org/pandas-docs/stable/indexing.html#indexing-view-versus-copy\n",
      "  if __name__ == '__main__':\n"
     ]
    },
    {
     "data": {
      "text/html": [
       "<div>\n",
       "<table border=\"1\" class=\"dataframe\">\n",
       "  <thead>\n",
       "    <tr style=\"text-align: right;\">\n",
       "      <th></th>\n",
       "      <th>PROFESSION</th>\n",
       "      <th>DEPARTEMENT</th>\n",
       "      <th>NOMBRE DE DEPASSEMENTS</th>\n",
       "      <th>EFFECTIFS</th>\n",
       "    </tr>\n",
       "  </thead>\n",
       "  <tbody>\n",
       "    <tr>\n",
       "      <th>0</th>\n",
       "      <td>02- Anesthésie-réanimation chirurgicale</td>\n",
       "      <td>01- Ain</td>\n",
       "      <td>27995</td>\n",
       "      <td>17</td>\n",
       "    </tr>\n",
       "    <tr>\n",
       "      <th>1</th>\n",
       "      <td>02- Anesthésie-réanimation chirurgicale</td>\n",
       "      <td>02- Aisne</td>\n",
       "      <td>8150</td>\n",
       "      <td>22</td>\n",
       "    </tr>\n",
       "    <tr>\n",
       "      <th>2</th>\n",
       "      <td>02- Anesthésie-réanimation chirurgicale</td>\n",
       "      <td>03- Allier</td>\n",
       "      <td>9479</td>\n",
       "      <td>19</td>\n",
       "    </tr>\n",
       "    <tr>\n",
       "      <th>5</th>\n",
       "      <td>02- Anesthésie-réanimation chirurgicale</td>\n",
       "      <td>06- Alpes-Maritimes</td>\n",
       "      <td>110114</td>\n",
       "      <td>105</td>\n",
       "    </tr>\n",
       "    <tr>\n",
       "      <th>6</th>\n",
       "      <td>02- Anesthésie-réanimation chirurgicale</td>\n",
       "      <td>07- Ardèche</td>\n",
       "      <td>12231</td>\n",
       "      <td>21</td>\n",
       "    </tr>\n",
       "  </tbody>\n",
       "</table>\n",
       "</div>"
      ],
      "text/plain": [
       "                                PROFESSION          DEPARTEMENT  \\\n",
       "0  02- Anesthésie-réanimation chirurgicale              01- Ain   \n",
       "1  02- Anesthésie-réanimation chirurgicale            02- Aisne   \n",
       "2  02- Anesthésie-réanimation chirurgicale           03- Allier   \n",
       "5  02- Anesthésie-réanimation chirurgicale  06- Alpes-Maritimes   \n",
       "6  02- Anesthésie-réanimation chirurgicale          07- Ardèche   \n",
       "\n",
       "   NOMBRE DE DEPASSEMENTS  EFFECTIFS  \n",
       "0                   27995         17  \n",
       "1                    8150         22  \n",
       "2                    9479         19  \n",
       "5                  110114        105  \n",
       "6                   12231         21  "
      ]
     },
     "execution_count": 29,
     "metadata": {},
     "output_type": "execute_result"
    }
   ],
   "source": [
    "subDffilter3.replace(to_replace = '75- Paris (Ville)', value = '75- Ville de Paris', inplace = True)\n",
    "subDffilter3.head(5)"
   ]
  },
  {
   "cell_type": "code",
   "execution_count": 31,
   "metadata": {
    "collapsed": false
   },
   "outputs": [
    {
     "data": {
      "text/html": [
       "<div>\n",
       "<table border=\"1\" class=\"dataframe\">\n",
       "  <thead>\n",
       "    <tr style=\"text-align: right;\">\n",
       "      <th></th>\n",
       "      <th>DENSITE DE POPULATION</th>\n",
       "    </tr>\n",
       "    <tr>\n",
       "      <th>DEPARTEMENT</th>\n",
       "      <th></th>\n",
       "    </tr>\n",
       "  </thead>\n",
       "  <tbody>\n",
       "    <tr>\n",
       "      <th>75- Ville de Paris</th>\n",
       "      <td>21258.26</td>\n",
       "    </tr>\n",
       "    <tr>\n",
       "      <th>92- Hauts-de-Seine</th>\n",
       "      <td>9033.85</td>\n",
       "    </tr>\n",
       "    <tr>\n",
       "      <th>94- Val-de-Marne</th>\n",
       "      <td>5476.19</td>\n",
       "    </tr>\n",
       "    <tr>\n",
       "      <th>95- Val-d'Oise</th>\n",
       "      <td>952.78</td>\n",
       "    </tr>\n",
       "    <tr>\n",
       "      <th>91- Essonne</th>\n",
       "      <td>685.83</td>\n",
       "    </tr>\n",
       "  </tbody>\n",
       "</table>\n",
       "</div>"
      ],
      "text/plain": [
       "                    DENSITE DE POPULATION\n",
       "DEPARTEMENT                              \n",
       "75- Ville de Paris               21258.26\n",
       "92- Hauts-de-Seine                9033.85\n",
       "94- Val-de-Marne                  5476.19\n",
       "95- Val-d'Oise                     952.78\n",
       "91- Essonne                        685.83"
      ]
     },
     "execution_count": 31,
     "metadata": {},
     "output_type": "execute_result"
    }
   ],
   "source": [
    "t = newResult.groupby(['DEPARTEMENT'])['DENSITE DE POPULATION'].mean()\n",
    "frame1 = pd.DataFrame(t)\n",
    "frame1 = frame1.sort('DENSITE DE POPULATION', axis=0, ascending=False)\n",
    "frame1.head(5)"
   ]
  },
  {
   "cell_type": "code",
   "execution_count": 32,
   "metadata": {
    "collapsed": false
   },
   "outputs": [
    {
     "data": {
      "text/html": [
       "<div>\n",
       "<table border=\"1\" class=\"dataframe\">\n",
       "  <thead>\n",
       "    <tr style=\"text-align: right;\">\n",
       "      <th></th>\n",
       "      <th>NOMBRE DE DEPASSEMENTS</th>\n",
       "    </tr>\n",
       "    <tr>\n",
       "      <th>DEPARTEMENT</th>\n",
       "      <th></th>\n",
       "    </tr>\n",
       "  </thead>\n",
       "  <tbody>\n",
       "    <tr>\n",
       "      <th>75- Ville de Paris</th>\n",
       "      <td>396389.363636</td>\n",
       "    </tr>\n",
       "    <tr>\n",
       "      <th>92- Hauts-de-Seine</th>\n",
       "      <td>201734.872340</td>\n",
       "    </tr>\n",
       "    <tr>\n",
       "      <th>78- Yvelines</th>\n",
       "      <td>176894.526316</td>\n",
       "    </tr>\n",
       "    <tr>\n",
       "      <th>69- Rhône</th>\n",
       "      <td>153214.065217</td>\n",
       "    </tr>\n",
       "    <tr>\n",
       "      <th>77- Seine-et-Marne</th>\n",
       "      <td>141181.914286</td>\n",
       "    </tr>\n",
       "  </tbody>\n",
       "</table>\n",
       "</div>"
      ],
      "text/plain": [
       "                    NOMBRE DE DEPASSEMENTS\n",
       "DEPARTEMENT                               \n",
       "75- Ville de Paris           396389.363636\n",
       "92- Hauts-de-Seine           201734.872340\n",
       "78- Yvelines                 176894.526316\n",
       "69- Rhône                    153214.065217\n",
       "77- Seine-et-Marne           141181.914286"
      ]
     },
     "execution_count": 32,
     "metadata": {},
     "output_type": "execute_result"
    }
   ],
   "source": [
    "t = newResult.groupby(['DEPARTEMENT'])['NOMBRE DE DEPASSEMENTS'].mean()\n",
    "frame2 = pd.DataFrame(t)\n",
    "frame2 = frame2.sort('NOMBRE DE DEPASSEMENTS', axis=0, ascending=False)\n",
    "frame2.head(5)"
   ]
  },
  {
   "cell_type": "code",
   "execution_count": 33,
   "metadata": {
    "collapsed": false
   },
   "outputs": [
    {
     "data": {
      "text/plain": [
       "<matplotlib.axes._subplots.AxesSubplot at 0x7f1a57e113d0>"
      ]
     },
     "execution_count": 33,
     "metadata": {},
     "output_type": "execute_result"
    },
    {
     "data": {
      "image/png": "[encoded data removed]",
      "text/plain": [
       "<matplotlib.figure.Figure at 0x7f1a583e2310>"
      ]
     },
     "metadata": {},
     "output_type": "display_data"
    }
   ],
   "source": [
    "fig, axes = plt.subplots(nrows=1, ncols=2)\n",
    "frame1.head(20).plot(ax=axes[0], kind='bar', figsize=(15,10))\n",
    "frame2.head(20).plot(ax=axes[1], kind='bar', figsize=(15,10))"
   ]
  },
  {
   "cell_type": "markdown",
   "metadata": {},
   "source": [
    "<p>\n",
    "On constate qu'il y a une correlation entre la densite de population et le nombre de depassement seulement pour les deux meilleurs resultats: Paris 75 et les Hauts-de-Seine 92.\n",
    "\n",
    "Cependant cette corrélation n'est pas valide pour les autres départements.\n",
    "\n",
    "<b>Conclusion</b>: Il n'y a pas de correlation entre la densite de population et le nombre de depassement par departement\n",
    "</p>"
   ]
  }
 ],
 "metadata": {
  "kernelspec": {
   "display_name": "Python 2",
   "language": "python",
   "name": "python2"
  },
  "language_info": {
   "codemirror_mode": {
    "name": "ipython",
    "version": 2
   },
   "file_extension": ".py",
   "mimetype": "text/x-python",
   "name": "python",
   "nbconvert_exporter": "python",
   "pygments_lexer": "ipython2",
   "version": "2.7.10"
  }
 },
 "nbformat": 4,
 "nbformat_minor": 0
}
