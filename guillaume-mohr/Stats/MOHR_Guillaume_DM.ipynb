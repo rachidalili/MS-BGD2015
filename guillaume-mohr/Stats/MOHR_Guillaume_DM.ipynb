{
 "cells": [
  {
   "cell_type": "markdown",
   "metadata": {},
   "source": [
    "# Devoir maison n°1 : Intervalles de confiance et méthodes gloutonnes"
   ]
  },
  {
   "cell_type": "markdown",
   "metadata": {},
   "source": [
    "*TELECOM ParisTech 2015/2016 - MDI720*"
   ]
  },
  {
   "cell_type": "markdown",
   "metadata": {},
   "source": [
    "Guillaume MOHR"
   ]
  },
  {
   "cell_type": "markdown",
   "metadata": {},
   "source": [
    "Ce fichier a été testé dans l'environnement Anaconda, à jour, version Python 3.4.3.\n",
    "La conformité PEP8 des cellules de code a été testée grâce à l'extention **pep8** d'IPython Notebook : https://github.com/ipython/ipython/wiki/Extensions-Index#pep8"
   ]
  },
  {
   "cell_type": "markdown",
   "metadata": {},
   "source": [
    "---"
   ]
  },
  {
   "cell_type": "markdown",
   "metadata": {},
   "source": [
    "## Préliminaires"
   ]
  },
  {
   "cell_type": "code",
   "execution_count": 6,
   "metadata": {
    "collapsed": false
   },
   "outputs": [],
   "source": [
    "import numpy as np\n",
    "import pandas as pd\n",
    "import matplotlib.pyplot as plt\n",
    "import seaborn as sns\n",
    "from scipy.stats import t\n",
    "import statsmodels.formula.api as smf\n",
    "import statsmodels.datasets\n",
    "from sklearn.preprocessing import scale\n",
    "from sklearn import linear_model\n",
    "from sklearn.utils import resample\n",
    "import statsmodels.api as sm\n",
    "from scipy.stats.mstats import mquantiles\n",
    "from sklearn.linear_model.base import LinearModel\n",
    "from sklearn.base import RegressorMixin\n",
    "from sklearn.cross_validation import KFold"
   ]
  },
  {
   "cell_type": "code",
   "execution_count": 7,
   "metadata": {
    "collapsed": false
   },
   "outputs": [],
   "source": [
    "# Uncomment below for using ipython notebook PEP8 checking extension\n",
    "# %install_ext https://raw.githubusercontent.com/SiggyF/notebooks/master/pep8_magic.py\n",
    "# %load_ext pep8_magic"
   ]
  },
  {
   "cell_type": "code",
   "execution_count": 8,
   "metadata": {
    "collapsed": false
   },
   "outputs": [
    {
     "name": "stderr",
     "output_type": "stream",
     "text": [
      "/usr/lib/python3.5/site-packages/matplotlib/__init__.py:872: UserWarning: axes.color_cycle is deprecated and replaced with axes.prop_cycle; please use the latter.\n",
      "  warnings.warn(self.msg_depr % (key, alt_key))\n"
     ]
    }
   ],
   "source": [
    "pd.set_option('precision', 5)\n",
    "%matplotlib inline\n",
    "sns.set_palette('colorblind')\n",
    "sns.set_style('darkgrid')\n",
    "sns.set_context('notebook')"
   ]
  },
  {
   "cell_type": "markdown",
   "metadata": {},
   "source": [
    "---------"
   ]
  },
  {
   "cell_type": "markdown",
   "metadata": {},
   "source": [
    "## Exercice 1"
   ]
  },
  {
   "cell_type": "markdown",
   "metadata": {},
   "source": [
    "### Question 1.1"
   ]
  },
  {
   "cell_type": "markdown",
   "metadata": {},
   "source": [
    "Nous notons dans l'exercice $n$ le nombre d'observations et $p$ le nombre de variables explicatives (hors constante). Le modèle que l'on considère est le suivant :\n",
    "$$\\mathbf{y} = X \\mathbf{\\theta^*} + \\mathbf{\\epsilon}$$\n",
    "$$\\textrm{avec}\\space \\epsilon \\sim \\cal{N} \\mathrm{(0, \\sigma^2 \\text{I}_n)}$$\n",
    "$$X \\in\\mathbb{R}^{n\\times (p+1)}, \\mathbf{y}\\in\\mathbb{R}^{n}, \\mathbf{\\theta^*}\\in\\mathbb{R}^{p+1} $$\n",
    "Le $(p+1)$ est dû au fait que l'on prend en compte la variable constante. Dans la suite, ce sera la première colonne de $X$ qui sera constante.  "
   ]
  },
  {
   "cell_type": "markdown",
   "metadata": {},
   "source": [
    "### Question 1.2"
   ]
  },
  {
   "cell_type": "markdown",
   "metadata": {},
   "source": [
    "On extrait le jeu de données."
   ]
  },
  {
   "cell_type": "code",
   "execution_count": 9,
   "metadata": {
    "collapsed": false
   },
   "outputs": [],
   "source": [
    "dat1 = statsmodels.datasets.get_rdataset('airquality').data"
   ]
  },
  {
   "cell_type": "code",
   "execution_count": 10,
   "metadata": {
    "collapsed": false
   },
   "outputs": [
    {
     "data": {
      "text/html": [
       "<div>\n",
       "<table border=\"1\" class=\"dataframe\">\n",
       "  <thead>\n",
       "    <tr style=\"text-align: right;\">\n",
       "      <th></th>\n",
       "      <th>Ozone</th>\n",
       "      <th>Solar.R</th>\n",
       "      <th>Wind</th>\n",
       "      <th>Temp</th>\n",
       "      <th>Month</th>\n",
       "      <th>Day</th>\n",
       "    </tr>\n",
       "  </thead>\n",
       "  <tbody>\n",
       "    <tr>\n",
       "      <th>0</th>\n",
       "      <td>41</td>\n",
       "      <td>190</td>\n",
       "      <td>7.4</td>\n",
       "      <td>67</td>\n",
       "      <td>5</td>\n",
       "      <td>1</td>\n",
       "    </tr>\n",
       "    <tr>\n",
       "      <th>1</th>\n",
       "      <td>36</td>\n",
       "      <td>118</td>\n",
       "      <td>8.0</td>\n",
       "      <td>72</td>\n",
       "      <td>5</td>\n",
       "      <td>2</td>\n",
       "    </tr>\n",
       "    <tr>\n",
       "      <th>2</th>\n",
       "      <td>12</td>\n",
       "      <td>149</td>\n",
       "      <td>12.6</td>\n",
       "      <td>74</td>\n",
       "      <td>5</td>\n",
       "      <td>3</td>\n",
       "    </tr>\n",
       "    <tr>\n",
       "      <th>3</th>\n",
       "      <td>18</td>\n",
       "      <td>313</td>\n",
       "      <td>11.5</td>\n",
       "      <td>62</td>\n",
       "      <td>5</td>\n",
       "      <td>4</td>\n",
       "    </tr>\n",
       "    <tr>\n",
       "      <th>4</th>\n",
       "      <td>NaN</td>\n",
       "      <td>NaN</td>\n",
       "      <td>14.3</td>\n",
       "      <td>56</td>\n",
       "      <td>5</td>\n",
       "      <td>5</td>\n",
       "    </tr>\n",
       "  </tbody>\n",
       "</table>\n",
       "</div>"
      ],
      "text/plain": [
       "   Ozone  Solar.R  Wind  Temp  Month  Day\n",
       "0     41      190   7.4    67      5    1\n",
       "1     36      118   8.0    72      5    2\n",
       "2     12      149  12.6    74      5    3\n",
       "3     18      313  11.5    62      5    4\n",
       "4    NaN      NaN  14.3    56      5    5"
      ]
     },
     "execution_count": 10,
     "metadata": {},
     "output_type": "execute_result"
    }
   ],
   "source": [
    "dat1.head(5)"
   ]
  },
  {
   "cell_type": "markdown",
   "metadata": {},
   "source": [
    "### Question 1.3"
   ]
  },
  {
   "cell_type": "markdown",
   "metadata": {},
   "source": [
    " On supprime les lignes contenant une valeur *NaN*.  \n",
    " De plus, pour faciliter la manipulation avec des noms de colonnes, on supprime la ponctuation des noms."
   ]
  },
  {
   "cell_type": "code",
   "execution_count": 11,
   "metadata": {
    "collapsed": true
   },
   "outputs": [],
   "source": [
    "dat1 = dat1.dropna()\n",
    "dat1.rename(columns={'Solar.R': 'SolarR'}, inplace=True)"
   ]
  },
  {
   "cell_type": "code",
   "execution_count": 12,
   "metadata": {
    "collapsed": false
   },
   "outputs": [
    {
     "data": {
      "text/html": [
       "<div>\n",
       "<table border=\"1\" class=\"dataframe\">\n",
       "  <thead>\n",
       "    <tr style=\"text-align: right;\">\n",
       "      <th></th>\n",
       "      <th>Ozone</th>\n",
       "      <th>SolarR</th>\n",
       "      <th>Wind</th>\n",
       "      <th>Temp</th>\n",
       "      <th>Month</th>\n",
       "      <th>Day</th>\n",
       "    </tr>\n",
       "  </thead>\n",
       "  <tbody>\n",
       "    <tr>\n",
       "      <th>0</th>\n",
       "      <td>41</td>\n",
       "      <td>190</td>\n",
       "      <td>7.4</td>\n",
       "      <td>67</td>\n",
       "      <td>5</td>\n",
       "      <td>1</td>\n",
       "    </tr>\n",
       "    <tr>\n",
       "      <th>1</th>\n",
       "      <td>36</td>\n",
       "      <td>118</td>\n",
       "      <td>8.0</td>\n",
       "      <td>72</td>\n",
       "      <td>5</td>\n",
       "      <td>2</td>\n",
       "    </tr>\n",
       "    <tr>\n",
       "      <th>2</th>\n",
       "      <td>12</td>\n",
       "      <td>149</td>\n",
       "      <td>12.6</td>\n",
       "      <td>74</td>\n",
       "      <td>5</td>\n",
       "      <td>3</td>\n",
       "    </tr>\n",
       "    <tr>\n",
       "      <th>3</th>\n",
       "      <td>18</td>\n",
       "      <td>313</td>\n",
       "      <td>11.5</td>\n",
       "      <td>62</td>\n",
       "      <td>5</td>\n",
       "      <td>4</td>\n",
       "    </tr>\n",
       "    <tr>\n",
       "      <th>6</th>\n",
       "      <td>23</td>\n",
       "      <td>299</td>\n",
       "      <td>8.6</td>\n",
       "      <td>65</td>\n",
       "      <td>5</td>\n",
       "      <td>7</td>\n",
       "    </tr>\n",
       "  </tbody>\n",
       "</table>\n",
       "</div>"
      ],
      "text/plain": [
       "   Ozone  SolarR  Wind  Temp  Month  Day\n",
       "0     41     190   7.4    67      5    1\n",
       "1     36     118   8.0    72      5    2\n",
       "2     12     149  12.6    74      5    3\n",
       "3     18     313  11.5    62      5    4\n",
       "6     23     299   8.6    65      5    7"
      ]
     },
     "execution_count": 12,
     "metadata": {},
     "output_type": "execute_result"
    }
   ],
   "source": [
    "dat1.head(5)"
   ]
  },
  {
   "cell_type": "markdown",
   "metadata": {},
   "source": [
    "Par ailleurs, pour la suite, nous pouvons définir numériquement les variables $n$ et $p$ définies plus haut :"
   ]
  },
  {
   "cell_type": "code",
   "execution_count": 13,
   "metadata": {
    "collapsed": false
   },
   "outputs": [
    {
     "name": "stdout",
     "output_type": "stream",
     "text": [
      "n = 111\n",
      "p = 5\n"
     ]
    }
   ],
   "source": [
    "(n, p) = dat1.loc[:, 'SolarR':'Day'].shape\n",
    "print('n = {}\\np = {}'.format(n, p))"
   ]
  },
  {
   "cell_type": "markdown",
   "metadata": {},
   "source": [
    "Enfin, vérifions que la matrice $X$ est bien de **plein rang**, i.e. $\\text{rang}(X)=p+1$:"
   ]
  },
  {
   "cell_type": "code",
   "execution_count": 14,
   "metadata": {
    "collapsed": false
   },
   "outputs": [
    {
     "name": "stdout",
     "output_type": "stream",
     "text": [
      "Rang de X = 6\n"
     ]
    }
   ],
   "source": [
    "X = np.hstack([np.ones((n, 1)), dat1.loc[:, 'SolarR':'Day']])\n",
    "print('Rang de X = {}'.format(np.linalg.matrix_rank(X)))"
   ]
  },
  {
   "cell_type": "markdown",
   "metadata": {},
   "source": [
    "### Question 1.4"
   ]
  },
  {
   "cell_type": "markdown",
   "metadata": {},
   "source": [
    "On ajuste le modèle par la méthode des moindres carrés, avec réduction et centrage des variables explicatives.  \n",
    "*Note 1 : la formule ajoute une constante par défaut, aussi le '1 +' n'est là que pour clarifier nos intentions d'avoir une constante.*  \n",
    "*Note 2 : on ne centre-réduit pas la variable à prédire.*"
   ]
  },
  {
   "cell_type": "code",
   "execution_count": 15,
   "metadata": {
    "collapsed": true
   },
   "outputs": [],
   "source": [
    "regression1 = smf.ols('Ozone ~ 1 + standardize(SolarR) + standardize(Wind) +' +\n",
    "                      ' standardize(Temp) + standardize(Month) +' +\n",
    "                      ' standardize(Day)',\n",
    "                      data=dat1).fit()"
   ]
  },
  {
   "cell_type": "markdown",
   "metadata": {},
   "source": [
    "### Question 1.5"
   ]
  },
  {
   "cell_type": "markdown",
   "metadata": {},
   "source": [
    "L'estimateur des coefficients selon le modèle des moindres carrés est :"
   ]
  },
  {
   "cell_type": "code",
   "execution_count": 16,
   "metadata": {
    "collapsed": false
   },
   "outputs": [
    {
     "name": "stdout",
     "output_type": "stream",
     "text": [
      "Intercept              42.09910\n",
      "standardize(SolarR)     4.56193\n",
      "standardize(Wind)     -11.75277\n",
      "standardize(Temp)      17.98522\n",
      "standardize(Month)     -4.45895\n",
      "standardize(Day)        2.37394\n",
      "dtype: float64\n"
     ]
    }
   ],
   "source": [
    "print(regression1.params)"
   ]
  },
  {
   "cell_type": "markdown",
   "metadata": {},
   "source": [
    "Notons d'abord un résultat préliminaire :  \n",
    "Comme $y = X\\theta^*+\\epsilon$, que $X,\\theta^*$ ne sont pas aléatoires et que $\\mathbb{E}[\\epsilon]=0$ :\n",
    "\\begin{equation}\n",
    "\\mathbb{E}[yy^T] = \\mathbb{E}[\\epsilon\\epsilon^T] = \\sigma² I_n\n",
    "\\end{equation} \n"
   ]
  },
  {
   "cell_type": "markdown",
   "metadata": {},
   "source": [
    "Notons $r = y - \\widehat{y}$ les résidus, où $\\widehat{y} = X\\widehat{\\theta} = X(X^TX)^{-1}X^Ty = H_X y$.  \n",
    "Rappelons que $H_X$ correspond à la projection sur l'espace engendré par les colonnes de $X$.  \n",
    "Considérons l'estimateur de la variance du bruit suivant :  \n",
    "$$\\widehat{\\sigma}^2 = \\frac{ ||r||²}{n-p-1}$$  "
   ]
  },
  {
   "cell_type": "markdown",
   "metadata": {},
   "source": [
    "Vérifions qu'il est sans biais :\n",
    "\\begin{equation}\n",
    "\\begin{split}\n",
    "\\mathbb{E}[\\widehat{\\sigma}²] & = \\frac{1}{n-p-1} \\mathbb{E}[r^Tr] \\\\\n",
    "& = \\frac{1}{n-p-1} \\mathbb{E}[(y - H_X y)^T(y - H_X y)] \\\\\n",
    "& = \\frac{1}{n-p-1} \\mathbb{E}[y^T(I_n - H_X)^T(I_n - H_X)y] \\\\\n",
    "& = \\frac{1}{n-p-1} \\text{tr}\\space\\mathbb{E}[y^T(I_n - H_X)^T(I_n - H_X)y] \\space \\text{car la trace d'un réel est égale à lui-même} \\\\\n",
    "& = \\frac{1}{n-p-1} \\mathbb{E}[\\text{tr}(y^T(I_n - H_X)^T(I_n - H_X)y)] \\space\\textrm{car la trace est linéaire} \\\\\n",
    "& = \\frac{1}{n-p-1} \\mathbb{E}[\\text{tr}((I_n - H_X)yy^T(I_n - H_X)^T)] \\space\\text{puisqe tr}(AB) = \\text{tr}(BA) \\\\\n",
    "& = \\frac{1}{n-p-1} \\text{tr}\\mathbb{E}[(I_n - H_X)yy^T(I_n - H_X)^T] \\space\\text{toujours puisque la trace est linéaire} \\\\\n",
    "& = \\frac{1}{n-p-1} \\text{tr}((I_n - H_X)\\mathbb{E}[yy^T](I_n - H_X)^T) \\space\\text{car }I_n \\text{et} H_X \\text{ne sont pas aléatoires} \\\\\n",
    "& = \\frac{\\sigma²}{n-p-1} \\text{tr}((I_n - H_X)(I_n - H_X)^T) \\space\\text{d'après le résultat préliminaire} \\\\\n",
    "& = \\frac{\\sigma²}{n-p-1} \\text{tr}(I_n - H_X) \\space\\text{puisque }I_n - H_X\\text{ est un projecteur orthogonal donc symétrique et idempotent} \\\\\n",
    "& = \\frac{\\sigma²}{n-p-1}(n - (p+1)) \\space\\text{puisque } X \\text{ est de plein rang, que la trace d'un projecteur est égale à son rang, et que rg}(H_X) = \\text{rg}(X) \\\\\n",
    "& = \\sigma²\n",
    "\\end{split}\n",
    "\\end{equation}"
   ]
  },
  {
   "cell_type": "markdown",
   "metadata": {},
   "source": [
    "Calculons numériquement $\\widehat{\\sigma}²$ :"
   ]
  },
  {
   "cell_type": "code",
   "execution_count": 17,
   "metadata": {
    "collapsed": false
   },
   "outputs": [
    {
     "name": "stdout",
     "output_type": "stream",
     "text": [
      "Estimation de la variance du bruit : 435.07549\n"
     ]
    }
   ],
   "source": [
    "r = regression1.resid\n",
    "sigmaHat_sq = r.T.dot(r) / (n - p - 1)\n",
    "print(\"Estimation de la variance du bruit : {:0.5f}\".format(sigmaHat_sq))"
   ]
  },
  {
   "cell_type": "markdown",
   "metadata": {},
   "source": [
    "Remarquons que le package *statsmodels* nous donne directement la valeur avec la *mean sqared error* :"
   ]
  },
  {
   "cell_type": "code",
   "execution_count": 18,
   "metadata": {
    "collapsed": false
   },
   "outputs": [
    {
     "name": "stdout",
     "output_type": "stream",
     "text": [
      "MSE = 435.07549\n"
     ]
    }
   ],
   "source": [
    "print(\"MSE = {:0.5f}\".format(regression1.mse_resid))"
   ]
  },
  {
   "cell_type": "markdown",
   "metadata": {},
   "source": [
    "### Question 1.6 "
   ]
  },
  {
   "cell_type": "markdown",
   "metadata": {},
   "source": [
    "Puisque :\n",
    "$$\\forall u \\in \\mathbb{R}^{p+1}, \\frac{u^T(\\widehat{\\theta} - \\theta^*)}{\\widehat{\\sigma}\\sqrt{u^T(X^T X)^{-1}u}} \\sim \\mathcal{T}_{n-p-1}$$\n",
    "Alors on a en particulier pour tout vecteur de la base orthonormée $e^{(i)} \\in \\mathbb{R}^{p+1}$ défini par \n",
    "$\\forall k \\in \\{1, ...,p+1\\}, e^{(i)}_k = \\delta^i_k$ :\n",
    "$$\\frac{{e^{(i)}}^T(\\widehat{\\theta} - \\theta^*)}{\\widehat{\\sigma}\\sqrt{{e^{(i)}}^T(X^T X)^{-1}e^{(i)}}} \\sim \\mathcal{T}_{n-p-1}$$\n",
    "$$\\frac{\\widehat{\\theta}_i - \\theta^*_i}{\\widehat{\\sigma}\\sqrt{(X^T X)^{-1}_{i,i}}} \\sim \\mathcal{T}_{n-p-1}$$\n",
    "Alors, en notant $t_{1 - \\alpha/2}$ le quantile d'ordre $1 - \\alpha/2$ de cette loi de Student, on a pour tout $\\theta^*_i$ l'intervalle de confiance suivant :\n",
    "$$\\left[\\widehat{\\theta}_i - \\widehat{\\sigma}\\sqrt{(X^T X)^{-1}_{i,i}}t_{1 - \\alpha/2} \\space , \\space \\widehat{\\theta}_i + \\widehat{\\sigma}\\sqrt{(X^T X)^{-1}_{i,i}}t_{1 - \\alpha/2}\\right]$$"
   ]
  },
  {
   "cell_type": "markdown",
   "metadata": {},
   "source": [
    "Réglons le niveau de $\\alpha = 1\\%$ (soit un intervalle de confiance à 99%)."
   ]
  },
  {
   "cell_type": "code",
   "execution_count": 19,
   "metadata": {
    "collapsed": true
   },
   "outputs": [],
   "source": [
    "alpha = 0.01"
   ]
  },
  {
   "cell_type": "markdown",
   "metadata": {},
   "source": [
    "En utilisant les fonctions du package *statsmodels* :"
   ]
  },
  {
   "cell_type": "code",
   "execution_count": 20,
   "metadata": {
    "collapsed": false
   },
   "outputs": [
    {
     "data": {
      "text/html": [
       "<div>\n",
       "<table border=\"1\" class=\"dataframe\">\n",
       "  <thead>\n",
       "    <tr style=\"text-align: right;\">\n",
       "      <th></th>\n",
       "      <th>0</th>\n",
       "      <th>1</th>\n",
       "    </tr>\n",
       "  </thead>\n",
       "  <tbody>\n",
       "    <tr>\n",
       "      <th>Intercept</th>\n",
       "      <td>36.90517</td>\n",
       "      <td>47.29303</td>\n",
       "    </tr>\n",
       "    <tr>\n",
       "      <th>standardize(SolarR)</th>\n",
       "      <td>-1.01299</td>\n",
       "      <td>10.13685</td>\n",
       "    </tr>\n",
       "    <tr>\n",
       "      <th>standardize(Wind)</th>\n",
       "      <td>-17.74117</td>\n",
       "      <td>-5.76437</td>\n",
       "    </tr>\n",
       "    <tr>\n",
       "      <th>standardize(Temp)</th>\n",
       "      <td>11.16854</td>\n",
       "      <td>24.80190</td>\n",
       "    </tr>\n",
       "    <tr>\n",
       "      <th>standardize(Month)</th>\n",
       "      <td>-10.28281</td>\n",
       "      <td>1.36491</td>\n",
       "    </tr>\n",
       "    <tr>\n",
       "      <th>standardize(Day)</th>\n",
       "      <td>-2.84875</td>\n",
       "      <td>7.59663</td>\n",
       "    </tr>\n",
       "  </tbody>\n",
       "</table>\n",
       "</div>"
      ],
      "text/plain": [
       "                            0         1\n",
       "Intercept            36.90517  47.29303\n",
       "standardize(SolarR)  -1.01299  10.13685\n",
       "standardize(Wind)   -17.74117  -5.76437\n",
       "standardize(Temp)    11.16854  24.80190\n",
       "standardize(Month)  -10.28281   1.36491\n",
       "standardize(Day)     -2.84875   7.59663"
      ]
     },
     "execution_count": 20,
     "metadata": {},
     "output_type": "execute_result"
    }
   ],
   "source": [
    "regression1.conf_int(alpha=alpha)"
   ]
  },
  {
   "cell_type": "markdown",
   "metadata": {},
   "source": [
    "En utilisant directement la formule ci-dessus, on trouve évidemment la même chose :"
   ]
  },
  {
   "cell_type": "code",
   "execution_count": 21,
   "metadata": {
    "collapsed": false
   },
   "outputs": [
    {
     "data": {
      "text/html": [
       "<div>\n",
       "<table border=\"1\" class=\"dataframe\">\n",
       "  <thead>\n",
       "    <tr style=\"text-align: right;\">\n",
       "      <th></th>\n",
       "      <th>LowerBound</th>\n",
       "      <th>UpperBound</th>\n",
       "    </tr>\n",
       "  </thead>\n",
       "  <tbody>\n",
       "    <tr>\n",
       "      <th>Intercept</th>\n",
       "      <td>36.90517</td>\n",
       "      <td>47.29303</td>\n",
       "    </tr>\n",
       "    <tr>\n",
       "      <th>standardize(SolarR)</th>\n",
       "      <td>-1.01299</td>\n",
       "      <td>10.13685</td>\n",
       "    </tr>\n",
       "    <tr>\n",
       "      <th>standardize(Wind)</th>\n",
       "      <td>-17.74117</td>\n",
       "      <td>-5.76437</td>\n",
       "    </tr>\n",
       "    <tr>\n",
       "      <th>standardize(Temp)</th>\n",
       "      <td>11.16854</td>\n",
       "      <td>24.80190</td>\n",
       "    </tr>\n",
       "    <tr>\n",
       "      <th>standardize(Month)</th>\n",
       "      <td>-10.28281</td>\n",
       "      <td>1.36491</td>\n",
       "    </tr>\n",
       "    <tr>\n",
       "      <th>standardize(Day)</th>\n",
       "      <td>-2.84875</td>\n",
       "      <td>7.59663</td>\n",
       "    </tr>\n",
       "  </tbody>\n",
       "</table>\n",
       "</div>"
      ],
      "text/plain": [
       "                     LowerBound  UpperBound\n",
       "Intercept              36.90517    47.29303\n",
       "standardize(SolarR)    -1.01299    10.13685\n",
       "standardize(Wind)     -17.74117    -5.76437\n",
       "standardize(Temp)      11.16854    24.80190\n",
       "standardize(Month)    -10.28281     1.36491\n",
       "standardize(Day)       -2.84875     7.59663"
      ]
     },
     "execution_count": 21,
     "metadata": {},
     "output_type": "execute_result"
    }
   ],
   "source": [
    "# On doit centrer et réduire X:\n",
    "X[:, 1:] = scale(X[:, 1:])\n",
    "XXTinv = np.linalg.inv(X.T.dot(X))\n",
    "intervals1 = pd.DataFrame([regression1.params[:], regression1.params[:]],\n",
    "                          index=['LowerBound', 'UpperBound']).T\n",
    "w = np.sqrt(sigmaHat_sq * XXTinv.diagonal()) * t.ppf(1 - alpha / 2, df=n-p-1)\n",
    "intervals1.LowerBound -= w\n",
    "intervals1.UpperBound += w\n",
    "intervals1"
   ]
  },
  {
   "cell_type": "markdown",
   "metadata": {},
   "source": [
    "### Question 1.7"
   ]
  },
  {
   "cell_type": "markdown",
   "metadata": {},
   "source": [
    "On remarque que les intervalles de confiance à 99% des coefficients associés aux variables *Month* et *Day* contiennent la valeur zéro. **On ne peut donc pas rejeter l'hypothèse que leur coefficient est nul** (c'est-à-dire que les variables n'ont aucune influence sur les observations).  \n",
    "*Remarquons que la variable *SolarR* est dans la même situation*."
   ]
  },
  {
   "cell_type": "markdown",
   "metadata": {},
   "source": [
    "### Question 1.8"
   ]
  },
  {
   "cell_type": "code",
   "execution_count": 22,
   "metadata": {
    "collapsed": false
   },
   "outputs": [
    {
     "name": "stdout",
     "output_type": "stream",
     "text": [
      "Prédiction de la nouvelle observation = 36.46234\n"
     ]
    }
   ],
   "source": [
    "obs1 = pd.DataFrame({'SolarR': [197], 'Wind': [10], 'Temp': [70],\n",
    "                     'Day': [1], 'Month': [3]})\n",
    "print(\"Prédiction de la nouvelle observation = {:.5f}\".format(\n",
    "        regression1.predict(obs1)[0]))"
   ]
  },
  {
   "cell_type": "markdown",
   "metadata": {},
   "source": [
    "***"
   ]
  },
  {
   "cell_type": "markdown",
   "metadata": {},
   "source": [
    "## Exercice 2"
   ]
  },
  {
   "cell_type": "markdown",
   "metadata": {},
   "source": [
    "### Question 2.1"
   ]
  },
  {
   "cell_type": "markdown",
   "metadata": {},
   "source": [
    "Dans cet exercice, nous utilisons directement la version centrée réduite des variables explicatives calculée dans la question 1.6."
   ]
  },
  {
   "cell_type": "code",
   "execution_count": 23,
   "metadata": {
    "collapsed": false
   },
   "outputs": [
    {
     "name": "stdout",
     "output_type": "stream",
     "text": [
      "Moyennes des colonnes de X :\n",
      " [  1.00000000e+00  -1.50530239e-16   2.94559172e-16  -2.40048222e-16\n",
      "   2.24045007e-16   1.20024111e-17]\n",
      "Variances des colonnes de X :\n",
      " [ 0.  1.  1.  1.  1.  1.]\n"
     ]
    }
   ],
   "source": [
    "y = dat1[['Ozone']]\n",
    "print(\"Moyennes des colonnes de X :\\n {}\".format(X.mean(axis=0)))\n",
    "print(\"Variances des colonnes de X :\\n {}\".format(X.var(axis=0)))"
   ]
  },
  {
   "cell_type": "markdown",
   "metadata": {},
   "source": [
    "Par ailleurs, puisqu'il s'agit de réaliser un grand nombre d'itérations, nous utiliserons la librairie  *sklearn.linear_model.LinearRegression* qui apparaît plus rapide que *statsmodels* pour le calcul des coefficients de régression :  \n",
    "*Sur mon PC, j'obtiens un temps de calculs double pour sm.OLS (741 microsecondes) vs. linear_model.LinearRegression (357 microsecondes).*"
   ]
  },
  {
   "cell_type": "code",
   "execution_count": 24,
   "metadata": {
    "collapsed": false
   },
   "outputs": [
    {
     "name": "stdout",
     "output_type": "stream",
     "text": [
      "The slowest run took 5.93 times longer than the fastest. This could mean that an intermediate result is being cached \n",
      "1000 loops, best of 3: 225 µs per loop\n"
     ]
    }
   ],
   "source": [
    "%timeit linear_model.LinearRegression(fit_intercept=False).fit(X, y).coef_"
   ]
  },
  {
   "cell_type": "code",
   "execution_count": 25,
   "metadata": {
    "collapsed": false
   },
   "outputs": [
    {
     "name": "stdout",
     "output_type": "stream",
     "text": [
      "1000 loops, best of 3: 460 µs per loop\n"
     ]
    }
   ],
   "source": [
    "%timeit sm.OLS(y, X, hasconst=True).fit().params"
   ]
  },
  {
   "cell_type": "code",
   "execution_count": 26,
   "metadata": {
    "collapsed": true
   },
   "outputs": [],
   "source": [
    "def getResampledCoefs(Xy, model):\n",
    "    \"\"\" Returns an array of B OLS coefficients \"\"\"\n",
    "    Xy_r = resample(Xy)\n",
    "    Xy_split = np.split(Xy_r, [-1], axis=1)\n",
    "    X = Xy_split[0]\n",
    "    y = Xy_split[1]\n",
    "    coefs = model.fit(X, y).coef_[0]\n",
    "    return coefs"
   ]
  },
  {
   "cell_type": "markdown",
   "metadata": {},
   "source": [
    "Suivons les recommandations de l'énoncé sur le nombre $B$ d'échantillons puis calculons les estimations des paramètres que l'on stocke dans un tableau **coefs_boostrap** :  "
   ]
  },
  {
   "cell_type": "code",
   "execution_count": 27,
   "metadata": {
    "collapsed": true
   },
   "outputs": [],
   "source": [
    "B = 10000\n",
    "Xy = np.hstack([X, y])\n",
    "model = linear_model.LinearRegression(fit_intercept=False)\n",
    "\n",
    "coefs_bootstrap = pd.DataFrame(\n",
    "    [getResampledCoefs(Xy, model) for i in range(B)])\n",
    "coefs_bootstrap.columns = regression1.params.index"
   ]
  },
  {
   "cell_type": "code",
   "execution_count": 28,
   "metadata": {
    "collapsed": false
   },
   "outputs": [
    {
     "data": {
      "text/html": [
       "<div>\n",
       "<table border=\"1\" class=\"dataframe\">\n",
       "  <thead>\n",
       "    <tr style=\"text-align: right;\">\n",
       "      <th></th>\n",
       "      <th>Intercept</th>\n",
       "      <th>standardize(SolarR)</th>\n",
       "      <th>standardize(Wind)</th>\n",
       "      <th>standardize(Temp)</th>\n",
       "      <th>standardize(Month)</th>\n",
       "      <th>standardize(Day)</th>\n",
       "    </tr>\n",
       "  </thead>\n",
       "  <tbody>\n",
       "    <tr>\n",
       "      <th>0</th>\n",
       "      <td>42.75348</td>\n",
       "      <td>4.97762</td>\n",
       "      <td>-11.94471</td>\n",
       "      <td>17.93701</td>\n",
       "      <td>-6.65306</td>\n",
       "      <td>3.72451</td>\n",
       "    </tr>\n",
       "    <tr>\n",
       "      <th>1</th>\n",
       "      <td>36.52191</td>\n",
       "      <td>2.82845</td>\n",
       "      <td>-8.65611</td>\n",
       "      <td>16.53341</td>\n",
       "      <td>-4.47848</td>\n",
       "      <td>3.14844</td>\n",
       "    </tr>\n",
       "    <tr>\n",
       "      <th>2</th>\n",
       "      <td>40.15031</td>\n",
       "      <td>3.66261</td>\n",
       "      <td>-11.22736</td>\n",
       "      <td>18.55668</td>\n",
       "      <td>-2.16669</td>\n",
       "      <td>-0.49952</td>\n",
       "    </tr>\n",
       "    <tr>\n",
       "      <th>3</th>\n",
       "      <td>41.31967</td>\n",
       "      <td>5.51329</td>\n",
       "      <td>-7.78635</td>\n",
       "      <td>19.39258</td>\n",
       "      <td>-2.14167</td>\n",
       "      <td>4.53872</td>\n",
       "    </tr>\n",
       "    <tr>\n",
       "      <th>4</th>\n",
       "      <td>40.75958</td>\n",
       "      <td>4.28550</td>\n",
       "      <td>-11.83951</td>\n",
       "      <td>17.69238</td>\n",
       "      <td>-3.69576</td>\n",
       "      <td>0.08191</td>\n",
       "    </tr>\n",
       "  </tbody>\n",
       "</table>\n",
       "</div>"
      ],
      "text/plain": [
       "   Intercept  standardize(SolarR)  standardize(Wind)  standardize(Temp)  \\\n",
       "0   42.75348              4.97762          -11.94471           17.93701   \n",
       "1   36.52191              2.82845           -8.65611           16.53341   \n",
       "2   40.15031              3.66261          -11.22736           18.55668   \n",
       "3   41.31967              5.51329           -7.78635           19.39258   \n",
       "4   40.75958              4.28550          -11.83951           17.69238   \n",
       "\n",
       "   standardize(Month)  standardize(Day)  \n",
       "0            -6.65306           3.72451  \n",
       "1            -4.47848           3.14844  \n",
       "2            -2.16669          -0.49952  \n",
       "3            -2.14167           4.53872  \n",
       "4            -3.69576           0.08191  "
      ]
     },
     "execution_count": 28,
     "metadata": {},
     "output_type": "execute_result"
    }
   ],
   "source": [
    "coefs_bootstrap.head(5)"
   ]
  },
  {
   "cell_type": "markdown",
   "metadata": {},
   "source": [
    "Calculons les estimateurs demandés :"
   ]
  },
  {
   "cell_type": "code",
   "execution_count": 29,
   "metadata": {
    "collapsed": true
   },
   "outputs": [],
   "source": [
    "coefs_ests = pd.DataFrame({\n",
    "        'Classic': regression1.params,\n",
    "        'BsMean': coefs_bootstrap.mean(),\n",
    "        'BsMedian': coefs_bootstrap.median()\n",
    "    })\n",
    "coefs_ests['BsMean:Classic_RelDiff'] = \\\n",
    "    abs(coefs_ests.BsMean - coefs_ests.Classic) / coefs_ests.Classic\n",
    "coefs_ests['BsMedian:Classic_RelDiff'] = \\\n",
    "    abs(coefs_ests.BsMedian - coefs_ests.Classic) / coefs_ests.Classic"
   ]
  },
  {
   "cell_type": "code",
   "execution_count": 30,
   "metadata": {
    "collapsed": false
   },
   "outputs": [
    {
     "data": {
      "text/html": [
       "<div>\n",
       "<table border=\"1\" class=\"dataframe\">\n",
       "  <thead>\n",
       "    <tr style=\"text-align: right;\">\n",
       "      <th></th>\n",
       "      <th>BsMean</th>\n",
       "      <th>BsMedian</th>\n",
       "      <th>Classic</th>\n",
       "      <th>BsMean:Classic_RelDiff</th>\n",
       "      <th>BsMedian:Classic_RelDiff</th>\n",
       "    </tr>\n",
       "  </thead>\n",
       "  <tbody>\n",
       "    <tr>\n",
       "      <th>Intercept</th>\n",
       "      <td>41.99826</td>\n",
       "      <td>41.95275</td>\n",
       "      <td>42.09910</td>\n",
       "      <td>0.00240</td>\n",
       "      <td>0.00348</td>\n",
       "    </tr>\n",
       "    <tr>\n",
       "      <th>standardize(SolarR)</th>\n",
       "      <td>4.58583</td>\n",
       "      <td>4.53521</td>\n",
       "      <td>4.56193</td>\n",
       "      <td>0.00524</td>\n",
       "      <td>0.00586</td>\n",
       "    </tr>\n",
       "    <tr>\n",
       "      <th>standardize(Wind)</th>\n",
       "      <td>-11.91993</td>\n",
       "      <td>-11.75209</td>\n",
       "      <td>-11.75277</td>\n",
       "      <td>-0.01422</td>\n",
       "      <td>-0.00006</td>\n",
       "    </tr>\n",
       "    <tr>\n",
       "      <th>standardize(Temp)</th>\n",
       "      <td>18.00059</td>\n",
       "      <td>18.03866</td>\n",
       "      <td>17.98522</td>\n",
       "      <td>0.00085</td>\n",
       "      <td>0.00297</td>\n",
       "    </tr>\n",
       "    <tr>\n",
       "      <th>standardize(Month)</th>\n",
       "      <td>-4.44463</td>\n",
       "      <td>-4.48953</td>\n",
       "      <td>-4.45895</td>\n",
       "      <td>-0.00321</td>\n",
       "      <td>-0.00686</td>\n",
       "    </tr>\n",
       "    <tr>\n",
       "      <th>standardize(Day)</th>\n",
       "      <td>2.40015</td>\n",
       "      <td>2.40832</td>\n",
       "      <td>2.37394</td>\n",
       "      <td>0.01104</td>\n",
       "      <td>0.01448</td>\n",
       "    </tr>\n",
       "  </tbody>\n",
       "</table>\n",
       "</div>"
      ],
      "text/plain": [
       "                       BsMean  BsMedian   Classic  BsMean:Classic_RelDiff  \\\n",
       "Intercept            41.99826  41.95275  42.09910                 0.00240   \n",
       "standardize(SolarR)   4.58583   4.53521   4.56193                 0.00524   \n",
       "standardize(Wind)   -11.91993 -11.75209 -11.75277                -0.01422   \n",
       "standardize(Temp)    18.00059  18.03866  17.98522                 0.00085   \n",
       "standardize(Month)   -4.44463  -4.48953  -4.45895                -0.00321   \n",
       "standardize(Day)      2.40015   2.40832   2.37394                 0.01104   \n",
       "\n",
       "                     BsMedian:Classic_RelDiff  \n",
       "Intercept                             0.00348  \n",
       "standardize(SolarR)                   0.00586  \n",
       "standardize(Wind)                    -0.00006  \n",
       "standardize(Temp)                     0.00297  \n",
       "standardize(Month)                   -0.00686  \n",
       "standardize(Day)                      0.01448  "
      ]
     },
     "execution_count": 30,
     "metadata": {},
     "output_type": "execute_result"
    }
   ],
   "source": [
    "coefs_ests"
   ]
  },
  {
   "cell_type": "markdown",
   "metadata": {},
   "source": [
    "### Question 2.2"
   ]
  },
  {
   "cell_type": "code",
   "execution_count": 31,
   "metadata": {
    "collapsed": false
   },
   "outputs": [
    {
     "data": {
      "text/html": [
       "<div>\n",
       "<table border=\"1\" class=\"dataframe\">\n",
       "  <thead>\n",
       "    <tr style=\"text-align: right;\">\n",
       "      <th></th>\n",
       "      <th>LowerBound</th>\n",
       "      <th>UpperBound</th>\n",
       "    </tr>\n",
       "  </thead>\n",
       "  <tbody>\n",
       "    <tr>\n",
       "      <th>Intercept</th>\n",
       "      <td>37.00005</td>\n",
       "      <td>47.48953</td>\n",
       "    </tr>\n",
       "    <tr>\n",
       "      <th>standardize(SolarR)</th>\n",
       "      <td>-0.22650</td>\n",
       "      <td>9.80585</td>\n",
       "    </tr>\n",
       "    <tr>\n",
       "      <th>standardize(Wind)</th>\n",
       "      <td>-20.59888</td>\n",
       "      <td>-5.06770</td>\n",
       "    </tr>\n",
       "    <tr>\n",
       "      <th>standardize(Temp)</th>\n",
       "      <td>12.16096</td>\n",
       "      <td>23.46365</td>\n",
       "    </tr>\n",
       "    <tr>\n",
       "      <th>standardize(Month)</th>\n",
       "      <td>-9.49028</td>\n",
       "      <td>0.71321</td>\n",
       "    </tr>\n",
       "    <tr>\n",
       "      <th>standardize(Day)</th>\n",
       "      <td>-3.26117</td>\n",
       "      <td>7.96338</td>\n",
       "    </tr>\n",
       "  </tbody>\n",
       "</table>\n",
       "</div>"
      ],
      "text/plain": [
       "                     LowerBound  UpperBound\n",
       "Intercept              37.00005    47.48953\n",
       "standardize(SolarR)    -0.22650     9.80585\n",
       "standardize(Wind)     -20.59888    -5.06770\n",
       "standardize(Temp)      12.16096    23.46365\n",
       "standardize(Month)     -9.49028     0.71321\n",
       "standardize(Day)       -3.26117     7.96338"
      ]
     },
     "execution_count": 31,
     "metadata": {},
     "output_type": "execute_result"
    }
   ],
   "source": [
    "intervalsBs = pd.DataFrame(\n",
    "    data=mquantiles(coefs_bootstrap, prob=[0.005, 0.995], axis=0).T,\n",
    "    columns=['LowerBound', 'UpperBound'],\n",
    "    index=coefs_ests.index)\n",
    "intervalsBs"
   ]
  },
  {
   "cell_type": "markdown",
   "metadata": {},
   "source": [
    "### Question 2.3"
   ]
  },
  {
   "cell_type": "code",
   "execution_count": 32,
   "metadata": {
    "collapsed": true
   },
   "outputs": [],
   "source": [
    "def windBounds(B):\n",
    "    \"\"\" Returns the lower and upper bound of the CI for Wind \"\"\"\n",
    "    sample = coefs_bootstrap.loc[:B+1, 'standardize(Wind)']\n",
    "    qs = mquantiles(sample, prob=[0.005, 0.995])\n",
    "    med = sample.median()\n",
    "    return qs[0], qs[1], med"
   ]
  },
  {
   "cell_type": "code",
   "execution_count": 33,
   "metadata": {
    "collapsed": false
   },
   "outputs": [],
   "source": [
    "Bs = range(1, 5002, 500)\n",
    "CIsMed = [windBounds(B) for B in Bs]\n",
    "lCIsMed = list(zip(*CIsMed))\n",
    "lower = lCIsMed[0]\n",
    "upper = lCIsMed[1]\n",
    "med = lCIsMed[2]"
   ]
  },
  {
   "cell_type": "code",
   "execution_count": 34,
   "metadata": {
    "collapsed": false
   },
   "outputs": [
    {
     "data": {
      "image/png": "[encoded data removed]",
      "text/plain": [
       "<matplotlib.figure.Figure at 0x7fa1debe22e8>"
      ]
     },
     "metadata": {},
     "output_type": "display_data"
    }
   ],
   "source": [
    "plt.plot(Bs, upper, '--k')\n",
    "plt.plot(Bs, med, '-b')\n",
    "plt.plot(Bs, lower, '--k')\n",
    "plt.title('Confidence Intervals for Wind variable'\n",
    "          'for different bootstrap samples sizes')\n",
    "plt.xlabel('B')\n",
    "plt.ylabel('standardize(Wind)')\n",
    "plt.xlim(0, 5002)\n",
    "plt.legend(['99% CI', 'Median'], loc=10)\n",
    "plt.tight_layout()"
   ]
  },
  {
   "cell_type": "markdown",
   "metadata": {},
   "source": [
    "### Question 2.4"
   ]
  },
  {
   "cell_type": "code",
   "execution_count": 35,
   "metadata": {
    "collapsed": false
   },
   "outputs": [
    {
     "name": "stderr",
     "output_type": "stream",
     "text": [
      "/usr/lib/python3.5/site-packages/matplotlib/__init__.py:892: UserWarning: axes.color_cycle is deprecated and replaced with axes.prop_cycle; please use the latter.\n",
      "  warnings.warn(self.msg_depr % (key, alt_key))\n"
     ]
    },
    {
     "data": {
      "text/plain": [
       "<seaborn.axisgrid.FacetGrid at 0x7fa1dee50b38>"
      ]
     },
     "execution_count": 35,
     "metadata": {},
     "output_type": "execute_result"
    },
    {
     "data": {
      "image/png": "[encoded data removed]",
      "text/plain": [
       "<matplotlib.figure.Figure at 0x7fa1dee50e10>"
      ]
     },
     "metadata": {},
     "output_type": "display_data"
    }
   ],
   "source": [
    "sns.lmplot(data=dat1, x='Wind', y='Ozone', hue='Month',\n",
    "           col='Month', col_wrap=2, ci=99)"
   ]
  },
  {
   "cell_type": "markdown",
   "metadata": {},
   "source": [
    "**Le mois de juin (mois numéro 6) semble atypique** puisque c'est le seul où le vent a une influence positive (pente positive) sur la concentration en ozone.  \n",
    "On note cependant également que ce mois a également un intervalle de confiance plus élargi que les autres. En particulier, on ne peut pas rejeter l'hypothèse comme quoi le coefficient est en réalité négatif ou nul."
   ]
  },
  {
   "cell_type": "markdown",
   "metadata": {},
   "source": [
    "***"
   ]
  },
  {
   "cell_type": "markdown",
   "metadata": {},
   "source": [
    "## Excercice 3"
   ]
  },
  {
   "cell_type": "markdown",
   "metadata": {},
   "source": [
    "### Question 3.1"
   ]
  },
  {
   "cell_type": "code",
   "execution_count": 36,
   "metadata": {
    "collapsed": true
   },
   "outputs": [],
   "source": [
    "def stpforward(y, X, M, addIntercept=True):\n",
    "    \"\"\"\n",
    "    Implementation de l'algorithme forward stage-wise selection\n",
    "    ou Orthogonal Matching Mursuite\n",
    "    Arguments:\n",
    "    ----------\n",
    "    y : a numpy array of shape (n, 1)\n",
    "    X : a numpy array of shape (n, p)\n",
    "    M : number of variables we want to select\n",
    "        M needs to be less of equal to the number of X columns\n",
    "    addIntercept : True if we want to fit an intercept\n",
    "    Returns:\n",
    "    --------\n",
    "    theta : a numpy (p,) array\n",
    "    S : the list of column indexes selected\n",
    "    theta_0 : the intercept value\n",
    "             (will be 0.0 if addIntercept=False)\n",
    "    \"\"\"\n",
    "    (n, p) = X.shape\n",
    "    if M > p:\n",
    "        raise ValueError('M cannot be larger than '\n",
    "                         'the number of X columns!')\n",
    "    theta = np.zeros((p,))\n",
    "    r = y\n",
    "    S = []\n",
    "    for i in range(M):\n",
    "        jmax = -1\n",
    "        alphajmax = -1\n",
    "        for j in (k for k in range(p) if k not in S):\n",
    "            alphaj = abs(X[:, j].T.dot(r))\n",
    "            if alphaj > alphajmax:\n",
    "                jmax = j\n",
    "                alphajmax = alphaj\n",
    "        S.append(jmax)\n",
    "        regression = linear_model.LinearRegression(\n",
    "            fit_intercept=addIntercept).fit(X[:, S], y)\n",
    "        theta_int = regression.coef_.T\n",
    "        theta_0 = regression.intercept_  # equals 0 if no intercept\n",
    "        r = y - X[:, S].dot(theta_int) - theta_0\n",
    "    theta[S] = theta_int.reshape((M,))\n",
    "    return theta, S, theta_0"
   ]
  },
  {
   "cell_type": "markdown",
   "metadata": {},
   "source": [
    "### Question 3.2"
   ]
  },
  {
   "cell_type": "markdown",
   "metadata": {},
   "source": [
    "Afin de produire une classe utile pour notre  exercice, nous avons fait les principales modifications suivantes :\n",
    "\n",
    "* remplacement de *normalize=True* (qui ne fonctionne a priori pas) par ***standardize=True* pour indiquer si l'on souhaite ou non centrer-réduire les variables explicatives et implémentation d'une méthode qui effectue l'opération** ;\n",
    "* suppression de l'appel à la fonction *_pre_fit* qui ne nous intéresse pas (nous ne nous servirons que de notre fonction *stpforward*) et donc suppression de la variable *precompute='auto'* ;\n",
    "* gestion du parmètre n_non_zero_coefs qui doit être compris entre 1 et p. Ce paramètre correspond à la variable *M* de la fonction précédente ;\n",
    "* gestion des inputs afin que soient acceptés des DataFrames, des Array et des Series (pour le y) et que les noms de variables soient conservés pour la sortie (c'est quand même plus explicite que des numéros !) ;\n",
    "* création d'une méthode *predict* permettant de faire des prédictions (prenant en compte le fait que l'on ait ou non réduit les variables explicatives)."
   ]
  },
  {
   "cell_type": "code",
   "execution_count": 37,
   "metadata": {
    "collapsed": false
   },
   "outputs": [],
   "source": [
    "class MYOMP(LinearModel, RegressorMixin):\n",
    "    \"\"\"\n",
    "    Main class attributes (self.)\n",
    "    -----------------------------\n",
    "    n, p : sample size, number of features\n",
    "    X_mask : mask which ignores constant columns\n",
    "    X_mean : mean of each column\n",
    "    X_std : std of each column\n",
    "    X_names : features names\n",
    "    y_name : name of the predicted variable\n",
    "    standardize : if True will standardize the explicative variables\n",
    "    fit_intercept : if True will fit an intercept\n",
    "    n_nonzero_coefs : number of features we want to keep\n",
    "    nonzero_coefs : list of index of features kept\n",
    "    coef_ : vector of fitted parameters\n",
    "    intercept_ : value of the intercept\n",
    "    \"\"\"\n",
    "\n",
    "    def __init__(self, n_nonzero_coefs=None, fit_intercept=True,\n",
    "                 standardize=True):\n",
    "        self.n_nonzero_coefs = n_nonzero_coefs\n",
    "        self.fit_intercept = fit_intercept\n",
    "        self.standardize = standardize\n",
    "\n",
    "    def standardizeX(self, X):\n",
    "        \"\"\"\n",
    "        Substract to each column of X its mean and divides it by\n",
    "        its standrd deviation.\n",
    "        It should ignore constant columns thanks to the X_mask.\n",
    "        It also modify the X variable names by adding a 'std' in\n",
    "        front.\n",
    "        \"\"\"\n",
    "        X[:, self.X_mask] = \\\n",
    "            (X[:, self.X_mask] - self.X_mean[self.X_mask]) \\\n",
    "            / self.X_std[self.X_mask]\n",
    "        newNames = []\n",
    "        for i, name in enumerate(self.X_names):\n",
    "            if self.X_mask[i]:\n",
    "                newNames.append('std(' + name + ')')\n",
    "            else:\n",
    "                newNames.append(name)\n",
    "        self.X_names = np.array(newNames)\n",
    "        return X\n",
    "\n",
    "    def preprocess(self, X, y):\n",
    "        \"\"\"\n",
    "        Extracts information about the input, such as:\n",
    "        - variables names (useful when working with Pandas),\n",
    "        - mean, standard deviation (for scaling and reverse\n",
    "          scaling for prediction)\n",
    "        Formats data as numpy array for computations\n",
    "        Standardizes data if necessary\n",
    "        \"\"\"\n",
    "        self.n, self.p = X.shape\n",
    "\n",
    "        # We try X as a pandas dataframe\n",
    "        if isinstance(X, pd.core.frame.DataFrame):\n",
    "            self.X_names = np.array(X.columns)\n",
    "            X = X.values\n",
    "        else:\n",
    "            X = np.array(X)\n",
    "            self.X_names = np.array(['x' + str(i) for i in range(p)])\n",
    "\n",
    "        # We try y as a pandas DataFrame of Series\n",
    "        if isinstance(y, pd.core.frame.DataFrame):\n",
    "            self.y_name = np.array(y.columns)\n",
    "            y = y.values\n",
    "        elif isinstance(y, pd.core.series.Series):\n",
    "            self.y_name = np.array([y.name])\n",
    "            y = y.values\n",
    "        else:\n",
    "            self.y = np.array(y)\n",
    "            self.y_name = np.array(['y'])\n",
    "        y = y.reshape((self.n, 1))\n",
    "\n",
    "        self.X_std = X.std(axis=0)\n",
    "        self.X_mean = X.mean(axis=0)\n",
    "        self.X_mask = np.array([True] * self.p)\n",
    "        # If a column is constant (std = 0), it is set to ones.\n",
    "        for i, s in enumerate(self.X_std):\n",
    "            if s == 0:\n",
    "                X[:, i] = 1\n",
    "                self.X_mask[i] = False\n",
    "\n",
    "        if self.standardize:\n",
    "            X = self.standardizeX(X)\n",
    "\n",
    "        return X, y\n",
    "\n",
    "    def fit(self, X, y):\n",
    "        \"\"\"Fit the model using X, y as training data.\n",
    "        Parameters\n",
    "        ----------\n",
    "        X : either a Numpy Array of a Pandas Dataframe of shape (n, p)\n",
    "        y : a Numpy Array, a Pandas Dataframe of Series of shape (n,) or (n, 1)\n",
    "        Returns\n",
    "        -------\n",
    "        self : object\n",
    "            returns an instance of self.\n",
    "        \"\"\"\n",
    "        X, y = self.preprocess(X, y)\n",
    "\n",
    "        if self.n_nonzero_coefs not in range(1, self.p + 1):\n",
    "            raise ValueError('Number of features to select must'\n",
    "                             'be comprised between 1 and ' + str(self.p))\n",
    "\n",
    "        self.coef_, self.nonzero_coefs, self.intercept_ = \\\n",
    "            stpforward(y, X, self.n_nonzero_coefs,\n",
    "                       self.fit_intercept)\n",
    "\n",
    "        self.coef_ = pd.Series(data=self.coef_,\n",
    "                               index=self.X_names)\n",
    "        self.intercept_ = pd.Series(data=self.intercept_,\n",
    "                                    index=['Intercept'])\n",
    "        return self\n",
    "\n",
    "    def predict(self, X):\n",
    "        \"\"\"\n",
    "        Predicts the values of y using the fitted model\n",
    "        Parameters:\n",
    "        -----------\n",
    "        X : array of shape (m, self.p)\n",
    "        Returns:\n",
    "        --------\n",
    "        y : vector of shape (m,)\n",
    "        \"\"\"\n",
    "        X = np.array(X)\n",
    "        m, p = X.shape\n",
    "        if p != self.p:\n",
    "            raise ValueError('X must have {} columns!'.format(self.p))\n",
    "        # First we need to center & reduce the new X\n",
    "        if self.standardize:\n",
    "            X = (X[:, self.X_mask] - self.X_mean[self.X_mask]) \\\n",
    "                / self.X_std[self.X_mask]\n",
    "        y = X.dot(self.coef_) + self.intercept_.values\n",
    "        return y"
   ]
  },
  {
   "cell_type": "markdown",
   "metadata": {},
   "source": [
    "### Question 3.3"
   ]
  },
  {
   "cell_type": "markdown",
   "metadata": {},
   "source": [
    "Tirons profit de notre nouvelle classe qui est capable de traiter les données à la source sans transformation manuelle préliminaire :"
   ]
  },
  {
   "cell_type": "code",
   "execution_count": 38,
   "metadata": {
    "collapsed": false
   },
   "outputs": [],
   "source": [
    "def resultsForM(M):\n",
    "    myomp = MYOMP(M, fit_intercept=True, standardize=True).fit(\n",
    "        dat1.ix[:, 1:], dat1.Ozone)\n",
    "    print(\"========================\")\n",
    "    print(\"For M = {}\".format(M))\n",
    "    print(\"Features :\")\n",
    "    print(\"----------------------\")\n",
    "    print(myomp.coef_)\n",
    "    print(\"\\n\")\n",
    "    print(\"Intercept :\")\n",
    "    print(\"----------------------\")\n",
    "    print(myomp.intercept_)\n",
    "    print(\"========================\")"
   ]
  },
  {
   "cell_type": "code",
   "execution_count": 39,
   "metadata": {
    "collapsed": false
   },
   "outputs": [
    {
     "name": "stdout",
     "output_type": "stream",
     "text": [
      "========================\n",
      "For M = 3\n",
      "Features :\n",
      "----------------------\n",
      "std(SolarR)     5.42817\n",
      "std(Wind)     -11.80642\n",
      "std(Temp)      15.67331\n",
      "std(Month)      0.00000\n",
      "std(Day)        0.00000\n",
      "dtype: float64\n",
      "\n",
      "\n",
      "Intercept :\n",
      "----------------------\n",
      "Intercept    42.0991\n",
      "dtype: float64\n",
      "========================\n",
      "========================\n",
      "For M = 4\n",
      "Features :\n",
      "----------------------\n",
      "std(SolarR)     4.50045\n",
      "std(Wind)     -11.74592\n",
      "std(Temp)      17.74888\n",
      "std(Month)     -4.38807\n",
      "std(Day)        0.00000\n",
      "dtype: float64\n",
      "\n",
      "\n",
      "Intercept :\n",
      "----------------------\n",
      "Intercept    42.0991\n",
      "dtype: float64\n",
      "========================\n",
      "========================\n",
      "For M = 5\n",
      "Features :\n",
      "----------------------\n",
      "std(SolarR)     4.56193\n",
      "std(Wind)     -11.75277\n",
      "std(Temp)      17.98522\n",
      "std(Month)     -4.45895\n",
      "std(Day)        2.37394\n",
      "dtype: float64\n",
      "\n",
      "\n",
      "Intercept :\n",
      "----------------------\n",
      "Intercept    42.0991\n",
      "dtype: float64\n",
      "========================\n"
     ]
    }
   ],
   "source": [
    "for i in [3, 4, 5]:\n",
    "    resultsForM(i)"
   ]
  },
  {
   "cell_type": "markdown",
   "metadata": {},
   "source": [
    "### Question 3.4"
   ]
  },
  {
   "cell_type": "markdown",
   "metadata": {},
   "source": [
    "Effectuons les mêmes estimations avec *OrthogonalMatchingPursuit* de *sklearn* et comparons avec nos résultats."
   ]
  },
  {
   "cell_type": "code",
   "execution_count": 40,
   "metadata": {
    "collapsed": false
   },
   "outputs": [],
   "source": [
    "def resultsForM2(M):\n",
    "    myomp = MYOMP(M, fit_intercept=True,\n",
    "                  standardize=True).fit(dat1.ix[:, 1:], dat1.Ozone)\n",
    "    skomp = linear_model.OrthogonalMatchingPursuit(\n",
    "        M, fit_intercept=True).fit(X[:, 1:], y)\n",
    "    results = pd.DataFrame(data={\n",
    "            'MyOMP': np.hstack([myomp.coef_, myomp.intercept_]),\n",
    "            'SklearnOMP': np.hstack([skomp.coef_, skomp.intercept_])},\n",
    "                           index=np.hstack([myomp.coef_.index,\n",
    "                                            myomp.intercept_.index]))\n",
    "    print(\"===================================\")\n",
    "    print(\"For M = {}\".format(M))\n",
    "    print(results)\n",
    "    print(\"===================================\")"
   ]
  },
  {
   "cell_type": "code",
   "execution_count": 41,
   "metadata": {
    "collapsed": false
   },
   "outputs": [
    {
     "name": "stdout",
     "output_type": "stream",
     "text": [
      "===================================\n",
      "For M = 3\n",
      "                MyOMP  SklearnOMP\n",
      "std(SolarR)   5.42817     5.42817\n",
      "std(Wind)   -11.80642   -11.80642\n",
      "std(Temp)    15.67331    15.67331\n",
      "std(Month)    0.00000     0.00000\n",
      "std(Day)      0.00000     0.00000\n",
      "Intercept    42.09910    42.09910\n",
      "===================================\n",
      "===================================\n",
      "For M = 4\n",
      "                MyOMP  SklearnOMP\n",
      "std(SolarR)   4.50045     4.50045\n",
      "std(Wind)   -11.74592   -11.74592\n",
      "std(Temp)    17.74888    17.74888\n",
      "std(Month)   -4.38807    -4.38807\n",
      "std(Day)      0.00000     0.00000\n",
      "Intercept    42.09910    42.09910\n",
      "===================================\n",
      "===================================\n",
      "For M = 5\n",
      "                MyOMP  SklearnOMP\n",
      "std(SolarR)   4.56193     4.56193\n",
      "std(Wind)   -11.75277   -11.75277\n",
      "std(Temp)    17.98522    17.98522\n",
      "std(Month)   -4.45895    -4.45895\n",
      "std(Day)      2.37394     2.37394\n",
      "Intercept    42.09910    42.09910\n",
      "===================================\n"
     ]
    }
   ],
   "source": [
    "for i in [3, 4, 5]:\n",
    "    resultsForM2(i)"
   ]
  },
  {
   "cell_type": "markdown",
   "metadata": {},
   "source": [
    "On trouve bien la même chose."
   ]
  },
  {
   "cell_type": "markdown",
   "metadata": {},
   "source": [
    "### Question 3.5"
   ]
  },
  {
   "cell_type": "markdown",
   "metadata": {},
   "source": [
    "En utilisant la technique de validation croisée K-fold vue en cours, nous allons évaluer pour toutes les valeurs de M possibles (de 1 à 5) la performance de la prédiction.  \n",
    "Nous utilisons la fonction *KFold* du package *sklearn.cross_validation* afin de partitionner l'ensemble des observations. **Nous exigeons que les données soient mélangées aléatoirement** (ce qui n'est pas le comportement par défaut de la fonction)."
   ]
  },
  {
   "cell_type": "markdown",
   "metadata": {},
   "source": [
    "L'erreur de prédiction pour 1 *fold* que nous utilisons est :\n",
    "$$\\widehat{\\text{erreur}} = \\left|\\left|X_\\text{test}\\widehat{\\theta}_\\text{train} - y_\\text{test}\\right|\\right|^2_2$$"
   ]
  },
  {
   "cell_type": "code",
   "execution_count": 42,
   "metadata": {
    "collapsed": false
   },
   "outputs": [],
   "source": [
    "def errorKFold(M, dat, kf):\n",
    "    \"\"\"\n",
    "    Computes prediction errors using CV technique\n",
    "    Parameters:\n",
    "    -----------\n",
    "    M - number of features to retain\n",
    "    data - dataframe ; first columns is the observed variable\n",
    "           other columns are the explicative variables\n",
    "    kf - KFold result, splittin the data\n",
    "    Returns:\n",
    "    --------\n",
    "    vector of errors\n",
    "    \"\"\"\n",
    "    error = []\n",
    "    for train_index, test_index in kf:\n",
    "        X_train, y_train = dat.iloc[train_index, 1:], dat.iloc[train_index, 0]\n",
    "        X_test, y_test = dat.iloc[test_index, 1:], dat.iloc[test_index, 0]\n",
    "        myomp = MYOMP(M, fit_intercept=True,\n",
    "                      standardize=True).fit(X_train, y_train)\n",
    "        y_hat = myomp.predict(X_test).reshape(y_test.size)\n",
    "        dy = y_test - y_hat\n",
    "        error.append(dy.dot(dy))\n",
    "    return np.array(error)"
   ]
  },
  {
   "cell_type": "markdown",
   "metadata": {},
   "source": [
    "Afin de décider, nous allons étudier l'évolution des erreurs de prédiction en fonction du nombre $M$ de variables explicatives à conserver, mais aussi du nombre $K$ de *folds*."
   ]
  },
  {
   "cell_type": "code",
   "execution_count": 43,
   "metadata": {
    "collapsed": false
   },
   "outputs": [],
   "source": [
    "def computeKFolds(K):\n",
    "    \"\"\"\n",
    "    For K folds, compute the prediction errors for each M\n",
    "    Returns:\n",
    "    --------\n",
    "    best M according to the average prediction error\n",
    "    average prediction errors\n",
    "    the computed errors\n",
    "    \"\"\"\n",
    "    Ms = range(1, p + 1)\n",
    "    errors = pd.DataFrame(data=np.zeros((K * len(Ms), 2)),\n",
    "                          columns=['M', 'PredictionError'])\n",
    "    kf = KFold(n=dat1.shape[0], n_folds=K, shuffle=True)\n",
    "    for i, M in enumerate(Ms):\n",
    "        errors.M[i*K:(i+1)*K] = M\n",
    "        errors.PredictionError[i*K:(i+1)*K] = errorKFold(M, dat1, kf)\n",
    "    results = errors.groupby('M').mean().sort('PredictionError')\n",
    "    best_M = int(results.index[0])\n",
    "    return best_M, results, errors"
   ]
  },
  {
   "cell_type": "code",
   "execution_count": 44,
   "metadata": {
    "collapsed": false
   },
   "outputs": [],
   "source": [
    "def plotKFolds(K):\n",
    "    \"\"\"\n",
    "    (i)  print the prediction error means for each M,\n",
    "         in increasing order\n",
    "    (ii) plot the distribution of prediction errors for\n",
    "         all the possible Ms, as box plots\n",
    "    \"\"\"\n",
    "    best_M, results, errors = computeKFolds(K)\n",
    "    print(\"Lowest average prediction error for M={}\".format(best_M))\n",
    "    print(results)\n",
    "    sns.boxplot(data=errors, x='M', y='PredictionError')"
   ]
  },
  {
   "cell_type": "markdown",
   "metadata": {},
   "source": [
    "On observe que ces calculs ne donnent pas de claire indication sur la meilleure valeur de *M* (les moyennes des erreurs sont relativement proches) :"
   ]
  },
  {
   "cell_type": "code",
   "execution_count": 45,
   "metadata": {
    "collapsed": false
   },
   "outputs": [
    {
     "name": "stdout",
     "output_type": "stream",
     "text": [
      "Lowest average prediction error for M=5\n",
      "   PredictionError\n",
      "M                 \n",
      "5       5314.14174\n",
      "4       5452.87413\n",
      "2       5539.11596\n",
      "3       5735.90663\n",
      "1       6391.04818\n"
     ]
    },
    {
     "name": "stderr",
     "output_type": "stream",
     "text": [
      "/usr/lib/python3.5/site-packages/ipykernel/__main__.py:17: FutureWarning: sort(columns=....) is deprecated, use sort_values(by=.....)\n",
      "/usr/lib/python3.5/site-packages/matplotlib/__init__.py:892: UserWarning: axes.color_cycle is deprecated and replaced with axes.prop_cycle; please use the latter.\n",
      "  warnings.warn(self.msg_depr % (key, alt_key))\n"
     ]
    },
    {
     "data": {
      "image/png": "[encoded data removed]",
      "text/plain": [
       "<matplotlib.figure.Figure at 0x7fa1de7f7dd8>"
      ]
     },
     "metadata": {},
     "output_type": "display_data"
    }
   ],
   "source": [
    "plotKFolds(10)"
   ]
  },
  {
   "cell_type": "markdown",
   "metadata": {},
   "source": [
    "Par ailleurs, pour plusieurs valeurs de K (2, 5, 10), la valeur de M la plus performante n'est pas stable selon les *runs*:"
   ]
  },
  {
   "cell_type": "code",
   "execution_count": 46,
   "metadata": {
    "collapsed": false
   },
   "outputs": [
    {
     "name": "stderr",
     "output_type": "stream",
     "text": [
      "/usr/lib/python3.5/site-packages/ipykernel/__main__.py:17: FutureWarning: sort(columns=....) is deprecated, use sort_values(by=.....)\n"
     ]
    }
   ],
   "source": [
    "Ks = [2, 5, 10]\n",
    "best_Ms = np.array([[computeKFolds(K)[0] for K in Ks] for i in range(20)])\n",
    "M_stats = pd.DataFrame(data=best_Ms, columns=Ks)\n",
    "M_stats = pd.melt(M_stats, value_name=\"Best M\", var_name=\"K\")"
   ]
  },
  {
   "cell_type": "code",
   "execution_count": 47,
   "metadata": {
    "collapsed": false
   },
   "outputs": [
    {
     "name": "stderr",
     "output_type": "stream",
     "text": [
      "/usr/lib/python3.5/site-packages/matplotlib/__init__.py:892: UserWarning: axes.color_cycle is deprecated and replaced with axes.prop_cycle; please use the latter.\n",
      "  warnings.warn(self.msg_depr % (key, alt_key))\n"
     ]
    },
    {
     "data": {
      "text/plain": [
       "<matplotlib.text.Text at 0x7fa1de917860>"
      ]
     },
     "execution_count": 47,
     "metadata": {},
     "output_type": "execute_result"
    },
    {
     "data": {
      "image/png": "[encoded data removed]",
      "text/plain": [
       "<matplotlib.figure.Figure at 0x7fa1de8d7be0>"
      ]
     },
     "metadata": {},
     "output_type": "display_data"
    }
   ],
   "source": [
    "sns.stripplot(x='K', y='Best M', data=M_stats, jitter=True, alpha=0.5)\n",
    "plt.title('Best Ms for different K-Fold runs')"
   ]
  },
  {
   "cell_type": "markdown",
   "metadata": {},
   "source": [
    "**Ainsi il apparaît sans doute plus judicieux de conserver l'ensemble des variables (M=5).**  "
   ]
  },
  {
   "cell_type": "markdown",
   "metadata": {},
   "source": [
    "Enfin, nous pouvons vérifier que ce comportement est comparable à ce que l'on aurait obtenu eussions-nous utilisé la classe *OrthogonalMatchingPursuitCV* du package *sklearn.linear_model*."
   ]
  },
  {
   "cell_type": "code",
   "execution_count": 48,
   "metadata": {
    "collapsed": false
   },
   "outputs": [],
   "source": [
    "Ks = [2, 5, 10]\n",
    "n = dat1.shape[0]\n",
    "Xompcv = X[:, 1:]\n",
    "yompcv = np.array(y).reshape((n,))\n",
    "\n",
    "\n",
    "def findBestM(K):\n",
    "    cv = KFold(n=n, n_folds=K, shuffle=True)\n",
    "    ompcv = linear_model.OrthogonalMatchingPursuitCV(\n",
    "            fit_intercept=True, cv=cv).fit(Xompcv, yompcv)\n",
    "    return ompcv.n_nonzero_coefs_\n",
    "\n",
    "best_Ms = np.array([[findBestM(K) for K in Ks] for i in range(20)])\n",
    "M_stats = pd.DataFrame(data=best_Ms, columns=Ks)\n",
    "M_stats = pd.melt(M_stats, value_name=\"Best M\", var_name=\"K\")"
   ]
  },
  {
   "cell_type": "code",
   "execution_count": 49,
   "metadata": {
    "collapsed": false
   },
   "outputs": [
    {
     "name": "stderr",
     "output_type": "stream",
     "text": [
      "/usr/lib/python3.5/site-packages/matplotlib/__init__.py:892: UserWarning: axes.color_cycle is deprecated and replaced with axes.prop_cycle; please use the latter.\n",
      "  warnings.warn(self.msg_depr % (key, alt_key))\n"
     ]
    },
    {
     "data": {
      "text/plain": [
       "<matplotlib.text.Text at 0x7fa1de8174e0>"
      ]
     },
     "execution_count": 49,
     "metadata": {},
     "output_type": "execute_result"
    },
    {
     "data": {
      "image/png": "[encoded data removed]",
      "text/plain": [
       "<matplotlib.figure.Figure at 0x7fa1debb3cc0>"
      ]
     },
     "metadata": {},
     "output_type": "display_data"
    }
   ],
   "source": [
    "sns.stripplot(x='K', y='Best M', data=M_stats, jitter=True, alpha=0.5)\n",
    "plt.title('Best Ms using OrthogonalMatchingPursuitCV')"
   ]
  }
 ],
 "metadata": {
  "celltoolbar": "Raw Cell Format",
  "kernelspec": {
   "display_name": "Python 3",
   "language": "python",
   "name": "python3"
  },
  "language_info": {
   "codemirror_mode": {
    "name": "ipython",
    "version": 3
   },
   "file_extension": ".py",
   "mimetype": "text/x-python",
   "name": "python",
   "nbconvert_exporter": "python",
   "pygments_lexer": "ipython3",
   "version": "3.5.0"
  }
 },
 "nbformat": 4,
 "nbformat_minor": 0
}
