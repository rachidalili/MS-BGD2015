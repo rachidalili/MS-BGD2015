{
 "metadata": {
  "name": "",
  "signature": "sha256:f8df17280a9d9d027c4773f7bc122cf6308cb9a49c5a59bbe2d933a20b7d7a95"
 },
 "nbformat": 3,
 "nbformat_minor": 0,
 "worksheets": [
  {
   "cells": [
    {
     "cell_type": "code",
     "collapsed": false,
     "input": [
      "from bs4 import BeautifulSoup\n",
      "\n",
      "import requests\n",
      "\n",
      "#\"http://alize2.finances.gouv.fr/communes/eneuro/detail.php?icom=056&dep=075&type=BPS&param=5&exercice=2013\""
     ],
     "language": "python",
     "metadata": {},
     "outputs": [],
     "prompt_number": 6
    },
    {
     "cell_type": "code",
     "collapsed": false,
     "input": [
      "def load_page(myPage):\n",
      "    paris_exercise__page = requests.get(myPage)\n",
      "    paris_soup = BeautifulSoup(paris_exercise__page.text, 'html.parser')\n",
      "    return paris_soup"
     ],
     "language": "python",
     "metadata": {},
     "outputs": [],
     "prompt_number": 7
    },
    {
     "cell_type": "code",
     "collapsed": false,
     "input": [
      "def get_the_big_table(paris_soup):\n",
      "    return paris_soup.find_all(\"table\", {\"width\": \"100%\", \"cellspacing\": \"1\"})[0]"
     ],
     "language": "python",
     "metadata": {},
     "outputs": [],
     "prompt_number": 8
    },
    {
     "cell_type": "code",
     "collapsed": false,
     "input": [
      "def get_data_for_year(year):\n",
      "    print \"Processing year \" + str(year)\n",
      "    link = \"\"\n",
      "    if year == 2009:\n",
      "        link = \"http://alize2.finances.gouv.fr/communes/eneuro/detail.php\"\n",
      "        print \"year \" + str(year)\n",
      "    else:\n",
      "        link = \"http://alize2.finances.gouv.fr/communes/eneuro/detail.php?icom=056&dep=075&type=BPS&param=5&exercice=\" + str(year)\n",
      "        \n",
      "    paris_soup = load_page(link)\n",
      "    big_table = get_the_big_table(paris_soup)\n",
      "    \n",
      "    #get the whole row\n",
      "    columnA = big_table.find_all(\"tr\", {\"class\": \"bleu\"})[3]\n",
      "    columnB = big_table.find_all(\"tr\", {\"class\": \"bleu\"})[7]\n",
      "    columnC = big_table.find_all(\"tr\", {\"class\": \"bleu\"})[15]\n",
      "    columnD = big_table.find_all(\"tr\", {\"class\": \"bleu\"})[20]\n",
      "\n",
      "    A_per_person = columnA.findChildren()[1].text\n",
      "    A_per_strate = columnA.findChildren()[2].text\n",
      "    print \"A_per_person: \" + A_per_person + \" A_per_strate: \" + A_per_strate\n",
      "\n",
      "    B_per_person = columnB.findChildren()[1].text\n",
      "    B_per_strate = columnB.findChildren()[2].text\n",
      "    print \"B_per_person: \" + B_per_person + \" B_per_strate: \" + B_per_strate\n",
      "\n",
      "    C_per_person = columnC.findChildren()[1].text\n",
      "    C_per_strate = columnC.findChildren()[2].text\n",
      "    print \"C_per_person: \" + C_per_person + \" C_per_strate: \" + C_per_strate\n",
      "\n",
      "    D_per_person = columnD.findChildren()[1].text\n",
      "    D_per_strate = columnD.findChildren()[2].text\n",
      "    print \"D_per_person: \" + D_per_person + \" D_per_strate: \" + D_per_strate"
     ],
     "language": "python",
     "metadata": {},
     "outputs": [],
     "prompt_number": 9
    },
    {
     "cell_type": "code",
     "collapsed": false,
     "input": [
      "for year in range (2010, 2014):\n",
      "    get_data_for_year(year)"
     ],
     "language": "python",
     "metadata": {},
     "outputs": [
      {
       "output_type": "stream",
       "stream": "stdout",
       "text": [
        "Processing year 2010\n",
        "A_per_person: 2 449\u00a0 A_per_strate: 2 449\u00a0"
       ]
      },
      {
       "output_type": "stream",
       "stream": "stdout",
       "text": [
        "\n",
        "B_per_person: 2 241\u00a0 B_per_strate: 2 241\u00a0\n",
        "C_per_person: 1 119\u00a0 C_per_strate: 1 119\u00a0\n",
        "D_per_person: 1 265\u00a0 D_per_strate: 1 265\u00a0\n",
        "Processing year 2011\n",
        "A_per_person: 2 546\u00a0 A_per_strate: 2 546\u00a0"
       ]
      },
      {
       "output_type": "stream",
       "stream": "stdout",
       "text": [
        "\n",
        "B_per_person: 2 327\u00a0 B_per_strate: 2 327\u00a0\n",
        "C_per_person: 1 264\u00a0 C_per_strate: 1 264\u00a0\n",
        "D_per_person: 1 268\u00a0 D_per_strate: 1 268\u00a0\n",
        "Processing year 2012\n",
        "A_per_person: 2 311\u00a0 A_per_strate: 2 311\u00a0"
       ]
      },
      {
       "output_type": "stream",
       "stream": "stdout",
       "text": [
        "\n",
        "B_per_person: 2 135\u00a0 B_per_strate: 2 135\u00a0\n",
        "C_per_person: 1 085\u00a0 C_per_strate: 1 085\u00a0\n",
        "D_per_person: 1 058\u00a0 D_per_strate: 1 058\u00a0\n",
        "Processing year 2013\n",
        "A_per_person: 2 308\u00a0 A_per_strate: 2 308\u00a0"
       ]
      },
      {
       "output_type": "stream",
       "stream": "stdout",
       "text": [
        "\n",
        "B_per_person: 2 235\u00a0 B_per_strate: 2 235\u00a0\n",
        "C_per_person: 1 157\u00a0 C_per_strate: 1 157\u00a0\n",
        "D_per_person: 1 048\u00a0 D_per_strate: 1 048\u00a0\n"
       ]
      }
     ],
     "prompt_number": 10
    },
    {
     "cell_type": "code",
     "collapsed": false,
     "input": [
      "def get_data_for_year_with_NthOfType(year):\n",
      "    print \"Processing year \" + str(year)\n",
      "    link = \"\"\n",
      "    if year == 2009:\n",
      "        link = \"http://alize2.finances.gouv.fr/communes/eneuro/detail.php\"\n",
      "        print \"year \" + str(year)\n",
      "    else:\n",
      "        link = \"http://alize2.finances.gouv.fr/communes/eneuro/detail.php?icom=056&dep=075&type=BPS&param=5&exercice=\" + str(year)\n",
      "        \n",
      "    paris_soup = load_page(link)\n",
      "    big_table = get_the_big_table(paris_soup)\n",
      "\n",
      "    A_per_person = big_table.select('tr:nth-of-type(8) > td:nth-of-type(2)')[0].text\n",
      "    A_per_strate = big_table.select('tr:nth-of-type(8) > td:nth-of-type(3)')[0].text\n",
      "    \n",
      "    print \"A_per_person: \" + A_per_person + \" A_per_strate: \" + A_per_strate\n",
      "\n",
      "    B_per_person = big_table.select('tr:nth-of-type(12) > td:nth-of-type(2)')[0].text\n",
      "    B_per_strate = big_table.select('tr:nth-of-type(12) > td:nth-of-type(3)')[0].text\n",
      "    print \"B_per_person: \" + B_per_person + \" B_per_strate: \" + B_per_strate\n",
      "\n",
      "    C_per_person = big_table.select('tr:nth-of-type(20) > td:nth-of-type(2)')[0].text\n",
      "    C_per_strate = big_table.select('tr:nth-of-type(20) > td:nth-of-type(2)')[0].text\n",
      "    print \"C_per_person: \" + C_per_person + \" C_per_strate: \" + C_per_strate\n",
      "\n",
      "    D_per_person = big_table.select('tr:nth-of-type(25) > td:nth-of-type(2)')[0].text\n",
      "    D_per_strate = big_table.select('tr:nth-of-type(25) > td:nth-of-type(2)')[0].text\n",
      "    print \"D_per_person: \" + D_per_person + \" D_per_strate: \" + D_per_strate"
     ],
     "language": "python",
     "metadata": {},
     "outputs": [],
     "prompt_number": 17
    },
    {
     "cell_type": "code",
     "collapsed": false,
     "input": [
      "for year in range (2010, 2014):\n",
      "    get_data_for_year_with_NthOfType(year)"
     ],
     "language": "python",
     "metadata": {},
     "outputs": [
      {
       "output_type": "stream",
       "stream": "stdout",
       "text": [
        "Processing year 2010\n",
        "A_per_person: 2 449\u00a0 A_per_strate: 2 449\u00a0"
       ]
      },
      {
       "output_type": "stream",
       "stream": "stdout",
       "text": [
        "\n",
        "B_per_person: 2 241\u00a0 B_per_strate: 2 241\u00a0\n",
        "C_per_person: 1 119\u00a0 C_per_strate: 1 119\u00a0\n",
        "D_per_person: 1 265\u00a0 D_per_strate: 1 265\u00a0\n",
        "Processing year 2011\n",
        "A_per_person: 2 546\u00a0 A_per_strate: 2 546\u00a0"
       ]
      },
      {
       "output_type": "stream",
       "stream": "stdout",
       "text": [
        "\n",
        "B_per_person: 2 327\u00a0 B_per_strate: 2 327\u00a0\n",
        "C_per_person: 1 264\u00a0 C_per_strate: 1 264\u00a0\n",
        "D_per_person: 1 268\u00a0 D_per_strate: 1 268\u00a0\n",
        "Processing year 2012\n",
        "A_per_person: 2 311\u00a0 A_per_strate: 2 311\u00a0"
       ]
      },
      {
       "output_type": "stream",
       "stream": "stdout",
       "text": [
        "\n",
        "B_per_person: 2 135\u00a0 B_per_strate: 2 135\u00a0\n",
        "C_per_person: 1 085\u00a0 C_per_strate: 1 085\u00a0\n",
        "D_per_person: 1 058\u00a0 D_per_strate: 1 058\u00a0\n",
        "Processing year 2013\n",
        "A_per_person: 2 308\u00a0 A_per_strate: 2 308\u00a0"
       ]
      },
      {
       "output_type": "stream",
       "stream": "stdout",
       "text": [
        "\n",
        "B_per_person: 2 235\u00a0 B_per_strate: 2 235\u00a0\n",
        "C_per_person: 1 157\u00a0 C_per_strate: 1 157\u00a0\n",
        "D_per_person: 1 048\u00a0 D_per_strate: 1 048\u00a0\n"
       ]
      }
     ],
     "prompt_number": 18
    },
    {
     "cell_type": "code",
     "collapsed": false,
     "input": [],
     "language": "python",
     "metadata": {},
     "outputs": []
    }
   ],
   "metadata": {}
  }
 ]
}