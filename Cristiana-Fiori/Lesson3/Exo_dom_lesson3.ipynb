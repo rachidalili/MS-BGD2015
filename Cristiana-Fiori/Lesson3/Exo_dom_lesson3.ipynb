{
 "cells": [
  {
   "cell_type": "code",
   "execution_count": null,
   "metadata": {
    "collapsed": true
   },
   "outputs": [],
   "source": [
    "import requests\n",
    "from bs4 import BeautifulSoup\n",
    "from github import Github"
   ]
  },
  {
   "cell_type": "code",
   "execution_count": null,
   "metadata": {
    "collapsed": true
   },
   "outputs": [],
   "source": [
    "#    Scraping\n",
    "url = \"https://gist.github.com/paulmillr/2657075\"\n",
    "data = []\n",
    "users_list = []\n",
    "count = 0\n",
    "\n",
    "# chargement du contenu de l'url dans Soup\n",
    "request = requests.get(url)\n",
    "soup = BeautifulSoup(request.text, 'html.parser')\n",
    "\n",
    "# recherche des data dans la page correspondant a\n",
    "# l'arborescence :\n",
    "#  <article>\n",
    "#  - <table>\n",
    "#     - <tr>\n",
    "data = soup.find('article').find('table').findAll('tr')\n",
    "\n",
    "# recherche d'un user pour chaque data\n",
    "for user in data:\n",
    "    # teste 1ere ligne pour eviter d'etre bloque\n",
    "    if user.find('th').get_text() != \"#\":\n",
    "        # recuperation pseudo du user\n",
    "        pseudo = user.find('td').find('a').get_text()\n",
    "        # menage de l'encodage et des 'u'\n",
    "        pseudo = pseudo.encode('utf-8').strip()\n",
    "        users_list.append(pseudo)\n",
    "\n",
    "\n",
    "print users_list\n",
    "print len(users_list)"
   ]
  },
  {
   "cell_type": "code",
   "execution_count": null,
   "metadata": {
    "collapsed": true
   },
   "outputs": [],
   "source": [
    "# API Github\n",
    "\n",
    "stargazers_count = 0\n",
    "stargazers_avg = 0\n",
    "final_list = []\n",
    "\n",
    "# Lecture Token engendre par GitHub\n",
    "Access_Token = open('C:\\Users\\Cristiana\\Documents\\Token.txt', 'r').read()\n",
    "print Access_Token\n",
    "\n",
    "# pour chaque user dans la liste\n",
    "for i in range(len(users_list)):\n",
    "    \n",
    "    # login / pwd du user\n",
    "    g = Github(users_list[i], password[i])\n",
    "    repos = g.get_user().get_repos()\n",
    "    # nb stars pour chaque repo du user\n",
    "    for repo in repos:\n",
    "        \n",
    "        print repo.stargazers_count\n",
    "        stargazers_count = stargazers_count + repo.stargazers_count\n",
    "    \n",
    "    # moyenne du nombre de stargazer nb de stargazers-/ par le nb de repos\n",
    "    stargazers_avg = stargazers_avg / len(repos)\n",
    "    \n",
    "    # ajout du nom et de la moyenne des stars dans la table finale\n",
    "    final_list.append(users_list[i], stargazers_avg)\n",
    "    # print stargazers_avg\n",
    "\n",
    "# Tri decroissant nb de stargazers moyens\n",
    "print sorted(final_list, key=final_list[1], reverse=True)"
   ]
  },
  {
   "cell_type": "code",
   "execution_count": null,
   "metadata": {
    "collapsed": true
   },
   "outputs": [],
   "source": []
  },
  {
   "cell_type": "code",
   "execution_count": null,
   "metadata": {
    "collapsed": true
   },
   "outputs": [],
   "source": []
  },
  {
   "cell_type": "code",
   "execution_count": null,
   "metadata": {
    "collapsed": true
   },
   "outputs": [],
   "source": []
  },
  {
   "cell_type": "code",
   "execution_count": null,
   "metadata": {
    "collapsed": true
   },
   "outputs": [],
   "source": []
  }
 ],
 "metadata": {
  "kernelspec": {
   "display_name": "Python 2",
   "language": "python",
   "name": "python2"
  },
  "language_info": {
   "codemirror_mode": {
    "name": "ipython",
    "version": 2
   },
   "file_extension": ".py",
   "mimetype": "text/x-python",
   "name": "python",
   "nbconvert_exporter": "python",
   "pygments_lexer": "ipython2",
   "version": "2.7.10"
  }
 },
 "nbformat": 4,
 "nbformat_minor": 0
}
