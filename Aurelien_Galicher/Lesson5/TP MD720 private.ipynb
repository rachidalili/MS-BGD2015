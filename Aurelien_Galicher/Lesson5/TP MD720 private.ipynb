{
 "cells": [
  {
   "cell_type": "code",
   "execution_count": 317,
   "metadata": {
    "collapsed": true
   },
   "outputs": [],
   "source": [
    "import pandas as pd\n",
    "import matplotlib.pyplot as plt\n",
    "import numpy as np\n",
    "from sklearn import linear_model\n",
    "%matplotlib inline"
   ]
  },
  {
   "cell_type": "markdown",
   "metadata": {},
   "source": [
    "Importer avec Pandas la base de données disponible ici https://archive.ics.uci.edu/\n",
    "ml/machine-learning-databases/auto-mpg/auto-mpg.data. On peut aussi ajouter le noms\n",
    "des colonnes en consultant l’adresse : https://archive.ics.uci.edu/ml/machine-learningdatabases/auto-mpg/auto-mpg.names\n",
    "avec l’attribut 'name' de import_csv. On pourra regarder\n",
    "l’intérêt de l’option sep=r\"\\s\\+\"."
   ]
  },
  {
   "cell_type": "code",
   "execution_count": 318,
   "metadata": {
    "collapsed": true
   },
   "outputs": [],
   "source": [
    "names = [ 'mpg', 'cylinders', 'displacement', 'horsepower', 'weight',\n",
    "    'acceleration',\n",
    "   'model year', 'origin', 'car name' ]"
   ]
  },
  {
   "cell_type": "code",
   "execution_count": 319,
   "metadata": {
    "collapsed": false
   },
   "outputs": [],
   "source": [
    "auto_data = pd.read_csv(\"https://archive.ics.uci.edu/ml/machine-learning-databases/auto-mpg/auto-mpg.data\",\n",
    "                        engine=\"python\", sep=r\"\\s\\s+|\\t\", names= names)"
   ]
  },
  {
   "cell_type": "markdown",
   "metadata": {},
   "source": [
    "Quelle est le marqueur utilisé pour les données manquantes dans le fichier csv utilisé ? Changer\n",
    "cet élément en un NaN, avec l’option na_values de import_csv. Enlever les lignes possédant des\n",
    "valeurs manquantes dans la base de données."
   ]
  },
  {
   "cell_type": "code",
   "execution_count": 320,
   "metadata": {
    "collapsed": false
   },
   "outputs": [
    {
     "data": {
      "text/plain": [
       "array(['130.0', '165.0', '150.0', '140.0', '198.0', '220.0', '215.0',\n",
       "       '225.0', '190.0', '170.0', '160.0', '95.00', '97.00', '85.00',\n",
       "       '88.00', '46.00', '87.00', '90.00', '113.0', '200.0', '210.0',\n",
       "       '193.0', '?', '100.0', '105.0', '175.0', '153.0', '180.0', '110.0',\n",
       "       '72.00', '86.00', '70.00', '76.00', '65.00', '69.00', '60.00',\n",
       "       '80.00', '54.00', '208.0', '155.0', '112.0', '92.00', '145.0',\n",
       "       '137.0', '158.0', '167.0', '94.00', '107.0', '230.0', '49.00',\n",
       "       '75.00', '91.00', '122.0', '67.00', '83.00', '78.00', '52.00',\n",
       "       '61.00', '93.00', '148.0', '129.0', '96.00', '71.00', '98.00',\n",
       "       '115.0', '53.00', '81.00', '79.00', '120.0', '152.0', '102.0',\n",
       "       '108.0', '68.00', '58.00', '149.0', '89.00', '63.00', '48.00',\n",
       "       '66.00', '139.0', '103.0', '125.0', '133.0', '138.0', '135.0',\n",
       "       '142.0', '77.00', '62.00', '132.0', '84.00', '64.00', '74.00',\n",
       "       '116.0', '82.00'], dtype=object)"
      ]
     },
     "execution_count": 320,
     "metadata": {},
     "output_type": "execute_result"
    }
   ],
   "source": [
    "pd.unique(auto_data['horsepower'].values.ravel())"
   ]
  },
  {
   "cell_type": "code",
   "execution_count": 321,
   "metadata": {
    "collapsed": false
   },
   "outputs": [
    {
     "name": "stdout",
     "output_type": "stream",
     "text": [
      "mpg             398\n",
      "cylinders       398\n",
      "displacement    398\n",
      "horsepower      392\n",
      "weight          398\n",
      "acceleration    398\n",
      "model year      398\n",
      "origin          398\n",
      "car name        398\n",
      "dtype: int64\n",
      "mpg             392\n",
      "cylinders       392\n",
      "displacement    392\n",
      "horsepower      392\n",
      "weight          392\n",
      "acceleration    392\n",
      "model year      392\n",
      "origin          392\n",
      "car name        392\n",
      "dtype: int64\n"
     ]
    },
    {
     "name": "stderr",
     "output_type": "stream",
     "text": [
      "/Users/galicher/anaconda/lib/python3.4/site-packages/pandas/core/common.py:449: FutureWarning: elementwise comparison failed; returning scalar instead, but in the future will perform elementwise comparison\n",
      "  mask = arr == x\n"
     ]
    }
   ],
   "source": [
    "auto_data.replace('?', np.nan, inplace= True)\n",
    "print(auto_data.count())\n",
    "auto_data = auto_data.dropna()\n",
    "print(auto_data.count())"
   ]
  },
  {
   "cell_type": "markdown",
   "metadata": {},
   "source": [
    "Calculer θˆ et yˆ sur une sous partie de la base : garder les 9 premières lignes et exclure la variable\n",
    "'car name' de l’étude. Que constatez-vous ?\n"
   ]
  },
  {
   "cell_type": "code",
   "execution_count": 322,
   "metadata": {
    "collapsed": false
   },
   "outputs": [
    {
     "name": "stdout",
     "output_type": "stream",
     "text": [
      "[ 0.          0.05408848 -0.0945306  -0.00424074 -0.19936701  0.          0.        ]\n",
      "30.7716953656\n"
     ]
    }
   ],
   "source": [
    "lr = linear_model.LinearRegression(normalize=True)\n",
    "y = auto_data['mpg'][0:9]\n",
    "X = auto_data[auto_data.columns[1:-1]][0:9]\n",
    "lr.fit(X, y)\n",
    "print(lr.coef_)\n",
    "print(lr.intercept_)"
   ]
  },
  {
   "cell_type": "markdown",
   "metadata": {},
   "source": [
    "Calculer θˆ et yˆ cette fois sur l’intégralité des données."
   ]
  },
  {
   "cell_type": "code",
   "execution_count": 323,
   "metadata": {
    "collapsed": false
   },
   "outputs": [
    {
     "name": "stdout",
     "output_type": "stream",
     "text": [
      "[-0.49337632  0.01989564 -0.01695114 -0.00647404  0.08057584  0.75077268\n",
      "  1.4261405 ]\n",
      "-17.218434622\n"
     ]
    }
   ],
   "source": [
    "y = auto_data['mpg']\n",
    "X = auto_data[auto_data.columns[1:-1]]\n",
    "lr.fit(X, y)\n",
    "print(lr.coef_)\n",
    "print(lr.intercept_)"
   ]
  },
  {
   "cell_type": "markdown",
   "metadata": {},
   "source": [
    "Calculer le carré de la norme du vecteur des résidus }r}\n",
    "2\n",
    ", puis la moyenne des ces écarts }r}\n",
    "2\n",
    "{pn´pq.\n",
    "Vérifier numériquement que :"
   ]
  },
  {
   "cell_type": "code",
   "execution_count": 324,
   "metadata": {
    "collapsed": false
   },
   "outputs": [
    {
     "name": "stdout",
     "output_type": "stream",
     "text": [
      "4252.21253044\n",
      "11.0447078713\n",
      "0.821478076481\n"
     ]
    }
   ],
   "source": [
    "norm = np.linalg.norm(y-lr.predict(X))\n",
    "print(norm**2)\n",
    "print(norm**2/(y.size-len(X.columns)))\n",
    "print(lr.score(X,y))"
   ]
  },
  {
   "cell_type": "code",
   "execution_count": 325,
   "metadata": {
    "collapsed": false
   },
   "outputs": [
    {
     "name": "stdout",
     "output_type": "stream",
     "text": [
      "23818.9934694\n",
      "23818.9934694\n"
     ]
    }
   ],
   "source": [
    "print(np.linalg.norm(y-y.mean())**2)\n",
    "print((np.linalg.norm(y-lr.predict(X))**2 + (np.linalg.norm(lr.predict(X) - y.mean()))**2))"
   ]
  },
  {
   "cell_type": "markdown",
   "metadata": {},
   "source": [
    "Supposons que l’on vous fournisse les caractéristiques suivantes d’un nouveau véhicule :\n",
    "cylinders displacement horsepower weight acceleration year origin\n",
    "6 225 100 3233 15.4 76 1\n",
    "Prédire sa consommation 2"
   ]
  },
  {
   "cell_type": "code",
   "execution_count": 326,
   "metadata": {
    "collapsed": false
   },
   "outputs": [
    {
     "name": "stdout",
     "output_type": "stream",
     "text": [
      "[ 21.39786251]\n"
     ]
    }
   ],
   "source": [
    "X_new= [[6, 225, 100, 3233, 15.4, 76, 1]]\n",
    "print (lr.predict(X_new))"
   ]
  },
  {
   "cell_type": "markdown",
   "metadata": {},
   "source": [
    "Calculer de nouveau θˆ et yˆ mais cette fois après avoir centré et réduit les variables explicatives."
   ]
  },
  {
   "cell_type": "code",
   "execution_count": 327,
   "metadata": {
    "collapsed": true
   },
   "outputs": [],
   "source": [
    "# déjà fait ... au travers de normalize = True dans l'intialisation de linear_model"
   ]
  },
  {
   "cell_type": "code",
   "execution_count": 328,
   "metadata": {
    "collapsed": true
   },
   "outputs": [],
   "source": [
    "from sklearn.preprocessing import PolynomialFeatures"
   ]
  },
  {
   "cell_type": "code",
   "execution_count": 329,
   "metadata": {
    "collapsed": false
   },
   "outputs": [
    {
     "name": "stdout",
     "output_type": "stream",
     "text": [
      "2493.50275268\n"
     ]
    }
   ],
   "source": [
    "poly = PolynomialFeatures(2, interaction_only= False)\n",
    "X_t = poly.fit_transform(X)\n",
    "lr.fit(X_t ,y)\n",
    "norm = np.linalg.norm(y-lr.predict(X_t))\n",
    "print(norm**2)\n"
   ]
  },
  {
   "cell_type": "code",
   "execution_count": 330,
   "metadata": {
    "collapsed": false
   },
   "outputs": [
    {
     "name": "stdout",
     "output_type": "stream",
     "text": [
      "2635.57284615\n",
      "6.84564375624\n"
     ]
    }
   ],
   "source": [
    "poly = PolynomialFeatures(2, interaction_only= True)\n",
    "X_t = poly.fit_transform(X)\n",
    "lr.fit(X_t ,y)\n",
    "norm = np.linalg.norm(y-lr.predict(X_t))\n",
    "print(norm**2)\n",
    "print(norm**2/(y.size-len(X.columns)))"
   ]
  },
  {
   "cell_type": "code",
   "execution_count": 331,
   "metadata": {
    "collapsed": false
   },
   "outputs": [
    {
     "data": {
      "text/plain": [
       "0.8893499488322103"
      ]
     },
     "execution_count": 331,
     "metadata": {},
     "output_type": "execute_result"
    }
   ],
   "source": [
    "lr.score(X_t, y)"
   ]
  },
  {
   "cell_type": "code",
   "execution_count": 332,
   "metadata": {
    "collapsed": false
   },
   "outputs": [
    {
     "data": {
      "text/plain": [
       "0.88934570958712267"
      ]
     },
     "execution_count": 332,
     "metadata": {},
     "output_type": "execute_result"
    }
   ],
   "source": [
    "from sklearn.linear_model import Ridge\n",
    "clf = Ridge(alpha=0.000001, normalize = True)\n",
    "clf.fit(X_t, y)\n",
    "clf.score(X_t, y)"
   ]
  },
  {
   "cell_type": "code",
   "execution_count": 333,
   "metadata": {
    "collapsed": false
   },
   "outputs": [
    {
     "data": {
      "text/plain": [
       "GridSearchCV(cv=5, error_score='raise',\n",
       "       estimator=Ridge(alpha=1.0, copy_X=True, fit_intercept=True, max_iter=None,\n",
       "   normalize=True, solver='auto', tol=0.001),\n",
       "       fit_params={}, iid=True, loss_func=None, n_jobs=1,\n",
       "       param_grid={'alpha': [1e-10, 1e-09, 1e-08, 1e-07, 1e-06, 1e-05, 0.0001, 0.001, 0.01, 0.1, 1, 10, 100, 1000, 10000, 100000, 1000000, 10000000, 100000000, 1000000000]},\n",
       "       pre_dispatch='2*n_jobs', refit=True, score_func=None, scoring=None,\n",
       "       verbose=0)"
      ]
     },
     "execution_count": 333,
     "metadata": {},
     "output_type": "execute_result"
    }
   ],
   "source": [
    "from sklearn.linear_model import Ridge\n",
    "from sklearn import grid_search\n",
    "clf = Ridge(normalize=True)\n",
    "parameters = {'alpha':  [ 10**i for i in range (-10,10)]}\n",
    "gs = grid_search.GridSearchCV(clf, param_grid = parameters, cv=5)\n",
    "gs.fit(X_t, y)"
   ]
  },
  {
   "cell_type": "code",
   "execution_count": 334,
   "metadata": {
    "collapsed": false
   },
   "outputs": [
    {
     "data": {
      "text/plain": [
       "[mean: 0.69245, std: 0.18422, params: {'alpha': 1e-10},\n",
       " mean: 0.69245, std: 0.18421, params: {'alpha': 1e-09},\n",
       " mean: 0.69247, std: 0.18421, params: {'alpha': 1e-08},\n",
       " mean: 0.69267, std: 0.18418, params: {'alpha': 1e-07},\n",
       " mean: 0.69446, std: 0.18394, params: {'alpha': 1e-06},\n",
       " mean: 0.70338, std: 0.18422, params: {'alpha': 1e-05},\n",
       " mean: 0.71154, std: 0.18704, params: {'alpha': 0.0001},\n",
       " mean: 0.71300, std: 0.18274, params: {'alpha': 0.001},\n",
       " mean: 0.70690, std: 0.18390, params: {'alpha': 0.01},\n",
       " mean: 0.67782, std: 0.20818, params: {'alpha': 0.1},\n",
       " mean: 0.54820, std: 0.37068, params: {'alpha': 1},\n",
       " mean: 0.20889, std: 0.70437, params: {'alpha': 10},\n",
       " mean: -0.63984, std: 1.01476, params: {'alpha': 100},\n",
       " mean: -0.97588, std: 1.09614, params: {'alpha': 1000},\n",
       " mean: -1.01840, std: 1.10603, params: {'alpha': 10000},\n",
       " mean: -1.02277, std: 1.10704, params: {'alpha': 100000},\n",
       " mean: -1.02320, std: 1.10714, params: {'alpha': 1000000},\n",
       " mean: -1.02325, std: 1.10715, params: {'alpha': 10000000},\n",
       " mean: -1.02325, std: 1.10715, params: {'alpha': 100000000},\n",
       " mean: -1.02325, std: 1.10715, params: {'alpha': 1000000000}]"
      ]
     },
     "execution_count": 334,
     "metadata": {},
     "output_type": "execute_result"
    }
   ],
   "source": [
    "gs.grid_scores_"
   ]
  },
  {
   "cell_type": "code",
   "execution_count": 335,
   "metadata": {
    "collapsed": false
   },
   "outputs": [
    {
     "data": {
      "text/plain": [
       "Ridge(alpha=0.001, copy_X=True, fit_intercept=True, max_iter=None,\n",
       "   normalize=True, solver='auto', tol=0.001)"
      ]
     },
     "execution_count": 335,
     "metadata": {},
     "output_type": "execute_result"
    }
   ],
   "source": [
    "gs.get_params()\n",
    "gs.best_estimator_"
   ]
  },
  {
   "cell_type": "code",
   "execution_count": 336,
   "metadata": {
    "collapsed": false
   },
   "outputs": [
    {
     "data": {
      "text/plain": [
       "array([  0.00000000e+00,  -1.39700432e+00,  -3.13994906e-02,\n",
       "         7.28306731e-02,  -3.65641956e-03,  -2.36673277e+00,\n",
       "         9.23103500e-01,  -4.91425576e+00,   8.76608300e-04,\n",
       "         3.27685103e-03,   2.93832213e-04,   1.26481567e-01,\n",
       "        -2.54390403e-02,   1.57087839e-01,  -2.74033286e-06,\n",
       "         8.54030059e-06,  -7.31045868e-04,  -3.37992999e-04,\n",
       "         2.57786751e-02,   8.39646215e-06,  -5.11195990e-03,\n",
       "        -1.15374123e-03,  -1.23515081e-02,   6.89707186e-05,\n",
       "        -7.26129444e-05,  -6.34916289e-04,   2.05761365e-02,\n",
       "         3.06632350e-01,  -5.82311713e-03])"
      ]
     },
     "execution_count": 336,
     "metadata": {},
     "output_type": "execute_result"
    }
   ],
   "source": [
    "gs.best_estimator_.coef_"
   ]
  },
  {
   "cell_type": "code",
   "execution_count": 337,
   "metadata": {
    "collapsed": false
   },
   "outputs": [
    {
     "name": "stderr",
     "output_type": "stream",
     "text": [
      "/Users/galicher/anaconda/lib/python3.4/site-packages/sklearn/linear_model/coordinate_descent.py:444: ConvergenceWarning: Objective did not converge. You might want to increase the number of iterations\n",
      "  ConvergenceWarning)\n",
      "/Users/galicher/anaconda/lib/python3.4/site-packages/sklearn/linear_model/coordinate_descent.py:444: ConvergenceWarning: Objective did not converge. You might want to increase the number of iterations\n",
      "  ConvergenceWarning)\n",
      "/Users/galicher/anaconda/lib/python3.4/site-packages/sklearn/linear_model/coordinate_descent.py:444: ConvergenceWarning: Objective did not converge. You might want to increase the number of iterations\n",
      "  ConvergenceWarning)\n",
      "/Users/galicher/anaconda/lib/python3.4/site-packages/sklearn/linear_model/coordinate_descent.py:444: ConvergenceWarning: Objective did not converge. You might want to increase the number of iterations\n",
      "  ConvergenceWarning)\n",
      "/Users/galicher/anaconda/lib/python3.4/site-packages/sklearn/linear_model/coordinate_descent.py:444: ConvergenceWarning: Objective did not converge. You might want to increase the number of iterations\n",
      "  ConvergenceWarning)\n",
      "/Users/galicher/anaconda/lib/python3.4/site-packages/sklearn/linear_model/coordinate_descent.py:444: ConvergenceWarning: Objective did not converge. You might want to increase the number of iterations\n",
      "  ConvergenceWarning)\n",
      "/Users/galicher/anaconda/lib/python3.4/site-packages/sklearn/linear_model/coordinate_descent.py:444: ConvergenceWarning: Objective did not converge. You might want to increase the number of iterations\n",
      "  ConvergenceWarning)\n",
      "/Users/galicher/anaconda/lib/python3.4/site-packages/sklearn/linear_model/coordinate_descent.py:444: ConvergenceWarning: Objective did not converge. You might want to increase the number of iterations\n",
      "  ConvergenceWarning)\n",
      "/Users/galicher/anaconda/lib/python3.4/site-packages/sklearn/linear_model/coordinate_descent.py:444: ConvergenceWarning: Objective did not converge. You might want to increase the number of iterations\n",
      "  ConvergenceWarning)\n",
      "/Users/galicher/anaconda/lib/python3.4/site-packages/sklearn/linear_model/coordinate_descent.py:444: ConvergenceWarning: Objective did not converge. You might want to increase the number of iterations\n",
      "  ConvergenceWarning)\n",
      "/Users/galicher/anaconda/lib/python3.4/site-packages/sklearn/linear_model/coordinate_descent.py:444: ConvergenceWarning: Objective did not converge. You might want to increase the number of iterations\n",
      "  ConvergenceWarning)\n",
      "/Users/galicher/anaconda/lib/python3.4/site-packages/sklearn/linear_model/coordinate_descent.py:444: ConvergenceWarning: Objective did not converge. You might want to increase the number of iterations\n",
      "  ConvergenceWarning)\n",
      "/Users/galicher/anaconda/lib/python3.4/site-packages/sklearn/linear_model/coordinate_descent.py:444: ConvergenceWarning: Objective did not converge. You might want to increase the number of iterations\n",
      "  ConvergenceWarning)\n",
      "/Users/galicher/anaconda/lib/python3.4/site-packages/sklearn/linear_model/coordinate_descent.py:444: ConvergenceWarning: Objective did not converge. You might want to increase the number of iterations\n",
      "  ConvergenceWarning)\n",
      "/Users/galicher/anaconda/lib/python3.4/site-packages/sklearn/linear_model/coordinate_descent.py:444: ConvergenceWarning: Objective did not converge. You might want to increase the number of iterations\n",
      "  ConvergenceWarning)\n",
      "/Users/galicher/anaconda/lib/python3.4/site-packages/sklearn/linear_model/coordinate_descent.py:444: ConvergenceWarning: Objective did not converge. You might want to increase the number of iterations\n",
      "  ConvergenceWarning)\n",
      "/Users/galicher/anaconda/lib/python3.4/site-packages/sklearn/linear_model/coordinate_descent.py:444: ConvergenceWarning: Objective did not converge. You might want to increase the number of iterations\n",
      "  ConvergenceWarning)\n",
      "/Users/galicher/anaconda/lib/python3.4/site-packages/sklearn/linear_model/coordinate_descent.py:444: ConvergenceWarning: Objective did not converge. You might want to increase the number of iterations\n",
      "  ConvergenceWarning)\n",
      "/Users/galicher/anaconda/lib/python3.4/site-packages/sklearn/linear_model/coordinate_descent.py:444: ConvergenceWarning: Objective did not converge. You might want to increase the number of iterations\n",
      "  ConvergenceWarning)\n",
      "/Users/galicher/anaconda/lib/python3.4/site-packages/sklearn/linear_model/coordinate_descent.py:444: ConvergenceWarning: Objective did not converge. You might want to increase the number of iterations\n",
      "  ConvergenceWarning)\n",
      "/Users/galicher/anaconda/lib/python3.4/site-packages/sklearn/linear_model/coordinate_descent.py:444: ConvergenceWarning: Objective did not converge. You might want to increase the number of iterations\n",
      "  ConvergenceWarning)\n",
      "/Users/galicher/anaconda/lib/python3.4/site-packages/sklearn/linear_model/coordinate_descent.py:444: ConvergenceWarning: Objective did not converge. You might want to increase the number of iterations\n",
      "  ConvergenceWarning)\n",
      "/Users/galicher/anaconda/lib/python3.4/site-packages/sklearn/linear_model/coordinate_descent.py:444: ConvergenceWarning: Objective did not converge. You might want to increase the number of iterations\n",
      "  ConvergenceWarning)\n",
      "/Users/galicher/anaconda/lib/python3.4/site-packages/sklearn/linear_model/coordinate_descent.py:444: ConvergenceWarning: Objective did not converge. You might want to increase the number of iterations\n",
      "  ConvergenceWarning)\n",
      "/Users/galicher/anaconda/lib/python3.4/site-packages/sklearn/linear_model/coordinate_descent.py:444: ConvergenceWarning: Objective did not converge. You might want to increase the number of iterations\n",
      "  ConvergenceWarning)\n",
      "/Users/galicher/anaconda/lib/python3.4/site-packages/sklearn/linear_model/coordinate_descent.py:444: ConvergenceWarning: Objective did not converge. You might want to increase the number of iterations\n",
      "  ConvergenceWarning)\n",
      "/Users/galicher/anaconda/lib/python3.4/site-packages/sklearn/linear_model/coordinate_descent.py:444: ConvergenceWarning: Objective did not converge. You might want to increase the number of iterations\n",
      "  ConvergenceWarning)\n",
      "/Users/galicher/anaconda/lib/python3.4/site-packages/sklearn/linear_model/coordinate_descent.py:444: ConvergenceWarning: Objective did not converge. You might want to increase the number of iterations\n",
      "  ConvergenceWarning)\n",
      "/Users/galicher/anaconda/lib/python3.4/site-packages/sklearn/linear_model/coordinate_descent.py:444: ConvergenceWarning: Objective did not converge. You might want to increase the number of iterations\n",
      "  ConvergenceWarning)\n",
      "/Users/galicher/anaconda/lib/python3.4/site-packages/sklearn/linear_model/coordinate_descent.py:444: ConvergenceWarning: Objective did not converge. You might want to increase the number of iterations\n",
      "  ConvergenceWarning)\n",
      "/Users/galicher/anaconda/lib/python3.4/site-packages/sklearn/linear_model/coordinate_descent.py:444: ConvergenceWarning: Objective did not converge. You might want to increase the number of iterations\n",
      "  ConvergenceWarning)\n",
      "/Users/galicher/anaconda/lib/python3.4/site-packages/sklearn/linear_model/coordinate_descent.py:444: ConvergenceWarning: Objective did not converge. You might want to increase the number of iterations\n",
      "  ConvergenceWarning)\n",
      "/Users/galicher/anaconda/lib/python3.4/site-packages/sklearn/linear_model/coordinate_descent.py:444: ConvergenceWarning: Objective did not converge. You might want to increase the number of iterations\n",
      "  ConvergenceWarning)\n",
      "/Users/galicher/anaconda/lib/python3.4/site-packages/sklearn/linear_model/coordinate_descent.py:444: ConvergenceWarning: Objective did not converge. You might want to increase the number of iterations\n",
      "  ConvergenceWarning)\n",
      "/Users/galicher/anaconda/lib/python3.4/site-packages/sklearn/linear_model/coordinate_descent.py:444: ConvergenceWarning: Objective did not converge. You might want to increase the number of iterations\n",
      "  ConvergenceWarning)\n",
      "/Users/galicher/anaconda/lib/python3.4/site-packages/sklearn/linear_model/coordinate_descent.py:444: ConvergenceWarning: Objective did not converge. You might want to increase the number of iterations\n",
      "  ConvergenceWarning)\n",
      "/Users/galicher/anaconda/lib/python3.4/site-packages/sklearn/linear_model/coordinate_descent.py:444: ConvergenceWarning: Objective did not converge. You might want to increase the number of iterations\n",
      "  ConvergenceWarning)\n",
      "/Users/galicher/anaconda/lib/python3.4/site-packages/sklearn/linear_model/coordinate_descent.py:444: ConvergenceWarning: Objective did not converge. You might want to increase the number of iterations\n",
      "  ConvergenceWarning)\n",
      "/Users/galicher/anaconda/lib/python3.4/site-packages/sklearn/linear_model/coordinate_descent.py:444: ConvergenceWarning: Objective did not converge. You might want to increase the number of iterations\n",
      "  ConvergenceWarning)\n",
      "/Users/galicher/anaconda/lib/python3.4/site-packages/sklearn/linear_model/coordinate_descent.py:444: ConvergenceWarning: Objective did not converge. You might want to increase the number of iterations\n",
      "  ConvergenceWarning)\n",
      "/Users/galicher/anaconda/lib/python3.4/site-packages/sklearn/linear_model/coordinate_descent.py:444: ConvergenceWarning: Objective did not converge. You might want to increase the number of iterations\n",
      "  ConvergenceWarning)\n"
     ]
    },
    {
     "data": {
      "text/plain": [
       "GridSearchCV(cv=5, error_score='raise',\n",
       "       estimator=Lasso(alpha=1.0, copy_X=True, fit_intercept=True, max_iter=1000,\n",
       "   normalize=True, positive=False, precompute=False, random_state=None,\n",
       "   selection='cyclic', tol=0.0001, warm_start=False),\n",
       "       fit_params={}, iid=True, loss_func=None, n_jobs=1,\n",
       "       param_grid={'alpha': [1e-10, 1e-09, 1e-08, 1e-07, 1e-06, 1e-05, 0.0001, 0.001, 0.01, 0.1, 1, 10, 100, 1000, 10000, 100000, 1000000, 10000000, 100000000, 1000000000]},\n",
       "       pre_dispatch='2*n_jobs', refit=True, score_func=None, scoring=None,\n",
       "       verbose=0)"
      ]
     },
     "execution_count": 337,
     "metadata": {},
     "output_type": "execute_result"
    }
   ],
   "source": [
    "from sklearn import linear_model\n",
    "clf_l = linear_model.Lasso(normalize=True, max_iter= 1000)\n",
    "parameters = {'alpha':  [ 10**i for i in range (-10,10)]}\n",
    "gs_l = grid_search.GridSearchCV(clf_l, param_grid = parameters, cv=5)\n",
    "gs_l.fit(X_t, y)"
   ]
  },
  {
   "cell_type": "code",
   "execution_count": 338,
   "metadata": {
    "collapsed": false
   },
   "outputs": [
    {
     "data": {
      "text/plain": [
       "array([  0.00000000e+00,   2.88625836e-01,   4.86106635e-04,\n",
       "         9.33083577e-02,  -5.58259268e-03,  -2.24973788e+00,\n",
       "         1.16134232e+00,  -1.59908938e+00,   3.06870844e-04,\n",
       "         2.21833331e-03,   3.32651152e-04,   1.59689782e-01,\n",
       "        -5.10166720e-02,   1.11750683e-01,  -1.25464474e-05,\n",
       "         1.01981422e-05,  -1.06972683e-03,  -7.01794136e-04,\n",
       "         2.55669288e-02,   5.13645870e-06,  -5.14399010e-03,\n",
       "        -1.05864828e-03,  -1.77645806e-02,   5.44209099e-05,\n",
       "        -5.46065039e-05,  -2.94399281e-04,   1.85007523e-02,\n",
       "         3.01720575e-01,  -4.92926137e-02])"
      ]
     },
     "execution_count": 338,
     "metadata": {},
     "output_type": "execute_result"
    }
   ],
   "source": [
    "gs_l.best_estimator_.coef_"
   ]
  },
  {
   "cell_type": "code",
   "execution_count": 339,
   "metadata": {
    "collapsed": false
   },
   "outputs": [
    {
     "data": {
      "text/plain": [
       "[mean: 0.70348, std: 0.19928, params: {'alpha': 1e-10},\n",
       " mean: 0.70348, std: 0.19928, params: {'alpha': 1e-09},\n",
       " mean: 0.70348, std: 0.19927, params: {'alpha': 1e-08},\n",
       " mean: 0.70348, std: 0.19927, params: {'alpha': 1e-07},\n",
       " mean: 0.70353, std: 0.19918, params: {'alpha': 1e-06},\n",
       " mean: 0.70401, std: 0.19832, params: {'alpha': 1e-05},\n",
       " mean: 0.70795, std: 0.19071, params: {'alpha': 0.0001},\n",
       " mean: 0.70448, std: 0.18214, params: {'alpha': 0.001},\n",
       " mean: 0.63023, std: 0.21466, params: {'alpha': 0.01},\n",
       " mean: 0.33205, std: 0.76252, params: {'alpha': 0.1},\n",
       " mean: -1.02325, std: 1.10715, params: {'alpha': 1},\n",
       " mean: -1.02325, std: 1.10715, params: {'alpha': 10},\n",
       " mean: -1.02325, std: 1.10715, params: {'alpha': 100},\n",
       " mean: -1.02325, std: 1.10715, params: {'alpha': 1000},\n",
       " mean: -1.02325, std: 1.10715, params: {'alpha': 10000},\n",
       " mean: -1.02325, std: 1.10715, params: {'alpha': 100000},\n",
       " mean: -1.02325, std: 1.10715, params: {'alpha': 1000000},\n",
       " mean: -1.02325, std: 1.10715, params: {'alpha': 10000000},\n",
       " mean: -1.02325, std: 1.10715, params: {'alpha': 100000000},\n",
       " mean: -1.02325, std: 1.10715, params: {'alpha': 1000000000}]"
      ]
     },
     "execution_count": 339,
     "metadata": {},
     "output_type": "execute_result"
    }
   ],
   "source": [
    "gs_l.grid_scores_"
   ]
  },
  {
   "cell_type": "code",
   "execution_count": 340,
   "metadata": {
    "collapsed": false
   },
   "outputs": [
    {
     "data": {
      "text/plain": [
       "Lasso(alpha=0.0001, copy_X=True, fit_intercept=True, max_iter=1000,\n",
       "   normalize=True, positive=False, precompute=False, random_state=None,\n",
       "   selection='cyclic', tol=0.0001, warm_start=False)"
      ]
     },
     "execution_count": 340,
     "metadata": {},
     "output_type": "execute_result"
    }
   ],
   "source": [
    "gs_l.best_estimator_"
   ]
  },
  {
   "cell_type": "code",
   "execution_count": 341,
   "metadata": {
    "collapsed": false
   },
   "outputs": [
    {
     "data": {
      "text/plain": [
       "0.88284903994611763"
      ]
     },
     "execution_count": 341,
     "metadata": {},
     "output_type": "execute_result"
    }
   ],
   "source": [
    "gs_l.score(X_t, y)"
   ]
  },
  {
   "cell_type": "markdown",
   "metadata": {},
   "source": [
    "Afficher dans le cas unidimensionnel, les bornes inf et sup des intervalles de confiance à 98%. On\n",
    "affichera deux courbes de traits en pointillés pour cela."
   ]
  },
  {
   "cell_type": "code",
   "execution_count": 342,
   "metadata": {
    "collapsed": false
   },
   "outputs": [
    {
     "data": {
      "text/plain": [
       "array([  0.00000000e+00,   6.98857616e+00,  -4.78538689e-01,\n",
       "         5.03433939e-01,   4.13288566e-03,  -5.85917321e+00,\n",
       "         6.97430284e-01,  -2.08955704e+01,  -3.38326306e-03,\n",
       "         1.16133262e-02,   3.57462990e-04,   2.77871993e-01,\n",
       "        -1.74125857e-01,   4.02168216e-01,  -8.49062164e-05,\n",
       "         2.47186800e-05,  -3.47899523e-03,   5.93380246e-03,\n",
       "         2.39811277e-02,  -1.96842975e-05,  -7.21273895e-03,\n",
       "        -5.83750571e-03,   2.23250718e-03,   2.34619450e-04,\n",
       "        -2.24523733e-04,  -5.78847492e-04,   5.56215079e-02,\n",
       "         4.58316099e-01,   1.39257020e-01])"
      ]
     },
     "execution_count": 342,
     "metadata": {},
     "output_type": "execute_result"
    }
   ],
   "source": [
    "lr.coef_"
   ]
  },
  {
   "cell_type": "markdown",
   "metadata": {},
   "source": [
    "dans le cas d'un bruit gaussien: "
   ]
  },
  {
   "cell_type": "code",
   "execution_count": 343,
   "metadata": {
    "collapsed": false
   },
   "outputs": [
    {
     "data": {
      "image/png": "[encoded data removed]",
      "text/plain": [
       "<matplotlib.figure.Figure at 0x10d3913c8>"
      ]
     },
     "metadata": {},
     "output_type": "display_data"
    }
   ],
   "source": [
    "# vérifions l'hypothèse gaussienne en reagrdant l'histogramme des résidus\n",
    "import seaborn as sns, numpy as np\n",
    "y = auto_data['mpg']\n",
    "X = auto_data[auto_data.columns[1:-1]]\n",
    "lr.fit(X, y)\n",
    "sns.set(rc={\"figure.figsize\": (8, 4)})\n",
    "ax = sns.distplot(y-lr.predict(X))"
   ]
  },
  {
   "cell_type": "code",
   "execution_count": 344,
   "metadata": {
    "collapsed": false
   },
   "outputs": [
    {
     "data": {
      "text/html": [
       "<div>\n",
       "<table border=\"1\" class=\"dataframe\">\n",
       "  <thead>\n",
       "    <tr style=\"text-align: right;\">\n",
       "      <th></th>\n",
       "      <th>INF</th>\n",
       "      <th>SUP</th>\n",
       "    </tr>\n",
       "  </thead>\n",
       "  <tbody>\n",
       "    <tr>\n",
       "      <th>0</th>\n",
       "      <td>-0.497240</td>\n",
       "      <td>-0.489512</td>\n",
       "    </tr>\n",
       "    <tr>\n",
       "      <th>1</th>\n",
       "      <td>0.019795</td>\n",
       "      <td>0.019996</td>\n",
       "    </tr>\n",
       "    <tr>\n",
       "      <th>2</th>\n",
       "      <td>-0.017150</td>\n",
       "      <td>-0.016752</td>\n",
       "    </tr>\n",
       "    <tr>\n",
       "      <th>3</th>\n",
       "      <td>-0.006481</td>\n",
       "      <td>-0.006467</td>\n",
       "    </tr>\n",
       "    <tr>\n",
       "      <th>4</th>\n",
       "      <td>0.079173</td>\n",
       "      <td>0.081979</td>\n",
       "    </tr>\n",
       "    <tr>\n",
       "      <th>5</th>\n",
       "      <td>0.750482</td>\n",
       "      <td>0.751064</td>\n",
       "    </tr>\n",
       "    <tr>\n",
       "      <th>6</th>\n",
       "      <td>1.413629</td>\n",
       "      <td>1.438652</td>\n",
       "    </tr>\n",
       "  </tbody>\n",
       "</table>\n",
       "</div>"
      ],
      "text/plain": [
       "        INF       SUP\n",
       "0 -0.497240 -0.489512\n",
       "1  0.019795  0.019996\n",
       "2 -0.017150 -0.016752\n",
       "3 -0.006481 -0.006467\n",
       "4  0.079173  0.081979\n",
       "5  0.750482  0.751064\n",
       "6  1.413629  1.438652"
      ]
     },
     "execution_count": 344,
     "metadata": {},
     "output_type": "execute_result"
    }
   ],
   "source": [
    "# il semble \"acceptable\" d'utiliser la loi de student\n",
    "from scipy.stats import t\n",
    "df = y.size - np.ndim(X)\n",
    "alpha = 0.02\n",
    "XTXjj = np.diag(np.dot(np.transpose(np.array(X.astype(float))),np.array(X.astype(float))))\n",
    "XTXjj = np.sqrt(1.0/XTXjj)\n",
    "sigma = np.linalg.norm(y-lr.predict(X))/(y.size-len(X.columns))\n",
    "student_param = t.interval(1-alpha/2,df)[1]\n",
    "thetas = pd.DataFrame([lr.coef_ - sigma*student_param*XTXjj,\n",
    "                       lr.coef_ + sigma*student_param*XTXjj ]).transpose()\n",
    "thetas.columns= ['INF','SUP']\n",
    "thetas"
   ]
  },
  {
   "cell_type": "markdown",
   "metadata": {},
   "source": [
    "Proposer une manière de gérer les variables qualitatives dans le cas auto-mpg, potentiellement avec\n",
    "sklearn.preprocessing.OneHotEncoder."
   ]
  },
  {
   "cell_type": "code",
   "execution_count": 347,
   "metadata": {
    "collapsed": false
   },
   "outputs": [
    {
     "data": {
      "text/html": [
       "<div>\n",
       "<table border=\"1\" class=\"dataframe\">\n",
       "  <thead>\n",
       "    <tr style=\"text-align: right;\">\n",
       "      <th></th>\n",
       "      <th>mpg</th>\n",
       "      <th>cylinders</th>\n",
       "      <th>displacement</th>\n",
       "      <th>horsepower</th>\n",
       "      <th>weight</th>\n",
       "      <th>acceleration</th>\n",
       "      <th>model year</th>\n",
       "      <th>origin</th>\n",
       "      <th>car name</th>\n",
       "      <th>brand</th>\n",
       "      <th>model</th>\n",
       "    </tr>\n",
       "  </thead>\n",
       "  <tbody>\n",
       "    <tr>\n",
       "      <th>0</th>\n",
       "      <td>18</td>\n",
       "      <td>8</td>\n",
       "      <td>307</td>\n",
       "      <td>130.0</td>\n",
       "      <td>3504</td>\n",
       "      <td>12.0</td>\n",
       "      <td>70</td>\n",
       "      <td>1</td>\n",
       "      <td>chevrolet chevelle malibu</td>\n",
       "      <td>6</td>\n",
       "      <td>67</td>\n",
       "    </tr>\n",
       "    <tr>\n",
       "      <th>1</th>\n",
       "      <td>15</td>\n",
       "      <td>8</td>\n",
       "      <td>350</td>\n",
       "      <td>165.0</td>\n",
       "      <td>3693</td>\n",
       "      <td>11.5</td>\n",
       "      <td>70</td>\n",
       "      <td>1</td>\n",
       "      <td>buick skylark 320</td>\n",
       "      <td>3</td>\n",
       "      <td>166</td>\n",
       "    </tr>\n",
       "    <tr>\n",
       "      <th>2</th>\n",
       "      <td>18</td>\n",
       "      <td>8</td>\n",
       "      <td>318</td>\n",
       "      <td>150.0</td>\n",
       "      <td>3436</td>\n",
       "      <td>11.0</td>\n",
       "      <td>70</td>\n",
       "      <td>1</td>\n",
       "      <td>plymouth satellite</td>\n",
       "      <td>22</td>\n",
       "      <td>162</td>\n",
       "    </tr>\n",
       "    <tr>\n",
       "      <th>3</th>\n",
       "      <td>16</td>\n",
       "      <td>8</td>\n",
       "      <td>304</td>\n",
       "      <td>150.0</td>\n",
       "      <td>3433</td>\n",
       "      <td>12.0</td>\n",
       "      <td>70</td>\n",
       "      <td>1</td>\n",
       "      <td>amc rebel sst</td>\n",
       "      <td>0</td>\n",
       "      <td>152</td>\n",
       "    </tr>\n",
       "    <tr>\n",
       "      <th>4</th>\n",
       "      <td>17</td>\n",
       "      <td>8</td>\n",
       "      <td>302</td>\n",
       "      <td>140.0</td>\n",
       "      <td>3449</td>\n",
       "      <td>10.5</td>\n",
       "      <td>70</td>\n",
       "      <td>1</td>\n",
       "      <td>ford torino</td>\n",
       "      <td>12</td>\n",
       "      <td>177</td>\n",
       "    </tr>\n",
       "  </tbody>\n",
       "</table>\n",
       "</div>"
      ],
      "text/plain": [
       "   mpg  cylinders  displacement horsepower  weight  acceleration  model year  \\\n",
       "0   18          8           307      130.0    3504          12.0          70   \n",
       "1   15          8           350      165.0    3693          11.5          70   \n",
       "2   18          8           318      150.0    3436          11.0          70   \n",
       "3   16          8           304      150.0    3433          12.0          70   \n",
       "4   17          8           302      140.0    3449          10.5          70   \n",
       "\n",
       "   origin                   car name  brand  model  \n",
       "0       1  chevrolet chevelle malibu      6     67  \n",
       "1       1          buick skylark 320      3    166  \n",
       "2       1         plymouth satellite     22    162  \n",
       "3       1              amc rebel sst      0    152  \n",
       "4       1                ford torino     12    177  "
      ]
     },
     "execution_count": 347,
     "metadata": {},
     "output_type": "execute_result"
    }
   ],
   "source": [
    "pd.unique(auto_data['car name'].values.ravel())\n",
    "auto_data['car name'] = auto_data['car name'].str.replace('\"','')\n",
    "auto_data['brand'] = auto_data['car name'].str.split(r\"\\s\").str[0]\n",
    "auto_data['model'] = auto_data['car name'].str.split(r\"\\s\").str[1]\n",
    "auto_data.fillna('unknown')\n",
    "pd.unique(auto_data['model'].values.ravel())\n",
    "auto_data['model'] = auto_data['model'].astype(str)\n",
    "auto_data['brand'] = auto_data['brand'].str.replace('toyouta','toyota')\n",
    "auto_data['brand'] = auto_data['brand'].str.replace('chevroelt','chevrolet')\n",
    "auto_data['brand'] = auto_data['brand'].str.replace('maxda','mazda')\n",
    "auto_data['brand'] = auto_data['brand'].str.replace('vokswagen','volkswagen')\n",
    "auto_data['brand'] = auto_data['brand'].str.replace('vw','volkswagen')\n",
    "auto_data['brand'] = auto_data['brand'].str.replace('mercedes-benz','mercedes')\n",
    "auto_data['brand'] = auto_data['brand'].str.replace('mercedes','mercedes-benz')\n",
    "#from sklearn.preprocessing import OneHotEncoder\n",
    "from sklearn.preprocessing import LabelEncoder\n",
    "enc = OneHotEncoder(sparse=False)\n",
    "le = LabelEncoder()\n",
    "le.fit(auto_data['brand'].values)\n",
    "auto_data['brand'] = le.transform(auto_data['brand'].values)\n",
    "le_model = LabelEncoder()\n",
    "le_model.fit(auto_data['model'].values)\n",
    "auto_data['model'] = le_model.transform(auto_data['model'].values)\n",
    "auto_data.head()\n",
    "#from sklearn.feature_extraction import DictVectorizer\n",
    "\n",
    "\n"
   ]
  },
  {
   "cell_type": "code",
   "execution_count": 348,
   "metadata": {
    "collapsed": false
   },
   "outputs": [],
   "source": [
    "#dummies = pd.get_dummies(auto_data['full desc'])"
   ]
  },
  {
   "cell_type": "code",
   "execution_count": 349,
   "metadata": {
    "collapsed": false
   },
   "outputs": [
    {
     "data": {
      "text/html": [
       "<div>\n",
       "<table border=\"1\" class=\"dataframe\">\n",
       "  <thead>\n",
       "    <tr style=\"text-align: right;\">\n",
       "      <th></th>\n",
       "      <th>cylinders</th>\n",
       "      <th>displacement</th>\n",
       "      <th>horsepower</th>\n",
       "      <th>weight</th>\n",
       "      <th>acceleration</th>\n",
       "      <th>model year</th>\n",
       "      <th>origin</th>\n",
       "      <th>brand</th>\n",
       "      <th>model</th>\n",
       "    </tr>\n",
       "  </thead>\n",
       "  <tbody>\n",
       "    <tr>\n",
       "      <th>0</th>\n",
       "      <td>8</td>\n",
       "      <td>307</td>\n",
       "      <td>130.0</td>\n",
       "      <td>3504</td>\n",
       "      <td>12.0</td>\n",
       "      <td>70</td>\n",
       "      <td>1</td>\n",
       "      <td>6</td>\n",
       "      <td>67</td>\n",
       "    </tr>\n",
       "    <tr>\n",
       "      <th>1</th>\n",
       "      <td>8</td>\n",
       "      <td>350</td>\n",
       "      <td>165.0</td>\n",
       "      <td>3693</td>\n",
       "      <td>11.5</td>\n",
       "      <td>70</td>\n",
       "      <td>1</td>\n",
       "      <td>3</td>\n",
       "      <td>166</td>\n",
       "    </tr>\n",
       "    <tr>\n",
       "      <th>2</th>\n",
       "      <td>8</td>\n",
       "      <td>318</td>\n",
       "      <td>150.0</td>\n",
       "      <td>3436</td>\n",
       "      <td>11.0</td>\n",
       "      <td>70</td>\n",
       "      <td>1</td>\n",
       "      <td>22</td>\n",
       "      <td>162</td>\n",
       "    </tr>\n",
       "    <tr>\n",
       "      <th>3</th>\n",
       "      <td>8</td>\n",
       "      <td>304</td>\n",
       "      <td>150.0</td>\n",
       "      <td>3433</td>\n",
       "      <td>12.0</td>\n",
       "      <td>70</td>\n",
       "      <td>1</td>\n",
       "      <td>0</td>\n",
       "      <td>152</td>\n",
       "    </tr>\n",
       "    <tr>\n",
       "      <th>4</th>\n",
       "      <td>8</td>\n",
       "      <td>302</td>\n",
       "      <td>140.0</td>\n",
       "      <td>3449</td>\n",
       "      <td>10.5</td>\n",
       "      <td>70</td>\n",
       "      <td>1</td>\n",
       "      <td>12</td>\n",
       "      <td>177</td>\n",
       "    </tr>\n",
       "  </tbody>\n",
       "</table>\n",
       "</div>"
      ],
      "text/plain": [
       "   cylinders  displacement horsepower  weight  acceleration  model year  \\\n",
       "0          8           307      130.0    3504          12.0          70   \n",
       "1          8           350      165.0    3693          11.5          70   \n",
       "2          8           318      150.0    3436          11.0          70   \n",
       "3          8           304      150.0    3433          12.0          70   \n",
       "4          8           302      140.0    3449          10.5          70   \n",
       "\n",
       "   origin  brand  model  \n",
       "0       1      6     67  \n",
       "1       1      3    166  \n",
       "2       1     22    162  \n",
       "3       1      0    152  \n",
       "4       1     12    177  "
      ]
     },
     "execution_count": 349,
     "metadata": {},
     "output_type": "execute_result"
    }
   ],
   "source": [
    "X_c = pd.concat([X, auto_data[['brand','model']]], axis=1)\n",
    "X_c.head()"
   ]
  },
  {
   "cell_type": "code",
   "execution_count": 359,
   "metadata": {
    "collapsed": false
   },
   "outputs": [
    {
     "name": "stdout",
     "output_type": "stream",
     "text": [
      "4186.4249438\n",
      "0.824240056609\n",
      "[-0.49830437  0.02265709 -0.01979455 -0.00666052  0.06992319  0.7573404\n",
      "  1.16619718  0.04601704 -0.00586574]\n"
     ]
    }
   ],
   "source": [
    "lr2 = linear_model.LinearRegression(normalize=True)\n",
    "#poly = PolynomialFeatures(2, interaction_only= False)\n",
    "#X_t = poly.fit_transform(X_c)\n",
    "lr2.fit(X_c ,y)\n",
    "norm = np.linalg.norm(y-lr2.predict(X_c))\n",
    "print(norm**2)\n",
    "print(lr2.score(X_c,y))\n",
    "print(lr2.coef_)"
   ]
  },
  {
   "cell_type": "code",
   "execution_count": 354,
   "metadata": {
    "collapsed": false
   },
   "outputs": [
    {
     "name": "stdout",
     "output_type": "stream",
     "text": [
      "2353.81250259\n",
      "0.901179178473\n"
     ]
    }
   ],
   "source": [
    "lr2 = linear_model.LinearRegression(normalize=True)\n",
    "poly = PolynomialFeatures(2, interaction_only= False)\n",
    "X_t = poly.fit_transform(X_c)\n",
    "lr2.fit(X_t ,y)\n",
    "norm = np.linalg.norm(y-lr2.predict(X_t))\n",
    "print(norm**2)\n",
    "print(lr2.score(X_t,y))"
   ]
  },
  {
   "cell_type": "code",
   "execution_count": 358,
   "metadata": {
    "collapsed": false
   },
   "outputs": [
    {
     "data": {
      "text/plain": [
       "array([ -1.51186871e+01,  -7.44668911e+00,  -6.94167983e+00,\n",
       "        -6.19946345e-01,  -5.57499215e-01,  -2.13266390e-01,\n",
       "        -1.39786424e-01,  -1.01565822e-01,  -9.46342643e-02,\n",
       "        -5.25307184e-02,  -3.12012968e-03,  -2.93937316e-03,\n",
       "        -2.82427665e-03,  -1.97306757e-03,  -1.69862146e-03,\n",
       "        -1.65377393e-03,  -1.23347015e-03,  -7.64573702e-04,\n",
       "        -3.98883839e-04,  -3.46238851e-04,  -2.85999521e-04,\n",
       "        -1.99328429e-04,  -1.03814259e-04,  -7.70573812e-05,\n",
       "        -5.90875711e-05,  -5.37500880e-05,  -2.74543085e-05,\n",
       "        -1.49187204e-05,  -1.24180782e-05,   0.00000000e+00,\n",
       "         2.80585586e-07,   5.47696255e-06,   7.12213807e-06,\n",
       "         1.02288279e-05,   3.90822491e-04,   6.96365910e-04,\n",
       "         1.24243017e-03,   2.10102785e-03,   4.45706343e-03,\n",
       "         4.64302066e-03,   4.76034307e-03,   6.24981796e-03,\n",
       "         1.14247265e-02,   1.76800027e-02,   2.58565128e-02,\n",
       "         3.64461031e-02,   5.19336089e-02,   5.82838345e-02,\n",
       "         6.01667504e-02,   1.08793281e-01,   2.01539033e-01,\n",
       "         2.57159050e-01,   3.88167545e-01,   5.33711850e-01,\n",
       "         9.60968429e+00])"
      ]
     },
     "execution_count": 358,
     "metadata": {},
     "output_type": "execute_result"
    }
   ],
   "source": [
    "lr2.coef_"
   ]
  },
  {
   "cell_type": "code",
   "execution_count": null,
   "metadata": {
    "collapsed": true
   },
   "outputs": [],
   "source": []
  }
 ],
 "metadata": {
  "kernelspec": {
   "display_name": "Python 3",
   "language": "python",
   "name": "python3"
  },
  "language_info": {
   "codemirror_mode": {
    "name": "ipython",
    "version": 3
   },
   "file_extension": ".py",
   "mimetype": "text/x-python",
   "name": "python",
   "nbconvert_exporter": "python",
   "pygments_lexer": "ipython3",
   "version": "3.4.3"
  }
 },
 "nbformat": 4,
 "nbformat_minor": 0
}
