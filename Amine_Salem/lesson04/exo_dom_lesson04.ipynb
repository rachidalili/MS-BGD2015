{
 "metadata": {
  "name": "",
  "signature": "sha256:a14e8077c6661dcc4d7e469681be18da7f3f0b7b86a559bfb074e92bcefd1909"
 },
 "nbformat": 3,
 "nbformat_minor": 0,
 "worksheets": [
  {
   "cells": [
    {
     "cell_type": "code",
     "collapsed": false,
     "input": [
      "from bs4 import BeautifulSoup\n",
      "import requests\n",
      "import re\n",
      "import json\n",
      "import pandas as pd"
     ],
     "language": "python",
     "metadata": {},
     "outputs": [],
     "prompt_number": 37
    },
    {
     "cell_type": "code",
     "collapsed": false,
     "input": [
      "def load_page(myPage):\n",
      "    page = requests.get(myPage)\n",
      "    MySoup = BeautifulSoup(page.text, 'html.parser')\n",
      "    return MySoup"
     ],
     "language": "python",
     "metadata": {},
     "outputs": [],
     "prompt_number": 2
    },
    {
     "cell_type": "code",
     "collapsed": false,
     "input": [
      "def get_params(link='http://www.leboncoin.fr/voitures/872265494.htm?ca=12_s'):\n",
      "    leBonCoin_soup = load_page(link)\n",
      "    \n",
      "    params = leBonCoin_soup.find_all(\"div\", {\"class\": \"lbcParams criterias\"})\n",
      "    return params"
     ],
     "language": "python",
     "metadata": {},
     "outputs": [],
     "prompt_number": 3
    },
    {
     "cell_type": "code",
     "collapsed": false,
     "input": [
      "def get_item_from_params(params, itemprop):\n",
      "    return params[0].find_all(\"td\", {\"itemprop\":itemprop})\n",
      "\n",
      "def get_km(params):\n",
      "    table_of_tds = params[0].find_all('td')\n",
      "    for td in table_of_tds:\n",
      "        m = re.match(\".*(KM).*\", td.text, re.IGNORECASE)\n",
      "        if m:\n",
      "            return int(td.text.replace(m.group(1), '').replace(' ',''))\n",
      "        \n",
      "def get_pro_or_not(link='http://www.leboncoin.fr/voitures/872265494.htm?ca=12_s'):\n",
      "    leBonCoin_soup = load_page(link)\n",
      "    uploaded_by = leBonCoin_soup.find_all(\"div\", {\"class\":\"upload_by\"})\n",
      "    pro_address = uploaded_by[0].find_all(\"span\", {\"class\":\"ad_pro\"})\n",
      "    return \"professional\" if len(pro_address) == 1 else \"individual\""
     ],
     "language": "python",
     "metadata": {},
     "outputs": [],
     "prompt_number": 4
    },
    {
     "cell_type": "code",
     "collapsed": false,
     "input": [
      "params = get_params()\n",
      "comparison = []\n",
      "year = get_item_from_params(params, \"releaseDate\")[0].text.replace(' ', '').strip()\n",
      "km = get_km(params)\n",
      "uploader = get_pro_or_not()\n",
      "\n",
      "comparison.append([year, km, uploader])\n",
      "print comparison\n"
     ],
     "language": "python",
     "metadata": {},
     "outputs": [
      {
       "output_type": "stream",
       "stream": "stdout",
       "text": [
        "[[u'2014', 2250, 'professional']]\n"
       ]
      }
     ],
     "prompt_number": 9
    },
    {
     "cell_type": "code",
     "collapsed": false,
     "input": [
      "def get_info_as_json(link):\n",
      "    leBonCoin_soup = load_page(link)\n",
      "    js = leBonCoin_soup.find_all(\"script\", {\"type\":\"text/javascript\"})[2].text\n",
      "    js = js.replace(\"\\nvar utag_data = \",'').replace('\\n','')\n",
      "    js = js.replace(' ','').replace('\"','')\n",
      "    js = js.replace(':',\"\\\":\\\"\").replace(',',\"\\\",\\\"\")\n",
      "    js = js.replace('{',\"{\\\"\").replace('}',\"\\\"}\")\n",
      "    #m = re.match(\"(.*\\n*)*pagetype : \\\"([^\\\"]+)\\\".*\", json)\n",
      "    #print js\n",
      "    return json.loads(js)"
     ],
     "language": "python",
     "metadata": {},
     "outputs": [],
     "prompt_number": 10
    },
    {
     "cell_type": "code",
     "collapsed": false,
     "input": [
      "def get_version_from_title(title):\n",
      "    m = re.match(\".*(intens|zen|life).*\", title, re.IGNORECASE)\n",
      "    if m and len(m.groups()) >= 1:\n",
      "        return m.group(1)\n",
      "    else:\n",
      "        return \"\""
     ],
     "language": "python",
     "metadata": {},
     "outputs": [],
     "prompt_number": 11
    },
    {
     "cell_type": "code",
     "collapsed": false,
     "input": [
      "def get_phone_number(link='http://www.leboncoin.fr/voitures/872265494.htm?ca=12_s'):\n",
      "    mySoup = load_page(link)\n",
      "    b = mySoup.select('div[class=\"AdviewContent\"] > div[class=\"content\"]')\n",
      "    description = b[0].text.replace('\\n','').strip()\n",
      "    \n",
      "    m = re.search(\"^.*\\D?(0[0-9].?([0-9][0-9].?){4})\\D?.*$\", description)\n",
      "    if m and len(m.groups()) >= 1:\n",
      "        return m.group(1)\n",
      "    return None"
     ],
     "language": "python",
     "metadata": {},
     "outputs": [],
     "prompt_number": 12
    },
    {
     "cell_type": "code",
     "collapsed": false,
     "input": [
      "def get_data_from_page(link='http://www.leboncoin.fr/voitures/872265494.htm?ca=12_s'):\n",
      "    myJson = get_info_as_json(link)\n",
      "    version = get_version_from_title(myJson[\"titre\"]).lower()\n",
      "    return (version,\n",
      "            myJson[\"annee\"], \n",
      "            myJson[\"km\"], \n",
      "            myJson[\"prix\"], \n",
      "            myJson[\"offres\"], \n",
      "            get_phone_number(link))"
     ],
     "language": "python",
     "metadata": {},
     "outputs": [],
     "prompt_number": 13
    },
    {
     "cell_type": "code",
     "collapsed": false,
     "input": [],
     "language": "python",
     "metadata": {},
     "outputs": [],
     "prompt_number": 13
    },
    {
     "cell_type": "code",
     "collapsed": false,
     "input": [
      "a = get_data_from_page()\n",
      "b = get_data_from_page('http://www.leboncoin.fr/voitures/815020992.htm?ca=12_s')"
     ],
     "language": "python",
     "metadata": {},
     "outputs": [],
     "prompt_number": 14
    },
    {
     "cell_type": "code",
     "collapsed": false,
     "input": [
      "print a\n",
      "print b"
     ],
     "language": "python",
     "metadata": {},
     "outputs": [
      {
       "output_type": "stream",
       "stream": "stdout",
       "text": [
        "(u'intens', u'2014', u'2250', u'15490', u'pro', u'0805805802')\n",
        "(u'intens', u'2013', u'15310', u'12490', u'pro', u'0170176498')\n"
       ]
      }
     ],
     "prompt_number": 15
    },
    {
     "cell_type": "code",
     "collapsed": false,
     "input": [
      "def get_list_of_ads(query = \"renault zoe\"):\n",
      "    ile_de_france = 'http://www.leboncoin.fr/voitures/offres/ile_de_france/?q='+query.replace(' ','+')\n",
      "    paca = 'http://www.leboncoin.fr/voitures/offres/provence_alpes_cote_d_azur/?q='+query.replace(' ','+')\n",
      "    aquitaine = 'http://www.leboncoin.fr/voitures/offres/aquitaine/?q='+query.replace(' ','+')\n",
      "\n",
      "    regions = [ile_de_france, paca, aquitaine]\n",
      "\n",
      "    advertisements = []\n",
      "    for region in regions:\n",
      "        offers = load_page(region).find_all(\"div\", {'class':'list-lbc'})[0]\n",
      "        advertisements_for_region = offers.find_all('a')\n",
      "        #print len(advertisements_for_region)\n",
      "        for ad in advertisements_for_region: \n",
      "            advertisements.append(ad['href'])\n",
      "\n",
      "    return advertisements"
     ],
     "language": "python",
     "metadata": {},
     "outputs": [],
     "prompt_number": 34
    },
    {
     "cell_type": "code",
     "collapsed": false,
     "input": [
      "def get_details_matrix():\n",
      "    matrix = []\n",
      "    all_ads = get_list_of_ads()\n",
      "    for ad in all_ads:\n",
      "        matrix.append(get_data_from_page(ad))\n",
      "    return matrix"
     ],
     "language": "python",
     "metadata": {},
     "outputs": [],
     "prompt_number": 43
    },
    {
     "cell_type": "code",
     "collapsed": false,
     "input": [
      "m = get_details_matrix()\n",
      "print m"
     ],
     "language": "python",
     "metadata": {},
     "outputs": [
      {
       "output_type": "stream",
       "stream": "stdout",
       "text": [
        "[('', u'2014', u'15000', u'14490', u'pro', u'06.61.71.36.89R'), (u'life', u'2014', u'3299', u'12990', u'pro', u'0805805802'), (u'intens', u'2014', u'2250', u'15490', u'pro', u'0805805802'), (u'zen', u'2013', u'12525', u'10490', u'pro', u'0175448151'), (u'intens', u'2014', u'10', u'15490', u'pro', u'0805805802'), (u'intens', u'2014', u'10', u'15490', u'pro', u'0805805802'), (u'intens', u'2014', u'2250', u'15490', u'pro', u'0805805802'), (u'zen', u'2013', u'31000', u'9500', u'part', None), (u'life', u'2014', u'18032', u'12890', u'pro', u'0609775076'), (u'life', u'2013', u'16100', u'9200', u'part', None), (u'zen', u'2013', u'9600', u'11490', u'pro', u'0174730257'), (u'intens', u'2014', u'12000', u'13500', u'part', None), (u'zen', u'2013', u'16515', u'10990', u'pro', u'0175448163'), (u'life', u'2014', u'3299', u'12990', u'pro', u'0805805802'), (u'life', u'2015', u'1000', u'12990', u'part', None), (u'intens', u'2015', u'235', u'17900', u'pro', u'0677372750'), (u'life', u'2013', u'26454', u'8990', u'pro', u'0174704406'), (u'intens', u'2013', u'28317', u'10690', u'pro', u'0174037256'), (u'intens', u'2013', u'15310', u'12490', u'pro', u'0170176498'), (u'life', u'2013', u'23874', u'8990', u'pro', u'0170176499'), (u'zen', u'2014', u'6500', u'12990', u'pro', u'0182714652'), ('', u'2012', u'28000', u'4990', u'pro', u'06 67 52 43 55E'), (u'life', u'2014', u'14600', u'10500', u'part', None), (u'zen', u'2013', u'13947', u'11790', u'pro', u'06.69.50.92.20'), ('', u'2012', u'44000', u'6500', u'part', None), (u'life', u'2013', u'27699', u'9800', u'pro', u'0422170191'), (u'life', u'2015', u'3', u'13990', u'pro', u'0805805802'), (u'zen', u'2013', u'39193', u'13800', u'pro', u'0682177533'), ('', u'2013', u'18600', u'12000', u'part', u'06 81 31 28 45.'), (u'zen', u'2013', u'30000', u'10000', u'part', None), ('', u'2013', u'11000', u'12000', u'part', None), (u'zen', u'2013', u'14000', u'12500', u'part', None)]\n"
       ]
      }
     ],
     "prompt_number": 44
    },
    {
     "cell_type": "code",
     "collapsed": false,
     "input": [
      "columns = ['Version', 'Year', 'Km', 'Price', 'Posted by', 'Phone']\n",
      "cars = pd.DataFrame(m, columns = columns)\n",
      "cars.head()"
     ],
     "language": "python",
     "metadata": {},
     "outputs": [
      {
       "html": [
        "<div style=\"max-width:1500px;overflow:auto;\">\n",
        "<table border=\"1\" class=\"dataframe\">\n",
        "  <thead>\n",
        "    <tr style=\"text-align: right;\">\n",
        "      <th></th>\n",
        "      <th>Version</th>\n",
        "      <th>Year</th>\n",
        "      <th>Km</th>\n",
        "      <th>Price</th>\n",
        "      <th>Posted by</th>\n",
        "      <th>Phone</th>\n",
        "    </tr>\n",
        "  </thead>\n",
        "  <tbody>\n",
        "    <tr>\n",
        "      <th>0</th>\n",
        "      <td></td>\n",
        "      <td>2014</td>\n",
        "      <td>15000</td>\n",
        "      <td>14490</td>\n",
        "      <td>pro</td>\n",
        "      <td>06.61.71.36.89R</td>\n",
        "    </tr>\n",
        "    <tr>\n",
        "      <th>1</th>\n",
        "      <td>life</td>\n",
        "      <td>2014</td>\n",
        "      <td>3299</td>\n",
        "      <td>12990</td>\n",
        "      <td>pro</td>\n",
        "      <td>0805805802</td>\n",
        "    </tr>\n",
        "    <tr>\n",
        "      <th>2</th>\n",
        "      <td>intens</td>\n",
        "      <td>2014</td>\n",
        "      <td>2250</td>\n",
        "      <td>15490</td>\n",
        "      <td>pro</td>\n",
        "      <td>0805805802</td>\n",
        "    </tr>\n",
        "    <tr>\n",
        "      <th>3</th>\n",
        "      <td>zen</td>\n",
        "      <td>2013</td>\n",
        "      <td>12525</td>\n",
        "      <td>10490</td>\n",
        "      <td>pro</td>\n",
        "      <td>0175448151</td>\n",
        "    </tr>\n",
        "    <tr>\n",
        "      <th>4</th>\n",
        "      <td>intens</td>\n",
        "      <td>2014</td>\n",
        "      <td>10</td>\n",
        "      <td>15490</td>\n",
        "      <td>pro</td>\n",
        "      <td>0805805802</td>\n",
        "    </tr>\n",
        "  </tbody>\n",
        "</table>\n",
        "</div>"
       ],
       "metadata": {},
       "output_type": "pyout",
       "prompt_number": 64,
       "text": [
        "  Version  Year     Km  Price Posted by            Phone\n",
        "0          2014  15000  14490       pro  06.61.71.36.89R\n",
        "1    life  2014   3299  12990       pro       0805805802\n",
        "2  intens  2014   2250  15490       pro       0805805802\n",
        "3     zen  2013  12525  10490       pro       0175448151\n",
        "4  intens  2014     10  15490       pro       0805805802"
       ]
      }
     ],
     "prompt_number": 64
    },
    {
     "cell_type": "code",
     "collapsed": false,
     "input": [
      "def get_argus_for_car(car):\n",
      "    version = car[['Version']].item()\n",
      "    year = car[['Year']].item()\n",
      "\n",
      "    if version != '':\n",
      "        argus_page = 'http://www.lacentrale.fr/cote-auto-renault-zoe-'+version+'+charge+rapide-'+year+'.html'\n",
      "        res = load_page(argus_page)\n",
      "        argus_with_currency = res.find_all('span', {'class':'Result_Cote arial tx20'})[0].text.replace(' ', '')\n",
      "        matches = re.match('([0-9]*)', argus_with_currency)\n",
      "        argus = matches.group(1)\n",
      "        return argus\n",
      "    else:\n",
      "        return \"0\""
     ],
     "language": "python",
     "metadata": {},
     "outputs": [],
     "prompt_number": 97
    },
    {
     "cell_type": "code",
     "collapsed": false,
     "input": [
      "def get_argus_list(cars):\n",
      "    argus_list = []\n",
      "    for idx in range(0, cars.shape[0]):\n",
      "        argus_list.append(get_argus_for_car(cars.irow(idx)))\n",
      "    return argus_list"
     ],
     "language": "python",
     "metadata": {},
     "outputs": [],
     "prompt_number": 106
    },
    {
     "cell_type": "code",
     "collapsed": false,
     "input": [
      "argus_list = get_argus_list(cars)\n",
      "argus_list_df = pd.DataFrame(argus_list, columns=['Argus'])"
     ],
     "language": "python",
     "metadata": {},
     "outputs": [],
     "prompt_number": 107
    },
    {
     "cell_type": "code",
     "collapsed": false,
     "input": [
      "print argus_list_df.head()\n",
      "cars_with_argus = pd.concat([cars, argus_list_df], axis=1)\n",
      "cars_with_argus.head()"
     ],
     "language": "python",
     "metadata": {},
     "outputs": [
      {
       "output_type": "stream",
       "stream": "stdout",
       "text": [
        "   Argus\n",
        "0      0\n",
        "1  12000\n",
        "2  13800\n",
        "3  10700\n",
        "4  13800\n"
       ]
      },
      {
       "html": [
        "<div style=\"max-width:1500px;overflow:auto;\">\n",
        "<table border=\"1\" class=\"dataframe\">\n",
        "  <thead>\n",
        "    <tr style=\"text-align: right;\">\n",
        "      <th></th>\n",
        "      <th>Version</th>\n",
        "      <th>Year</th>\n",
        "      <th>Km</th>\n",
        "      <th>Price</th>\n",
        "      <th>Posted by</th>\n",
        "      <th>Phone</th>\n",
        "      <th>Argus</th>\n",
        "    </tr>\n",
        "  </thead>\n",
        "  <tbody>\n",
        "    <tr>\n",
        "      <th>0</th>\n",
        "      <td></td>\n",
        "      <td>2014</td>\n",
        "      <td>15000</td>\n",
        "      <td>14490</td>\n",
        "      <td>pro</td>\n",
        "      <td>06.61.71.36.89R</td>\n",
        "      <td>0</td>\n",
        "    </tr>\n",
        "    <tr>\n",
        "      <th>1</th>\n",
        "      <td>life</td>\n",
        "      <td>2014</td>\n",
        "      <td>3299</td>\n",
        "      <td>12990</td>\n",
        "      <td>pro</td>\n",
        "      <td>0805805802</td>\n",
        "      <td>12000</td>\n",
        "    </tr>\n",
        "    <tr>\n",
        "      <th>2</th>\n",
        "      <td>intens</td>\n",
        "      <td>2014</td>\n",
        "      <td>2250</td>\n",
        "      <td>15490</td>\n",
        "      <td>pro</td>\n",
        "      <td>0805805802</td>\n",
        "      <td>13800</td>\n",
        "    </tr>\n",
        "    <tr>\n",
        "      <th>3</th>\n",
        "      <td>zen</td>\n",
        "      <td>2013</td>\n",
        "      <td>12525</td>\n",
        "      <td>10490</td>\n",
        "      <td>pro</td>\n",
        "      <td>0175448151</td>\n",
        "      <td>10700</td>\n",
        "    </tr>\n",
        "    <tr>\n",
        "      <th>4</th>\n",
        "      <td>intens</td>\n",
        "      <td>2014</td>\n",
        "      <td>10</td>\n",
        "      <td>15490</td>\n",
        "      <td>pro</td>\n",
        "      <td>0805805802</td>\n",
        "      <td>13800</td>\n",
        "    </tr>\n",
        "  </tbody>\n",
        "</table>\n",
        "</div>"
       ],
       "metadata": {},
       "output_type": "pyout",
       "prompt_number": 108,
       "text": [
        "  Version  Year     Km  Price Posted by            Phone  Argus\n",
        "0          2014  15000  14490       pro  06.61.71.36.89R      0\n",
        "1    life  2014   3299  12990       pro       0805805802  12000\n",
        "2  intens  2014   2250  15490       pro       0805805802  13800\n",
        "3     zen  2013  12525  10490       pro       0175448151  10700\n",
        "4  intens  2014     10  15490       pro       0805805802  13800"
       ]
      }
     ],
     "prompt_number": 108
    },
    {
     "cell_type": "code",
     "collapsed": false,
     "input": [
      "cars_with_argus[['Year', 'Km', 'Price', 'Argus']] = cars_with_argus[['Year', 'Km', 'Price', 'Argus']].astype(int)\n",
      "cars_with_argus.dtypes"
     ],
     "language": "python",
     "metadata": {},
     "outputs": [
      {
       "metadata": {},
       "output_type": "pyout",
       "prompt_number": 110,
       "text": [
        "Version      object\n",
        "Year          int32\n",
        "Km            int32\n",
        "Price         int32\n",
        "Posted by    object\n",
        "Phone        object\n",
        "Argus         int32\n",
        "dtype: object"
       ]
      }
     ],
     "prompt_number": 110
    },
    {
     "cell_type": "code",
     "collapsed": false,
     "input": [
      "def compare(price, argus):\n",
      "    return \"cheap\" if price.item() <= argus.item() else \"expensive\""
     ],
     "language": "python",
     "metadata": {},
     "outputs": [],
     "prompt_number": 116
    },
    {
     "cell_type": "code",
     "collapsed": false,
     "input": [
      "aa = cars_with_argus.apply(lambda row: compare(row[['Price']], row[['Argus']]), axis=1)\n",
      "cars_with_argus['Evaluation'] = cars_with_argus.apply(lambda row: compare(row[['Price']], row[['Argus']]), axis=1)\n",
      "#cars_with_argus_and_comparison = pd.concat(cars_with_argus, aa)"
     ],
     "language": "python",
     "metadata": {},
     "outputs": [],
     "prompt_number": 122
    },
    {
     "cell_type": "code",
     "collapsed": false,
     "input": [
      "cars_with_argus.head()"
     ],
     "language": "python",
     "metadata": {},
     "outputs": [
      {
       "html": [
        "<div style=\"max-width:1500px;overflow:auto;\">\n",
        "<table border=\"1\" class=\"dataframe\">\n",
        "  <thead>\n",
        "    <tr style=\"text-align: right;\">\n",
        "      <th></th>\n",
        "      <th>Version</th>\n",
        "      <th>Year</th>\n",
        "      <th>Km</th>\n",
        "      <th>Price</th>\n",
        "      <th>Posted by</th>\n",
        "      <th>Phone</th>\n",
        "      <th>Argus</th>\n",
        "      <th>Evaluation</th>\n",
        "    </tr>\n",
        "  </thead>\n",
        "  <tbody>\n",
        "    <tr>\n",
        "      <th>0</th>\n",
        "      <td></td>\n",
        "      <td>2014</td>\n",
        "      <td>15000</td>\n",
        "      <td>14490</td>\n",
        "      <td>pro</td>\n",
        "      <td>06.61.71.36.89R</td>\n",
        "      <td>0</td>\n",
        "      <td>expensive</td>\n",
        "    </tr>\n",
        "    <tr>\n",
        "      <th>1</th>\n",
        "      <td>life</td>\n",
        "      <td>2014</td>\n",
        "      <td>3299</td>\n",
        "      <td>12990</td>\n",
        "      <td>pro</td>\n",
        "      <td>0805805802</td>\n",
        "      <td>12000</td>\n",
        "      <td>expensive</td>\n",
        "    </tr>\n",
        "    <tr>\n",
        "      <th>2</th>\n",
        "      <td>intens</td>\n",
        "      <td>2014</td>\n",
        "      <td>2250</td>\n",
        "      <td>15490</td>\n",
        "      <td>pro</td>\n",
        "      <td>0805805802</td>\n",
        "      <td>13800</td>\n",
        "      <td>expensive</td>\n",
        "    </tr>\n",
        "    <tr>\n",
        "      <th>3</th>\n",
        "      <td>zen</td>\n",
        "      <td>2013</td>\n",
        "      <td>12525</td>\n",
        "      <td>10490</td>\n",
        "      <td>pro</td>\n",
        "      <td>0175448151</td>\n",
        "      <td>10700</td>\n",
        "      <td>cheap</td>\n",
        "    </tr>\n",
        "    <tr>\n",
        "      <th>4</th>\n",
        "      <td>intens</td>\n",
        "      <td>2014</td>\n",
        "      <td>10</td>\n",
        "      <td>15490</td>\n",
        "      <td>pro</td>\n",
        "      <td>0805805802</td>\n",
        "      <td>13800</td>\n",
        "      <td>expensive</td>\n",
        "    </tr>\n",
        "  </tbody>\n",
        "</table>\n",
        "</div>"
       ],
       "metadata": {},
       "output_type": "pyout",
       "prompt_number": 123,
       "text": [
        "  Version  Year     Km  Price Posted by            Phone  Argus Evaluation\n",
        "0          2014  15000  14490       pro  06.61.71.36.89R      0  expensive\n",
        "1    life  2014   3299  12990       pro       0805805802  12000  expensive\n",
        "2  intens  2014   2250  15490       pro       0805805802  13800  expensive\n",
        "3     zen  2013  12525  10490       pro       0175448151  10700      cheap\n",
        "4  intens  2014     10  15490       pro       0805805802  13800  expensive"
       ]
      }
     ],
     "prompt_number": 123
    },
    {
     "cell_type": "code",
     "collapsed": false,
     "input": [
      "cars_with_argus.to_csv(\"cars.csv\", sep=';')"
     ],
     "language": "python",
     "metadata": {},
     "outputs": [],
     "prompt_number": 125
    },
    {
     "cell_type": "code",
     "collapsed": false,
     "input": [],
     "language": "python",
     "metadata": {},
     "outputs": []
    }
   ],
   "metadata": {}
  }
 ]
}