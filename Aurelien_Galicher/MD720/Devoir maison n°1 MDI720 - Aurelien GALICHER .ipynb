{
 "cells": [
  {
   "cell_type": "code",
   "execution_count": 1,
   "metadata": {
    "collapsed": false
   },
   "outputs": [
    {
     "name": "stdout",
     "output_type": "stream",
     "text": [
      "Installed pep8_magic.py. To use it, type:\n",
      "  %load_ext pep8_magic\n"
     ]
    }
   ],
   "source": [
    "%install_ext https://raw.githubusercontent.com/SiggyF/notebooks/master/pep8_magic.py\n",
    "%load_ext pep8_magic"
   ]
  },
  {
   "cell_type": "code",
   "execution_count": 2,
   "metadata": {
    "collapsed": false
   },
   "outputs": [],
   "source": [
    "import numpy as np\n",
    "import matplotlib.pyplot as plt  # for plots\n",
    "import pandas as pd\n",
    "from matplotlib import rc\n",
    "%matplotlib inline\n",
    "import statsmodels.api as sm\n",
    "import statsmodels.formula.api as smf\n",
    "from sklearn import preprocessing\n",
    "import sklearn.linear_model as lm\n",
    "import scipy as sc\n",
    "from sklearn.utils import resample\n",
    "import seaborn as sns\n",
    "import os as macosx\n",
    "import math\n",
    "from os import mkdir, path\n",
    "from IPython.display import display, Math, Latex\n",
    "macosx.environ['PATH'] = macosx.environ['PATH'] + ':/usr/texbin'\n"
   ]
  },
  {
   "cell_type": "code",
   "execution_count": 3,
   "metadata": {
    "collapsed": false
   },
   "outputs": [],
   "source": [
    "# Plot initialization\n",
    "color_blind_list = sns.color_palette(\"colorblind\", 8)\n",
    "my_orange = color_blind_list[2]\n",
    "my_green = color_blind_list[1]\n",
    "my_red = color_blind_list[3]"
   ]
  },
  {
   "cell_type": "markdown",
   "metadata": {},
   "source": [
    "#Exercice 1 "
   ]
  },
  {
   "cell_type": "markdown",
   "metadata": {},
   "source": [
    "##Question 1"
   ]
  },
  {
   "cell_type": "markdown",
   "metadata": {},
   "source": [
    "Nous considérons le modèle linéraire suivant:\n",
    "$$  \\mathbf{y} = \\mathbf{X} \\mathbf{\\theta^*} + \\mathbf{\\varepsilon} \\\\\n",
    "   \\begin{align} \\mathbf{y} \\in \\mathbb{R}^n  && \\text{est le vecteur des observations} \\\\\n",
    "   \\mathbf{X} \\in \\mathbb{R}^{n \\times p+1} && \\text{est la matrice des variables explicatives} \\\\\n",
    "   \\mathbf{\\theta}^* \\in \\mathbb{R}^{p+1}  && \\text{est le vrai paramètre du modèle que l’on veut \n",
    "retrouver} \\\\\n",
    " \\mathbf{\\varepsilon} \\in \\mathbb{R}^{n}  && \\text{est le bruit dont la loi de distribution est } \\mathcal{N}(\\mathbf{0}_{n},\\sigma^{2}\\mathbf{I}_{d_n}) \\end{align} $$"
   ]
  },
  {
   "cell_type": "markdown",
   "metadata": {},
   "source": [
    "##Question 2"
   ]
  },
  {
   "cell_type": "markdown",
   "metadata": {
    "collapsed": true
   },
   "source": [
    "Nous chargeons le dataset airquality depuis le module statsmodels:"
   ]
  },
  {
   "cell_type": "code",
   "execution_count": 22,
   "metadata": {
    "collapsed": false
   },
   "outputs": [],
   "source": [
    "# Load data\n",
    "dat = sm.datasets.get_rdataset(\"airquality\").data"
   ]
  },
  {
   "cell_type": "code",
   "execution_count": 23,
   "metadata": {
    "collapsed": false
   },
   "outputs": [
    {
     "data": {
      "text/html": [
       "<div>\n",
       "<table border=\"1\" class=\"dataframe\">\n",
       "  <thead>\n",
       "    <tr style=\"text-align: right;\">\n",
       "      <th></th>\n",
       "      <th>Ozone</th>\n",
       "      <th>Solar.R</th>\n",
       "      <th>Wind</th>\n",
       "      <th>Temp</th>\n",
       "      <th>Month</th>\n",
       "      <th>Day</th>\n",
       "    </tr>\n",
       "  </thead>\n",
       "  <tbody>\n",
       "    <tr>\n",
       "      <th>0</th>\n",
       "      <td>41</td>\n",
       "      <td>190</td>\n",
       "      <td>7.4</td>\n",
       "      <td>67</td>\n",
       "      <td>5</td>\n",
       "      <td>1</td>\n",
       "    </tr>\n",
       "    <tr>\n",
       "      <th>1</th>\n",
       "      <td>36</td>\n",
       "      <td>118</td>\n",
       "      <td>8.0</td>\n",
       "      <td>72</td>\n",
       "      <td>5</td>\n",
       "      <td>2</td>\n",
       "    </tr>\n",
       "    <tr>\n",
       "      <th>2</th>\n",
       "      <td>12</td>\n",
       "      <td>149</td>\n",
       "      <td>12.6</td>\n",
       "      <td>74</td>\n",
       "      <td>5</td>\n",
       "      <td>3</td>\n",
       "    </tr>\n",
       "    <tr>\n",
       "      <th>3</th>\n",
       "      <td>18</td>\n",
       "      <td>313</td>\n",
       "      <td>11.5</td>\n",
       "      <td>62</td>\n",
       "      <td>5</td>\n",
       "      <td>4</td>\n",
       "    </tr>\n",
       "    <tr>\n",
       "      <th>4</th>\n",
       "      <td>NaN</td>\n",
       "      <td>NaN</td>\n",
       "      <td>14.3</td>\n",
       "      <td>56</td>\n",
       "      <td>5</td>\n",
       "      <td>5</td>\n",
       "    </tr>\n",
       "  </tbody>\n",
       "</table>\n",
       "</div>"
      ],
      "text/plain": [
       "   Ozone  Solar.R  Wind  Temp  Month  Day\n",
       "0     41      190   7.4    67      5    1\n",
       "1     36      118   8.0    72      5    2\n",
       "2     12      149  12.6    74      5    3\n",
       "3     18      313  11.5    62      5    4\n",
       "4    NaN      NaN  14.3    56      5    5"
      ]
     },
     "execution_count": 23,
     "metadata": {},
     "output_type": "execute_result"
    }
   ],
   "source": [
    "dat.head()"
   ]
  },
  {
   "cell_type": "markdown",
   "metadata": {},
   "source": [
    "Nous obtenons une description des propriétés statistiques du dataset airquality.\n",
    "on remarque qu'il y a des données manquantes (notamment pour le vecteur des observations Ozone et pour la variable explicative Solar.R)."
   ]
  },
  {
   "cell_type": "code",
   "execution_count": 27,
   "metadata": {
    "collapsed": false
   },
   "outputs": [
    {
     "data": {
      "text/html": [
       "<div>\n",
       "<table border=\"1\" class=\"dataframe\">\n",
       "  <thead>\n",
       "    <tr style=\"text-align: right;\">\n",
       "      <th></th>\n",
       "      <th>Ozone</th>\n",
       "      <th>Solar.R</th>\n",
       "      <th>Wind</th>\n",
       "      <th>Temp</th>\n",
       "      <th>Month</th>\n",
       "      <th>Day</th>\n",
       "    </tr>\n",
       "  </thead>\n",
       "  <tbody>\n",
       "    <tr>\n",
       "      <th>count</th>\n",
       "      <td>116.000000</td>\n",
       "      <td>146.000000</td>\n",
       "      <td>153.000000</td>\n",
       "      <td>153.000000</td>\n",
       "      <td>153.000000</td>\n",
       "      <td>153.000000</td>\n",
       "    </tr>\n",
       "    <tr>\n",
       "      <th>mean</th>\n",
       "      <td>42.129310</td>\n",
       "      <td>185.931507</td>\n",
       "      <td>9.957516</td>\n",
       "      <td>77.882353</td>\n",
       "      <td>6.993464</td>\n",
       "      <td>15.803922</td>\n",
       "    </tr>\n",
       "    <tr>\n",
       "      <th>std</th>\n",
       "      <td>32.987885</td>\n",
       "      <td>90.058422</td>\n",
       "      <td>3.523001</td>\n",
       "      <td>9.465270</td>\n",
       "      <td>1.416522</td>\n",
       "      <td>8.864520</td>\n",
       "    </tr>\n",
       "    <tr>\n",
       "      <th>min</th>\n",
       "      <td>1.000000</td>\n",
       "      <td>7.000000</td>\n",
       "      <td>1.700000</td>\n",
       "      <td>56.000000</td>\n",
       "      <td>5.000000</td>\n",
       "      <td>1.000000</td>\n",
       "    </tr>\n",
       "    <tr>\n",
       "      <th>25%</th>\n",
       "      <td>18.000000</td>\n",
       "      <td>115.750000</td>\n",
       "      <td>7.400000</td>\n",
       "      <td>72.000000</td>\n",
       "      <td>6.000000</td>\n",
       "      <td>8.000000</td>\n",
       "    </tr>\n",
       "    <tr>\n",
       "      <th>50%</th>\n",
       "      <td>31.500000</td>\n",
       "      <td>205.000000</td>\n",
       "      <td>9.700000</td>\n",
       "      <td>79.000000</td>\n",
       "      <td>7.000000</td>\n",
       "      <td>16.000000</td>\n",
       "    </tr>\n",
       "    <tr>\n",
       "      <th>75%</th>\n",
       "      <td>63.250000</td>\n",
       "      <td>258.750000</td>\n",
       "      <td>11.500000</td>\n",
       "      <td>85.000000</td>\n",
       "      <td>8.000000</td>\n",
       "      <td>23.000000</td>\n",
       "    </tr>\n",
       "    <tr>\n",
       "      <th>max</th>\n",
       "      <td>168.000000</td>\n",
       "      <td>334.000000</td>\n",
       "      <td>20.700000</td>\n",
       "      <td>97.000000</td>\n",
       "      <td>9.000000</td>\n",
       "      <td>31.000000</td>\n",
       "    </tr>\n",
       "  </tbody>\n",
       "</table>\n",
       "</div>"
      ],
      "text/plain": [
       "            Ozone     Solar.R        Wind        Temp       Month         Day\n",
       "count  116.000000  146.000000  153.000000  153.000000  153.000000  153.000000\n",
       "mean    42.129310  185.931507    9.957516   77.882353    6.993464   15.803922\n",
       "std     32.987885   90.058422    3.523001    9.465270    1.416522    8.864520\n",
       "min      1.000000    7.000000    1.700000   56.000000    5.000000    1.000000\n",
       "25%     18.000000  115.750000    7.400000   72.000000    6.000000    8.000000\n",
       "50%     31.500000  205.000000    9.700000   79.000000    7.000000   16.000000\n",
       "75%     63.250000  258.750000   11.500000   85.000000    8.000000   23.000000\n",
       "max    168.000000  334.000000   20.700000   97.000000    9.000000   31.000000"
      ]
     },
     "execution_count": 27,
     "metadata": {},
     "output_type": "execute_result"
    }
   ],
   "source": [
    "# checking dataframe format\n",
    "dat.describe()"
   ]
  },
  {
   "cell_type": "markdown",
   "metadata": {},
   "source": [
    "##Question 3"
   ]
  },
  {
   "cell_type": "markdown",
   "metadata": {},
   "source": [
    "Nous supprimons les lignes avec des données manquantes via la methode dropna.\n",
    "il ne reste plus que 111 lines. En conséquence, n= 111 dans notre modèle. Par ailleurs p= 5."
   ]
  },
  {
   "cell_type": "code",
   "execution_count": 28,
   "metadata": {
    "collapsed": false
   },
   "outputs": [
    {
     "data": {
      "text/html": [
       "<div>\n",
       "<table border=\"1\" class=\"dataframe\">\n",
       "  <thead>\n",
       "    <tr style=\"text-align: right;\">\n",
       "      <th></th>\n",
       "      <th>Ozone</th>\n",
       "      <th>Solar.R</th>\n",
       "      <th>Wind</th>\n",
       "      <th>Temp</th>\n",
       "      <th>Month</th>\n",
       "      <th>Day</th>\n",
       "    </tr>\n",
       "  </thead>\n",
       "  <tbody>\n",
       "    <tr>\n",
       "      <th>count</th>\n",
       "      <td>111.000000</td>\n",
       "      <td>111.000000</td>\n",
       "      <td>111.000000</td>\n",
       "      <td>111.000000</td>\n",
       "      <td>111.000000</td>\n",
       "      <td>111.000000</td>\n",
       "    </tr>\n",
       "    <tr>\n",
       "      <th>mean</th>\n",
       "      <td>42.099099</td>\n",
       "      <td>184.801802</td>\n",
       "      <td>9.939640</td>\n",
       "      <td>77.792793</td>\n",
       "      <td>7.216216</td>\n",
       "      <td>15.945946</td>\n",
       "    </tr>\n",
       "    <tr>\n",
       "      <th>std</th>\n",
       "      <td>33.275969</td>\n",
       "      <td>91.152302</td>\n",
       "      <td>3.557713</td>\n",
       "      <td>9.529969</td>\n",
       "      <td>1.473434</td>\n",
       "      <td>8.707194</td>\n",
       "    </tr>\n",
       "    <tr>\n",
       "      <th>min</th>\n",
       "      <td>1.000000</td>\n",
       "      <td>7.000000</td>\n",
       "      <td>2.300000</td>\n",
       "      <td>57.000000</td>\n",
       "      <td>5.000000</td>\n",
       "      <td>1.000000</td>\n",
       "    </tr>\n",
       "    <tr>\n",
       "      <th>25%</th>\n",
       "      <td>18.000000</td>\n",
       "      <td>113.500000</td>\n",
       "      <td>7.400000</td>\n",
       "      <td>71.000000</td>\n",
       "      <td>6.000000</td>\n",
       "      <td>9.000000</td>\n",
       "    </tr>\n",
       "    <tr>\n",
       "      <th>50%</th>\n",
       "      <td>31.000000</td>\n",
       "      <td>207.000000</td>\n",
       "      <td>9.700000</td>\n",
       "      <td>79.000000</td>\n",
       "      <td>7.000000</td>\n",
       "      <td>16.000000</td>\n",
       "    </tr>\n",
       "    <tr>\n",
       "      <th>75%</th>\n",
       "      <td>62.000000</td>\n",
       "      <td>255.500000</td>\n",
       "      <td>11.500000</td>\n",
       "      <td>84.500000</td>\n",
       "      <td>9.000000</td>\n",
       "      <td>22.500000</td>\n",
       "    </tr>\n",
       "    <tr>\n",
       "      <th>max</th>\n",
       "      <td>168.000000</td>\n",
       "      <td>334.000000</td>\n",
       "      <td>20.700000</td>\n",
       "      <td>97.000000</td>\n",
       "      <td>9.000000</td>\n",
       "      <td>31.000000</td>\n",
       "    </tr>\n",
       "  </tbody>\n",
       "</table>\n",
       "</div>"
      ],
      "text/plain": [
       "            Ozone     Solar.R        Wind        Temp       Month         Day\n",
       "count  111.000000  111.000000  111.000000  111.000000  111.000000  111.000000\n",
       "mean    42.099099  184.801802    9.939640   77.792793    7.216216   15.945946\n",
       "std     33.275969   91.152302    3.557713    9.529969    1.473434    8.707194\n",
       "min      1.000000    7.000000    2.300000   57.000000    5.000000    1.000000\n",
       "25%     18.000000  113.500000    7.400000   71.000000    6.000000    9.000000\n",
       "50%     31.000000  207.000000    9.700000   79.000000    7.000000   16.000000\n",
       "75%     62.000000  255.500000   11.500000   84.500000    9.000000   22.500000\n",
       "max    168.000000  334.000000   20.700000   97.000000    9.000000   31.000000"
      ]
     },
     "execution_count": 28,
     "metadata": {},
     "output_type": "execute_result"
    }
   ],
   "source": [
    "# removing lines with missing values\n",
    "dat = dat.dropna(axis=0)\n",
    "dat.describe()"
   ]
  },
  {
   "cell_type": "markdown",
   "metadata": {},
   "source": [
    "##Question 4"
   ]
  },
  {
   "cell_type": "markdown",
   "metadata": {},
   "source": [
    "Nous créons le vecteur des observations y et la matrice des variables explicatives X nécessaires pour effectuer la régression linéaire via le package statmodels:"
   ]
  },
  {
   "cell_type": "code",
   "execution_count": 30,
   "metadata": {
    "collapsed": false
   },
   "outputs": [
    {
     "data": {
      "text/html": [
       "<div>\n",
       "<table border=\"1\" class=\"dataframe\">\n",
       "  <thead>\n",
       "    <tr style=\"text-align: right;\">\n",
       "      <th></th>\n",
       "      <th>Solar.R</th>\n",
       "      <th>Wind</th>\n",
       "      <th>Temp</th>\n",
       "      <th>Month</th>\n",
       "      <th>Day</th>\n",
       "    </tr>\n",
       "  </thead>\n",
       "  <tbody>\n",
       "    <tr>\n",
       "      <th>0</th>\n",
       "      <td>190</td>\n",
       "      <td>7.4</td>\n",
       "      <td>67</td>\n",
       "      <td>5</td>\n",
       "      <td>1</td>\n",
       "    </tr>\n",
       "    <tr>\n",
       "      <th>1</th>\n",
       "      <td>118</td>\n",
       "      <td>8.0</td>\n",
       "      <td>72</td>\n",
       "      <td>5</td>\n",
       "      <td>2</td>\n",
       "    </tr>\n",
       "    <tr>\n",
       "      <th>2</th>\n",
       "      <td>149</td>\n",
       "      <td>12.6</td>\n",
       "      <td>74</td>\n",
       "      <td>5</td>\n",
       "      <td>3</td>\n",
       "    </tr>\n",
       "    <tr>\n",
       "      <th>3</th>\n",
       "      <td>313</td>\n",
       "      <td>11.5</td>\n",
       "      <td>62</td>\n",
       "      <td>5</td>\n",
       "      <td>4</td>\n",
       "    </tr>\n",
       "    <tr>\n",
       "      <th>6</th>\n",
       "      <td>299</td>\n",
       "      <td>8.6</td>\n",
       "      <td>65</td>\n",
       "      <td>5</td>\n",
       "      <td>7</td>\n",
       "    </tr>\n",
       "  </tbody>\n",
       "</table>\n",
       "</div>"
      ],
      "text/plain": [
       "   Solar.R  Wind  Temp  Month  Day\n",
       "0      190   7.4    67      5    1\n",
       "1      118   8.0    72      5    2\n",
       "2      149  12.6    74      5    3\n",
       "3      313  11.5    62      5    4\n",
       "6      299   8.6    65      5    7"
      ]
     },
     "execution_count": 30,
     "metadata": {},
     "output_type": "execute_result"
    }
   ],
   "source": [
    "# creating models\n",
    "y = dat['Ozone']\n",
    "X = dat[['Solar.R', 'Wind', 'Temp', 'Month', 'Day']]\n",
    "X.head()"
   ]
  },
  {
   "cell_type": "markdown",
   "metadata": {},
   "source": [
    "Nous normalisons les données en utisant le module preprocessing de sklearn:"
   ]
  },
  {
   "cell_type": "code",
   "execution_count": 31,
   "metadata": {
    "collapsed": false
   },
   "outputs": [],
   "source": [
    "# Normalizing data\n",
    "scaler = preprocessing.StandardScaler().fit(X)\n",
    "X_scale = scaler.transform(X)\n",
    "X_scale = sm.add_constant(X_scale, prepend=False)"
   ]
  },
  {
   "cell_type": "markdown",
   "metadata": {
    "collapsed": false
   },
   "source": [
    "Nous ajustons le modèle par la méthode des moindres carrés du module statmodels.\n",
    "$$ \\text{les coefficients } \\mathbf{\\theta_i} \\text{ sont stockés dans le vecteur thetas.} $$"
   ]
  },
  {
   "cell_type": "code",
   "execution_count": 33,
   "metadata": {
    "collapsed": false
   },
   "outputs": [
    {
     "name": "stdout",
     "output_type": "stream",
     "text": [
      "Solar.R       4.561931\n",
      "Wind        -11.752771\n",
      "Temp         17.985220\n",
      "Month        -4.458953\n",
      "Day           2.373939\n",
      "Intercept    42.099099\n",
      "dtype: float64\n"
     ]
    }
   ],
   "source": [
    "mod = sm.OLS(y, X_scale)\n",
    "res = mod.fit()\n",
    "thetas = res.params\n",
    "thetas.index = np.append(X.columns.values, ['Intercept'], axis=0)\n",
    "print(thetas)"
   ]
  },
  {
   "cell_type": "markdown",
   "metadata": {},
   "source": [
    "## Question 5"
   ]
  },
  {
   "cell_type": "markdown",
   "metadata": {},
   "source": [
    "Un estimateur sans biais de la variance du bruit est donné par la formule suivante:\n",
    "$$ \\hat{\\sigma}^2 = \\frac{1}{n-rg(X)}  \\|y-X\\hat{\\theta}\\|_2^2 $$\n",
    "On note ici que le rang de X est 5 (les variables ne sont pas liées)\n",
    "voir le résulat numérique suivant:\n"
   ]
  },
  {
   "cell_type": "code",
   "execution_count": 46,
   "metadata": {
    "collapsed": false
   },
   "outputs": [
    {
     "name": "stdout",
     "output_type": "stream",
     "text": [
      "rang de X: 5\n"
     ]
    },
    {
     "data": {
      "text/latex": [
       "$$\\hat{\\sigma}^2 = 435.075494992$$"
      ],
      "text/plain": [
       "<IPython.core.display.Math object>"
      ]
     },
     "metadata": {},
     "output_type": "display_data"
    }
   ],
   "source": [
    "# rank of X + 1 (intercept)\n",
    "rank_X_scale = np.linalg.matrix_rank(X_scale)\n",
    "print(\"rang de X: %s\" % (rank_X_scale-1))\n",
    "n = len(X)\n",
    "residus= y-res.predict(X_scale)\n",
    "## norme 2 des résidus\n",
    "norm_residus= np.sqrt(np.dot(residus.transpose(),residus))\n",
    "hat_sigma= np.sqrt(1.0/(n-rank_X_scale)*norm_residus**2)\n",
    "display(Math('\\hat{\\sigma}^2 = %s' % (hat_sigma**2)))\n"
   ]
  },
  {
   "cell_type": "markdown",
   "metadata": {
    "collapsed": true
   },
   "source": [
    "##Question 6"
   ]
  },
  {
   "cell_type": "markdown",
   "metadata": {},
   "source": [
    "$$ \\text{L'intervalle de confiance est le suivant pour l'estimateur } \\hat{\\theta}_j \\text{ est le suivant: }$$\n",
    "$$ \\Big[ \\hat{\\theta}_j - t_{1-\\alpha/2} \\hat{\\sigma} \\sqrt{(X^T X)^{-1}_{j,j}} \\space ; \\space  \\hat{\\theta}_j + t_{1-\\alpha/2} \\hat{\\sigma} \\sqrt{(X^T X)^{-1}_{j,j}} \\Big]$$ \n",
    "$$ \\text{où on note } t_{1-\\alpha/2} \\text{ un quantile d'ordre } 1-\\alpha/2 \\text{ de la loi de student } T_{n-rg(X)}  $$\n",
    "\n"
   ]
  },
  {
   "cell_type": "code",
   "execution_count": 48,
   "metadata": {
    "collapsed": false
   },
   "outputs": [
    {
     "name": "stdout",
     "output_type": "stream",
     "text": [
      "           interval_max  interval_min      theta\n",
      "Solar.R       10.136853     -1.012992   4.561931\n",
      "Wind          -5.764375    -17.741167 -11.752771\n",
      "Temp          24.801900     11.168540  17.985220\n",
      "Month          1.364907    -10.282812  -4.458953\n",
      "Day            7.596628     -2.848751   2.373939\n",
      "Intercept     47.293030     36.905168  42.099099\n"
     ]
    }
   ],
   "source": [
    "df = n - rank_X_scale\n",
    "alpha = 0.01\n",
    "# computing student intervals for df and 1-alpha\n",
    "interval_student = sc.stats.t.interval(1-alpha, df)\n",
    "inv_of_X_transposeX = np.linalg.inv(np.dot(X_scale.transpose(), X_scale))\n",
    "sqrt_invXtXjj = np.sqrt(np.diag(inv_of_X_transposeX))\n",
    "# creating pandas dataframe to store and display intervals\n",
    "intervals_dict = {'interval_min':\n",
    "                  thetas - interval_student[1]*hat_sigma*sqrt_invXtXjj,\n",
    "                  'theta': thetas,\n",
    "                  'interval_max':\n",
    "                  thetas + interval_student[1]*hat_sigma*sqrt_invXtXjj}\n",
    "intervals_df = pd.DataFrame(intervals_dict, index=thetas.index.values)\n",
    "print(intervals_df)"
   ]
  },
  {
   "cell_type": "markdown",
   "metadata": {},
   "source": [
    "##Question 7"
   ]
  },
  {
   "cell_type": "markdown",
   "metadata": {
    "collapsed": true
   },
   "source": [
    "On constate que zéro fait partie de l'intervalle de confiance pour les coefficients thetas pour Month et Day.\n",
    "On ne peut pas conclure que Month et Day sont des variables explicatives.   "
   ]
  },
  {
   "cell_type": "code",
   "execution_count": 49,
   "metadata": {
    "collapsed": false
   },
   "outputs": [
    {
     "data": {
      "text/plain": [
       "<seaborn.axisgrid.FacetGrid at 0x10ce588d0>"
      ]
     },
     "execution_count": 49,
     "metadata": {},
     "output_type": "execute_result"
    },
    {
     "name": "stderr",
     "output_type": "stream",
     "text": [
      "/Users/galicher/anaconda/lib/python3.4/site-packages/matplotlib/collections.py:590: FutureWarning: elementwise comparison failed; returning scalar instead, but in the future will perform elementwise comparison\n",
      "  if self._edgecolors == str('face'):\n"
     ]
    },
    {
     "data": {
      "image/png": "[encoded data removed]",
      "text/plain": [
       "<matplotlib.figure.Figure at 0x10d28cda0>"
      ]
     },
     "metadata": {},
     "output_type": "display_data"
    },
    {
     "data": {
      "image/png": "[encoded data removed]",
      "text/plain": [
       "<matplotlib.figure.Figure at 0x10ce58828>"
      ]
     },
     "metadata": {},
     "output_type": "display_data"
    }
   ],
   "source": [
    "sns.lmplot('Day', 'Ozone', data=dat, fit_reg=True)\n",
    "sns.lmplot('Month', 'Ozone', data=dat, fit_reg=True)"
   ]
  },
  {
   "cell_type": "markdown",
   "metadata": {},
   "source": [
    "##Question 8"
   ]
  },
  {
   "cell_type": "markdown",
   "metadata": {},
   "source": [
    "On enregistre une nouvelle observation (Solar.R=197, Wind=10, Temp=70, Month=3, Day=1,\n",
    "). La prévision du modèle concernant la concentration en ozone est la suivante:"
   ]
  },
  {
   "cell_type": "code",
   "execution_count": 54,
   "metadata": {
    "collapsed": false
   },
   "outputs": [
    {
     "name": "stdout",
     "output_type": "stream",
     "text": [
      "Prédiction pour ozone = [ 36.46233787]\n"
     ]
    }
   ],
   "source": [
    "Xnew = [[197.0, 10.0, 70.0, 3.0, 1.0]]\n",
    "Xnew_scale = pd.DataFrame(scaler.transform(Xnew))\n",
    "Xnew_scale = sm.add_constant(Xnew_scale, prepend=False)\n",
    "ozone = res.predict(Xnew_scale)\n",
    "print(\"Prédiction pour ozone = %s\" % ozone)"
   ]
  },
  {
   "cell_type": "markdown",
   "metadata": {},
   "source": [
    "La concentration en ozone obtenue est plus faible que de la concentration moyenne observée dans le dataset. l'observation choisie est elle-même proche pour chaque variable explicative de la moyenne du dataset."
   ]
  },
  {
   "cell_type": "code",
   "execution_count": 55,
   "metadata": {
    "collapsed": false
   },
   "outputs": [
    {
     "data": {
      "text/html": [
       "<div>\n",
       "<table border=\"1\" class=\"dataframe\">\n",
       "  <thead>\n",
       "    <tr style=\"text-align: right;\">\n",
       "      <th></th>\n",
       "      <th>Ozone</th>\n",
       "      <th>Solar.R</th>\n",
       "      <th>Wind</th>\n",
       "      <th>Temp</th>\n",
       "      <th>Month</th>\n",
       "      <th>Day</th>\n",
       "    </tr>\n",
       "  </thead>\n",
       "  <tbody>\n",
       "    <tr>\n",
       "      <th>count</th>\n",
       "      <td>111.000000</td>\n",
       "      <td>111.000000</td>\n",
       "      <td>111.000000</td>\n",
       "      <td>111.000000</td>\n",
       "      <td>111.000000</td>\n",
       "      <td>111.000000</td>\n",
       "    </tr>\n",
       "    <tr>\n",
       "      <th>mean</th>\n",
       "      <td>42.099099</td>\n",
       "      <td>184.801802</td>\n",
       "      <td>9.939640</td>\n",
       "      <td>77.792793</td>\n",
       "      <td>7.216216</td>\n",
       "      <td>15.945946</td>\n",
       "    </tr>\n",
       "    <tr>\n",
       "      <th>std</th>\n",
       "      <td>33.275969</td>\n",
       "      <td>91.152302</td>\n",
       "      <td>3.557713</td>\n",
       "      <td>9.529969</td>\n",
       "      <td>1.473434</td>\n",
       "      <td>8.707194</td>\n",
       "    </tr>\n",
       "    <tr>\n",
       "      <th>min</th>\n",
       "      <td>1.000000</td>\n",
       "      <td>7.000000</td>\n",
       "      <td>2.300000</td>\n",
       "      <td>57.000000</td>\n",
       "      <td>5.000000</td>\n",
       "      <td>1.000000</td>\n",
       "    </tr>\n",
       "    <tr>\n",
       "      <th>25%</th>\n",
       "      <td>18.000000</td>\n",
       "      <td>113.500000</td>\n",
       "      <td>7.400000</td>\n",
       "      <td>71.000000</td>\n",
       "      <td>6.000000</td>\n",
       "      <td>9.000000</td>\n",
       "    </tr>\n",
       "    <tr>\n",
       "      <th>50%</th>\n",
       "      <td>31.000000</td>\n",
       "      <td>207.000000</td>\n",
       "      <td>9.700000</td>\n",
       "      <td>79.000000</td>\n",
       "      <td>7.000000</td>\n",
       "      <td>16.000000</td>\n",
       "    </tr>\n",
       "    <tr>\n",
       "      <th>75%</th>\n",
       "      <td>62.000000</td>\n",
       "      <td>255.500000</td>\n",
       "      <td>11.500000</td>\n",
       "      <td>84.500000</td>\n",
       "      <td>9.000000</td>\n",
       "      <td>22.500000</td>\n",
       "    </tr>\n",
       "    <tr>\n",
       "      <th>max</th>\n",
       "      <td>168.000000</td>\n",
       "      <td>334.000000</td>\n",
       "      <td>20.700000</td>\n",
       "      <td>97.000000</td>\n",
       "      <td>9.000000</td>\n",
       "      <td>31.000000</td>\n",
       "    </tr>\n",
       "  </tbody>\n",
       "</table>\n",
       "</div>"
      ],
      "text/plain": [
       "            Ozone     Solar.R        Wind        Temp       Month         Day\n",
       "count  111.000000  111.000000  111.000000  111.000000  111.000000  111.000000\n",
       "mean    42.099099  184.801802    9.939640   77.792793    7.216216   15.945946\n",
       "std     33.275969   91.152302    3.557713    9.529969    1.473434    8.707194\n",
       "min      1.000000    7.000000    2.300000   57.000000    5.000000    1.000000\n",
       "25%     18.000000  113.500000    7.400000   71.000000    6.000000    9.000000\n",
       "50%     31.000000  207.000000    9.700000   79.000000    7.000000   16.000000\n",
       "75%     62.000000  255.500000   11.500000   84.500000    9.000000   22.500000\n",
       "max    168.000000  334.000000   20.700000   97.000000    9.000000   31.000000"
      ]
     },
     "execution_count": 55,
     "metadata": {},
     "output_type": "execute_result"
    }
   ],
   "source": [
    "dat.describe()"
   ]
  },
  {
   "cell_type": "markdown",
   "metadata": {},
   "source": [
    "#Exercice 2"
   ]
  },
  {
   "cell_type": "markdown",
   "metadata": {},
   "source": [
    "##Question 1"
   ]
  },
  {
   "cell_type": "markdown",
   "metadata": {},
   "source": [
    "ce bloc définit deux fonctions:\n",
    "- la fonction lin_reg_random_sample(i) réalise une régression linéaire sur un data resamplé avec un seed égal à i er retourne les thétas\n",
    "- la fonction create_thetas_samples_datframe(B) itère sur la fonction précédente est stocke les résulats dans un dictionnaire qui est transformé en dataframe et retourné."
   ]
  },
  {
   "cell_type": "code",
   "execution_count": 56,
   "metadata": {
    "collapsed": false
   },
   "outputs": [
    {
     "data": {
      "text/html": [
       "<div>\n",
       "<table border=\"1\" class=\"dataframe\">\n",
       "  <thead>\n",
       "    <tr style=\"text-align: right;\">\n",
       "      <th></th>\n",
       "      <th>Solar.R</th>\n",
       "      <th>Wind</th>\n",
       "      <th>Temp</th>\n",
       "      <th>Month</th>\n",
       "      <th>Day</th>\n",
       "      <th>Intercept</th>\n",
       "    </tr>\n",
       "  </thead>\n",
       "  <tbody>\n",
       "    <tr>\n",
       "      <th>count</th>\n",
       "      <td>1000.000000</td>\n",
       "      <td>1000.000000</td>\n",
       "      <td>1000.000000</td>\n",
       "      <td>1000.000000</td>\n",
       "      <td>1000.000000</td>\n",
       "      <td>1000.000000</td>\n",
       "    </tr>\n",
       "    <tr>\n",
       "      <th>mean</th>\n",
       "      <td>4.559373</td>\n",
       "      <td>-11.818054</td>\n",
       "      <td>17.922497</td>\n",
       "      <td>-4.355304</td>\n",
       "      <td>2.350309</td>\n",
       "      <td>42.274793</td>\n",
       "    </tr>\n",
       "    <tr>\n",
       "      <th>std</th>\n",
       "      <td>1.813534</td>\n",
       "      <td>2.954128</td>\n",
       "      <td>2.379746</td>\n",
       "      <td>1.975543</td>\n",
       "      <td>2.165881</td>\n",
       "      <td>3.193137</td>\n",
       "    </tr>\n",
       "    <tr>\n",
       "      <th>min</th>\n",
       "      <td>-0.965883</td>\n",
       "      <td>-23.463223</td>\n",
       "      <td>7.098552</td>\n",
       "      <td>-11.288188</td>\n",
       "      <td>-5.197599</td>\n",
       "      <td>33.963964</td>\n",
       "    </tr>\n",
       "    <tr>\n",
       "      <th>25%</th>\n",
       "      <td>3.361734</td>\n",
       "      <td>-13.675634</td>\n",
       "      <td>16.341437</td>\n",
       "      <td>-5.593486</td>\n",
       "      <td>0.779523</td>\n",
       "      <td>39.954955</td>\n",
       "    </tr>\n",
       "    <tr>\n",
       "      <th>50%</th>\n",
       "      <td>4.618573</td>\n",
       "      <td>-11.664062</td>\n",
       "      <td>17.934308</td>\n",
       "      <td>-4.345722</td>\n",
       "      <td>2.405041</td>\n",
       "      <td>42.360360</td>\n",
       "    </tr>\n",
       "    <tr>\n",
       "      <th>75%</th>\n",
       "      <td>5.686042</td>\n",
       "      <td>-9.798060</td>\n",
       "      <td>19.462399</td>\n",
       "      <td>-2.998095</td>\n",
       "      <td>3.882576</td>\n",
       "      <td>44.382883</td>\n",
       "    </tr>\n",
       "    <tr>\n",
       "      <th>max</th>\n",
       "      <td>10.143621</td>\n",
       "      <td>-4.105627</td>\n",
       "      <td>24.627999</td>\n",
       "      <td>1.630828</td>\n",
       "      <td>9.099933</td>\n",
       "      <td>52.810811</td>\n",
       "    </tr>\n",
       "  </tbody>\n",
       "</table>\n",
       "</div>"
      ],
      "text/plain": [
       "           Solar.R         Wind         Temp        Month          Day  \\\n",
       "count  1000.000000  1000.000000  1000.000000  1000.000000  1000.000000   \n",
       "mean      4.559373   -11.818054    17.922497    -4.355304     2.350309   \n",
       "std       1.813534     2.954128     2.379746     1.975543     2.165881   \n",
       "min      -0.965883   -23.463223     7.098552   -11.288188    -5.197599   \n",
       "25%       3.361734   -13.675634    16.341437    -5.593486     0.779523   \n",
       "50%       4.618573   -11.664062    17.934308    -4.345722     2.405041   \n",
       "75%       5.686042    -9.798060    19.462399    -2.998095     3.882576   \n",
       "max      10.143621    -4.105627    24.627999     1.630828     9.099933   \n",
       "\n",
       "         Intercept  \n",
       "count  1000.000000  \n",
       "mean     42.274793  \n",
       "std       3.193137  \n",
       "min      33.963964  \n",
       "25%      39.954955  \n",
       "50%      42.360360  \n",
       "75%      44.382883  \n",
       "max      52.810811  "
      ]
     },
     "execution_count": 56,
     "metadata": {},
     "output_type": "execute_result"
    }
   ],
   "source": [
    "B = 1000\n",
    "# initializing list to store all samples\n",
    "# not optimized may be we should have rescale before sampling\n",
    "\n",
    "\n",
    "def lin_reg_random_sample(i):\n",
    "    data = resample(dat)\n",
    "    y = data['Ozone']\n",
    "    X = data[['Solar.R', 'Wind', 'Temp', 'Month', 'Day']]\n",
    "    scaler = preprocessing.StandardScaler().fit(X)\n",
    "    X_scale = scaler.transform(X)\n",
    "    X_scale = sm.add_constant(X_scale, prepend=False)\n",
    "    mod = sm.OLS(y, X_scale)\n",
    "    res = mod.fit()\n",
    "    thetas = res.params\n",
    "    thetas.index = np.append(X.columns.values, ['Intercept'], axis=0)\n",
    "    return thetas\n",
    "\n",
    "\n",
    "def create_thetas_samples_dataframe(n):\n",
    "    df_dict = {}\n",
    "    for i in range(0, n):\n",
    "        df_dict.update({i: lin_reg_random_sample(i)})\n",
    "    return pd.DataFrame(df_dict).transpose()\n",
    "\n",
    "\n",
    "thetas_samples_df = create_thetas_samples_dataframe(B)\n",
    "thetas_samples_df.describe()"
   ]
  },
  {
   "cell_type": "markdown",
   "metadata": {},
   "source": [
    "Nous calculons ici un tableau de comparaison des moyennes et médianes des estimateurs des coefficients obtenus par la méthode bootstrap et la régression linéaire standard. On constate de faibles écarts."
   ]
  },
  {
   "cell_type": "code",
   "execution_count": 58,
   "metadata": {
    "collapsed": false
   },
   "outputs": [
    {
     "data": {
      "text/html": [
       "<div>\n",
       "<table border=\"1\" class=\"dataframe\">\n",
       "  <thead>\n",
       "    <tr style=\"text-align: right;\">\n",
       "      <th></th>\n",
       "      <th>mediane bootstrap</th>\n",
       "      <th>moyenne bootstrap</th>\n",
       "      <th>régréssion linéraire</th>\n",
       "    </tr>\n",
       "  </thead>\n",
       "  <tbody>\n",
       "    <tr>\n",
       "      <th>Solar.R</th>\n",
       "      <td>4.618573</td>\n",
       "      <td>4.559373</td>\n",
       "      <td>4.561931</td>\n",
       "    </tr>\n",
       "    <tr>\n",
       "      <th>Wind</th>\n",
       "      <td>-11.664062</td>\n",
       "      <td>-11.818054</td>\n",
       "      <td>-11.752771</td>\n",
       "    </tr>\n",
       "    <tr>\n",
       "      <th>Temp</th>\n",
       "      <td>17.934308</td>\n",
       "      <td>17.922497</td>\n",
       "      <td>17.985220</td>\n",
       "    </tr>\n",
       "    <tr>\n",
       "      <th>Month</th>\n",
       "      <td>-4.345722</td>\n",
       "      <td>-4.355304</td>\n",
       "      <td>-4.458953</td>\n",
       "    </tr>\n",
       "    <tr>\n",
       "      <th>Day</th>\n",
       "      <td>2.405041</td>\n",
       "      <td>2.350309</td>\n",
       "      <td>2.373939</td>\n",
       "    </tr>\n",
       "    <tr>\n",
       "      <th>Intercept</th>\n",
       "      <td>42.360360</td>\n",
       "      <td>42.274793</td>\n",
       "      <td>42.099099</td>\n",
       "    </tr>\n",
       "  </tbody>\n",
       "</table>\n",
       "</div>"
      ],
      "text/plain": [
       "           mediane bootstrap  moyenne bootstrap  régréssion linéraire\n",
       "Solar.R             4.618573           4.559373              4.561931\n",
       "Wind              -11.664062         -11.818054            -11.752771\n",
       "Temp               17.934308          17.922497             17.985220\n",
       "Month              -4.345722          -4.355304             -4.458953\n",
       "Day                 2.405041           2.350309              2.373939\n",
       "Intercept          42.360360          42.274793             42.099099"
      ]
     },
     "execution_count": 58,
     "metadata": {},
     "output_type": "execute_result"
    }
   ],
   "source": [
    "dict = {'moyenne bootstrap': thetas_samples_df.mean(axis=0),\n",
    "        'mediane bootstrap': thetas_samples_df.median(axis=0),\n",
    "        'régréssion linéraire': thetas}\n",
    "df_thetas_compare = pd.DataFrame(dict)\n",
    "df_thetas_compare"
   ]
  },
  {
   "cell_type": "markdown",
   "metadata": {},
   "source": [
    "##Question 2"
   ]
  },
  {
   "cell_type": "markdown",
   "metadata": {},
   "source": [
    "Création de l'intervalle de confiance à 99%.\n",
    "99% de la masse de la distribution est située entre les quantiles à 0,5% et 99,5%."
   ]
  },
  {
   "cell_type": "code",
   "execution_count": 63,
   "metadata": {
    "collapsed": false
   },
   "outputs": [
    {
     "data": {
      "text/html": [
       "<div>\n",
       "<table border=\"1\" class=\"dataframe\">\n",
       "  <thead>\n",
       "    <tr style=\"text-align: right;\">\n",
       "      <th></th>\n",
       "      <th>intervalle min</th>\n",
       "      <th>intervalle max</th>\n",
       "      <th>mediane bootstrap</th>\n",
       "    </tr>\n",
       "  </thead>\n",
       "  <tbody>\n",
       "    <tr>\n",
       "      <th>Solar.R</th>\n",
       "      <td>0.062102</td>\n",
       "      <td>9.242409</td>\n",
       "      <td>4.618573</td>\n",
       "    </tr>\n",
       "    <tr>\n",
       "      <th>Wind</th>\n",
       "      <td>-19.753660</td>\n",
       "      <td>-5.273700</td>\n",
       "      <td>-11.664062</td>\n",
       "    </tr>\n",
       "    <tr>\n",
       "      <th>Temp</th>\n",
       "      <td>11.380472</td>\n",
       "      <td>23.346347</td>\n",
       "      <td>17.934308</td>\n",
       "    </tr>\n",
       "    <tr>\n",
       "      <th>Month</th>\n",
       "      <td>-9.720357</td>\n",
       "      <td>0.561693</td>\n",
       "      <td>-4.345722</td>\n",
       "    </tr>\n",
       "    <tr>\n",
       "      <th>Day</th>\n",
       "      <td>-3.099344</td>\n",
       "      <td>7.897738</td>\n",
       "      <td>2.405041</td>\n",
       "    </tr>\n",
       "    <tr>\n",
       "      <th>Intercept</th>\n",
       "      <td>35.071982</td>\n",
       "      <td>50.441712</td>\n",
       "      <td>42.360360</td>\n",
       "    </tr>\n",
       "  </tbody>\n",
       "</table>\n",
       "</div>"
      ],
      "text/plain": [
       "           intervalle min  intervalle max  mediane bootstrap\n",
       "Solar.R          0.062102        9.242409           4.618573\n",
       "Wind           -19.753660       -5.273700         -11.664062\n",
       "Temp            11.380472       23.346347          17.934308\n",
       "Month           -9.720357        0.561693          -4.345722\n",
       "Day             -3.099344        7.897738           2.405041\n",
       "Intercept       35.071982       50.441712          42.360360"
      ]
     },
     "execution_count": 63,
     "metadata": {},
     "output_type": "execute_result"
    }
   ],
   "source": [
    "df = thetas_samples_df.quantile([0.005, 0.995]).transpose()\n",
    "df.columns = ['intervalle min', 'intervalle max']\n",
    "df['mediane bootstrap'] = df_thetas_compare['mediane bootstrap']\n",
    "df"
   ]
  },
  {
   "cell_type": "markdown",
   "metadata": {
    "collapsed": false
   },
   "source": [
    "##Question 3"
   ]
  },
  {
   "cell_type": "markdown",
   "metadata": {},
   "source": [
    "Nous création une fonction compute_interval_wind qui retourner un dataframe avec les intervalles de confiance pour des coefficients de la variable Wind pour B=1..5001"
   ]
  },
  {
   "cell_type": "code",
   "execution_count": 73,
   "metadata": {
    "collapsed": false
   },
   "outputs": [
    {
     "data": {
      "text/html": [
       "<div>\n",
       "<table border=\"1\" class=\"dataframe\">\n",
       "  <thead>\n",
       "    <tr style=\"text-align: right;\">\n",
       "      <th></th>\n",
       "      <th>borne max</th>\n",
       "      <th>borne min</th>\n",
       "      <th>mediane bootstrap</th>\n",
       "    </tr>\n",
       "  </thead>\n",
       "  <tbody>\n",
       "    <tr>\n",
       "      <th>1</th>\n",
       "      <td>-17.705921</td>\n",
       "      <td>-17.705921</td>\n",
       "      <td>-17.705921</td>\n",
       "    </tr>\n",
       "    <tr>\n",
       "      <th>501</th>\n",
       "      <td>-5.255376</td>\n",
       "      <td>-20.907945</td>\n",
       "      <td>-11.591307</td>\n",
       "    </tr>\n",
       "    <tr>\n",
       "      <th>1001</th>\n",
       "      <td>-5.267997</td>\n",
       "      <td>-19.736541</td>\n",
       "      <td>-11.556565</td>\n",
       "    </tr>\n",
       "    <tr>\n",
       "      <th>1501</th>\n",
       "      <td>-5.343603</td>\n",
       "      <td>-20.325873</td>\n",
       "      <td>-11.627871</td>\n",
       "    </tr>\n",
       "    <tr>\n",
       "      <th>2001</th>\n",
       "      <td>-4.757120</td>\n",
       "      <td>-20.352159</td>\n",
       "      <td>-11.649485</td>\n",
       "    </tr>\n",
       "    <tr>\n",
       "      <th>2501</th>\n",
       "      <td>-5.078172</td>\n",
       "      <td>-19.769212</td>\n",
       "      <td>-11.661775</td>\n",
       "    </tr>\n",
       "    <tr>\n",
       "      <th>3001</th>\n",
       "      <td>-5.014992</td>\n",
       "      <td>-20.513921</td>\n",
       "      <td>-11.557850</td>\n",
       "    </tr>\n",
       "    <tr>\n",
       "      <th>3501</th>\n",
       "      <td>-4.921956</td>\n",
       "      <td>-20.035750</td>\n",
       "      <td>-11.573070</td>\n",
       "    </tr>\n",
       "    <tr>\n",
       "      <th>4001</th>\n",
       "      <td>-4.794213</td>\n",
       "      <td>-19.916555</td>\n",
       "      <td>-11.691200</td>\n",
       "    </tr>\n",
       "    <tr>\n",
       "      <th>4501</th>\n",
       "      <td>-4.969767</td>\n",
       "      <td>-20.051724</td>\n",
       "      <td>-11.583371</td>\n",
       "    </tr>\n",
       "    <tr>\n",
       "      <th>5001</th>\n",
       "      <td>-4.994217</td>\n",
       "      <td>-20.386506</td>\n",
       "      <td>-11.690223</td>\n",
       "    </tr>\n",
       "  </tbody>\n",
       "</table>\n",
       "</div>"
      ],
      "text/plain": [
       "      borne max  borne min  mediane bootstrap\n",
       "1    -17.705921 -17.705921         -17.705921\n",
       "501   -5.255376 -20.907945         -11.591307\n",
       "1001  -5.267997 -19.736541         -11.556565\n",
       "1501  -5.343603 -20.325873         -11.627871\n",
       "2001  -4.757120 -20.352159         -11.649485\n",
       "2501  -5.078172 -19.769212         -11.661775\n",
       "3001  -5.014992 -20.513921         -11.557850\n",
       "3501  -4.921956 -20.035750         -11.573070\n",
       "4001  -4.794213 -19.916555         -11.691200\n",
       "4501  -4.969767 -20.051724         -11.583371\n",
       "5001  -4.994217 -20.386506         -11.690223"
      ]
     },
     "execution_count": 73,
     "metadata": {},
     "output_type": "execute_result"
    }
   ],
   "source": [
    "def compute_interval_wind(B):\n",
    "    dict = {}\n",
    "    for b in range(1, B+1, 500):\n",
    "        thetas_samples_df = create_thetas_samples_dataframe(b)\n",
    "        median_df = thetas_samples_df.median(axis=0)\n",
    "        df = thetas_samples_df.quantile([0.005, 0.995])\n",
    "        dict.update({b: {'mediane bootstrap': median_df['Wind'],\n",
    "                         'borne min': df['Wind'][0.005],\n",
    "                         'borne max': df['Wind'][0.995]}})\n",
    "    return pd.DataFrame(dict).transpose()\n",
    "df = compute_interval_wind(5001)\n",
    "df"
   ]
  },
  {
   "cell_type": "markdown",
   "metadata": {},
   "source": [
    "Création du graphique"
   ]
  },
  {
   "cell_type": "code",
   "execution_count": 74,
   "metadata": {
    "collapsed": false
   },
   "outputs": [
    {
     "data": {
      "image/png": "[encoded data removed]",
      "text/plain": [
       "<matplotlib.figure.Figure at 0x10d5b4400>"
      ]
     },
     "metadata": {},
     "output_type": "display_data"
    }
   ],
   "source": [
    "df['Nb Bootstrap'] = df.index.values\n",
    "fig = plt.figure(figsize=(8, 6))\n",
    "plt.xlim(xmin=0, xmax=5002)\n",
    "plt.ylim(ymin=-22, ymax=-4)\n",
    "\n",
    "plt.plot(df['Nb Bootstrap'], df['mediane bootstrap'], color='green',\n",
    "         linewidth=1.5, linestyle=\"-\", label=\"mediane bootstrap\")\n",
    "plt.plot(df['Nb Bootstrap'], df['borne max'], color='orange',\n",
    "         linewidth=1.5, linestyle=\"--\", label=\"borne sup\")\n",
    "plt.plot(df['Nb Bootstrap'], df['borne min'], color='orange',\n",
    "         linewidth=1.5, linestyle=\"-.\", label=\"borne inf\")\n",
    "\n",
    "xlabels = 'nombre de tirage Bootstrap'\n",
    "ylabels = 'coefficient de régresssion'\n",
    "plt.xlabel(xlabels), plt.ylabel(ylabels)\n",
    "plt.title('Estimation de l\\'intervalle de confiance à 99% via bootstrap')\n",
    "plt.legend(bbox_to_anchor=(1.05, 1), loc=2, borderaxespad=0.)\n",
    "plt.show()"
   ]
  },
  {
   "cell_type": "markdown",
   "metadata": {},
   "source": [
    "##Question 4"
   ]
  },
  {
   "cell_type": "code",
   "execution_count": 75,
   "metadata": {
    "collapsed": false
   },
   "outputs": [
    {
     "name": "stderr",
     "output_type": "stream",
     "text": [
      "/Users/galicher/anaconda/lib/python3.4/site-packages/matplotlib/collections.py:590: FutureWarning: elementwise comparison failed; returning scalar instead, but in the future will perform elementwise comparison\n",
      "  if self._edgecolors == str('face'):\n"
     ]
    },
    {
     "data": {
      "text/plain": [
       "<matplotlib.text.Text at 0x10d416940>"
      ]
     },
     "execution_count": 75,
     "metadata": {},
     "output_type": "execute_result"
    },
    {
     "data": {
      "image/png": "[encoded data removed]",
      "text/plain": [
       "<matplotlib.figure.Figure at 0x10d5ba860>"
      ]
     },
     "metadata": {},
     "output_type": "display_data"
    }
   ],
   "source": [
    "# Make a custom sequential palette using the cubehelix system\n",
    "pal = sns.cubehelix_palette(8, 1.5, .75, light=.6, dark=.2)\n",
    "\n",
    "# Plot tip as a function of toal bill across days\n",
    "g = sns.lmplot(x=\"Wind\", y=\"Ozone\", hue=\"Month\", data=dat,\n",
    "               palette=\"Set1\", size=7)\n",
    "\n",
    "# Use more informative axis labels than are provided by default\n",
    "g.set_axis_labels(\"Wind Speed\", \"Ozone Concentration\")\n",
    "sns.plt.title('Ozone conc. regression on Wind speed by Month')"
   ]
  },
  {
   "cell_type": "markdown",
   "metadata": {},
   "source": [
    "Le mois de juin (Month = 6) semble atypique (pente positive)"
   ]
  },
  {
   "cell_type": "code",
   "execution_count": 76,
   "metadata": {
    "collapsed": false,
    "scrolled": true
   },
   "outputs": [
    {
     "data": {
      "text/plain": [
       "<seaborn.axisgrid.FacetGrid at 0x10d5ba358>"
      ]
     },
     "execution_count": 76,
     "metadata": {},
     "output_type": "execute_result"
    },
    {
     "name": "stderr",
     "output_type": "stream",
     "text": [
      "/Users/galicher/anaconda/lib/python3.4/site-packages/matplotlib/collections.py:590: FutureWarning: elementwise comparison failed; returning scalar instead, but in the future will perform elementwise comparison\n",
      "  if self._edgecolors == str('face'):\n"
     ]
    },
    {
     "data": {
      "image/png": "[encoded data removed]",
      "text/plain": [
       "<matplotlib.figure.Figure at 0x10d5ba048>"
      ]
     },
     "metadata": {},
     "output_type": "display_data"
    }
   ],
   "source": [
    "dat_month = dat[dat['Month'] == 6]\n",
    "sns.lmplot('Wind', 'Ozone', data=dat_month)"
   ]
  },
  {
   "cell_type": "markdown",
   "metadata": {},
   "source": [
    "## Exercice 3 "
   ]
  },
  {
   "cell_type": "markdown",
   "metadata": {},
   "source": [
    "##Question 1"
   ]
  },
  {
   "cell_type": "markdown",
   "metadata": {},
   "source": [
    "Une implementation de l'algorithme stpforward:"
   ]
  },
  {
   "cell_type": "code",
   "execution_count": 77,
   "metadata": {
    "collapsed": false
   },
   "outputs": [],
   "source": [
    "def stpforward(X, y, M):\n",
    "    n, p = X.shape\n",
    "    thetas = np.zeros(p+1)\n",
    "    S = []\n",
    "    r = y\n",
    "    for i in range(0, M):\n",
    "        # getting index\n",
    "        jlist = list(filter(lambda x: x not in S, range(p)))\n",
    "        S.append(jlist[np.argmax(abs(np.dot(X[:, jlist].transpose(), y)))])\n",
    "        # performing linear regression\n",
    "        Xs = X[:, S]\n",
    "        Xs = sm.add_constant(Xs, prepend=False)\n",
    "        mod = sm.OLS(y, Xs)\n",
    "        res = mod.fit()\n",
    "        thetas_int = res.params\n",
    "        # update values\n",
    "        thetas[S] = thetas_int[:-1]\n",
    "        thetas[-1] = thetas_int[-1]  # const theta0\n",
    "        r= y - res.predict(Xs)\n",
    "    return (S, thetas)"
   ]
  },
  {
   "cell_type": "markdown",
   "metadata": {},
   "source": [
    "un test de l'algorithme pour B=4 sur le dataset:"
   ]
  },
  {
   "cell_type": "code",
   "execution_count": 80,
   "metadata": {
    "collapsed": false
   },
   "outputs": [
    {
     "name": "stdout",
     "output_type": "stream",
     "text": [
      "S= [2, 1, 0, 3]\n",
      "valeur des coefficients = [  4.50045463 -11.74591966  17.7488752   -4.38806519   0.          42.0990991 ]\n"
     ]
    }
   ],
   "source": [
    "y = dat['Ozone'].as_matrix()\n",
    "X = dat[['Solar.R', 'Wind', 'Temp', 'Month', 'Day']].as_matrix()\n",
    "scaler = preprocessing.StandardScaler().fit(X)\n",
    "X_scale = scaler.transform(X)\n",
    "S, thetas = stpforward(X_scale, y, 4)\n",
    "print(\"S= %s\" % S)\n",
    "print(\"valeur des coefficients = %s\" % thetas)"
   ]
  },
  {
   "cell_type": "markdown",
   "metadata": {},
   "source": [
    "##Question 2"
   ]
  },
  {
   "cell_type": "markdown",
   "metadata": {},
   "source": [
    "une implémentation de la classe MYOMP:"
   ]
  },
  {
   "cell_type": "code",
   "execution_count": 83,
   "metadata": {
    "collapsed": false
   },
   "outputs": [],
   "source": [
    "import numpy as np\n",
    "from sklearn.linear_model.base import LinearModel, _pre_fit\n",
    "from sklearn.base import RegressorMixin\n",
    "\n",
    "\n",
    "class MYOMP(LinearModel, RegressorMixin):\n",
    "    \n",
    "    \n",
    "    def __init__(self, n_nonzero_coefs=None, fit_intercept=True,\n",
    "                 normalize=True, precompute='auto'):\n",
    "        self.n_nonzero_coefs = n_nonzero_coefs\n",
    "        self.fit_intercept = fit_intercept\n",
    "        self.normalize = normalize\n",
    "        self.precompute = precompute\n",
    "        \n",
    "        \n",
    "    def stpforward(self, X, y):\n",
    "        \"\"\"forward stage-wise selection (ou Orthogonal Matching Mursuit)\n",
    "        Parameters\n",
    "        ----------\n",
    "        X : array-like, shape (n_samples, p_features)\n",
    "        Training data. expected to be normalized\n",
    "        y : array-like, shape (n_samples,) or (n_samples, n_targets)\n",
    "        Target values.\n",
    "        Returns\n",
    "        -------\n",
    "        thetas list of regr coefs\n",
    "        \"\"\"\n",
    "        n, p = X.shape\n",
    "        thetas = np.zeros(p+1)\n",
    "        S = []\n",
    "        r = y\n",
    "        for i in range(0, self.n_nonzero_coefs):\n",
    "            # getting index\n",
    "            jlist = list(filter(lambda x: x not in S, range(p)))\n",
    "            S.append(jlist[np.argmax(abs(np.dot(X[:, jlist].transpose(), y)))])\n",
    "            # performing linear regression\n",
    "            Xs = X[:, S]\n",
    "            Xs = sm.add_constant(Xs, prepend=False)\n",
    "            mod = sm.OLS(y, Xs)\n",
    "            res = mod.fit()\n",
    "            thetas_int = res.params \n",
    "            # updating values\n",
    "            thetas[S] = thetas_int[:-1]\n",
    "            thetas[-1] = thetas_int[-1]  \n",
    "            r= y - res.predict(Xs)\n",
    "        return thetas[:-1]\n",
    "    \n",
    "    \n",
    "    def fit(self, X, y):\n",
    "        \"\"\"Fit the model using X, y as training data.\n",
    "        Parameters\n",
    "        ----------\n",
    "        X : array-like, shape (n_samples, n_features)\n",
    "        Training data.\n",
    "        y : array-like, shape (n_samples,) or (n_samples, n_targets)\n",
    "        Target values.\n",
    "        Returns\n",
    "        -------\n",
    "        self : object\n",
    "        returns an instance of self.\n",
    "        \"\"\"\n",
    "        X, y, X_mean, y_mean, X_std, Gram, Xy = \\\n",
    "        _pre_fit(X, y, None, self.precompute, self.normalize,\n",
    "                 self.fit_intercept, copy=True)\n",
    "        self.coef_ = self.stpforward(X, y) \n",
    "        self._set_intercept(X_mean, y_mean, X_std)\n",
    "        return self"
   ]
  },
  {
   "cell_type": "markdown",
   "metadata": {},
   "source": [
    "test de la classe MYOMP pour M=4:"
   ]
  },
  {
   "cell_type": "code",
   "execution_count": 84,
   "metadata": {
    "collapsed": false
   },
   "outputs": [
    {
     "name": "stdout",
     "output_type": "stream",
     "text": [
      "[  4.50045463 -11.74591966  17.7488752   -4.38806519   0.        ]\n"
     ]
    }
   ],
   "source": [
    "myomp = MYOMP(n_nonzero_coefs=4)\n",
    "t = myomp.fit(X_scale, y)\n",
    "print(t.coef_)"
   ]
  },
  {
   "cell_type": "markdown",
   "metadata": {},
   "source": [
    "##Question 4"
   ]
  },
  {
   "cell_type": "markdown",
   "metadata": {},
   "source": [
    "Comparaison de MYOMP et de OrthogonalMatchingPursuit de sklearn."
   ]
  },
  {
   "cell_type": "code",
   "execution_count": 86,
   "metadata": {
    "collapsed": false
   },
   "outputs": [
    {
     "data": {
      "text/plain": [
       "array([[  5.42816683, -11.80641781,  15.67331326,   0.        ,   0.        ],\n",
       "       [  4.50045463, -11.74591966,  17.7488752 ,  -4.38806519,   0.        ],\n",
       "       [  4.56193076, -11.75277084,  17.98521995,  -4.45895297,\n",
       "          2.37393859]])"
      ]
     },
     "execution_count": 86,
     "metadata": {},
     "output_type": "execute_result"
    }
   ],
   "source": [
    "def ApplyMyOMP(L):\n",
    "    R = []\n",
    "    for i in L:\n",
    "        omp = MYOMP(n_nonzero_coefs=i)\n",
    "        omp.fit(X_scale, y)\n",
    "        R.append(omp.coef_)\n",
    "    return R\n",
    "\n",
    "my_omp = np.array(ApplyMyOMP([3, 4, 5]))\n",
    "my_omp"
   ]
  },
  {
   "cell_type": "code",
   "execution_count": 87,
   "metadata": {
    "collapsed": false
   },
   "outputs": [],
   "source": [
    "def ApplyOrthogonalMatchingPursuit(L):\n",
    "    R = []\n",
    "    for i in L:\n",
    "        omp = lm.OrthogonalMatchingPursuit(i)\n",
    "        omp.fit(X_scale, y)\n",
    "        R.append(omp.coef_)\n",
    "    return R"
   ]
  },
  {
   "cell_type": "code",
   "execution_count": 88,
   "metadata": {
    "collapsed": false
   },
   "outputs": [
    {
     "data": {
      "text/plain": [
       "array([[  5.42816683, -11.80641781,  15.67331326,   0.        ,   0.        ],\n",
       "       [  4.50045463, -11.74591966,  17.7488752 ,  -4.38806519,   0.        ],\n",
       "       [  4.56193076, -11.75277084,  17.98521995,  -4.45895297,\n",
       "          2.37393859]])"
      ]
     },
     "execution_count": 88,
     "metadata": {},
     "output_type": "execute_result"
    }
   ],
   "source": [
    "\n",
    "lm_omp = np.array(ApplyOrthogonalMatchingPursuit([3, 4, 5]))\n",
    "lm_omp"
   ]
  },
  {
   "cell_type": "code",
   "execution_count": 89,
   "metadata": {
    "collapsed": false
   },
   "outputs": [
    {
     "name": "stdout",
     "output_type": "stream",
     "text": [
      "are results equal ? False \n",
      "are results close ? True \n",
      "gap (log10): -13\n"
     ]
    }
   ],
   "source": [
    "print(\"are results equal ? %s \" % np.array_equal(my_omp, lm_omp))\n",
    "print(\"are results close ? %s \" % np.all(np.isclose(my_omp, lm_omp)))\n",
    "print(\"gap (log10): %s\" % round(math.log10(np.sum(my_omp - lm_omp))))"
   ]
  },
  {
   "cell_type": "markdown",
   "metadata": {},
   "source": [
    "les sorties de MYOMP sont égales à celle de OrthogonalMatchingPursuit de sklearn à une erreur de précision de 10^-13 près."
   ]
  },
  {
   "cell_type": "markdown",
   "metadata": {},
   "source": [
    "##Question 5"
   ]
  },
  {
   "cell_type": "markdown",
   "metadata": {},
   "source": [
    "Nous utilisons une validation croisée pour choisir le nombre de variables à garder\n",
    "M en utilisation la fonction cross_val_score de sklearn.\n",
    "Nous choississons la mean_squared_error comme métrique de scoring."
   ]
  },
  {
   "cell_type": "code",
   "execution_count": 91,
   "metadata": {
    "collapsed": false
   },
   "outputs": [
    {
     "data": {
      "text/plain": [
       "[4, 4, 3, 4, 5, 5, 5, 5]"
      ]
     },
     "execution_count": 91,
     "metadata": {},
     "output_type": "execute_result"
    }
   ],
   "source": [
    "from sklearn.cross_validation import cross_val_predict\n",
    "from sklearn.cross_validation import cross_val_score\n",
    "from sklearn.metrics import mean_squared_error\n",
    "\n",
    "\n",
    "def argmax_crossvalidation(n_cv):\n",
    "    list_score = []\n",
    "    for i in range(1, 6):\n",
    "        myomp = MYOMP(n_nonzero_coefs=i)\n",
    "        list_score.append(\n",
    "            cross_val_score(myomp, X_scale,\n",
    "                            y, cv=n_cv,\n",
    "                            scoring='mean_squared_error')).mean()\n",
    "    return (np.argmax(np.array(list_score))+1)\n",
    "\n",
    "\n",
    "def crossvalidation(n_cv, i):\n",
    "    myomp = MYOMP(n_nonzero_coefs=i)\n",
    "    return cross_val_score(myomp, X_scale, y,\n",
    "                           cv=n_cv, scoring='mean_squared_error').mean()\n",
    "\n",
    "\n",
    "def iter_crossvalidation(n_cv, n_iter):\n",
    "    M = np.repeat(np.arange(1, 6).reshape((1, 5)), n_iter, axis=0)\n",
    "    g = np.vectorize(lambda x: crossvalidation(n_cv, x))\n",
    "    return g(M).mean(0)\n",
    "\n",
    "list(map(lambda x: np.argmax(np.array(iter_crossvalidation(x, 5))) + 1,\n",
    "         range(3, 11)))"
   ]
  },
  {
   "cell_type": "markdown",
   "metadata": {},
   "source": [
    "En testant, la validation, on constate que le nombre de variable choisie n'est pas stable en faisant varier le paramètre K-Fold (ici de 3 à 10) "
   ]
  },
  {
   "cell_type": "code",
   "execution_count": 92,
   "metadata": {
    "collapsed": false
   },
   "outputs": [
    {
     "data": {
      "text/plain": [
       "array([-578.66612449, -490.87130344, -468.81863405, -458.8890449 ,\n",
       "       -462.94365618])"
      ]
     },
     "execution_count": 92,
     "metadata": {},
     "output_type": "execute_result"
    }
   ],
   "source": [
    "iter_crossvalidation(111,1)"
   ]
  },
  {
   "cell_type": "markdown",
   "metadata": {},
   "source": [
    "En utilisant une methode LOO (leave One Out), c'est un dire un K-Fold avec K = n (111) le nombre total d'observation, on trouve que le nombre un OMP avec 4 variables obtient le meilleur score. Toutefois les valeurs des scores pour M=3, M=4 et M=5 sont proches. \n",
    "\n",
    "Comme le dataset est petit et le nombre de variables explicatives sont petits, on se propose d'explorer tous les scores de validation croisée pour k = 2 à 111 (LOO) "
   ]
  },
  {
   "cell_type": "code",
   "execution_count": 93,
   "metadata": {
    "collapsed": false
   },
   "outputs": [],
   "source": [
    "mean_square_error = list(map(lambda x: - max(\n",
    "            np.array(iter_crossvalidation(x, 1))), range(3, 111)))"
   ]
  },
  {
   "cell_type": "code",
   "execution_count": 94,
   "metadata": {
    "collapsed": false
   },
   "outputs": [],
   "source": [
    "arg_max_score = list(map(lambda x: np.argmax(\n",
    "            np.array(iter_crossvalidation(x, 1)))+1, range(3, 111)))"
   ]
  },
  {
   "cell_type": "code",
   "execution_count": 95,
   "metadata": {
    "collapsed": false
   },
   "outputs": [
    {
     "name": "stdout",
     "output_type": "stream",
     "text": [
      "[4, 4, 3, 4, 5, 5, 5, 5, 5, 4, 5, 5, 4, 5, 4, 4, 5, 4, 4, 4, 4, 5, 4, 5, 4, 4, 4, 4, 5, 5, 5, 5, 5, 5, 5, 5, 5, 5, 5, 5, 5, 5, 5, 5, 5, 5, 5, 4, 4, 4, 4, 4, 4, 4, 4, 4, 4, 4, 4, 4, 4, 4, 4, 4, 4, 4, 4, 4, 4, 4, 4, 4, 4, 4, 4, 4, 4, 4, 4, 4, 4, 4, 4, 4, 4, 4, 4, 4, 4, 4, 4, 4, 4, 4, 4, 4, 4, 4, 4, 4, 4, 4, 4, 4, 4, 4, 4, 4]\n"
     ]
    }
   ],
   "source": [
    "print(arg_max_score)"
   ]
  },
  {
   "cell_type": "code",
   "execution_count": 96,
   "metadata": {
    "collapsed": false
   },
   "outputs": [],
   "source": [
    "def score_crossvalidation(k_fold):\n",
    "    dict_MSE = {}\n",
    "    for i in range(2, k_fold+1):\n",
    "        dict_MSE.update({i: list(\n",
    "                    map(lambda x: crossvalidation(i, x), range(1, 6)))})\n",
    "    return pd.DataFrame(dict_MSE).transpose()\n",
    "\n",
    "df_score = score_crossvalidation(111)"
   ]
  },
  {
   "cell_type": "code",
   "execution_count": 97,
   "metadata": {
    "collapsed": false
   },
   "outputs": [
    {
     "data": {
      "text/html": [
       "<div>\n",
       "<table border=\"1\" class=\"dataframe\">\n",
       "  <thead>\n",
       "    <tr style=\"text-align: right;\">\n",
       "      <th></th>\n",
       "      <th>0</th>\n",
       "      <th>1</th>\n",
       "      <th>2</th>\n",
       "      <th>3</th>\n",
       "      <th>4</th>\n",
       "    </tr>\n",
       "  </thead>\n",
       "  <tbody>\n",
       "    <tr>\n",
       "      <th>count</th>\n",
       "      <td>110.000000</td>\n",
       "      <td>110.000000</td>\n",
       "      <td>110.000000</td>\n",
       "      <td>110.000000</td>\n",
       "      <td>110.000000</td>\n",
       "    </tr>\n",
       "    <tr>\n",
       "      <th>mean</th>\n",
       "      <td>-584.981867</td>\n",
       "      <td>-493.851146</td>\n",
       "      <td>-470.006981</td>\n",
       "      <td>-456.327227</td>\n",
       "      <td>-457.971250</td>\n",
       "    </tr>\n",
       "    <tr>\n",
       "      <th>std</th>\n",
       "      <td>30.868241</td>\n",
       "      <td>19.943869</td>\n",
       "      <td>17.261248</td>\n",
       "      <td>17.773617</td>\n",
       "      <td>18.064172</td>\n",
       "    </tr>\n",
       "    <tr>\n",
       "      <th>min</th>\n",
       "      <td>-706.692856</td>\n",
       "      <td>-576.669076</td>\n",
       "      <td>-533.685694</td>\n",
       "      <td>-523.134491</td>\n",
       "      <td>-542.633805</td>\n",
       "    </tr>\n",
       "    <tr>\n",
       "      <th>25%</th>\n",
       "      <td>-597.472684</td>\n",
       "      <td>-502.279584</td>\n",
       "      <td>-476.721969</td>\n",
       "      <td>-462.980560</td>\n",
       "      <td>-464.917894</td>\n",
       "    </tr>\n",
       "    <tr>\n",
       "      <th>50%</th>\n",
       "      <td>-588.938884</td>\n",
       "      <td>-496.587624</td>\n",
       "      <td>-471.499584</td>\n",
       "      <td>-458.629085</td>\n",
       "      <td>-460.090104</td>\n",
       "    </tr>\n",
       "    <tr>\n",
       "      <th>75%</th>\n",
       "      <td>-578.683079</td>\n",
       "      <td>-486.403257</td>\n",
       "      <td>-464.662069</td>\n",
       "      <td>-450.838516</td>\n",
       "      <td>-452.762811</td>\n",
       "    </tr>\n",
       "    <tr>\n",
       "      <th>max</th>\n",
       "      <td>-505.641067</td>\n",
       "      <td>-438.147882</td>\n",
       "      <td>-420.980442</td>\n",
       "      <td>-403.181277</td>\n",
       "      <td>-406.604245</td>\n",
       "    </tr>\n",
       "  </tbody>\n",
       "</table>\n",
       "</div>"
      ],
      "text/plain": [
       "                0           1           2           3           4\n",
       "count  110.000000  110.000000  110.000000  110.000000  110.000000\n",
       "mean  -584.981867 -493.851146 -470.006981 -456.327227 -457.971250\n",
       "std     30.868241   19.943869   17.261248   17.773617   18.064172\n",
       "min   -706.692856 -576.669076 -533.685694 -523.134491 -542.633805\n",
       "25%   -597.472684 -502.279584 -476.721969 -462.980560 -464.917894\n",
       "50%   -588.938884 -496.587624 -471.499584 -458.629085 -460.090104\n",
       "75%   -578.683079 -486.403257 -464.662069 -450.838516 -452.762811\n",
       "max   -505.641067 -438.147882 -420.980442 -403.181277 -406.604245"
      ]
     },
     "execution_count": 97,
     "metadata": {},
     "output_type": "execute_result"
    }
   ],
   "source": [
    "df_score.describe()"
   ]
  },
  {
   "cell_type": "code",
   "execution_count": 101,
   "metadata": {
    "collapsed": false
   },
   "outputs": [
    {
     "data": {
      "image/png": "[encoded data removed]",
      "text/plain": [
       "<matplotlib.figure.Figure at 0x10d50bb00>"
      ]
     },
     "metadata": {},
     "output_type": "display_data"
    }
   ],
   "source": [
    "df_score['K-Fold'] = df_score.index.values\n",
    "df_score.columns = ['n_nonzero_values =1', 'n_nonzero_values =2',\n",
    "                    'n_nonzero_values =3', 'n_nonzero_values =4',\n",
    "                    'n_nonzero_values =5', 'K-Fold']\n",
    "\n",
    "fig = plt.figure(figsize=(8, 6))\n",
    "plt.xlim(xmin=0, xmax=112)\n",
    "plt.ylim(ymin=400, ymax=710)\n",
    "\n",
    "plt.plot(df_score['K-Fold'], -df_score['n_nonzero_values =1'], color='yellow',\n",
    "         linewidth=1.5, linestyle=\"-\", label='n_nonzero_values =1')\n",
    "plt.plot(df_score['K-Fold'], -df_score['n_nonzero_values =2'], color='orange',\n",
    "         linewidth=1.5, linestyle=\"-\", label='n_nonzero_values =2')\n",
    "plt.plot(df_score['K-Fold'], -df_score['n_nonzero_values =3'], color='red',\n",
    "         linewidth=1.5, linestyle=\"-\", label='n_nonzero_values =3')\n",
    "plt.plot(df_score['K-Fold'], -df_score['n_nonzero_values =4'], color='blue',\n",
    "         linewidth=1.5, linestyle=\"-\", label='n_nonzero_values =4')\n",
    "plt.plot(df_score['K-Fold'], -df_score['n_nonzero_values =5'], color='green',\n",
    "         linewidth=1.5, linestyle=\"-\", label='n_nonzero_values =5')\n",
    "\n",
    "xlabels = 'K-Fold'\n",
    "ylabels = 'MSE cross validation score'\n",
    "plt.xlabel(xlabels), plt.ylabel(ylabels)\n",
    "plt.title('Comparing MSE cross_val_scores for M=1..5 vs K-Fold')\n",
    "plt.legend(bbox_to_anchor=(1.05, 1), loc=2, borderaxespad=0.)\n",
    "plt.show()"
   ]
  },
  {
   "cell_type": "markdown",
   "metadata": {
    "collapsed": true
   },
   "source": [
    "On constate sur ce graphique que la différence de préformance entre la sélection de 4 et 5 variables est très faible et qu'on peut être amené à conclure de sélectioner 5 ou 4 variables en fonction du paramètre de K-Fold choisi pour effecter le scoring par validation croisée. "
   ]
  },
  {
   "cell_type": "code",
   "execution_count": null,
   "metadata": {
    "collapsed": true
   },
   "outputs": [],
   "source": []
  }
 ],
 "metadata": {
  "kernelspec": {
   "display_name": "Python 2",
   "language": "python",
   "name": "python2"
  },
  "language_info": {
   "codemirror_mode": {
    "name": "ipython",
    "version": 2
   },
   "file_extension": ".py",
   "mimetype": "text/x-python",
   "name": "python",
   "nbconvert_exporter": "python",
   "pygments_lexer": "ipython2",
   "version": "2.7.10"
  }
 },
 "nbformat": 4,
 "nbformat_minor": 0
}
