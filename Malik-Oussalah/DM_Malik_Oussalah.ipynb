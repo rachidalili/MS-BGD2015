{
 "cells": [
  {
   "cell_type": "markdown",
   "metadata": {},
   "source": [
    "# Exercice 1#\n"
   ]
  },
  {
   "cell_type": "markdown",
   "metadata": {},
   "source": [
    "# 1)  Le modèle linéaire \n",
    "Dans cette première partie notre objectif est de déterminer sur un ensemble de données\n",
    "un estimateur linéaire de la concentration en ozone à partir des variables suivantes :\n",
    "* le rayonnement solaire\n",
    "* la force du vent \n",
    "* la température\n",
    "* le jour de la mesure\n",
    "* le mois de la mesure\n",
    "\n",
    "soit le modèle linéaire avec condition gaussienne :\n",
    "\n",
    "Y = X$\\theta$ + $\\epsilon$ où X est une matrice (n,p) de rang p,\n",
    "Y$\\in\\mathbb{R}^n$ et\n",
    "$\\theta$ est un vecteur inconnu de $\\mathbb{R}^p$\n",
    "tel que $\\epsilon$ est un vecteur de n réalisations indépendantes d’une v.a.\n",
    "gaussienne de moyenne 0 et de variance $\\sigma^2*\\mathsf{I}d$\n",
    "tel que $\\epsilon\\sim\\mathcal{N}(0_n,\\sigma^2*\\mathsf{I}d)$.\n",
    "On peut aussi noter $y_i = {\\theta}_0^{*} + \\sum_{j=1}^{p} {\\theta}_j^{*}x_{ij} + {\\epsilon}_i$\n",
    "avec ${\\epsilon}_i = {\\cal{N}}(0,{\\sigma}^2)~~~~ \\forall$ i = 1,...,n\n",
    "\n"
   ]
  },
  {
   "cell_type": "markdown",
   "metadata": {
    "collapsed": true
   },
   "source": [
    "# 2) Importation des données 'airquality' dans un dataframe\n"
   ]
  },
  {
   "cell_type": "code",
   "execution_count": 1,
   "metadata": {
    "collapsed": false
   },
   "outputs": [
    {
     "data": {
      "text/html": [
       "<div>\n",
       "<table border=\"1\" class=\"dataframe\">\n",
       "  <thead>\n",
       "    <tr style=\"text-align: right;\">\n",
       "      <th></th>\n",
       "      <th>Ozone</th>\n",
       "      <th>Solar.R</th>\n",
       "      <th>Wind</th>\n",
       "      <th>Temp</th>\n",
       "      <th>Month</th>\n",
       "      <th>Day</th>\n",
       "    </tr>\n",
       "  </thead>\n",
       "  <tbody>\n",
       "    <tr>\n",
       "      <th>0</th>\n",
       "      <td>41</td>\n",
       "      <td>190</td>\n",
       "      <td>7.4</td>\n",
       "      <td>67</td>\n",
       "      <td>5</td>\n",
       "      <td>1</td>\n",
       "    </tr>\n",
       "    <tr>\n",
       "      <th>1</th>\n",
       "      <td>36</td>\n",
       "      <td>118</td>\n",
       "      <td>8.0</td>\n",
       "      <td>72</td>\n",
       "      <td>5</td>\n",
       "      <td>2</td>\n",
       "    </tr>\n",
       "    <tr>\n",
       "      <th>2</th>\n",
       "      <td>12</td>\n",
       "      <td>149</td>\n",
       "      <td>12.6</td>\n",
       "      <td>74</td>\n",
       "      <td>5</td>\n",
       "      <td>3</td>\n",
       "    </tr>\n",
       "    <tr>\n",
       "      <th>3</th>\n",
       "      <td>18</td>\n",
       "      <td>313</td>\n",
       "      <td>11.5</td>\n",
       "      <td>62</td>\n",
       "      <td>5</td>\n",
       "      <td>4</td>\n",
       "    </tr>\n",
       "    <tr>\n",
       "      <th>4</th>\n",
       "      <td>NaN</td>\n",
       "      <td>NaN</td>\n",
       "      <td>14.3</td>\n",
       "      <td>56</td>\n",
       "      <td>5</td>\n",
       "      <td>5</td>\n",
       "    </tr>\n",
       "  </tbody>\n",
       "</table>\n",
       "</div>"
      ],
      "text/plain": [
       "   Ozone  Solar.R  Wind  Temp  Month  Day\n",
       "0     41      190   7.4    67      5    1\n",
       "1     36      118   8.0    72      5    2\n",
       "2     12      149  12.6    74      5    3\n",
       "3     18      313  11.5    62      5    4\n",
       "4    NaN      NaN  14.3    56      5    5"
      ]
     },
     "execution_count": 1,
     "metadata": {},
     "output_type": "execute_result"
    }
   ],
   "source": [
    "# -*- coding: utf-8 -*-\n",
    "#\n",
    "#Importation des librairies nécessaires\n",
    "#\n",
    "import numpy as np\n",
    "import pandas as pd\n",
    "import seaborn as sb\n",
    "import matplotlib.pyplot as plt\n",
    "import statsmodels.datasets as sm\n",
    "from IPython.display import display, Math, Latex\n",
    "import statsmodels.api as sa\n",
    "from mpl_toolkits.mplot3d import Axes3D\n",
    "import matplotlib.pyplot as plt\n",
    "\n",
    "%matplotlib inline\n",
    "sb.set_context('notebook')\n",
    "sb.set_style('darkgrid')\n",
    "sb.set_palette('colorblind')\n",
    "\n",
    "dataset = sm.get_rdataset('airquality').data\n",
    "dataset.head()\n"
   ]
  },
  {
   "cell_type": "markdown",
   "metadata": {},
   "source": [
    "# 3) Suppression des lignes nulles de notre dataset"
   ]
  },
  {
   "cell_type": "code",
   "execution_count": 2,
   "metadata": {
    "collapsed": false
   },
   "outputs": [
    {
     "data": {
      "text/html": [
       "<div>\n",
       "<table border=\"1\" class=\"dataframe\">\n",
       "  <thead>\n",
       "    <tr style=\"text-align: right;\">\n",
       "      <th></th>\n",
       "      <th>Ozone</th>\n",
       "      <th>Solar.R</th>\n",
       "      <th>Wind</th>\n",
       "      <th>Temp</th>\n",
       "      <th>Month</th>\n",
       "      <th>Day</th>\n",
       "    </tr>\n",
       "  </thead>\n",
       "  <tbody>\n",
       "    <tr>\n",
       "      <th>0</th>\n",
       "      <td>41</td>\n",
       "      <td>190</td>\n",
       "      <td>7.4</td>\n",
       "      <td>67</td>\n",
       "      <td>5</td>\n",
       "      <td>1</td>\n",
       "    </tr>\n",
       "    <tr>\n",
       "      <th>1</th>\n",
       "      <td>36</td>\n",
       "      <td>118</td>\n",
       "      <td>8.0</td>\n",
       "      <td>72</td>\n",
       "      <td>5</td>\n",
       "      <td>2</td>\n",
       "    </tr>\n",
       "    <tr>\n",
       "      <th>2</th>\n",
       "      <td>12</td>\n",
       "      <td>149</td>\n",
       "      <td>12.6</td>\n",
       "      <td>74</td>\n",
       "      <td>5</td>\n",
       "      <td>3</td>\n",
       "    </tr>\n",
       "    <tr>\n",
       "      <th>3</th>\n",
       "      <td>18</td>\n",
       "      <td>313</td>\n",
       "      <td>11.5</td>\n",
       "      <td>62</td>\n",
       "      <td>5</td>\n",
       "      <td>4</td>\n",
       "    </tr>\n",
       "    <tr>\n",
       "      <th>6</th>\n",
       "      <td>23</td>\n",
       "      <td>299</td>\n",
       "      <td>8.6</td>\n",
       "      <td>65</td>\n",
       "      <td>5</td>\n",
       "      <td>7</td>\n",
       "    </tr>\n",
       "  </tbody>\n",
       "</table>\n",
       "</div>"
      ],
      "text/plain": [
       "   Ozone  Solar.R  Wind  Temp  Month  Day\n",
       "0     41      190   7.4    67      5    1\n",
       "1     36      118   8.0    72      5    2\n",
       "2     12      149  12.6    74      5    3\n",
       "3     18      313  11.5    62      5    4\n",
       "6     23      299   8.6    65      5    7"
      ]
     },
     "execution_count": 2,
     "metadata": {},
     "output_type": "execute_result"
    }
   ],
   "source": [
    "dataset = dataset.dropna()\n",
    "dataset.head()"
   ]
  },
  {
   "cell_type": "markdown",
   "metadata": {},
   "source": [
    "# 4) Régression linéaire de 'Ozone' sur les autres variables explicatives"
   ]
  },
  {
   "cell_type": "code",
   "execution_count": 3,
   "metadata": {
    "collapsed": false
   },
   "outputs": [
    {
     "data": {
      "text/plain": [
       "LinearRegression(copy_X=True, fit_intercept=True, n_jobs=1, normalize=False)"
      ]
     },
     "execution_count": 3,
     "metadata": {},
     "output_type": "execute_result"
    }
   ],
   "source": [
    "from sklearn import linear_model\n",
    "y_train = dataset['Ozone']\n",
    "x_train = dataset[['Solar.R','Wind','Temp','Month','Day']]\n",
    "x_scaled = (x_train - np.mean(x_train))/np.std(x_train)\n",
    "skl_linmod_ozone_scaled = linear_model.LinearRegression()\n",
    "skl_linmod_ozone_scaled.fit(x_scaled,y_train)\n"
   ]
  },
  {
   "cell_type": "markdown",
   "metadata": {},
   "source": [
    "# 5) Estimation de $\\hat{\\theta}$ par regression linéaire"
   ]
  },
  {
   "cell_type": "code",
   "execution_count": 4,
   "metadata": {
    "collapsed": false,
    "scrolled": true
   },
   "outputs": [
    {
     "data": {
      "text/latex": [
       "$$\\widehat\\theta = \\begin{bmatrix}42.0990990991\\\\4.56193075918\\\\-11.7527708448\\\\17.9852199495\\\\-4.45895296698\\\\2.37393858761\\end{bmatrix}$$"
      ],
      "text/plain": [
       "<IPython.core.display.Math object>"
      ]
     },
     "metadata": {},
     "output_type": "display_data"
    }
   ],
   "source": [
    "theta_hat = skl_linmod_ozone_scaled.coef_.astype(float)\n",
    "theta_hat_ = np.insert(skl_linmod_ozone_scaled.coef_,0,skl_linmod_ozone_scaled.intercept_.astype(float),axis=None)\n",
    "display(Math(r'$\\widehat\\theta = \\begin{bmatrix}'+r'{0}'.format(theta_hat_[0])+r'\\\\{0}'.format(theta_hat_[1])+r'\\\\{0}'.format(theta_hat_[2])+r'\\\\{0}'.format(theta_hat_[3])+r'\\\\{0}'.format(theta_hat_[4])+r'\\\\{0}'.format(theta_hat_[5])+r'\\end{bmatrix}$'))\n"
   ]
  },
  {
   "cell_type": "markdown",
   "metadata": {},
   "source": [
    "l'estimateur sans biais de la variance $\\hat{\\sigma^2}$ = $\\frac{\\Vert Y-\\hat{Y}\\Vert^2}{n-rang(X)}$\n",
    "où Y - $\\hat{Y}$ est le vecteur résidus avec $\\hat{Y}$ = X$\\hat{\\theta}$ "
   ]
  },
  {
   "cell_type": "code",
   "execution_count": 5,
   "metadata": {
    "collapsed": false
   },
   "outputs": [
    {
     "data": {
      "text/latex": [
       "$$\\hat{\\sigma^2}= 430.97100919$$"
      ],
      "text/plain": [
       "<IPython.core.display.Math object>"
      ]
     },
     "metadata": {},
     "output_type": "display_data"
    }
   ],
   "source": [
    "y_hat = skl_linmod_ozone_scaled.predict(x_scaled) \n",
    "residus = y_train - y_hat  \n",
    "norm_2 = residus.T.dot(residus) #calcul de la norme carré des résidus\n",
    "n = len(y_train)\n",
    "p = np.linalg.matrix_rank(x_scaled)\n",
    "var_hat = norm_2/(n - p)\n",
    "#l'estimateur sans biais de la variance #\n",
    "display(Math(r'$\\hat{\\sigma^2}= '+ str(var_hat)))"
   ]
  },
  {
   "cell_type": "markdown",
   "metadata": {},
   "source": [
    "# 6) Intervalle de confiance de niveau 0.01 pour $\\hat{\\theta}$"
   ]
  },
  {
   "cell_type": "code",
   "execution_count": 6,
   "metadata": {
    "collapsed": false,
    "scrolled": true
   },
   "outputs": [
    {
     "data": {
      "text/latex": [
       "$$IC^*_0 =[ 36.9297257965;47.2684724017]$$"
      ],
      "text/plain": [
       "<IPython.core.display.Math object>"
      ]
     },
     "metadata": {},
     "output_type": "display_data"
    },
    {
     "data": {
      "text/latex": [
       "$$IC^*_1 =[ -0.986632769232;10.1104942876]$$"
      ],
      "text/plain": [
       "<IPython.core.display.Math object>"
      ]
     },
     "metadata": {},
     "output_type": "display_data"
    },
    {
     "data": {
      "text/latex": [
       "$$IC^*_2 =[ -17.7128526274;-5.79268906211]$$"
      ],
      "text/plain": [
       "<IPython.core.display.Math object>"
      ]
     },
     "metadata": {},
     "output_type": "display_data"
    },
    {
     "data": {
      "text/latex": [
       "$$IC^*_3 =[ 11.2007698768;24.7696700223]$$"
      ],
      "text/plain": [
       "<IPython.core.display.Math object>"
      ]
     },
     "metadata": {},
     "output_type": "display_data"
    },
    {
     "data": {
      "text/latex": [
       "$$IC^*_4 =[ -10.2552763474;1.33737041342]$$"
      ],
      "text/plain": [
       "<IPython.core.display.Math object>"
      ]
     },
     "metadata": {},
     "output_type": "display_data"
    },
    {
     "data": {
      "text/latex": [
       "$$IC^*_5 =[ -2.82405745549;7.5719346307]$$"
      ],
      "text/plain": [
       "<IPython.core.display.Math object>"
      ]
     },
     "metadata": {},
     "output_type": "display_data"
    },
    {
     "name": "stdout",
     "output_type": "stream",
     "text": [
      " \n",
      "[ 42.0990991    4.56193076 -11.75277084  17.98521995  -4.45895297\n",
      "   2.37393859]\n"
     ]
    }
   ],
   "source": [
    "#d'apres la prop 1 on peut utiliser la Statistiques de Student avec theta_hat et var_hat\n",
    "skl_linmod_ozone_original = linear_model.LinearRegression()\n",
    "skl_linmod_ozone_original.fit(x_train,y_train)\n",
    "\n",
    "\n",
    "x_new = np.asarray(x_scaled)\n",
    "x_new = np.insert(x_new,0,np.ones(n),axis=1)\n",
    "\n",
    "\n",
    "from scipy.stats import t\n",
    "\n",
    "alpha = 1 - 0.99\n",
    "t_q = t.ppf(1 - alpha/2,n-p-1)\n",
    "\n",
    "def left(i):\n",
    "    \"\"\"fonction qui calcule la borne inférieure de l'intervalle de confiance pour theta_hat(i)\"\"\"\n",
    "    return theta_hat_[i] - t_q*np.math.sqrt(var_hat*np.linalg.solve(x_new.T.dot(x_new),np.identity(p+1))[i][i])\n",
    "\n",
    "def right(i):\n",
    "    \"\"\"fonction qui calcule la borne suppérieure de l'intervalle de confiance pour theta_hat(i)\"\"\"\n",
    "    return theta_hat_[i] + t_q*np.math.sqrt(var_hat*np.linalg.solve(x_new.T.dot(x_new),np.identity(p+1))[i][i])\n",
    "\n",
    "def IC(i):\n",
    "    \"\"\"intervalle de confiance pour theta_hat(i)\"\"\"\n",
    "    return \"[ \"+str(left(i))+\";\"+str(right(i)) + \"]\"\n",
    "def IC_size(i):\n",
    "    \"\"\"taille de l'intervalle de confiance pour theta_hat(i)\"\"\"\n",
    "    return right(i) - left(i)\n",
    "\n",
    "\n",
    "\n",
    "\n",
    "#on affiche les intervalles de confiance pour les différents theta_hat(i) avec i=0...4\n",
    "display(Math(r'$IC^*_0 ={}$'.format(IC(0))))\n",
    "display(Math(r'$IC^*_1 ={}$'.format(IC(1))))\n",
    "display(Math(r'$IC^*_2 ={}$'.format(IC(2))))\n",
    "display(Math(r'$IC^*_3 ={}$'.format(IC(3))))\n",
    "display(Math(r'$IC^*_4 ={}$'.format(IC(4))))\n",
    "display(Math(r'$IC^*_5 ={}$'.format(IC(5))))\n",
    "\n",
    "print \" \"\n",
    "print theta_hat_\n"
   ]
  },
  {
   "cell_type": "markdown",
   "metadata": {
    "collapsed": true
   },
   "source": [
    "# 7)"
   ]
  },
  {
   "cell_type": "markdown",
   "metadata": {},
   "source": [
    "On remarque que les variables Day et Month \n",
    "sont potentiellement non explicatives du modèle \n",
    "étant donné que leurs intervalles de confiance contiennent 0."
   ]
  },
  {
   "cell_type": "markdown",
   "metadata": {},
   "source": [
    "# 8) prédiction d'une nouvelle observation"
   ]
  },
  {
   "cell_type": "code",
   "execution_count": 7,
   "metadata": {
    "collapsed": false
   },
   "outputs": [
    {
     "name": "stdout",
     "output_type": "stream",
     "text": [
      "La prédiction pour cette nouvelle observation donne : \n"
     ]
    },
    {
     "data": {
      "text/latex": [
       "$$\\hat{y}_{new}~~ =~~ 36.4623378681$$"
      ],
      "text/plain": [
       "<IPython.core.display.Math object>"
      ]
     },
     "metadata": {},
     "output_type": "display_data"
    }
   ],
   "source": [
    "#Création de la nouvelle observation\n",
    "listenom = ['Solar.R','Wind','Temp','Month','Day']\n",
    "newline = pd.DataFrame([[197, 10, 70, 3,1]], columns = listenom)\n",
    "\n",
    "#prédiction de la valeur d'Ozone pour la nouvelle observation\n",
    "y_newline_pred = skl_linmod_ozone_original.predict(newline)\n",
    "print \"La prédiction pour cette nouvelle observation donne : \" \n",
    "display(Math(r'$\\hat{y}_{new}~~ =~~ '+str(y_newline_pred[0])))\n",
    "\n"
   ]
  },
  {
   "cell_type": "markdown",
   "metadata": {},
   "source": [
    "# Exercice 2 #"
   ]
  },
  {
   "cell_type": "markdown",
   "metadata": {
    "collapsed": false
   },
   "source": [
    "# 1) Methode Bootstrap et comparaison"
   ]
  },
  {
   "cell_type": "code",
   "execution_count": 8,
   "metadata": {
    "collapsed": false
   },
   "outputs": [
    {
     "data": {
      "text/html": [
       "<div>\n",
       "<table border=\"1\" class=\"dataframe\">\n",
       "  <thead>\n",
       "    <tr style=\"text-align: right;\">\n",
       "      <th></th>\n",
       "      <th>const</th>\n",
       "      <th>Solar.R</th>\n",
       "      <th>Wind</th>\n",
       "      <th>Temp</th>\n",
       "      <th>Month</th>\n",
       "      <th>Day</th>\n",
       "    </tr>\n",
       "  </thead>\n",
       "  <tbody>\n",
       "    <tr>\n",
       "      <th>sample : 0</th>\n",
       "      <td>37.333333</td>\n",
       "      <td>3.492554</td>\n",
       "      <td>-10.232828</td>\n",
       "      <td>17.664571</td>\n",
       "      <td>-6.316278</td>\n",
       "      <td>3.469149</td>\n",
       "    </tr>\n",
       "    <tr>\n",
       "      <th>sample : 1</th>\n",
       "      <td>40.225225</td>\n",
       "      <td>3.513292</td>\n",
       "      <td>-13.013078</td>\n",
       "      <td>19.674711</td>\n",
       "      <td>-6.007166</td>\n",
       "      <td>4.873514</td>\n",
       "    </tr>\n",
       "    <tr>\n",
       "      <th>sample : 2</th>\n",
       "      <td>41.810811</td>\n",
       "      <td>1.305677</td>\n",
       "      <td>-11.832868</td>\n",
       "      <td>19.434542</td>\n",
       "      <td>-4.839453</td>\n",
       "      <td>3.057899</td>\n",
       "    </tr>\n",
       "    <tr>\n",
       "      <th>sample : 3</th>\n",
       "      <td>36.558559</td>\n",
       "      <td>2.980991</td>\n",
       "      <td>-7.532733</td>\n",
       "      <td>20.300341</td>\n",
       "      <td>-5.893955</td>\n",
       "      <td>3.359145</td>\n",
       "    </tr>\n",
       "    <tr>\n",
       "      <th>sample : 4</th>\n",
       "      <td>42.063063</td>\n",
       "      <td>4.919396</td>\n",
       "      <td>-7.842260</td>\n",
       "      <td>18.928839</td>\n",
       "      <td>-3.285574</td>\n",
       "      <td>3.879667</td>\n",
       "    </tr>\n",
       "  </tbody>\n",
       "</table>\n",
       "</div>"
      ],
      "text/plain": [
       "                const   Solar.R       Wind       Temp     Month       Day\n",
       "sample : 0  37.333333  3.492554 -10.232828  17.664571 -6.316278  3.469149\n",
       "sample : 1  40.225225  3.513292 -13.013078  19.674711 -6.007166  4.873514\n",
       "sample : 2  41.810811  1.305677 -11.832868  19.434542 -4.839453  3.057899\n",
       "sample : 3  36.558559  2.980991  -7.532733  20.300341 -5.893955  3.359145\n",
       "sample : 4  42.063063  4.919396  -7.842260  18.928839 -3.285574  3.879667"
      ]
     },
     "execution_count": 8,
     "metadata": {},
     "output_type": "execute_result"
    }
   ],
   "source": [
    "from sklearn.utils import resample\n",
    "ListeDeThetaestim_sample=pd.DataFrame()\n",
    "Comparaison_bootstrap_MCO=pd.DataFrame()\n",
    "for i in range(0,10000):\n",
    "    airq_data_resample = resample(dataset,replace='True')\n",
    "    Ysample = airq_data_resample['Ozone'].astype(float)\n",
    "    Xsample = airq_data_resample[['Solar.R', 'Wind', 'Temp', 'Month', 'Day']].astype(float)\n",
    "    # Centrage et Réduction des variables explicatives\n",
    "    Xsample_mean=np.mean(Xsample)\n",
    "    Xsample_ecartType = np.std(Xsample)\n",
    "    Xsample_rescale = (Xsample - Xsample_mean)/Xsample_ecartType\n",
    "    Xsample_rescale=sa.add_constant(Xsample_rescale)\n",
    "    theta_estim_sample = sa.OLS(Ysample,Xsample_rescale).fit().params\n",
    "    ListeDeThetaestim_sample['sample : '+ str(i)]=theta_estim_sample\n",
    "\n",
    "# Changement des lignes en colonnes    \n",
    "ListeDeThetaestim_sample=ListeDeThetaestim_sample.T\n",
    "# Affichage des coefficients estimés pour les 5 premiers samples   \n",
    "ListeDeThetaestim_sample.head()"
   ]
  },
  {
   "cell_type": "code",
   "execution_count": 9,
   "metadata": {
    "collapsed": false
   },
   "outputs": [
    {
     "data": {
      "text/html": [
       "<div>\n",
       "<table border=\"1\" class=\"dataframe\">\n",
       "  <thead>\n",
       "    <tr style=\"text-align: right;\">\n",
       "      <th></th>\n",
       "      <th>MCO pur</th>\n",
       "      <th>bootstr+moy</th>\n",
       "      <th>bootstr+med</th>\n",
       "      <th>moy 3 methodes</th>\n",
       "      <th>std 3 methodes</th>\n",
       "    </tr>\n",
       "  </thead>\n",
       "  <tbody>\n",
       "    <tr>\n",
       "      <th>Const</th>\n",
       "      <td>42.099099</td>\n",
       "      <td>42.085407</td>\n",
       "      <td>41.981982</td>\n",
       "      <td>42.055496</td>\n",
       "      <td>0.064032</td>\n",
       "    </tr>\n",
       "    <tr>\n",
       "      <th>Solar.R</th>\n",
       "      <td>4.561931</td>\n",
       "      <td>4.531017</td>\n",
       "      <td>4.498157</td>\n",
       "      <td>4.530368</td>\n",
       "      <td>0.031892</td>\n",
       "    </tr>\n",
       "    <tr>\n",
       "      <th>Wind</th>\n",
       "      <td>-11.752771</td>\n",
       "      <td>-11.789245</td>\n",
       "      <td>-11.662775</td>\n",
       "      <td>-11.734930</td>\n",
       "      <td>0.065095</td>\n",
       "    </tr>\n",
       "    <tr>\n",
       "      <th>Temp</th>\n",
       "      <td>17.985220</td>\n",
       "      <td>17.868889</td>\n",
       "      <td>17.889162</td>\n",
       "      <td>17.914424</td>\n",
       "      <td>0.062144</td>\n",
       "    </tr>\n",
       "    <tr>\n",
       "      <th>Month</th>\n",
       "      <td>-4.458953</td>\n",
       "      <td>-4.428856</td>\n",
       "      <td>-4.412990</td>\n",
       "      <td>-4.433600</td>\n",
       "      <td>0.023346</td>\n",
       "    </tr>\n",
       "    <tr>\n",
       "      <th>Day</th>\n",
       "      <td>2.373939</td>\n",
       "      <td>2.357225</td>\n",
       "      <td>2.361150</td>\n",
       "      <td>2.364104</td>\n",
       "      <td>0.008740</td>\n",
       "    </tr>\n",
       "  </tbody>\n",
       "</table>\n",
       "</div>"
      ],
      "text/plain": [
       "           MCO pur  bootstr+moy  bootstr+med  moy 3 methodes  std 3 methodes\n",
       "Const    42.099099    42.085407    41.981982       42.055496        0.064032\n",
       "Solar.R   4.561931     4.531017     4.498157        4.530368        0.031892\n",
       "Wind    -11.752771   -11.789245   -11.662775      -11.734930        0.065095\n",
       "Temp     17.985220    17.868889    17.889162       17.914424        0.062144\n",
       "Month    -4.458953    -4.428856    -4.412990       -4.433600        0.023346\n",
       "Day       2.373939     2.357225     2.361150        2.364104        0.008740"
      ]
     },
     "execution_count": 9,
     "metadata": {},
     "output_type": "execute_result"
    }
   ],
   "source": [
    "# Comparaison des valeurs de l'exercice 1 et du bootstrap \n",
    "Comparaison_bootstrap_MCO[\"MCO pur\"] = theta_hat_\n",
    "Comparaison_bootstrap_MCO[\"bootstr+moy\"] = ListeDeThetaestim_sample.mean().as_matrix()\n",
    "\n",
    "Comparaison_bootstrap_MCO[\"bootstr+med\"] = ListeDeThetaestim_sample.median().as_matrix()\n",
    "Moyenne_des_coefficients = Comparaison_bootstrap_MCO.mean(axis=1)\n",
    "Ecart_type_des_coefficients = Comparaison_bootstrap_MCO.std(axis=1)\n",
    "\n",
    "Comparaison_bootstrap_MCO[\"moy 3 methodes\"] = Moyenne_des_coefficients\n",
    "Comparaison_bootstrap_MCO[\"std 3 methodes\"] = Ecart_type_des_coefficients\n",
    "\n",
    "Comparaison_bootstrap_MCO.rename(index={0:'Const',1:'Solar.R',2:'Wind',3:'Temp',4:'Month',5:'Day'})"
   ]
  },
  {
   "cell_type": "markdown",
   "metadata": {},
   "source": [
    "# 2) Intervalle de confiance de niveau 99% avec les quantiles empiriques de bootstrap"
   ]
  },
  {
   "cell_type": "code",
   "execution_count": 10,
   "metadata": {
    "collapsed": false
   },
   "outputs": [
    {
     "data": {
      "text/html": [
       "<div>\n",
       "<table border=\"1\" class=\"dataframe\">\n",
       "  <thead>\n",
       "    <tr style=\"text-align: right;\">\n",
       "      <th></th>\n",
       "      <th>const</th>\n",
       "      <th>Solar.R</th>\n",
       "      <th>Wind</th>\n",
       "      <th>Temp</th>\n",
       "      <th>Month</th>\n",
       "      <th>Day</th>\n",
       "    </tr>\n",
       "  </thead>\n",
       "  <tbody>\n",
       "    <tr>\n",
       "      <th>0.005</th>\n",
       "      <td>34.450360</td>\n",
       "      <td>0.010132</td>\n",
       "      <td>-19.995310</td>\n",
       "      <td>11.719140</td>\n",
       "      <td>-9.518263</td>\n",
       "      <td>-3.157332</td>\n",
       "    </tr>\n",
       "    <tr>\n",
       "      <th>0.995</th>\n",
       "      <td>50.351441</td>\n",
       "      <td>9.353517</td>\n",
       "      <td>-4.858708</td>\n",
       "      <td>23.859331</td>\n",
       "      <td>0.813888</td>\n",
       "      <td>7.912334</td>\n",
       "    </tr>\n",
       "  </tbody>\n",
       "</table>\n",
       "</div>"
      ],
      "text/plain": [
       "           const   Solar.R       Wind       Temp     Month       Day\n",
       "0.005  34.450360  0.010132 -19.995310  11.719140 -9.518263 -3.157332\n",
       "0.995  50.351441  9.353517  -4.858708  23.859331  0.813888  7.912334"
      ]
     },
     "execution_count": 10,
     "metadata": {},
     "output_type": "execute_result"
    }
   ],
   "source": [
    "ListeDeThetaestim_sample.quantile([.005,.995])"
   ]
  },
  {
   "cell_type": "markdown",
   "metadata": {},
   "source": [
    "# 3) impact du nombre d'échantillon du bootstrap"
   ]
  },
  {
   "cell_type": "code",
   "execution_count": 11,
   "metadata": {
    "collapsed": false
   },
   "outputs": [
    {
     "data": {
      "image/png": "[encoded data removed]",
      "text/plain": [
       "<matplotlib.figure.Figure at 0x213addd8>"
      ]
     },
     "metadata": {},
     "output_type": "display_data"
    }
   ],
   "source": [
    "tableau_de_IC=pd.DataFrame(columns=[\"B\",'0.005','0.995','MED'])\n",
    "for i in np.linspace(1,5001,11):\n",
    "    tableau_de_IC.loc[int(i),\"B\"]=int(i)\n",
    "    tableau_de_IC.loc[int(i),'0.005']=ListeDeThetaestim_sample[0:int(i)].quantile([.005]).iloc[0,2]\n",
    "    tableau_de_IC.loc[int(i),'0.995']=ListeDeThetaestim_sample[0:int(i)].quantile([.995]).iloc[0,2]\n",
    "    tableau_de_IC.loc[int(i),'MED']=ListeDeThetaestim_sample.iloc[0:int(i),2].median()\n",
    "\n",
    "fig = plt.figure(figsize=(15, 15))\n",
    "plt.plot(tableau_de_IC.iloc[:,0],tableau_de_IC.iloc[:,1],'b--', label=\"ICmin des theta\")\n",
    "plt.plot(tableau_de_IC.iloc[:,0],tableau_de_IC.iloc[:,2],'g--', label =\"ICmax des theta\")\n",
    "plt.plot(tableau_de_IC.iloc[:,0],tableau_de_IC.iloc[:,3],linewidth=3,color='red', label = \"Mediane des Theta\")\n",
    "plt.legend(numpoints=1, loc=2)\n",
    "plt.title(\"Valeurs pour Theta (Influence de Wind)\")\n",
    "plt.show()"
   ]
  },
  {
   "cell_type": "markdown",
   "metadata": {},
   "source": [
    "# 4) régression de Ozone sur wind"
   ]
  },
  {
   "cell_type": "code",
   "execution_count": 12,
   "metadata": {
    "collapsed": false
   },
   "outputs": [
    {
     "data": {
      "text/plain": [
       "<seaborn.axisgrid.FacetGrid at 0x1fa0ee80>"
      ]
     },
     "execution_count": 12,
     "metadata": {},
     "output_type": "execute_result"
    },
    {
     "data": {
      "image/png": "[encoded data removed]",
      "text/plain": [
       "<matplotlib.figure.Figure at 0x1f757be0>"
      ]
     },
     "metadata": {},
     "output_type": "display_data"
    }
   ],
   "source": [
    "sb.lmplot('Wind','Ozone',hue='Month',data=dataset,size=7)"
   ]
  },
  {
   "cell_type": "markdown",
   "metadata": {},
   "source": [
    "On remarque que le mois de Juin présente des résultats atypiques par rapport aux autres mois au niveau de la concentration en Ozone. en effet tous les coefficients directeurs des droites de regression des autres mois sont négatives sauf celle du mois de Juin."
   ]
  },
  {
   "cell_type": "markdown",
   "metadata": {},
   "source": [
    "# Exercice 3"
   ]
  },
  {
   "cell_type": "markdown",
   "metadata": {},
   "source": [
    "# 1)"
   ]
  },
  {
   "cell_type": "code",
   "execution_count": 13,
   "metadata": {
    "collapsed": false
   },
   "outputs": [],
   "source": [
    "dat = sm.get_rdataset('airquality').data\n",
    "dat = dat.dropna()\n",
    "y_train = dat[['Ozone']]\n",
    "X_train = dat[['Solar.R','Wind','Temp','Month','Day']]\n",
    "def stpforward(X, y , M):\n",
    "    X_norm_matx = X\n",
    "    S = []\n",
    "    res = y\n",
    "    #stockage de la taille de X_norm_matx\n",
    "    p = X_norm_matx.shape[1]\n",
    "    Theta_s =  np.zeros(p)\n",
    "    for i in range(1,M+1):\n",
    "        tab_Alphaj = np.zeros(p)\n",
    "        #construction du tableau contenant les alpha_j    \n",
    "        for j in range(0,p):\n",
    "            if(j not in S):            \n",
    "                #calcul Alpha_j et ajout dans tab_Alpha_j\n",
    "                Xj = np.asarray(X_norm_matx)[:,j]\n",
    "                valeur_Aj = np.abs(Xj.dot(res).sum())\n",
    "                tab_Alphaj[j] = valeur_Aj\n",
    "          \n",
    "        jmax = tab_Alphaj.tolist().index(np.max(tab_Alphaj))\n",
    "        S.append(jmax)\n",
    "        #Construction de Xs avec le nouveau S\n",
    "        Xs_temp =  np.zeros(X_norm_matx.shape[0])\n",
    "        for el in range(0,len(S)):     \n",
    "            Xs_temp = np.column_stack((Xs_temp , np.asarray(X_norm_matx)[:,S[el]]))    \n",
    "         \n",
    "        \n",
    "        #regression lineaire avec Xs et y\n",
    "        Xs = pd.DataFrame(Xs_temp[:,1:])\n",
    "        skl_linmod = linear_model.LinearRegression()\n",
    "        skl_linmod.fit(Xs, y)\n",
    "        #Stockage des coefficients dans le tableau Theta_s\n",
    "        c= 0        \n",
    "        for k in S:        \n",
    "            Theta_s[k] = skl_linmod.coef_[0][c]\n",
    "            c += 1\n",
    "        #calcul du nouveau résidu r\n",
    "        y_hat = skl_linmod.predict(Xs)[0]\n",
    "        res = y - y_hat\n",
    "        #print \"residu = \", res\n",
    "        \n",
    "    return  Theta_s , S\n",
    "\n"
   ]
  },
  {
   "cell_type": "markdown",
   "metadata": {},
   "source": [
    "# 2)"
   ]
  },
  {
   "cell_type": "code",
   "execution_count": 14,
   "metadata": {
    "collapsed": false
   },
   "outputs": [],
   "source": [
    "from sklearn.linear_model.base import LinearModel, _pre_fit\n",
    "from sklearn.base import RegressorMixin\n",
    "\n",
    "\n",
    "class MYOMP(LinearModel, RegressorMixin):\n",
    "    def __init__(self, n_nonzero_coefs=None, fit_intercept=True, normalize=True, precompute='auto'):\n",
    "        self.n_nonzero_coefs = n_nonzero_coefs\n",
    "        self.fit_intercept = fit_intercept\n",
    "        self.normalize = normalize\n",
    "        self.precompute = precompute\n",
    "\n",
    "    def fit(self, X, y,M):\n",
    "        \"\"\"Fit the model using X, y as training data.\n",
    "        Parameters\n",
    "        ----------\n",
    "        X : array-like, shape (n_samples, n_features)\n",
    "        Training data.\n",
    "        y : array-like, shape (n_samples,) or (n_samples, n_targets)\n",
    "        Target values.\n",
    "        Returns\n",
    "        -------\n",
    "        self : object\n",
    "        returns an instance of self.\n",
    "        \"\"\"\n",
    "\n",
    "        X, y, X_mean, y_mean, X_std, Gram, Xy = _pre_fit(X, y, None, self.precompute, self.normalize,self.fit_intercept, copy=True)\n",
    "        self.coef_ = np.zeros([X.shape[1], ])    \n",
    "        self.S = []\n",
    "        self.coef_  , self.S = stpforward(X, y , M)\n",
    "        self._set_intercept(X_mean, y_mean, X_std)\n",
    "        return self\n"
   ]
  },
  {
   "cell_type": "markdown",
   "metadata": {},
   "source": [
    "# 3)"
   ]
  },
  {
   "cell_type": "code",
   "execution_count": 15,
   "metadata": {
    "collapsed": false
   },
   "outputs": [
    {
     "name": "stdout",
     "output_type": "stream",
     "text": [
      "\n",
      "############################################### Pour M =  3  ##############################################\n",
      "Les coordonnées de Theta sont:  [ 0.05982059 -3.33359131  1.65209291  0.          0.        ]\n",
      "Les index dans S sont:  [2, 1, 0]  \n",
      "\n",
      "\n",
      "############################################### Pour M =  4  ##############################################\n",
      "Les coordonnées de Theta sont:  [ 0.04959683 -3.3165094   1.87087379 -2.99162786  0.        ]\n",
      "Les index dans S sont:  [2, 1, 0, 3]  \n",
      "\n",
      "\n",
      "############################################### Pour M =  5  ##############################################\n",
      "Les coordonnées de Theta sont:  [ 0.05027432 -3.31844386  1.89578642 -3.03995664  0.27387752]\n",
      "Les index dans S sont:  [2, 1, 0, 3, 4]  \n",
      "\n"
     ]
    }
   ],
   "source": [
    "for i in range(3,6):\n",
    "    M = i\n",
    "    print\"\\n############################################### Pour M = \", M,\" ##############################################\"\n",
    "    result_myomp = MYOMP()\n",
    "    result_myomp.fit(X_train, y_train, M)\n",
    "    print \"Les coordonnées de Theta sont: \", result_myomp.coef_\n",
    "    print \"Les index dans S sont: \", result_myomp.S,\" \\n\""
   ]
  },
  {
   "cell_type": "markdown",
   "metadata": {},
   "source": [
    "# 4)"
   ]
  },
  {
   "cell_type": "code",
   "execution_count": 16,
   "metadata": {
    "collapsed": false
   },
   "outputs": [
    {
     "name": "stdout",
     "output_type": "stream",
     "text": [
      "\n",
      "##############################################Pour M =  3  #################################################\n",
      "Les coordonnées de Theta sont:  [ 0.05982059 -3.33359131  1.65209291  0.          0.        ] \n",
      "\n",
      "Les index sont:  [0 1 2]\n",
      "\n",
      "##############################################Pour M =  4  #################################################\n",
      "Les coordonnées de Theta sont:  [ 0.04959683 -3.3165094   1.87087379 -2.99162786  0.        ] \n",
      "\n",
      "Les index sont:  [0 1 2 3]\n",
      "\n",
      "##############################################Pour M =  5  #################################################\n",
      "Les coordonnées de Theta sont:  [ 0.05027432 -3.31844386  1.89578642 -3.03995664  0.27387752] \n",
      "\n",
      "Les index sont:  [0 1 2 3 4]\n"
     ]
    }
   ],
   "source": [
    "from sklearn.linear_model import OrthogonalMatchingPursuit\n",
    "\n",
    "\n",
    "for  i in range(3,6):\n",
    "    M = i\n",
    "    print\"\\n##############################################Pour M = \", M,\" #################################################\"\n",
    "    \n",
    "    omp = OrthogonalMatchingPursuit(n_nonzero_coefs=M, normalize = True)\n",
    "    omp.fit(X_train, y_train)\n",
    "    print \"Les coordonnées de Theta sont: \",  omp.coef_ , \"\\n\"\n",
    "    idx_r, = omp.coef_.nonzero()\n",
    "    print \"Les index sont: \", idx_r"
   ]
  },
  {
   "cell_type": "markdown",
   "metadata": {
    "collapsed": true
   },
   "source": [
    "On remarque que MYOMP et OrthogonalMatchingPursuit donnent les mêmes résultats pour M=3,4,5"
   ]
  },
  {
   "cell_type": "markdown",
   "metadata": {
    "collapsed": true
   },
   "source": [
    "# 5)"
   ]
  },
  {
   "cell_type": "code",
   "execution_count": 17,
   "metadata": {
    "collapsed": false
   },
   "outputs": [
    {
     "name": "stdout",
     "output_type": "stream",
     "text": [
      " \n",
      "##################Pour M =  2 ######################\n",
      "l'erreur de prediction est : \n",
      "12.4943472417\n",
      " \n",
      "##################Pour M =  3 ######################\n",
      "l'erreur de prediction est : \n",
      "11.6637926373\n",
      " \n",
      "##################Pour M =  4 ######################\n",
      "l'erreur de prediction est : \n",
      "10.9660339242\n"
     ]
    }
   ],
   "source": [
    "from sklearn import cross_validation\n",
    "def validation(u, v, M):\n",
    "    \"\"\"fonction validation qui permet de trouver l'erreur de prediction la plus petite pour definir la valeur M à choisir\"\"\"\n",
    "    X = np.asarray(u)\n",
    "    y = np.asarray(v)\n",
    "    kf = cross_validation.KFold(n, n_folds=M)\n",
    "    cross_validation.KFold(n, n_folds=M, shuffle=False,random_state=None)\n",
    "    er = []\n",
    "    for train_index, test_index in kf:\n",
    "        X_train_valid, X_test = X[train_index], X[test_index]\n",
    "        y_train_valid, y_test = y[train_index], y[test_index]\n",
    "        X_scaled = X_train_valid - np.mean(X_train_valid)/np.std(X_train_valid)\n",
    "        skl_linmod_ozone_original.fit(X_scaled,y_train_valid)\n",
    "        er.append(np.math.sqrt(np.linalg.norm(y_test - skl_linmod_ozone_original.predict(X_test))))\n",
    "    print \" \"\n",
    "    print \"##################Pour M = \", M, \"######################\"\n",
    "    print \"l'erreur de prediction est : \"\n",
    "    return np.mean(er)\n",
    "\n",
    "for i in range(2,5):\n",
    "    print validation(X_train, y_train, i)"
   ]
  },
  {
   "cell_type": "markdown",
   "metadata": {},
   "source": [
    "D'après le modèle de validation croisée nous avons pour M = 4 la plus petite erreur de prediction.\n",
    "Donc il faut garder 4 variables pour bien expliquer la concentration d'ozone."
   ]
  },
  {
   "cell_type": "code",
   "execution_count": 18,
   "metadata": {
    "collapsed": false
   },
   "outputs": [
    {
     "name": "stdout",
     "output_type": "stream",
     "text": [
      "Le score des différentes valeurs de M est:  [-0.23968362 -0.28011808 -0.34993775 -0.22585499 -0.23591964]\n",
      "Le meilleur score est:  -0.225854986121  pour M =  4\n"
     ]
    }
   ],
   "source": [
    "#Avec la methode du score nous obtenons le nombre de variable à choisir pour expliquer le modèle Ozone\n",
    "from sklearn import cross_validation\n",
    "kf = cross_validation.KFold(X_train.shape[0], n_folds=10)\n",
    "\n",
    "Score_mat = np.empty([1,10])\n",
    "Score_mat = np.delete(Score_mat,0,0)  # define S as an empty matrix\n",
    "for i in range(1,6,1):\n",
    "    \n",
    "    omp = OrthogonalMatchingPursuit(n_nonzero_coefs=i)\n",
    "    omp.fit(X_train, y_train)\n",
    "    scores = []\n",
    "    for train_index, test_index in kf:\n",
    "        X_train_val, X_test = np.asarray(X_train)[train_index], np.asarray(X_train)[test_index]\n",
    "        y_train_val, y_test = np.asarray(y_train)[train_index], np.asarray(y_train)[test_index]\n",
    "        scores.append(omp.score(X_test, y_test))\n",
    "    Score_mat = np.vstack((Score_mat,scores))\n",
    "print \"Le score des différentes valeurs de M est:  \"  +str(Score_mat.mean(axis=1))\n",
    "print \"Le meilleur score est: \", np.max(Score_mat.mean(axis=1)),\" pour M = \",np.argmax(Score_mat.mean(axis=1))+1"
   ]
  },
  {
   "cell_type": "code",
   "execution_count": null,
   "metadata": {
    "collapsed": true
   },
   "outputs": [],
   "source": []
  }
 ],
 "metadata": {
  "kernelspec": {
   "display_name": "Python 2",
   "language": "python",
   "name": "python2"
  },
  "language_info": {
   "codemirror_mode": {
    "name": "ipython",
    "version": 2
   },
   "file_extension": ".py",
   "mimetype": "text/x-python",
   "name": "python",
   "nbconvert_exporter": "python",
   "pygments_lexer": "ipython2",
   "version": "2.7.10"
  }
 },
 "nbformat": 4,
 "nbformat_minor": 0
}
