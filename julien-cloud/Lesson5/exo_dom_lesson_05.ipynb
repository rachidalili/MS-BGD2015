{
 "cells": [
  {
   "cell_type": "markdown",
   "metadata": {},
   "source": [
    "# exo_dom_lesson_05\n",
    "*C'est un sujet assez ouvert pris du Hackathon \"données de santé\" de Etalab. Il y a un github qui contient une partie des données dont vous aurez besoin. Vous pouvez compléter ça avec de l'INSEE et des données sur la démographie des médecins.*\n",
    "\n",
    "On utilisera les fichiers suivants:\n",
    "* Dépassements d'honoraires (Open DAMIR : base complète sur les dépenses d'assurance maladie inter régimes, 581Mo zippé) : https://www.data.gouv.fr/s/resources/cnamts/P201412.csv.gz\n",
    "* Nombre de médecins par spécialité et par département: https://github.com/SGMAP-AGD/DAMIR/blob/master/fichiers_supplementaires/rpps/rpps_tab3.csv\n",
    "* Densité de population protégée par classe d'âge et par département: https://github.com/SGMAP-AGD/DAMIR/tree/master/fichiers_supplementaires/population%20prot%C3%A9g%C3%A9e\n",
    "\n",
    "On pourra aussi utiliser, pour plus de granularité:\n",
    "* Accessibilité potentielle localisée (qui est un indicateur de l'inverse de la densité de médecins, fourni à l'échelle de la commune/canton et non plus du département): https://github.com/SGMAP-AGD/DAMIR/blob/master/fichiers_supplementaires/APL/APL.csv\n",
    "\n",
    "\n",
    "### Peut-on établir un lien entre la densité de médecins par spécialité  et par territoire et la pratique du dépassement d'honoraires ?\n",
    "### Est-ce  dans les territoires où la densité est la plus forte que les médecins  pratiquent le moins les dépassement d'honoraires ?\n",
    "### Est ce que la densité de certains médecins / praticiens est corrélé à la densité de population pour certaines classes d'ages (bebe/pediatre, personnes agées / infirmiers etc...) ?"
   ]
  },
  {
   "cell_type": "markdown",
   "metadata": {},
   "source": []
  },
  {
   "cell_type": "code",
   "execution_count": 5,
   "metadata": {
    "collapsed": false
   },
   "outputs": [
    {
     "name": "stdout",
     "output_type": "stream",
     "text": [
      "Index([u'mode_exercice', u'zone_inscription', u'annee', u'specialite',\n",
      "       u'effectifs'],\n",
      "      dtype='object')\n"
     ]
    }
   ],
   "source": [
    "import pandas as pd\n",
    "\n",
    "effectifs = pd.read_csv('damir/fichiers_supplementaires/rpps/rpps_tab3.csv')\n",
    "\n",
    "print effectifs.columns"
   ]
  },
  {
   "cell_type": "code",
   "execution_count": null,
   "metadata": {
    "collapsed": true
   },
   "outputs": [],
   "source": []
  },
  {
   "cell_type": "code",
   "execution_count": null,
   "metadata": {
    "collapsed": true
   },
   "outputs": [],
   "source": []
  }
 ],
 "metadata": {
  "kernelspec": {
   "display_name": "Python 2",
   "language": "python",
   "name": "python2"
  },
  "language_info": {
   "codemirror_mode": {
    "name": "ipython",
    "version": 2
   },
   "file_extension": ".py",
   "mimetype": "text/x-python",
   "name": "python",
   "nbconvert_exporter": "python",
   "pygments_lexer": "ipython2",
   "version": "2.7.10"
  }
 },
 "nbformat": 4,
 "nbformat_minor": 0
}
