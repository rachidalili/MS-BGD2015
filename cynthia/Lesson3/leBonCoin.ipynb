{
 "cells": [
  {
   "cell_type": "code",
   "execution_count": 7,
   "metadata": {
    "collapsed": true
   },
   "outputs": [],
   "source": [
    "import requests\n",
    "from bs4 import BeautifulSoup\n",
    "import pandas as pd\n",
    "import re"
   ]
  },
  {
   "cell_type": "code",
   "execution_count": 8,
   "metadata": {
    "collapsed": true
   },
   "outputs": [],
   "source": [
    "versions = ['intens', 'zen', 'life']\n",
    "annees = [2012, 2013, 2014]"
   ]
  },
  {
   "cell_type": "code",
   "execution_count": 9,
   "metadata": {
    "collapsed": true
   },
   "outputs": [],
   "source": [
    "data_lbc = pd.DataFrame(columns=['Version', 'Année', 'Kilométrage', 'Prix', 'Téléphone', 'Pro'])\n",
    "data_argus = pd.DataFrame(columns=['Année', 'Version', 'Cote'])"
   ]
  },
  {
   "cell_type": "code",
   "execution_count": 10,
   "metadata": {
    "collapsed": false
   },
   "outputs": [],
   "source": [
    "def retrieve_phone_number_desc(soup):\n",
    "    desc = soup.find('div', {'itemprop': 'description'})\n",
    "    phone_numbers = re.findall(r'((?:\\d[\\s\\.-]?){10})', desc.get_text())\n",
    "    if len(phone_numbers) > 0:\n",
    "        return re.sub(r'\\D', '', phone_numbers[0])\n",
    "    else:\n",
    "        return None\n",
    "    \n",
    "    \n",
    "def retrieve_version(soup):\n",
    "    titre = soup.find('h1', {'itemprop': 'name'}).get_text().lower()\n",
    "    version = None\n",
    "    for v in versions:\n",
    "        if v in titre:\n",
    "            version = v\n",
    "            break\n",
    "    return version\n",
    "\n",
    "\n",
    "def retrieve_year(soup):\n",
    "    annee = soup.find('td', {'itemprop': 'releaseDate'})\n",
    "    if annee is not None:\n",
    "        return int(re.sub(r'\\D', '', annee.get_text()))\n",
    "    else:\n",
    "        return None\n",
    "\n",
    "\n",
    "def retrieve_kilometers(soup):\n",
    "    kilometrage = None\n",
    "    for c in soup.find('div', {'class': 'lbcParams criterias'}).findAll('tr'):\n",
    "        if u'Kilométrage' in c.find('th').get_text():\n",
    "            kilometrage = int(re.sub(r'\\D', '', c.find('td').get_text()))\n",
    "            break\n",
    "    return kilometrage\n",
    "    \n",
    "def retrieve_price(soup):\n",
    "    prix = soup.find('span', {'class': 'price'})\n",
    "    if prix is not None:\n",
    "        return float(re.sub(r'\\D', '', prix.get_text()))\n",
    "    else:\n",
    "        return None\n",
    "\n",
    "def retrieve_pro(soup):\n",
    "    pro = soup.find('span', {'class': 'ad_pro'})\n",
    "    return pro is not None"
   ]
  },
  {
   "cell_type": "code",
   "execution_count": 11,
   "metadata": {
    "collapsed": false
   },
   "outputs": [
    {
     "name": "stdout",
     "output_type": "stream",
     "text": [
      "Annonce: http://www.leboncoin.fr/voitures/827471549.htm?ca=12_s\n",
      "Annonce: http://www.leboncoin.fr/voitures/890724432.htm?ca=12_s\n",
      "Annonce: http://www.leboncoin.fr/voitures/809213291.htm?ca=12_s\n",
      "Annonce: http://www.leboncoin.fr/voitures/889029891.htm?ca=12_s\n",
      "Annonce: http://www.leboncoin.fr/voitures/856067960.htm?ca=12_s\n",
      "Annonce: http://www.leboncoin.fr/voitures/798949165.htm?ca=12_s\n",
      "Annonce: http://www.leboncoin.fr/voitures/814195720.htm?ca=12_s\n",
      "Annonce: http://www.leboncoin.fr/voitures/878940912.htm?ca=12_s\n",
      "Annonce: http://www.leboncoin.fr/voitures/878941074.htm?ca=12_s\n",
      "Annonce: http://www.leboncoin.fr/voitures/835269788.htm?ca=12_s\n",
      "Annonce: http://www.leboncoin.fr/voitures/815020992.htm?ca=12_s\n",
      "Annonce: http://www.leboncoin.fr/voitures/715971245.htm?ca=12_s\n",
      "Annonce: http://www.leboncoin.fr/voitures/848861858.htm?ca=12_s\n",
      "Annonce: http://www.leboncoin.fr/voitures/871384960.htm?ca=12_s\n",
      "Annonce: http://www.leboncoin.fr/voitures/892587949.htm?ca=21_s\n",
      "Annonce: http://www.leboncoin.fr/voitures/868143423.htm?ca=21_s\n",
      "Annonce: http://www.leboncoin.fr/voitures/891461004.htm?ca=21_s\n",
      "Annonce: http://www.leboncoin.fr/voitures/888922149.htm?ca=21_s\n",
      "Annonce: http://www.leboncoin.fr/voitures/887455084.htm?ca=21_s\n",
      "Annonce: http://www.leboncoin.fr/voitures/882581531.htm?ca=21_s\n",
      "Annonce: http://www.leboncoin.fr/voitures/884068121.htm?ca=21_s\n",
      "Annonce: http://www.leboncoin.fr/voitures/883900949.htm?ca=21_s\n",
      "Annonce: http://www.leboncoin.fr/voitures/882691797.htm?ca=21_s\n",
      "Annonce: http://www.leboncoin.fr/voitures/846972322.htm?ca=21_s\n",
      "Annonce: http://www.leboncoin.fr/voitures/877245074.htm?ca=21_s\n",
      "Annonce: http://www.leboncoin.fr/voitures/881594030.htm?ca=2_s\n",
      "Annonce: http://www.leboncoin.fr/voitures/891955883.htm?ca=2_s\n",
      "Annonce: http://www.leboncoin.fr/voitures/890582700.htm?ca=2_s\n",
      "Annonce: http://www.leboncoin.fr/voitures/887964247.htm?ca=2_s\n",
      "Annonce: http://www.leboncoin.fr/voitures/887600765.htm?ca=2_s\n",
      "Annonce: http://www.leboncoin.fr/voitures/877853097.htm?ca=2_s\n"
     ]
    }
   ],
   "source": [
    "urls_lbc = [\n",
    "    \"http://www.leboncoin.fr/voitures/offres/ile_de_france/?f=a&th=1&fu=4&q=zoe&it=1\",\n",
    "    \"http://www.leboncoin.fr/voitures/offres/provence_alpes_cote_d_azur/?f=a&th=1&fu=4&q=zoe&it=1\",\n",
    "    \"http://www.leboncoin.fr/voitures/offres/aquitaine/?f=a&th=1&fu=4&q=zoe&it=1\"\n",
    "]\n",
    "\n",
    "for url in urls_lbc:\n",
    "    r = requests.get(url)\n",
    "    soup = BeautifulSoup(r.text, 'html.parser')\n",
    "    ads = soup.findAll('div', {'class': 'lbc'})\n",
    "    for ad in ads:\n",
    "        ad_url = ad.parent['href']\n",
    "        print 'Annonce: ' + ad_url\n",
    "        r = requests.get(ad_url)\n",
    "        soup = BeautifulSoup(r.text, 'html.parser')\n",
    "        data_lbc = data_lbc.append({\n",
    "            'Version': retrieve_version(soup),\n",
    "            'Année': retrieve_year(soup),\n",
    "            'Kilométrage': retrieve_kilometers(soup),\n",
    "            'Prix': retrieve_price(soup),\n",
    "            'Téléphone': retrieve_phone_number_desc(soup),\n",
    "            'Pro': retrieve_pro(soup)\n",
    "        }, ignore_index=True)"
   ]
  }
 ],
 "metadata": {
  "kernelspec": {
   "display_name": "Python 2",
   "language": "python",
   "name": "python2"
  },
  "language_info": {
   "codemirror_mode": {
    "name": "ipython",
    "version": 2
   },
   "file_extension": ".py",
   "mimetype": "text/x-python",
   "name": "python",
   "nbconvert_exporter": "python",
   "pygments_lexer": "ipython2",
   "version": "2.7.10"
  }
 },
 "nbformat": 4,
 "nbformat_minor": 0
}
