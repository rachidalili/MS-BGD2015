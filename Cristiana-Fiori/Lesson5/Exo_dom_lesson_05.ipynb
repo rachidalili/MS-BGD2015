{
 "cells": [
  {
   "cell_type": "code",
   "execution_count": null,
   "metadata": {
    "collapsed": true
   },
   "outputs": [],
   "source": [
    "import pandas as pd\n",
    "import json\n",
    "import re\n",
    "import requests\n",
    "from bs4 import BeautifulSoup\n",
    "\n",
    "def getSoupOfDrugRequest(drug, page):\n",
    "    #headers = {'content-type': 'text/html'}\n",
    "    url = 'http://base-donnees-publique.medicaments.gouv.fr/index.php'\n",
    "    data = {\n",
    "    'choixRecherche':\"medicament\",\n",
    "    'page':int(page),\n",
    "    'affliste':1, \n",
    "    'affNumero':0,\n",
    "    'isAlphabet':0,\n",
    "    'inClauseSubst':0,\n",
    "    'nomSubstances':\"\",\n",
    "    'btnMedic.x': '12',\n",
    "    'btnMedic.y': '5',\n",
    "    'btnMedic': 'Rechercher',\n",
    "    'typeRecherche':0,\n",
    "    'txtCaracteres':drug,\n",
    "    'radLibelle':2,\n",
    "    'txtCaracteresSub':\"\",\n",
    "    'radLibelleSub':4\n",
    "    }\n",
    "    response = requests.post(url, data) # les headers fonctionnent\n",
    "    return BeautifulSoup(response.text,'html.parser')"
   ]
  },
  {
   "cell_type": "code",
   "execution_count": null,
   "metadata": {
    "collapsed": true
   },
   "outputs": [],
   "source": [
    "def getLiensFromSoup(soup):\n",
    "    return soup.findAll(attrs={'class':'standart'})\n",
    "\n",
    "# requete doliprane\n",
    "soup = getSoupOfDrugRequest(\"doliprane\", 1)\n",
    "\n",
    "# nb pages\n",
    "pageCountRaw = soup.findAll('div',{'class':'navBarGauche'})[0].text\n",
    "pageCount    = re.compile(r'(\\d+)$').search(pageCountRaw).group()\n",
    "\n",
    "# recuperation liens medocs\n",
    "links = list()\n",
    "[links.extend(getLiensFromSoup(soup)) for soup in [getSoupOfDrugRequest(\"doliprane\", page) for page in xrange(1,int(pageCount)+1)]]\n",
    "\n",
    "# uniquement liens correspondant aux medocs, le tout dans un dataframe\n",
    "drugsRawData =  pd.DataFrame([link.text for link in links if link['href'].startswith('extrait.php?specid')], columns=[u\"rawData\"])\n",
    "\n",
    "# 3 cols de data (Médicament/Poids/Forme Galenique)\n",
    "drugsDataInTreatement = pd.DataFrame(drugsRawData[\"rawData\"].str.findall(r\"^([A-Z\\s]+)(.*),(.+)[\\t+]$\").tolist())\n",
    "drugsData = pd.DataFrame(drugsDataInTreatement[0].tolist(), \n",
    "                         columns=[u'Drug name',u'Weight',u'Dosage form'])"
   ]
  },
  {
   "cell_type": "code",
   "execution_count": null,
   "metadata": {
    "collapsed": true
   },
   "outputs": [],
   "source": []
  }
 ],
 "metadata": {
  "kernelspec": {
   "display_name": "Python 2",
   "language": "python",
   "name": "python2"
  },
  "language_info": {
   "codemirror_mode": {
    "name": "ipython",
    "version": 2
   },
   "file_extension": ".py",
   "mimetype": "text/x-python",
   "name": "python",
   "nbconvert_exporter": "python",
   "pygments_lexer": "ipython2",
   "version": "2.7.10"
  }
 },
 "nbformat": 4,
 "nbformat_minor": 0
}
