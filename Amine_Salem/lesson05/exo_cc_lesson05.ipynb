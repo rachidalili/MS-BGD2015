{
 "metadata": {
  "name": "",
  "signature": "sha256:68f8c640c438550c468fc13258a666ce2da525baa19eefc35e8e0cc9ff2c3e1f"
 },
 "nbformat": 3,
 "nbformat_minor": 0,
 "worksheets": [
  {
   "cells": [
    {
     "cell_type": "code",
     "collapsed": false,
     "input": [
      "from bs4 import BeautifulSoup\n",
      "import requests\n",
      "import re\n",
      "import json\n",
      "import pandas as pd"
     ],
     "language": "python",
     "metadata": {},
     "outputs": [],
     "prompt_number": 88
    },
    {
     "cell_type": "code",
     "collapsed": false,
     "input": [
      "payload = {\n",
      "'page':'1',\n",
      "'affliste':'0',\n",
      "'affNumero':'0',\n",
      "'isAlphabet':'0',\n",
      "'inClauseSubst':'0',\n",
      "'nomSubstances':'',\n",
      "'typeRecherche':'0',\n",
      "'choixRecherche':'medicament',\n",
      "'txtCaracteres':'doliprane',\n",
      "'btnMedic.x':'0',\n",
      "'btnMedic.y':'0',\n",
      "'btnMedic':'Rechercher',\n",
      "'radLibelle':'2',\n",
      "'txtCaracteresSub':'',\n",
      "'radLibelleSub':'4'\n",
      "}\n",
      "r = requests.post(\"http://base-donnees-publique.medicaments.gouv.fr/index.php\", data=payload)\n",
      "\n",
      "#print r.text\n",
      "MySoup = BeautifulSoup(r.text)"
     ],
     "language": "python",
     "metadata": {},
     "outputs": [],
     "prompt_number": 89
    },
    {
     "cell_type": "code",
     "collapsed": false,
     "input": [
      "medocs = MySoup.find_all(class_=\"standart\")\n",
      "print medocs[0].text\n",
      "for desc in medocs:\n",
      "    #print desc.text\n",
      "    m = re.search(r\".*?(\\d+) (.*?), (\\w+).*\", desc.text)\n",
      "    if m:\n",
      "        print m.groups()"
     ],
     "language": "python",
     "metadata": {},
     "outputs": [
      {
       "output_type": "stream",
       "stream": "stdout",
       "text": [
        "DOLIPRANE 100 mg, poudre pour solution buvable en sachet-dose\t\t\t\t\n",
        "(u'100', u'mg', u'poudre')\n",
        "(u'100', u'mg', u'suppositoire')\n",
        "(u'1000', u'mg', u'comprim')\n",
        "(u'1000', u'mg', u'comprim')\n",
        "(u'1000', u'mg', u'g')\n",
        "(u'1000', u'mg', u'poudre')\n",
        "(u'150', u'mg', u'poudre')\n",
        "(u'150', u'mg', u'suppositoire')\n",
        "(u'4', u'POUR CENT SANS SUCRE', u'suspension')\n",
        "(u'200', u'mg', u'poudre')\n",
        "(u'200', u'mg', u'suppositoire')\n",
        "(u'300', u'mg', u'poudre')\n",
        "(u'300', u'mg', u'suppositoire')\n",
        "(u'500', u'mg', u'comprim')\n",
        "(u'500', u'mg', u'comprim')\n",
        "(u'500', u'mg', u'g')\n",
        "(u'500', u'mg', u'poudre')\n",
        "(u'1000', u'mg', u'suppositoire')\n",
        "(u'400', u'mg/20 mg', u'comprim')\n",
        "(u'1000', u'mg', u'g')\n"
       ]
      }
     ],
     "prompt_number": 90
    },
    {
     "cell_type": "code",
     "collapsed": false,
     "input": [],
     "language": "python",
     "metadata": {},
     "outputs": []
    }
   ],
   "metadata": {}
  }
 ]
}