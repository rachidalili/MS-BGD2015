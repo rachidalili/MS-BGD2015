{
 "cells": [
  {
   "cell_type": "markdown",
   "metadata": {},
   "source": [
    "# Devoir maison n°5 : lien entre la densité de médecins par spécialité  et par territoire et la pratique du dépassement d'honoraires"
   ]
  },
  {
   "cell_type": "markdown",
   "metadata": {},
   "source": [
    "Guillaume MOHR"
   ]
  },
  {
   "cell_type": "markdown",
   "metadata": {},
   "source": [
    "## Préliminaires"
   ]
  },
  {
   "cell_type": "code",
   "execution_count": 337,
   "metadata": {
    "collapsed": false
   },
   "outputs": [],
   "source": [
    "import pandas as pd\n",
    "import numpy as np\n",
    "import seaborn as sns\n",
    "from difflib import SequenceMatcher as SM\n",
    "import matplotlib.pyplot as plt"
   ]
  },
  {
   "cell_type": "code",
   "execution_count": 2,
   "metadata": {
    "collapsed": false
   },
   "outputs": [],
   "source": [
    "%matplotlib inline"
   ]
  },
  {
   "cell_type": "markdown",
   "metadata": {},
   "source": [
    "## Chargement des données"
   ]
  },
  {
   "cell_type": "markdown",
   "metadata": {},
   "source": [
    "Nous nous concentrerons sur deux jeux de données publics qui nous semblent pertinents afin d'aborder la problématique :\n",
    "1. les dépenses d'assurance maladie hors prestations hospitalières par caisse primair / département\n",
    "2. la densité de médecins par spécialité par département"
   ]
  },
  {
   "cell_type": "markdown",
   "metadata": {},
   "source": [
    "#### Chargement du fichier des dépenses d' assurance maladie hors prestations hospitalières par caisse primaire/département (2014)\n",
    "Source: https://www.data.gouv.fr/fr/datasets/depenses-d-assurance-maladie-hors-prestations-hospitalieres-par-caisse-primaire-departement/.\n",
    "\n",
    "Les données étant très larges, on télécharge uniquement les données *sans libellés*, ce qui nous obligera en revanche à rechercher la signification des codes dans des tables à part. Afin de ne pas générer de problèmes de lag lors des tests de ce notebook, nous nous limiterons au moins de 01/2014 (le faire pour l'année entière demanderait juste plus de temps de calcul et une simple concaténation des fichiers)."
   ]
  },
  {
   "cell_type": "markdown",
   "metadata": {},
   "source": [
    "Les données représentent néanmoins environ **250 Mo par mois de l'année**. Il nous est donc nécessaire de faire le tri afin de n'extraire que ce qui nous intéresse potentiellement. Nous nous aidons pour cela du fichier descriptif des colonnes."
   ]
  },
  {
   "cell_type": "code",
   "execution_count": 3,
   "metadata": {
    "collapsed": false
   },
   "outputs": [],
   "source": [
    "desc = pd.read_excel('data/descriptif_table_R.xls', sheetname='variables ')"
   ]
  },
  {
   "cell_type": "code",
   "execution_count": 4,
   "metadata": {
    "collapsed": false
   },
   "outputs": [
    {
     "data": {
      "text/html": [
       "<div>\n",
       "<table border=\"1\" class=\"dataframe\">\n",
       "  <thead>\n",
       "    <tr style=\"text-align: right;\">\n",
       "      <th></th>\n",
       "      <th>variable</th>\n",
       "      <th>libellé</th>\n",
       "      <th>description</th>\n",
       "    </tr>\n",
       "  </thead>\n",
       "  <tbody>\n",
       "    <tr>\n",
       "      <th>0</th>\n",
       "      <td>act_coe</td>\n",
       "      <td>coefficient global</td>\n",
       "      <td>Une partie des actes de soins est décrite par\\...</td>\n",
       "    </tr>\n",
       "    <tr>\n",
       "      <th>1</th>\n",
       "      <td>act_dnb</td>\n",
       "      <td>dénombrement</td>\n",
       "      <td>Une partie des actes peut être dénombrée car c...</td>\n",
       "    </tr>\n",
       "    <tr>\n",
       "      <th>2</th>\n",
       "      <td>asu_nat</td>\n",
       "      <td>nature d'assurance</td>\n",
       "      <td>Risque au titre duquel est prise en charge la ...</td>\n",
       "    </tr>\n",
       "    <tr>\n",
       "      <th>3</th>\n",
       "      <td>ben_qlt</td>\n",
       "      <td>qualité du bénéficiaire</td>\n",
       "      <td>Cette variable distingue les bénéficaires assu...</td>\n",
       "    </tr>\n",
       "    <tr>\n",
       "      <th>4</th>\n",
       "      <td>cpam</td>\n",
       "      <td>cpam d'affiliation du bénéficiaire</td>\n",
       "      <td>Numéro de la Caisse Primaire d'Assurance Malad...</td>\n",
       "    </tr>\n",
       "    <tr>\n",
       "      <th>5</th>\n",
       "      <td>cpl_cod</td>\n",
       "      <td>complement d'acte</td>\n",
       "      <td>Cette variable permet de toper les suppléments...</td>\n",
       "    </tr>\n",
       "    <tr>\n",
       "      <th>6</th>\n",
       "      <td>dep_mon</td>\n",
       "      <td>dépassement d'honoraires</td>\n",
       "      <td>On parle de montant de dépassement lorsque les...</td>\n",
       "    </tr>\n",
       "    <tr>\n",
       "      <th>7</th>\n",
       "      <td>dpt</td>\n",
       "      <td>département d'affiliation du bénéficiaire</td>\n",
       "      <td>NaN</td>\n",
       "    </tr>\n",
       "    <tr>\n",
       "      <th>8</th>\n",
       "      <td>exe_spe</td>\n",
       "      <td>spécialité exécutant</td>\n",
       "      <td>Spécialité exercée par le médecin (généraliste...</td>\n",
       "    </tr>\n",
       "    <tr>\n",
       "      <th>9</th>\n",
       "      <td>exe_spe1</td>\n",
       "      <td>regroupement spécialité exécutant</td>\n",
       "      <td>Spécialité regroupée par grande catégorie d'ex...</td>\n",
       "    </tr>\n",
       "    <tr>\n",
       "      <th>10</th>\n",
       "      <td>exe_stj1</td>\n",
       "      <td>mode d'exercice exécutant</td>\n",
       "      <td>Statut du professionnel de santé sur sa manièr...</td>\n",
       "    </tr>\n",
       "    <tr>\n",
       "      <th>11</th>\n",
       "      <td>l_asu_nat</td>\n",
       "      <td>libellé assurance</td>\n",
       "      <td>NaN</td>\n",
       "    </tr>\n",
       "    <tr>\n",
       "      <th>12</th>\n",
       "      <td>l_ben_qlt</td>\n",
       "      <td>libellé qualité du bénéficiaire</td>\n",
       "      <td>NaN</td>\n",
       "    </tr>\n",
       "    <tr>\n",
       "      <th>13</th>\n",
       "      <td>l_cpam</td>\n",
       "      <td>libellé cpam d'affiliation du bénéficiaire</td>\n",
       "      <td>NaN</td>\n",
       "    </tr>\n",
       "    <tr>\n",
       "      <th>14</th>\n",
       "      <td>l_cpl_cod</td>\n",
       "      <td>libellé du complément d'acte</td>\n",
       "      <td>NaN</td>\n",
       "    </tr>\n",
       "    <tr>\n",
       "      <th>15</th>\n",
       "      <td>l_dpt</td>\n",
       "      <td>libellé du département d'affiliation du bénéfi...</td>\n",
       "      <td>NaN</td>\n",
       "    </tr>\n",
       "    <tr>\n",
       "      <th>16</th>\n",
       "      <td>l_exe_spe</td>\n",
       "      <td>libellé spécialité exécutant</td>\n",
       "      <td>NaN</td>\n",
       "    </tr>\n",
       "    <tr>\n",
       "      <th>17</th>\n",
       "      <td>l_exe_spe1</td>\n",
       "      <td>libellé regroupement spécialité exécutant</td>\n",
       "      <td>NaN</td>\n",
       "    </tr>\n",
       "    <tr>\n",
       "      <th>18</th>\n",
       "      <td>l_exe_stj1</td>\n",
       "      <td>libellé mode d'exercice exécutant</td>\n",
       "      <td>NaN</td>\n",
       "    </tr>\n",
       "    <tr>\n",
       "      <th>19</th>\n",
       "      <td>l_pre_spe</td>\n",
       "      <td>libellé spécialité prescripteur</td>\n",
       "      <td>NaN</td>\n",
       "    </tr>\n",
       "    <tr>\n",
       "      <th>20</th>\n",
       "      <td>l_pre_spe1</td>\n",
       "      <td>libelle regroupement spécialité prescripteur</td>\n",
       "      <td>NaN</td>\n",
       "    </tr>\n",
       "    <tr>\n",
       "      <th>21</th>\n",
       "      <td>l_pre_stj1</td>\n",
       "      <td>libellé mode d'exercice prescripteur</td>\n",
       "      <td>NaN</td>\n",
       "    </tr>\n",
       "    <tr>\n",
       "      <th>22</th>\n",
       "      <td>l_prs_nat</td>\n",
       "      <td>libellé prestation</td>\n",
       "      <td>NaN</td>\n",
       "    </tr>\n",
       "    <tr>\n",
       "      <th>23</th>\n",
       "      <td>l_region</td>\n",
       "      <td>libellé région d'affiliation du bénéficiaire</td>\n",
       "      <td>NaN</td>\n",
       "    </tr>\n",
       "    <tr>\n",
       "      <th>24</th>\n",
       "      <td>l_serie</td>\n",
       "      <td>libellé de la série Statistique Mensuelle</td>\n",
       "      <td>NaN</td>\n",
       "    </tr>\n",
       "    <tr>\n",
       "      <th>25</th>\n",
       "      <td>l_top_slm</td>\n",
       "      <td>libellé Top Sections Locales Mutualistes</td>\n",
       "      <td>NaN</td>\n",
       "    </tr>\n",
       "    <tr>\n",
       "      <th>26</th>\n",
       "      <td>pre_spe</td>\n",
       "      <td>spécialité prescripteur</td>\n",
       "      <td>Spécialité exercée par le médecin (généraliste...</td>\n",
       "    </tr>\n",
       "    <tr>\n",
       "      <th>27</th>\n",
       "      <td>pre_spe1</td>\n",
       "      <td>regroupement spécialité prescripteur</td>\n",
       "      <td>Spécialité regroupée par grande catégorie de p...</td>\n",
       "    </tr>\n",
       "    <tr>\n",
       "      <th>28</th>\n",
       "      <td>pre_stj1</td>\n",
       "      <td>mode d'exercice prescripteur</td>\n",
       "      <td>Statut du professionnel de santé sur sa manièr...</td>\n",
       "    </tr>\n",
       "    <tr>\n",
       "      <th>29</th>\n",
       "      <td>prs_nat</td>\n",
       "      <td>prestation</td>\n",
       "      <td>Chaque prestation est codifiée par un code à 4...</td>\n",
       "    </tr>\n",
       "    <tr>\n",
       "      <th>30</th>\n",
       "      <td>rec_mon</td>\n",
       "      <td>base de remboursement</td>\n",
       "      <td>La base de remboursement correspond au montan...</td>\n",
       "    </tr>\n",
       "    <tr>\n",
       "      <th>31</th>\n",
       "      <td>region</td>\n",
       "      <td>région d'affiliation du bénéficiaire</td>\n",
       "      <td>NaN</td>\n",
       "    </tr>\n",
       "    <tr>\n",
       "      <th>32</th>\n",
       "      <td>rem_mon</td>\n",
       "      <td>montant remboursé</td>\n",
       "      <td>Montant que l’Assurance Maladie rembourse à l’...</td>\n",
       "    </tr>\n",
       "    <tr>\n",
       "      <th>33</th>\n",
       "      <td>rem_tau</td>\n",
       "      <td>taux de remboursement</td>\n",
       "      <td>Le taux de remboursement de la sécurité social...</td>\n",
       "    </tr>\n",
       "    <tr>\n",
       "      <th>34</th>\n",
       "      <td>serie</td>\n",
       "      <td>série de la Statistique Mensuelle</td>\n",
       "      <td>Une série de la Statistique Mensuelle est un p...</td>\n",
       "    </tr>\n",
       "    <tr>\n",
       "      <th>35</th>\n",
       "      <td>sns_date</td>\n",
       "      <td>mois et année des soins</td>\n",
       "      <td>Mois et année  auxquels le prestataire de soin...</td>\n",
       "    </tr>\n",
       "    <tr>\n",
       "      <th>36</th>\n",
       "      <td>top_slm</td>\n",
       "      <td>Top Sections Locales Mutualistes</td>\n",
       "      <td>Permet de toper les remboursements relevant de...</td>\n",
       "    </tr>\n",
       "  </tbody>\n",
       "</table>\n",
       "</div>"
      ],
      "text/plain": [
       "       variable                                            libellé  \\\n",
       "0       act_coe                                 coefficient global   \n",
       "1       act_dnb                                       dénombrement   \n",
       "2       asu_nat                                 nature d'assurance   \n",
       "3       ben_qlt                            qualité du bénéficiaire   \n",
       "4          cpam                 cpam d'affiliation du bénéficiaire   \n",
       "5       cpl_cod                                  complement d'acte   \n",
       "6       dep_mon                           dépassement d'honoraires   \n",
       "7           dpt          département d'affiliation du bénéficiaire   \n",
       "8       exe_spe                               spécialité exécutant   \n",
       "9      exe_spe1                  regroupement spécialité exécutant   \n",
       "10     exe_stj1                          mode d'exercice exécutant   \n",
       "11    l_asu_nat                                  libellé assurance   \n",
       "12    l_ben_qlt                    libellé qualité du bénéficiaire   \n",
       "13       l_cpam         libellé cpam d'affiliation du bénéficiaire   \n",
       "14    l_cpl_cod                       libellé du complément d'acte   \n",
       "15        l_dpt  libellé du département d'affiliation du bénéfi...   \n",
       "16    l_exe_spe                       libellé spécialité exécutant   \n",
       "17  l_exe_spe1           libellé regroupement spécialité exécutant   \n",
       "18   l_exe_stj1                  libellé mode d'exercice exécutant   \n",
       "19    l_pre_spe                    libellé spécialité prescripteur   \n",
       "20   l_pre_spe1       libelle regroupement spécialité prescripteur   \n",
       "21   l_pre_stj1               libellé mode d'exercice prescripteur   \n",
       "22    l_prs_nat                                 libellé prestation   \n",
       "23     l_region       libellé région d'affiliation du bénéficiaire   \n",
       "24      l_serie          libellé de la série Statistique Mensuelle   \n",
       "25    l_top_slm           libellé Top Sections Locales Mutualistes   \n",
       "26      pre_spe                            spécialité prescripteur   \n",
       "27     pre_spe1               regroupement spécialité prescripteur   \n",
       "28     pre_stj1                       mode d'exercice prescripteur   \n",
       "29      prs_nat                                         prestation   \n",
       "30      rec_mon                              base de remboursement   \n",
       "31       region               région d'affiliation du bénéficiaire   \n",
       "32     rem_mon                                   montant remboursé   \n",
       "33      rem_tau                              taux de remboursement   \n",
       "34        serie                  série de la Statistique Mensuelle   \n",
       "35     sns_date                            mois et année des soins   \n",
       "36      top_slm                   Top Sections Locales Mutualistes   \n",
       "\n",
       "                                          description  \n",
       "0   Une partie des actes de soins est décrite par\\...  \n",
       "1   Une partie des actes peut être dénombrée car c...  \n",
       "2   Risque au titre duquel est prise en charge la ...  \n",
       "3   Cette variable distingue les bénéficaires assu...  \n",
       "4   Numéro de la Caisse Primaire d'Assurance Malad...  \n",
       "5   Cette variable permet de toper les suppléments...  \n",
       "6   On parle de montant de dépassement lorsque les...  \n",
       "7                                                 NaN  \n",
       "8   Spécialité exercée par le médecin (généraliste...  \n",
       "9   Spécialité regroupée par grande catégorie d'ex...  \n",
       "10  Statut du professionnel de santé sur sa manièr...  \n",
       "11                                                NaN  \n",
       "12                                                NaN  \n",
       "13                                                NaN  \n",
       "14                                                NaN  \n",
       "15                                                NaN  \n",
       "16                                                NaN  \n",
       "17                                                NaN  \n",
       "18                                                NaN  \n",
       "19                                                NaN  \n",
       "20                                                NaN  \n",
       "21                                                NaN  \n",
       "22                                                NaN  \n",
       "23                                                NaN  \n",
       "24                                                NaN  \n",
       "25                                                NaN  \n",
       "26  Spécialité exercée par le médecin (généraliste...  \n",
       "27  Spécialité regroupée par grande catégorie de p...  \n",
       "28  Statut du professionnel de santé sur sa manièr...  \n",
       "29  Chaque prestation est codifiée par un code à 4...  \n",
       "30   La base de remboursement correspond au montan...  \n",
       "31                                                NaN  \n",
       "32  Montant que l’Assurance Maladie rembourse à l’...  \n",
       "33  Le taux de remboursement de la sécurité social...  \n",
       "34  Une série de la Statistique Mensuelle est un p...  \n",
       "35  Mois et année  auxquels le prestataire de soin...  \n",
       "36  Permet de toper les remboursements relevant de...  "
      ]
     },
     "execution_count": 4,
     "metadata": {},
     "output_type": "execute_result"
    }
   ],
   "source": [
    "desc"
   ]
  },
  {
   "cell_type": "markdown",
   "metadata": {},
   "source": [
    "Dans la suite nous retiendrons les colonnes suivantes :\n",
    "- cpam : pour la localisation\n",
    "- dep_mon : afin d'identifier la présence de dépassement d'honoraire\n",
    "- exe_spe : la spécialité du médecin exécutant (on n'étudiera pas les médecins prescripteurs)\n",
    "- exe_spe1 : categorie plus globale, potentiellement utile\n",
    "- exe_stj1 : afin de savoir si l'exécutant est salarié ou libéral\n",
    "- prs_nat : la nature de la prestation\n",
    "- rec_mon : la base de remboursement\n",
    "- rem_tau : le taux de remboursement de l'assurance maladie"
   ]
  },
  {
   "cell_type": "code",
   "execution_count": 5,
   "metadata": {
    "collapsed": false
   },
   "outputs": [],
   "source": [
    "dep = pd.read_csv('data/R201401_sanslib.CSV', encoding='latin9', sep=';', thousands='.', decimal=',',\n",
    "                  usecols=['cpam', 'dep_mon', 'exe_spe', 'exe_spe1', 'exe_stj1', 'prs_nat',\n",
    "                           'rec_mon', 'REM_TAU'])"
   ]
  },
  {
   "cell_type": "markdown",
   "metadata": {},
   "source": [
    "Chargeons un dictionnaire de series de labels afin de pouvoir identifier les codes lorsque nécessaire."
   ]
  },
  {
   "cell_type": "code",
   "execution_count": 6,
   "metadata": {
    "collapsed": false
   },
   "outputs": [],
   "source": [
    "def get_labels(filename):\n",
    "    return pd.read_csv('data/Lexique_tables_R/'+filename, encoding='latin9', sep=';', index_col=0)\n",
    "\n",
    "#labels = {'prs_nat': pd.read_csv(('data/Lexique_tables_R/lib_r_exe_spe.csv', encoding='latin9', sep=';'))"
   ]
  },
  {
   "cell_type": "code",
   "execution_count": 157,
   "metadata": {
    "collapsed": true
   },
   "outputs": [],
   "source": [
    "labels = {'cpam': get_labels('cpam.csv'),\n",
    "          'prs_nat': get_labels('lib_prs_nat.csv'),\n",
    "          'exe_spe': get_labels('lib_r_exe_spe.csv'),\n",
    "          'exe_spe1': get_labels('lib_exe_spe1.csv'),\n",
    "          'exe_stj1': get_labels('lib_exe_stj1.csv')}"
   ]
  },
  {
   "cell_type": "markdown",
   "metadata": {},
   "source": [
    "Profitons-en pour créer une colonne **departement** (avec le numéro de département) à partir de la colonne **cpam**."
   ]
  },
  {
   "cell_type": "code",
   "execution_count": 30,
   "metadata": {
    "collapsed": false
   },
   "outputs": [],
   "source": [
    "dep['departement'] = labels['cpam'].ix[dep.cpam].dpt.values"
   ]
  },
  {
   "cell_type": "code",
   "execution_count": 32,
   "metadata": {
    "collapsed": false
   },
   "outputs": [],
   "source": [
    "dep.drop('cpam', axis=1, inplace=True)"
   ]
  },
  {
   "cell_type": "code",
   "execution_count": 33,
   "metadata": {
    "collapsed": false
   },
   "outputs": [
    {
     "data": {
      "text/html": [
       "<div>\n",
       "<table border=\"1\" class=\"dataframe\">\n",
       "  <thead>\n",
       "    <tr style=\"text-align: right;\">\n",
       "      <th></th>\n",
       "      <th>prs_nat</th>\n",
       "      <th>REM_TAU</th>\n",
       "      <th>exe_spe</th>\n",
       "      <th>exe_spe1</th>\n",
       "      <th>exe_stj1</th>\n",
       "      <th>rec_mon</th>\n",
       "      <th>dep_mon</th>\n",
       "      <th>departement</th>\n",
       "    </tr>\n",
       "  </thead>\n",
       "  <tbody>\n",
       "    <tr>\n",
       "      <th>0</th>\n",
       "      <td>1111</td>\n",
       "      <td>30</td>\n",
       "      <td>1</td>\n",
       "      <td>11</td>\n",
       "      <td>1</td>\n",
       "      <td>22.00</td>\n",
       "      <td>0.00</td>\n",
       "      <td>34</td>\n",
       "    </tr>\n",
       "    <tr>\n",
       "      <th>1</th>\n",
       "      <td>1111</td>\n",
       "      <td>30</td>\n",
       "      <td>1</td>\n",
       "      <td>11</td>\n",
       "      <td>1</td>\n",
       "      <td>-22.00</td>\n",
       "      <td>0.00</td>\n",
       "      <td>45</td>\n",
       "    </tr>\n",
       "    <tr>\n",
       "      <th>2</th>\n",
       "      <td>1111</td>\n",
       "      <td>30</td>\n",
       "      <td>1</td>\n",
       "      <td>11</td>\n",
       "      <td>1</td>\n",
       "      <td>-22.00</td>\n",
       "      <td>0.00</td>\n",
       "      <td>59</td>\n",
       "    </tr>\n",
       "    <tr>\n",
       "      <th>3</th>\n",
       "      <td>1111</td>\n",
       "      <td>30</td>\n",
       "      <td>1</td>\n",
       "      <td>11</td>\n",
       "      <td>1</td>\n",
       "      <td>-44.00</td>\n",
       "      <td>0.00</td>\n",
       "      <td>59</td>\n",
       "    </tr>\n",
       "    <tr>\n",
       "      <th>4</th>\n",
       "      <td>1111</td>\n",
       "      <td>30</td>\n",
       "      <td>1</td>\n",
       "      <td>11</td>\n",
       "      <td>1</td>\n",
       "      <td>0.43</td>\n",
       "      <td>84.57</td>\n",
       "      <td>61</td>\n",
       "    </tr>\n",
       "  </tbody>\n",
       "</table>\n",
       "</div>"
      ],
      "text/plain": [
       "   prs_nat  REM_TAU  exe_spe  exe_spe1  exe_stj1  rec_mon  dep_mon departement\n",
       "0     1111       30        1        11         1    22.00     0.00          34\n",
       "1     1111       30        1        11         1   -22.00     0.00          45\n",
       "2     1111       30        1        11         1   -22.00     0.00          59\n",
       "3     1111       30        1        11         1   -44.00     0.00          59\n",
       "4     1111       30        1        11         1     0.43    84.57          61"
      ]
     },
     "execution_count": 33,
     "metadata": {},
     "output_type": "execute_result"
    }
   ],
   "source": [
    "dep.head()"
   ]
  },
  {
   "cell_type": "markdown",
   "metadata": {},
   "source": [
    "Groupons par département, specialité (somme et moyennes)."
   ]
  },
  {
   "cell_type": "code",
   "execution_count": 415,
   "metadata": {
    "collapsed": false
   },
   "outputs": [],
   "source": [
    "average_dep_dpt = dep.groupby('departement')['dep_mon'].mean()\n",
    "average_dep_spe = dep.groupby('exe_spe')['dep_mon'].mean()\n",
    "#sum_dep = dep.groupby(['departement', 'exe_spe'])['dep_mon'].sum()"
   ]
  },
  {
   "cell_type": "markdown",
   "metadata": {},
   "source": [
    "#### Chargement du fichier de densité des médecins par spécialité, modes d'exercice regroupés et zone d'inscription :   http://www.data.drees.sante.gouv.fr/TableViewer/tableView.aspx?ReportId=1155"
   ]
  },
  {
   "cell_type": "code",
   "execution_count": 377,
   "metadata": {
    "collapsed": false
   },
   "outputs": [],
   "source": [
    "rpps = pd.read_csv('data/rpps-medecin-tab7-densite-2013-14-15-v1_26900592310704.csv', \n",
    "                   encoding='latin9', skiprows=[0, 1, 2, 3, 5])\n",
    "rpps.rename(columns={'SPECIALITE': 'ZoneInscription'}, inplace=True)"
   ]
  },
  {
   "cell_type": "code",
   "execution_count": 378,
   "metadata": {
    "collapsed": false
   },
   "outputs": [
    {
     "data": {
      "text/html": [
       "<div>\n",
       "<table border=\"1\" class=\"dataframe\">\n",
       "  <thead>\n",
       "    <tr style=\"text-align: right;\">\n",
       "      <th></th>\n",
       "      <th>ZoneInscription</th>\n",
       "      <th>Ensemble des spécialités d'exercice</th>\n",
       "      <th>Spécialistes</th>\n",
       "      <th>Anatomie et cytologie pathologiques</th>\n",
       "      <th>Anesthésie-réanimation</th>\n",
       "      <th>Biologie médicale</th>\n",
       "      <th>Cardiologie et maladies vasculaires</th>\n",
       "      <th>Chirurgie générale</th>\n",
       "      <th>Chirurgie maxillo-faciale et stomatologie</th>\n",
       "      <th>Chirurgie orthopédique et traumatologie</th>\n",
       "      <th>...</th>\n",
       "      <th>Pneumologie</th>\n",
       "      <th>Psychiatrie</th>\n",
       "      <th>Radio-diagnostic et imagerie médicale</th>\n",
       "      <th>Radio-thérapie</th>\n",
       "      <th>Réanimation médicale</th>\n",
       "      <th>Recherche médicale</th>\n",
       "      <th>Rhumatologie</th>\n",
       "      <th>Santé publique et médecine sociale</th>\n",
       "      <th>Généralistes</th>\n",
       "      <th>Médecine générale</th>\n",
       "    </tr>\n",
       "  </thead>\n",
       "  <tbody>\n",
       "    <tr>\n",
       "      <th>0</th>\n",
       "      <td>FRANCE ENTIERE</td>\n",
       "      <td>336.5</td>\n",
       "      <td>181.3</td>\n",
       "      <td>2.4</td>\n",
       "      <td>16.9</td>\n",
       "      <td>4.4</td>\n",
       "      <td>10.4</td>\n",
       "      <td>5.5</td>\n",
       "      <td>1.8</td>\n",
       "      <td>4.8</td>\n",
       "      <td>...</td>\n",
       "      <td>4.5</td>\n",
       "      <td>22.8</td>\n",
       "      <td>13.0</td>\n",
       "      <td>1.3</td>\n",
       "      <td>0.5</td>\n",
       "      <td>0.0</td>\n",
       "      <td>3.9</td>\n",
       "      <td>2.6</td>\n",
       "      <td>155.2</td>\n",
       "      <td>155.2</td>\n",
       "    </tr>\n",
       "    <tr>\n",
       "      <th>1</th>\n",
       "      <td>FRANCE Métropolitaine</td>\n",
       "      <td>339.1</td>\n",
       "      <td>183.2</td>\n",
       "      <td>2.4</td>\n",
       "      <td>17.0</td>\n",
       "      <td>4.5</td>\n",
       "      <td>10.6</td>\n",
       "      <td>5.5</td>\n",
       "      <td>1.8</td>\n",
       "      <td>4.8</td>\n",
       "      <td>...</td>\n",
       "      <td>4.5</td>\n",
       "      <td>23.1</td>\n",
       "      <td>13.1</td>\n",
       "      <td>1.3</td>\n",
       "      <td>0.5</td>\n",
       "      <td>0.0</td>\n",
       "      <td>4.0</td>\n",
       "      <td>2.6</td>\n",
       "      <td>155.9</td>\n",
       "      <td>155.9</td>\n",
       "    </tr>\n",
       "    <tr>\n",
       "      <th>2</th>\n",
       "      <td>Alsace</td>\n",
       "      <td>356.9</td>\n",
       "      <td>198.2</td>\n",
       "      <td>2.0</td>\n",
       "      <td>19.9</td>\n",
       "      <td>3.9</td>\n",
       "      <td>12.1</td>\n",
       "      <td>7.1</td>\n",
       "      <td>0.8</td>\n",
       "      <td>5.1</td>\n",
       "      <td>...</td>\n",
       "      <td>4.5</td>\n",
       "      <td>21.7</td>\n",
       "      <td>15.5</td>\n",
       "      <td>1.5</td>\n",
       "      <td>0.9</td>\n",
       "      <td>0.1</td>\n",
       "      <td>3.5</td>\n",
       "      <td>2.3</td>\n",
       "      <td>158.7</td>\n",
       "      <td>158.7</td>\n",
       "    </tr>\n",
       "    <tr>\n",
       "      <th>3</th>\n",
       "      <td>Aquitaine</td>\n",
       "      <td>354.3</td>\n",
       "      <td>184.2</td>\n",
       "      <td>2.8</td>\n",
       "      <td>17.9</td>\n",
       "      <td>4.9</td>\n",
       "      <td>11.8</td>\n",
       "      <td>5.2</td>\n",
       "      <td>1.6</td>\n",
       "      <td>5.3</td>\n",
       "      <td>...</td>\n",
       "      <td>3.5</td>\n",
       "      <td>25.5</td>\n",
       "      <td>14.5</td>\n",
       "      <td>1.3</td>\n",
       "      <td>0.2</td>\n",
       "      <td>0.0</td>\n",
       "      <td>3.0</td>\n",
       "      <td>2.5</td>\n",
       "      <td>170.1</td>\n",
       "      <td>170.1</td>\n",
       "    </tr>\n",
       "    <tr>\n",
       "      <th>4</th>\n",
       "      <td>Auvergne</td>\n",
       "      <td>308.4</td>\n",
       "      <td>155.5</td>\n",
       "      <td>2.3</td>\n",
       "      <td>16.0</td>\n",
       "      <td>3.6</td>\n",
       "      <td>8.8</td>\n",
       "      <td>5.4</td>\n",
       "      <td>0.7</td>\n",
       "      <td>4.3</td>\n",
       "      <td>...</td>\n",
       "      <td>3.3</td>\n",
       "      <td>18.5</td>\n",
       "      <td>11.0</td>\n",
       "      <td>1.7</td>\n",
       "      <td>0.7</td>\n",
       "      <td>0.0</td>\n",
       "      <td>4.0</td>\n",
       "      <td>2.5</td>\n",
       "      <td>152.9</td>\n",
       "      <td>152.9</td>\n",
       "    </tr>\n",
       "  </tbody>\n",
       "</table>\n",
       "<p>5 rows × 45 columns</p>\n",
       "</div>"
      ],
      "text/plain": [
       "         ZoneInscription  Ensemble des spécialités d'exercice  Spécialistes  \\\n",
       "0         FRANCE ENTIERE                                336.5         181.3   \n",
       "1  FRANCE Métropolitaine                                339.1         183.2   \n",
       "2                 Alsace                                356.9         198.2   \n",
       "3              Aquitaine                                354.3         184.2   \n",
       "4               Auvergne                                308.4         155.5   \n",
       "\n",
       "   Anatomie et cytologie pathologiques  Anesthésie-réanimation  \\\n",
       "0                                  2.4                    16.9   \n",
       "1                                  2.4                    17.0   \n",
       "2                                  2.0                    19.9   \n",
       "3                                  2.8                    17.9   \n",
       "4                                  2.3                    16.0   \n",
       "\n",
       "   Biologie médicale  Cardiologie et maladies vasculaires  Chirurgie générale  \\\n",
       "0                4.4                                 10.4                 5.5   \n",
       "1                4.5                                 10.6                 5.5   \n",
       "2                3.9                                 12.1                 7.1   \n",
       "3                4.9                                 11.8                 5.2   \n",
       "4                3.6                                  8.8                 5.4   \n",
       "\n",
       "   Chirurgie maxillo-faciale et stomatologie  \\\n",
       "0                                        1.8   \n",
       "1                                        1.8   \n",
       "2                                        0.8   \n",
       "3                                        1.6   \n",
       "4                                        0.7   \n",
       "\n",
       "   Chirurgie orthopédique et traumatologie        ...          Pneumologie  \\\n",
       "0                                      4.8        ...                  4.5   \n",
       "1                                      4.8        ...                  4.5   \n",
       "2                                      5.1        ...                  4.5   \n",
       "3                                      5.3        ...                  3.5   \n",
       "4                                      4.3        ...                  3.3   \n",
       "\n",
       "   Psychiatrie  Radio-diagnostic et imagerie médicale  Radio-thérapie  \\\n",
       "0         22.8                                   13.0             1.3   \n",
       "1         23.1                                   13.1             1.3   \n",
       "2         21.7                                   15.5             1.5   \n",
       "3         25.5                                   14.5             1.3   \n",
       "4         18.5                                   11.0             1.7   \n",
       "\n",
       "   Réanimation médicale  Recherche médicale  Rhumatologie  \\\n",
       "0                   0.5                 0.0           3.9   \n",
       "1                   0.5                 0.0           4.0   \n",
       "2                   0.9                 0.1           3.5   \n",
       "3                   0.2                 0.0           3.0   \n",
       "4                   0.7                 0.0           4.0   \n",
       "\n",
       "   Santé publique et médecine sociale  Généralistes  Médecine générale  \n",
       "0                                 2.6         155.2              155.2  \n",
       "1                                 2.6         155.9              155.9  \n",
       "2                                 2.3         158.7              158.7  \n",
       "3                                 2.5         170.1              170.1  \n",
       "4                                 2.5         152.9              152.9  \n",
       "\n",
       "[5 rows x 45 columns]"
      ]
     },
     "execution_count": 378,
     "metadata": {},
     "output_type": "execute_result"
    }
   ],
   "source": [
    "rpps.head()"
   ]
  },
  {
   "cell_type": "markdown",
   "metadata": {},
   "source": [
    "Cherchons à faire correspondre les noms des colomnes aux codes des spécialités du tableau précédent."
   ]
  },
  {
   "cell_type": "code",
   "execution_count": 379,
   "metadata": {
    "collapsed": false
   },
   "outputs": [],
   "source": [
    "code_spe = pd.DataFrame(rpps.columns[3:], columns=['label_rpps'])\n",
    "\n",
    "def best_match(name, limit=0.5):\n",
    "    scores = [SM(a=name, b=c).ratio() for c in labels['exe_spe']['l_exe_spe']]\n",
    "    imatch = np.argmax(scores)\n",
    "    return labels['exe_spe']['l_exe_spe'].iloc[imatch]\n",
    "\n",
    "code_spe['code_name'] = code_spe['label_rpps'].map(best_match)\n",
    "#labels['exe_spe']['l_exe_spe'].map(best_match)"
   ]
  },
  {
   "cell_type": "markdown",
   "metadata": {},
   "source": [
    "On observe que si certaines correspondances se font bien, ce n'est pas parfait. Nous complétons donc à la main. Les spécialités du premier tableau pour lesquelles aucune correspondance ne sera trouvée seront exclues de l'analyse (exemple : ambulancier, taxi)."
   ]
  },
  {
   "cell_type": "code",
   "execution_count": 380,
   "metadata": {
    "collapsed": false
   },
   "outputs": [],
   "source": [
    "code_spe.ix[2, 1] = '38-Médecin biologiste'\n",
    "code_spe.ix[4, 1] = '04-TOTAL Chirurgie'\n",
    "code_spe.ix[5, 1] = '19-TOTAL Chirurgie dentaire'\n",
    "code_spe.ix[6, 1] = '04-TOTAL Chirurgie'\n",
    "code_spe.ix[7, 1] = '04-TOTAL Chirurgie'\n",
    "code_spe.ix[8, 1] = '04-TOTAL Chirurgie'\n",
    "code_spe.ix[9, 1] = '04-TOTAL Chirurgie'\n",
    "code_spe.ix[10, 1] = '04-TOTAL Chirurgie'\n",
    "code_spe.ix[11, 1] = '04-TOTAL Chirurgie'\n",
    "code_spe.ix[12, 1] = '04-TOTAL Chirurgie'\n",
    "code_spe.ix[15, 1] = '00-Sans objet'\n",
    "code_spe.ix[19, 1] = '00-Sans objet'\n",
    "code_spe.ix[21, 1] = '01-TOTAL Omnipraticiens'\n",
    "code_spe.ix[23, 1] = '00-Sans objet'\n",
    "code_spe.ix[26, 1] = '04-TOTAL Chirurgie'\n",
    "code_spe.ix[28, 1] = '11-Oto-rhino laryngologie'\n",
    "code_spe.ix[29, 1] = '00-Sans objet'\n",
    "code_spe.ix[34, 1] = '06-TOTAL Radiologie'\n",
    "code_spe.ix[35, 1] = '00-Sans objet'\n",
    "code_spe.ix[37, 1] = '00-Sans objet'\n",
    "code_spe.ix[40, 1] = '01-TOTAL Omnipraticiens'\n",
    "code_spe.ix[41, 1] = '01-TOTAL Omnipraticiens'"
   ]
  },
  {
   "cell_type": "code",
   "execution_count": 381,
   "metadata": {
    "collapsed": false
   },
   "outputs": [],
   "source": [
    "a = labels['exe_spe']\n",
    "rev_codes = pd.DataFrame(data=a.index, index=a.l_exe_spe)"
   ]
  },
  {
   "cell_type": "code",
   "execution_count": 382,
   "metadata": {
    "collapsed": false
   },
   "outputs": [],
   "source": [
    "code_spe = code_spe.join(rev_codes, on='code_name')"
   ]
  },
  {
   "cell_type": "code",
   "execution_count": 383,
   "metadata": {
    "collapsed": false
   },
   "outputs": [
    {
     "data": {
      "text/html": [
       "<div>\n",
       "<table border=\"1\" class=\"dataframe\">\n",
       "  <thead>\n",
       "    <tr style=\"text-align: right;\">\n",
       "      <th></th>\n",
       "      <th>label_rpps</th>\n",
       "      <th>code_name</th>\n",
       "      <th>exe_spe</th>\n",
       "    </tr>\n",
       "  </thead>\n",
       "  <tbody>\n",
       "    <tr>\n",
       "      <th>0</th>\n",
       "      <td>Anatomie et cytologie pathologiques</td>\n",
       "      <td>37-Anatomie-cytologie-pathologique</td>\n",
       "      <td>37</td>\n",
       "    </tr>\n",
       "    <tr>\n",
       "      <th>1</th>\n",
       "      <td>Anesthésie-réanimation</td>\n",
       "      <td>02-total Anesthésiologie - Réanimation chirurg...</td>\n",
       "      <td>2</td>\n",
       "    </tr>\n",
       "    <tr>\n",
       "      <th>2</th>\n",
       "      <td>Biologie médicale</td>\n",
       "      <td>38-Médecin biologiste</td>\n",
       "      <td>38</td>\n",
       "    </tr>\n",
       "    <tr>\n",
       "      <th>3</th>\n",
       "      <td>Cardiologie et maladies vasculaires</td>\n",
       "      <td>03-Pathologie cardio-vasculaire</td>\n",
       "      <td>3</td>\n",
       "    </tr>\n",
       "    <tr>\n",
       "      <th>4</th>\n",
       "      <td>Chirurgie générale</td>\n",
       "      <td>04-TOTAL Chirurgie</td>\n",
       "      <td>4</td>\n",
       "    </tr>\n",
       "    <tr>\n",
       "      <th>5</th>\n",
       "      <td>Chirurgie maxillo-faciale et stomatologie</td>\n",
       "      <td>19-TOTAL Chirurgie dentaire</td>\n",
       "      <td>19</td>\n",
       "    </tr>\n",
       "    <tr>\n",
       "      <th>6</th>\n",
       "      <td>Chirurgie orthopédique et traumatologie</td>\n",
       "      <td>04-TOTAL Chirurgie</td>\n",
       "      <td>4</td>\n",
       "    </tr>\n",
       "    <tr>\n",
       "      <th>7</th>\n",
       "      <td>Chirurgie infantile</td>\n",
       "      <td>04-TOTAL Chirurgie</td>\n",
       "      <td>4</td>\n",
       "    </tr>\n",
       "    <tr>\n",
       "      <th>8</th>\n",
       "      <td>Chirurgie plastique reconstructrice et esthétique</td>\n",
       "      <td>04-TOTAL Chirurgie</td>\n",
       "      <td>4</td>\n",
       "    </tr>\n",
       "    <tr>\n",
       "      <th>9</th>\n",
       "      <td>Chirurgie thoracique et cardio-vasculaire</td>\n",
       "      <td>04-TOTAL Chirurgie</td>\n",
       "      <td>4</td>\n",
       "    </tr>\n",
       "    <tr>\n",
       "      <th>10</th>\n",
       "      <td>Chirurgie urologique</td>\n",
       "      <td>04-TOTAL Chirurgie</td>\n",
       "      <td>4</td>\n",
       "    </tr>\n",
       "    <tr>\n",
       "      <th>11</th>\n",
       "      <td>Chirurgie vasculaire</td>\n",
       "      <td>04-TOTAL Chirurgie</td>\n",
       "      <td>4</td>\n",
       "    </tr>\n",
       "    <tr>\n",
       "      <th>12</th>\n",
       "      <td>Chirurgie viscérale et digestive</td>\n",
       "      <td>04-TOTAL Chirurgie</td>\n",
       "      <td>4</td>\n",
       "    </tr>\n",
       "    <tr>\n",
       "      <th>13</th>\n",
       "      <td>Dermatologie et vénéréologie</td>\n",
       "      <td>05-Dermatologie et vénérologie</td>\n",
       "      <td>5</td>\n",
       "    </tr>\n",
       "    <tr>\n",
       "      <th>14</th>\n",
       "      <td>Endocrinologie et métabolisme</td>\n",
       "      <td>42-Endocrinologie</td>\n",
       "      <td>42</td>\n",
       "    </tr>\n",
       "    <tr>\n",
       "      <th>15</th>\n",
       "      <td>Génétique médicale</td>\n",
       "      <td>00-Sans objet</td>\n",
       "      <td>99</td>\n",
       "    </tr>\n",
       "    <tr>\n",
       "      <th>16</th>\n",
       "      <td>Gériatrie</td>\n",
       "      <td>34-Gériatrie</td>\n",
       "      <td>34</td>\n",
       "    </tr>\n",
       "    <tr>\n",
       "      <th>17</th>\n",
       "      <td>Gynécologie médicale</td>\n",
       "      <td>07-TOTAL Gynécologie</td>\n",
       "      <td>7</td>\n",
       "    </tr>\n",
       "    <tr>\n",
       "      <th>18</th>\n",
       "      <td>Gynécologie-obstétrique</td>\n",
       "      <td>07-TOTAL Gynécologie</td>\n",
       "      <td>7</td>\n",
       "    </tr>\n",
       "    <tr>\n",
       "      <th>19</th>\n",
       "      <td>Hématologie</td>\n",
       "      <td>00-Sans objet</td>\n",
       "      <td>99</td>\n",
       "    </tr>\n",
       "    <tr>\n",
       "      <th>20</th>\n",
       "      <td>Gastro-entérologie et hépatologie</td>\n",
       "      <td>08-Gastro-entérologie et hépatologie</td>\n",
       "      <td>8</td>\n",
       "    </tr>\n",
       "    <tr>\n",
       "      <th>21</th>\n",
       "      <td>Médecine du travail</td>\n",
       "      <td>01-TOTAL Omnipraticiens</td>\n",
       "      <td>1</td>\n",
       "    </tr>\n",
       "    <tr>\n",
       "      <th>22</th>\n",
       "      <td>Médecine interne</td>\n",
       "      <td>09-TOTAL Médecine interne</td>\n",
       "      <td>9</td>\n",
       "    </tr>\n",
       "    <tr>\n",
       "      <th>23</th>\n",
       "      <td>Médecine nucléaire</td>\n",
       "      <td>00-Sans objet</td>\n",
       "      <td>99</td>\n",
       "    </tr>\n",
       "    <tr>\n",
       "      <th>24</th>\n",
       "      <td>Médecine physique et réadaptation</td>\n",
       "      <td>31-Médecine physique et de réanimation</td>\n",
       "      <td>31</td>\n",
       "    </tr>\n",
       "    <tr>\n",
       "      <th>25</th>\n",
       "      <td>Néphrologie</td>\n",
       "      <td>35-Néphrologie</td>\n",
       "      <td>35</td>\n",
       "    </tr>\n",
       "    <tr>\n",
       "      <th>26</th>\n",
       "      <td>Neuro-chirurgie</td>\n",
       "      <td>04-TOTAL Chirurgie</td>\n",
       "      <td>4</td>\n",
       "    </tr>\n",
       "    <tr>\n",
       "      <th>27</th>\n",
       "      <td>Neurologie</td>\n",
       "      <td>32-Neurologie</td>\n",
       "      <td>32</td>\n",
       "    </tr>\n",
       "    <tr>\n",
       "      <th>28</th>\n",
       "      <td>O.R.L et chirurgie cervico faciale</td>\n",
       "      <td>11-Oto-rhino laryngologie</td>\n",
       "      <td>11</td>\n",
       "    </tr>\n",
       "    <tr>\n",
       "      <th>29</th>\n",
       "      <td>Oncologie option médicale</td>\n",
       "      <td>00-Sans objet</td>\n",
       "      <td>99</td>\n",
       "    </tr>\n",
       "    <tr>\n",
       "      <th>30</th>\n",
       "      <td>Ophtalmologie</td>\n",
       "      <td>15-Ophtalmologie</td>\n",
       "      <td>15</td>\n",
       "    </tr>\n",
       "    <tr>\n",
       "      <th>31</th>\n",
       "      <td>Pédiatrie</td>\n",
       "      <td>12-TOTAL Pédiatrie</td>\n",
       "      <td>12</td>\n",
       "    </tr>\n",
       "    <tr>\n",
       "      <th>32</th>\n",
       "      <td>Pneumologie</td>\n",
       "      <td>13-Pneumologie</td>\n",
       "      <td>13</td>\n",
       "    </tr>\n",
       "    <tr>\n",
       "      <th>33</th>\n",
       "      <td>Psychiatrie</td>\n",
       "      <td>17-TOTAL Psychiatrie</td>\n",
       "      <td>17</td>\n",
       "    </tr>\n",
       "    <tr>\n",
       "      <th>34</th>\n",
       "      <td>Radio-diagnostic et imagerie médicale</td>\n",
       "      <td>06-TOTAL Radiologie</td>\n",
       "      <td>6</td>\n",
       "    </tr>\n",
       "    <tr>\n",
       "      <th>35</th>\n",
       "      <td>Radio-thérapie</td>\n",
       "      <td>00-Sans objet</td>\n",
       "      <td>99</td>\n",
       "    </tr>\n",
       "    <tr>\n",
       "      <th>36</th>\n",
       "      <td>Réanimation médicale</td>\n",
       "      <td>02-total Anesthésiologie - Réanimation chirurg...</td>\n",
       "      <td>2</td>\n",
       "    </tr>\n",
       "    <tr>\n",
       "      <th>37</th>\n",
       "      <td>Recherche médicale</td>\n",
       "      <td>00-Sans objet</td>\n",
       "      <td>99</td>\n",
       "    </tr>\n",
       "    <tr>\n",
       "      <th>38</th>\n",
       "      <td>Rhumatologie</td>\n",
       "      <td>14-Rhumatologie</td>\n",
       "      <td>14</td>\n",
       "    </tr>\n",
       "    <tr>\n",
       "      <th>39</th>\n",
       "      <td>Santé publique et médecine sociale</td>\n",
       "      <td>80-Santé publique et Médecine Sociale</td>\n",
       "      <td>80</td>\n",
       "    </tr>\n",
       "    <tr>\n",
       "      <th>40</th>\n",
       "      <td>Généralistes</td>\n",
       "      <td>01-TOTAL Omnipraticiens</td>\n",
       "      <td>1</td>\n",
       "    </tr>\n",
       "    <tr>\n",
       "      <th>41</th>\n",
       "      <td>Médecine générale</td>\n",
       "      <td>01-TOTAL Omnipraticiens</td>\n",
       "      <td>1</td>\n",
       "    </tr>\n",
       "  </tbody>\n",
       "</table>\n",
       "</div>"
      ],
      "text/plain": [
       "                                           label_rpps  \\\n",
       "0                 Anatomie et cytologie pathologiques   \n",
       "1                              Anesthésie-réanimation   \n",
       "2                                   Biologie médicale   \n",
       "3                 Cardiologie et maladies vasculaires   \n",
       "4                                  Chirurgie générale   \n",
       "5           Chirurgie maxillo-faciale et stomatologie   \n",
       "6             Chirurgie orthopédique et traumatologie   \n",
       "7                                 Chirurgie infantile   \n",
       "8   Chirurgie plastique reconstructrice et esthétique   \n",
       "9           Chirurgie thoracique et cardio-vasculaire   \n",
       "10                               Chirurgie urologique   \n",
       "11                               Chirurgie vasculaire   \n",
       "12                   Chirurgie viscérale et digestive   \n",
       "13                       Dermatologie et vénéréologie   \n",
       "14                      Endocrinologie et métabolisme   \n",
       "15                                 Génétique médicale   \n",
       "16                                          Gériatrie   \n",
       "17                               Gynécologie médicale   \n",
       "18                            Gynécologie-obstétrique   \n",
       "19                                        Hématologie   \n",
       "20                  Gastro-entérologie et hépatologie   \n",
       "21                                Médecine du travail   \n",
       "22                                   Médecine interne   \n",
       "23                                 Médecine nucléaire   \n",
       "24                  Médecine physique et réadaptation   \n",
       "25                                        Néphrologie   \n",
       "26                                    Neuro-chirurgie   \n",
       "27                                         Neurologie   \n",
       "28                 O.R.L et chirurgie cervico faciale   \n",
       "29                          Oncologie option médicale   \n",
       "30                                      Ophtalmologie   \n",
       "31                                          Pédiatrie   \n",
       "32                                        Pneumologie   \n",
       "33                                        Psychiatrie   \n",
       "34              Radio-diagnostic et imagerie médicale   \n",
       "35                                     Radio-thérapie   \n",
       "36                               Réanimation médicale   \n",
       "37                                 Recherche médicale   \n",
       "38                                       Rhumatologie   \n",
       "39                 Santé publique et médecine sociale   \n",
       "40                                       Généralistes   \n",
       "41                                  Médecine générale   \n",
       "\n",
       "                                            code_name  exe_spe  \n",
       "0                  37-Anatomie-cytologie-pathologique       37  \n",
       "1   02-total Anesthésiologie - Réanimation chirurg...        2  \n",
       "2                               38-Médecin biologiste       38  \n",
       "3                     03-Pathologie cardio-vasculaire        3  \n",
       "4                                  04-TOTAL Chirurgie        4  \n",
       "5                         19-TOTAL Chirurgie dentaire       19  \n",
       "6                                  04-TOTAL Chirurgie        4  \n",
       "7                                  04-TOTAL Chirurgie        4  \n",
       "8                                  04-TOTAL Chirurgie        4  \n",
       "9                                  04-TOTAL Chirurgie        4  \n",
       "10                                 04-TOTAL Chirurgie        4  \n",
       "11                                 04-TOTAL Chirurgie        4  \n",
       "12                                 04-TOTAL Chirurgie        4  \n",
       "13                     05-Dermatologie et vénérologie        5  \n",
       "14                                  42-Endocrinologie       42  \n",
       "15                                      00-Sans objet       99  \n",
       "16                                       34-Gériatrie       34  \n",
       "17                               07-TOTAL Gynécologie        7  \n",
       "18                               07-TOTAL Gynécologie        7  \n",
       "19                                      00-Sans objet       99  \n",
       "20               08-Gastro-entérologie et hépatologie        8  \n",
       "21                            01-TOTAL Omnipraticiens        1  \n",
       "22                          09-TOTAL Médecine interne        9  \n",
       "23                                      00-Sans objet       99  \n",
       "24             31-Médecine physique et de réanimation       31  \n",
       "25                                     35-Néphrologie       35  \n",
       "26                                 04-TOTAL Chirurgie        4  \n",
       "27                                      32-Neurologie       32  \n",
       "28                          11-Oto-rhino laryngologie       11  \n",
       "29                                      00-Sans objet       99  \n",
       "30                                   15-Ophtalmologie       15  \n",
       "31                                 12-TOTAL Pédiatrie       12  \n",
       "32                                     13-Pneumologie       13  \n",
       "33                               17-TOTAL Psychiatrie       17  \n",
       "34                                06-TOTAL Radiologie        6  \n",
       "35                                      00-Sans objet       99  \n",
       "36  02-total Anesthésiologie - Réanimation chirurg...        2  \n",
       "37                                      00-Sans objet       99  \n",
       "38                                    14-Rhumatologie       14  \n",
       "39              80-Santé publique et Médecine Sociale       80  \n",
       "40                            01-TOTAL Omnipraticiens        1  \n",
       "41                            01-TOTAL Omnipraticiens        1  "
      ]
     },
     "execution_count": 383,
     "metadata": {},
     "output_type": "execute_result"
    }
   ],
   "source": [
    "code_spe"
   ]
  },
  {
   "cell_type": "code",
   "execution_count": 384,
   "metadata": {
    "collapsed": false
   },
   "outputs": [],
   "source": [
    "code_spe = code_spe.set_index('label_rpps')"
   ]
  },
  {
   "cell_type": "markdown",
   "metadata": {},
   "source": [
    "Supprimons donc de notre base de données les codes que nous n'avons pas pu affecter :"
   ]
  },
  {
   "cell_type": "code",
   "execution_count": 385,
   "metadata": {
    "collapsed": false
   },
   "outputs": [
    {
     "name": "stdout",
     "output_type": "stream",
     "text": [
      "{'29-Orthoptiste', '26-Masseur-kinésithérapeute', '65-Titre II, chapitre. 3 audioprothèses', '21-Sages-femmes', '27-Pédicure podologue', '18-TOTAL Stomatologie', '36-Chirurgie dentaire spécialistes', '63-Titre II, chapitre. I orthèses', '60-Titre I, titre II ch. 4, titre IV société', '30-TOTAL Laboratoire', '56-Taxi', '24-Infirmier', '28-Orthophoniste'}\n"
     ]
    }
   ],
   "source": [
    "a = set(code_spe.code_name.unique())\n",
    "b = set(labels['exe_spe'].ix[dep.exe_spe].l_exe_spe.unique())\n",
    "c = set.difference(b, a)\n",
    "print(c)"
   ]
  },
  {
   "cell_type": "markdown",
   "metadata": {},
   "source": [
    "Nous effectuons un *melt* sur la table et une jointure avec code_spe."
   ]
  },
  {
   "cell_type": "code",
   "execution_count": 386,
   "metadata": {
    "collapsed": false
   },
   "outputs": [],
   "source": [
    "rpps = pd.melt(rpps, id_vars='ZoneInscription', var_name='Specialite', value_name='Densite')"
   ]
  },
  {
   "cell_type": "code",
   "execution_count": 387,
   "metadata": {
    "collapsed": false
   },
   "outputs": [],
   "source": [
    "rpps = rpps.join(code_spe, on='Specialite').dropna()"
   ]
  },
  {
   "cell_type": "markdown",
   "metadata": {},
   "source": [
    "On extrait les lignes avec département, et on crée une colonne avec les numéros de départements."
   ]
  },
  {
   "cell_type": "code",
   "execution_count": 388,
   "metadata": {
    "collapsed": false
   },
   "outputs": [],
   "source": [
    "rpps_dep = rpps.sort_values(by='ZoneInscription').iloc[:4242,:].copy()"
   ]
  },
  {
   "cell_type": "code",
   "execution_count": 389,
   "metadata": {
    "collapsed": false
   },
   "outputs": [
    {
     "data": {
      "text/html": [
       "<div>\n",
       "<table border=\"1\" class=\"dataframe\">\n",
       "  <thead>\n",
       "    <tr style=\"text-align: right;\">\n",
       "      <th></th>\n",
       "      <th>ZoneInscription</th>\n",
       "      <th>Specialite</th>\n",
       "      <th>Densite</th>\n",
       "      <th>code_name</th>\n",
       "      <th>exe_spe</th>\n",
       "    </tr>\n",
       "  </thead>\n",
       "  <tbody>\n",
       "    <tr>\n",
       "      <th>2629</th>\n",
       "      <td>01 - Ain</td>\n",
       "      <td>Gynécologie-obstétrique</td>\n",
       "      <td>7.1</td>\n",
       "      <td>07-TOTAL Gynécologie</td>\n",
       "      <td>7</td>\n",
       "    </tr>\n",
       "    <tr>\n",
       "      <th>2759</th>\n",
       "      <td>01 - Ain</td>\n",
       "      <td>Hématologie</td>\n",
       "      <td>0.3</td>\n",
       "      <td>00-Sans objet</td>\n",
       "      <td>99</td>\n",
       "    </tr>\n",
       "    <tr>\n",
       "      <th>4969</th>\n",
       "      <td>01 - Ain</td>\n",
       "      <td>Réanimation médicale</td>\n",
       "      <td>0.2</td>\n",
       "      <td>02-total Anesthésiologie - Réanimation chirurg...</td>\n",
       "      <td>2</td>\n",
       "    </tr>\n",
       "    <tr>\n",
       "      <th>2889</th>\n",
       "      <td>01 - Ain</td>\n",
       "      <td>Gastro-entérologie et hépatologie</td>\n",
       "      <td>2.4</td>\n",
       "      <td>08-Gastro-entérologie et hépatologie</td>\n",
       "      <td>8</td>\n",
       "    </tr>\n",
       "    <tr>\n",
       "      <th>3019</th>\n",
       "      <td>01 - Ain</td>\n",
       "      <td>Médecine du travail</td>\n",
       "      <td>8.4</td>\n",
       "      <td>01-TOTAL Omnipraticiens</td>\n",
       "      <td>1</td>\n",
       "    </tr>\n",
       "  </tbody>\n",
       "</table>\n",
       "</div>"
      ],
      "text/plain": [
       "     ZoneInscription                         Specialite  Densite  \\\n",
       "2629        01 - Ain            Gynécologie-obstétrique      7.1   \n",
       "2759        01 - Ain                        Hématologie      0.3   \n",
       "4969        01 - Ain               Réanimation médicale      0.2   \n",
       "2889        01 - Ain  Gastro-entérologie et hépatologie      2.4   \n",
       "3019        01 - Ain                Médecine du travail      8.4   \n",
       "\n",
       "                                              code_name  exe_spe  \n",
       "2629                               07-TOTAL Gynécologie        7  \n",
       "2759                                      00-Sans objet       99  \n",
       "4969  02-total Anesthésiologie - Réanimation chirurg...        2  \n",
       "2889               08-Gastro-entérologie et hépatologie        8  \n",
       "3019                            01-TOTAL Omnipraticiens        1  "
      ]
     },
     "execution_count": 389,
     "metadata": {},
     "output_type": "execute_result"
    }
   ],
   "source": [
    "rpps_dep.head()"
   ]
  },
  {
   "cell_type": "code",
   "execution_count": 390,
   "metadata": {
    "collapsed": false
   },
   "outputs": [],
   "source": [
    "rpps_dep['departement'] = rpps_dep['ZoneInscription'].map(lambda s: s.split(' ')[0])\n",
    "\n",
    "def delete_zero(s):\n",
    "    if len(s) > 0 and s[0] == '0':\n",
    "        return s[1:]\n",
    "    else:\n",
    "        return s\n",
    "    \n",
    "rpps_dep['departement'] = rpps_dep['departement'].map(delete_zero)"
   ]
  },
  {
   "cell_type": "code",
   "execution_count": 392,
   "metadata": {
    "collapsed": false
   },
   "outputs": [],
   "source": [
    "density_dpt = rpps_dep.groupby('departement')['Densite'].mean()\n",
    "density_spe = rpps_dep.groupby('exe_spe')['Densite'].mean()"
   ]
  },
  {
   "cell_type": "markdown",
   "metadata": {},
   "source": [
    "##  Analyse"
   ]
  },
  {
   "cell_type": "markdown",
   "metadata": {},
   "source": [
    "### Par département"
   ]
  },
  {
   "cell_type": "code",
   "execution_count": 405,
   "metadata": {
    "collapsed": false
   },
   "outputs": [],
   "source": [
    "data = pd.DataFrame(average_dep_dpt).join(density_dpt)\n",
    "data = data.rename(columns={'dep_mon': 'DepassementMoyen'})"
   ]
  },
  {
   "cell_type": "code",
   "execution_count": 430,
   "metadata": {
    "collapsed": false
   },
   "outputs": [
    {
     "name": "stdout",
     "output_type": "stream",
     "text": [
      "DepassementMoyen vs Densité pour les départements français\n"
     ]
    },
    {
     "name": "stderr",
     "output_type": "stream",
     "text": [
      "/usr/lib/python3.5/site-packages/matplotlib/__init__.py:892: UserWarning: axes.color_cycle is deprecated and replaced with axes.prop_cycle; please use the latter.\n",
      "  warnings.warn(self.msg_depr % (key, alt_key))\n"
     ]
    },
    {
     "data": {
      "text/plain": [
       "<seaborn.axisgrid.JointGrid at 0x7f1f4f0b0c50>"
      ]
     },
     "execution_count": 430,
     "metadata": {},
     "output_type": "execute_result"
    },
    {
     "data": {
      "image/png": "[encoded data removed]",
      "text/plain": [
       "<matplotlib.figure.Figure at 0x7f1f4e49d9b0>"
      ]
     },
     "metadata": {},
     "output_type": "display_data"
    }
   ],
   "source": [
    "print('DepassementMoyen vs Densité pour les départements français')\n",
    "sns.jointplot('DepassementMoyen', 'Densite', data, kind=\"reg\")"
   ]
  },
  {
   "cell_type": "markdown",
   "metadata": {},
   "source": [
    "On observe a priori une correlation entre la densité des médecins et le montant moyen des dépassements. Plus le département est dense en praticiens, plus les dépassements sont élevés."
   ]
  },
  {
   "cell_type": "markdown",
   "metadata": {},
   "source": [
    "### Par spécialité"
   ]
  },
  {
   "cell_type": "code",
   "execution_count": 457,
   "metadata": {
    "collapsed": false
   },
   "outputs": [],
   "source": [
    "data2 = pd.DataFrame(density_spe).join(average_dep_spe)\n",
    "data2 = data2.join(labels['exe_spe'])\n",
    "data2 = data2.rename(columns={'dep_mon': 'DepassementMoyen',\n",
    "                              'l_exe_spe': 'Specialite'})\n",
    "data2 = data2.sort_values(by='DepassementMoyen', ascending=False)"
   ]
  },
  {
   "cell_type": "markdown",
   "metadata": {},
   "source": [
    "Observons d'abord la distribution des dépassements moyen par spécialités."
   ]
  },
  {
   "cell_type": "code",
   "execution_count": 458,
   "metadata": {
    "collapsed": false
   },
   "outputs": [
    {
     "name": "stderr",
     "output_type": "stream",
     "text": [
      "/usr/lib/python3.5/site-packages/matplotlib/__init__.py:892: UserWarning: axes.color_cycle is deprecated and replaced with axes.prop_cycle; please use the latter.\n",
      "  warnings.warn(self.msg_depr % (key, alt_key))\n"
     ]
    },
    {
     "data": {
      "text/plain": [
       "<matplotlib.axes._subplots.AxesSubplot at 0x7f1f4d9c1240>"
      ]
     },
     "execution_count": 458,
     "metadata": {},
     "output_type": "execute_result"
    },
    {
     "data": {
      "image/png": "[encoded data removed]",
      "text/plain": [
       "<matplotlib.figure.Figure at 0x7f1f4d713f28>"
      ]
     },
     "metadata": {},
     "output_type": "display_data"
    }
   ],
   "source": [
    "plt.figure(figsize=(10,5))\n",
    "sns.barplot(x='DepassementMoyen', y='Specialite', data=data2)"
   ]
  },
  {
   "cell_type": "markdown",
   "metadata": {},
   "source": [
    "On observe clairement que la spécialité *chirurgie dentaire* affiche des dépassements moyens bien supérieurs aux autres spécialités. Nous le considérons pour la suite comme un *outlier* pour le problème posé."
   ]
  },
  {
   "cell_type": "code",
   "execution_count": 459,
   "metadata": {
    "collapsed": false
   },
   "outputs": [],
   "source": [
    "data2p = data2[data2.Specialite != '19-TOTAL Chirurgie dentaire']"
   ]
  },
  {
   "cell_type": "code",
   "execution_count": 460,
   "metadata": {
    "collapsed": false
   },
   "outputs": [
    {
     "name": "stderr",
     "output_type": "stream",
     "text": [
      "/usr/lib/python3.5/site-packages/matplotlib/__init__.py:892: UserWarning: axes.color_cycle is deprecated and replaced with axes.prop_cycle; please use the latter.\n",
      "  warnings.warn(self.msg_depr % (key, alt_key))\n"
     ]
    },
    {
     "data": {
      "text/plain": [
       "<seaborn.axisgrid.JointGrid at 0x7f1f4d5c3f28>"
      ]
     },
     "execution_count": 460,
     "metadata": {},
     "output_type": "execute_result"
    },
    {
     "data": {
      "image/png": "[encoded data removed]",
      "text/plain": [
       "<matplotlib.figure.Figure at 0x7f1f4d636c88>"
      ]
     },
     "metadata": {},
     "output_type": "display_data"
    }
   ],
   "source": [
    "sns.jointplot('DepassementMoyen', 'Densite', data2p, kind=\"reg\")"
   ]
  },
  {
   "cell_type": "markdown",
   "metadata": {},
   "source": [
    "Même en supprimer l'outlier, la relation entre les dépassement et la densité des praticiens n'est pas évidente et semble même inversée pour certaines professions (par rapport à ce qu'on observait pour les départements). En effet par exemple les médecins généralistes affichent relativement peu de dépassements en moyenne mais sont très concentrés. Les chirurgiens (dentaires ou autres) sont au contraire peu densément répartis mais pratiquent abondemment les dépassements. "
   ]
  },
  {
   "cell_type": "code",
   "execution_count": 461,
   "metadata": {
    "collapsed": false
   },
   "outputs": [
    {
     "data": {
      "text/html": [
       "<div>\n",
       "<table border=\"1\" class=\"dataframe\">\n",
       "  <thead>\n",
       "    <tr style=\"text-align: right;\">\n",
       "      <th></th>\n",
       "      <th>Densite</th>\n",
       "      <th>DepassementMoyen</th>\n",
       "      <th>Specialite</th>\n",
       "    </tr>\n",
       "    <tr>\n",
       "      <th>exe_spe</th>\n",
       "      <th></th>\n",
       "      <th></th>\n",
       "      <th></th>\n",
       "    </tr>\n",
       "  </thead>\n",
       "  <tbody>\n",
       "    <tr>\n",
       "      <th>19</th>\n",
       "      <td>1.365347</td>\n",
       "      <td>3862.286168</td>\n",
       "      <td>19-TOTAL Chirurgie dentaire</td>\n",
       "    </tr>\n",
       "    <tr>\n",
       "      <th>4</th>\n",
       "      <td>1.669857</td>\n",
       "      <td>624.239720</td>\n",
       "      <td>04-TOTAL Chirurgie</td>\n",
       "    </tr>\n",
       "    <tr>\n",
       "      <th>15</th>\n",
       "      <td>7.503960</td>\n",
       "      <td>386.693097</td>\n",
       "      <td>15-Ophtalmologie</td>\n",
       "    </tr>\n",
       "    <tr>\n",
       "      <th>2</th>\n",
       "      <td>7.324257</td>\n",
       "      <td>299.474207</td>\n",
       "      <td>02-total Anesthésiologie - Réanimation chirurg...</td>\n",
       "    </tr>\n",
       "    <tr>\n",
       "      <th>7</th>\n",
       "      <td>11.651980</td>\n",
       "      <td>295.275507</td>\n",
       "      <td>07-TOTAL Gynécologie</td>\n",
       "    </tr>\n",
       "    <tr>\n",
       "      <th>17</th>\n",
       "      <td>18.253465</td>\n",
       "      <td>198.714013</td>\n",
       "      <td>17-TOTAL Psychiatrie</td>\n",
       "    </tr>\n",
       "    <tr>\n",
       "      <th>11</th>\n",
       "      <td>3.940594</td>\n",
       "      <td>166.276308</td>\n",
       "      <td>11-Oto-rhino laryngologie</td>\n",
       "    </tr>\n",
       "    <tr>\n",
       "      <th>6</th>\n",
       "      <td>10.911881</td>\n",
       "      <td>126.080177</td>\n",
       "      <td>06-TOTAL Radiologie</td>\n",
       "    </tr>\n",
       "    <tr>\n",
       "      <th>12</th>\n",
       "      <td>52.233663</td>\n",
       "      <td>125.532866</td>\n",
       "      <td>12-TOTAL Pédiatrie</td>\n",
       "    </tr>\n",
       "    <tr>\n",
       "      <th>5</th>\n",
       "      <td>4.765347</td>\n",
       "      <td>118.220075</td>\n",
       "      <td>05-Dermatologie et vénérologie</td>\n",
       "    </tr>\n",
       "    <tr>\n",
       "      <th>8</th>\n",
       "      <td>4.730693</td>\n",
       "      <td>108.854910</td>\n",
       "      <td>08-Gastro-entérologie et hépatologie</td>\n",
       "    </tr>\n",
       "    <tr>\n",
       "      <th>14</th>\n",
       "      <td>3.392079</td>\n",
       "      <td>108.499571</td>\n",
       "      <td>14-Rhumatologie</td>\n",
       "    </tr>\n",
       "    <tr>\n",
       "      <th>1</th>\n",
       "      <td>102.640264</td>\n",
       "      <td>93.932950</td>\n",
       "      <td>01-TOTAL Omnipraticiens</td>\n",
       "    </tr>\n",
       "    <tr>\n",
       "      <th>42</th>\n",
       "      <td>2.285149</td>\n",
       "      <td>74.903115</td>\n",
       "      <td>42-Endocrinologie</td>\n",
       "    </tr>\n",
       "    <tr>\n",
       "      <th>80</th>\n",
       "      <td>2.055446</td>\n",
       "      <td>62.219009</td>\n",
       "      <td>80-Santé publique et Médecine Sociale</td>\n",
       "    </tr>\n",
       "    <tr>\n",
       "      <th>3</th>\n",
       "      <td>8.914851</td>\n",
       "      <td>62.145400</td>\n",
       "      <td>03-Pathologie cardio-vasculaire</td>\n",
       "    </tr>\n",
       "    <tr>\n",
       "      <th>31</th>\n",
       "      <td>2.823762</td>\n",
       "      <td>56.789414</td>\n",
       "      <td>31-Médecine physique et de réanimation</td>\n",
       "    </tr>\n",
       "    <tr>\n",
       "      <th>9</th>\n",
       "      <td>3.000990</td>\n",
       "      <td>50.455068</td>\n",
       "      <td>09-TOTAL Médecine interne</td>\n",
       "    </tr>\n",
       "    <tr>\n",
       "      <th>37</th>\n",
       "      <td>1.845545</td>\n",
       "      <td>43.174209</td>\n",
       "      <td>37-Anatomie-cytologie-pathologique</td>\n",
       "    </tr>\n",
       "    <tr>\n",
       "      <th>32</th>\n",
       "      <td>2.850495</td>\n",
       "      <td>41.263768</td>\n",
       "      <td>32-Neurologie</td>\n",
       "    </tr>\n",
       "    <tr>\n",
       "      <th>13</th>\n",
       "      <td>3.982178</td>\n",
       "      <td>25.485397</td>\n",
       "      <td>13-Pneumologie</td>\n",
       "    </tr>\n",
       "    <tr>\n",
       "      <th>34</th>\n",
       "      <td>2.264356</td>\n",
       "      <td>20.356128</td>\n",
       "      <td>34-Gériatrie</td>\n",
       "    </tr>\n",
       "    <tr>\n",
       "      <th>35</th>\n",
       "      <td>2.088119</td>\n",
       "      <td>2.882409</td>\n",
       "      <td>35-Néphrologie</td>\n",
       "    </tr>\n",
       "    <tr>\n",
       "      <th>38</th>\n",
       "      <td>3.592079</td>\n",
       "      <td>0.053292</td>\n",
       "      <td>38-Médecin biologiste</td>\n",
       "    </tr>\n",
       "    <tr>\n",
       "      <th>99</th>\n",
       "      <td>0.625743</td>\n",
       "      <td>0.000000</td>\n",
       "      <td>00-Sans objet</td>\n",
       "    </tr>\n",
       "  </tbody>\n",
       "</table>\n",
       "</div>"
      ],
      "text/plain": [
       "            Densite  DepassementMoyen  \\\n",
       "exe_spe                                 \n",
       "19         1.365347       3862.286168   \n",
       "4          1.669857        624.239720   \n",
       "15         7.503960        386.693097   \n",
       "2          7.324257        299.474207   \n",
       "7         11.651980        295.275507   \n",
       "17        18.253465        198.714013   \n",
       "11         3.940594        166.276308   \n",
       "6         10.911881        126.080177   \n",
       "12        52.233663        125.532866   \n",
       "5          4.765347        118.220075   \n",
       "8          4.730693        108.854910   \n",
       "14         3.392079        108.499571   \n",
       "1        102.640264         93.932950   \n",
       "42         2.285149         74.903115   \n",
       "80         2.055446         62.219009   \n",
       "3          8.914851         62.145400   \n",
       "31         2.823762         56.789414   \n",
       "9          3.000990         50.455068   \n",
       "37         1.845545         43.174209   \n",
       "32         2.850495         41.263768   \n",
       "13         3.982178         25.485397   \n",
       "34         2.264356         20.356128   \n",
       "35         2.088119          2.882409   \n",
       "38         3.592079          0.053292   \n",
       "99         0.625743          0.000000   \n",
       "\n",
       "                                                Specialite  \n",
       "exe_spe                                                     \n",
       "19                             19-TOTAL Chirurgie dentaire  \n",
       "4                                       04-TOTAL Chirurgie  \n",
       "15                                        15-Ophtalmologie  \n",
       "2        02-total Anesthésiologie - Réanimation chirurg...  \n",
       "7                                     07-TOTAL Gynécologie  \n",
       "17                                    17-TOTAL Psychiatrie  \n",
       "11                               11-Oto-rhino laryngologie  \n",
       "6                                      06-TOTAL Radiologie  \n",
       "12                                      12-TOTAL Pédiatrie  \n",
       "5                           05-Dermatologie et vénérologie  \n",
       "8                     08-Gastro-entérologie et hépatologie  \n",
       "14                                         14-Rhumatologie  \n",
       "1                                  01-TOTAL Omnipraticiens  \n",
       "42                                       42-Endocrinologie  \n",
       "80                   80-Santé publique et Médecine Sociale  \n",
       "3                          03-Pathologie cardio-vasculaire  \n",
       "31                  31-Médecine physique et de réanimation  \n",
       "9                                09-TOTAL Médecine interne  \n",
       "37                      37-Anatomie-cytologie-pathologique  \n",
       "32                                           32-Neurologie  \n",
       "13                                          13-Pneumologie  \n",
       "34                                            34-Gériatrie  \n",
       "35                                          35-Néphrologie  \n",
       "38                                   38-Médecin biologiste  \n",
       "99                                           00-Sans objet  "
      ]
     },
     "execution_count": 461,
     "metadata": {},
     "output_type": "execute_result"
    }
   ],
   "source": [
    "data2"
   ]
  }
 ],
 "metadata": {
  "kernelspec": {
   "display_name": "Python 3",
   "language": "python",
   "name": "python3"
  },
  "language_info": {
   "codemirror_mode": {
    "name": "ipython",
    "version": 3
   },
   "file_extension": ".py",
   "mimetype": "text/x-python",
   "name": "python",
   "nbconvert_exporter": "python",
   "pygments_lexer": "ipython3",
   "version": "3.5.0"
  }
 },
 "nbformat": 4,
 "nbformat_minor": 0
}
