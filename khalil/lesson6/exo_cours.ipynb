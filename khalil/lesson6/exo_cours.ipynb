{
 "cells": [
  {
   "cell_type": "code",
   "execution_count": 42,
   "metadata": {
    "collapsed": false
   },
   "outputs": [
    {
     "name": "stdout",
     "output_type": "stream",
     "text": [
      "Index([              u'company',            u'company_id',\n",
      "       u'business_account_name',   u'business_account_id',\n",
      "                 u'campaign_id',              u'campaign',\n",
      "                 u'creative_id',         u'article_title',\n",
      "       u'sponsored_update_text',        u'sponsored_date',\n",
      "                       u'viral',           u'impressions',\n",
      "                      u'clicks',                 u'likes',\n",
      "                      u'shares',              u'comments',\n",
      "                     u'follows',         u'total_revenue',\n",
      "                           u' ',                 u'Imps ',\n",
      "                       u'Clics',        u'Social Actions',\n",
      "            u'Social Actions 2',               u'revenue',\n",
      "       u'Campaign total Budget',         u'creative link'],\n",
      "      dtype='object')\n",
      "Index([                        u'DATE',              u'ADVERTISER NAME',\n",
      "                           u'CURRENCY',              u'DSM PROPOSAL ID',\n",
      "                          u'DFP AD ID',                  u'CAMPAIGN ID',\n",
      "                      u'CAMPAIGN NAME',                u'CAMPAIGN TYPE',\n",
      "                    u'CAMPAIGN STATUS',                    u'COST TYPE',\n",
      "              u'CAMPAIGN DAILY BUDGET',        u'CAMPAIGN TOTAL BUDGET',\n",
      "                         u'LEAD COUNT',                        u'AD ID',\n",
      "                    u'CREATIVE STATUS',                  u'AD HEADLINE',\n",
      "                            u'AD LINE',                    u'CLICK URL',\n",
      "                        u'IMPRESSIONS',                       u'CLICKS',\n",
      "                       u'OTHER CLICKS',               u'SOCIAL ACTIONS',\n",
      "                       u'TOTAL CLICKS',       u'CLICK THROUGH RATE (%)',\n",
      "       u'TOTAL CLICK THROUGH RATE (%)',                  u'AVERAGE CPC',\n",
      "                        u'AVERAGE CPM',                  u'TOTAL SPENT',\n",
      "                            u'Column1',                          u'CTR',\n",
      "                         u'% Delivery',                  u'Report Date',\n",
      "                             u'Week #',                       u'Target',\n",
      "                                u'Geo',                        u'Topic'],\n",
      "      dtype='object')\n",
      "\n",
      "                     impressions      revenue\n",
      "country target                               \n",
      "BR      Csize 500+  21793.131907   278.953690\n",
      "UK      Csize 500+  30031.881674   508.408167\n",
      "US      CPM         75451.000000  1090.959091\n",
      "        Csize 500+  59438.545833   891.525736\n"
     ]
    }
   ],
   "source": [
    "import pandas as pd\n",
    "data_0_df = pd.read_excel('/home/khalil/master_spe_cours/MS-BGD2015/khalil/lesson6/exo.xls',skiprows=11,sheetname=0)\n",
    "data_1_df = pd.read_excel('/home/khalil/master_spe_cours/MS-BGD2015/khalil/lesson6/exo.xls',skiprows=11,sheetname=1)\n",
    "#print data_df.head(2)\n",
    "print data_0_df.columns\n",
    "print data_1_df.columns\n",
    "print \n",
    "#data_0_df[['country','target']] =  data_0_df['campaign'].str.split('_').str[1:3] #.head()\n",
    "\n",
    "data_0_df['country'] =  data_0_df['campaign'].str.split('_').str[1]\n",
    "data_0_df['target'] =  data_0_df['campaign'].str.split('_').str[3]\n",
    "res = data_0_df.groupby(['country','target'])[['impressions','revenue']].mean()\n",
    "\n",
    "print res\n"
   ]
  },
  {
   "cell_type": "code",
   "execution_count": 47,
   "metadata": {
    "collapsed": false
   },
   "outputs": [
    {
     "name": "stdout",
     "output_type": "stream",
     "text": [
      "1998\n"
     ]
    }
   ],
   "source": [
    "from datetime import datetime\n",
    "time = '08-10-1998'\n",
    "a = datetime.strptime(time,'%d-%m-%Y')\n",
    "print a.year"
   ]
  },
  {
   "cell_type": "code",
   "execution_count": null,
   "metadata": {
    "collapsed": true
   },
   "outputs": [],
   "source": [
    "# select time_series and filtering\n",
    "#data.index['dd-m-y']\n",
    "#data.ix['year']\n",
    "#data.ix['year1':year2]\n",
    "# daterange permet de generer des dates "
   ]
  }
 ],
 "metadata": {
  "kernelspec": {
   "display_name": "Python 2",
   "language": "python",
   "name": "python2"
  },
  "language_info": {
   "codemirror_mode": {
    "name": "ipython",
    "version": 2
   },
   "file_extension": ".py",
   "mimetype": "text/x-python",
   "name": "python",
   "nbconvert_exporter": "python",
   "pygments_lexer": "ipython2",
   "version": "2.7.10"
  }
 },
 "nbformat": 4,
 "nbformat_minor": 0
}
