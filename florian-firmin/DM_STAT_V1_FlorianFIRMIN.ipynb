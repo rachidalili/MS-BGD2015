{
 "cells": [
  {
   "cell_type": "code",
   "execution_count": 183,
   "metadata": {
    "collapsed": false
   },
   "outputs": [],
   "source": [
    "# A noter que j'ai utilisé PYTHON 3 pour ce devoir\n",
    "#V1\n",
    "\n",
    "# Importation des librairies\n",
    "import seaborn as sns\n",
    "import pandas as pd\n",
    "import numpy as np\n",
    "import statsmodels.api as sm\n",
    "from mpl_toolkits.mplot3d import Axes3D\n",
    "import matplotlib.pyplot as plt"
   ]
  },
  {
   "cell_type": "markdown",
   "metadata": {},
   "source": [
    "On impose les graphiques *inline*, avec des dimensions standard."
   ]
  },
  {
   "cell_type": "code",
   "execution_count": 184,
   "metadata": {
    "collapsed": true
   },
   "outputs": [],
   "source": [
    "%matplotlib inline\n",
    "sns.set_context('notebook')\n",
    "sns.set_style('darkgrid')\n",
    "sns.set_palette('colorblind')"
   ]
  },
  {
   "cell_type": "markdown",
   "metadata": {},
   "source": [
    "### 1) Écrire mathématiquement le modèle linéaire correspondant."
   ]
  },
  {
   "cell_type": "markdown",
   "metadata": {},
   "source": [
    "Si l'on considère p variables explicatives d'une valeur y, le modèle correspondant s'écrit :\n",
    "\n",
    "\n",
    "\n"
   ]
  },
  {
   "cell_type": "markdown",
   "metadata": {},
   "source": [
    "$y_i = {\\theta}_0^{*} + \\sum_{j=1}^{p} {\\theta}_j^{*}x_{ij} + {\\epsilon}_i$    \n",
    "avec : ${\\epsilon}_i = {\\cal{N}}(0,{\\sigma}^2)~~~~~~~~~~ \\forall i = 1,...,n$"
   ]
  },
  {
   "cell_type": "markdown",
   "metadata": {},
   "source": [
    "Les bruits étant supposés i.i.d, gaussiens, un estimateur naturel des ${\\theta}_j^{*}$ s'obtient par la méthode des moindres carrés."
   ]
  },
  {
   "cell_type": "markdown",
   "metadata": {},
   "source": [
    "### 2+3) Récupérer le jeu de données"
   ]
  },
  {
   "cell_type": "code",
   "execution_count": 185,
   "metadata": {
    "collapsed": false
   },
   "outputs": [
    {
     "name": "stdout",
     "output_type": "stream",
     "text": [
      "+--------------+-------------------+\n",
      "| airquality   | R Documentation   |\n",
      "+--------------+-------------------+\n",
      "\n",
      "New York Air Quality Measurements\n",
      "---------------------------------\n",
      "\n",
      "Description\n",
      "~~~~~~~~~~~\n",
      "\n",
      "Daily air quality measurements in New York, May to September 1973.\n",
      "\n",
      "Usage\n",
      "~~~~~\n",
      "\n",
      "::\n",
      "\n",
      "    airquality\n",
      "\n",
      "Format\n",
      "~~~~~~\n",
      "\n",
      "A data frame with 154 observations on 6 variables.\n",
      "\n",
      "+------------+---------------+-----------+---------------------------+\n",
      "| ``[,1]``   | ``Ozone``     | numeric   | Ozone (ppb)               |\n",
      "+------------+---------------+-----------+---------------------------+\n",
      "| ``[,2]``   | ``Solar.R``   | numeric   | Solar R (lang)            |\n",
      "+------------+---------------+-----------+---------------------------+\n",
      "| ``[,3]``   | ``Wind``      | numeric   | Wind (mph)                |\n",
      "+------------+---------------+-----------+---------------------------+\n",
      "| ``[,4]``   | ``Temp``      | numeric   | Temperature (degrees F)   |\n",
      "+------------+---------------+-----------+---------------------------+\n",
      "| ``[,5]``   | ``Month``     | numeric   | Month (1--12)             |\n",
      "+------------+---------------+-----------+---------------------------+\n",
      "| ``[,6]``   | ``Day``       | numeric   | Day of month (1--31)      |\n",
      "+------------+---------------+-----------+---------------------------+\n",
      "\n",
      "Details\n",
      "~~~~~~~\n",
      "\n",
      "Daily readings of the following air quality values for May 1, 1973 (a\n",
      "Tuesday) to September 30, 1973.\n",
      "\n",
      "-  ``Ozone``: Mean ozone in parts per billion from 1300 to 1500 hours at\n",
      "   Roosevelt Island\n",
      "\n",
      "-  ``Solar.R``: Solar radiation in Langleys in the frequency band\n",
      "   4000–7700 Angstroms from 0800 to 1200 hours at Central Park\n",
      "\n",
      "-  ``Wind``: Average wind speed in miles per hour at 0700 and 1000 hours\n",
      "   at LaGuardia Airport\n",
      "\n",
      "-  ``Temp``: Maximum daily temperature in degrees Fahrenheit at La\n",
      "   Guardia Airport.\n",
      "\n",
      "Source\n",
      "~~~~~~\n",
      "\n",
      "The data were obtained from the New York State Department of\n",
      "Conservation (ozone data) and the National Weather Service\n",
      "(meteorological data).\n",
      "\n",
      "References\n",
      "~~~~~~~~~~\n",
      "\n",
      "Chambers, J. M., Cleveland, W. S., Kleiner, B. and Tukey, P. A. (1983)\n",
      "*Graphical Methods for Data Analysis*. Belmont, CA: Wadsworth.\n",
      "\n",
      "Examples\n",
      "~~~~~~~~\n",
      "\n",
      "::\n",
      "\n",
      "    require(graphics)\n",
      "    pairs(airquality, panel = panel.smooth, main = \"airquality data\")\n",
      "\n",
      "\n"
     ]
    },
    {
     "data": {
      "text/html": [
       "<div>\n",
       "<table border=\"1\" class=\"dataframe\">\n",
       "  <thead>\n",
       "    <tr style=\"text-align: right;\">\n",
       "      <th></th>\n",
       "      <th>Ozone</th>\n",
       "      <th>Solar.R</th>\n",
       "      <th>Wind</th>\n",
       "      <th>Temp</th>\n",
       "      <th>Month</th>\n",
       "      <th>Day</th>\n",
       "    </tr>\n",
       "  </thead>\n",
       "  <tbody>\n",
       "    <tr>\n",
       "      <th>0</th>\n",
       "      <td>41</td>\n",
       "      <td>190</td>\n",
       "      <td>7.4</td>\n",
       "      <td>67</td>\n",
       "      <td>5</td>\n",
       "      <td>1</td>\n",
       "    </tr>\n",
       "    <tr>\n",
       "      <th>1</th>\n",
       "      <td>36</td>\n",
       "      <td>118</td>\n",
       "      <td>8.0</td>\n",
       "      <td>72</td>\n",
       "      <td>5</td>\n",
       "      <td>2</td>\n",
       "    </tr>\n",
       "    <tr>\n",
       "      <th>2</th>\n",
       "      <td>12</td>\n",
       "      <td>149</td>\n",
       "      <td>12.6</td>\n",
       "      <td>74</td>\n",
       "      <td>5</td>\n",
       "      <td>3</td>\n",
       "    </tr>\n",
       "    <tr>\n",
       "      <th>3</th>\n",
       "      <td>18</td>\n",
       "      <td>313</td>\n",
       "      <td>11.5</td>\n",
       "      <td>62</td>\n",
       "      <td>5</td>\n",
       "      <td>4</td>\n",
       "    </tr>\n",
       "    <tr>\n",
       "      <th>4</th>\n",
       "      <td>NaN</td>\n",
       "      <td>NaN</td>\n",
       "      <td>14.3</td>\n",
       "      <td>56</td>\n",
       "      <td>5</td>\n",
       "      <td>5</td>\n",
       "    </tr>\n",
       "  </tbody>\n",
       "</table>\n",
       "</div>"
      ],
      "text/plain": [
       "   Ozone  Solar.R  Wind  Temp  Month  Day\n",
       "0     41      190   7.4    67      5    1\n",
       "1     36      118   8.0    72      5    2\n",
       "2     12      149  12.6    74      5    3\n",
       "3     18      313  11.5    62      5    4\n",
       "4    NaN      NaN  14.3    56      5    5"
      ]
     },
     "execution_count": 185,
     "metadata": {},
     "output_type": "execute_result"
    }
   ],
   "source": [
    "airq = sm.datasets.get_rdataset('airquality')\n",
    "airq_data = sm.datasets.get_rdataset('airquality').data\n",
    "print (airq.__doc__)\n",
    "airq_data.head()"
   ]
  },
  {
   "cell_type": "code",
   "execution_count": 186,
   "metadata": {
    "collapsed": false
   },
   "outputs": [
    {
     "name": "stdout",
     "output_type": "stream",
     "text": [
      "Nombre d'observations avant suppression des lignes avec des vides :153\n",
      "Nombre d'observations après suppression des lignes avec des vides :111\n"
     ]
    }
   ],
   "source": [
    "#Suppression des lignes avec des paramètres vides\n",
    "print(\"Nombre d'observations avant suppression des lignes avec des vides :\"+str(len(airq_data)))\n",
    "airq_data = airq_data.dropna()\n",
    "print(\"Nombre d'observations après suppression des lignes avec des vides :\"+str(len(airq_data)))"
   ]
  },
  {
   "cell_type": "markdown",
   "metadata": {},
   "source": [
    "### 4) Ajuster le modèle par la méthode des moindres carrés après avoir centré-réduits les variables"
   ]
  },
  {
   "cell_type": "code",
   "execution_count": 187,
   "metadata": {
    "collapsed": false
   },
   "outputs": [
    {
     "name": "stdout",
     "output_type": "stream",
     "text": [
      "Les coefficients sont affichés ci-dessous en fâce des variables explicatives concernées (const pour l'ordonnée à l'origine)\n",
      "const      42.099099\n",
      "Solar.R     4.561931\n",
      "Wind      -11.752771\n",
      "Temp       17.985220\n",
      "Month      -4.458953\n",
      "Day         2.373939\n",
      "dtype: float64\n"
     ]
    }
   ],
   "source": [
    "# définition des variables explicatives et de la variable à estimer\n",
    "X = airq_data[['Solar.R', 'Wind', 'Temp', 'Month', 'Day']]\n",
    "Y = airq_data['Ozone']\n",
    "\n",
    "# Centrage et Réduction des variables explicatives\n",
    "X_mean=np.mean(X)\n",
    "X_ecartType = np.std(X)\n",
    "Xrescale = (X - X_mean)/X_ecartType\n",
    "\n",
    "# ajout de la colonne des 1 (Y non normalisés)\n",
    "Xrescale=sm.add_constant(Xrescale)\n",
    "\n",
    "# Calcul des paramètres de l'estimateur des moindres carrés avec statsmodels\n",
    "thetaChapeau = sm.OLS(Y,Xrescale).fit().params\n",
    "\n",
    "# Affichage des coefficients et de l'ordonnée à l'origine (const)\n",
    "print (\"Les coefficients sont affichés ci-dessous en fâce des variables explicatives concernées (const pour l'ordonnée à l'origine)\")\n",
    "print (thetaChapeau)"
   ]
  },
  {
   "cell_type": "markdown",
   "metadata": {},
   "source": [
    "##### Remarque : Il apparait une influence relativemment importante de la température (comme facteur augmentant la concentration d'ozone) et du vent (comme facteur diminuant la concentration en ozone). Les intervalles de confiance doivent cependant être calculés avant toute conclusion."
   ]
  },
  {
   "cell_type": "markdown",
   "metadata": {},
   "source": [
    "### 5) Estimateur sans biais de la variance du bruit"
   ]
  },
  {
   "cell_type": "markdown",
   "metadata": {},
   "source": [
    "L'estimateur  sans biais de la variance du bruit s'écrit : ${\\widehat\\sigma}^2 = \\frac{1}{n-rg(X)}{\\left \\| y - X{\\widehat\\theta} \\right \\|}^2_2$"
   ]
  },
  {
   "cell_type": "code",
   "execution_count": 188,
   "metadata": {
    "collapsed": false
   },
   "outputs": [
    {
     "name": "stdout",
     "output_type": "stream",
     "text": [
      "La valeur de l'estimateur sans biais de la variance :  430.97\n"
     ]
    }
   ],
   "source": [
    "#calcul du résultat ci-dessus avec nos données\n",
    "rang = sm.OLS(Y,Xrescale).fit().df_model # rang de la matrice de régression\n",
    "n=len(airq_data) # nombre d'observations sans NA\n",
    "Y_moinsXTheta=Y-np.dot(Xrescale,thetaChapeau)\n",
    "sigmaCarre = (1/(n-rang))*np.dot(Y_moinsXTheta.T,Y_moinsXTheta)\n",
    "print(\"La valeur de l'estimateur sans biais de la variance : \",round(sigmaCarre,2)) # Valeur numérique de l'estimateur sans biais de la variance"
   ]
  },
  {
   "cell_type": "markdown",
   "metadata": {},
   "source": [
    "### 6) Intervalle de confiance de niveau 0.01 pour la quantité ${\\widehat\\theta}$"
   ]
  },
  {
   "cell_type": "code",
   "execution_count": 189,
   "metadata": {
    "collapsed": false
   },
   "outputs": [],
   "source": [
    "# IC pourt les moindres carrés\n",
    "import scipy.stats \n",
    "ordreQuantile = 1-(0.01/2) # quantile de la loi de Student \n",
    "quantileOrdre0995 = scipy.stats.t.ppf(ordreQuantile,n-rang-1)\n"
   ]
  },
  {
   "cell_type": "code",
   "execution_count": 190,
   "metadata": {
    "collapsed": false
   },
   "outputs": [
    {
     "data": {
      "text/html": [
       "<div>\n",
       "<table border=\"1\" class=\"dataframe\">\n",
       "  <thead>\n",
       "    <tr style=\"text-align: right;\">\n",
       "      <th></th>\n",
       "      <th>Valeur estimée</th>\n",
       "      <th>Marge Inf à 99%</th>\n",
       "      <th>Marge Sup à 99%</th>\n",
       "    </tr>\n",
       "  </thead>\n",
       "  <tbody>\n",
       "    <tr>\n",
       "      <th>const</th>\n",
       "      <td>42.099099</td>\n",
       "      <td>36.929726</td>\n",
       "      <td>47.268472</td>\n",
       "    </tr>\n",
       "    <tr>\n",
       "      <th>Solar.R</th>\n",
       "      <td>4.561931</td>\n",
       "      <td>-0.986633</td>\n",
       "      <td>10.110494</td>\n",
       "    </tr>\n",
       "    <tr>\n",
       "      <th>Wind</th>\n",
       "      <td>-11.752771</td>\n",
       "      <td>-17.712853</td>\n",
       "      <td>-5.792689</td>\n",
       "    </tr>\n",
       "    <tr>\n",
       "      <th>Temp</th>\n",
       "      <td>17.985220</td>\n",
       "      <td>11.200770</td>\n",
       "      <td>24.769670</td>\n",
       "    </tr>\n",
       "    <tr>\n",
       "      <th>Month</th>\n",
       "      <td>-4.458953</td>\n",
       "      <td>-10.255276</td>\n",
       "      <td>1.337370</td>\n",
       "    </tr>\n",
       "    <tr>\n",
       "      <th>Day</th>\n",
       "      <td>2.373939</td>\n",
       "      <td>-2.824057</td>\n",
       "      <td>7.571935</td>\n",
       "    </tr>\n",
       "  </tbody>\n",
       "</table>\n",
       "</div>"
      ],
      "text/plain": [
       "         Valeur estimée  Marge Inf à 99%  Marge Sup à 99%\n",
       "const         42.099099        36.929726        47.268472\n",
       "Solar.R        4.561931        -0.986633        10.110494\n",
       "Wind         -11.752771       -17.712853        -5.792689\n",
       "Temp          17.985220        11.200770        24.769670\n",
       "Month         -4.458953       -10.255276         1.337370\n",
       "Day            2.373939        -2.824057         7.571935"
      ]
     },
     "execution_count": 190,
     "metadata": {},
     "output_type": "execute_result"
    }
   ],
   "source": [
    "invXtXrescale=np.linalg.inv(np.dot(Xrescale.T,Xrescale))\n",
    "invXtXrescale_jj=np.diag(invXtXrescale)\n",
    "marge=quantileOrdre0995*np.sqrt(sigmaCarre)*np.sqrt(invXtXrescale_jj)\n",
    "Intervalle = pd.DataFrame()\n",
    "Intervalle['Valeur estimée']=thetaChapeau\n",
    "Intervalle['Marge Inf à 99%'] = thetaChapeau-marge\n",
    "Intervalle['Marge Sup à 99%'] = thetaChapeau+marge\n",
    "Intervalle"
   ]
  },
  {
   "cell_type": "markdown",
   "metadata": {},
   "source": [
    "### 7) Interprétation de l'intervalle de confiance"
   ]
  },
  {
   "cell_type": "markdown",
   "metadata": {},
   "source": [
    "0 étant dans les IC pour le mois et le jour, ces valeurs sont potentiellement non explicatives du niveau d'Ozone"
   ]
  },
  {
   "cell_type": "markdown",
   "metadata": {},
   "source": [
    "### 8) Prédiction"
   ]
  },
  {
   "cell_type": "code",
   "execution_count": 191,
   "metadata": {
    "collapsed": false
   },
   "outputs": [
    {
     "name": "stdout",
     "output_type": "stream",
     "text": [
      "La prévision du modèle en concentration en ozone pour la nouvelle observation est :  36.46\n"
     ]
    }
   ],
   "source": [
    "nouvelObs=np.array([197,10,70,3,1])\n",
    "nouvelObs_rescale = (nouvelObs-X_mean)/X_ecartType\n",
    "nouvelObs_rescale = np.append(1,nouvelObs_rescale) # ajout du terme 1 pour piloter 'const'\n",
    "Prevision = np.dot(nouvelObs_rescale,thetaChapeau)\n",
    "print(\"La prévision du modèle en concentration en ozone pour la nouvelle observation est : \",round(Prevision,2))"
   ]
  },
  {
   "cell_type": "markdown",
   "metadata": {},
   "source": [
    "# EXERCICE 2"
   ]
  },
  {
   "cell_type": "markdown",
   "metadata": {},
   "source": [
    "### 1) Calculer les Estimateurs des coefficients obtenus"
   ]
  },
  {
   "cell_type": "code",
   "execution_count": 192,
   "metadata": {
    "collapsed": false
   },
   "outputs": [
    {
     "data": {
      "text/html": [
       "<div>\n",
       "<table border=\"1\" class=\"dataframe\">\n",
       "  <thead>\n",
       "    <tr style=\"text-align: right;\">\n",
       "      <th></th>\n",
       "      <th>const</th>\n",
       "      <th>Solar.R</th>\n",
       "      <th>Wind</th>\n",
       "      <th>Temp</th>\n",
       "      <th>Month</th>\n",
       "      <th>Day</th>\n",
       "    </tr>\n",
       "  </thead>\n",
       "  <tbody>\n",
       "    <tr>\n",
       "      <th>sample : 0</th>\n",
       "      <td>40.495495</td>\n",
       "      <td>4.447101</td>\n",
       "      <td>-12.882116</td>\n",
       "      <td>15.131995</td>\n",
       "      <td>-5.870531</td>\n",
       "      <td>6.788488</td>\n",
       "    </tr>\n",
       "    <tr>\n",
       "      <th>sample : 1</th>\n",
       "      <td>36.981982</td>\n",
       "      <td>4.563347</td>\n",
       "      <td>-6.615780</td>\n",
       "      <td>16.839345</td>\n",
       "      <td>-4.036081</td>\n",
       "      <td>3.249168</td>\n",
       "    </tr>\n",
       "    <tr>\n",
       "      <th>sample : 2</th>\n",
       "      <td>36.441441</td>\n",
       "      <td>3.036709</td>\n",
       "      <td>-8.789300</td>\n",
       "      <td>17.306197</td>\n",
       "      <td>-4.753305</td>\n",
       "      <td>2.184860</td>\n",
       "    </tr>\n",
       "    <tr>\n",
       "      <th>sample : 3</th>\n",
       "      <td>41.027027</td>\n",
       "      <td>5.515239</td>\n",
       "      <td>-10.681413</td>\n",
       "      <td>18.700654</td>\n",
       "      <td>-3.792789</td>\n",
       "      <td>3.693356</td>\n",
       "    </tr>\n",
       "    <tr>\n",
       "      <th>sample : 4</th>\n",
       "      <td>41.126126</td>\n",
       "      <td>3.466659</td>\n",
       "      <td>-9.629827</td>\n",
       "      <td>17.608299</td>\n",
       "      <td>-2.892819</td>\n",
       "      <td>2.326090</td>\n",
       "    </tr>\n",
       "  </tbody>\n",
       "</table>\n",
       "</div>"
      ],
      "text/plain": [
       "                const   Solar.R       Wind       Temp     Month       Day\n",
       "sample : 0  40.495495  4.447101 -12.882116  15.131995 -5.870531  6.788488\n",
       "sample : 1  36.981982  4.563347  -6.615780  16.839345 -4.036081  3.249168\n",
       "sample : 2  36.441441  3.036709  -8.789300  17.306197 -4.753305  2.184860\n",
       "sample : 3  41.027027  5.515239 -10.681413  18.700654 -3.792789  3.693356\n",
       "sample : 4  41.126126  3.466659  -9.629827  17.608299 -2.892819  2.326090"
      ]
     },
     "execution_count": 192,
     "metadata": {},
     "output_type": "execute_result"
    }
   ],
   "source": [
    "import sklearn.utils\n",
    "ListeDeThetaestimé_sample=pd.DataFrame()\n",
    "Comparaison_bootstrap_MCOpur=pd.DataFrame()\n",
    "\n",
    "for i in range(0,10000):\n",
    "    airq_data_resample = sklearn.utils.resample(airq_data,replace='True') # calcul d'un sample (avec remise)\n",
    "    Ysample = airq_data_resample['Ozone']\n",
    "    Xsample = airq_data_resample[['Solar.R', 'Wind', 'Temp', 'Month', 'Day']]\n",
    "    # Centrage et Réduction des variables explicatives\n",
    "    Xsample_mean=np.mean(Xsample)\n",
    "    Xsample_ecartType = np.std(Xsample)\n",
    "    Xsample_rescale = (Xsample - Xsample_mean)/Xsample_ecartType\n",
    "    Xsample_rescale=sm.add_constant(Xsample_rescale)\n",
    "    # MCO sur le sample\n",
    "    theta_estimé_sample = sm.OLS(Ysample,Xsample_rescale).fit().params\n",
    "    ListeDeThetaestimé_sample['sample : '+ str(i)]=theta_estimé_sample\n",
    "# Changement des lignes en colonnes    \n",
    "ListeDeThetaestimé_sample=ListeDeThetaestimé_sample.T\n",
    "\n",
    "# Affichage des coefficients estimés pour les 5 premiers samples   \n",
    "ListeDeThetaestimé_sample.head()"
   ]
  },
  {
   "cell_type": "markdown",
   "metadata": {},
   "source": [
    "Le tableau ci-dessus indique les 5 premiers samples du bootstrap"
   ]
  },
  {
   "cell_type": "code",
   "execution_count": 193,
   "metadata": {
    "collapsed": false
   },
   "outputs": [
    {
     "data": {
      "text/html": [
       "<div>\n",
       "<table border=\"1\" class=\"dataframe\">\n",
       "  <thead>\n",
       "    <tr style=\"text-align: right;\">\n",
       "      <th></th>\n",
       "      <th>MCO pur</th>\n",
       "      <th>bootstr+moy</th>\n",
       "      <th>bootstr+med</th>\n",
       "      <th>moy 3 methodes</th>\n",
       "      <th>std 3 methodes</th>\n",
       "    </tr>\n",
       "  </thead>\n",
       "  <tbody>\n",
       "    <tr>\n",
       "      <th>const</th>\n",
       "      <td>42.099099</td>\n",
       "      <td>42.132126</td>\n",
       "      <td>42.054054</td>\n",
       "      <td>42.095093</td>\n",
       "      <td>0.039190</td>\n",
       "    </tr>\n",
       "    <tr>\n",
       "      <th>Solar.R</th>\n",
       "      <td>4.561931</td>\n",
       "      <td>4.555767</td>\n",
       "      <td>4.532310</td>\n",
       "      <td>4.550003</td>\n",
       "      <td>0.015629</td>\n",
       "    </tr>\n",
       "    <tr>\n",
       "      <th>Wind</th>\n",
       "      <td>-11.752771</td>\n",
       "      <td>-11.769421</td>\n",
       "      <td>-11.598757</td>\n",
       "      <td>-11.706983</td>\n",
       "      <td>0.094095</td>\n",
       "    </tr>\n",
       "    <tr>\n",
       "      <th>Temp</th>\n",
       "      <td>17.985220</td>\n",
       "      <td>17.920518</td>\n",
       "      <td>17.927396</td>\n",
       "      <td>17.944378</td>\n",
       "      <td>0.035537</td>\n",
       "    </tr>\n",
       "    <tr>\n",
       "      <th>Month</th>\n",
       "      <td>-4.458953</td>\n",
       "      <td>-4.449060</td>\n",
       "      <td>-4.451094</td>\n",
       "      <td>-4.453035</td>\n",
       "      <td>0.005225</td>\n",
       "    </tr>\n",
       "    <tr>\n",
       "      <th>Day</th>\n",
       "      <td>2.373939</td>\n",
       "      <td>2.378119</td>\n",
       "      <td>2.357009</td>\n",
       "      <td>2.369689</td>\n",
       "      <td>0.011178</td>\n",
       "    </tr>\n",
       "  </tbody>\n",
       "</table>\n",
       "</div>"
      ],
      "text/plain": [
       "           MCO pur  bootstr+moy  bootstr+med  moy 3 methodes  std 3 methodes\n",
       "const    42.099099    42.132126    42.054054       42.095093        0.039190\n",
       "Solar.R   4.561931     4.555767     4.532310        4.550003        0.015629\n",
       "Wind    -11.752771   -11.769421   -11.598757      -11.706983        0.094095\n",
       "Temp     17.985220    17.920518    17.927396       17.944378        0.035537\n",
       "Month    -4.458953    -4.449060    -4.451094       -4.453035        0.005225\n",
       "Day       2.373939     2.378119     2.357009        2.369689        0.011178"
      ]
     },
     "execution_count": 193,
     "metadata": {},
     "output_type": "execute_result"
    }
   ],
   "source": [
    "# Comparaison des valeurs de l'exercice 1 et du bootstrap \n",
    "Comparaison_bootstrap_MCOpur[\"MCO pur\"]=thetaChapeau\n",
    "Comparaison_bootstrap_MCOpur[\"bootstr+moy\"]=ListeDeThetaestimé_sample.mean()\n",
    "Comparaison_bootstrap_MCOpur[\"bootstr+med\"]=ListeDeThetaestimé_sample.median()\n",
    "Moyenne_des_coefficients=Comparaison_bootstrap_MCOpur.mean(axis=1)\n",
    "Ecart_type_des_coefficients=Comparaison_bootstrap_MCOpur.std(axis=1)\n",
    "\n",
    "Comparaison_bootstrap_MCOpur[\"moy 3 methodes\"]=Moyenne_des_coefficients\n",
    "Comparaison_bootstrap_MCOpur[\"std 3 methodes\"]=Ecart_type_des_coefficients\n",
    "\n",
    "Comparaison_bootstrap_MCOpur "
   ]
  },
  {
   "cell_type": "markdown",
   "metadata": {},
   "source": [
    "Commentaire : La moyenne ou la médiane des échantillons du bootstrap permettent d'approcher les coefficients avec une précision interessante au regard de l'écart-type à la moyenne des 3 méthodes"
   ]
  },
  {
   "cell_type": "markdown",
   "metadata": {},
   "source": [
    "### 2/Intervalle de confiance de niveau 99% avec les quantiles empiriques de bootstrap"
   ]
  },
  {
   "cell_type": "code",
   "execution_count": 194,
   "metadata": {
    "collapsed": false
   },
   "outputs": [
    {
     "data": {
      "text/html": [
       "<div>\n",
       "<table border=\"1\" class=\"dataframe\">\n",
       "  <thead>\n",
       "    <tr style=\"text-align: right;\">\n",
       "      <th></th>\n",
       "      <th>const</th>\n",
       "      <th>Solar.R</th>\n",
       "      <th>Wind</th>\n",
       "      <th>Temp</th>\n",
       "      <th>Month</th>\n",
       "      <th>Day</th>\n",
       "    </tr>\n",
       "  </thead>\n",
       "  <tbody>\n",
       "    <tr>\n",
       "      <th>0.005</th>\n",
       "      <td>34.189144</td>\n",
       "      <td>-0.134182</td>\n",
       "      <td>-19.990714</td>\n",
       "      <td>11.932757</td>\n",
       "      <td>-9.480974</td>\n",
       "      <td>-3.040282</td>\n",
       "    </tr>\n",
       "    <tr>\n",
       "      <th>0.995</th>\n",
       "      <td>50.414820</td>\n",
       "      <td>9.343756</td>\n",
       "      <td>-5.016349</td>\n",
       "      <td>23.784856</td>\n",
       "      <td>0.678868</td>\n",
       "      <td>7.719075</td>\n",
       "    </tr>\n",
       "  </tbody>\n",
       "</table>\n",
       "</div>"
      ],
      "text/plain": [
       "           const   Solar.R       Wind       Temp     Month       Day\n",
       "0.005  34.189144 -0.134182 -19.990714  11.932757 -9.480974 -3.040282\n",
       "0.995  50.414820  9.343756  -5.016349  23.784856  0.678868  7.719075"
      ]
     },
     "execution_count": 194,
     "metadata": {},
     "output_type": "execute_result"
    }
   ],
   "source": [
    "#Calcul de l'IC\n",
    "ListeDeThetaestimé_sample.quantile([.005,.995])"
   ]
  },
  {
   "cell_type": "markdown",
   "metadata": {
    "collapsed": true
   },
   "source": [
    "### 3) impact du nombre d'échantillon du bootstrap (example de la variable 'Wind')"
   ]
  },
  {
   "cell_type": "code",
   "execution_count": 195,
   "metadata": {
    "collapsed": false
   },
   "outputs": [
    {
     "data": {
      "image/png": "[encoded data removed]",
      "text/plain": [
       "<matplotlib.figure.Figure at 0x10db8a550>"
      ]
     },
     "metadata": {},
     "output_type": "display_data"
    }
   ],
   "source": [
    "tableau_de_IC=pd.DataFrame(columns=[\"B\",'0.005','0.995','MED'])\n",
    "for i in np.linspace(1,5001,11):\n",
    "    tableau_de_IC.loc[int(i),\"B\"]=int(i)\n",
    "    tableau_de_IC.loc[int(i),'0.005']=ListeDeThetaestimé_sample[0:int(i)].quantile([.005]).iloc[0,2]\n",
    "    tableau_de_IC.loc[int(i),'0.995']=ListeDeThetaestimé_sample[0:int(i)].quantile([.995]).iloc[0,2]\n",
    "    tableau_de_IC.loc[int(i),'MED']=ListeDeThetaestimé_sample.iloc[0:int(i),2].median()\n",
    "\n",
    "fig = plt.figure(figsize=(10, 7))\n",
    "plt.xlim(xmin=0, xmax=5000)\n",
    "plt.ylim(ymin=-22, ymax=0)\n",
    "xlabels = 'B (Nombre de Samples)'\n",
    "ylabels = ' '\n",
    "\n",
    "plt.plot(tableau_de_IC.iloc[:,0],tableau_de_IC.iloc[:,1],'b--',label=\"IC min\")\n",
    "plt.plot(tableau_de_IC.iloc[:,0],tableau_de_IC.iloc[:,2],'g--',label=\"IC max\")\n",
    "plt.plot(tableau_de_IC.iloc[:,0],tableau_de_IC.iloc[:,3],linewidth=3,color='red',label=\"Mediane du coefficient\")\n",
    "\n",
    "plt.legend(numpoints=1, loc=2)\n",
    "plt.xlabel(xlabels), plt.ylabel(ylabels)\n",
    "plt.title(\"Impact du nombre d'échantillons bootstrap sur l'intervalle de confiance pour la variable 'Wind'\")\n",
    "plt.tight_layout()\n",
    "plt.show()"
   ]
  },
  {
   "cell_type": "markdown",
   "metadata": {},
   "source": [
    "#### commentaire : convergence rapide (à partir de 500 échantillons). Il n'est pas utile de prendre plus"
   ]
  },
  {
   "cell_type": "markdown",
   "metadata": {
    "collapsed": true
   },
   "source": [
    "## 4) régression de Ozone sur wind"
   ]
  },
  {
   "cell_type": "code",
   "execution_count": 196,
   "metadata": {
    "collapsed": false,
    "scrolled": true
   },
   "outputs": [
    {
     "name": "stderr",
     "output_type": "stream",
     "text": [
      "/Users/florian/anaconda/lib/python3.4/site-packages/matplotlib/collections.py:590: FutureWarning: elementwise comparison failed; returning scalar instead, but in the future will perform elementwise comparison\n",
      "  if self._edgecolors == str('face'):\n"
     ]
    },
    {
     "data": {
      "text/plain": [
       "<seaborn.axisgrid.FacetGrid at 0x110556da0>"
      ]
     },
     "execution_count": 196,
     "metadata": {},
     "output_type": "execute_result"
    },
    {
     "data": {
      "image/png": "[encoded data removed]",
      "text/plain": [
       "<matplotlib.figure.Figure at 0x10db68860>"
      ]
     },
     "metadata": {},
     "output_type": "display_data"
    }
   ],
   "source": [
    "sns.lmplot('Wind','Ozone',hue='Month',data=airq_data,size=5)"
   ]
  },
  {
   "cell_type": "markdown",
   "metadata": {},
   "source": [
    "Commentaire : Alors que sur tous les mois (sauf juin) , la concentration en ozone diminue avec le vent, c'est l'inverse pour juin"
   ]
  },
  {
   "cell_type": "markdown",
   "metadata": {
    "collapsed": true
   },
   "source": [
    "# EXERCICE 3"
   ]
  },
  {
   "cell_type": "markdown",
   "metadata": {},
   "source": [
    "### 1) fonction stepforward"
   ]
  },
  {
   "cell_type": "code",
   "execution_count": 197,
   "metadata": {
    "collapsed": true
   },
   "outputs": [],
   "source": [
    "def stpforward(Y,Xrescale,M,fit_intercept=True):\n",
    "    \n",
    "    # initialisation des variables\n",
    "    r=Y\n",
    "    S=[]\n",
    "    Indice_debut_de_matrice = 0\n",
    "    \n",
    "    # cas où on veut récupérer theta0\n",
    "    if fit_intercept == True: \n",
    "        Xrescale=sm.add_constant(Xrescale)\n",
    "        S.append(0)\n",
    "        Indice_debut_de_matrice=1\n",
    "    \n",
    "    # début de l'algorithme (boucle sur le nombre de paramètres à ajouter)\n",
    "    for m in range(0,M):\n",
    "        Fitting_max = 0 # initialisation de la variable \"résultat du produit scalaire\"       \n",
    "        \n",
    "        # calcul du max du produit scalaire |<Xj,r>| pour tout j\n",
    "        for j in range(Indice_debut_de_matrice,Xrescale.shape[1]):\n",
    "            Fitting_Xj_Y =  np.abs(np.dot(Xrescale[:,j].T,r))\n",
    "            if (Fitting_Xj_Y >= Fitting_max and j not in S):\n",
    "                Fitting_max = Fitting_Xj_Y\n",
    "                indiceJ=j\n",
    "        # Ajout du max trouvé au tableau S        \n",
    "        S.append(indiceJ)\n",
    "        \n",
    "        #Calcul de la régression sur les anciennes colonnes X plus la dernière ajoutée\n",
    "        Xs=Xrescale[:,S]\n",
    "        thetaInt = sm.OLS(Y,Xs).fit().params\n",
    "        r=Y-np.dot(Xs,thetaInt)\n",
    "    \n",
    "    #thetaS est sparse\n",
    "    thetaS=thetaInt.as_matrix()\n",
    "    \n",
    "    # construction du vecteur theta non sparse\n",
    "    theta=np.zeros(Xrescale.shape[1])\n",
    "    indice_depart=0\n",
    "    for j in S:\n",
    "            theta[j]=thetaS[indice_depart]\n",
    "            indice_depart +=1\n",
    "    \n",
    "    # retour de theta sparse et de la liste ordonnée des indices choisis\n",
    "    return theta,S"
   ]
  },
  {
   "cell_type": "markdown",
   "metadata": {},
   "source": [
    "### 2) Création de la classe MYOMP"
   ]
  },
  {
   "cell_type": "code",
   "execution_count": 198,
   "metadata": {
    "collapsed": false
   },
   "outputs": [],
   "source": [
    "from sklearn.linear_model.base import LinearModel, _pre_fit\n",
    "from sklearn.base import RegressorMixin\n",
    "\n",
    "class MYOMP(LinearModel, RegressorMixin):\n",
    "    def __init__(self, n_nonzero_coefs=None, fit_intercept=True,normalize=True, precompute='auto'):\n",
    "        self.n_nonzero_coefs = n_nonzero_coefs\n",
    "        self.fit_intercept = fit_intercept\n",
    "        self.normalize = normalize\n",
    "        self.precompute = precompute\n",
    "        \n",
    "    def fit(self, X, y):\n",
    "        X, y, X_mean, y_mean, X_std, Gram, Xy = _pre_fit(X, y, None, self.precompute, self.normalize, self.fit_intercept, copy=True)\n",
    "        self.coef_ = np.zeros([X.shape[1], ])    \n",
    "        #Appel de la fonction stpForward \n",
    "        self.coef_,self.S = stpforward(y,X,self.n_nonzero_coefs,False)\n",
    "        self._set_intercept(X_mean, y_mean, X_std)\n",
    "        return self"
   ]
  },
  {
   "cell_type": "markdown",
   "metadata": {},
   "source": [
    "### 3) Application de MYOMP à AIRQUALITY pour M=3,4,5"
   ]
  },
  {
   "cell_type": "code",
   "execution_count": 199,
   "metadata": {
    "collapsed": false
   },
   "outputs": [
    {
     "name": "stdout",
     "output_type": "stream",
     "text": [
      "Les coordonnées de theta, pour M= 3 , sont : [ 0.05982059 -3.33359131  1.65209291  0.          0.        ]\n",
      "la liste S des indices des variables utilisées (dans l'ordre de sélection) : [2, 1, 0] \n",
      "\n",
      "Les coordonnées de theta, pour M= 4 , sont : [ 0.04959683 -3.3165094   1.87087379 -2.99162786  0.        ]\n",
      "la liste S des indices des variables utilisées (dans l'ordre de sélection) : [2, 1, 0, 3] \n",
      "\n",
      "Les coordonnées de theta, pour M= 5 , sont : [ 0.05027432 -3.31844386  1.89578642 -3.03995664  0.27387752]\n",
      "la liste S des indices des variables utilisées (dans l'ordre de sélection) : [2, 1, 0, 3, 4] \n",
      "\n"
     ]
    }
   ],
   "source": [
    "for M in range(3,6):\n",
    "    a=MYOMP(M)\n",
    "    a.fit(X,Y)\n",
    "    print(\"Les coordonnées de theta, pour M=\",M,\", sont :\",a.coef_)\n",
    "    print(\"la liste S des indices des variables utilisées (dans l'ordre de sélection) :\",a.S,\"\\n\")"
   ]
  },
  {
   "cell_type": "markdown",
   "metadata": {},
   "source": [
    "### 4) Utilisation de  la fonction OrthogonalMatchingPursuit de sklearn"
   ]
  },
  {
   "cell_type": "code",
   "execution_count": 200,
   "metadata": {
    "collapsed": false
   },
   "outputs": [
    {
     "name": "stdout",
     "output_type": "stream",
     "text": [
      "Les coordonnées de theta, pour M= 3 , sont : [ 0.05982059 -3.33359131  1.65209291  0.          0.        ]\n",
      "Les coordonnées de theta, pour M= 4 , sont : [ 0.04959683 -3.3165094   1.87087379 -2.99162786  0.        ]\n",
      "Les coordonnées de theta, pour M= 5 , sont : [ 0.05027432 -3.31844386  1.89578642 -3.03995664  0.27387752]\n"
     ]
    }
   ],
   "source": [
    "from sklearn.linear_model import OrthogonalMatchingPursuit\n",
    "\n",
    "for  M in range(3,6):    \n",
    "    omp = OrthogonalMatchingPursuit(n_nonzero_coefs=M, normalize = True)\n",
    "    omp.fit(X, Y)\n",
    "    print (\"Les coordonnées de theta, pour M=\",M,\", sont :\",omp.coef_)"
   ]
  },
  {
   "cell_type": "markdown",
   "metadata": {
    "collapsed": true
   },
   "source": [
    "Les sorties de l'algorithme codé précédamment et de la fonction OrthogonalMatchingPursuit de Scikit-Learn sont rigoureusement identiques"
   ]
  },
  {
   "cell_type": "markdown",
   "metadata": {},
   "source": [
    "### 5) Utilisation de la validation croisée pour choisir le nombre de variables à garder"
   ]
  },
  {
   "cell_type": "code",
   "execution_count": 201,
   "metadata": {
    "collapsed": false
   },
   "outputs": [
    {
     "name": "stdout",
     "output_type": "stream",
     "text": [
      "{'M=1': 22373.08731449072, 'M=3': 4578.1232778484746, 'M=4': 3787.658650926589, 'M=5': 4531.4304125375293, 'M=2': 4974.9358076631934}\n"
     ]
    }
   ],
   "source": [
    "from sklearn.cross_validation import KFold\n",
    "kf=KFold(n=X.shape[0],n_folds=X.shape[0],shuffle=True,random_state=2)\n",
    "\n",
    "Normes_Residus_par_M = {} # dictionnaire qui contiendra les normes quadratiques des résidus moyens pour chaque M\n",
    "\n",
    "for M in range(1,6):\n",
    "    #greedy sur M varaibles\n",
    "    omp = OrthogonalMatchingPursuit(n_nonzero_coefs=M, normalize = True)\n",
    "    tableau_des_normes_residus=[]\n",
    "    \n",
    "    for train_index, test_index in kf:\n",
    "        omp.fit(X.iloc[train_index,:],Y.iloc[train_index])\n",
    "        # calcul de la norme quadratique du résidu\n",
    "        residu_sample=Y.iloc[test_index]-np.dot(X.iloc[test_index,:],omp.coef_)\n",
    "        norme_carré_residu_sample=np.dot(residu_sample.T,residu_sample)\n",
    "        tableau_des_normes_residus.append(norme_carré_residu_sample)\n",
    "    # Moyenne des normes quadratiques des résidus pour M fixé\n",
    "    moyenne_norme_carre_residu_sample=sum(tableau_des_normes_residus)/len(tableau_des_normes_residus)\n",
    "    Normes_Residus_par_M[\"M=\"+str(M)]= moyenne_norme_carre_residu_sample\n",
    "\n",
    "print(Normes_Residus_par_M)"
   ]
  },
  {
   "cell_type": "markdown",
   "metadata": {},
   "source": [
    "#### La plus petite norme des résidus sur le test_set apparait pour M=4 qui est donc la valeur optimale à prendre"
   ]
  }
 ],
 "metadata": {
  "kernelspec": {
   "display_name": "Python 3",
   "language": "python",
   "name": "python3"
  },
  "language_info": {
   "codemirror_mode": {
    "name": "ipython",
    "version": 3
   },
   "file_extension": ".py",
   "mimetype": "text/x-python",
   "name": "python",
   "nbconvert_exporter": "python",
   "pygments_lexer": "ipython3",
   "version": "3.4.3"
  }
 },
 "nbformat": 4,
 "nbformat_minor": 0
}
