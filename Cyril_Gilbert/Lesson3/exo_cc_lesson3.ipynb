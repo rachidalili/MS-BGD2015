{
 "cells": [
  {
   "cell_type": "code",
   "execution_count": 2,
   "metadata": {
    "collapsed": true
   },
   "outputs": [],
   "source": [
    "import requests\n",
    "from bs4 import BeautifulSoup"
   ]
  },
  {
   "cell_type": "code",
   "execution_count": 3,
   "metadata": {
    "collapsed": false
   },
   "outputs": [
    {
     "name": "stdout",
     "output_type": "stream",
     "text": [
      "http://www.cdiscount.com/search/10/acer+aspire.html#_his_\n",
      "title  Acer PC Portable Aspire ES1-711-C53G\n"
     ]
    },
    {
     "ename": "KeyError",
     "evalue": "0",
     "output_type": "error",
     "traceback": [
      "\u001b[1;31m---------------------------------------------------------------------------\u001b[0m",
      "\u001b[1;31mKeyError\u001b[0m                                  Traceback (most recent call last)",
      "\u001b[1;32m<ipython-input-3-49a298f87fc1>\u001b[0m in \u001b[0;36m<module>\u001b[1;34m()\u001b[0m\n\u001b[0;32m     28\u001b[0m \u001b[0mNameInForm\u001b[0m \u001b[1;33m=\u001b[0m \u001b[0mFromTextToTextWithPlus\u001b[0m\u001b[1;33m(\u001b[0m\u001b[0mNameProduct\u001b[0m\u001b[1;33m)\u001b[0m\u001b[1;33m\u001b[0m\u001b[0m\n\u001b[0;32m     29\u001b[0m \u001b[1;33m\u001b[0m\u001b[0m\n\u001b[1;32m---> 30\u001b[1;33m \u001b[0mGetInfo\u001b[0m\u001b[1;33m(\u001b[0m\u001b[0mNameInForm\u001b[0m\u001b[1;33m)\u001b[0m\u001b[1;33m\u001b[0m\u001b[0m\n\u001b[0m",
      "\u001b[1;32m<ipython-input-3-49a298f87fc1>\u001b[0m in \u001b[0;36mGetInfo\u001b[1;34m(NameProduct)\u001b[0m\n\u001b[0;32m     17\u001b[0m         \u001b[0mtitle\u001b[0m \u001b[1;33m=\u001b[0m \u001b[0mtiles_links\u001b[0m\u001b[1;33m.\u001b[0m\u001b[0mfindAll\u001b[0m\u001b[1;33m(\u001b[0m\u001b[1;34m\"div\"\u001b[0m\u001b[1;33m,\u001b[0m \u001b[1;33m{\u001b[0m\u001b[1;34m\"class\"\u001b[0m\u001b[1;33m:\u001b[0m \u001b[1;34m\"prdtBTit\"\u001b[0m\u001b[1;33m}\u001b[0m\u001b[1;33m)\u001b[0m\u001b[1;33m[\u001b[0m\u001b[1;36m0\u001b[0m\u001b[1;33m]\u001b[0m\u001b[1;33m.\u001b[0m\u001b[0mtext\u001b[0m\u001b[1;33m\u001b[0m\u001b[0m\n\u001b[0;32m     18\u001b[0m         \u001b[1;32mprint\u001b[0m \u001b[1;34m'title '\u001b[0m\u001b[1;33m,\u001b[0m \u001b[0mtitle\u001b[0m\u001b[1;33m\u001b[0m\u001b[0m\n\u001b[1;32m---> 19\u001b[1;33m         \u001b[0moldPrice\u001b[0m \u001b[1;33m=\u001b[0m \u001b[0mtiles_links\u001b[0m\u001b[1;33m.\u001b[0m\u001b[0mfind\u001b[0m\u001b[1;33m(\u001b[0m\u001b[1;34m\"div\"\u001b[0m\u001b[1;33m,\u001b[0m \u001b[1;33m{\u001b[0m\u001b[1;34m\"class\"\u001b[0m\u001b[1;33m:\u001b[0m \u001b[1;34m\"prdtPrSt\"\u001b[0m\u001b[1;33m}\u001b[0m\u001b[1;33m)\u001b[0m\u001b[1;33m[\u001b[0m\u001b[1;36m0\u001b[0m\u001b[1;33m]\u001b[0m\u001b[1;33m.\u001b[0m\u001b[0mtext\u001b[0m\u001b[1;33m\u001b[0m\u001b[0m\n\u001b[0m\u001b[0;32m     20\u001b[0m         \u001b[1;32mif\u001b[0m \u001b[0moldPrice\u001b[0m \u001b[1;32mis\u001b[0m \u001b[1;32mnot\u001b[0m \u001b[0mNone\u001b[0m \u001b[1;33m:\u001b[0m\u001b[1;33m\u001b[0m\u001b[0m\n\u001b[0;32m     21\u001b[0m             \u001b[1;32mprint\u001b[0m \u001b[1;34m'oldPrice '\u001b[0m\u001b[1;33m,\u001b[0m \u001b[0moldPrice\u001b[0m\u001b[1;33m\u001b[0m\u001b[0m\n",
      "\u001b[1;32m/cal/softs/anaconda/anaconda-2.0.1/lib/python2.7/site-packages/bs4/element.pyc\u001b[0m in \u001b[0;36m__getitem__\u001b[1;34m(self, key)\u001b[0m\n\u001b[0;32m    903\u001b[0m         \"\"\"tag[key] returns the value of the 'key' attribute for the tag,\n\u001b[0;32m    904\u001b[0m         and throws an exception if it's not there.\"\"\"\n\u001b[1;32m--> 905\u001b[1;33m         \u001b[1;32mreturn\u001b[0m \u001b[0mself\u001b[0m\u001b[1;33m.\u001b[0m\u001b[0mattrs\u001b[0m\u001b[1;33m[\u001b[0m\u001b[0mkey\u001b[0m\u001b[1;33m]\u001b[0m\u001b[1;33m\u001b[0m\u001b[0m\n\u001b[0m\u001b[0;32m    906\u001b[0m \u001b[1;33m\u001b[0m\u001b[0m\n\u001b[0;32m    907\u001b[0m     \u001b[1;32mdef\u001b[0m \u001b[0m__iter__\u001b[0m\u001b[1;33m(\u001b[0m\u001b[0mself\u001b[0m\u001b[1;33m)\u001b[0m\u001b[1;33m:\u001b[0m\u001b[1;33m\u001b[0m\u001b[0m\n",
      "\u001b[1;31mKeyError\u001b[0m: 0"
     ]
    }
   ],
   "source": [
    "def GetSoupFromUrl(url):\n",
    "    request = requests.get(url)\n",
    "    return BeautifulSoup(request.text, 'html.parser')\n",
    "\n",
    "def FromTestToInt(txt):\n",
    "    return int(txt.replace(u'\\u20ac', u' ').replace(' ', ''))\n",
    "\n",
    "def FromTextToTextWithPlus(txt):\n",
    "    return txt.replace(' ', '+')\n",
    "\n",
    "def GetInfo(NameProduct):\n",
    "    url = 'http://www.cdiscount.com/search/10/' + NameProduct + '.html#_his_'\n",
    "    print(url)\n",
    "    soup = GetSoupFromUrl(url)\n",
    "    tile = soup.findAll(\"div\", {\"class\": \"prdtBloc\"})\n",
    "    for tiles_links in tile:\n",
    "        title = tiles_links.findAll(\"div\", {\"class\": \"prdtBTit\"})[0].text\n",
    "        print 'title ', title\n",
    "        oldPrice = tiles_links.find(\"div\", {\"class\": \"prdtPrSt\"})[0].text\n",
    "        if oldPrice is not None :\n",
    "            print 'oldPrice ', oldPrice\n",
    "        newPrice = tiles_links.findAll(\"span\", {\"class\": \"price\"})[0].text\n",
    "        print 'newPrice ', newPrice\n",
    "        Des = tiles_links.findAll(\"p\", {\"class\": \"prdtBDesc\"})[0].text\n",
    "        print 'Description ', Des\n",
    "\n",
    "NameProduct = 'acer aspire'\n",
    "NameInForm = FromTextToTextWithPlus(NameProduct)\n",
    "\n",
    "GetInfo(NameInForm)"
   ]
  }
 ],
 "metadata": {
  "kernelspec": {
   "display_name": "Python 2",
   "language": "python",
   "name": "python2"
  },
  "language_info": {
   "codemirror_mode": {
    "name": "ipython",
    "version": 2
   },
   "file_extension": ".py",
   "mimetype": "text/x-python",
   "name": "python",
   "nbconvert_exporter": "python",
   "pygments_lexer": "ipython2",
   "version": "2.7.10"
  }
 },
 "nbformat": 4,
 "nbformat_minor": 0
}
