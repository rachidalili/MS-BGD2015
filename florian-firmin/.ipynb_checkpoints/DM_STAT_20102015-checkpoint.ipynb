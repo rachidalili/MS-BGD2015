{
 "cells": [
  {
   "cell_type": "code",
   "execution_count": 5,
   "metadata": {
    "collapsed": false
   },
   "outputs": [],
   "source": [
    "# Importation des librairies\n",
    "import seaborn as sns\n",
    "import pandas as pd\n",
    "import numpy as np\n",
    "import statsmodels.api as sm\n",
    "from mpl_toolkits.mplot3d import Axes3D\n",
    "import matplotlib.pyplot as plt"
   ]
  },
  {
   "cell_type": "markdown",
   "metadata": {},
   "source": [
    "On impose les graphiques *inline*, avec des dimensions standard."
   ]
  },
  {
   "cell_type": "code",
   "execution_count": 6,
   "metadata": {
    "collapsed": true
   },
   "outputs": [],
   "source": [
    "%matplotlib inline\n",
    "sns.set_context('notebook')\n",
    "sns.set_style('darkgrid')\n",
    "sns.set_palette('colorblind')"
   ]
  },
  {
   "cell_type": "markdown",
   "metadata": {},
   "source": [
    "## 1) Écrire mathématiquement le modèle linéaire correspondant."
   ]
  },
  {
   "cell_type": "markdown",
   "metadata": {},
   "source": [
    "Si l'on considère p variables explicatives d'une valeur y, le modèle correspondant s'écrit :\n",
    "\n",
    "\n",
    "\n"
   ]
  },
  {
   "cell_type": "markdown",
   "metadata": {},
   "source": [
    "$y_i = {\\theta}_0^{*} + \\sum_{j=1}^{p} {\\theta}_j^{*}x_{ij} + {\\epsilon}_i$    \n",
    "avec : ${\\epsilon}_i = {\\cal{N}}(0,{\\sigma}^2)~~~~~~~~~~ \\forall i = 1,...,n$"
   ]
  },
  {
   "cell_type": "markdown",
   "metadata": {},
   "source": [
    "Les bruits étant supposés i.i.d, gaussiens, un estimateur naturel des ${\\theta}_j^{*}$ s'obtient par la méthode des moindres carrés."
   ]
  },
  {
   "cell_type": "markdown",
   "metadata": {},
   "source": [
    "## 2+3) Récupérer le jeu de données"
   ]
  },
  {
   "cell_type": "code",
   "execution_count": 1,
   "metadata": {
    "collapsed": false
   },
   "outputs": [
    {
     "ename": "NameError",
     "evalue": "name 'pd' is not defined",
     "output_type": "error",
     "traceback": [
      "\u001b[0;31m---------------------------------------------------------------------------\u001b[0m",
      "\u001b[0;31mNameError\u001b[0m                                 Traceback (most recent call last)",
      "\u001b[0;32m<ipython-input-1-e5bb78f00fee>\u001b[0m in \u001b[0;36m<module>\u001b[0;34m()\u001b[0m\n\u001b[1;32m      3\u001b[0m \u001b[0;31m#airq_data.to_csv('airq_csv')\u001b[0m\u001b[0;34m\u001b[0m\u001b[0;34m\u001b[0m\u001b[0m\n\u001b[1;32m      4\u001b[0m \u001b[0;31m# On affiche les infos du dataset\u001b[0m\u001b[0;34m\u001b[0m\u001b[0;34m\u001b[0m\u001b[0m\n\u001b[0;32m----> 5\u001b[0;31m \u001b[0mair_data\u001b[0m\u001b[0;34m=\u001b[0m\u001b[0mpd\u001b[0m\u001b[0;34m.\u001b[0m\u001b[0mread_csv\u001b[0m\u001b[0;34m(\u001b[0m\u001b[0;34m'airq_csv'\u001b[0m\u001b[0;34m)\u001b[0m\u001b[0;34m\u001b[0m\u001b[0m\n\u001b[0m\u001b[1;32m      6\u001b[0m \u001b[0;31m#print (airq.__doc__)\u001b[0m\u001b[0;34m\u001b[0m\u001b[0;34m\u001b[0m\u001b[0m\n\u001b[1;32m      7\u001b[0m \u001b[0mairq_data\u001b[0m\u001b[0;34m.\u001b[0m\u001b[0mhead\u001b[0m\u001b[0;34m(\u001b[0m\u001b[0;34m)\u001b[0m\u001b[0;34m\u001b[0m\u001b[0m\n",
      "\u001b[0;31mNameError\u001b[0m: name 'pd' is not defined"
     ]
    }
   ],
   "source": [
    "#airq = sm.datasets.get_rdataset('airquality')\n",
    "#airq_data = sm.datasets.get_rdataset('airquality').data\n",
    "#airq_data.to_csv('airq_csv')\n",
    "# On affiche les infos du dataset\n",
    "air_data=pd.read_csv('airq_csv')\n",
    "#print (airq.__doc__)\n",
    "airq_data.head()"
   ]
  },
  {
   "cell_type": "code",
   "execution_count": 22,
   "metadata": {
    "collapsed": false
   },
   "outputs": [
    {
     "name": "stdout",
     "output_type": "stream",
     "text": [
      "Nombre d'observations avant suppression des lignes avec des vides :153\n",
      "Nombre d'observations après suppression des lignes avec des vides :111\n"
     ]
    }
   ],
   "source": [
    "#Suppression des lignes avec des paramètres vides\n",
    "print(\"Nombre d'observations avant suppression des lignes avec des vides :\"+str(len(airq_data)))\n",
    "airq_data = airq_data.dropna()\n",
    "print(\"Nombre d'observations après suppression des lignes avec des vides :\"+str(len(airq_data)))"
   ]
  },
  {
   "cell_type": "markdown",
   "metadata": {},
   "source": [
    "## 4) Ajuster le modèle par la méthode des moindres carrés après avoir centré-réduits les variables"
   ]
  },
  {
   "cell_type": "code",
   "execution_count": 23,
   "metadata": {
    "collapsed": false
   },
   "outputs": [
    {
     "data": {
      "text/plain": [
       "const      42.099099\n",
       "Solar.R     4.561931\n",
       "Wind      -11.752771\n",
       "Temp       17.985220\n",
       "Month      -4.458953\n",
       "Day         2.373939\n",
       "dtype: float64"
      ]
     },
     "execution_count": 23,
     "metadata": {},
     "output_type": "execute_result"
    }
   ],
   "source": [
    "# définition des variables explicatives et de la variable à estimer\n",
    "X = airq_data[['Solar.R', 'Wind', 'Temp', 'Month', 'Day']]\n",
    "Y = airq_data['Ozone']\n",
    "\n",
    "# Centrage et Réduction des variables explicatives\n",
    "X_mean=np.mean(X)\n",
    "X_ecartType = np.std(X)\n",
    "Xrescale = (X - X_mean)/X_ecartType\n",
    "Xrescale=sm.add_constant(Xrescale)\n",
    "\n",
    "# Calcul des paramètres de l'estimateur des moindres carrés avec statsmodels\n",
    "thetaChapeau = sm.OLS(Y,Xrescale).fit().params\n",
    "\n",
    "thetaChapeau"
   ]
  },
  {
   "cell_type": "markdown",
   "metadata": {},
   "source": [
    "##### Remarque : influence importante du vent et de la température sur le niveau d'ozone"
   ]
  },
  {
   "cell_type": "markdown",
   "metadata": {},
   "source": [
    "## 5) Estimateur sans biais de la variance du bruit"
   ]
  },
  {
   "cell_type": "markdown",
   "metadata": {},
   "source": [
    "L'estimateur  sans biais de la variance du bruit s'écrit : ${\\widehat\\sigma}^2 = \\frac{1}{n-rg(X)}{\\left \\| y - X{\\widehat\\theta} \\right \\|}^2_2$"
   ]
  },
  {
   "cell_type": "code",
   "execution_count": 23,
   "metadata": {
    "collapsed": false
   },
   "outputs": [
    {
     "data": {
      "text/plain": [
       "430.97000000000003"
      ]
     },
     "execution_count": 23,
     "metadata": {},
     "output_type": "execute_result"
    }
   ],
   "source": [
    "#calcul du résultat ci-dessus avec nos données\n",
    "rang = sm.OLS(Y,Xrescale).fit().df_model # rang de la matrice de régression\n",
    "n=len(airq_data) # nombre d'observations sans NA\n",
    "Y_moinsXTheta=Y-np.dot(Xrescale,thetaChapeau)\n",
    "sigmaCarre = (1/(n-rang))*np.dot(Y_moinsXTheta.T,Y_moinsXTheta)\n",
    "print(round(sigmaCarre,2)) # Valeur numérique de la variance"
   ]
  },
  {
   "cell_type": "markdown",
   "metadata": {},
   "source": [
    "### 6) Intervalle de confiance de niveau 0.01 pour la quantité ${\\widehat\\theta}$"
   ]
  },
  {
   "cell_type": "code",
   "execution_count": 7,
   "metadata": {
    "collapsed": false
   },
   "outputs": [],
   "source": [
    "# IC pourt les moindres carrés\n",
    "import scipy.stats \n",
    "ordreQuantile = 1-(0.01/2) # quantile de la loi de Student \n",
    "quantileOrdre0995 = scipy.stats.t.ppf(ordreQuantile,n-rang-1)\n"
   ]
  },
  {
   "cell_type": "code",
   "execution_count": 18,
   "metadata": {
    "collapsed": false
   },
   "outputs": [
    {
     "data": {
      "text/html": [
       "<div>\n",
       "<table border=\"1\" class=\"dataframe\">\n",
       "  <thead>\n",
       "    <tr style=\"text-align: right;\">\n",
       "      <th></th>\n",
       "      <th>Valeur estimée</th>\n",
       "      <th>Marge Inf à 99%</th>\n",
       "      <th>Marge Sup à 99%</th>\n",
       "    </tr>\n",
       "  </thead>\n",
       "  <tbody>\n",
       "    <tr>\n",
       "      <th>const</th>\n",
       "      <td>42.099099</td>\n",
       "      <td>36.929726</td>\n",
       "      <td>47.268472</td>\n",
       "    </tr>\n",
       "    <tr>\n",
       "      <th>Solar.R</th>\n",
       "      <td>4.561931</td>\n",
       "      <td>-0.986633</td>\n",
       "      <td>10.110494</td>\n",
       "    </tr>\n",
       "    <tr>\n",
       "      <th>Wind</th>\n",
       "      <td>-11.752771</td>\n",
       "      <td>-17.712853</td>\n",
       "      <td>-5.792689</td>\n",
       "    </tr>\n",
       "    <tr>\n",
       "      <th>Temp</th>\n",
       "      <td>17.985220</td>\n",
       "      <td>11.200770</td>\n",
       "      <td>24.769670</td>\n",
       "    </tr>\n",
       "    <tr>\n",
       "      <th>Month</th>\n",
       "      <td>-4.458953</td>\n",
       "      <td>-10.255276</td>\n",
       "      <td>1.337370</td>\n",
       "    </tr>\n",
       "    <tr>\n",
       "      <th>Day</th>\n",
       "      <td>2.373939</td>\n",
       "      <td>-2.824057</td>\n",
       "      <td>7.571935</td>\n",
       "    </tr>\n",
       "  </tbody>\n",
       "</table>\n",
       "</div>"
      ],
      "text/plain": [
       "         Valeur estimée  Marge Inf à 99%  Marge Sup à 99%\n",
       "const         42.099099        36.929726        47.268472\n",
       "Solar.R        4.561931        -0.986633        10.110494\n",
       "Wind         -11.752771       -17.712853        -5.792689\n",
       "Temp          17.985220        11.200770        24.769670\n",
       "Month         -4.458953       -10.255276         1.337370\n",
       "Day            2.373939        -2.824057         7.571935"
      ]
     },
     "execution_count": 18,
     "metadata": {},
     "output_type": "execute_result"
    }
   ],
   "source": [
    "invXtXrescale=np.linalg.inv(np.dot(Xrescale.T,Xrescale))\n",
    "invXtXrescale_jj=np.diag(invXtXrescale)\n",
    "marge=quantileOrdre0995*np.sqrt(sigmaCarre)*np.sqrt(invXtXrescale_jj)\n",
    "Intervalle = pd.DataFrame()\n",
    "Intervalle['Valeur estimée']=thetaChapeau\n",
    "Intervalle['Marge Inf à 99%'] = thetaChapeau-marge\n",
    "Intervalle['Marge Sup à 99%'] = thetaChapeau+marge\n",
    "Intervalle"
   ]
  },
  {
   "cell_type": "markdown",
   "metadata": {},
   "source": [
    "### 7) Interprétation de l'intervalle de confiance"
   ]
  },
  {
   "cell_type": "markdown",
   "metadata": {},
   "source": [
    "... 0 étant dans les intervalles, ces valeurs sont potentiellement non explicatives du niveau d'Ozone"
   ]
  },
  {
   "cell_type": "markdown",
   "metadata": {},
   "source": [
    "### 8) Prédiction"
   ]
  },
  {
   "cell_type": "code",
   "execution_count": 9,
   "metadata": {
    "collapsed": false
   },
   "outputs": [
    {
     "name": "stdout",
     "output_type": "stream",
     "text": [
      "36.46\n"
     ]
    }
   ],
   "source": [
    "nouvelObs=np.array([197,10,70,3,1])\n",
    "nouvelObs_rescale = (nouvelObs-X_mean)/X_ecartType\n",
    "nouvelObs_rescale = np.append(1,nouvelObs_rescale) # ajout du terme 1 pour piloter 'const'\n",
    "Prevision = np.dot(nouvelObs_rescale,thetaChapeau)\n",
    "print(round(Prevision,2))"
   ]
  },
  {
   "cell_type": "markdown",
   "metadata": {},
   "source": [
    "# EXERCICE 2"
   ]
  },
  {
   "cell_type": "markdown",
   "metadata": {},
   "source": [
    "### 1) Calculer les Estimateurs des coefficients obtenus"
   ]
  },
  {
   "cell_type": "code",
   "execution_count": 25,
   "metadata": {
    "collapsed": false
   },
   "outputs": [
    {
     "data": {
      "text/html": [
       "<div>\n",
       "<table border=\"1\" class=\"dataframe\">\n",
       "  <thead>\n",
       "    <tr style=\"text-align: right;\">\n",
       "      <th></th>\n",
       "      <th>const</th>\n",
       "      <th>Solar.R</th>\n",
       "      <th>Wind</th>\n",
       "      <th>Temp</th>\n",
       "      <th>Month</th>\n",
       "      <th>Day</th>\n",
       "    </tr>\n",
       "  </thead>\n",
       "  <tbody>\n",
       "    <tr>\n",
       "      <th>sample : 0</th>\n",
       "      <td>48.855856</td>\n",
       "      <td>2.149785</td>\n",
       "      <td>-16.838247</td>\n",
       "      <td>16.578910</td>\n",
       "      <td>-2.697607</td>\n",
       "      <td>4.769408</td>\n",
       "    </tr>\n",
       "    <tr>\n",
       "      <th>sample : 1</th>\n",
       "      <td>39.270270</td>\n",
       "      <td>1.826034</td>\n",
       "      <td>-6.748751</td>\n",
       "      <td>20.440982</td>\n",
       "      <td>-5.444977</td>\n",
       "      <td>0.890305</td>\n",
       "    </tr>\n",
       "    <tr>\n",
       "      <th>sample : 2</th>\n",
       "      <td>41.450450</td>\n",
       "      <td>3.731076</td>\n",
       "      <td>-7.336044</td>\n",
       "      <td>21.684617</td>\n",
       "      <td>-6.206287</td>\n",
       "      <td>0.380186</td>\n",
       "    </tr>\n",
       "    <tr>\n",
       "      <th>sample : 3</th>\n",
       "      <td>42.918919</td>\n",
       "      <td>3.196795</td>\n",
       "      <td>-16.798817</td>\n",
       "      <td>16.436100</td>\n",
       "      <td>-2.982933</td>\n",
       "      <td>2.145426</td>\n",
       "    </tr>\n",
       "    <tr>\n",
       "      <th>sample : 4</th>\n",
       "      <td>41.576577</td>\n",
       "      <td>4.351404</td>\n",
       "      <td>-12.430830</td>\n",
       "      <td>14.782034</td>\n",
       "      <td>-0.625946</td>\n",
       "      <td>2.903958</td>\n",
       "    </tr>\n",
       "  </tbody>\n",
       "</table>\n",
       "</div>"
      ],
      "text/plain": [
       "                const   Solar.R       Wind       Temp     Month       Day\n",
       "sample : 0  48.855856  2.149785 -16.838247  16.578910 -2.697607  4.769408\n",
       "sample : 1  39.270270  1.826034  -6.748751  20.440982 -5.444977  0.890305\n",
       "sample : 2  41.450450  3.731076  -7.336044  21.684617 -6.206287  0.380186\n",
       "sample : 3  42.918919  3.196795 -16.798817  16.436100 -2.982933  2.145426\n",
       "sample : 4  41.576577  4.351404 -12.430830  14.782034 -0.625946  2.903958"
      ]
     },
     "execution_count": 25,
     "metadata": {},
     "output_type": "execute_result"
    }
   ],
   "source": [
    "import sklearn.utils\n",
    "ListeDeThetaestimé_sample=pd.DataFrame()\n",
    "Comparaison_bootstrap_MCOpur=pd.DataFrame()\n",
    "for i in range(0,10000):\n",
    "    airq_data_resample = sklearn.utils.resample(airq_data,replace='True')\n",
    "    Ysample = airq_data_resample['Ozone']\n",
    "    Xsample = airq_data_resample[['Solar.R', 'Wind', 'Temp', 'Month', 'Day']]\n",
    "    # Centrage et Réduction des variables explicatives\n",
    "    Xsample_mean=np.mean(Xsample)\n",
    "    Xsample_ecartType = np.std(Xsample)\n",
    "    Xsample_rescale = (Xsample - Xsample_mean)/Xsample_ecartType\n",
    "    Xsample_rescale=sm.add_constant(Xsample_rescale)\n",
    "    theta_estimé_sample = sm.OLS(Ysample,Xsample_rescale).fit().params\n",
    "    ListeDeThetaestimé_sample['sample : '+ str(i)]=theta_estimé_sample\n",
    "\n",
    "# Changement des lignes en colonnes    \n",
    "ListeDeThetaestimé_sample=ListeDeThetaestimé_sample.T\n",
    "# Affichage des coefficients estimés pour les 5 premiers samples   \n",
    "ListeDeThetaestimé_sample.head()\n"
   ]
  },
  {
   "cell_type": "code",
   "execution_count": 26,
   "metadata": {
    "collapsed": false
   },
   "outputs": [
    {
     "data": {
      "text/html": [
       "<div>\n",
       "<table border=\"1\" class=\"dataframe\">\n",
       "  <thead>\n",
       "    <tr style=\"text-align: right;\">\n",
       "      <th></th>\n",
       "      <th>MCO pur</th>\n",
       "      <th>bootstr+moy</th>\n",
       "      <th>bootstr+med</th>\n",
       "      <th>moy 3 methodes</th>\n",
       "      <th>std 3 methodes</th>\n",
       "    </tr>\n",
       "  </thead>\n",
       "  <tbody>\n",
       "    <tr>\n",
       "      <th>const</th>\n",
       "      <td>42.099099</td>\n",
       "      <td>42.067120</td>\n",
       "      <td>42.018018</td>\n",
       "      <td>42.061412</td>\n",
       "      <td>0.040841</td>\n",
       "    </tr>\n",
       "    <tr>\n",
       "      <th>Solar.R</th>\n",
       "      <td>4.561931</td>\n",
       "      <td>4.563291</td>\n",
       "      <td>4.528181</td>\n",
       "      <td>4.551134</td>\n",
       "      <td>0.019890</td>\n",
       "    </tr>\n",
       "    <tr>\n",
       "      <th>Wind</th>\n",
       "      <td>-11.752771</td>\n",
       "      <td>-11.741662</td>\n",
       "      <td>-11.570601</td>\n",
       "      <td>-11.688345</td>\n",
       "      <td>0.102120</td>\n",
       "    </tr>\n",
       "    <tr>\n",
       "      <th>Temp</th>\n",
       "      <td>17.985220</td>\n",
       "      <td>17.886581</td>\n",
       "      <td>17.901661</td>\n",
       "      <td>17.924487</td>\n",
       "      <td>0.053134</td>\n",
       "    </tr>\n",
       "    <tr>\n",
       "      <th>Month</th>\n",
       "      <td>-4.458953</td>\n",
       "      <td>-4.426461</td>\n",
       "      <td>-4.430086</td>\n",
       "      <td>-4.438500</td>\n",
       "      <td>0.017805</td>\n",
       "    </tr>\n",
       "    <tr>\n",
       "      <th>Day</th>\n",
       "      <td>2.373939</td>\n",
       "      <td>2.342262</td>\n",
       "      <td>2.335812</td>\n",
       "      <td>2.350671</td>\n",
       "      <td>0.020407</td>\n",
       "    </tr>\n",
       "  </tbody>\n",
       "</table>\n",
       "</div>"
      ],
      "text/plain": [
       "           MCO pur  bootstr+moy  bootstr+med  moy 3 methodes  std 3 methodes\n",
       "const    42.099099    42.067120    42.018018       42.061412        0.040841\n",
       "Solar.R   4.561931     4.563291     4.528181        4.551134        0.019890\n",
       "Wind    -11.752771   -11.741662   -11.570601      -11.688345        0.102120\n",
       "Temp     17.985220    17.886581    17.901661       17.924487        0.053134\n",
       "Month    -4.458953    -4.426461    -4.430086       -4.438500        0.017805\n",
       "Day       2.373939     2.342262     2.335812        2.350671        0.020407"
      ]
     },
     "execution_count": 26,
     "metadata": {},
     "output_type": "execute_result"
    }
   ],
   "source": [
    "# Comparaison des valeurs de l'exercice 1 et du bootstrap \n",
    "Comparaison_bootstrap_MCOpur[\"MCO pur\"]=thetaChapeau\n",
    "Comparaison_bootstrap_MCOpur[\"bootstr+moy\"]=ListeDeThetaestimé_sample.mean()\n",
    "Comparaison_bootstrap_MCOpur[\"bootstr+med\"]=ListeDeThetaestimé_sample.median()\n",
    "Moyenne_des_coefficients=Comparaison_bootstrap_MCOpur.mean(axis=1)\n",
    "Ecart_type_des_coefficients=Comparaison_bootstrap_MCOpur.std(axis=1)\n",
    "\n",
    "Comparaison_bootstrap_MCOpur[\"moy 3 methodes\"]=Moyenne_des_coefficients\n",
    "Comparaison_bootstrap_MCOpur[\"std 3 methodes\"]=Ecart_type_des_coefficients\n",
    "\n",
    "Comparaison_bootstrap_MCOpur "
   ]
  },
  {
   "cell_type": "markdown",
   "metadata": {},
   "source": [
    "### 2/Intervalle de confiance de niveau 99% avec les quantiles empiriques de bootstrap"
   ]
  },
  {
   "cell_type": "code",
   "execution_count": 27,
   "metadata": {
    "collapsed": false
   },
   "outputs": [
    {
     "data": {
      "text/html": [
       "<div>\n",
       "<table border=\"1\" class=\"dataframe\">\n",
       "  <thead>\n",
       "    <tr style=\"text-align: right;\">\n",
       "      <th></th>\n",
       "      <th>const</th>\n",
       "      <th>Solar.R</th>\n",
       "      <th>Wind</th>\n",
       "      <th>Temp</th>\n",
       "      <th>Month</th>\n",
       "      <th>Day</th>\n",
       "    </tr>\n",
       "  </thead>\n",
       "  <tbody>\n",
       "    <tr>\n",
       "      <th>0.005</th>\n",
       "      <td>34.342297</td>\n",
       "      <td>0.104027</td>\n",
       "      <td>-20.365910</td>\n",
       "      <td>11.760497</td>\n",
       "      <td>-9.569334</td>\n",
       "      <td>-3.003646</td>\n",
       "    </tr>\n",
       "    <tr>\n",
       "      <th>0.995</th>\n",
       "      <td>50.640045</td>\n",
       "      <td>9.315045</td>\n",
       "      <td>-4.769631</td>\n",
       "      <td>24.011977</td>\n",
       "      <td>0.613958</td>\n",
       "      <td>7.897602</td>\n",
       "    </tr>\n",
       "  </tbody>\n",
       "</table>\n",
       "</div>"
      ],
      "text/plain": [
       "           const   Solar.R       Wind       Temp     Month       Day\n",
       "0.005  34.342297  0.104027 -20.365910  11.760497 -9.569334 -3.003646\n",
       "0.995  50.640045  9.315045  -4.769631  24.011977  0.613958  7.897602"
      ]
     },
     "execution_count": 27,
     "metadata": {},
     "output_type": "execute_result"
    }
   ],
   "source": [
    "ListeDeThetaestimé_sample.quantile([.005,.995])"
   ]
  },
  {
   "cell_type": "markdown",
   "metadata": {
    "collapsed": true
   },
   "source": [
    "### 3) impact du nombre d'échantillon du bootstrap"
   ]
  },
  {
   "cell_type": "code",
   "execution_count": 231,
   "metadata": {
    "collapsed": false
   },
   "outputs": [
    {
     "data": {
      "image/png": "[encoded data removed]",
      "text/plain": [
       "<matplotlib.figure.Figure at 0x112af2c88>"
      ]
     },
     "metadata": {},
     "output_type": "display_data"
    }
   ],
   "source": [
    "tableau_de_IC=pd.DataFrame(columns=[\"B\",'0.005','0.995','MED'])\n",
    "for i in np.linspace(1,5001,11):\n",
    "    tableau_de_IC.loc[int(i),\"B\"]=int(i)\n",
    "    tableau_de_IC.loc[int(i),'0.005']=ListeDeThetaestimé_sample[0:int(i)].quantile([.005]).iloc[0,2]\n",
    "    tableau_de_IC.loc[int(i),'0.995']=ListeDeThetaestimé_sample[0:int(i)].quantile([.995]).iloc[0,2]\n",
    "    tableau_de_IC.loc[int(i),'MED']=ListeDeThetaestimé_sample.iloc[0:int(i),2].median()\n",
    "    \n",
    "plt.plot(tableau_de_IC.iloc[:,0],tableau_de_IC.iloc[:,1],'b--')\n",
    "plt.plot(tableau_de_IC.iloc[:,0],tableau_de_IC.iloc[:,2],'g--')\n",
    "plt.plot(tableau_de_IC.iloc[:,0],tableau_de_IC.iloc[:,3],linewidth=3,color='red')\n",
    "plt.show()"
   ]
  },
  {
   "cell_type": "markdown",
   "metadata": {
    "collapsed": true
   },
   "source": [
    "## 4) régression de Ozone sur wind"
   ]
  },
  {
   "cell_type": "code",
   "execution_count": 31,
   "metadata": {
    "collapsed": false
   },
   "outputs": [
    {
     "name": "stderr",
     "output_type": "stream",
     "text": [
      "/Users/florian/anaconda/lib/python3.4/site-packages/matplotlib/collections.py:590: FutureWarning: elementwise comparison failed; returning scalar instead, but in the future will perform elementwise comparison\n",
      "  if self._edgecolors == str('face'):\n"
     ]
    },
    {
     "data": {
      "text/plain": [
       "<seaborn.axisgrid.FacetGrid at 0x10f0f6320>"
      ]
     },
     "execution_count": 31,
     "metadata": {},
     "output_type": "execute_result"
    },
    {
     "data": {
      "image/png": "[encoded data removed]",
      "text/plain": [
       "<matplotlib.figure.Figure at 0x10f211f60>"
      ]
     },
     "metadata": {},
     "output_type": "display_data"
    }
   ],
   "source": [
    "sns.lmplot('Wind','Ozone',hue='Month',data=airq_data,size=7)"
   ]
  },
  {
   "cell_type": "code",
   "execution_count": null,
   "metadata": {
    "collapsed": true
   },
   "outputs": [],
   "source": [
    "    "
   ]
  }
 ],
 "metadata": {
  "kernelspec": {
   "display_name": "Python 2",
   "language": "python",
   "name": "python2"
  },
  "language_info": {
   "codemirror_mode": {
    "name": "ipython",
    "version": 2
   },
   "file_extension": ".py",
   "mimetype": "text/x-python",
   "name": "python",
   "nbconvert_exporter": "python",
   "pygments_lexer": "ipython2",
   "version": "2.7.10"
  }
 },
 "nbformat": 4,
 "nbformat_minor": 0
}
