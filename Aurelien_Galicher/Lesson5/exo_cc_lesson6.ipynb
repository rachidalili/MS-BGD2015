{
 "cells": [
  {
   "cell_type": "markdown",
   "metadata": {},
   "source": [
    "# Exercice contrôle continu Lesson 6"
   ]
  },
  {
   "cell_type": "code",
   "execution_count": 1,
   "metadata": {
    "collapsed": true
   },
   "outputs": [],
   "source": [
    "import pandas as pd\n",
    "import re\n",
    "import matplotlib.pyplot as plt\n",
    "import numpy as np\n",
    "%matplotlib inline"
   ]
  },
  {
   "cell_type": "code",
   "execution_count": 42,
   "metadata": {
    "collapsed": false
   },
   "outputs": [],
   "source": [
    "exo = pd.read_excel('exo.xls', sheetname=0, skiprows=11)"
   ]
  },
  {
   "cell_type": "code",
   "execution_count": 43,
   "metadata": {
    "collapsed": false
   },
   "outputs": [
    {
     "data": {
      "text/plain": [
       "Index(['company', 'company_id', 'business_account_name', 'business_account_id',\n",
       "       'campaign_id', 'campaign', 'creative_id', 'article_title',\n",
       "       'sponsored_update_text', 'sponsored_date', 'viral', 'impressions',\n",
       "       'clicks', 'likes', 'shares', 'comments', 'follows', 'total_revenue',\n",
       "       ' ', 'Imps ', 'Clics', 'Social Actions', 'Social Actions 2', 'revenue',\n",
       "       'Campaign total Budget', 'creative link'],\n",
       "      dtype='object')"
      ]
     },
     "execution_count": 43,
     "metadata": {},
     "output_type": "execute_result"
    }
   ],
   "source": [
    "exo.columns"
   ]
  },
  {
   "cell_type": "code",
   "execution_count": 47,
   "metadata": {
    "collapsed": false
   },
   "outputs": [
    {
     "data": {
      "text/html": [
       "<div>\n",
       "<table border=\"1\" class=\"dataframe\">\n",
       "  <thead>\n",
       "    <tr style=\"text-align: right;\">\n",
       "      <th></th>\n",
       "      <th>company</th>\n",
       "      <th>company_id</th>\n",
       "      <th>business_account_name</th>\n",
       "      <th>business_account_id</th>\n",
       "      <th>campaign_id</th>\n",
       "      <th>campaign</th>\n",
       "      <th>creative_id</th>\n",
       "      <th>article_title</th>\n",
       "      <th>sponsored_update_text</th>\n",
       "      <th>sponsored_date</th>\n",
       "      <th>...</th>\n",
       "      <th>follows</th>\n",
       "      <th>total_revenue</th>\n",
       "      <th></th>\n",
       "      <th>Imps</th>\n",
       "      <th>Clics</th>\n",
       "      <th>Social Actions</th>\n",
       "      <th>Social Actions 2</th>\n",
       "      <th>revenue</th>\n",
       "      <th>Campaign total Budget</th>\n",
       "      <th>creative link</th>\n",
       "    </tr>\n",
       "  </thead>\n",
       "  <tbody>\n",
       "    <tr>\n",
       "      <th>0</th>\n",
       "      <td>capgemini</td>\n",
       "      <td>157240</td>\n",
       "      <td>Capgemini_Yearlong_Renewal_HMI_INT_2014 // 443...</td>\n",
       "      <td>500669025</td>\n",
       "      <td>113651171</td>\n",
       "      <td>01_US_Digital Customer Experience_CPM</td>\n",
       "      <td>26810671</td>\n",
       "      <td>Forbes | Why You Should Welcome Difficult Cust...</td>\n",
       "      <td>From Content Loop, powered by Capgemini, the o...</td>\n",
       "      <td>2014-03-03 06:47:09</td>\n",
       "      <td>...</td>\n",
       "      <td>0</td>\n",
       "      <td>0.01996</td>\n",
       "      <td>NaN</td>\n",
       "      <td>1</td>\n",
       "      <td>0</td>\n",
       "      <td>0</td>\n",
       "      <td>0</td>\n",
       "      <td>0.01</td>\n",
       "      <td>12000</td>\n",
       "      <td>http://www.content-loop.com/why-you-should-wel...</td>\n",
       "    </tr>\n",
       "    <tr>\n",
       "      <th>1</th>\n",
       "      <td>capgemini</td>\n",
       "      <td>157240</td>\n",
       "      <td>Capgemini_Yearlong_Renewal_HMI_INT_2014 // 443...</td>\n",
       "      <td>500669025</td>\n",
       "      <td>113651171</td>\n",
       "      <td>01_US_Digital Customer Experience_CPM</td>\n",
       "      <td>26760761</td>\n",
       "      <td>ReadWrite | The Internet Of Things: The Real M...</td>\n",
       "      <td>From Content Loop, powered by Capgemini, the o...</td>\n",
       "      <td>2014-03-03 06:47:09</td>\n",
       "      <td>...</td>\n",
       "      <td>0</td>\n",
       "      <td>520.56105</td>\n",
       "      <td>NaN</td>\n",
       "      <td>24540</td>\n",
       "      <td>42</td>\n",
       "      <td>1</td>\n",
       "      <td>1</td>\n",
       "      <td>371.09</td>\n",
       "      <td>12000</td>\n",
       "      <td>http://www.content-loop.com/the-internet-of-th...</td>\n",
       "    </tr>\n",
       "    <tr>\n",
       "      <th>2</th>\n",
       "      <td>capgemini</td>\n",
       "      <td>157240</td>\n",
       "      <td>Capgemini_Yearlong_Renewal_HMI_INT_2014 // 443...</td>\n",
       "      <td>500669025</td>\n",
       "      <td>113651171</td>\n",
       "      <td>01_US_Digital Customer Experience_CPM</td>\n",
       "      <td>26760761</td>\n",
       "      <td>ReadWrite | The Internet Of Things: The Real M...</td>\n",
       "      <td>From Content Loop, powered by Capgemini, the o...</td>\n",
       "      <td>2014-03-03 06:47:09</td>\n",
       "      <td>...</td>\n",
       "      <td>0</td>\n",
       "      <td>0.00000</td>\n",
       "      <td>NaN</td>\n",
       "      <td>164</td>\n",
       "      <td>0</td>\n",
       "      <td>0</td>\n",
       "      <td>0</td>\n",
       "      <td>0.00</td>\n",
       "      <td>12000</td>\n",
       "      <td>http://www.content-loop.com/the-internet-of-th...</td>\n",
       "    </tr>\n",
       "    <tr>\n",
       "      <th>3</th>\n",
       "      <td>capgemini</td>\n",
       "      <td>157240</td>\n",
       "      <td>Capgemini_Yearlong_Renewal_HMI_INT_2014 // 443...</td>\n",
       "      <td>500669025</td>\n",
       "      <td>113651171</td>\n",
       "      <td>01_US_Digital Customer Experience_CPM</td>\n",
       "      <td>26656821</td>\n",
       "      <td>ReadWrite | Why I Want To Go Back To Android...</td>\n",
       "      <td>From Content Loop, powered by Capgemini, the o...</td>\n",
       "      <td>2014-03-03 06:47:09</td>\n",
       "      <td>...</td>\n",
       "      <td>1</td>\n",
       "      <td>537.05887</td>\n",
       "      <td>NaN</td>\n",
       "      <td>25122</td>\n",
       "      <td>83</td>\n",
       "      <td>5</td>\n",
       "      <td>5</td>\n",
       "      <td>382.11</td>\n",
       "      <td>12000</td>\n",
       "      <td>http://www.content-loop.com/why-i-want-to-go-b...</td>\n",
       "    </tr>\n",
       "    <tr>\n",
       "      <th>4</th>\n",
       "      <td>capgemini</td>\n",
       "      <td>157240</td>\n",
       "      <td>Capgemini_Yearlong_Renewal_HMI_INT_2014 // 443...</td>\n",
       "      <td>500669025</td>\n",
       "      <td>113651171</td>\n",
       "      <td>01_US_Digital Customer Experience_CPM</td>\n",
       "      <td>26656821</td>\n",
       "      <td>ReadWrite | Why I Want To Go Back To Android...</td>\n",
       "      <td>From Content Loop, powered by Capgemini, the o...</td>\n",
       "      <td>2014-03-03 06:47:09</td>\n",
       "      <td>...</td>\n",
       "      <td>0</td>\n",
       "      <td>0.00000</td>\n",
       "      <td>NaN</td>\n",
       "      <td>400</td>\n",
       "      <td>1</td>\n",
       "      <td>1</td>\n",
       "      <td>1</td>\n",
       "      <td>0.00</td>\n",
       "      <td>12000</td>\n",
       "      <td>http://www.content-loop.com/why-i-want-to-go-b...</td>\n",
       "    </tr>\n",
       "  </tbody>\n",
       "</table>\n",
       "<p>5 rows × 26 columns</p>\n",
       "</div>"
      ],
      "text/plain": [
       "     company  company_id                              business_account_name  \\\n",
       "0  capgemini      157240  Capgemini_Yearlong_Renewal_HMI_INT_2014 // 443...   \n",
       "1  capgemini      157240  Capgemini_Yearlong_Renewal_HMI_INT_2014 // 443...   \n",
       "2  capgemini      157240  Capgemini_Yearlong_Renewal_HMI_INT_2014 // 443...   \n",
       "3  capgemini      157240  Capgemini_Yearlong_Renewal_HMI_INT_2014 // 443...   \n",
       "4  capgemini      157240  Capgemini_Yearlong_Renewal_HMI_INT_2014 // 443...   \n",
       "\n",
       "   business_account_id  campaign_id                               campaign  \\\n",
       "0            500669025    113651171  01_US_Digital Customer Experience_CPM   \n",
       "1            500669025    113651171  01_US_Digital Customer Experience_CPM   \n",
       "2            500669025    113651171  01_US_Digital Customer Experience_CPM   \n",
       "3            500669025    113651171  01_US_Digital Customer Experience_CPM   \n",
       "4            500669025    113651171  01_US_Digital Customer Experience_CPM   \n",
       "\n",
       "   creative_id                                      article_title  \\\n",
       "0     26810671  Forbes | Why You Should Welcome Difficult Cust...   \n",
       "1     26760761  ReadWrite | The Internet Of Things: The Real M...   \n",
       "2     26760761  ReadWrite | The Internet Of Things: The Real M...   \n",
       "3     26656821    ReadWrite | Why I Want To Go Back To Android...   \n",
       "4     26656821    ReadWrite | Why I Want To Go Back To Android...   \n",
       "\n",
       "                               sponsored_update_text       sponsored_date  \\\n",
       "0  From Content Loop, powered by Capgemini, the o...  2014-03-03 06:47:09   \n",
       "1  From Content Loop, powered by Capgemini, the o...  2014-03-03 06:47:09   \n",
       "2  From Content Loop, powered by Capgemini, the o...  2014-03-03 06:47:09   \n",
       "3  From Content Loop, powered by Capgemini, the o...  2014-03-03 06:47:09   \n",
       "4  From Content Loop, powered by Capgemini, the o...  2014-03-03 06:47:09   \n",
       "\n",
       "                         ...                         follows  total_revenue  \\\n",
       "0                        ...                               0        0.01996   \n",
       "1                        ...                               0      520.56105   \n",
       "2                        ...                               0        0.00000   \n",
       "3                        ...                               1      537.05887   \n",
       "4                        ...                               0        0.00000   \n",
       "\n",
       "       Imps   Clics  Social Actions  Social Actions 2  revenue  \\\n",
       "0 NaN      1      0               0                 0     0.01   \n",
       "1 NaN  24540     42               1                 1   371.09   \n",
       "2 NaN    164      0               0                 0     0.00   \n",
       "3 NaN  25122     83               5                 5   382.11   \n",
       "4 NaN    400      1               1                 1     0.00   \n",
       "\n",
       "   Campaign total Budget                                      creative link  \n",
       "0                  12000  http://www.content-loop.com/why-you-should-wel...  \n",
       "1                  12000  http://www.content-loop.com/the-internet-of-th...  \n",
       "2                  12000  http://www.content-loop.com/the-internet-of-th...  \n",
       "3                  12000  http://www.content-loop.com/why-i-want-to-go-b...  \n",
       "4                  12000  http://www.content-loop.com/why-i-want-to-go-b...  \n",
       "\n",
       "[5 rows x 26 columns]"
      ]
     },
     "execution_count": 47,
     "metadata": {},
     "output_type": "execute_result"
    }
   ],
   "source": [
    "exo.head()\n",
    "#re.split('|', 'LifeHacker | Top 10 Ways to')[0]"
   ]
  },
  {
   "cell_type": "code",
   "execution_count": 87,
   "metadata": {
    "collapsed": false
   },
   "outputs": [],
   "source": [
    "exo['sites'] = list(map(lambda x: re.split(' | ', x)[0] , list(exo['article_title'].astype(str))))\n",
    "#exo['sites'] = exo['article_title'].str.split(' | ') if exo['article_title'].str.split(' | ') else None\n"
   ]
  },
  {
   "cell_type": "code",
   "execution_count": 88,
   "metadata": {
    "collapsed": false
   },
   "outputs": [
    {
     "data": {
      "text/plain": [
       "'01_US_Digital Customer Experience_CPM'"
      ]
     },
     "execution_count": 88,
     "metadata": {},
     "output_type": "execute_result"
    }
   ],
   "source": [
    "text = exo['campaign'][0]\n",
    "text"
   ]
  },
  {
   "cell_type": "code",
   "execution_count": 89,
   "metadata": {
    "collapsed": false
   },
   "outputs": [
    {
     "data": {
      "text/plain": [
       "'US'"
      ]
     },
     "execution_count": 89,
     "metadata": {},
     "output_type": "execute_result"
    }
   ],
   "source": [
    "regx = re.compile('\\w+_(\\w+)_(\\w+)')\n",
    "re.search(regx, text).groups(0)[0]"
   ]
  },
  {
   "cell_type": "code",
   "execution_count": 90,
   "metadata": {
    "collapsed": false
   },
   "outputs": [],
   "source": [
    "#exo['target'] = list(map(lambda x: re.split('_', x)[2] , list(exo['campaign'])))\n",
    "#exo['pays'] = list(map(lambda x: re.split('_', x)[1] , list(exo['campaign'])))\n",
    "exo['pays','target'] = exo['campaign'].str.split('_')[1:3]"
   ]
  },
  {
   "cell_type": "code",
   "execution_count": 91,
   "metadata": {
    "collapsed": false
   },
   "outputs": [
    {
     "data": {
      "text/html": [
       "<div>\n",
       "<table border=\"1\" class=\"dataframe\">\n",
       "  <thead>\n",
       "    <tr style=\"text-align: right;\">\n",
       "      <th></th>\n",
       "      <th></th>\n",
       "      <th>revenue</th>\n",
       "      <th>impressions</th>\n",
       "    </tr>\n",
       "    <tr>\n",
       "      <th>pays</th>\n",
       "      <th>target</th>\n",
       "      <th></th>\n",
       "      <th></th>\n",
       "    </tr>\n",
       "  </thead>\n",
       "  <tbody>\n",
       "    <tr>\n",
       "      <th rowspan=\"2\" valign=\"top\">BR</th>\n",
       "      <th>Dir+</th>\n",
       "      <td>278.461744</td>\n",
       "      <td>21587.252669</td>\n",
       "    </tr>\n",
       "    <tr>\n",
       "      <th>IT, Ops</th>\n",
       "      <td>279.447393</td>\n",
       "      <td>21999.746429</td>\n",
       "    </tr>\n",
       "    <tr>\n",
       "      <th rowspan=\"2\" valign=\"top\">UK</th>\n",
       "      <th>Dir+</th>\n",
       "      <td>513.598863</td>\n",
       "      <td>29386.504373</td>\n",
       "    </tr>\n",
       "    <tr>\n",
       "      <th>IT, Ops</th>\n",
       "      <td>503.321286</td>\n",
       "      <td>30664.351429</td>\n",
       "    </tr>\n",
       "    <tr>\n",
       "      <th rowspan=\"3\" valign=\"top\">US</th>\n",
       "      <th>Digital Customer Experience</th>\n",
       "      <td>1090.959091</td>\n",
       "      <td>75451.000000</td>\n",
       "    </tr>\n",
       "    <tr>\n",
       "      <th>Dir+</th>\n",
       "      <td>894.008273</td>\n",
       "      <td>56428.161560</td>\n",
       "    </tr>\n",
       "    <tr>\n",
       "      <th>IT, Ops</th>\n",
       "      <td>889.056953</td>\n",
       "      <td>62432.252078</td>\n",
       "    </tr>\n",
       "  </tbody>\n",
       "</table>\n",
       "</div>"
      ],
      "text/plain": [
       "                                      revenue   impressions\n",
       "pays target                                                \n",
       "BR   Dir+                          278.461744  21587.252669\n",
       "     IT, Ops                       279.447393  21999.746429\n",
       "UK   Dir+                          513.598863  29386.504373\n",
       "     IT, Ops                       503.321286  30664.351429\n",
       "US   Digital Customer Experience  1090.959091  75451.000000\n",
       "     Dir+                          894.008273  56428.161560\n",
       "     IT, Ops                       889.056953  62432.252078"
      ]
     },
     "execution_count": 91,
     "metadata": {},
     "output_type": "execute_result"
    }
   ],
   "source": [
    "exo.groupby(['pays','target'])['revenue','impressions'].mean()\n"
   ]
  },
  {
   "cell_type": "code",
   "execution_count": null,
   "metadata": {
    "collapsed": true
   },
   "outputs": [],
   "source": []
  },
  {
   "cell_type": "code",
   "execution_count": null,
   "metadata": {
    "collapsed": true
   },
   "outputs": [],
   "source": []
  }
 ],
 "metadata": {
  "kernelspec": {
   "display_name": "Python 3",
   "language": "python",
   "name": "python3"
  },
  "language_info": {
   "codemirror_mode": {
    "name": "ipython",
    "version": 3
   },
   "file_extension": ".py",
   "mimetype": "text/x-python",
   "name": "python",
   "nbconvert_exporter": "python",
   "pygments_lexer": "ipython3",
   "version": "3.4.3"
  }
 },
 "nbformat": 4,
 "nbformat_minor": 0
}
