{
 "cells": [
  {
   "cell_type": "code",
   "execution_count": 49,
   "metadata": {
    "collapsed": false
   },
   "outputs": [
    {
     "name": "stdout",
     "output_type": "stream",
     "text": [
      "(200, 'OK')\n",
      "DOLIPRANE 100 mg, poudre pour solution buvable en sachet-dose\t\t\t\t\n",
      "--------\n",
      "DOLIPRANE 100 mg, suppositoire sécable\t\t\t\t\n",
      "--------\n",
      "DOLIPRANE 1000 mg, comprimé\t\t\t\t\n",
      "--------\n",
      "DOLIPRANE 1000 mg, comprimé effervescent sécable\t\t\t\t\n",
      "--------\n",
      "DOLIPRANE 1000 mg, gélule\t\t\t\t\n",
      "--------\n",
      "DOLIPRANE 1000 mg, poudre pour solution buvable en sachet-dose\t\t\t\t\n",
      "--------\n",
      "DOLIPRANE 150 mg, poudre pour solution buvable en sachet-dose\t\t\t\t\n",
      "--------\n",
      "DOLIPRANE 150 mg, suppositoire\t\t\t\t\n",
      "--------\n",
      "DOLIPRANE 2,4 POUR CENT SANS SUCRE, suspension buvable édulcorée au maltitol liquide et au sorbitol\t\t\t\t\n",
      "--------\n",
      "DOLIPRANE 200 mg, poudre pour solution buvable en sachet-dose\t\t\t\t\n",
      "--------\n",
      "DOLIPRANE 200 mg, suppositoire\t\t\t\t\n",
      "--------\n",
      "DOLIPRANE 300 mg, poudre pour solution buvable en sachet-dose\t\t\t\t\n",
      "--------\n",
      "DOLIPRANE 300 mg, suppositoire\t\t\t\t\n",
      "--------\n",
      "DOLIPRANE 500 mg, comprimé\t\t\t\t\n",
      "--------\n",
      "DOLIPRANE 500 mg, comprimé effervescent\t\t\t\t\n",
      "--------\n",
      "DOLIPRANE 500 mg, gélule\t\t\t\t\n",
      "--------\n",
      "DOLIPRANE 500 mg, poudre pour solution buvable en sachet-dose\t\t\t\t\n",
      "--------\n",
      "DOLIPRANE ADULTES 1000 mg, suppositoire\t\t\t\t\n",
      "--------\n",
      "DOLIPRANE CODEINE 400 mg/20 mg, comprimé sécable\t\t\t\t\n",
      "--------\n",
      "DOLIPRANECAPS 1000 mg, gélule\t\t\t\t\n",
      "--------\n"
     ]
    }
   ],
   "source": [
    "from bs4 import BeautifulSoup\n",
    "import pandas as pd\n",
    "import unicodedata\n",
    "import re\n",
    "import urllib2\n",
    "import requests\n",
    "\n",
    "url = \"http://base-donnees-publique.medicaments.gouv.fr/index.php#result\" \n",
    "html = urllib2.urlopen(url).read()\n",
    "soup = BeautifulSoup(html, 'html.parser')\n",
    "#print soup\n",
    "\n",
    "#print soup\n",
    "\n",
    "params = {'page':1,\n",
    "'affliste':0,\n",
    "'affNumero':0,\n",
    "'isAlphabet':0,\n",
    "'inClauseSubst':0,\n",
    "'nomSubstances':'',\n",
    "'typeRecherche':0,\n",
    "'choixRecherche':\"medicament\",\n",
    "'txtCaracteres':\"doliprane\",\n",
    "'radLibelle':2,\n",
    "'txtCaracteresSub':\"\",\n",
    "'radLibelleSub':4 }\n",
    "r = requests.post(\"http://base-donnees-publique.medicaments.gouv.fr/index.php#result\", data=params)\n",
    "\n",
    "\n",
    "\n",
    "print(r.status_code, r.reason)\n",
    "\n",
    "#print(r.text[:])\n",
    "soup = BeautifulSoup(r.text)\n",
    "soup = soup.find(\"table\", {\"class\": \"result\"})\n",
    "#print soup\n",
    "medic = soup.find_all(\"a\" ,{\"class\":\"standart\"})\n",
    "for node in medic:\n",
    "    print node.next\n",
    "    print '--------'\n"
   ]
  },
  {
   "cell_type": "code",
   "execution_count": null,
   "metadata": {
    "collapsed": true
   },
   "outputs": [],
   "source": []
  }
 ],
 "metadata": {
  "kernelspec": {
   "display_name": "Python 2",
   "language": "python",
   "name": "python2"
  },
  "language_info": {
   "codemirror_mode": {
    "name": "ipython",
    "version": 2
   },
   "file_extension": ".py",
   "mimetype": "text/x-python",
   "name": "python",
   "nbconvert_exporter": "python",
   "pygments_lexer": "ipython2",
   "version": "2.7.10"
  }
 },
 "nbformat": 4,
 "nbformat_minor": 0
}
