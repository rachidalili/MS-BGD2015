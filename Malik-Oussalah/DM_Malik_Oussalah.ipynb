{
 "cells": [
  {
   "cell_type": "markdown",
   "metadata": {},
   "source": [
    "# Exercice 1#\n"
   ]
  },
  {
   "cell_type": "markdown",
   "metadata": {},
   "source": [
    "# 1)  Le modèle linéaire \n",
    "Dans cette première partie notre objectif est de déterminer sur un ensemble de données\n",
    "un estimateur linéaire de la concentration en ozone à partir des variables suivantes :\n",
    "* le rayonnement solaire\n",
    "* la force du vent \n",
    "* la température\n",
    "* le jour de la mesure\n",
    "* le mois de la mesure\n",
    "\n",
    "soit le modèle linéaire avec condition gaussienne :\n",
    "\n",
    "Y = X$\\theta$ + $\\epsilon$ où X est une matrice (n,p) de rang p,\n",
    "Y$\\in\\mathbb{R}^n$ et\n",
    "$\\theta$ est un vecteur inconnu de $\\mathbb{R}^p$\n",
    "tel que $\\epsilon$ est un vecteur de n réalisations indépendantes d’une v.a.\n",
    "gaussienne de moyenne 0 et de variance $\\sigma^2*\\mathsf{I}d$\n",
    "tel que $\\epsilon\\sim\\mathcal{N}(0_n,\\sigma^2*\\mathsf{I}d)$.\n",
    "On peut aussi noter $y_i = {\\theta}_0^{*} + \\sum_{j=1}^{p} {\\theta}_j^{*}x_{ij} + {\\epsilon}_i$\n",
    "avec ${\\epsilon}_i = {\\cal{N}}(0,{\\sigma}^2)~~~~ \\forall$ i = 1,...,n\n",
    "\n"
   ]
  },
  {
   "cell_type": "markdown",
   "metadata": {
    "collapsed": true
   },
   "source": [
    "# 2) Importation des données 'airquality' dans un dataframe\n"
   ]
  },
  {
   "cell_type": "code",
   "execution_count": 12,
   "metadata": {
    "collapsed": false
   },
   "outputs": [
    {
     "data": {
      "text/html": [
       "<div>\n",
       "<table border=\"1\" class=\"dataframe\">\n",
       "  <thead>\n",
       "    <tr style=\"text-align: right;\">\n",
       "      <th></th>\n",
       "      <th>Ozone</th>\n",
       "      <th>Solar.R</th>\n",
       "      <th>Wind</th>\n",
       "      <th>Temp</th>\n",
       "      <th>Month</th>\n",
       "      <th>Day</th>\n",
       "    </tr>\n",
       "  </thead>\n",
       "  <tbody>\n",
       "    <tr>\n",
       "      <th>0</th>\n",
       "      <td>41</td>\n",
       "      <td>190</td>\n",
       "      <td>7.4</td>\n",
       "      <td>67</td>\n",
       "      <td>5</td>\n",
       "      <td>1</td>\n",
       "    </tr>\n",
       "    <tr>\n",
       "      <th>1</th>\n",
       "      <td>36</td>\n",
       "      <td>118</td>\n",
       "      <td>8.0</td>\n",
       "      <td>72</td>\n",
       "      <td>5</td>\n",
       "      <td>2</td>\n",
       "    </tr>\n",
       "    <tr>\n",
       "      <th>2</th>\n",
       "      <td>12</td>\n",
       "      <td>149</td>\n",
       "      <td>12.6</td>\n",
       "      <td>74</td>\n",
       "      <td>5</td>\n",
       "      <td>3</td>\n",
       "    </tr>\n",
       "    <tr>\n",
       "      <th>3</th>\n",
       "      <td>18</td>\n",
       "      <td>313</td>\n",
       "      <td>11.5</td>\n",
       "      <td>62</td>\n",
       "      <td>5</td>\n",
       "      <td>4</td>\n",
       "    </tr>\n",
       "    <tr>\n",
       "      <th>4</th>\n",
       "      <td>NaN</td>\n",
       "      <td>NaN</td>\n",
       "      <td>14.3</td>\n",
       "      <td>56</td>\n",
       "      <td>5</td>\n",
       "      <td>5</td>\n",
       "    </tr>\n",
       "  </tbody>\n",
       "</table>\n",
       "</div>"
      ],
      "text/plain": [
       "   Ozone  Solar.R  Wind  Temp  Month  Day\n",
       "0     41      190   7.4    67      5    1\n",
       "1     36      118   8.0    72      5    2\n",
       "2     12      149  12.6    74      5    3\n",
       "3     18      313  11.5    62      5    4\n",
       "4    NaN      NaN  14.3    56      5    5"
      ]
     },
     "execution_count": 12,
     "metadata": {},
     "output_type": "execute_result"
    }
   ],
   "source": [
    "# -*- coding: utf-8 -*-\n",
    "#\n",
    "#Importation des librairies nécessaires\n",
    "#\n",
    "import numpy as np\n",
    "import pandas as pd\n",
    "import seaborn as sb\n",
    "import matplotlib.pyplot as plt\n",
    "import statsmodels.datasets as sm\n",
    "from IPython.display import display, Math, Latex\n",
    "import statsmodels.api as sa\n",
    "from mpl_toolkits.mplot3d import Axes3D\n",
    "import matplotlib.pyplot as plt\n",
    "\n",
    "%matplotlib inline\n",
    "sb.set_context('notebook')\n",
    "sb.set_style('darkgrid')\n",
    "sb.set_palette('colorblind')\n",
    "\n",
    "dataset = sm.get_rdataset('airquality').data\n",
    "dataset.head()\n"
   ]
  },
  {
   "cell_type": "markdown",
   "metadata": {},
   "source": [
    "# 3) Suppression des lignes nulles de notre dataset"
   ]
  },
  {
   "cell_type": "code",
   "execution_count": 13,
   "metadata": {
    "collapsed": false
   },
   "outputs": [
    {
     "data": {
      "text/html": [
       "<div>\n",
       "<table border=\"1\" class=\"dataframe\">\n",
       "  <thead>\n",
       "    <tr style=\"text-align: right;\">\n",
       "      <th></th>\n",
       "      <th>Ozone</th>\n",
       "      <th>Solar.R</th>\n",
       "      <th>Wind</th>\n",
       "      <th>Temp</th>\n",
       "      <th>Month</th>\n",
       "      <th>Day</th>\n",
       "    </tr>\n",
       "  </thead>\n",
       "  <tbody>\n",
       "    <tr>\n",
       "      <th>0</th>\n",
       "      <td>41</td>\n",
       "      <td>190</td>\n",
       "      <td>7.4</td>\n",
       "      <td>67</td>\n",
       "      <td>5</td>\n",
       "      <td>1</td>\n",
       "    </tr>\n",
       "    <tr>\n",
       "      <th>1</th>\n",
       "      <td>36</td>\n",
       "      <td>118</td>\n",
       "      <td>8.0</td>\n",
       "      <td>72</td>\n",
       "      <td>5</td>\n",
       "      <td>2</td>\n",
       "    </tr>\n",
       "    <tr>\n",
       "      <th>2</th>\n",
       "      <td>12</td>\n",
       "      <td>149</td>\n",
       "      <td>12.6</td>\n",
       "      <td>74</td>\n",
       "      <td>5</td>\n",
       "      <td>3</td>\n",
       "    </tr>\n",
       "    <tr>\n",
       "      <th>3</th>\n",
       "      <td>18</td>\n",
       "      <td>313</td>\n",
       "      <td>11.5</td>\n",
       "      <td>62</td>\n",
       "      <td>5</td>\n",
       "      <td>4</td>\n",
       "    </tr>\n",
       "    <tr>\n",
       "      <th>6</th>\n",
       "      <td>23</td>\n",
       "      <td>299</td>\n",
       "      <td>8.6</td>\n",
       "      <td>65</td>\n",
       "      <td>5</td>\n",
       "      <td>7</td>\n",
       "    </tr>\n",
       "  </tbody>\n",
       "</table>\n",
       "</div>"
      ],
      "text/plain": [
       "   Ozone  Solar.R  Wind  Temp  Month  Day\n",
       "0     41      190   7.4    67      5    1\n",
       "1     36      118   8.0    72      5    2\n",
       "2     12      149  12.6    74      5    3\n",
       "3     18      313  11.5    62      5    4\n",
       "6     23      299   8.6    65      5    7"
      ]
     },
     "execution_count": 13,
     "metadata": {},
     "output_type": "execute_result"
    }
   ],
   "source": [
    "dataset = dataset.dropna()\n",
    "dataset.head()"
   ]
  },
  {
   "cell_type": "markdown",
   "metadata": {},
   "source": [
    "# 4) Régression linéaire de 'Ozone' sur les autres variables explicatives"
   ]
  },
  {
   "cell_type": "code",
   "execution_count": 14,
   "metadata": {
    "collapsed": false
   },
   "outputs": [
    {
     "data": {
      "text/plain": [
       "LinearRegression(copy_X=True, fit_intercept=True, n_jobs=1, normalize=False)"
      ]
     },
     "execution_count": 14,
     "metadata": {},
     "output_type": "execute_result"
    }
   ],
   "source": [
    "from sklearn import linear_model\n",
    "y_train = dataset['Ozone']\n",
    "x_train = dataset[['Solar.R','Wind','Temp','Month','Day']]\n",
    "x_scaled = (x_train - np.mean(x_train))/np.std(x_train)\n",
    "skl_linmod_ozone_scaled = linear_model.LinearRegression()\n",
    "skl_linmod_ozone_scaled.fit(x_scaled,y_train)\n"
   ]
  },
  {
   "cell_type": "markdown",
   "metadata": {},
   "source": [
    "# 5) Estimation de $\\hat{\\theta}$ par regression linéaire"
   ]
  },
  {
   "cell_type": "code",
   "execution_count": 15,
   "metadata": {
    "collapsed": false,
    "scrolled": true
   },
   "outputs": [
    {
     "data": {
      "text/latex": [
       "$$\\widehat\\theta = \\begin{bmatrix}42.0990990991\\\\4.56193075918\\\\-11.7527708448\\\\17.9852199495\\\\-4.45895296698\\\\2.37393858761\\end{bmatrix}$$"
      ],
      "text/plain": [
       "<IPython.core.display.Math object>"
      ]
     },
     "metadata": {},
     "output_type": "display_data"
    }
   ],
   "source": [
    "theta_hat = skl_linmod_ozone_scaled.coef_.astype(float)\n",
    "theta_hat_ = np.insert(skl_linmod_ozone_scaled.coef_,0,skl_linmod_ozone_scaled.intercept_.astype(float),axis=None)\n",
    "display(Math(r'$\\widehat\\theta = \\begin{bmatrix}'+r'{0}'.format(theta_hat_[0])+r'\\\\{0}'.format(theta_hat_[1])+r'\\\\{0}'.format(theta_hat_[2])+r'\\\\{0}'.format(theta_hat_[3])+r'\\\\{0}'.format(theta_hat_[4])+r'\\\\{0}'.format(theta_hat_[5])+r'\\end{bmatrix}$'))\n"
   ]
  },
  {
   "cell_type": "markdown",
   "metadata": {},
   "source": [
    "l'estimateur sans biais de la variance $\\hat{\\sigma^2}$ = $\\frac{\\Vert Y-\\hat{Y}\\Vert^2}{n-rang(X)}$\n",
    "où Y - $\\hat{Y}$ est le vecteur résidus avec $\\hat{Y}$ = X$\\hat{\\theta}$ "
   ]
  },
  {
   "cell_type": "code",
   "execution_count": 16,
   "metadata": {
    "collapsed": false
   },
   "outputs": [
    {
     "data": {
      "text/latex": [
       "$$\\hat{\\sigma^2}= 430.97100919$$"
      ],
      "text/plain": [
       "<IPython.core.display.Math object>"
      ]
     },
     "metadata": {},
     "output_type": "display_data"
    }
   ],
   "source": [
    "y_hat = skl_linmod_ozone_scaled.predict(x_scaled) \n",
    "residus = y_train - y_hat  \n",
    "norm_2 = residus.T.dot(residus) #calcul de la norme carré des résidus\n",
    "n = len(y_train)\n",
    "p = np.linalg.matrix_rank(x_scaled)\n",
    "var_hat = norm_2/(n - p)\n",
    "#l'estimateur sans biais de la variance #\n",
    "display(Math(r'$\\hat{\\sigma^2}= '+ str(var_hat)))"
   ]
  },
  {
   "cell_type": "markdown",
   "metadata": {},
   "source": [
    "# 6) Intervalle de confiance de niveau 0.01 pour $\\hat{\\theta}$"
   ]
  },
  {
   "cell_type": "code",
   "execution_count": 17,
   "metadata": {
    "collapsed": false,
    "scrolled": true
   },
   "outputs": [
    {
     "data": {
      "text/latex": [
       "$$IC^*_0 =[ 36.9297257965;47.2684724017]$$"
      ],
      "text/plain": [
       "<IPython.core.display.Math object>"
      ]
     },
     "metadata": {},
     "output_type": "display_data"
    },
    {
     "data": {
      "text/latex": [
       "$$IC^*_1 =[ -0.986632769232;10.1104942876]$$"
      ],
      "text/plain": [
       "<IPython.core.display.Math object>"
      ]
     },
     "metadata": {},
     "output_type": "display_data"
    },
    {
     "data": {
      "text/latex": [
       "$$IC^*_2 =[ -17.7128526274;-5.79268906211]$$"
      ],
      "text/plain": [
       "<IPython.core.display.Math object>"
      ]
     },
     "metadata": {},
     "output_type": "display_data"
    },
    {
     "data": {
      "text/latex": [
       "$$IC^*_3 =[ 11.2007698768;24.7696700223]$$"
      ],
      "text/plain": [
       "<IPython.core.display.Math object>"
      ]
     },
     "metadata": {},
     "output_type": "display_data"
    },
    {
     "data": {
      "text/latex": [
       "$$IC^*_4 =[ -10.2552763474;1.33737041342]$$"
      ],
      "text/plain": [
       "<IPython.core.display.Math object>"
      ]
     },
     "metadata": {},
     "output_type": "display_data"
    },
    {
     "data": {
      "text/latex": [
       "$$IC^*_5 =[ -2.82405745549;7.5719346307]$$"
      ],
      "text/plain": [
       "<IPython.core.display.Math object>"
      ]
     },
     "metadata": {},
     "output_type": "display_data"
    },
    {
     "name": "stdout",
     "output_type": "stream",
     "text": [
      " \n",
      "[ 42.0990991    4.56193076 -11.75277084  17.98521995  -4.45895297\n",
      "   2.37393859]\n"
     ]
    }
   ],
   "source": [
    "#d'apres la prop 1 on peut utiliser la Statistiques de Student avec theta_hat et var_hat\n",
    "skl_linmod_ozone_original = linear_model.LinearRegression()\n",
    "skl_linmod_ozone_original.fit(x_train,y_train)\n",
    "\n",
    "\n",
    "x_new = np.asarray(x_scaled)\n",
    "x_new = np.insert(x_new,0,np.ones(n),axis=1)\n",
    "\n",
    "\n",
    "from scipy.stats import t\n",
    "\n",
    "alpha = 1 - 0.99\n",
    "t_q = t.ppf(1 - alpha/2,n-p-1)\n",
    "\n",
    "def left(i):\n",
    "    \"\"\"fonction qui calcule la borne inférieure de l'intervalle de confiance pour theta_hat(i)\"\"\"\n",
    "    return theta_hat_[i] - t_q*np.math.sqrt(var_hat*np.linalg.solve(x_new.T.dot(x_new),np.identity(p+1))[i][i])\n",
    "\n",
    "def right(i):\n",
    "    \"\"\"fonction qui calcule la borne suppérieure de l'intervalle de confiance pour theta_hat(i)\"\"\"\n",
    "    return theta_hat_[i] + t_q*np.math.sqrt(var_hat*np.linalg.solve(x_new.T.dot(x_new),np.identity(p+1))[i][i])\n",
    "\n",
    "def IC(i):\n",
    "    \"\"\"intervalle de confiance pour theta_hat(i)\"\"\"\n",
    "    return \"[ \"+str(left(i))+\";\"+str(right(i)) + \"]\"\n",
    "def IC_size(i):\n",
    "    \"\"\"taille de l'intervalle de confiance pour theta_hat(i)\"\"\"\n",
    "    return right(i) - left(i)\n",
    "\n",
    "\n",
    "\n",
    "\n",
    "#on affiche les intervalles de confiance pour les différents theta_hat(i) avec i=0...4\n",
    "display(Math(r'$IC^*_0 ={}$'.format(IC(0))))\n",
    "display(Math(r'$IC^*_1 ={}$'.format(IC(1))))\n",
    "display(Math(r'$IC^*_2 ={}$'.format(IC(2))))\n",
    "display(Math(r'$IC^*_3 ={}$'.format(IC(3))))\n",
    "display(Math(r'$IC^*_4 ={}$'.format(IC(4))))\n",
    "display(Math(r'$IC^*_5 ={}$'.format(IC(5))))\n",
    "\n",
    "print \" \"\n",
    "print theta_hat_\n"
   ]
  },
  {
   "cell_type": "markdown",
   "metadata": {
    "collapsed": true
   },
   "source": [
    "# 7)"
   ]
  },
  {
   "cell_type": "markdown",
   "metadata": {},
   "source": [
    "On remarque que les variables Day et Month \n",
    "sont potentiellement non explicatives du modèle \n",
    "étant donné que leurs intervalles de confiance contiennent 0."
   ]
  },
  {
   "cell_type": "markdown",
   "metadata": {},
   "source": [
    "# 8) prédiction d'une nouvelle observation"
   ]
  },
  {
   "cell_type": "code",
   "execution_count": 18,
   "metadata": {
    "collapsed": false
   },
   "outputs": [
    {
     "name": "stdout",
     "output_type": "stream",
     "text": [
      "La prédiction pour cette nouvelle observation donne : \n"
     ]
    },
    {
     "data": {
      "text/latex": [
       "$$\\hat{y}_{new}~~ =~~ 36.4623378681$$"
      ],
      "text/plain": [
       "<IPython.core.display.Math object>"
      ]
     },
     "metadata": {},
     "output_type": "display_data"
    }
   ],
   "source": [
    "#Création de la nouvelle observation\n",
    "listenom = ['Solar.R','Wind','Temp','Month','Day']\n",
    "newline = pd.DataFrame([[197, 10, 70, 3,1]], columns = listenom)\n",
    "\n",
    "#prédiction de la valeur d'Ozone pour la nouvelle observation\n",
    "y_newline_pred = skl_linmod_ozone_original.predict(newline)\n",
    "print \"La prédiction pour cette nouvelle observation donne : \" \n",
    "display(Math(r'$\\hat{y}_{new}~~ =~~ '+str(y_newline_pred[0])))\n",
    "\n"
   ]
  },
  {
   "cell_type": "markdown",
   "metadata": {},
   "source": [
    "# Exercice 2 #"
   ]
  },
  {
   "cell_type": "markdown",
   "metadata": {
    "collapsed": false
   },
   "source": [
    "# 1) Methode Bootstrap et comparaison"
   ]
  },
  {
   "cell_type": "code",
   "execution_count": 39,
   "metadata": {
    "collapsed": false
   },
   "outputs": [
    {
     "data": {
      "text/html": [
       "<div>\n",
       "<table border=\"1\" class=\"dataframe\">\n",
       "  <thead>\n",
       "    <tr style=\"text-align: right;\">\n",
       "      <th></th>\n",
       "      <th>const</th>\n",
       "      <th>Solar.R</th>\n",
       "      <th>Wind</th>\n",
       "      <th>Temp</th>\n",
       "      <th>Month</th>\n",
       "      <th>Day</th>\n",
       "    </tr>\n",
       "  </thead>\n",
       "  <tbody>\n",
       "    <tr>\n",
       "      <th>sample : 0</th>\n",
       "      <td>36.765766</td>\n",
       "      <td>4.851891</td>\n",
       "      <td>-11.147346</td>\n",
       "      <td>16.528148</td>\n",
       "      <td>-5.462481</td>\n",
       "      <td>-0.861120</td>\n",
       "    </tr>\n",
       "    <tr>\n",
       "      <th>sample : 1</th>\n",
       "      <td>43.099099</td>\n",
       "      <td>4.591450</td>\n",
       "      <td>-9.525042</td>\n",
       "      <td>18.914255</td>\n",
       "      <td>-5.809601</td>\n",
       "      <td>1.500773</td>\n",
       "    </tr>\n",
       "    <tr>\n",
       "      <th>sample : 2</th>\n",
       "      <td>41.450450</td>\n",
       "      <td>4.746100</td>\n",
       "      <td>-10.281240</td>\n",
       "      <td>17.733888</td>\n",
       "      <td>-3.917209</td>\n",
       "      <td>-0.214399</td>\n",
       "    </tr>\n",
       "    <tr>\n",
       "      <th>sample : 3</th>\n",
       "      <td>39.207207</td>\n",
       "      <td>5.084189</td>\n",
       "      <td>-9.737620</td>\n",
       "      <td>15.365386</td>\n",
       "      <td>-5.546091</td>\n",
       "      <td>5.514874</td>\n",
       "    </tr>\n",
       "    <tr>\n",
       "      <th>sample : 4</th>\n",
       "      <td>41.621622</td>\n",
       "      <td>3.219427</td>\n",
       "      <td>-12.603817</td>\n",
       "      <td>20.475984</td>\n",
       "      <td>-3.740661</td>\n",
       "      <td>2.745304</td>\n",
       "    </tr>\n",
       "  </tbody>\n",
       "</table>\n",
       "</div>"
      ],
      "text/plain": [
       "                const   Solar.R       Wind       Temp     Month       Day\n",
       "sample : 0  36.765766  4.851891 -11.147346  16.528148 -5.462481 -0.861120\n",
       "sample : 1  43.099099  4.591450  -9.525042  18.914255 -5.809601  1.500773\n",
       "sample : 2  41.450450  4.746100 -10.281240  17.733888 -3.917209 -0.214399\n",
       "sample : 3  39.207207  5.084189  -9.737620  15.365386 -5.546091  5.514874\n",
       "sample : 4  41.621622  3.219427 -12.603817  20.475984 -3.740661  2.745304"
      ]
     },
     "execution_count": 39,
     "metadata": {},
     "output_type": "execute_result"
    }
   ],
   "source": [
    "from sklearn.utils import resample\n",
    "ListeDeThetaestim_sample=pd.DataFrame()\n",
    "Comparaison_bootstrap_MCO=pd.DataFrame()\n",
    "for i in range(0,10000):\n",
    "    airq_data_resample = resample(dataset,replace='True')\n",
    "    Ysample = airq_data_resample['Ozone'].astype(float)\n",
    "    Xsample = airq_data_resample[['Solar.R', 'Wind', 'Temp', 'Month', 'Day']].astype(float)\n",
    "    # Centrage et Réduction des variables explicatives\n",
    "    Xsample_mean=np.mean(Xsample)\n",
    "    Xsample_ecartType = np.std(Xsample)\n",
    "    Xsample_rescale = (Xsample - Xsample_mean)/Xsample_ecartType\n",
    "    Xsample_rescale=sa.add_constant(Xsample_rescale)\n",
    "    theta_estim_sample = sa.OLS(Ysample,Xsample_rescale).fit().params\n",
    "    ListeDeThetaestim_sample['sample : '+ str(i)]=theta_estim_sample\n",
    "\n",
    "# Changement des lignes en colonnes    \n",
    "ListeDeThetaestim_sample=ListeDeThetaestim_sample.T\n",
    "# Affichage des coefficients estimés pour les 5 premiers samples   \n",
    "ListeDeThetaestim_sample.head()"
   ]
  },
  {
   "cell_type": "code",
   "execution_count": 40,
   "metadata": {
    "collapsed": false
   },
   "outputs": [
    {
     "data": {
      "text/html": [
       "<div>\n",
       "<table border=\"1\" class=\"dataframe\">\n",
       "  <thead>\n",
       "    <tr style=\"text-align: right;\">\n",
       "      <th></th>\n",
       "      <th>MCO pur</th>\n",
       "      <th>bootstr+moy</th>\n",
       "      <th>bootstr+med</th>\n",
       "      <th>moy 3 methodes</th>\n",
       "      <th>std 3 methodes</th>\n",
       "    </tr>\n",
       "  </thead>\n",
       "  <tbody>\n",
       "    <tr>\n",
       "      <th>Const</th>\n",
       "      <td>42.099099</td>\n",
       "      <td>42.104583</td>\n",
       "      <td>42.036036</td>\n",
       "      <td>42.079906</td>\n",
       "      <td>0.038091</td>\n",
       "    </tr>\n",
       "    <tr>\n",
       "      <th>Solar.R</th>\n",
       "      <td>4.561931</td>\n",
       "      <td>4.553016</td>\n",
       "      <td>4.517303</td>\n",
       "      <td>4.544083</td>\n",
       "      <td>0.023617</td>\n",
       "    </tr>\n",
       "    <tr>\n",
       "      <th>Wind</th>\n",
       "      <td>-11.752771</td>\n",
       "      <td>-11.770358</td>\n",
       "      <td>-11.609729</td>\n",
       "      <td>-11.710953</td>\n",
       "      <td>0.088102</td>\n",
       "    </tr>\n",
       "    <tr>\n",
       "      <th>Temp</th>\n",
       "      <td>17.985220</td>\n",
       "      <td>17.906799</td>\n",
       "      <td>17.925456</td>\n",
       "      <td>17.939158</td>\n",
       "      <td>0.040967</td>\n",
       "    </tr>\n",
       "    <tr>\n",
       "      <th>Month</th>\n",
       "      <td>-4.458953</td>\n",
       "      <td>-4.413703</td>\n",
       "      <td>-4.429030</td>\n",
       "      <td>-4.433895</td>\n",
       "      <td>0.023014</td>\n",
       "    </tr>\n",
       "    <tr>\n",
       "      <th>Day</th>\n",
       "      <td>2.373939</td>\n",
       "      <td>2.412379</td>\n",
       "      <td>2.447198</td>\n",
       "      <td>2.411172</td>\n",
       "      <td>0.036645</td>\n",
       "    </tr>\n",
       "  </tbody>\n",
       "</table>\n",
       "</div>"
      ],
      "text/plain": [
       "           MCO pur  bootstr+moy  bootstr+med  moy 3 methodes  std 3 methodes\n",
       "Const    42.099099    42.104583    42.036036       42.079906        0.038091\n",
       "Solar.R   4.561931     4.553016     4.517303        4.544083        0.023617\n",
       "Wind    -11.752771   -11.770358   -11.609729      -11.710953        0.088102\n",
       "Temp     17.985220    17.906799    17.925456       17.939158        0.040967\n",
       "Month    -4.458953    -4.413703    -4.429030       -4.433895        0.023014\n",
       "Day       2.373939     2.412379     2.447198        2.411172        0.036645"
      ]
     },
     "execution_count": 40,
     "metadata": {},
     "output_type": "execute_result"
    }
   ],
   "source": [
    "# Comparaison des valeurs de l'exercice 1 et du bootstrap \n",
    "Comparaison_bootstrap_MCO[\"MCO pur\"] = theta_hat_\n",
    "Comparaison_bootstrap_MCO[\"bootstr+moy\"] = ListeDeThetaestim_sample.mean().as_matrix()\n",
    "\n",
    "Comparaison_bootstrap_MCO[\"bootstr+med\"] = ListeDeThetaestim_sample.median().as_matrix()\n",
    "Moyenne_des_coefficients = Comparaison_bootstrap_MCO.mean(axis=1)\n",
    "Ecart_type_des_coefficients = Comparaison_bootstrap_MCO.std(axis=1)\n",
    "\n",
    "Comparaison_bootstrap_MCO[\"moy 3 methodes\"] = Moyenne_des_coefficients\n",
    "Comparaison_bootstrap_MCO[\"std 3 methodes\"] = Ecart_type_des_coefficients\n",
    "\n",
    "Comparaison_bootstrap_MCO.rename(index={0:'Const',1:'Solar.R',2:'Wind',3:'Temp',4:'Month',5:'Day'})"
   ]
  },
  {
   "cell_type": "markdown",
   "metadata": {},
   "source": [
    "# 2) Intervalle de confiance de niveau 99% avec les quantiles empiriques de bootstrap"
   ]
  },
  {
   "cell_type": "code",
   "execution_count": 192,
   "metadata": {
    "collapsed": false
   },
   "outputs": [
    {
     "data": {
      "text/html": [
       "<div>\n",
       "<table border=\"1\" class=\"dataframe\">\n",
       "  <thead>\n",
       "    <tr style=\"text-align: right;\">\n",
       "      <th></th>\n",
       "      <th>const</th>\n",
       "      <th>Solar.R</th>\n",
       "      <th>Wind</th>\n",
       "      <th>Temp</th>\n",
       "      <th>Month</th>\n",
       "      <th>Day</th>\n",
       "    </tr>\n",
       "  </thead>\n",
       "  <tbody>\n",
       "    <tr>\n",
       "      <th>0.005</th>\n",
       "      <td>34.576532</td>\n",
       "      <td>0.116493</td>\n",
       "      <td>-20.357719</td>\n",
       "      <td>11.994380</td>\n",
       "      <td>-9.603628</td>\n",
       "      <td>-3.065352</td>\n",
       "    </tr>\n",
       "    <tr>\n",
       "      <th>0.995</th>\n",
       "      <td>50.558604</td>\n",
       "      <td>9.423640</td>\n",
       "      <td>-5.252764</td>\n",
       "      <td>23.729932</td>\n",
       "      <td>0.642715</td>\n",
       "      <td>7.730653</td>\n",
       "    </tr>\n",
       "  </tbody>\n",
       "</table>\n",
       "</div>"
      ],
      "text/plain": [
       "           const   Solar.R       Wind       Temp     Month       Day\n",
       "0.005  34.576532  0.116493 -20.357719  11.994380 -9.603628 -3.065352\n",
       "0.995  50.558604  9.423640  -5.252764  23.729932  0.642715  7.730653"
      ]
     },
     "execution_count": 192,
     "metadata": {},
     "output_type": "execute_result"
    }
   ],
   "source": [
    "ListeDeThetaestim_sample.quantile([.005,.995])"
   ]
  },
  {
   "cell_type": "markdown",
   "metadata": {},
   "source": [
    "# 3) impact du nombre d'échantillon du bootstrap"
   ]
  },
  {
   "cell_type": "code",
   "execution_count": 46,
   "metadata": {
    "collapsed": false
   },
   "outputs": [
    {
     "data": {
      "image/png": "[encoded data removed]",
      "text/plain": [
       "<matplotlib.figure.Figure at 0x3bb7cc0>"
      ]
     },
     "metadata": {},
     "output_type": "display_data"
    }
   ],
   "source": [
    "tableau_de_IC=pd.DataFrame(columns=[\"B\",'0.005','0.995','MED'])\n",
    "for i in np.linspace(1,5001,11):\n",
    "    tableau_de_IC.loc[int(i),\"B\"]=int(i)\n",
    "    tableau_de_IC.loc[int(i),'0.005']=ListeDeThetaestim_sample[0:int(i)].quantile([.005]).iloc[0,2]\n",
    "    tableau_de_IC.loc[int(i),'0.995']=ListeDeThetaestim_sample[0:int(i)].quantile([.995]).iloc[0,2]\n",
    "    tableau_de_IC.loc[int(i),'MED']=ListeDeThetaestim_sample.iloc[0:int(i),2].median()\n",
    "    \n",
    "plt.plot(tableau_de_IC.iloc[:,0],tableau_de_IC.iloc[:,1],'b--')\n",
    "plt.plot(tableau_de_IC.iloc[:,0],tableau_de_IC.iloc[:,2],'g--')\n",
    "plt.plot(tableau_de_IC.iloc[:,0],tableau_de_IC.iloc[:,3],linewidth=3,color='red')\n",
    "plt.show()"
   ]
  },
  {
   "cell_type": "markdown",
   "metadata": {},
   "source": [
    "# 4) régression de Ozone sur wind"
   ]
  },
  {
   "cell_type": "code",
   "execution_count": 47,
   "metadata": {
    "collapsed": false
   },
   "outputs": [
    {
     "data": {
      "text/plain": [
       "<seaborn.axisgrid.FacetGrid at 0xad6afd0>"
      ]
     },
     "execution_count": 47,
     "metadata": {},
     "output_type": "execute_result"
    },
    {
     "data": {
      "image/png": "[encoded data removed]",
      "text/plain": [
       "<matplotlib.figure.Figure at 0x20f216a0>"
      ]
     },
     "metadata": {},
     "output_type": "display_data"
    }
   ],
   "source": [
    "sb.lmplot('Wind','Ozone',hue='Month',data=dataset,size=7)"
   ]
  },
  {
   "cell_type": "markdown",
   "metadata": {},
   "source": [
    "On remarque que le mois de Juin présente des résultats atypiques par rapport aux autres mois au niveau de la concentration en Ozone. en effet tous les coefficients directeurs des droites de regression des autres mois sont négatives sauf celle du mois de Juin."
   ]
  },
  {
   "cell_type": "markdown",
   "metadata": {},
   "source": [
    "# Exercice 3"
   ]
  },
  {
   "cell_type": "markdown",
   "metadata": {},
   "source": [
    "# 1)"
   ]
  },
  {
   "cell_type": "code",
   "execution_count": 172,
   "metadata": {
    "collapsed": false,
    "scrolled": true
   },
   "outputs": [
    {
     "name": "stdout",
     "output_type": "stream",
     "text": [
      "[  4.50045463 -11.74591966  17.7488752   -4.38806519   0.        ]\n"
     ]
    }
   ],
   "source": [
    "def stpforward(y, X, M):\n",
    "    r = y\n",
    "    S = []\n",
    "    theta = np.zeros([X.shape[1], ])\n",
    "    for i in range(M):\n",
    "        theta_int = []\n",
    "        S_c = list(filter(lambda u: u not in S, range(X.shape[1])))\n",
    "        alpha_j = []\n",
    "        for j in S_c:\n",
    "            alpha_j.append(abs(np.dot(X[X.columns[j]], r)))\n",
    "        jmax = np.argmax(alpha_j)\n",
    "        S.append(S_c[jmax])\n",
    "        Mat_Xs = pd.DataFrame([])\n",
    "        for indice in S:\n",
    "            Mat_Xs_int = pd.DataFrame(X[X.columns[indice]])\n",
    "            Mat_Xs = pd.concat([Mat_Xs, Mat_Xs_int[Mat_Xs_int.columns[0]]], axis=1)                  \n",
    "        Regr = linear_model.LinearRegression(normalize=True)\n",
    "        Regr.fit(Mat_Xs, y)\n",
    "        Regr_coef = Regr.coef_\n",
    "        theta_int = Regr_coef\n",
    "        Regr_intercept = Regr.intercept_\n",
    "        r = y-np.dot(Mat_Xs, theta_int)\n",
    "    theta[S] = theta_int\n",
    "    return theta\n",
    "\n",
    "# On teste sur les données de l'exercice 1 c'est à dire les variables explicatives centrées réduites et y_train\n",
    "print stpforward(y_train, x_scaled, 4)\n",
    "\n",
    " \n",
    "    \n",
    "    "
   ]
  },
  {
   "cell_type": "markdown",
   "metadata": {},
   "source": [
    "# 2)"
   ]
  },
  {
   "cell_type": "code",
   "execution_count": 190,
   "metadata": {
    "collapsed": false
   },
   "outputs": [],
   "source": [
    "import numpy as np\n",
    "from sklearn.linear_model.base import LinearModel, _pre_fit\n",
    "from sklearn.base import RegressorMixin\n",
    "class MYOMP(LinearModel, RegressorMixin):\n",
    "    def __init__(self, n_nonzero_coefs=None, fit_intercept=True,\n",
    "                 normalize=True, precompute='auto'):\n",
    "        self.n_nonzero_coefs = n_nonzero_coefs\n",
    "        self.fit_intercept = fit_intercept\n",
    "        self.normalize = normalize\n",
    "        self.precompute = precompute\n",
    "    \n",
    "    def fit(self, X, y):\n",
    "        \"\"\"Fit the model using X, y as training data.\n",
    "        Parameters\n",
    "        ----------\n",
    "        X : array-like, shape (n_samples, n_features)\n",
    "        Training data.\n",
    "        y : array-like, shape (n_samples,) or (n_samples, n_targets)\n",
    "        Target values.\n",
    "        Returns\n",
    "        -------\n",
    "        self : object\n",
    "        returns an instance of self.\n",
    "        \"\"\"\n",
    "        X, y, X_mean, y_mean, X_std, Gram, Xy = \\\n",
    "        _pre_fit(X, y, None, self.precompute, self.normalize,\n",
    "        self.fit_intercept, copy=True)\n",
    "        self.coef_ = stpforward(y, X, M) # MODIFY HERE !!!\n",
    "        self._set_intercept(X_mean, y_mean, X_std)\n",
    "        return self\n"
   ]
  },
  {
   "cell_type": "markdown",
   "metadata": {},
   "source": [
    "# 3)"
   ]
  },
  {
   "cell_type": "code",
   "execution_count": 213,
   "metadata": {
    "collapsed": false
   },
   "outputs": [
    {
     "ename": "TypeError",
     "evalue": "__init__() got an unexpected keyword argument 'M'",
     "output_type": "error",
     "traceback": [
      "\u001b[1;31m---------------------------------------------------------------------------\u001b[0m",
      "\u001b[1;31mTypeError\u001b[0m                                 Traceback (most recent call last)",
      "\u001b[1;32m<ipython-input-213-549078e3bb9a>\u001b[0m in \u001b[0;36m<module>\u001b[1;34m()\u001b[0m\n\u001b[1;32m----> 1\u001b[1;33m \u001b[0mMYOMP\u001b[0m\u001b[1;33m(\u001b[0m\u001b[0mdataset\u001b[0m\u001b[1;33m,\u001b[0m\u001b[0mM\u001b[0m\u001b[1;33m=\u001b[0m\u001b[1;36m5\u001b[0m\u001b[1;33m)\u001b[0m\u001b[1;33m\u001b[0m\u001b[0m\n\u001b[0m",
      "\u001b[1;31mTypeError\u001b[0m: __init__() got an unexpected keyword argument 'M'"
     ]
    }
   ],
   "source": [
    "MYOMP(dataset,M=5)"
   ]
  },
  {
   "cell_type": "markdown",
   "metadata": {},
   "source": [
    "# 4)"
   ]
  },
  {
   "cell_type": "code",
   "execution_count": 206,
   "metadata": {
    "collapsed": false
   },
   "outputs": [
    {
     "data": {
      "text/plain": [
       "OrthogonalMatchingPursuit(fit_intercept=True,\n",
       "             n_nonzero_coefs=     Ozone  Solar.R  Wind  Temp  Month  Day\n",
       "0       41      190   7.4    67      5    1\n",
       "1       36      118   8.0    72      5    2\n",
       "2       12      149  12.6    74      5    3\n",
       "3       18      313  11.5    62      5    4\n",
       "6       23      299   8.6    65      5    7\n",
       "7       19       99 ...     131   8.0    76      9   29\n",
       "152     20      223  11.5    68      9   30\n",
       "\n",
       "[111 rows x 6 columns],\n",
       "             normalize=True, precompute='auto', tol=4)"
      ]
     },
     "execution_count": 206,
     "metadata": {},
     "output_type": "execute_result"
    }
   ],
   "source": [
    "from sklearn.linear_model import OrthogonalMatchingPursuit\n",
    "OrthogonalMatchingPursuit(dataset,4)"
   ]
  },
  {
   "cell_type": "code",
   "execution_count": null,
   "metadata": {
    "collapsed": true
   },
   "outputs": [],
   "source": []
  }
 ],
 "metadata": {
  "kernelspec": {
   "display_name": "Python 2",
   "language": "python",
   "name": "python2"
  },
  "language_info": {
   "codemirror_mode": {
    "name": "ipython",
    "version": 2
   },
   "file_extension": ".py",
   "mimetype": "text/x-python",
   "name": "python",
   "nbconvert_exporter": "python",
   "pygments_lexer": "ipython2",
   "version": "2.7.10"
  }
 },
 "nbformat": 4,
 "nbformat_minor": 0
}
