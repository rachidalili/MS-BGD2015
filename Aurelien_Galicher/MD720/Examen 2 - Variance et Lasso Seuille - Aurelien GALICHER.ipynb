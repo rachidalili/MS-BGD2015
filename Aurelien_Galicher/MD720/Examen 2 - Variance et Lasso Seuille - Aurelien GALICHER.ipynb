{
 "cells": [
  {
   "cell_type": "code",
   "execution_count": 197,
   "metadata": {
    "collapsed": false
   },
   "outputs": [
    {
     "name": "stdout",
     "output_type": "stream",
     "text": [
      "Installed pep8_magic.py. To use it, type:\n",
      "  %load_ext pep8_magic\n",
      "The pep8_magic extension is already loaded. To reload it, use:\n",
      "  %reload_ext pep8_magic\n"
     ]
    }
   ],
   "source": [
    "%install_ext https://raw.githubusercontent.com/SiggyF/notebooks/master/pep8_magic.py\n",
    "%load_ext pep8_magic"
   ]
  },
  {
   "cell_type": "code",
   "execution_count": 198,
   "metadata": {
    "collapsed": false
   },
   "outputs": [],
   "source": [
    "import numpy as np\n",
    "import matplotlib.pyplot as plt  # for plots\n",
    "import pandas as pd\n",
    "from matplotlib import rc\n",
    "%matplotlib inline\n",
    "import statsmodels.api as sm\n",
    "import statsmodels.formula.api as smf\n",
    "from sklearn import preprocessing\n",
    "import sklearn.linear_model as lm\n",
    "import scipy as sc\n",
    "from sklearn.utils import resample\n",
    "import seaborn as sns\n",
    "import os as macosx\n",
    "import math\n",
    "from os import mkdir, path\n",
    "from IPython.display import display, Math, Latex\n",
    "macosx.environ['PATH'] = macosx.environ['PATH'] + ':/usr/texbin'\n"
   ]
  },
  {
   "cell_type": "markdown",
   "metadata": {},
   "source": [
    "# Exercice 1. (Estimateur de la variance (2 points))"
   ]
  },
  {
   "cell_type": "markdown",
   "metadata": {},
   "source": [
    "le biais de cet estimateur est:\n",
    "$$  BIAIS(\\mathbf{V}_{\\alpha}) = ((n-1)\\alpha - 1) \\sigma^2  $$"
   ]
  },
  {
   "cell_type": "markdown",
   "metadata": {},
   "source": [
    "par ailleurs:\n",
    "        $$ MSE(V_{\\alpha}|\\sigma^2) = BIAIS(V_{\\alpha})^2 + Var(V_{\\alpha}) $$"
   ]
  },
  {
   "cell_type": "markdown",
   "metadata": {},
   "source": [
    "en conséquence\n",
    "$$ MSE(V_{\\alpha}|\\sigma^2) = \\sigma^4((n-1)^2\\alpha^2+1) $$"
   ]
  },
  {
   "cell_type": "markdown",
   "metadata": {},
   "source": [
    "la valeur alpha qui fournit le risque minimal est:\n",
    "    $$ \\alpha = \\frac{1}{n-1} $$"
   ]
  },
  {
   "cell_type": "markdown",
   "metadata": {},
   "source": [
    "# Exercice 2. (Lasso seuillé (13 pts))"
   ]
  },
  {
   "cell_type": "code",
   "execution_count": 199,
   "metadata": {
    "collapsed": false
   },
   "outputs": [],
   "source": [
    "from sklearn.datasets.mldata import fetch_mldata\n",
    "test_data_home = tempfile.mkdtemp()\n",
    "dataset_name = 'leukemia'\n",
    "data = fetch_mldata(dataset_name)\n",
    "X = data.data\n",
    "y = data.target\n",
    "X = X.astype(float)\n",
    "y = y.astype(float)"
   ]
  },
  {
   "cell_type": "markdown",
   "metadata": {},
   "source": [
    "1) Donner le nombre d’observations et de variables explicatives (features) de cette base de\n",
    "données. Appliquer un pré-traitement afin que chaque colonne de X soit de variance empirique\n",
    "égale à 1. (0.5 pt)"
   ]
  },
  {
   "cell_type": "code",
   "execution_count": 200,
   "metadata": {
    "collapsed": false
   },
   "outputs": [
    {
     "name": "stdout",
     "output_type": "stream",
     "text": [
      "nombre d'observations: 72\n",
      "nombre de variables explicatives: 7129\n"
     ]
    }
   ],
   "source": [
    "print \"nombre d'observations: %s\" % (X.shape[0])\n",
    "print \"nombre de variables explicatives: %s\" % (X.shape[1])"
   ]
  },
  {
   "cell_type": "code",
   "execution_count": 201,
   "metadata": {
    "collapsed": false
   },
   "outputs": [],
   "source": [
    "from sklearn import preprocessing\n",
    "scaler = preprocessing.StandardScaler().fit(X)\n",
    "X_scaled = scaler.transform(X)"
   ]
  },
  {
   "cell_type": "markdown",
   "metadata": {},
   "source": [
    "2) Appliquer une analyse en composantes principales sur la matrice X, et visualiser les variables\n",
    "explicatives en dimension d “ 1, puis d “ 2 en projetant sur les axes principaux qui\n",
    "conviennent. (1 pt)"
   ]
  },
  {
   "cell_type": "code",
   "execution_count": 202,
   "metadata": {
    "collapsed": false
   },
   "outputs": [
    {
     "name": "stdout",
     "output_type": "stream",
     "text": [
      "[ 0.22568728  0.11655105]\n"
     ]
    }
   ],
   "source": [
    "from sklearn.decomposition import PCA\n",
    "pca = PCA(n_components=2)\n",
    "pca.fit(X_scaled)\n",
    "print(pca.explained_variance_ratio_) "
   ]
  },
  {
   "cell_type": "code",
   "execution_count": 203,
   "metadata": {
    "collapsed": true
   },
   "outputs": [],
   "source": [
    "## utilitaire pour le plot\n",
    "def scatter(x, y, lbl):\n",
    "    colors = np.random.rand(X.shape[0])\n",
    "    s = 50\n",
    "    plt.figure()\n",
    "    plt.scatter(x, y, c=colors[:len(lbl)], s=50)\n",
    "\n",
    "    for xi, yi, lbl in zip(x, y, lbl):\n",
    "        plt.annotate(lbl, (xi, yi))\n",
    "    plt.show()"
   ]
  },
  {
   "cell_type": "code",
   "execution_count": 204,
   "metadata": {
    "collapsed": false
   },
   "outputs": [
    {
     "data": {
      "image/png": "[encoded data removed]",
      "text/plain": [
       "<matplotlib.figure.Figure at 0x110a6e410>"
      ]
     },
     "metadata": {},
     "output_type": "display_data"
    }
   ],
   "source": [
    "# visualisation sur l'axe principal\n",
    "X_pca = pca.transform(X_scaled)\n",
    "scatter(X_pca[:,0], np.zeros(X_pca.shape[0]), range(X_scaled.shape[0]))"
   ]
  },
  {
   "cell_type": "code",
   "execution_count": 205,
   "metadata": {
    "collapsed": false
   },
   "outputs": [
    {
     "data": {
      "image/png": "[encoded data removed]",
      "text/plain": [
       "<matplotlib.figure.Figure at 0x10f936d50>"
      ]
     },
     "metadata": {},
     "output_type": "display_data"
    }
   ],
   "source": [
    "# visualisation sur les deux axes principaux\n",
    "X_pca = pca.transform(X_scaled)\n",
    "scatter(X_pca[:,0], X_pca[:,1], range(X_scaled.shape[1]))"
   ]
  },
  {
   "cell_type": "markdown",
   "metadata": {},
   "source": [
    "3) Couper les données en deux ensembles : un pour l’entraînement pXtrain\n",
    ", y\n",
    "trainq et un pour\n",
    "le test pXtest\n",
    ", y\n",
    "testq. On utilisera 80% des données pour l’entraînement (utiliser par exemple\n",
    "la fonction cross_validation.train_test_split de sklearn). (0.5 pt)"
   ]
  },
  {
   "cell_type": "code",
   "execution_count": 206,
   "metadata": {
    "collapsed": true
   },
   "outputs": [],
   "source": [
    "from sklearn.cross_validation import train_test_split\n",
    "X_train, X_test, y_train, y_test = train_test_split(X, y, test_size=0.20, random_state=42)"
   ]
  },
  {
   "cell_type": "markdown",
   "metadata": {},
   "source": [
    "4) Trouver mathématiquement λprime en fonction de λ"
   ]
  },
  {
   "cell_type": "markdown",
   "metadata": {},
   "source": [
    "$$ \\lambda^{'} = \\frac{\\lambda}{n} $$"
   ]
  },
  {
   "cell_type": "markdown",
   "metadata": {},
   "source": [
    "5) Utiliser LassoCV sur X_train, y_train"
   ]
  },
  {
   "cell_type": "code",
   "execution_count": 207,
   "metadata": {
    "collapsed": false
   },
   "outputs": [
    {
     "name": "stdout",
     "output_type": "stream",
     "text": [
      "score R^2 de prédiction sur le jeu de test: 0.564201486601\n",
      "erreur quadratique sur le jeu de test: 5.81064684532\n"
     ]
    }
   ],
   "source": [
    "from sklearn.linear_model import LassoCV\n",
    "model = LassoCV(fit_intercept= False).fit(X_train, y_train)\n",
    "print \"score R^2 de prédiction sur le jeu de test: %s\" % (model.score(X_test, y_test))\n",
    "print \"erreur quadratique sur le jeu de test: %s\" % (np.linalg.norm(y_test - model.predict(X_test),2)**2)"
   ]
  },
  {
   "cell_type": "markdown",
   "metadata": {},
   "source": [
    "6) Coder la méthode suivante :"
   ]
  },
  {
   "cell_type": "markdown",
   "metadata": {},
   "source": [
    "je choisis d'implémenter une classe LassoSeuilleLasso qui hérite de Lasso de sklearn. la fonction lassoSeuille est incluse dans la classe."
   ]
  },
  {
   "cell_type": "code",
   "execution_count": 208,
   "metadata": {
    "collapsed": true
   },
   "outputs": [],
   "source": [
    "class LassoSeuilleLasso(lm.Lasso):\n",
    "    \n",
    "    def __init__(self, tau=1e-4 ,alpha=1.0, fit_intercept=True, normalize=False,\n",
    "                 precompute=False, copy_X=True, max_iter=1000,\n",
    "                 tol=1e-4, warm_start=False, positive=False,\n",
    "                 random_state=None, selection='cyclic'):\n",
    "        super(LassoSeuilleLasso, self).__init__(\n",
    "            alpha=alpha, fit_intercept=fit_intercept, normalize=normalize,\n",
    "                 precompute=precompute, copy_X=copy_X, max_iter=max_iter,\n",
    "                 tol=tol, warm_start=warm_start, positive=positive,\n",
    "                 random_state=random_state, selection=selection)\n",
    "        self.tau = tau\n",
    "        \n",
    "    \n",
    "    def lassoSeuille(self, X, y):    \n",
    "        \"\"\"lassoSeuille.\n",
    "        Parameters\n",
    "        -----------\n",
    "        X : ndarray or scipy.sparse matrix, (n_samples, n_features)\n",
    "            Data\n",
    "        y : ndarray, shape (n_samples,) or (n_samples, n_targets)\n",
    "            Target\n",
    "        Input: alpha, tau\n",
    "        Notes\n",
    "        -----\n",
    "        \"\"\"\n",
    "\n",
    "        n, p = X.shape\n",
    "        setSupport = []\n",
    "        super(LassoSeuilleLasso, self).fit(X, y)\n",
    "        \n",
    "        for i in range(0,p):\n",
    "            if abs(self.coef_[i]) > self.tau:\n",
    "                setSupport.append(i)\n",
    "        if len(setSupport) > 0:       \n",
    "            X_support = X[:,list(setSupport)]\n",
    "            linreg = lm.LinearRegression(fit_intercept=self.fit_intercept,\n",
    "                                     normalize=self.normalize, copy_X=self.copy_X)\n",
    "            linreg.fit(X_support,y[:,np.newaxis])\n",
    "        else:\n",
    "            return 0, 0, []\n",
    "        \n",
    "        return linreg.coef_, linreg.intercept_, list(setSupport)\n",
    "\n",
    "    def fit(self, X, y, check_input=True):\n",
    "        \"\"\"Fit model with coordinate descent.\n",
    "        Parameters\n",
    "        -----------\n",
    "        X : ndarray or scipy.sparse matrix, (n_samples, n_features)\n",
    "            Data\n",
    "        y : ndarray, shape (n_samples,) or (n_samples, n_targets)\n",
    "            Target\n",
    "        Notes\n",
    "        -----\n",
    "        \"\"\"\n",
    "        coef, intercept, support = self.lassoSeuille(X, y)\n",
    "        self.coef_ = np.zeros(len(self.coef_))\n",
    "        self.coef_[support] = coef\n",
    "        self.intercept_ = intercept \n",
    "        # return self for chaining fit and predict calls\n",
    "        return self"
   ]
  },
  {
   "cell_type": "code",
   "execution_count": 209,
   "metadata": {
    "collapsed": false
   },
   "outputs": [
    {
     "name": "stdout",
     "output_type": "stream",
     "text": [
      "score R^2 de prédiction sur le jeu de test: 0.680438085531\n",
      "erreur quadratique sur le jeu de test: 4.26082552625\n"
     ]
    }
   ],
   "source": [
    "model_seuille = LassoSeuilleLasso(alpha = model.alpha_, tau = 1e-4, fit_intercept= False)\n",
    "model_seuille.fit(X_train, y_train)\n",
    "model_seuille.score(X_test, y_test)\n",
    "print \"score R^2 de prédiction sur le jeu de test: %s\" % (model_seuille.score(X_test, y_test))\n",
    "print \"erreur quadratique sur le jeu de test: %s\" % (np.linalg.norm(y_test - model_seuille.predict(X_test),2)**2)"
   ]
  },
  {
   "cell_type": "markdown",
   "metadata": {},
   "source": [
    "7) Proposer et calculer deux estimateurs σˆ de l’écart type du bruit. "
   ]
  },
  {
   "cell_type": "code",
   "execution_count": 210,
   "metadata": {
    "collapsed": false
   },
   "outputs": [
    {
     "name": "stdout",
     "output_type": "stream",
     "text": [
      "estimateur avec biais: 0.0506830689278\n",
      "estimateur sans biais: 0.0521311566114\n"
     ]
    }
   ],
   "source": [
    "#estimateur de sigma_hat avec biais\n",
    "sigma_hat_b = np.linalg.norm(y_train-model.predict(X_train),2)/n\n",
    "print \"estimateur avec biais: %s\" % sigma_hat_b\n",
    "#estimateur de sigma_hat sans biais\n",
    "sigma_hat = np.linalg.norm(y_train-model.predict(X_train),2)/(n-np.rank(X_train))\n",
    "print \"estimateur sans biais: %s\" % sigma_hat"
   ]
  },
  {
   "cell_type": "markdown",
   "metadata": {},
   "source": [
    "8) Écrire une procédure de validation croisée pour la procédure “Lasso Seuillé”"
   ]
  },
  {
   "cell_type": "code",
   "execution_count": 211,
   "metadata": {
    "collapsed": false
   },
   "outputs": [
    {
     "name": "stdout",
     "output_type": "stream",
     "text": [
      "valeur optimal de tau 0.111749549782 :\n",
      "meilleur estimateur: LassoSeuilleLasso(alpha=0.1, copy_X=True, fit_intercept=False, max_iter=1000,\n",
      "         normalize=False, positive=False, precompute=False,\n",
      "         random_state=None, selection='cyclic', tau=0.1, tol=0.0001,\n",
      "         warm_start=False) \n",
      "score R^2 de prédiction sur le jeu de test: 0.594900779612\n",
      "erreur quadratique sur le jeu de test: 5.4013229385\n"
     ]
    }
   ],
   "source": [
    "from sklearn import grid_search\n",
    "clf_l = LassoSeuilleLasso(alpha=0.1, fit_intercept= False)\n",
    "n, p = X.shape\n",
    "tau = sigma_hat*np.sqrt(np.log(p/n))\n",
    "print \"valeur optimal de tau %s :\" % tau\n",
    "parameters = {'alpha':  [ 10**i for i in range (-5,5)], 'tau': [0.01, 0.05, 0.1, 0.15, 0.20]}\n",
    "gs_l = grid_search.GridSearchCV(clf_l, param_grid = parameters, cv=5)\n",
    "gs_l.fit(X_train, y_train)\n",
    "gs_l.score(X_train,y_train)\n",
    "#gs_l.get_params()\n",
    "print \"meilleur estimateur: %s \" % (gs_l.best_estimator_)\n",
    "print \"score R^2 de prédiction sur le jeu de test: %s\" % (gs_l.score(X_test, y_test))\n",
    "print \"erreur quadratique sur le jeu de test: %s\" % (np.linalg.norm(y_test - gs_l.predict(X_test),2)**2)"
   ]
  },
  {
   "cell_type": "markdown",
   "metadata": {},
   "source": [
    "9) Comparer l’erreur de prédiction obtenue sur la partie “test” pour : a) le “Lasso Seuillé” avec\n",
    "validation croisée (de la question précédente) b) le LassoCV et c) l’estimateur des moindres\n",
    "carrées, toujours sans intercept. (0.5 pts)"
   ]
  },
  {
   "cell_type": "code",
   "execution_count": 212,
   "metadata": {
    "collapsed": false
   },
   "outputs": [
    {
     "data": {
      "text/plain": [
       "-1.8139429334750967"
      ]
     },
     "execution_count": 212,
     "metadata": {},
     "output_type": "execute_result"
    }
   ],
   "source": [
    "# création du modèle de régréssion linéaire standard\n",
    "model_l = lm.LinearRegression(fit_intercept=False)\n",
    "model_l.fit(X_train, y_train)\n",
    "model_l.score(X_test, y_test)\n",
    "\n"
   ]
  },
  {
   "cell_type": "code",
   "execution_count": 213,
   "metadata": {
    "collapsed": false
   },
   "outputs": [
    {
     "data": {
      "text/html": [
       "<div>\n",
       "<table border=\"1\" class=\"dataframe\">\n",
       "  <thead>\n",
       "    <tr style=\"text-align: right;\">\n",
       "      <th></th>\n",
       "      <th>Lasso Seuillé</th>\n",
       "      <th>LassoCV</th>\n",
       "      <th>LinearRegression</th>\n",
       "    </tr>\n",
       "  </thead>\n",
       "  <tbody>\n",
       "    <tr>\n",
       "      <th>score</th>\n",
       "      <td>0.594901</td>\n",
       "      <td>0.564201</td>\n",
       "      <td>-1.813943</td>\n",
       "    </tr>\n",
       "    <tr>\n",
       "      <th>MSE</th>\n",
       "      <td>5.401323</td>\n",
       "      <td>5.810647</td>\n",
       "      <td>37.519239</td>\n",
       "    </tr>\n",
       "  </tbody>\n",
       "</table>\n",
       "</div>"
      ],
      "text/plain": [
       "       Lasso Seuillé   LassoCV  LinearRegression\n",
       "score       0.594901  0.564201         -1.813943\n",
       "MSE         5.401323  5.810647         37.519239"
      ]
     },
     "execution_count": 213,
     "metadata": {},
     "output_type": "execute_result"
    }
   ],
   "source": [
    "# création du tableau de comparaison\n",
    "models = [gs_l, model, model_l]\n",
    "df = pd.DataFrame(columns=[\"Lasso Seuillé\", \"LassoCV\", \"LinearRegression\"])\n",
    "df.loc['score'] = list(map(lambda x: x.score(X_test, y_test), models))\n",
    "df.loc['MSE'] = list(map(lambda x: np.linalg.norm(y_test-x.predict(X_test),2)**2, models))\n",
    "df"
   ]
  },
  {
   "cell_type": "markdown",
   "metadata": {},
   "source": [
    "10) Tester une autre méthode de votre choix pour essayer d’améliorer la prédiction. (0.5 pt)"
   ]
  },
  {
   "cell_type": "markdown",
   "metadata": {},
   "source": [
    "on choisit de tester avec la méthode RidgeCV"
   ]
  },
  {
   "cell_type": "code",
   "execution_count": 214,
   "metadata": {
    "collapsed": false
   },
   "outputs": [
    {
     "name": "stdout",
     "output_type": "stream",
     "text": [
      "score R^2 de prédiction sur le jeu de test: -1.74842523831\n",
      "erreur quadratique sur le jeu de test: 36.6456698441\n"
     ]
    }
   ],
   "source": [
    "from sklearn.linear_model import RidgeCV\n",
    "ridgecv = RidgeCV(fit_intercept=False)\n",
    "ridgecv.fit(X_train, y_train)\n",
    "print \"score R^2 de prédiction sur le jeu de test: %s\" % (ridgecv.score(X_test, y_test))\n",
    "print \"erreur quadratique sur le jeu de test: %s\" % (np.linalg.norm(y_test - ridgecv.predict(X_test),2)**2)"
   ]
  },
  {
   "cell_type": "markdown",
   "metadata": {},
   "source": [
    "11) Reprendre l’ensemble des comparaisons précédentes, mais cette fois en tenant compte de\n",
    "l’intercept dans votre démarche. (0.5 pts)"
   ]
  },
  {
   "cell_type": "code",
   "execution_count": 215,
   "metadata": {
    "collapsed": false
   },
   "outputs": [],
   "source": [
    "\n",
    "modelLCV = LassoCV(fit_intercept= True).fit(X_train, y_train)\n",
    "clf_l = LassoSeuilleLasso(alpha=0.1, fit_intercept= True)\n",
    "parameters = {'alpha':  [ 10**i for i in range (-5,5)], 'tau': [0.01, 0.05, 0.1, 0.15, 0.20]}\n",
    "gs_l = grid_search.GridSearchCV(clf_l, param_grid = parameters, cv=5).fit(X_train, y_train)\n",
    "model_l = lm.LinearRegression(fit_intercept=True).fit(X_train, y_train)\n",
    "models_w_intercept = [gs_l, modelLCV, model_l]\n"
   ]
  },
  {
   "cell_type": "code",
   "execution_count": 216,
   "metadata": {
    "collapsed": false
   },
   "outputs": [
    {
     "data": {
      "text/html": [
       "<div>\n",
       "<table border=\"1\" class=\"dataframe\">\n",
       "  <thead>\n",
       "    <tr style=\"text-align: right;\">\n",
       "      <th></th>\n",
       "      <th>Lasso Seuillé</th>\n",
       "      <th>LassoCV</th>\n",
       "      <th>LinearRegression</th>\n",
       "    </tr>\n",
       "  </thead>\n",
       "  <tbody>\n",
       "    <tr>\n",
       "      <th>score</th>\n",
       "      <td>0.729427</td>\n",
       "      <td>0.762642</td>\n",
       "      <td>0.706204</td>\n",
       "    </tr>\n",
       "    <tr>\n",
       "      <th>MSE</th>\n",
       "      <td>3.607636</td>\n",
       "      <td>3.164777</td>\n",
       "      <td>3.917279</td>\n",
       "    </tr>\n",
       "  </tbody>\n",
       "</table>\n",
       "</div>"
      ],
      "text/plain": [
       "       Lasso Seuillé   LassoCV  LinearRegression\n",
       "score       0.729427  0.762642          0.706204\n",
       "MSE         3.607636  3.164777          3.917279"
      ]
     },
     "execution_count": 216,
     "metadata": {},
     "output_type": "execute_result"
    }
   ],
   "source": [
    "df2 = pd.DataFrame(columns=[\"Lasso Seuillé\", \"LassoCV\", \"LinearRegression\"])\n",
    "df2.loc['score'] = list(map(lambda x: x.score(X_test, y_test), models_w_intercept))\n",
    "df2.loc['MSE'] = list(map(lambda x: np.linalg.norm(y_test-x.predict(X_test),2)**2, models_w_intercept))\n",
    "df2"
   ]
  },
  {
   "cell_type": "markdown",
   "metadata": {},
   "source": [
    "12) Bonus : Comparer les performances sur la partie test, de LassoCV (en le modifiant pour retourner\n",
    "une prédiction valant soit 1 soit ´1) contre LogisticRegressionCV. On utilisera ici\n",
    "l’erreur 0{1 (i.e., la proportion d’erreurs de “classe” faites) comme mesure de performance.\n",
    "(1 pt)"
   ]
  },
  {
   "cell_type": "code",
   "execution_count": 217,
   "metadata": {
    "collapsed": false
   },
   "outputs": [],
   "source": [
    "predict_lasso = modelLCV.predict(X_test)"
   ]
  },
  {
   "cell_type": "code",
   "execution_count": 218,
   "metadata": {
    "collapsed": false
   },
   "outputs": [],
   "source": [
    "predict_lasso_class = np.array(list(map(lambda x: 1 if x>=0 else -1, predict_lasso)))"
   ]
  },
  {
   "cell_type": "code",
   "execution_count": 219,
   "metadata": {
    "collapsed": false
   },
   "outputs": [],
   "source": [
    "from sklearn.linear_model import LogisticRegressionCV\n",
    "LogRCV = LogisticRegressionCV().fit(X_train, y_train)\n"
   ]
  },
  {
   "cell_type": "code",
   "execution_count": 220,
   "metadata": {
    "collapsed": false
   },
   "outputs": [
    {
     "name": "stdout",
     "output_type": "stream",
     "text": [
      "erreur 0/1 LassoCV : 0.952380952381\n",
      "erreur 0/1 Logistic Regression : 1.0\n"
     ]
    }
   ],
   "source": [
    "from sklearn.metrics import f1_score\n",
    "print \"erreur 0/1 LassoCV : %s\" % f1_score(y_test, predict_lasso_class)\n",
    "print \"erreur 0/1 Logistic Regression : %s\" % f1_score(y_test, LogRCV.predict(X_test))\n"
   ]
  },
  {
   "cell_type": "code",
   "execution_count": null,
   "metadata": {
    "collapsed": true
   },
   "outputs": [],
   "source": []
  }
 ],
 "metadata": {
  "kernelspec": {
   "display_name": "Python 2",
   "language": "python",
   "name": "python2"
  },
  "language_info": {
   "codemirror_mode": {
    "name": "ipython",
    "version": 2
   },
   "file_extension": ".py",
   "mimetype": "text/x-python",
   "name": "python",
   "nbconvert_exporter": "python",
   "pygments_lexer": "ipython2",
   "version": "2.7.10"
  }
 },
 "nbformat": 4,
 "nbformat_minor": 0
}
