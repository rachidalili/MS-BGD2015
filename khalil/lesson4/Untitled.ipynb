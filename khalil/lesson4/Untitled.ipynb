{
 "cells": [
  {
   "cell_type": "code",
   "execution_count": 230,
   "metadata": {
    "collapsed": false
   },
   "outputs": [],
   "source": [
    "from bs4 import BeautifulSoup\n",
    "import urllib2\n",
    "import json\n",
    "\n",
    "#argus_url = \"http://www.lacentrale.fr/cote-auto-renault-zoe-life+charge+rapide-2012.html\"\n"
   ]
  },
  {
   "cell_type": "code",
   "execution_count": 233,
   "metadata": {
    "collapsed": false
   },
   "outputs": [
    {
     "ename": "UnboundLocalError",
     "evalue": "local variable 'prix_argus' referenced before assignment",
     "output_type": "error",
     "traceback": [
      "\u001b[1;31m---------------------------------------------------------------------------\u001b[0m",
      "\u001b[1;31mUnboundLocalError\u001b[0m                         Traceback (most recent call last)",
      "\u001b[1;32m<ipython-input-233-4a945981dda5>\u001b[0m in \u001b[0;36m<module>\u001b[1;34m()\u001b[0m\n\u001b[0;32m     74\u001b[0m \u001b[1;33m\u001b[0m\u001b[0m\n\u001b[0;32m     75\u001b[0m \u001b[1;33m\u001b[0m\u001b[0m\n\u001b[1;32m---> 76\u001b[1;33m \u001b[0mrow\u001b[0m \u001b[1;33m=\u001b[0m \u001b[0mget_info\u001b[0m\u001b[1;33m(\u001b[0m\u001b[0murl\u001b[0m\u001b[1;33m)\u001b[0m\u001b[1;33m\u001b[0m\u001b[0m\n\u001b[0m\u001b[0;32m     77\u001b[0m \u001b[1;32mdef\u001b[0m \u001b[0mprocess_row\u001b[0m\u001b[1;33m(\u001b[0m\u001b[0mrow\u001b[0m\u001b[1;33m)\u001b[0m\u001b[1;33m:\u001b[0m\u001b[1;33m\u001b[0m\u001b[0m\n\u001b[0;32m     78\u001b[0m     \u001b[1;32mprint\u001b[0m \u001b[0mrow\u001b[0m\u001b[1;33m[\u001b[0m\u001b[1;36m1\u001b[0m\u001b[1;33m]\u001b[0m\u001b[1;33m\u001b[0m\u001b[0m\n",
      "\u001b[1;32m<ipython-input-205-aa4858273c91>\u001b[0m in \u001b[0;36mget_info\u001b[1;34m(url)\u001b[0m\n\u001b[0;32m     44\u001b[0m         \u001b[0mintens\u001b[0m \u001b[1;33m=\u001b[0m \u001b[0mintens\u001b[0m\u001b[1;33m.\u001b[0m\u001b[0mgroup\u001b[0m\u001b[1;33m(\u001b[0m\u001b[1;36m0\u001b[0m\u001b[1;33m)\u001b[0m\u001b[1;33m\u001b[0m\u001b[0m\n\u001b[0;32m     45\u001b[0m         \u001b[0margus_url\u001b[0m \u001b[1;33m=\u001b[0m \u001b[1;34m\"http://www.lacentrale.fr/cote-auto-renault-zoe-intens+charge+rapide-\"\u001b[0m\u001b[1;33m+\u001b[0m\u001b[0mdate\u001b[0m\u001b[1;33m+\u001b[0m\u001b[1;34m\".html\"\u001b[0m\u001b[1;33m\u001b[0m\u001b[0m\n\u001b[1;32m---> 46\u001b[1;33m         \u001b[0mprix_arg\u001b[0m \u001b[1;33m=\u001b[0m \u001b[0mprix_argus\u001b[0m\u001b[1;33m(\u001b[0m\u001b[0margus_url\u001b[0m\u001b[1;33m)\u001b[0m\u001b[1;33m\u001b[0m\u001b[0m\n\u001b[0m\u001b[0;32m     47\u001b[0m     \u001b[1;32mif\u001b[0m \u001b[0mzen\u001b[0m \u001b[1;32mis\u001b[0m \u001b[0mNone\u001b[0m \u001b[1;32mand\u001b[0m \u001b[0mlife\u001b[0m \u001b[1;32mis\u001b[0m \u001b[1;32mnot\u001b[0m \u001b[0mNone\u001b[0m \u001b[1;32mand\u001b[0m \u001b[0mintens\u001b[0m \u001b[1;32mis\u001b[0m \u001b[0mNone\u001b[0m\u001b[1;33m:\u001b[0m\u001b[1;33m\u001b[0m\u001b[0m\n\u001b[0;32m     48\u001b[0m         \u001b[0mlife\u001b[0m \u001b[1;33m=\u001b[0m \u001b[0mlife\u001b[0m\u001b[1;33m.\u001b[0m\u001b[0mgroup\u001b[0m\u001b[1;33m(\u001b[0m\u001b[1;36m0\u001b[0m\u001b[1;33m)\u001b[0m\u001b[1;33m\u001b[0m\u001b[0m\n",
      "\u001b[1;31mUnboundLocalError\u001b[0m: local variable 'prix_argus' referenced before assignment"
     ]
    }
   ],
   "source": [
    "url = \"http://www.leboncoin.fr/voitures/876165732.htm?ca=21_s\" \n",
    "col = ['annee','kilometrage', 'prix','telephone','url','prix_argus']\n",
    "df = pd.DataFrame(columns=col)\n",
    "import pandas as pd\n",
    "import unicodedata\n",
    "import re\n",
    "\n",
    "class bon_coin(object):\n",
    "    @staticmethod\n",
    "    def prix_ags(argus_url):    \n",
    "        html = urllib2.urlopen(argus_url).read()\n",
    "        soup_3 = BeautifulSoup(html, 'html.parser')\n",
    "        #print soup\n",
    "        prix = soup_3.find('span',{'class':'Result_Cote arial tx20'})\n",
    "        return prix.next\n",
    "    @staticmethod\n",
    "    def get_info(url):\n",
    "        html = urllib2.urlopen(url).read()\n",
    "        soup = BeautifulSoup(html, 'html.parser')\n",
    "        #print soup\n",
    "        soup_1 = soup.find('div',{'class':'lbcParamsContainer floatLeft'})\n",
    "        prix = soup_1.find('tr',{'class':'price'}).find('span',{'class':'price'}).get_text()\n",
    "        #print price\n",
    "        soup_2 = soup.find('div',{'class':'lbcParams criterias'})\n",
    "        #print soup_2\n",
    "        marque_voiture = soup_2.select(\"table > tr:nth-of-type(1)\")  #[0].find('td').get_text()  > tr:nth-of-type(0)\n",
    "        type_voiture = soup_2.select(\"table > tr:nth-of-type(2)\")\n",
    "        kilometrage = soup_2.select(\"table > tr:nth-of-type(3)\")[0].find('td').get_text()\n",
    "        annee = soup_2.find('td',{'itemprop':'releaseDate'}).get_text()\n",
    "        annee = annee.strip()\n",
    "        description = soup.find_all('div',{'class':'content'})\n",
    "        description = str(description)\n",
    "        description = description.replace(\" \",\"\") # remove white spaces\n",
    "        res = re.search('[0-9]\\d{9}',description) #select number with regx\n",
    "        if res is None:\n",
    "            telephone = \"null found\"\n",
    "        else:\n",
    "            telephone = res.group(0)\n",
    "\n",
    "        items = soup.find(\"h1\",{\"itemprop\":\"name\"})\n",
    "        car_type = items.next\n",
    "        car_type = str(car_type)\n",
    "        car_type = car_type.strip()\n",
    "        zen = re.search('zen',car_type,re.IGNORECASE)\n",
    "        life = re.search('life',car_type,re.IGNORECASE)\n",
    "        intens = re.search('intens',car_type,re.IGNORECASE)\n",
    "        \n",
    "        items = soup.find(\"td\",{\"itemprop\":\"releaseDate\"})\n",
    "        date = items.next\n",
    "        date = str(date)\n",
    "        \n",
    "        if zen is None and life is None and intens is not None:\n",
    "            intens = intens.group(0)\n",
    "            argus_url = \"http://www.lacentrale.fr/cote-auto-renault-zoe-intens+charge+rapide-\"+date+\".html\"\n",
    "            #prix_arg = bon_coin.prix_ags(argus_url)\n",
    "        if zen is None and life is not None and intens is None:\n",
    "            life = life.group(0)\n",
    "            argus_url = \"http://www.lacentrale.fr/cote-auto-renault-zoe-life+charge+rapide-\"+date+\".html\"\n",
    "            #prix_arg = bon_coin.prix_ags(argus_url)\n",
    "\n",
    "        if zen is not None and life is None and intens is None:\n",
    "            zen = zen.group(0)\n",
    "            argus_url = \"http://www.lacentrale.fr/cote-auto-renault-zoe-zen+charge+rapide-\"+date+\".html\"\n",
    "            #prix_arg = bon_coin.prix_ags(argus_url)\n",
    "\n",
    "        if zen is None and life is None and intens is None:\n",
    "\n",
    "            prix_arg = \"argus is not mentionned\"\n",
    "\n",
    "        #print res.group(0)\n",
    "\n",
    "        row = [annee,kilometrage,prix,telephone,'prix_arg']\n",
    "        return row\n",
    "    \n",
    "    \n",
    "row = get_info(url)\n",
    "def process_row(row):\n",
    "    print row[1]\n",
    "    row[1] =  str(row[1])\n",
    "    row[1] = row[1].replace(\"KM\",\"\")\n",
    "    row[1] = row[1].replace(\" \",\"\")\n",
    "    row[1] = float(row[1])\n",
    "    #print row[1]\n",
    "\n",
    "    row[2] = unicodedata.normalize('NFKD', row[2]).encode('ascii','ignore')  # remove euro caracter\n",
    "    row[2] = row[2].replace(\" \", \"\")   # remove white space\n",
    "    row[2] = float(row[2])   # convert to float\n",
    "    return row\n",
    "url = \"http://www.leboncoin.fr/voitures/868143423.htm?ca=21_s\" \n",
    "obj = bon_coin\n",
    "row = obj.get_info(url)\n",
    "#row = get_info(url)\n",
    "row = process_row(row)\n",
    "print row[3]\n",
    "print df.shape\n",
    "df2 = pd.DataFrame([row], columns=col)\n",
    "df.append(df2)\n",
    "#print soup\n"
   ]
  },
  {
   "cell_type": "code",
   "execution_count": null,
   "metadata": {
    "collapsed": true
   },
   "outputs": [],
   "source": []
  },
  {
   "cell_type": "code",
   "execution_count": 171,
   "metadata": {
    "collapsed": false
   },
   "outputs": [
    {
     "name": "stdout",
     "output_type": "stream",
     "text": [
      "[u'2014', 6222.0, 13590.0, '0805805802', u'http://www.leboncoin.fr/voitures/876165732.htm?ca=21_s']\n",
      "28 000 KM\n",
      "6 222 KM\n",
      "14 600 KM\n",
      "13 947 KM\n",
      "44 000 KM\n",
      "27 699 KM\n",
      "3 KM\n",
      "39 193 KM\n"
     ]
    }
   ],
   "source": [
    "from bs4 import BeautifulSoup\n",
    "import urllib2\n",
    "import json\n",
    "df = pd.DataFrame(columns=col)\n",
    "url = \"http://www.leboncoin.fr/voitures/offres/provence_alpes_cote_d_azur/?f=a&th=1&q=renault+zo%C3%A9\" \n",
    "html = urllib2.urlopen(url).read()\n",
    "soup = BeautifulSoup(html, 'html.parser')\n",
    "\n",
    "\n",
    "soup = soup.find(\"div\", {\"class\": \"list-lbc\"})\n",
    "#node.find('a',href=True)['href']\n",
    "#print soup.select()\n",
    "#for node in soup:\n",
    " #   print \"Found the URL:\", node.find_all('a', href=True)\n",
    "#print soup\n",
    "#print type(soup)\n",
    "list_annonces = soup.find_all('a',href=True)\n",
    "rows=[]\n",
    "print row\n",
    "df2 = pd.DataFrame([row], columns=col)\n",
    "df = df.append(df2)\n",
    "df.append(df2)\n",
    "#for i in range(0,5):\n",
    "    #link = el['href']\n",
    "    #print link\n",
    "    #row = get_info(link)\n",
    "    #row = process_row(row)\n",
    "    #print row\n",
    "    #print df.shape\n",
    "    #rows = rows.append(row)\n",
    "    #print rows\n",
    "    #df2 = pd.DataFrame([1,1,1,1,1], columns=col)\n",
    "    #df.apply(row, axis=1)\n",
    "    #df.append(df2)\n",
    "    \n",
    "for el in list_annonces:\n",
    "    link = el['href']\n",
    " #  print link\n",
    "    row = get_info(link)\n",
    "    row = process_row(row)\n",
    " #   print row\n",
    "    #print df.shape\n",
    " #   rows = rows.append(row)\n",
    " #   print rows\n",
    "    df2 = pd.DataFrame([row], columns=col)\n",
    "    #df.apply(row, axis=1)\n",
    "    df = df.append(df2)\n",
    "\n"
   ]
  },
  {
   "cell_type": "code",
   "execution_count": 172,
   "metadata": {
    "collapsed": false
   },
   "outputs": [
    {
     "name": "stdout",
     "output_type": "stream",
     "text": [
      "  annee  kilometrage   prix   telephone  \\\n",
      "0  2014         6222  13590  0805805802   \n",
      "0  2012        28000   4990  0667524355   \n",
      "0  2014         6222  13590  0805805802   \n",
      "0  2014        14600  10500  null found   \n",
      "0  2013        13947  11790  null found   \n",
      "0  2012        44000   6500  null found   \n",
      "0  2013        27699   9800  0422170191   \n",
      "0  2015            3  13990  0805805802   \n",
      "0  2013        39193  13800  0494110548   \n",
      "\n",
      "                                                 url  \n",
      "0  http://www.leboncoin.fr/voitures/876165732.htm...  \n",
      "0  http://www.leboncoin.fr/voitures/872129859.htm...  \n",
      "0  http://www.leboncoin.fr/voitures/876165732.htm...  \n",
      "0  http://www.leboncoin.fr/voitures/875135494.htm...  \n",
      "0  http://www.leboncoin.fr/voitures/846972322.htm...  \n",
      "0  http://www.leboncoin.fr/voitures/868981980.htm...  \n",
      "0  http://www.leboncoin.fr/voitures/868143423.htm...  \n",
      "0  http://www.leboncoin.fr/voitures/862742431.htm...  \n",
      "0  http://www.leboncoin.fr/voitures/776971517.htm...  \n"
     ]
    }
   ],
   "source": [
    "print df"
   ]
  },
  {
   "cell_type": "code",
   "execution_count": null,
   "metadata": {
    "collapsed": true
   },
   "outputs": [],
   "source": []
  },
  {
   "cell_type": "code",
   "execution_count": 193,
   "metadata": {
    "collapsed": false
   },
   "outputs": [
    {
     "name": "stdout",
     "output_type": "stream",
     "text": [
      "<td itemprop=\"releaseDate\">\n",
      "                    \n",
      "                        2013\n",
      "                            \n",
      "                        \n",
      "                    \n",
      "                </td>\n",
      "---\n",
      "2013------\n",
      "---\n"
     ]
    },
    {
     "ename": "AttributeError",
     "evalue": "'NoneType' object has no attribute 'group'",
     "output_type": "error",
     "traceback": [
      "\u001b[1;31m---------------------------------------------------------------------------\u001b[0m",
      "\u001b[1;31mAttributeError\u001b[0m                            Traceback (most recent call last)",
      "\u001b[1;32m<ipython-input-193-5b501c0f3b98>\u001b[0m in \u001b[0;36m<module>\u001b[1;34m()\u001b[0m\n\u001b[0;32m     12\u001b[0m \u001b[1;32mprint\u001b[0m \u001b[1;34m'---'\u001b[0m\u001b[1;33m\u001b[0m\u001b[0m\n\u001b[0;32m     13\u001b[0m \u001b[0mres\u001b[0m \u001b[1;33m=\u001b[0m \u001b[0mre\u001b[0m\u001b[1;33m.\u001b[0m\u001b[0msearch\u001b[0m\u001b[1;33m(\u001b[0m\u001b[1;34m'zoe'\u001b[0m\u001b[1;33m,\u001b[0m\u001b[0mcar_type\u001b[0m\u001b[1;33m,\u001b[0m\u001b[0mre\u001b[0m\u001b[1;33m.\u001b[0m\u001b[0mIGNORECASE\u001b[0m\u001b[1;33m)\u001b[0m\u001b[1;33m\u001b[0m\u001b[0m\n\u001b[1;32m---> 14\u001b[1;33m \u001b[1;32mprint\u001b[0m \u001b[0mres\u001b[0m\u001b[1;33m.\u001b[0m\u001b[0mgroup\u001b[0m\u001b[1;33m(\u001b[0m\u001b[1;36m0\u001b[0m\u001b[1;33m)\u001b[0m\u001b[1;33m\u001b[0m\u001b[0m\n\u001b[0m\u001b[0;32m     15\u001b[0m \u001b[1;31m#desc = str(items.select(\"br:nth-of-type(1)\")[0])\u001b[0m\u001b[1;33m\u001b[0m\u001b[1;33m\u001b[0m\u001b[0m\n\u001b[0;32m     16\u001b[0m \u001b[1;31m#print soup.findAll(itemprop=\"description\")\u001b[0m\u001b[1;33m\u001b[0m\u001b[1;33m\u001b[0m\u001b[0m\n",
      "\u001b[1;31mAttributeError\u001b[0m: 'NoneType' object has no attribute 'group'"
     ]
    }
   ],
   "source": [
    "#print soup\n",
    "url = \"http://www.leboncoin.fr/voitures/868143423.htm?ca=21_s\" \n",
    "html = urllib2.urlopen(url).read()\n",
    "soup = BeautifulSoup(html, 'html.parser')\n",
    "\n",
    "items = soup.find(\"td\",{\"itemprop\":\"releaseDate\"})\n",
    "print items\n",
    "car_type = items.next\n",
    "car_type = str(car_type)\n",
    "print '---'\n",
    "print car_type.strip()+'------'\n",
    "print '---'\n",
    "res = re.search('zoe',car_type,re.IGNORECASE)\n",
    "print res.group(0)\n",
    "#desc = str(items.select(\"br:nth-of-type(1)\")[0])\n",
    "#print soup.findAll(itemprop=\"description\")\n",
    "\n",
    "#print description\n"
   ]
  },
  {
   "cell_type": "code",
   "execution_count": 133,
   "metadata": {
    "collapsed": false
   },
   "outputs": [
    {
     "name": "stdout",
     "output_type": "stream",
     "text": [
      "0422170191\n"
     ]
    }
   ],
   "source": [
    "\n",
    "description = str(description)\n",
    "description = description.replace(\" \",\"\") # remove white spaces\n",
    "res = re.search('[0-9]\\d{9}',description) #select number with regx\n",
    "if res is None:\n",
    "        print \"null found\"\n",
    "else:\n",
    "        telephone = res.group(0)\n",
    "        print telephone"
   ]
  },
  {
   "cell_type": "code",
   "execution_count": null,
   "metadata": {
    "collapsed": true
   },
   "outputs": [],
   "source": []
  }
 ],
 "metadata": {
  "kernelspec": {
   "display_name": "Python 2",
   "language": "python",
   "name": "python2"
  },
  "language_info": {
   "codemirror_mode": {
    "name": "ipython",
    "version": 2
   },
   "file_extension": ".py",
   "mimetype": "text/x-python",
   "name": "python",
   "nbconvert_exporter": "python",
   "pygments_lexer": "ipython2",
   "version": "2.7.10"
  }
 },
 "nbformat": 4,
 "nbformat_minor": 0
}
