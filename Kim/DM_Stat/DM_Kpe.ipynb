{
 "cells": [
  {
   "cell_type": "markdown",
   "metadata": {},
   "source": [
    "# Intervalles de conﬁance et méthodes gloutonnes"
   ]
  },
  {
   "cell_type": "markdown",
   "metadata": {},
   "source": [
    "DM : 25/10/2015  MS BGD  Author: Kim Pellegrin"
   ]
  },
  {
   "cell_type": "markdown",
   "metadata": {},
   "source": [
    " "
   ]
  },
  {
   "cell_type": "markdown",
   "metadata": {},
   "source": [
    " "
   ]
  },
  {
   "cell_type": "markdown",
   "metadata": {},
   "source": [
    " "
   ]
  },
  {
   "cell_type": "markdown",
   "metadata": {},
   "source": [
    "##Intervalle de conﬁance dans le modèle gaussien"
   ]
  },
  {
   "cell_type": "markdown",
   "metadata": {},
   "source": [
    "On considère le jeu de donnée airquality , et l’on souhaite expliquer la concentration en ozone\n",
    "en fonction des autres variables disponibles (et de la variable constante). On utilise un modèle\n",
    "linéaire, en supposant les bruits i.i.d., gaussiens, de loi : ε „ N p0n, σ\n",
    "2\n",
    "Idq, avec σ inconnue."
   ]
  },
  {
   "cell_type": "markdown",
   "metadata": {},
   "source": [
    "Le modèle linéaire correspondant s'écrit sous la forme:\n",
    "\n",
    "$ y_i = \\sum_{j=1}^{p}{\\theta}^{*}_j x_{ij} + {\\theta}^{*}_0 + {\\epsilon}_i$    \n",
    "\n",
    "\n",
    "${\\epsilon}_i = {\\cal{N}}(0,{\\sigma}^2)~~~~~~~~~~ \\forall i = 1,...,n$\n",
    "\n",
    "Pour chaque observation $i$, $y_i$ est la concentration en ozone et les $x_{ij}$ sont les valeurs des $j$ variables explicatives."
   ]
  },
  {
   "cell_type": "code",
   "execution_count": 80,
   "metadata": {
    "collapsed": false
   },
   "outputs": [
    {
     "data": {
      "text/html": [
       "<div>\n",
       "<table border=\"1\" class=\"dataframe\">\n",
       "  <thead>\n",
       "    <tr style=\"text-align: right;\">\n",
       "      <th></th>\n",
       "      <th>Ozone</th>\n",
       "      <th>Solar.R</th>\n",
       "      <th>Wind</th>\n",
       "      <th>Temp</th>\n",
       "      <th>Month</th>\n",
       "      <th>Day</th>\n",
       "    </tr>\n",
       "  </thead>\n",
       "  <tbody>\n",
       "    <tr>\n",
       "      <th>count</th>\n",
       "      <td>116.000000</td>\n",
       "      <td>146.000000</td>\n",
       "      <td>153.000000</td>\n",
       "      <td>153.000000</td>\n",
       "      <td>153.000000</td>\n",
       "      <td>153.000000</td>\n",
       "    </tr>\n",
       "    <tr>\n",
       "      <th>mean</th>\n",
       "      <td>42.129310</td>\n",
       "      <td>185.931507</td>\n",
       "      <td>9.957516</td>\n",
       "      <td>77.882353</td>\n",
       "      <td>6.993464</td>\n",
       "      <td>15.803922</td>\n",
       "    </tr>\n",
       "    <tr>\n",
       "      <th>std</th>\n",
       "      <td>32.987885</td>\n",
       "      <td>90.058422</td>\n",
       "      <td>3.523001</td>\n",
       "      <td>9.465270</td>\n",
       "      <td>1.416522</td>\n",
       "      <td>8.864520</td>\n",
       "    </tr>\n",
       "    <tr>\n",
       "      <th>min</th>\n",
       "      <td>1.000000</td>\n",
       "      <td>7.000000</td>\n",
       "      <td>1.700000</td>\n",
       "      <td>56.000000</td>\n",
       "      <td>5.000000</td>\n",
       "      <td>1.000000</td>\n",
       "    </tr>\n",
       "    <tr>\n",
       "      <th>25%</th>\n",
       "      <td>18.000000</td>\n",
       "      <td>115.750000</td>\n",
       "      <td>7.400000</td>\n",
       "      <td>72.000000</td>\n",
       "      <td>6.000000</td>\n",
       "      <td>8.000000</td>\n",
       "    </tr>\n",
       "    <tr>\n",
       "      <th>50%</th>\n",
       "      <td>31.500000</td>\n",
       "      <td>205.000000</td>\n",
       "      <td>9.700000</td>\n",
       "      <td>79.000000</td>\n",
       "      <td>7.000000</td>\n",
       "      <td>16.000000</td>\n",
       "    </tr>\n",
       "    <tr>\n",
       "      <th>75%</th>\n",
       "      <td>63.250000</td>\n",
       "      <td>258.750000</td>\n",
       "      <td>11.500000</td>\n",
       "      <td>85.000000</td>\n",
       "      <td>8.000000</td>\n",
       "      <td>23.000000</td>\n",
       "    </tr>\n",
       "    <tr>\n",
       "      <th>max</th>\n",
       "      <td>168.000000</td>\n",
       "      <td>334.000000</td>\n",
       "      <td>20.700000</td>\n",
       "      <td>97.000000</td>\n",
       "      <td>9.000000</td>\n",
       "      <td>31.000000</td>\n",
       "    </tr>\n",
       "  </tbody>\n",
       "</table>\n",
       "</div>"
      ],
      "text/plain": [
       "            Ozone     Solar.R        Wind        Temp       Month         Day\n",
       "count  116.000000  146.000000  153.000000  153.000000  153.000000  153.000000\n",
       "mean    42.129310  185.931507    9.957516   77.882353    6.993464   15.803922\n",
       "std     32.987885   90.058422    3.523001    9.465270    1.416522    8.864520\n",
       "min      1.000000    7.000000    1.700000   56.000000    5.000000    1.000000\n",
       "25%     18.000000  115.750000    7.400000   72.000000    6.000000    8.000000\n",
       "50%     31.500000  205.000000    9.700000   79.000000    7.000000   16.000000\n",
       "75%     63.250000  258.750000   11.500000   85.000000    8.000000   23.000000\n",
       "max    168.000000  334.000000   20.700000   97.000000    9.000000   31.000000"
      ]
     },
     "execution_count": 80,
     "metadata": {},
     "output_type": "execute_result"
    }
   ],
   "source": [
    "#Import des librairies\n",
    "\n",
    "import numpy as np\n",
    "import pandas as pd\n",
    "import statsmodels.api as sm\n",
    "from sklearn import linear_model\n",
    "import scipy as sp\n",
    "from scipy import linalg\n",
    "import pylab\n",
    "import math\n",
    "\n",
    "#Import des donnees\n",
    "dat = sm.datasets.get_rdataset('airquality').data\n",
    "dat.describe()"
   ]
  },
  {
   "cell_type": "code",
   "execution_count": 81,
   "metadata": {
    "collapsed": false
   },
   "outputs": [
    {
     "data": {
      "text/html": [
       "<div>\n",
       "<table border=\"1\" class=\"dataframe\">\n",
       "  <thead>\n",
       "    <tr style=\"text-align: right;\">\n",
       "      <th></th>\n",
       "      <th>Solar.R</th>\n",
       "      <th>Wind</th>\n",
       "      <th>Temp</th>\n",
       "      <th>Month</th>\n",
       "      <th>Day</th>\n",
       "    </tr>\n",
       "  </thead>\n",
       "  <tbody>\n",
       "    <tr>\n",
       "      <th>0</th>\n",
       "      <td>190</td>\n",
       "      <td>7.4</td>\n",
       "      <td>67</td>\n",
       "      <td>5</td>\n",
       "      <td>1</td>\n",
       "    </tr>\n",
       "    <tr>\n",
       "      <th>1</th>\n",
       "      <td>118</td>\n",
       "      <td>8.0</td>\n",
       "      <td>72</td>\n",
       "      <td>5</td>\n",
       "      <td>2</td>\n",
       "    </tr>\n",
       "    <tr>\n",
       "      <th>2</th>\n",
       "      <td>149</td>\n",
       "      <td>12.6</td>\n",
       "      <td>74</td>\n",
       "      <td>5</td>\n",
       "      <td>3</td>\n",
       "    </tr>\n",
       "    <tr>\n",
       "      <th>3</th>\n",
       "      <td>313</td>\n",
       "      <td>11.5</td>\n",
       "      <td>62</td>\n",
       "      <td>5</td>\n",
       "      <td>4</td>\n",
       "    </tr>\n",
       "    <tr>\n",
       "      <th>6</th>\n",
       "      <td>299</td>\n",
       "      <td>8.6</td>\n",
       "      <td>65</td>\n",
       "      <td>5</td>\n",
       "      <td>7</td>\n",
       "    </tr>\n",
       "  </tbody>\n",
       "</table>\n",
       "</div>"
      ],
      "text/plain": [
       "   Solar.R  Wind  Temp  Month  Day\n",
       "0      190   7.4    67      5    1\n",
       "1      118   8.0    72      5    2\n",
       "2      149  12.6    74      5    3\n",
       "3      313  11.5    62      5    4\n",
       "6      299   8.6    65      5    7"
      ]
     },
     "execution_count": 81,
     "metadata": {},
     "output_type": "execute_result"
    }
   ],
   "source": [
    "#Suppression des lignes contenant des valeurs manquantes (NaN)\n",
    "dat = dat.dropna()\n",
    "\n",
    "X = dat[['Solar.R','Wind','Temp','Month','Day']]\n",
    "X.head()"
   ]
  },
  {
   "cell_type": "code",
   "execution_count": 82,
   "metadata": {
    "collapsed": false
   },
   "outputs": [
    {
     "data": {
      "text/html": [
       "<div>\n",
       "<table border=\"1\" class=\"dataframe\">\n",
       "  <thead>\n",
       "    <tr style=\"text-align: right;\">\n",
       "      <th></th>\n",
       "      <th>Ozone</th>\n",
       "    </tr>\n",
       "  </thead>\n",
       "  <tbody>\n",
       "    <tr>\n",
       "      <th>0</th>\n",
       "      <td>41</td>\n",
       "    </tr>\n",
       "    <tr>\n",
       "      <th>1</th>\n",
       "      <td>36</td>\n",
       "    </tr>\n",
       "    <tr>\n",
       "      <th>2</th>\n",
       "      <td>12</td>\n",
       "    </tr>\n",
       "    <tr>\n",
       "      <th>3</th>\n",
       "      <td>18</td>\n",
       "    </tr>\n",
       "    <tr>\n",
       "      <th>6</th>\n",
       "      <td>23</td>\n",
       "    </tr>\n",
       "  </tbody>\n",
       "</table>\n",
       "</div>"
      ],
      "text/plain": [
       "   Ozone\n",
       "0     41\n",
       "1     36\n",
       "2     12\n",
       "3     18\n",
       "6     23"
      ]
     },
     "execution_count": 82,
     "metadata": {},
     "output_type": "execute_result"
    }
   ],
   "source": [
    "y = dat[['Ozone']]\n",
    "y.head()"
   ]
  },
  {
   "cell_type": "code",
   "execution_count": 83,
   "metadata": {
    "collapsed": false
   },
   "outputs": [
    {
     "data": {
      "text/plain": [
       "LinearRegression(copy_X=True, fit_intercept=True, n_jobs=1, normalize=False)"
      ]
     },
     "execution_count": 83,
     "metadata": {},
     "output_type": "execute_result"
    }
   ],
   "source": [
    "#####################Standardization########################\n",
    "X_norm = (X - X.mean()) / np.std(X)\n",
    "skl_linmod1 = linear_model.LinearRegression()\n",
    "skl_linmod1.fit(X_norm, y)"
   ]
  },
  {
   "cell_type": "code",
   "execution_count": 84,
   "metadata": {
    "collapsed": false
   },
   "outputs": [
    {
     "name": "stdout",
     "output_type": "stream",
     "text": [
      "********************************************\n"
     ]
    }
   ],
   "source": [
    "#Ici on rassemble les valeurs de Theta dans une seule dataframe Theta\n",
    "Theta_tab = [ skl_linmod1.intercept_[0]] + [cel for cel in skl_linmod1.coef_[0]]\n",
    "Theta = pd.DataFrame([Theta_tab],columns=('Theta0', 'Theta1', 'Theta2','Theta3', 'Theta4', 'Theta5'))\n",
    "\n",
    "\n",
    "print \"********************************************\"\n",
    "#Theta_tab =  skl_linmod1.coef_[0]\n",
    "#Theta_params =  pd.DataFrame([Theta_tab],columns=('Theta1', 'Theta2','Theta3', 'Theta4', 'Theta5'))\n"
   ]
  },
  {
   "cell_type": "markdown",
   "metadata": {},
   "source": [
    " "
   ]
  },
  {
   "cell_type": "markdown",
   "metadata": {
    "collapsed": true
   },
   "source": [
    "$L'expression~ de~ l'estimateur~ sans~ biais~ de ~la~ variance~ du~ bruit~ est:$\n",
    "\n",
    "$\\sigma^2 = \\frac{1}{n-rg(X)}||y - X \\hat{\\theta}||^2$\n",
    "\n",
    "$X \\hat{\\theta} = \\hat{y}$\n",
    "    "
   ]
  },
  {
   "cell_type": "code",
   "execution_count": 85,
   "metadata": {
    "collapsed": false
   },
   "outputs": [
    {
     "name": "stdout",
     "output_type": "stream",
     "text": [
      "La variance du bruit est évaluée à:  435.075494992\n"
     ]
    }
   ],
   "source": [
    "y_hat = skl_linmod1.predict(X_norm)\n",
    "\n",
    "res = y_hat - y\n",
    "residus_carre = res.T.dot(res)\n",
    "rg_X = np.linalg.matrix_rank(X_norm)\n",
    "\n",
    "#Notre matrice X ne contient pas de colonne de X0 = 1, on doit donc ajouter 1 au rang pour s'aligner sur la formule du cours\n",
    "variance_bruit = residus_carre /(len(X) - rg_X-1)\n",
    "print \"La variance du bruit est évaluée à: \", variance_bruit[\"Ozone\"][0]"
   ]
  },
  {
   "cell_type": "markdown",
   "metadata": {
    "collapsed": true
   },
   "source": [
    "#Calcul de l'intervalle de confiance des Theta"
   ]
  },
  {
   "cell_type": "code",
   "execution_count": 86,
   "metadata": {
    "collapsed": false
   },
   "outputs": [
    {
     "name": "stdout",
     "output_type": "stream",
     "text": [
      "2.62346549523\n",
      "-2.62346549523 2.62346549523\n"
     ]
    }
   ],
   "source": [
    "#Calcul des bornes pour un intervalle de confiance de 99% sur une loi de students d'ordre n-r-1\n",
    "Alpha = 0.01\n",
    "seuil_t = sp.stats.t.ppf(1-Alpha/2 , df=len(X)-rg_X-1)\n",
    "print seuil_t\n",
    "\n",
    "#Calcul avec une autre fonction pour verification\n",
    "Alpha = 0.01\n",
    "tmin,tmax = sp.stats.t.interval(1-Alpha , df=len(X)-rg_X-1)\n",
    "print tmin, tmax\n"
   ]
  },
  {
   "cell_type": "code",
   "execution_count": 87,
   "metadata": {
    "collapsed": false
   },
   "outputs": [],
   "source": [
    "df_Theta_min = Theta\n",
    "df_Theta_max = Theta\n",
    "var_bruit = variance_bruit.iloc[0][0]\n",
    "#on ajoute une colonne de 1 à X pour prendre en compte Theta 0\n",
    "df = pd.DataFrame(np.ones(len(X_norm)).T, columns=['X0'])\n",
    "\n",
    "#Ajout d'une colonne de 1 à notre matrice X_norm pour intégrer Theta0 dans les calculs\n",
    "X_1_norm = X_norm\n",
    "X_1_norm = sm.add_constant(X_1_norm)\n",
    "\n",
    "\n",
    "mat_temp_1 = np.diag(sp.linalg.inv(np.dot(X_1_norm.T,X_1_norm)))\n",
    "Delta = seuil_t * np.sqrt(var_bruit*mat_temp_1)\n",
    "\n",
    "df_Theta_min = Theta - Delta\n",
    "df_Theta_max = Theta + Delta\n"
   ]
  },
  {
   "cell_type": "code",
   "execution_count": 88,
   "metadata": {
    "collapsed": false
   },
   "outputs": [
    {
     "name": "stdout",
     "output_type": "stream",
     "text": [
      "[ 5.19393103  5.57492265  5.98839587  6.81668042  5.82385951  5.22268975]\n"
     ]
    }
   ],
   "source": [
    "print Delta"
   ]
  },
  {
   "cell_type": "code",
   "execution_count": 89,
   "metadata": {
    "collapsed": false
   },
   "outputs": [
    {
     "name": "stdout",
     "output_type": "stream",
     "text": [
      "Theta:\n"
     ]
    },
    {
     "data": {
      "text/html": [
       "<div>\n",
       "<table border=\"1\" class=\"dataframe\">\n",
       "  <thead>\n",
       "    <tr style=\"text-align: right;\">\n",
       "      <th></th>\n",
       "      <th>Theta0</th>\n",
       "      <th>Theta1</th>\n",
       "      <th>Theta2</th>\n",
       "      <th>Theta3</th>\n",
       "      <th>Theta4</th>\n",
       "      <th>Theta5</th>\n",
       "    </tr>\n",
       "  </thead>\n",
       "  <tbody>\n",
       "    <tr>\n",
       "      <th>0</th>\n",
       "      <td>42.099099</td>\n",
       "      <td>4.561931</td>\n",
       "      <td>-11.752771</td>\n",
       "      <td>17.98522</td>\n",
       "      <td>-4.458953</td>\n",
       "      <td>2.373939</td>\n",
       "    </tr>\n",
       "  </tbody>\n",
       "</table>\n",
       "</div>"
      ],
      "text/plain": [
       "      Theta0    Theta1     Theta2    Theta3    Theta4    Theta5\n",
       "0  42.099099  4.561931 -11.752771  17.98522 -4.458953  2.373939"
      ]
     },
     "execution_count": 89,
     "metadata": {},
     "output_type": "execute_result"
    }
   ],
   "source": [
    "print \"Theta:\"\n",
    "Theta"
   ]
  },
  {
   "cell_type": "code",
   "execution_count": 90,
   "metadata": {
    "collapsed": false
   },
   "outputs": [
    {
     "name": "stdout",
     "output_type": "stream",
     "text": [
      "df_Theta_max:\n"
     ]
    },
    {
     "data": {
      "text/html": [
       "<div>\n",
       "<table border=\"1\" class=\"dataframe\">\n",
       "  <thead>\n",
       "    <tr style=\"text-align: right;\">\n",
       "      <th></th>\n",
       "      <th>Theta0</th>\n",
       "      <th>Theta1</th>\n",
       "      <th>Theta2</th>\n",
       "      <th>Theta3</th>\n",
       "      <th>Theta4</th>\n",
       "      <th>Theta5</th>\n",
       "    </tr>\n",
       "  </thead>\n",
       "  <tbody>\n",
       "    <tr>\n",
       "      <th>0</th>\n",
       "      <td>47.29303</td>\n",
       "      <td>10.136853</td>\n",
       "      <td>-5.764375</td>\n",
       "      <td>24.8019</td>\n",
       "      <td>1.364907</td>\n",
       "      <td>7.596628</td>\n",
       "    </tr>\n",
       "  </tbody>\n",
       "</table>\n",
       "</div>"
      ],
      "text/plain": [
       "     Theta0     Theta1    Theta2   Theta3    Theta4    Theta5\n",
       "0  47.29303  10.136853 -5.764375  24.8019  1.364907  7.596628"
      ]
     },
     "execution_count": 90,
     "metadata": {},
     "output_type": "execute_result"
    }
   ],
   "source": [
    "print \"df_Theta_max:\"\n",
    "\n",
    "df_Theta_max\n"
   ]
  },
  {
   "cell_type": "code",
   "execution_count": 91,
   "metadata": {
    "collapsed": false
   },
   "outputs": [
    {
     "name": "stdout",
     "output_type": "stream",
     "text": [
      "df_Theta_max:\n"
     ]
    },
    {
     "data": {
      "text/html": [
       "<div>\n",
       "<table border=\"1\" class=\"dataframe\">\n",
       "  <thead>\n",
       "    <tr style=\"text-align: right;\">\n",
       "      <th></th>\n",
       "      <th>Theta0</th>\n",
       "      <th>Theta1</th>\n",
       "      <th>Theta2</th>\n",
       "      <th>Theta3</th>\n",
       "      <th>Theta4</th>\n",
       "      <th>Theta5</th>\n",
       "    </tr>\n",
       "  </thead>\n",
       "  <tbody>\n",
       "    <tr>\n",
       "      <th>0</th>\n",
       "      <td>36.905168</td>\n",
       "      <td>-1.012992</td>\n",
       "      <td>-17.741167</td>\n",
       "      <td>11.16854</td>\n",
       "      <td>-10.282812</td>\n",
       "      <td>-2.848751</td>\n",
       "    </tr>\n",
       "  </tbody>\n",
       "</table>\n",
       "</div>"
      ],
      "text/plain": [
       "      Theta0    Theta1     Theta2    Theta3     Theta4    Theta5\n",
       "0  36.905168 -1.012992 -17.741167  11.16854 -10.282812 -2.848751"
      ]
     },
     "execution_count": 91,
     "metadata": {},
     "output_type": "execute_result"
    }
   ],
   "source": [
    "print \"df_Theta_max:\" \n",
    "\n",
    "df_Theta_min"
   ]
  },
  {
   "cell_type": "markdown",
   "metadata": {
    "collapsed": true
   },
   "source": [
    "#Prédiction"
   ]
  },
  {
   "cell_type": "code",
   "execution_count": 102,
   "metadata": {
    "collapsed": false
   },
   "outputs": [
    {
     "name": "stdout",
     "output_type": "stream",
     "text": [
      "Prediction de l'ozone pour la mesure suivante:\n"
     ]
    },
    {
     "data": {
      "text/html": [
       "<div>\n",
       "<table border=\"1\" class=\"dataframe\">\n",
       "  <thead>\n",
       "    <tr style=\"text-align: right;\">\n",
       "      <th></th>\n",
       "      <th>Solar.R</th>\n",
       "      <th>Wind</th>\n",
       "      <th>Temp</th>\n",
       "      <th>Month</th>\n",
       "      <th>Day</th>\n",
       "    </tr>\n",
       "  </thead>\n",
       "  <tbody>\n",
       "    <tr>\n",
       "      <th>0</th>\n",
       "      <td>197</td>\n",
       "      <td>10</td>\n",
       "      <td>70</td>\n",
       "      <td>3</td>\n",
       "      <td>1</td>\n",
       "    </tr>\n",
       "  </tbody>\n",
       "</table>\n",
       "</div>"
      ],
      "text/plain": [
       "   Solar.R  Wind  Temp  Month  Day\n",
       "0      197    10    70      3    1"
      ]
     },
     "execution_count": 102,
     "metadata": {},
     "output_type": "execute_result"
    }
   ],
   "source": [
    "##########################Résultat numérique########################\n",
    "liste_nomsvaleurs = [\"Solar.R\",\"Wind\",\"Temp\",\"Month\",\"Day\"]\n",
    "\n",
    "df_pred = pd.DataFrame([[197, 10, 70, 3, 1]], columns=liste_nomsvaleurs[0:len(liste_nomsvaleurs)])\n",
    "print \"Prediction de l'ozone pour la mesure suivante:\"\n",
    "\n",
    "df_pred"
   ]
  },
  {
   "cell_type": "code",
   "execution_count": 104,
   "metadata": {
    "collapsed": false
   },
   "outputs": [
    {
     "name": "stdout",
     "output_type": "stream",
     "text": [
      " Le résultat de la prédiction est :   36.4623378681\n"
     ]
    }
   ],
   "source": [
    "###########Be carreful , il faut normaliser l'enregistrement\n",
    "df_pred_norm = (df_pred - X.mean()) /  np.std(X)\n",
    "print \" Le résultat de la prédiction est :  \",skl_linmod1.predict(df_pred_norm)[0][0]"
   ]
  },
  {
   "cell_type": "markdown",
   "metadata": {},
   "source": [
    " "
   ]
  },
  {
   "cell_type": "markdown",
   "metadata": {},
   "source": [
    " "
   ]
  },
  {
   "cell_type": "markdown",
   "metadata": {},
   "source": [
    "##Intervalle de conﬁance et bootstrap"
   ]
  },
  {
   "cell_type": "markdown",
   "metadata": {},
   "source": [
    "Calcul des paramètres du modèle linéaire sur 10000 itérations. \n",
    "Pour chaque itération on calcule les paramètres à l'aide d'un échantillon construit par choix aléatoire de n enregistrements de X avec remise."
   ]
  },
  {
   "cell_type": "code",
   "execution_count": 105,
   "metadata": {
    "collapsed": false
   },
   "outputs": [],
   "source": [
    "from sklearn.utils import resample\n",
    "table_theta = pd.DataFrame(columns=('Theta0', 'Theta1', 'Theta2','Theta3', 'Theta4', 'Theta5'))\n",
    "\n",
    "def Bootstrap(table_theta,B):\n",
    "    for it in range (0, B):\n",
    "        table_theta.loc[it] = [0 for n in range(6)]\n",
    "        dat_rsp = resample(dat, replace = True)\n",
    "        X_train_rsp = dat_rsp[['Solar.R','Wind','Temp','Month','Day']]\n",
    "        y_train_rsp = dat_rsp[['Ozone']]\n",
    "        X_train_rsp_norm =  (X_train_rsp - X_train_rsp.mean()) / np.std(X_train_rsp)\n",
    "        skl_linmod2 = linear_model.LinearRegression()\n",
    "        skl_linmod2.fit(X_train_rsp_norm, y_train_rsp)\n",
    "        table_theta.iloc[it,0] = skl_linmod2.intercept_[0]\n",
    "        params_rsp = skl_linmod2.coef_[0]\n",
    "        #print params_rsp\n",
    "        for j in range(0, len(params_rsp)):\n",
    "            table_theta.iloc[it,j+1] = params_rsp[j]\n"
   ]
  },
  {
   "cell_type": "code",
   "execution_count": 106,
   "metadata": {
    "collapsed": false
   },
   "outputs": [
    {
     "name": "stdout",
     "output_type": "stream",
     "text": [
      "Table des Theta (head)\n"
     ]
    },
    {
     "data": {
      "text/html": [
       "<div>\n",
       "<table border=\"1\" class=\"dataframe\">\n",
       "  <thead>\n",
       "    <tr style=\"text-align: right;\">\n",
       "      <th></th>\n",
       "      <th>Theta0</th>\n",
       "      <th>Theta1</th>\n",
       "      <th>Theta2</th>\n",
       "      <th>Theta3</th>\n",
       "      <th>Theta4</th>\n",
       "      <th>Theta5</th>\n",
       "    </tr>\n",
       "  </thead>\n",
       "  <tbody>\n",
       "    <tr>\n",
       "      <th>0</th>\n",
       "      <td>44.189189</td>\n",
       "      <td>4.963982</td>\n",
       "      <td>-8.938653</td>\n",
       "      <td>19.428260</td>\n",
       "      <td>-5.756840</td>\n",
       "      <td>1.313597</td>\n",
       "    </tr>\n",
       "    <tr>\n",
       "      <th>1</th>\n",
       "      <td>41.774775</td>\n",
       "      <td>5.163085</td>\n",
       "      <td>-14.246311</td>\n",
       "      <td>16.209535</td>\n",
       "      <td>-6.410782</td>\n",
       "      <td>3.639782</td>\n",
       "    </tr>\n",
       "    <tr>\n",
       "      <th>2</th>\n",
       "      <td>40.720721</td>\n",
       "      <td>3.771911</td>\n",
       "      <td>-6.705459</td>\n",
       "      <td>18.322083</td>\n",
       "      <td>-4.424710</td>\n",
       "      <td>5.291223</td>\n",
       "    </tr>\n",
       "    <tr>\n",
       "      <th>3</th>\n",
       "      <td>39.990991</td>\n",
       "      <td>1.239139</td>\n",
       "      <td>-12.568512</td>\n",
       "      <td>16.745611</td>\n",
       "      <td>-3.708995</td>\n",
       "      <td>2.219933</td>\n",
       "    </tr>\n",
       "    <tr>\n",
       "      <th>4</th>\n",
       "      <td>41.531532</td>\n",
       "      <td>4.069130</td>\n",
       "      <td>-12.926074</td>\n",
       "      <td>15.840423</td>\n",
       "      <td>-0.181866</td>\n",
       "      <td>1.276126</td>\n",
       "    </tr>\n",
       "  </tbody>\n",
       "</table>\n",
       "</div>"
      ],
      "text/plain": [
       "      Theta0    Theta1     Theta2     Theta3    Theta4    Theta5\n",
       "0  44.189189  4.963982  -8.938653  19.428260 -5.756840  1.313597\n",
       "1  41.774775  5.163085 -14.246311  16.209535 -6.410782  3.639782\n",
       "2  40.720721  3.771911  -6.705459  18.322083 -4.424710  5.291223\n",
       "3  39.990991  1.239139 -12.568512  16.745611 -3.708995  2.219933\n",
       "4  41.531532  4.069130 -12.926074  15.840423 -0.181866  1.276126"
      ]
     },
     "execution_count": 106,
     "metadata": {},
     "output_type": "execute_result"
    }
   ],
   "source": [
    "B=10000\n",
    "\n",
    "Bootstrap(table_theta,B)\n",
    "print \"Table des Theta (head)\"\n",
    "table_theta.head()"
   ]
  },
  {
   "cell_type": "code",
   "execution_count": 107,
   "metadata": {
    "collapsed": false
   },
   "outputs": [
    {
     "name": "stdout",
     "output_type": "stream",
     "text": [
      "La moyenne des Tetha_i  est: \n"
     ]
    },
    {
     "data": {
      "text/plain": [
       "Theta0    42.063364\n",
       "Theta1     4.549833\n",
       "Theta2   -11.766884\n",
       "Theta3    17.904212\n",
       "Theta4    -4.435144\n",
       "Theta5     2.359882\n",
       "dtype: float64"
      ]
     },
     "execution_count": 107,
     "metadata": {},
     "output_type": "execute_result"
    }
   ],
   "source": [
    "print \"La moyenne des Tetha_i  est: \"\n",
    "np.mean(table_theta)"
   ]
  },
  {
   "cell_type": "code",
   "execution_count": 108,
   "metadata": {
    "collapsed": false
   },
   "outputs": [
    {
     "name": "stdout",
     "output_type": "stream",
     "text": [
      "La medianne des Tetha_i  est: \n"
     ]
    },
    {
     "data": {
      "text/plain": [
       "Theta0    41.981982\n",
       "Theta1     4.509023\n",
       "Theta2   -11.584473\n",
       "Theta3    17.888344\n",
       "Theta4    -4.450868\n",
       "Theta5     2.360636\n",
       "dtype: float64"
      ]
     },
     "execution_count": 108,
     "metadata": {},
     "output_type": "execute_result"
    }
   ],
   "source": [
    "print \"La medianne des Tetha_i  est: \"\n",
    "table_theta.median()"
   ]
  },
  {
   "cell_type": "code",
   "execution_count": 109,
   "metadata": {
    "collapsed": false
   },
   "outputs": [],
   "source": [
    "\n",
    "\n",
    "test0 = table_theta.sort(['Theta0'],ascending=[1]).as_matrix()\n",
    "Sorted_Theta0 = test0[:,0]\n",
    "\n",
    "test1 = table_theta.sort(['Theta1'],ascending=[1]).as_matrix()\n",
    "Sorted_Theta1 = test1[:,1]\n",
    "\n",
    "test2 = table_theta.sort(['Theta2'],ascending=[1]).as_matrix()\n",
    "Sorted_Theta2 = test2[:,2]\n",
    "\n",
    "test3 = table_theta.sort(['Theta3'],ascending=[1]).as_matrix()\n",
    "Sorted_Theta3 = test3[:,3]\n",
    "\n",
    "test4 = table_theta.sort(['Theta4'],ascending=[1]).as_matrix()\n",
    "Sorted_Theta4 = test4[:,4]\n",
    "\n",
    "test5 = table_theta.sort(['Theta5'],ascending=[1]).as_matrix()\n",
    "Sorted_Theta5 = test5[:,5]\n",
    "\n"
   ]
  },
  {
   "cell_type": "code",
   "execution_count": 110,
   "metadata": {
    "collapsed": false
   },
   "outputs": [
    {
     "name": "stdout",
     "output_type": "stream",
     "text": [
      " les bornes de IC pour Theta0 sont: 37.0630630631 47.2522522523\n",
      " les bornes de IC pour Theta1 sont: 1.60767615508 7.64428678731\n",
      " les bornes de IC pour Theta2 sont: -16.9511655397 -7.1689028928\n",
      " les bornes de IC pour Theta3 sont: 14.1734060524 21.6595681159\n",
      " les bornes de IC pour Theta4 sont: -7.59527507366 -1.20048719275\n",
      " les bornes de IC pour Theta5 sont: -1.12911318387 5.84419806018\n"
     ]
    }
   ],
   "source": [
    "Val_Qtle_Inf_Theta0 = Sorted_Theta0[500]\n",
    "Val_Qtle_Sup_Theta0 = Sorted_Theta0[9500]\n",
    "print  \" les bornes de IC pour Theta0 sont:\", Val_Qtle_Inf_Theta0 , Val_Qtle_Sup_Theta0\n",
    "\n",
    "Val_Qtle_Inf_Theta1 = Sorted_Theta1[500]\n",
    "Val_Qtle_Sup_Theta1 = Sorted_Theta1[9500]\n",
    "print  \" les bornes de IC pour Theta1 sont:\", Val_Qtle_Inf_Theta1 , Val_Qtle_Sup_Theta1\n",
    "\n",
    "Val_Qtle_Inf_Theta2 = Sorted_Theta2[500]\n",
    "Val_Qtle_Sup_Theta2 = Sorted_Theta2[9500]\n",
    "print  \" les bornes de IC pour Theta2 sont:\", Val_Qtle_Inf_Theta2 , Val_Qtle_Sup_Theta2\n",
    "\n",
    "Val_Qtle_Inf_Theta3 = Sorted_Theta3[500]\n",
    "Val_Qtle_Sup_Theta3 = Sorted_Theta3[9500]\n",
    "print  \" les bornes de IC pour Theta3 sont:\", Val_Qtle_Inf_Theta3 , Val_Qtle_Sup_Theta3\n",
    "\n",
    "Val_Qtle_Inf_Theta4 = Sorted_Theta4[500]\n",
    "Val_Qtle_Sup_Theta4 = Sorted_Theta4[9500]\n",
    "print  \" les bornes de IC pour Theta4 sont:\", Val_Qtle_Inf_Theta4 , Val_Qtle_Sup_Theta4\n",
    "\n",
    "Val_Qtle_Inf_Theta5 = Sorted_Theta5[500]\n",
    "Val_Qtle_Sup_Theta5 = Sorted_Theta5[9500]\n",
    "print  \" les bornes de IC pour Theta5 sont:\", Val_Qtle_Inf_Theta5 , Val_Qtle_Sup_Theta5"
   ]
  },
  {
   "cell_type": "code",
   "execution_count": 111,
   "metadata": {
    "collapsed": false
   },
   "outputs": [],
   "source": [
    "B=5001\n",
    "p= 500\n",
    "index = 0\n",
    "table_theta = pd.DataFrame(columns=('Theta0', 'Theta1', 'Theta2','Theta3', 'Theta4', 'Theta5'))\n",
    "IC_theta3 = pd.DataFrame(columns=('ICmin', 'ICmax', 'Median'))\n",
    "\n",
    "\n",
    "for i in range (1,B+1,p):\n",
    "    Bootstrap(table_theta,i) \n",
    "    table_theta.median()\n",
    "    #print np.shape(table_theta)\n",
    "    test3 = table_theta.sort(['Theta3'],ascending=[1]).as_matrix()\n",
    "    Sorted_Theta3 = test3[:,3]\n",
    "    #print Sorted_Theta3\n",
    "    Qle_05 = int(i*5/100)\n",
    "    Qle_95 = int(i-(i*5/100))-1\n",
    "    #print i, Qle_05, Qle_95\n",
    "    Val_Qtle_Inf_Theta3 = Sorted_Theta3[Qle_05]\n",
    "    Val_Qtle_Sup_Theta3 = Sorted_Theta3[Qle_95]\n",
    "    #print  \"Iteration n°: \",i,\" les bornes de IC pour Theta3 sont:\", Val_Qtle_Inf_Theta3 , Val_Qtle_Sup_Theta3\n",
    "    #print  \"diff: \",Val_Qtle_Sup_Theta3- Val_Qtle_Inf_Theta3\n",
    "    IC_theta3.loc[index] = [0 for n in range(3)]\n",
    "    IC_theta3.iloc[index,0] = Val_Qtle_Inf_Theta3\n",
    "    IC_theta3.iloc[index,1] = Val_Qtle_Sup_Theta3\n",
    "    IC_theta3.iloc[index,2] = table_theta.median()['Theta3']\n",
    "    index = index + 1"
   ]
  },
  {
   "cell_type": "code",
   "execution_count": 112,
   "metadata": {
    "collapsed": false
   },
   "outputs": [
    {
     "name": "stdout",
     "output_type": "stream",
     "text": [
      "Valeurs min et max de l'intervalle ainsi que la médianne pour Theta3 correspondant à l'influence de la variable Wind\n"
     ]
    },
    {
     "data": {
      "text/html": [
       "<div>\n",
       "<table border=\"1\" class=\"dataframe\">\n",
       "  <thead>\n",
       "    <tr style=\"text-align: right;\">\n",
       "      <th></th>\n",
       "      <th>ICmin</th>\n",
       "      <th>ICmax</th>\n",
       "      <th>Median</th>\n",
       "    </tr>\n",
       "  </thead>\n",
       "  <tbody>\n",
       "    <tr>\n",
       "      <th>0</th>\n",
       "      <td>17.971821</td>\n",
       "      <td>17.971821</td>\n",
       "      <td>17.971821</td>\n",
       "    </tr>\n",
       "    <tr>\n",
       "      <th>1</th>\n",
       "      <td>13.998357</td>\n",
       "      <td>21.931265</td>\n",
       "      <td>18.064526</td>\n",
       "    </tr>\n",
       "    <tr>\n",
       "      <th>2</th>\n",
       "      <td>14.076521</td>\n",
       "      <td>21.496859</td>\n",
       "      <td>17.875109</td>\n",
       "    </tr>\n",
       "    <tr>\n",
       "      <th>3</th>\n",
       "      <td>14.377471</td>\n",
       "      <td>21.723525</td>\n",
       "      <td>17.957264</td>\n",
       "    </tr>\n",
       "    <tr>\n",
       "      <th>4</th>\n",
       "      <td>13.998622</td>\n",
       "      <td>21.621585</td>\n",
       "      <td>17.842605</td>\n",
       "    </tr>\n",
       "    <tr>\n",
       "      <th>5</th>\n",
       "      <td>14.121609</td>\n",
       "      <td>21.521122</td>\n",
       "      <td>17.798586</td>\n",
       "    </tr>\n",
       "    <tr>\n",
       "      <th>6</th>\n",
       "      <td>14.149939</td>\n",
       "      <td>21.664636</td>\n",
       "      <td>17.955203</td>\n",
       "    </tr>\n",
       "    <tr>\n",
       "      <th>7</th>\n",
       "      <td>14.179136</td>\n",
       "      <td>21.628124</td>\n",
       "      <td>17.901615</td>\n",
       "    </tr>\n",
       "    <tr>\n",
       "      <th>8</th>\n",
       "      <td>14.062650</td>\n",
       "      <td>21.665086</td>\n",
       "      <td>17.833869</td>\n",
       "    </tr>\n",
       "    <tr>\n",
       "      <th>9</th>\n",
       "      <td>14.280960</td>\n",
       "      <td>21.702458</td>\n",
       "      <td>17.898192</td>\n",
       "    </tr>\n",
       "    <tr>\n",
       "      <th>10</th>\n",
       "      <td>14.123578</td>\n",
       "      <td>21.499508</td>\n",
       "      <td>17.848301</td>\n",
       "    </tr>\n",
       "  </tbody>\n",
       "</table>\n",
       "</div>"
      ],
      "text/plain": [
       "        ICmin      ICmax     Median\n",
       "0   17.971821  17.971821  17.971821\n",
       "1   13.998357  21.931265  18.064526\n",
       "2   14.076521  21.496859  17.875109\n",
       "3   14.377471  21.723525  17.957264\n",
       "4   13.998622  21.621585  17.842605\n",
       "5   14.121609  21.521122  17.798586\n",
       "6   14.149939  21.664636  17.955203\n",
       "7   14.179136  21.628124  17.901615\n",
       "8   14.062650  21.665086  17.833869\n",
       "9   14.280960  21.702458  17.898192\n",
       "10  14.123578  21.499508  17.848301"
      ]
     },
     "execution_count": 112,
     "metadata": {},
     "output_type": "execute_result"
    }
   ],
   "source": [
    "print \"Valeurs min et max de l'intervalle ainsi que la médianne pour Theta3 correspondant à l'influence de la variable Wind\"\n",
    "IC_theta3"
   ]
  },
  {
   "cell_type": "code",
   "execution_count": 147,
   "metadata": {
    "collapsed": false
   },
   "outputs": [
    {
     "data": {
      "image/png": "[encoded data removed]",
      "text/plain": [
       "<matplotlib.figure.Figure at 0x1c1eb208>"
      ]
     },
     "metadata": {},
     "output_type": "display_data"
    }
   ],
   "source": [
    "#pour avoir les graphiques matplotlib inclus dans le notebook et non affichés dans une fenetre exterieure\n",
    "%matplotlib inline \n",
    "import matplotlib.pyplot as plt\n",
    "fig = plt.figure(figsize=(15, 10))\n",
    "plt.xlim(xmin=0, xmax=10)\n",
    "plt.ylim(ymin=13, ymax=24)\n",
    "xlabels = 'Index'\n",
    "ylabels = ' '\n",
    "plt.plot(IC_theta3.index.values, np.array(IC_theta3['ICmin']),'--',linewidth=1, label=\"ICmin des Theta3\") \n",
    "plt.plot(IC_theta3.index.values, np.array(IC_theta3['ICmax']),'--',linewidth=1, label=\"ICmax des Theta3\") \n",
    "plt.plot(IC_theta3.index.values, np.array(IC_theta3['Median']),linewidth=1, label=\"Medianne des Theta3\") \n",
    "plt.legend(numpoints=1, loc=2)  # numpoints = 1 for nicer display\n",
    "plt.xlabel(xlabels), plt.ylabel(ylabels)\n",
    "plt.title('Valeurs pour Theta3 (Inluence de Wind)')\n",
    "plt.tight_layout()\n",
    "plt.show()"
   ]
  },
  {
   "cell_type": "code",
   "execution_count": 150,
   "metadata": {
    "collapsed": false
   },
   "outputs": [
    {
     "data": {
      "image/png": "[encoded data removed]",
      "text/plain": [
       "<matplotlib.figure.Figure at 0x1c28f7b8>"
      ]
     },
     "metadata": {},
     "output_type": "display_data"
    }
   ],
   "source": [
    "import seaborn as sns \n",
    "g = sns.lmplot(x=\"Wind\", y=\"Ozone\", hue=\"Month\",size=10, data=dat)\n"
   ]
  },
  {
   "cell_type": "markdown",
   "metadata": {},
   "source": [
    "Le mois de Juin (en vert) est atypique car la courbe est croissante. Il est possible que les données soient faussées."
   ]
  },
  {
   "cell_type": "markdown",
   "metadata": {},
   "source": [
    "#Algorithmes gloutons ou greedy"
   ]
  },
  {
   "cell_type": "code",
   "execution_count": null,
   "metadata": {
    "collapsed": true
   },
   "outputs": [],
   "source": []
  }
 ],
 "metadata": {
  "kernelspec": {
   "display_name": "Python 2",
   "language": "python",
   "name": "python2"
  },
  "language_info": {
   "codemirror_mode": {
    "name": "ipython",
    "version": 2
   },
   "file_extension": ".py",
   "mimetype": "text/x-python",
   "name": "python",
   "nbconvert_exporter": "python",
   "pygments_lexer": "ipython2",
   "version": "2.7.8"
  }
 },
 "nbformat": 4,
 "nbformat_minor": 0
}
