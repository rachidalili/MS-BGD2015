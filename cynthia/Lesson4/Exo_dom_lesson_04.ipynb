{
 "cells": [
  {
   "cell_type": "code",
   "execution_count": 1,
   "metadata": {
    "collapsed": true
   },
   "outputs": [],
   "source": [
    "import requests\n",
    "import re\n",
    "from bs4 import BeautifulSoup\n",
    "import json\n",
    "import pandas as pd\n",
    "from getpass import getpass"
   ]
  },
  {
   "cell_type": "code",
   "execution_count": 2,
   "metadata": {
    "collapsed": true
   },
   "outputs": [],
   "source": [
    "def getSoupFromUrl(url):\n",
    "        request = requests.get(url)\n",
    "        soup = BeautifulSoup(request.text, 'html.parser')\n",
    "        return soup"
   ]
  },
  {
   "cell_type": "code",
   "execution_count": null,
   "metadata": {
    "collapsed": true
   },
   "outputs": [],
   "source": [
    "def auth() :\n",
    "    username = input('GitHub username: ')\n",
    "    password = getpass()\n",
    "    return username,password"
   ]
  },
  {
   "cell_type": "code",
   "execution_count": null,
   "metadata": {
    "collapsed": true
   },
   "outputs": [],
   "source": [
    "def get_mean_score_for_contrib(contrib,username,password):\n",
    "    nb_star =0.0\n",
    "    nb_project=0.0\n",
    "    user_url = \"https://api.github.com/users/\" + contrib + \"/repos\"\n",
    "    json = requests.get(url=user_url, auth=(username,password)).json()\n",
    " \n",
    "    for project in json:\n",
    "            nb_star += project['stargazers_count']\n",
    "            nb_project += 1\n",
    "    return nb_star / nb_project"
   ]
  },
  {
   "cell_type": "code",
   "execution_count": null,
   "metadata": {
    "collapsed": true
   },
   "outputs": [],
   "source": [
    "def get_sorted_score_for_all_contribs():\n",
    "    df = pd.DataFrame(columns=['contrib', 'nb_star'])\n",
    "    username, password = auth()\n",
    "    url = 'https://gist.github.com/paulmillr/2657075'\n",
    "    soup = getSoupFromUrl(url)\n",
    "  \n",
    "    line = 0\n",
    "    for contrib in soup.select(\"tr > td:nth-of-type(1) > a\"):\n",
    "        score = get_mean_score_for_contrib(contrib.text, username, password)\n",
    "        \n",
    "        print(str(line) + \" \" + contrib.text + \" \" + str(score))\n",
    "        \n",
    "        df = df.append(pd.Series({'contrib':contrib.text,'nb_star':score}, \n",
    "                                 index=['contrib', 'nb_star']), \n",
    "                                 ignore_index=True)\n",
    "        line += 1\n",
    "    sorted_list = df.sort('nb_star', ascending=False)\n",
    "    return(sorted_list)"
   ]
  },
  {
   "cell_type": "code",
   "execution_count": null,
   "metadata": {
    "collapsed": false
   },
   "outputs": [],
   "source": [
    "result = get_sorted_score_for_all_contribs()\n",
    "print result"
   ]
  },
  {
   "cell_type": "code",
   "execution_count": null,
   "metadata": {
    "collapsed": true
   },
   "outputs": [],
   "source": []
  }
 ],
 "metadata": {
  "kernelspec": {
   "display_name": "Python 2",
   "language": "python",
   "name": "python2"
  },
  "language_info": {
   "codemirror_mode": {
    "name": "ipython",
    "version": 2
   },
   "file_extension": ".py",
   "mimetype": "text/x-python",
   "name": "python",
   "nbconvert_exporter": "python",
   "pygments_lexer": "ipython2",
   "version": "2.7.10"
  }
 },
 "nbformat": 4,
 "nbformat_minor": 0
}
