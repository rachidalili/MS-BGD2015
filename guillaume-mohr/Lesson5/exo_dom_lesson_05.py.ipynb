{
 "cells": [
  {
   "cell_type": "markdown",
   "metadata": {},
   "source": [
    "# Devoir maison n°5 : lien entre la densité de médecins par spécialité  et par territoire et la pratique du dépassement d'honoraires"
   ]
  },
  {
   "cell_type": "markdown",
   "metadata": {},
   "source": [
    "Guillaume MOHR"
   ]
  },
  {
   "cell_type": "markdown",
   "metadata": {},
   "source": [
    "## Préliminaires"
   ]
  },
  {
   "cell_type": "code",
   "execution_count": 1,
   "metadata": {
    "collapsed": true
   },
   "outputs": [],
   "source": [
    "import pandas as pd\n",
    "import numpy as np"
   ]
  },
  {
   "cell_type": "code",
   "execution_count": 2,
   "metadata": {
    "collapsed": false
   },
   "outputs": [],
   "source": [
    "%matplotlib inline"
   ]
  },
  {
   "cell_type": "markdown",
   "metadata": {},
   "source": [
    "## Chargement des données"
   ]
  },
  {
   "cell_type": "markdown",
   "metadata": {},
   "source": [
    "Chargement du fichier des dépenses d' assurance maladie hors prestations hospitalières par caisse primaire/département (2014) : https://www.data.gouv.fr/fr/datasets/depenses-d-assurance-maladie-hors-prestations-hospitalieres-par-caisse-primaire-departement/"
   ]
  },
  {
   "cell_type": "code",
   "execution_count": 19,
   "metadata": {
    "collapsed": false
   },
   "outputs": [],
   "source": [
    "dep = pd.read_csv('data/N201508.csv', encoding='latin9', sep=';', dtype={'SERIE': np.str},\n",
    "                 )#usecols=['dep_mon', 'exe_spe', 'exe_spe1', 'l_exe_spe', 'sns_date'])"
   ]
  },
  {
   "cell_type": "markdown",
   "metadata": {
    "collapsed": true
   },
   "source": [
    "On ne conserve que les infos relatives à la spécialité, à la localisation et au dépassement d'honoraires."
   ]
  },
  {
   "cell_type": "code",
   "execution_count": null,
   "metadata": {
    "collapsed": true
   },
   "outputs": [],
   "source": []
  },
  {
   "cell_type": "markdown",
   "metadata": {},
   "source": [
    "Chargement du fichier de densité des médecins par spécialité, modes d'exercice regroupés et zone d'inscription : http://www.data.drees.sante.gouv.fr/TableViewer/tableView.aspx?ReportId=1155"
   ]
  },
  {
   "cell_type": "code",
   "execution_count": 5,
   "metadata": {
    "collapsed": false
   },
   "outputs": [],
   "source": [
    "rpps = pd.read_csv('data/rpps-medecin-tab7-densite-2013-14-15-v1_26900592310704.csv', \n",
    "                   encoding='latin9', skiprows=[0, 1, 2, 3, 5])\n",
    "rpps.rename(columns={'SPECIALITE': 'ZoneIncription'}, inplace=True)"
   ]
  },
  {
   "cell_type": "code",
   "execution_count": 6,
   "metadata": {
    "collapsed": false
   },
   "outputs": [
    {
     "data": {
      "text/html": [
       "<div>\n",
       "<table border=\"1\" class=\"dataframe\">\n",
       "  <thead>\n",
       "    <tr style=\"text-align: right;\">\n",
       "      <th></th>\n",
       "      <th>ZoneIncription</th>\n",
       "      <th>Ensemble des spécialités d'exercice</th>\n",
       "      <th>Spécialistes</th>\n",
       "      <th>Anatomie et cytologie pathologiques</th>\n",
       "      <th>Anesthésie-réanimation</th>\n",
       "      <th>Biologie médicale</th>\n",
       "      <th>Cardiologie et maladies vasculaires</th>\n",
       "      <th>Chirurgie générale</th>\n",
       "      <th>Chirurgie maxillo-faciale et stomatologie</th>\n",
       "      <th>Chirurgie orthopédique et traumatologie</th>\n",
       "      <th>...</th>\n",
       "      <th>Pneumologie</th>\n",
       "      <th>Psychiatrie</th>\n",
       "      <th>Radio-diagnostic et imagerie médicale</th>\n",
       "      <th>Radio-thérapie</th>\n",
       "      <th>Réanimation médicale</th>\n",
       "      <th>Recherche médicale</th>\n",
       "      <th>Rhumatologie</th>\n",
       "      <th>Santé publique et médecine sociale</th>\n",
       "      <th>Généralistes</th>\n",
       "      <th>Médecine générale</th>\n",
       "    </tr>\n",
       "  </thead>\n",
       "  <tbody>\n",
       "    <tr>\n",
       "      <th>0</th>\n",
       "      <td>FRANCE ENTIERE</td>\n",
       "      <td>336.5</td>\n",
       "      <td>181.3</td>\n",
       "      <td>2.4</td>\n",
       "      <td>16.9</td>\n",
       "      <td>4.4</td>\n",
       "      <td>10.4</td>\n",
       "      <td>5.5</td>\n",
       "      <td>1.8</td>\n",
       "      <td>4.8</td>\n",
       "      <td>...</td>\n",
       "      <td>4.5</td>\n",
       "      <td>22.8</td>\n",
       "      <td>13.0</td>\n",
       "      <td>1.3</td>\n",
       "      <td>0.5</td>\n",
       "      <td>0.0</td>\n",
       "      <td>3.9</td>\n",
       "      <td>2.6</td>\n",
       "      <td>155.2</td>\n",
       "      <td>155.2</td>\n",
       "    </tr>\n",
       "    <tr>\n",
       "      <th>1</th>\n",
       "      <td>FRANCE Métropolitaine</td>\n",
       "      <td>339.1</td>\n",
       "      <td>183.2</td>\n",
       "      <td>2.4</td>\n",
       "      <td>17.0</td>\n",
       "      <td>4.5</td>\n",
       "      <td>10.6</td>\n",
       "      <td>5.5</td>\n",
       "      <td>1.8</td>\n",
       "      <td>4.8</td>\n",
       "      <td>...</td>\n",
       "      <td>4.5</td>\n",
       "      <td>23.1</td>\n",
       "      <td>13.1</td>\n",
       "      <td>1.3</td>\n",
       "      <td>0.5</td>\n",
       "      <td>0.0</td>\n",
       "      <td>4.0</td>\n",
       "      <td>2.6</td>\n",
       "      <td>155.9</td>\n",
       "      <td>155.9</td>\n",
       "    </tr>\n",
       "    <tr>\n",
       "      <th>2</th>\n",
       "      <td>Alsace</td>\n",
       "      <td>356.9</td>\n",
       "      <td>198.2</td>\n",
       "      <td>2.0</td>\n",
       "      <td>19.9</td>\n",
       "      <td>3.9</td>\n",
       "      <td>12.1</td>\n",
       "      <td>7.1</td>\n",
       "      <td>0.8</td>\n",
       "      <td>5.1</td>\n",
       "      <td>...</td>\n",
       "      <td>4.5</td>\n",
       "      <td>21.7</td>\n",
       "      <td>15.5</td>\n",
       "      <td>1.5</td>\n",
       "      <td>0.9</td>\n",
       "      <td>0.1</td>\n",
       "      <td>3.5</td>\n",
       "      <td>2.3</td>\n",
       "      <td>158.7</td>\n",
       "      <td>158.7</td>\n",
       "    </tr>\n",
       "    <tr>\n",
       "      <th>3</th>\n",
       "      <td>Aquitaine</td>\n",
       "      <td>354.3</td>\n",
       "      <td>184.2</td>\n",
       "      <td>2.8</td>\n",
       "      <td>17.9</td>\n",
       "      <td>4.9</td>\n",
       "      <td>11.8</td>\n",
       "      <td>5.2</td>\n",
       "      <td>1.6</td>\n",
       "      <td>5.3</td>\n",
       "      <td>...</td>\n",
       "      <td>3.5</td>\n",
       "      <td>25.5</td>\n",
       "      <td>14.5</td>\n",
       "      <td>1.3</td>\n",
       "      <td>0.2</td>\n",
       "      <td>0.0</td>\n",
       "      <td>3.0</td>\n",
       "      <td>2.5</td>\n",
       "      <td>170.1</td>\n",
       "      <td>170.1</td>\n",
       "    </tr>\n",
       "    <tr>\n",
       "      <th>4</th>\n",
       "      <td>Auvergne</td>\n",
       "      <td>308.4</td>\n",
       "      <td>155.5</td>\n",
       "      <td>2.3</td>\n",
       "      <td>16.0</td>\n",
       "      <td>3.6</td>\n",
       "      <td>8.8</td>\n",
       "      <td>5.4</td>\n",
       "      <td>0.7</td>\n",
       "      <td>4.3</td>\n",
       "      <td>...</td>\n",
       "      <td>3.3</td>\n",
       "      <td>18.5</td>\n",
       "      <td>11.0</td>\n",
       "      <td>1.7</td>\n",
       "      <td>0.7</td>\n",
       "      <td>0.0</td>\n",
       "      <td>4.0</td>\n",
       "      <td>2.5</td>\n",
       "      <td>152.9</td>\n",
       "      <td>152.9</td>\n",
       "    </tr>\n",
       "  </tbody>\n",
       "</table>\n",
       "<p>5 rows × 45 columns</p>\n",
       "</div>"
      ],
      "text/plain": [
       "          ZoneIncription  Ensemble des spécialités d'exercice  Spécialistes  \\\n",
       "0         FRANCE ENTIERE                                336.5         181.3   \n",
       "1  FRANCE Métropolitaine                                339.1         183.2   \n",
       "2                 Alsace                                356.9         198.2   \n",
       "3              Aquitaine                                354.3         184.2   \n",
       "4               Auvergne                                308.4         155.5   \n",
       "\n",
       "   Anatomie et cytologie pathologiques  Anesthésie-réanimation  \\\n",
       "0                                  2.4                    16.9   \n",
       "1                                  2.4                    17.0   \n",
       "2                                  2.0                    19.9   \n",
       "3                                  2.8                    17.9   \n",
       "4                                  2.3                    16.0   \n",
       "\n",
       "   Biologie médicale  Cardiologie et maladies vasculaires  Chirurgie générale  \\\n",
       "0                4.4                                 10.4                 5.5   \n",
       "1                4.5                                 10.6                 5.5   \n",
       "2                3.9                                 12.1                 7.1   \n",
       "3                4.9                                 11.8                 5.2   \n",
       "4                3.6                                  8.8                 5.4   \n",
       "\n",
       "   Chirurgie maxillo-faciale et stomatologie  \\\n",
       "0                                        1.8   \n",
       "1                                        1.8   \n",
       "2                                        0.8   \n",
       "3                                        1.6   \n",
       "4                                        0.7   \n",
       "\n",
       "   Chirurgie orthopédique et traumatologie        ...          Pneumologie  \\\n",
       "0                                      4.8        ...                  4.5   \n",
       "1                                      4.8        ...                  4.5   \n",
       "2                                      5.1        ...                  4.5   \n",
       "3                                      5.3        ...                  3.5   \n",
       "4                                      4.3        ...                  3.3   \n",
       "\n",
       "   Psychiatrie  Radio-diagnostic et imagerie médicale  Radio-thérapie  \\\n",
       "0         22.8                                   13.0             1.3   \n",
       "1         23.1                                   13.1             1.3   \n",
       "2         21.7                                   15.5             1.5   \n",
       "3         25.5                                   14.5             1.3   \n",
       "4         18.5                                   11.0             1.7   \n",
       "\n",
       "   Réanimation médicale  Recherche médicale  Rhumatologie  \\\n",
       "0                   0.5                 0.0           3.9   \n",
       "1                   0.5                 0.0           4.0   \n",
       "2                   0.9                 0.1           3.5   \n",
       "3                   0.2                 0.0           3.0   \n",
       "4                   0.7                 0.0           4.0   \n",
       "\n",
       "   Santé publique et médecine sociale  Généralistes  Médecine générale  \n",
       "0                                 2.6         155.2              155.2  \n",
       "1                                 2.6         155.9              155.9  \n",
       "2                                 2.3         158.7              158.7  \n",
       "3                                 2.5         170.1              170.1  \n",
       "4                                 2.5         152.9              152.9  \n",
       "\n",
       "[5 rows x 45 columns]"
      ]
     },
     "execution_count": 6,
     "metadata": {},
     "output_type": "execute_result"
    }
   ],
   "source": [
    "rpps.head()"
   ]
  },
  {
   "cell_type": "code",
   "execution_count": 8,
   "metadata": {
    "collapsed": false
   },
   "outputs": [],
   "source": [
    "sig = pd.read_excel('data/descriptif_table_N.xls')"
   ]
  },
  {
   "cell_type": "code",
   "execution_count": 11,
   "metadata": {
    "collapsed": false
   },
   "outputs": [
    {
     "data": {
      "text/html": [
       "<div>\n",
       "<table border=\"1\" class=\"dataframe\">\n",
       "  <thead>\n",
       "    <tr style=\"text-align: right;\">\n",
       "      <th></th>\n",
       "      <th>PERIMETRE DES DONNEES</th>\n",
       "    </tr>\n",
       "  </thead>\n",
       "  <tbody>\n",
       "    <tr>\n",
       "      <th>0</th>\n",
       "      <td>Source :  SNIIRAM (http://www.ameli.fr/l-assur...</td>\n",
       "    </tr>\n",
       "    <tr>\n",
       "      <th>1</th>\n",
       "      <td>Régime Général : 85% des dépenses prises en ch...</td>\n",
       "    </tr>\n",
       "    <tr>\n",
       "      <th>2</th>\n",
       "      <td>France métropolitaine+DOM</td>\n",
       "    </tr>\n",
       "    <tr>\n",
       "      <th>3</th>\n",
       "      <td>Dépenses au titre des risques Maladie,Maternit...</td>\n",
       "    </tr>\n",
       "    <tr>\n",
       "      <th>4</th>\n",
       "      <td>Champ des prestations prises en charge par l'a...</td>\n",
       "    </tr>\n",
       "    <tr>\n",
       "      <th>5</th>\n",
       "      <td>Soins de ville</td>\n",
       "    </tr>\n",
       "    <tr>\n",
       "      <th>6</th>\n",
       "      <td>Prestations en espèce Maternité</td>\n",
       "    </tr>\n",
       "    <tr>\n",
       "      <th>7</th>\n",
       "      <td>Incapacité permanente AT, charge d'expertise, ...</td>\n",
       "    </tr>\n",
       "    <tr>\n",
       "      <th>8</th>\n",
       "      <td>Assurance Invalidité</td>\n",
       "    </tr>\n",
       "    <tr>\n",
       "      <th>9</th>\n",
       "      <td>Assurance Décès</td>\n",
       "    </tr>\n",
       "  </tbody>\n",
       "</table>\n",
       "</div>"
      ],
      "text/plain": [
       "                               PERIMETRE DES DONNEES\n",
       "0  Source :  SNIIRAM (http://www.ameli.fr/l-assur...\n",
       "1  Régime Général : 85% des dépenses prises en ch...\n",
       "2                          France métropolitaine+DOM\n",
       "3  Dépenses au titre des risques Maladie,Maternit...\n",
       "4  Champ des prestations prises en charge par l'a...\n",
       "5                                     Soins de ville\n",
       "6                    Prestations en espèce Maternité\n",
       "7  Incapacité permanente AT, charge d'expertise, ...\n",
       "8                               Assurance Invalidité\n",
       "9                                    Assurance Décès"
      ]
     },
     "execution_count": 11,
     "metadata": {},
     "output_type": "execute_result"
    }
   ],
   "source": [
    "sig"
   ]
  }
 ],
 "metadata": {
  "kernelspec": {
   "display_name": "Python 3",
   "language": "python",
   "name": "python3"
  },
  "language_info": {
   "codemirror_mode": {
    "name": "ipython",
    "version": 3
   },
   "file_extension": ".py",
   "mimetype": "text/x-python",
   "name": "python",
   "nbconvert_exporter": "python",
   "pygments_lexer": "ipython3",
   "version": "3.5.0"
  }
 },
 "nbformat": 4,
 "nbformat_minor": 0
}
