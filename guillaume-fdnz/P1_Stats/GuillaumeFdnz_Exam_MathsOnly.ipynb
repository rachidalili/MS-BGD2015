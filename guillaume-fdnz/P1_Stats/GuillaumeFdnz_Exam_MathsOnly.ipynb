{
 "cells": [
  {
   "cell_type": "markdown",
   "metadata": {},
   "source": [
    "# Examen n°2 : Variance et Lasso Seuillé"
   ]
  },
  {
   "cell_type": "markdown",
   "metadata": {},
   "source": [
    "*Guillaume Fdnz*"
   ]
  },
  {
   "cell_type": "markdown",
   "metadata": {},
   "source": [
    "## Exercice 1. (Estimateur de la variance)"
   ]
  },
  {
   "cell_type": "markdown",
   "metadata": {},
   "source": [
    "\n",
    "### Calcul du biais\n",
    "\n",
    "$ Biais(\\hat{V_{\\alpha}}) = \\mathbb{E}(\\hat{V}_{\\alpha}) - \\sigma^2$\n",
    "\n",
    "$ \\mathbb{E}(\\hat{V_{\\alpha }}) = \\mathbb{E}( \\alpha \\sum_{i=1}^{n}(X_{i}-\\bar{X_{n}})^{2} )$\n",
    "\n",
    "$ \\mathbb{E}(\\hat{V_{\\alpha }}) =  \\alpha n \\mathbb{E}( \\frac{1}{n} \\sum_{i=1}^{n}(X_{i}-\\bar{X_{n}})^{2} )$ (Linéarité de l'espérance)\n",
    "\n",
    "$ \\mathbb{E}(\\hat{V_{\\alpha }}) =  \\alpha n \\mathbb{E}( (\\frac{1}{n} \\sum_{i=1}^{n}X_{i}^2)-\\bar{X_{n}}^{2} )$ (Théorème de König-Huygens)\n",
    "\n",
    "$  \\mathbb{E}(\\hat{V_{\\alpha }}) =  \\alpha n \\mathbb{E}( (\\frac{1}{n} \\sum_{i=1}^{n}X_{i}^2))-\\mathbb{E}(\\bar{X_{n}}^{2} )$\n",
    "\n",
    "[1] $\\mathbb{E}( (\\frac{1}{n} \\sum_{i=1}^{n}X_{i}^2)) = \\frac{1}{n}\\sum_{i=1}^{n}\\mathbb{E}(X_{i}^2)$ (Linéarité de l'espérance)\n",
    "\n",
    "[1] $\\mathbb{E}( (\\frac{1}{n} \\sum_{i=1}^{n}X_{i}^2)) = \\frac{1}{n}\\sum_{i=1}^{n}(Var(X_i )+\\mathbb{E}^2(X_{i}))$ ((Théorème de König-Huygens)\n",
    "\n",
    "[1] $\\mathbb{E}( (\\frac{1}{n} \\sum_{i=1}^{n}X_{i}^2)) = \\sigma^2 + \\bar{X_{n}}^{2}$\n",
    "\n",
    "[2] $\\mathbb{E}(\\bar{X_{n}}^{2}) = Var(\\bar{X_{n}}^{2}) + \\mathbb{E}^2(\\bar{X_{n}}) $\n",
    "\n",
    "[2] $\\mathbb{E}(\\bar{X_{n}}^{2}) = Var(\\frac{1}{n} \\sum_{i=1}^{n}X_{i}) + \\mathbb{E}^2(\\frac{1}{n} \\sum_{i=1}^{n}X_{i})$\n",
    "\n",
    "[2] $\\mathbb{E}(\\bar{X_{n}}^{2}) = \\frac{n}{n^2}Var(X) + (\\frac{1}{n}\\sum_{i=1}^{n}\\mathbb{E}(X_{i})^2$\n",
    "\n",
    "[2] $\\mathbb{E}(\\bar{X_{n}}^{2}) = \\frac{\\sigma^2}{n} + (\\frac{n}{n}\\mathbb{E}(X))^2$\n",
    "\n",
    "[2] $\\mathbb{E}(\\bar{X_{n}}^{2}) = \\frac{\\sigma^2}{n} + \\bar{X_{n}}^{2}$\n",
    "\n",
    "$ \\alpha n $ ([1] - [2])\n",
    "\n",
    "$ \\mathbb{E}(\\hat{V_{\\alpha }}) = \\alpha n ( \\sigma^2 + \\bar{X_{n}}^{2} - \\frac{\\sigma}{n} - \\bar{X_{n}}^{2})$\n",
    "\n",
    "$ \\mathbb{E}(\\hat{V_{\\alpha }}) = \\alpha n \\sigma^2(  1 - \\frac{1}{n} )$\n",
    "\n",
    "$ \\mathbb{E}(\\hat{V_{\\alpha }}) = \\alpha\\sigma^2(  n - 1 )$\n",
    "\n",
    "$ Biais(\\hat{V_{\\alpha}}) = (\\alpha( n - 1 ) -1)\\sigma^2$\n",
    "\n",
    "### Calcul du risque quadratique moyen\n",
    "\n",
    "$ R(\\hat{V_{\\alpha}}) = Biais^2(\\hat{V_{\\alpha}}) + Var(\\hat{V_{\\alpha}})$\n",
    "\n",
    "$ R(\\hat{V_{\\alpha}}) = [(\\alpha( n - 1 ) -1)^2 + 2\\alpha^2(n-1)]\\sigma^4$\n",
    "\n",
    "$ R(\\hat{V_{\\alpha}}) = [(\\alpha^2( n^2 - 1 ) - 2\\alpha(n-1) + 1]\\sigma^4$\n",
    "\n",
    "### Calcul du alpha qui minimise le risque\n",
    "\n",
    "$ \\frac{\\partial }{\\partial \\alpha} R(\\hat{V_{\\alpha}}) = [(2\\alpha( n^2 - 1 ) - 2(n-1)]\\sigma^4$\n",
    "\n",
    "$ \\frac{\\partial }{\\partial \\alpha} R(\\hat{V_{\\alpha_{min}}}) = 0 $\n",
    "\n",
    "$ \\alpha_{min}( n^2 - 1 ) - (n-1) = 0 $\n",
    "\n",
    "$ \\alpha_{min}(n + 1) ( n - 1 ) = (n-1)$\n",
    "\n",
    "$ \\alpha_{min} = \\frac{1}{n+1}$"
   ]
  },
  {
   "cell_type": "markdown",
   "metadata": {},
   "source": [
    "### 4. Paramètre de pénalité dans le Lasso et dans les packages"
   ]
  },
  {
   "cell_type": "markdown",
   "metadata": {},
   "source": [
    "Soit la fonction objectif du problème de minimisation (comme dans le cours): \n",
    "\n",
    "$f_{Lasso}(\\theta) = \\frac{1}{2} || \\mathbf{y}-\\mathbf{X\\theta} ||^2_2 + \\lambda||\\theta||_1$\n",
    "\n",
    "Appliquons une pénalité constante de $\\frac{1}{n}$ à cette fonction. Multiplier la fonction objectif par une constante positive ne change pas le problème d'optimisation:\n",
    "\n",
    "$\\frac{1}{n} f_{Lasso}(\\theta) = \\frac{1}{2n} || \\mathbf{y}-\\mathbf{X\\theta} ||^2_2 + \\frac{\\lambda}{n}||\\theta||_1$\n",
    "\n",
    "Procédons par identification avec la fonction objectif du problème de minimisation (comme codée dans les packages):\n",
    "\n",
    "$f_{LassoPackages}(\\theta) = \\frac{1}{2n} || \\mathbf{y}-\\mathbf{X\\theta} ||^2_2 + \\lambda'||\\theta||_1$\n",
    "\n",
    "$\\lambda' = \\frac{\\lambda}{n}$"
   ]
  },
  {
   "cell_type": "markdown",
   "metadata": {},
   "source": [
    "### 7. Estimateurs de l'écart-type du bruit"
   ]
  },
  {
   "cell_type": "markdown",
   "metadata": {},
   "source": [
    "Nous travaillons avec un modèle sous hypothèse linéaire avec des bruits centrés ($\\mathbb{E}[\\epsilon] = 0$) et de variance inconnue $\\sigma^2$.\n",
    "On a ainsi:\n",
    "\n",
    "$Y = X\\theta + \\epsilon $\n",
    "\n",
    "$\\Leftrightarrow \\epsilon = Y - X\\theta $\n",
    "\n",
    "$\\Rightarrow \\epsilon^2 = || \\mathbf{y}-\\mathbf{X\\theta} ||^2_2 $\n",
    "\n",
    "$\\Rightarrow \\hat{Var}[\\epsilon] = \\mathbb{E}[\\epsilon^2] - \\mathbb{E}^2[\\epsilon]$ (Théorème de König-Huygens)\n",
    "\n",
    "$\\Rightarrow \\hat{Var}[\\epsilon] = \\mathbb{E}[\\epsilon^2]$ (Bruits centrés)\n",
    "\n",
    "$\\Rightarrow \\hat{Var}[\\epsilon] = \\frac{1}{n}|| \\mathbf{y}-\\mathbf{X\\theta} ||^2_2 $\n",
    "\n",
    "$\\Rightarrow \\hat{\\sigma} = \\frac{1}{\\sqrt{n}}|| \\mathbf{y}-\\mathbf{X\\theta} ||_2 $\n",
    "\n",
    "Sous condition que le nombre d'échantillons est supérieur au nombre de variable (n > p), on peut estimer le niveau en fonction du rang de la matrice de design. Avant de calculer cet estimateur, on peut appliquer un Lasso et vérifier que la dimension du vecteur des paramètres est strictement inférieur au rang de X:\n",
    "\n",
    "$\\hat{\\sigma} = \\frac{1}{n - rg(X)} \\|Y-X\\hat{\\theta_{Lasso}}\\|_2^2$ pour n > p"
   ]
  },
  {
   "cell_type": "code",
   "execution_count": null,
   "metadata": {
    "collapsed": true
   },
   "outputs": [],
   "source": []
  }
 ],
 "metadata": {
  "kernelspec": {
   "display_name": "Python 2",
   "language": "python",
   "name": "python2"
  },
  "language_info": {
   "codemirror_mode": {
    "name": "ipython",
    "version": 2
   },
   "file_extension": ".py",
   "mimetype": "text/x-python",
   "name": "python",
   "nbconvert_exporter": "python",
   "pygments_lexer": "ipython2",
   "version": "2.7.6"
  }
 },
 "nbformat": 4,
 "nbformat_minor": 0
}
