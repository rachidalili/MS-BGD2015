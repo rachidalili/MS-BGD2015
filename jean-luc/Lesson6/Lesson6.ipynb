{
 "cells": [
  {
   "cell_type": "markdown",
   "metadata": {},
   "source": [
    "# Charles - Lesson6"
   ]
  },
  {
   "cell_type": "markdown",
   "metadata": {},
   "source": [
    "## 1/ Usage des Time Series"
   ]
  },
  {
   "cell_type": "markdown",
   "metadata": {},
   "source": [
    "Regarder np.where (true/false vectoriel) \n",
    "http://docs.scipy.org/doc/numpy/reference/generated/numpy.where.html\n",
    "\n",
    "\n",
    "objets \tdate : https://docs.python.org/2/library/datetime.html\n",
    "Creation d’un objet de type date : naturel a partir d’une string"
   ]
  },
  {
   "cell_type": "code",
   "execution_count": 10,
   "metadata": {
    "collapsed": false
   },
   "outputs": [
    {
     "data": {
      "text/plain": [
       "10"
      ]
     },
     "execution_count": 10,
     "metadata": {},
     "output_type": "execute_result"
    }
   ],
   "source": [
    "from datetime import datetime\n",
    "\n",
    "time = \"08-10-1998\"\n",
    "\n",
    "mydate = datetime.strptime(time,\"%d-%m-%Y\")\n",
    "\n",
    "mydate.year\n",
    "mydate.month"
   ]
  },
  {
   "cell_type": "markdown",
   "metadata": {},
   "source": [
    "fichier source : nursing\n",
    "nursing : pd.readcsv (...\" nursing\" ..)\n",
    "\n",
    "colonne date contient des strings avec une valeur date\n",
    "\n",
    "on affecte un index  du DF sur la colonne date et on passe en logique temporelle\n",
    "nursing = nursing.set_index('Date')\n",
    "\n",
    "=> intéret de compléter des valeurs manquantes dans les series temporelles (exemple capteur en panne au jour J)\n",
    "\n",
    "ex : nursing.ix['2012']\n",
    "Donne toutes les valeurs pour l'année 2012 en une ligne !\n",
    "peut aussi donner les intervalles nursing.ix['2012':'2014']\n",
    "\n",
    "Doc time series :\n",
    "http://pandas.pydata.org/pandas-docs/stable/timeseries.html\n",
    "\n",
    "Resample : fait un sampling sur un attribut, idem de groupby month\n",
    "ex : resampling par mois / année / jour\n",
    "\n",
    "\n",
    "Date Range :\n",
    "http://pandas.pydata.org/pandas-docs/stable/generated/pandas.date_range.html\n",
    "\n",
    "pd.date_range( params) \n",
    "frequence, debut, fin, nobre de periodes, \n",
    "\n",
    "\n",
    "operations pandas faites sur les index :\n",
    "pd - pd.drop(1) : aligne les index ligne par ligne et ajoute des NaN si necessaire.\n",
    "Ne fait pas juste la différence ligne a ligne (comme numpy)\n",
    "\n",
    "Shift d'une journée\n",
    "\n",
    "\n",
    "\n",
    "\n",
    "\n",
    "\n"
   ]
  },
  {
   "cell_type": "markdown",
   "metadata": {},
   "source": [
    "## 2/ Visualisation"
   ]
  },
  {
   "cell_type": "markdown",
   "metadata": {},
   "source": [
    "Chaque visualisation porte un sens : choix de type de graphes importants\n",
    "\n",
    "Graphique lib matplotlib : http://matplotlib.org/index.html\n",
    "utilisée par pandas nativement\n",
    "\n",
    "Standard sur le marché pour affichage Web : Librairie D3JS : restitutions dynamiques : danshttp://d3js.org/ \n",
    "\n",
    "penser a \".plot\" a la fin d'une DataFrame pandas - automatiquement passe a l'affichage\n",
    "et a plt.show() pour visualiser les fenetres graphiques !!\n",
    "\n",
    "\n",
    "scatter.matrix : donne toutes les coréllations entre les données de la DF\n",
    "\n",
    "\n",
    "http://pandas.pydata.org/pandas-docs/version/0.15.0/visualization.html\n",
    "\n",
    "https://stanford.edu/~mwaskom/software/seaborn/examples/scatterplot_matrix.html\n",
    "\n",
    "\n",
    "\n",
    "\n",
    "\n",
    " \n",
    "\n",
    "\n"
   ]
  }
 ],
 "metadata": {
  "kernelspec": {
   "display_name": "Python 2",
   "language": "python",
   "name": "python2"
  },
  "language_info": {
   "codemirror_mode": {
    "name": "ipython",
    "version": 2
   },
   "file_extension": ".py",
   "mimetype": "text/x-python",
   "name": "python",
   "nbconvert_exporter": "python",
   "pygments_lexer": "ipython2",
   "version": "2.7.10"
  }
 },
 "nbformat": 4,
 "nbformat_minor": 0
}
