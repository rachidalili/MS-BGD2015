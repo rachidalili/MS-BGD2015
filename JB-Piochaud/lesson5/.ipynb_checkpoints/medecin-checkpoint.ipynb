{
 "cells": [
  {
   "cell_type": "code",
   "execution_count": 366,
   "metadata": {
    "collapsed": true
   },
   "outputs": [],
   "source": [
    "import pandas as pd\n",
    "import chardet\n",
    "import re\n",
    "import statsmodels.api as sm\n",
    "from sklearn import linear_model\n",
    "from matplotlib import rc\n",
    "import matplotlib.pyplot as plt\n",
    "from sklearn import preprocessing\n",
    "import numpy as np\n",
    "import scipy as sci\n",
    "from pandas.tools.plotting import bootstrap_plot\n",
    "skl_linmod = linear_model.LinearRegression()\n",
    "\n",
    "from sklearn.utils import resample as resample\n",
    "import math"
   ]
  },
  {
   "cell_type": "markdown",
   "metadata": {},
   "source": [
    "#Préparation des données\n",
    "#####données1: https://www.data.gouv.fr/fr/datasets/depenses-d-assurance-maladie-hors-prestations-hospitalieres-par-caisse-primaire-departement/ (fichier R 2014 sans libélés & fichier descriptif_table_R pour l'explication des variables)\n",
    "#####données 2 :http://www.data.drees.sante.gouv.fr/ReportFolders/reportFolders.aspx?IF_ActivePath=P,490,497,514 (tableau 7)"
   ]
  },
  {
   "cell_type": "code",
   "execution_count": 54,
   "metadata": {
    "collapsed": true
   },
   "outputs": [],
   "source": [
    "filePath = \"./data/rpps-medecin-tab7-densite-2013-14-15-v1_27501082545774.csv\"\n",
    "#skiprows = [0,1,2,3,5,6,7]\n",
    "skiprows = range(4) + range(5,8)\n",
    "nrows=5"
   ]
  },
  {
   "cell_type": "code",
   "execution_count": 55,
   "metadata": {
    "collapsed": false
   },
   "outputs": [
    {
     "name": "stdout",
     "output_type": "stream",
     "text": [
      "  SPECIALITE  Ensemble des sp�cialit�s d'exercice  Sp�cialistes  \\\n",
      "0     Alsace                                356.9         198.2   \n",
      "1  Aquitaine                                354.3         184.2   \n",
      "\n",
      "   Anatomie et cytologie pathologiques  Anesth�sie-r�animation  \\\n",
      "0                                  2.0                    19.9   \n",
      "1                                  2.8                    17.9   \n",
      "\n",
      "   Biologie m�dicale  Cardiologie et maladies vasculaires  Chirurgie g�n�rale  \\\n",
      "0                3.9                                 12.1                 7.1   \n",
      "1                4.9                                 11.8                 5.2   \n",
      "\n",
      "   Chirurgie maxillo-faciale et stomatologie  \\\n",
      "0                                        0.8   \n",
      "1                                        1.6   \n",
      "\n",
      "   Chirurgie orthop�dique et traumatologie        ...          Pneumologie  \\\n",
      "0                                      5.1        ...                  4.5   \n",
      "1                                      5.3        ...                  3.5   \n",
      "\n",
      "   Psychiatrie  Radio-diagnostic et imagerie m�dicale  Radio-th�rapie  \\\n",
      "0         21.7                                   15.5             1.5   \n",
      "1         25.5                                   14.5             1.3   \n",
      "\n",
      "   R�animation m�dicale  Recherche m�dicale  Rhumatologie  \\\n",
      "0                   0.9                 0.1           3.5   \n",
      "1                   0.2                 0.0           3.0   \n",
      "\n",
      "   Sant� publique et m�decine sociale  G�n�ralistes  M�decine g�n�rale  \n",
      "0                                 2.3         158.7              158.7  \n",
      "1                                 2.5         170.1              170.1  \n",
      "\n",
      "[2 rows x 45 columns]\n"
     ]
    }
   ],
   "source": [
    "data = pd.read_csv(filePath, nrows=nrows, skiprows=skiprows)\n",
    "print data.head(2)"
   ]
  },
  {
   "cell_type": "code",
   "execution_count": 56,
   "metadata": {
    "collapsed": false
   },
   "outputs": [
    {
     "name": "stdout",
     "output_type": "stream",
     "text": [
      "{'confidence': 0.8841952448101613, 'encoding': 'ISO-8859-2'}\n"
     ]
    }
   ],
   "source": [
    "columns = data.columns\n",
    "print chardet.detect(\" \".join(columns))"
   ]
  },
  {
   "cell_type": "code",
   "execution_count": 57,
   "metadata": {
    "collapsed": false
   },
   "outputs": [
    {
     "name": "stdout",
     "output_type": "stream",
     "text": [
      "  SPECIALITE  Ensemble des spécialités d'exercice  Spécialistes  \\\n",
      "0     Alsace                                356.9         198.2   \n",
      "1  Aquitaine                                354.3         184.2   \n",
      "\n",
      "   Anatomie et cytologie pathologiques  Anesthésie-réanimation  \\\n",
      "0                                  2.0                    19.9   \n",
      "1                                  2.8                    17.9   \n",
      "\n",
      "   Biologie médicale  Cardiologie et maladies vasculaires  Chirurgie générale  \\\n",
      "0                3.9                                 12.1                 7.1   \n",
      "1                4.9                                 11.8                 5.2   \n",
      "\n",
      "   Chirurgie maxillo-faciale et stomatologie  \\\n",
      "0                                        0.8   \n",
      "1                                        1.6   \n",
      "\n",
      "   Chirurgie orthopédique et traumatologie        ...          Pneumologie  \\\n",
      "0                                      5.1        ...                  4.5   \n",
      "1                                      5.3        ...                  3.5   \n",
      "\n",
      "   Psychiatrie  Radio-diagnostic et imagerie médicale  Radio-thérapie  \\\n",
      "0         21.7                                   15.5             1.5   \n",
      "1         25.5                                   14.5             1.3   \n",
      "\n",
      "   Réanimation médicale  Recherche médicale  Rhumatologie  \\\n",
      "0                   0.9                 0.1           3.5   \n",
      "1                   0.2                 0.0           3.0   \n",
      "\n",
      "   Santé publique et médecine sociale  Généralistes  Médecine générale  \n",
      "0                                 2.3         158.7              158.7  \n",
      "1                                 2.5         170.1              170.1  \n",
      "\n",
      "[2 rows x 45 columns]\n"
     ]
    }
   ],
   "source": [
    "data = pd.read_csv(filePath, nrows=nrows, skiprows=skiprows, encoding=\"iso-8859-2\")\n",
    "print data.head(2)"
   ]
  },
  {
   "cell_type": "code",
   "execution_count": 59,
   "metadata": {
    "collapsed": false
   },
   "outputs": [
    {
     "data": {
      "text/html": [
       "<div>\n",
       "<table border=\"1\" class=\"dataframe\">\n",
       "  <thead>\n",
       "    <tr style=\"text-align: right;\">\n",
       "      <th></th>\n",
       "      <th>SPECIALITE</th>\n",
       "      <th>Ensemble des spécialités d'exercice</th>\n",
       "      <th>Spécialistes</th>\n",
       "      <th>Anatomie et cytologie pathologiques</th>\n",
       "      <th>Anesthésie-réanimation</th>\n",
       "      <th>Biologie médicale</th>\n",
       "      <th>Cardiologie et maladies vasculaires</th>\n",
       "      <th>Chirurgie générale</th>\n",
       "      <th>Chirurgie maxillo-faciale et stomatologie</th>\n",
       "      <th>Chirurgie orthopédique et traumatologie</th>\n",
       "      <th>...</th>\n",
       "      <th>Pneumologie</th>\n",
       "      <th>Psychiatrie</th>\n",
       "      <th>Radio-diagnostic et imagerie médicale</th>\n",
       "      <th>Radio-thérapie</th>\n",
       "      <th>Réanimation médicale</th>\n",
       "      <th>Recherche médicale</th>\n",
       "      <th>Rhumatologie</th>\n",
       "      <th>Santé publique et médecine sociale</th>\n",
       "      <th>Généralistes</th>\n",
       "      <th>Médecine générale</th>\n",
       "    </tr>\n",
       "  </thead>\n",
       "  <tbody>\n",
       "    <tr>\n",
       "      <th>0</th>\n",
       "      <td>Alsace</td>\n",
       "      <td>356.9</td>\n",
       "      <td>198.2</td>\n",
       "      <td>2.0</td>\n",
       "      <td>19.9</td>\n",
       "      <td>3.9</td>\n",
       "      <td>12.1</td>\n",
       "      <td>7.1</td>\n",
       "      <td>0.8</td>\n",
       "      <td>5.1</td>\n",
       "      <td>...</td>\n",
       "      <td>4.5</td>\n",
       "      <td>21.7</td>\n",
       "      <td>15.5</td>\n",
       "      <td>1.5</td>\n",
       "      <td>0.9</td>\n",
       "      <td>0.1</td>\n",
       "      <td>3.5</td>\n",
       "      <td>2.3</td>\n",
       "      <td>158.7</td>\n",
       "      <td>158.7</td>\n",
       "    </tr>\n",
       "    <tr>\n",
       "      <th>1</th>\n",
       "      <td>Aquitaine</td>\n",
       "      <td>354.3</td>\n",
       "      <td>184.2</td>\n",
       "      <td>2.8</td>\n",
       "      <td>17.9</td>\n",
       "      <td>4.9</td>\n",
       "      <td>11.8</td>\n",
       "      <td>5.2</td>\n",
       "      <td>1.6</td>\n",
       "      <td>5.3</td>\n",
       "      <td>...</td>\n",
       "      <td>3.5</td>\n",
       "      <td>25.5</td>\n",
       "      <td>14.5</td>\n",
       "      <td>1.3</td>\n",
       "      <td>0.2</td>\n",
       "      <td>0.0</td>\n",
       "      <td>3.0</td>\n",
       "      <td>2.5</td>\n",
       "      <td>170.1</td>\n",
       "      <td>170.1</td>\n",
       "    </tr>\n",
       "    <tr>\n",
       "      <th>2</th>\n",
       "      <td>Auvergne</td>\n",
       "      <td>308.4</td>\n",
       "      <td>155.5</td>\n",
       "      <td>2.3</td>\n",
       "      <td>16.0</td>\n",
       "      <td>3.6</td>\n",
       "      <td>8.8</td>\n",
       "      <td>5.4</td>\n",
       "      <td>0.7</td>\n",
       "      <td>4.3</td>\n",
       "      <td>...</td>\n",
       "      <td>3.3</td>\n",
       "      <td>18.5</td>\n",
       "      <td>11.0</td>\n",
       "      <td>1.7</td>\n",
       "      <td>0.7</td>\n",
       "      <td>0.0</td>\n",
       "      <td>4.0</td>\n",
       "      <td>2.5</td>\n",
       "      <td>152.9</td>\n",
       "      <td>152.9</td>\n",
       "    </tr>\n",
       "    <tr>\n",
       "      <th>3</th>\n",
       "      <td>Basse-Normandie</td>\n",
       "      <td>300.6</td>\n",
       "      <td>150.1</td>\n",
       "      <td>1.8</td>\n",
       "      <td>14.1</td>\n",
       "      <td>3.5</td>\n",
       "      <td>8.9</td>\n",
       "      <td>5.7</td>\n",
       "      <td>2.0</td>\n",
       "      <td>4.3</td>\n",
       "      <td>...</td>\n",
       "      <td>4.3</td>\n",
       "      <td>16.0</td>\n",
       "      <td>11.1</td>\n",
       "      <td>1.5</td>\n",
       "      <td>0.3</td>\n",
       "      <td>0.0</td>\n",
       "      <td>3.4</td>\n",
       "      <td>1.8</td>\n",
       "      <td>150.5</td>\n",
       "      <td>150.5</td>\n",
       "    </tr>\n",
       "    <tr>\n",
       "      <th>4</th>\n",
       "      <td>Bourgogne</td>\n",
       "      <td>288.0</td>\n",
       "      <td>147.9</td>\n",
       "      <td>1.6</td>\n",
       "      <td>14.3</td>\n",
       "      <td>3.8</td>\n",
       "      <td>8.8</td>\n",
       "      <td>4.5</td>\n",
       "      <td>1.0</td>\n",
       "      <td>5.4</td>\n",
       "      <td>...</td>\n",
       "      <td>4.5</td>\n",
       "      <td>16.6</td>\n",
       "      <td>10.1</td>\n",
       "      <td>1.0</td>\n",
       "      <td>0.4</td>\n",
       "      <td>0.0</td>\n",
       "      <td>2.8</td>\n",
       "      <td>2.5</td>\n",
       "      <td>140.1</td>\n",
       "      <td>140.1</td>\n",
       "    </tr>\n",
       "  </tbody>\n",
       "</table>\n",
       "<p>5 rows × 45 columns</p>\n",
       "</div>"
      ],
      "text/plain": [
       "        SPECIALITE  Ensemble des spécialités d'exercice  Spécialistes  \\\n",
       "0           Alsace                                356.9         198.2   \n",
       "1        Aquitaine                                354.3         184.2   \n",
       "2         Auvergne                                308.4         155.5   \n",
       "3  Basse-Normandie                                300.6         150.1   \n",
       "4        Bourgogne                                288.0         147.9   \n",
       "\n",
       "   Anatomie et cytologie pathologiques  Anesthésie-réanimation  \\\n",
       "0                                  2.0                    19.9   \n",
       "1                                  2.8                    17.9   \n",
       "2                                  2.3                    16.0   \n",
       "3                                  1.8                    14.1   \n",
       "4                                  1.6                    14.3   \n",
       "\n",
       "   Biologie médicale  Cardiologie et maladies vasculaires  Chirurgie générale  \\\n",
       "0                3.9                                 12.1                 7.1   \n",
       "1                4.9                                 11.8                 5.2   \n",
       "2                3.6                                  8.8                 5.4   \n",
       "3                3.5                                  8.9                 5.7   \n",
       "4                3.8                                  8.8                 4.5   \n",
       "\n",
       "   Chirurgie maxillo-faciale et stomatologie  \\\n",
       "0                                        0.8   \n",
       "1                                        1.6   \n",
       "2                                        0.7   \n",
       "3                                        2.0   \n",
       "4                                        1.0   \n",
       "\n",
       "   Chirurgie orthopédique et traumatologie        ...          Pneumologie  \\\n",
       "0                                      5.1        ...                  4.5   \n",
       "1                                      5.3        ...                  3.5   \n",
       "2                                      4.3        ...                  3.3   \n",
       "3                                      4.3        ...                  4.3   \n",
       "4                                      5.4        ...                  4.5   \n",
       "\n",
       "   Psychiatrie  Radio-diagnostic et imagerie médicale  Radio-thérapie  \\\n",
       "0         21.7                                   15.5             1.5   \n",
       "1         25.5                                   14.5             1.3   \n",
       "2         18.5                                   11.0             1.7   \n",
       "3         16.0                                   11.1             1.5   \n",
       "4         16.6                                   10.1             1.0   \n",
       "\n",
       "   Réanimation médicale  Recherche médicale  Rhumatologie  \\\n",
       "0                   0.9                 0.1           3.5   \n",
       "1                   0.2                 0.0           3.0   \n",
       "2                   0.7                 0.0           4.0   \n",
       "3                   0.3                 0.0           3.4   \n",
       "4                   0.4                 0.0           2.8   \n",
       "\n",
       "   Santé publique et médecine sociale  Généralistes  Médecine générale  \n",
       "0                                 2.3         158.7              158.7  \n",
       "1                                 2.5         170.1              170.1  \n",
       "2                                 2.5         152.9              152.9  \n",
       "3                                 1.8         150.5              150.5  \n",
       "4                                 2.5         140.1              140.1  \n",
       "\n",
       "[5 rows x 45 columns]"
      ]
     },
     "execution_count": 59,
     "metadata": {},
     "output_type": "execute_result"
    }
   ],
   "source": [
    "df = pd.DataFrame(data)\n",
    "df"
   ]
  },
  {
   "cell_type": "code",
   "execution_count": 75,
   "metadata": {
    "collapsed": false
   },
   "outputs": [
    {
     "name": "stdout",
     "output_type": "stream",
     "text": [
      "                                                                          cpam;SERIE;prs_nat;sns_date;asu_nat;cpl_cod;ben_qlt;REM_TAU;pre_spe;pre_spe1;pre_stj1;exe_spe;exe_spe1;exe_stj1;top_slm;rem_mon;rec_mon;dep_mon;act_dnb;act_coe\n",
      "342;111111;1111;201001;1;0;1;30;1;1;1;1;11;1;1;6   60;22  00;0  00;1;1                                                    0                                                                                                              \n",
      "451;111111;1111;201001;1;0;1;30;1;1;1;1;11;1;1;-6  60;-22 00;0  00;-1;-1                                                  0                                                                                                              \n",
      "597;111111;1111;201001;1;0;1;30;1;1;1;1;11;1;1;-6  60;-22 00;0  00;-1;-1                                                  0                                                                                                              \n",
      "599;111111;1111;201001;1;0;1;30;1;1;1;1;11;1;1;-13 20;-44 00;0  00;-2;-2                                                  0                                                                                                              \n",
      "611;111111;1111;201001;1;0;1;30;1;1;1;1;11;1;1;0   13;0   43;84 57;1;1                                                    0                                                                                                              \n"
     ]
    }
   ],
   "source": [
    "filePath = \"./data/R_2014_sans_lib/R201401_sanslib.CSV\"\n",
    "data = pd.read_csv(filePath, nrows=nrows)\n",
    "print data"
   ]
  },
  {
   "cell_type": "code",
   "execution_count": 76,
   "metadata": {
    "collapsed": false
   },
   "outputs": [
    {
     "name": "stdout",
     "output_type": "stream",
     "text": [
      "   cpam   SERIE  prs_nat  sns_date  asu_nat  cpl_cod  ben_qlt  REM_TAU  \\\n",
      "0   342  111111     1111    201001        1        0        1       30   \n",
      "1   451  111111     1111    201001        1        0        1       30   \n",
      "\n",
      "   pre_spe  pre_spe1  pre_stj1  exe_spe  exe_spe1  exe_stj1  top_slm rem_mon  \\\n",
      "0        1         1         1        1        11         1        1    6,60   \n",
      "1        1         1         1        1        11         1        1   -6,60   \n",
      "\n",
      "  rec_mon dep_mon  act_dnb act_coe  \n",
      "0   22,00    0,00        1    1,00  \n",
      "1  -22,00    0,00       -1   -1,00  \n"
     ]
    }
   ],
   "source": [
    "data = pd.read_csv(filePath, sep=';', nrows=nrows)\n",
    "print data.head(2)"
   ]
  },
  {
   "cell_type": "code",
   "execution_count": 77,
   "metadata": {
    "collapsed": false
   },
   "outputs": [
    {
     "name": "stdout",
     "output_type": "stream",
     "text": [
      "   cpam   SERIE  prs_nat  sns_date  asu_nat  cpl_cod  ben_qlt  REM_TAU  \\\n",
      "0   342  111111     1111    201001        1        0        1       30   \n",
      "1   451  111111     1111    201001        1        0        1       30   \n",
      "\n",
      "   pre_spe  pre_spe1  pre_stj1  exe_spe  exe_spe1  exe_stj1  top_slm  rem_mon  \\\n",
      "0        1         1         1        1        11         1        1      6.6   \n",
      "1        1         1         1        1        11         1        1     -6.6   \n",
      "\n",
      "   rec_mon  dep_mon  act_dnb  act_coe  \n",
      "0       22        0        1        1  \n",
      "1      -22        0       -1       -1  \n"
     ]
    }
   ],
   "source": [
    "data = pd.read_csv(filePath, sep=';', nrows=nrows, decimal=',')\n",
    "print data.head(2)"
   ]
  },
  {
   "cell_type": "code",
   "execution_count": 78,
   "metadata": {
    "collapsed": false
   },
   "outputs": [
    {
     "data": {
      "text/html": [
       "<div>\n",
       "<table border=\"1\" class=\"dataframe\">\n",
       "  <thead>\n",
       "    <tr style=\"text-align: right;\">\n",
       "      <th></th>\n",
       "      <th>cpam</th>\n",
       "      <th>SERIE</th>\n",
       "      <th>prs_nat</th>\n",
       "      <th>sns_date</th>\n",
       "      <th>asu_nat</th>\n",
       "      <th>cpl_cod</th>\n",
       "      <th>ben_qlt</th>\n",
       "      <th>REM_TAU</th>\n",
       "      <th>pre_spe</th>\n",
       "      <th>pre_spe1</th>\n",
       "      <th>pre_stj1</th>\n",
       "      <th>exe_spe</th>\n",
       "      <th>exe_spe1</th>\n",
       "      <th>exe_stj1</th>\n",
       "      <th>top_slm</th>\n",
       "      <th>rem_mon</th>\n",
       "      <th>rec_mon</th>\n",
       "      <th>dep_mon</th>\n",
       "      <th>act_dnb</th>\n",
       "      <th>act_coe</th>\n",
       "    </tr>\n",
       "  </thead>\n",
       "  <tbody>\n",
       "    <tr>\n",
       "      <th>0</th>\n",
       "      <td>342</td>\n",
       "      <td>111111</td>\n",
       "      <td>1111</td>\n",
       "      <td>201001</td>\n",
       "      <td>1</td>\n",
       "      <td>0</td>\n",
       "      <td>1</td>\n",
       "      <td>30</td>\n",
       "      <td>1</td>\n",
       "      <td>1</td>\n",
       "      <td>1</td>\n",
       "      <td>1</td>\n",
       "      <td>11</td>\n",
       "      <td>1</td>\n",
       "      <td>1</td>\n",
       "      <td>6.60</td>\n",
       "      <td>22.00</td>\n",
       "      <td>0.00</td>\n",
       "      <td>1</td>\n",
       "      <td>1</td>\n",
       "    </tr>\n",
       "    <tr>\n",
       "      <th>1</th>\n",
       "      <td>451</td>\n",
       "      <td>111111</td>\n",
       "      <td>1111</td>\n",
       "      <td>201001</td>\n",
       "      <td>1</td>\n",
       "      <td>0</td>\n",
       "      <td>1</td>\n",
       "      <td>30</td>\n",
       "      <td>1</td>\n",
       "      <td>1</td>\n",
       "      <td>1</td>\n",
       "      <td>1</td>\n",
       "      <td>11</td>\n",
       "      <td>1</td>\n",
       "      <td>1</td>\n",
       "      <td>-6.60</td>\n",
       "      <td>-22.00</td>\n",
       "      <td>0.00</td>\n",
       "      <td>-1</td>\n",
       "      <td>-1</td>\n",
       "    </tr>\n",
       "    <tr>\n",
       "      <th>2</th>\n",
       "      <td>597</td>\n",
       "      <td>111111</td>\n",
       "      <td>1111</td>\n",
       "      <td>201001</td>\n",
       "      <td>1</td>\n",
       "      <td>0</td>\n",
       "      <td>1</td>\n",
       "      <td>30</td>\n",
       "      <td>1</td>\n",
       "      <td>1</td>\n",
       "      <td>1</td>\n",
       "      <td>1</td>\n",
       "      <td>11</td>\n",
       "      <td>1</td>\n",
       "      <td>1</td>\n",
       "      <td>-6.60</td>\n",
       "      <td>-22.00</td>\n",
       "      <td>0.00</td>\n",
       "      <td>-1</td>\n",
       "      <td>-1</td>\n",
       "    </tr>\n",
       "    <tr>\n",
       "      <th>3</th>\n",
       "      <td>599</td>\n",
       "      <td>111111</td>\n",
       "      <td>1111</td>\n",
       "      <td>201001</td>\n",
       "      <td>1</td>\n",
       "      <td>0</td>\n",
       "      <td>1</td>\n",
       "      <td>30</td>\n",
       "      <td>1</td>\n",
       "      <td>1</td>\n",
       "      <td>1</td>\n",
       "      <td>1</td>\n",
       "      <td>11</td>\n",
       "      <td>1</td>\n",
       "      <td>1</td>\n",
       "      <td>-13.20</td>\n",
       "      <td>-44.00</td>\n",
       "      <td>0.00</td>\n",
       "      <td>-2</td>\n",
       "      <td>-2</td>\n",
       "    </tr>\n",
       "    <tr>\n",
       "      <th>4</th>\n",
       "      <td>611</td>\n",
       "      <td>111111</td>\n",
       "      <td>1111</td>\n",
       "      <td>201001</td>\n",
       "      <td>1</td>\n",
       "      <td>0</td>\n",
       "      <td>1</td>\n",
       "      <td>30</td>\n",
       "      <td>1</td>\n",
       "      <td>1</td>\n",
       "      <td>1</td>\n",
       "      <td>1</td>\n",
       "      <td>11</td>\n",
       "      <td>1</td>\n",
       "      <td>1</td>\n",
       "      <td>0.13</td>\n",
       "      <td>0.43</td>\n",
       "      <td>84.57</td>\n",
       "      <td>1</td>\n",
       "      <td>1</td>\n",
       "    </tr>\n",
       "  </tbody>\n",
       "</table>\n",
       "</div>"
      ],
      "text/plain": [
       "   cpam   SERIE  prs_nat  sns_date  asu_nat  cpl_cod  ben_qlt  REM_TAU  \\\n",
       "0   342  111111     1111    201001        1        0        1       30   \n",
       "1   451  111111     1111    201001        1        0        1       30   \n",
       "2   597  111111     1111    201001        1        0        1       30   \n",
       "3   599  111111     1111    201001        1        0        1       30   \n",
       "4   611  111111     1111    201001        1        0        1       30   \n",
       "\n",
       "   pre_spe  pre_spe1  pre_stj1  exe_spe  exe_spe1  exe_stj1  top_slm  rem_mon  \\\n",
       "0        1         1         1        1        11         1        1     6.60   \n",
       "1        1         1         1        1        11         1        1    -6.60   \n",
       "2        1         1         1        1        11         1        1    -6.60   \n",
       "3        1         1         1        1        11         1        1   -13.20   \n",
       "4        1         1         1        1        11         1        1     0.13   \n",
       "\n",
       "   rec_mon  dep_mon  act_dnb  act_coe  \n",
       "0    22.00     0.00        1        1  \n",
       "1   -22.00     0.00       -1       -1  \n",
       "2   -22.00     0.00       -1       -1  \n",
       "3   -44.00     0.00       -2       -2  \n",
       "4     0.43    84.57        1        1  "
      ]
     },
     "execution_count": 78,
     "metadata": {},
     "output_type": "execute_result"
    }
   ],
   "source": [
    "df = pd.DataFrame(data)\n",
    "col = data.columns.tolist()\n",
    "#print df[[col[0], col[1]]].head(5)\n",
    "#df.loc[0:3,col[0]:col[2]]\n",
    "df"
   ]
  },
  {
   "cell_type": "markdown",
   "metadata": {},
   "source": [
    "#Dépassements d'honoraires mois de janvier"
   ]
  },
  {
   "cell_type": "code",
   "execution_count": 13,
   "metadata": {
    "collapsed": true
   },
   "outputs": [],
   "source": [
    "import pandas as pd\n",
    "import matplotlib.pyplot as plt\n",
    "%matplotlib inline"
   ]
  },
  {
   "cell_type": "code",
   "execution_count": 25,
   "metadata": {
    "collapsed": false
   },
   "outputs": [
    {
     "name": "stdout",
     "output_type": "stream",
     "text": [
      "./data/R_2014_sans_lib/R201401_sanslib.CSV\n"
     ]
    }
   ],
   "source": [
    "def set_pathR(year, month):\n",
    "    PathRFormat = \"./data/R_2014_sans_lib/R{year}{month}_sanslib.CSV\"\n",
    "    PathR = PathRFormat.format(month=month, year=year)\n",
    "    return PathR\n",
    "    \n",
    "PathR = set_pathR(\"2014\", \"01\")\n",
    "print PathR"
   ]
  },
  {
   "cell_type": "code",
   "execution_count": 26,
   "metadata": {
    "collapsed": false
   },
   "outputs": [
    {
     "data": {
      "text/html": [
       "<div>\n",
       "<table border=\"1\" class=\"dataframe\">\n",
       "  <thead>\n",
       "    <tr style=\"text-align: right;\">\n",
       "      <th></th>\n",
       "      <th>cpam</th>\n",
       "      <th>exe_spe</th>\n",
       "      <th>exe_spe1</th>\n",
       "      <th>dep_mon</th>\n",
       "    </tr>\n",
       "  </thead>\n",
       "  <tbody>\n",
       "    <tr>\n",
       "      <th>0</th>\n",
       "      <td>342</td>\n",
       "      <td>1</td>\n",
       "      <td>11</td>\n",
       "      <td>0</td>\n",
       "    </tr>\n",
       "    <tr>\n",
       "      <th>1</th>\n",
       "      <td>451</td>\n",
       "      <td>1</td>\n",
       "      <td>11</td>\n",
       "      <td>0</td>\n",
       "    </tr>\n",
       "  </tbody>\n",
       "</table>\n",
       "</div>"
      ],
      "text/plain": [
       "   cpam  exe_spe  exe_spe1  dep_mon\n",
       "0   342        1        11        0\n",
       "1   451        1        11        0"
      ]
     },
     "execution_count": 26,
     "metadata": {},
     "output_type": "execute_result"
    }
   ],
   "source": [
    "def getdfR(filePath, usecols, nrows):\n",
    "    dataR = pd.read_csv(filePath, sep=';', usecols=usecols, decimal=',', thousands='.', nrows=nrows)\n",
    "    dfR = pd.DataFrame(dataR)\n",
    "    return dfR\n",
    "\n",
    "nrows = None\n",
    "usecols = [\"cpam\", \"exe_spe\", \"exe_spe1\", \"dep_mon\"]\n",
    "dfR = getdfR(PathR, usecols, nrows)\n",
    "dfR.head(2) \n",
    "\n",
    "#dfR[\"dep_mon\"].unique()"
   ]
  },
  {
   "cell_type": "code",
   "execution_count": 28,
   "metadata": {
    "collapsed": false
   },
   "outputs": [
    {
     "data": {
      "text/plain": [
       "<matplotlib.axes._subplots.AxesSubplot at 0x7fbab84c1890>"
      ]
     },
     "execution_count": 28,
     "metadata": {},
     "output_type": "execute_result"
    },
    {
     "data": {
      "image/png": "[encoded data removed]",
      "text/plain": [
       "<matplotlib.figure.Figure at 0x7fbab8900150>"
      ]
     },
     "metadata": {},
     "output_type": "display_data"
    }
   ],
   "source": [
    "dfR['dep_mon'].sample(1000).plot(kind='hist', bins=30)"
   ]
  },
  {
   "cell_type": "code",
   "execution_count": 29,
   "metadata": {
    "collapsed": false
   },
   "outputs": [
    {
     "data": {
      "text/plain": [
       "<matplotlib.axes._subplots.AxesSubplot at 0x7fbab83a1a10>"
      ]
     },
     "execution_count": 29,
     "metadata": {},
     "output_type": "execute_result"
    },
    {
     "data": {
      "image/png": "[encoded data removed]",
      "text/plain": [
       "<matplotlib.figure.Figure at 0x7fbab83d2c90>"
      ]
     },
     "metadata": {},
     "output_type": "display_data"
    }
   ],
   "source": [
    "dfR = dfR.loc[(dfR[\"dep_mon\"] > 0) & (dfR[\"dep_mon\"] < 1000)]\n",
    "dfR['dep_mon'].plot(kind='hist', bins=30)"
   ]
  },
  {
   "cell_type": "code",
   "execution_count": 194,
   "metadata": {
    "collapsed": false
   },
   "outputs": [
    {
     "data": {
      "text/html": [
       "<div>\n",
       "<table border=\"1\" class=\"dataframe\">\n",
       "  <thead>\n",
       "    <tr style=\"text-align: right;\">\n",
       "      <th></th>\n",
       "      <th>sum</th>\n",
       "      <th>mean</th>\n",
       "      <th>count</th>\n",
       "    </tr>\n",
       "    <tr>\n",
       "      <th>exe_spe1</th>\n",
       "      <th></th>\n",
       "      <th></th>\n",
       "      <th></th>\n",
       "    </tr>\n",
       "  </thead>\n",
       "  <tbody>\n",
       "    <tr>\n",
       "      <th>11</th>\n",
       "      <td>0.099134</td>\n",
       "      <td>0.098834</td>\n",
       "      <td>0.108493</td>\n",
       "    </tr>\n",
       "    <tr>\n",
       "      <th>12</th>\n",
       "      <td>0.704365</td>\n",
       "      <td>0.116371</td>\n",
       "      <td>0.654692</td>\n",
       "    </tr>\n",
       "    <tr>\n",
       "      <th>30</th>\n",
       "      <td>0.001268</td>\n",
       "      <td>0.010365</td>\n",
       "      <td>0.013231</td>\n",
       "    </tr>\n",
       "  </tbody>\n",
       "</table>\n",
       "</div>"
      ],
      "text/plain": [
       "               sum      mean     count\n",
       "exe_spe1                              \n",
       "11        0.099134  0.098834  0.108493\n",
       "12        0.704365  0.116371  0.654692\n",
       "30        0.001268  0.010365  0.013231"
      ]
     },
     "execution_count": 194,
     "metadata": {},
     "output_type": "execute_result"
    }
   ],
   "source": [
    "def getGroupNormalized(varGroup, varToGroup):\n",
    "    df = dfR[[varGroup, varToGroup]].groupby(varGroup).aggregate(['sum', 'mean', 'count'])#.astype(float)\n",
    "    df = df[varToGroup]\n",
    "    div_df = df.copy(deep=True)\n",
    "    div_df.loc[:,:] = 0\n",
    "    div_df.loc[:,'sum'] = df.loc[:,'sum'].sum()\n",
    "    div_df.loc[:,'mean'] = df.loc[:,'mean'].sum()\n",
    "    div_df.loc[:,'count'] = df.loc[:,'count'].sum()\n",
    "    return df.div(div_df)\n",
    "\n",
    "dep_mon_grouby_exe_spe1 = getGroupNormalized('exe_spe1', 'dep_mon')\n",
    "dep_mon_grouby_exe_spe1.head(3)"
   ]
  },
  {
   "cell_type": "code",
   "execution_count": 84,
   "metadata": {
    "collapsed": false
   },
   "outputs": [
    {
     "data": {
      "text/html": [
       "<div>\n",
       "<table border=\"1\" class=\"dataframe\">\n",
       "  <thead>\n",
       "    <tr style=\"text-align: right;\">\n",
       "      <th></th>\n",
       "      <th>l_exe_spe1</th>\n",
       "    </tr>\n",
       "    <tr>\n",
       "      <th>exe_spe1</th>\n",
       "      <th></th>\n",
       "    </tr>\n",
       "  </thead>\n",
       "  <tbody>\n",
       "    <tr>\n",
       "      <th>11</th>\n",
       "      <td>Médecins Omnipraticiens</td>\n",
       "    </tr>\n",
       "    <tr>\n",
       "      <th>12</th>\n",
       "      <td>Médecins Spécialistes</td>\n",
       "    </tr>\n",
       "  </tbody>\n",
       "</table>\n",
       "</div>"
      ],
      "text/plain": [
       "                       l_exe_spe1\n",
       "exe_spe1                         \n",
       "11        Médecins Omnipraticiens\n",
       "12          Médecins Spécialistes"
      ]
     },
     "execution_count": 84,
     "metadata": {},
     "output_type": "execute_result"
    }
   ],
   "source": [
    "def getDescriptionVariable(variable):\n",
    "    descriptifPath = \"./data/descriptif_table_R.xls\"\n",
    "    data_desc = pd.read_excel(descriptifPath, sep=';',sheetname=variable)\n",
    "    df_desc = pd.DataFrame(data_desc).set_index(variable)\n",
    "    return df_desc\n",
    "\n",
    "df_exe_spe1 = getDescriptionVariable('exe_spe1')\n",
    "df_exe_spe1.head(2)"
   ]
  },
  {
   "cell_type": "code",
   "execution_count": 192,
   "metadata": {
    "collapsed": false
   },
   "outputs": [
    {
     "data": {
      "text/plain": [
       "<matplotlib.axes._subplots.AxesSubplot at 0x7fbaaa8fdf90>"
      ]
     },
     "execution_count": 192,
     "metadata": {},
     "output_type": "execute_result"
    },
    {
     "data": {
      "image/png": "[encoded data removed]",
      "text/plain": [
       "<matplotlib.figure.Figure at 0x7fbaaa90fc50>"
      ]
     },
     "metadata": {},
     "output_type": "display_data"
    }
   ],
   "source": [
    "pd.concat([df_exe_spe1, dep_mon_grouby_exe_spe1], axis=1).set_index('l_exe_spe1') \\\n",
    ".sort_values(by='count', ascending=False).plot(kind='bar')"
   ]
  },
  {
   "cell_type": "code",
   "execution_count": 200,
   "metadata": {
    "collapsed": false
   },
   "outputs": [
    {
     "data": {
      "text/plain": [
       "<matplotlib.axes._subplots.AxesSubplot at 0x7fbaaa0f5fd0>"
      ]
     },
     "execution_count": 200,
     "metadata": {},
     "output_type": "execute_result"
    },
    {
     "data": {
      "image/png": "[encoded data removed]",
      "text/plain": [
       "<matplotlib.figure.Figure at 0x7fbaa9d43250>"
      ]
     },
     "metadata": {},
     "output_type": "display_data"
    }
   ],
   "source": [
    "dep_mon_grouby_exe_spe = getGroupNormalized('exe_spe', 'dep_mon')\n",
    "df_exe_spe = getDescriptionVariable('exe_spe')\n",
    "df_exe_spe =pd.concat([df_exe_spe, dep_mon_grouby_exe_spe], axis=1).set_index('l_exe_spe'). \\\n",
    "                       sort_values(by='count', ascending=False)\n",
    "df_exe_spe[0:10].plot(kind='bar')"
   ]
  },
  {
   "cell_type": "code",
   "execution_count": 293,
   "metadata": {
    "collapsed": false
   },
   "outputs": [
    {
     "data": {
      "text/plain": [
       "<matplotlib.axes._subplots.AxesSubplot at 0x7fbaa7b5ed10>"
      ]
     },
     "execution_count": 293,
     "metadata": {},
     "output_type": "execute_result"
    },
    {
     "data": {
      "image/png": "[encoded data removed]",
      "text/plain": [
       "<matplotlib.figure.Figure at 0x7fbaa7c1a950>"
      ]
     },
     "metadata": {},
     "output_type": "display_data"
    }
   ],
   "source": [
    "def getLexiqueVariable(varfile, varIndex, varCol):\n",
    "    lexiquePath = \"./data/Lexique_tables_R/{varfile}\".format(varfile=varfile)\n",
    "    data_lex = pd.read_csv(lexiquePath, sep=';', encoding=\"latin-1\")\n",
    "    df_lex = pd.DataFrame(data_lex).set_index(varIndex)\n",
    "    return df_lex[varCol]\n",
    "\n",
    "dep_mon_grouby_cpam = getGroupNormalized('cpam', 'dep_mon')\n",
    "df_cpam = getLexiqueVariable('cpam.csv', 'cpam', 'l_dpt')\n",
    "\n",
    "df_cpam = pd.concat([df_cpam, dep_mon_grouby_cpam], axis=1) \\\n",
    "                    .sort_values(by='count', ascending=False)\n",
    "df_cpam.set_index('l_dpt')[0:10].plot(kind='bar')\n",
    "#df_cpam"
   ]
  },
  {
   "cell_type": "code",
   "execution_count": 389,
   "metadata": {
    "collapsed": false
   },
   "outputs": [
    {
     "data": {
      "text/plain": [
       "<matplotlib.axes._subplots.AxesSubplot at 0x7fba9421c6d0>"
      ]
     },
     "execution_count": 389,
     "metadata": {},
     "output_type": "execute_result"
    },
    {
     "data": {
      "image/png": "[encoded data removed]",
      "text/plain": [
       "<matplotlib.figure.Figure at 0x7fba94277950>"
      ]
     },
     "metadata": {},
     "output_type": "display_data"
    }
   ],
   "source": [
    "def getdfDensity(filePath, varIndex, skiprows, nrows):\n",
    "    data = pd.read_csv(filePath, nrows=nrows, skiprows=skiprows, encoding=\"latin-1\")\n",
    "    df = pd.DataFrame(data)\n",
    "    #df['SPECIALITE'] = df['SPECIALITE'].str.replace(' ','')\n",
    "    #df['SPECIALITE'] = df['SPECIALITE'].str.replace(r'(^[0-9]{1,3}-)|(^[0-9][A,B]-)','')\n",
    "    df['SPECIALITE'] = df['SPECIALITE'].str \\\n",
    "                      .replace(r'(\\s\\-\\s)[a-zA-Z\\-\\s(\\xe8)(\\xf4)(\\x92)(\\xe9)]{2,40}','')\n",
    "    df['SPECIALITE'] = df['SPECIALITE'].str.replace(r'(^0)','')\n",
    "    df = df.set_index(varIndex).sort_index()\n",
    "    df.index.names = ['dpt']\n",
    "    return df\n",
    "\n",
    "filePath = \"./data/rpps-medecin-tab7-densite-2013-14-15-v1_32819236599579.csv\"\n",
    "skiprows = range(4) + range(5,8) + range(8,35)\n",
    "nrows = None\n",
    "df_density = getdfDensity(filePath, 'SPECIALITE', skiprows, nrows)\n",
    "dep_mon_grouby_cpam = getGroupNormalized('cpam', 'dep_mon')\n",
    "df_cpam = getLexiqueVariable('cpam.csv', 'cpam', ['l_dpt', 'dpt'])\n",
    "df_cpam = pd.concat([df_cpam, dep_mon_grouby_cpam], axis=1)\n",
    "df_cpam = df_cpam.set_index('l_dpt')\n",
    "df_cpam = df_cpam.groupby(['dpt']).sum()\n",
    "df = pd.concat([df_cpam, df_density], axis=1, join_axes=[df_density.index])\n",
    "#df.head(3)\n",
    "columns = df.columns.tolist()\n",
    "df = preprocessing.StandardScaler().fit_transform(df)\n",
    "df = pd.DataFrame(df, columns=columns)\n",
    "#df\n",
    "cov_sum = df.cov()['sum'].sort_values(ascending=False)[0:10]\n",
    "cov_sum.plot(kind='bar')\n",
    "\n",
    "#cov_sum\n",
    "\n",
    "#df_density.index.tolist()\n",
    "#print df_density.shape, df_cpam.shape\n",
    "#df_cpam['l_dpt'].tolist()\n",
    "#df_cpam.set_index('l_dpt')[0:10].plot(kind='bar')\n",
    "#df_cpam.index.tolist()\n",
    "#df_cpam#.head(3)\n",
    "#df_cpam['sum'].sum()"
   ]
  },
  {
   "cell_type": "code",
   "execution_count": 388,
   "metadata": {
    "collapsed": false
   },
   "outputs": [
    {
     "data": {
      "text/plain": [
       "<matplotlib.axes._subplots.AxesSubplot at 0x7fba9475cad0>"
      ]
     },
     "execution_count": 388,
     "metadata": {},
     "output_type": "execute_result"
    },
    {
     "data": {
      "image/png": "[encoded data removed]",
      "text/plain": [
       "<matplotlib.figure.Figure at 0x7fba94772e10>"
      ]
     },
     "metadata": {},
     "output_type": "display_data"
    }
   ],
   "source": [
    "cov_count = df.cov()['count'].sort_values(ascending=False)[0:10]\n",
    "cov_count.plot(kind='bar')"
   ]
  },
  {
   "cell_type": "code",
   "execution_count": null,
   "metadata": {
    "collapsed": true
   },
   "outputs": [],
   "source": [
    "def diff(list1, list2):\n",
    "    c = set(list1).union(set(list2))\n",
    "    d = set(list1).intersection(set(list2))\n",
    "    return list(c - d)\n",
    "\n",
    "from collections import Counter\n",
    "def diff2(list1, list2):\n",
    "    c1 = Counter(list1)\n",
    "    c2 = Counter(list2)\n",
    "    return list((c1 - c2).elements())\n",
    "#print set([1, 2]) - set([2, 3])\n",
    "#print set([3, 2]) - set([2, 1])\n",
    "#list(set(temp1) - set(temp2))\n",
    "#print set(df_density.index.tolist()) - set(df_cpam.index.tolist())\n",
    "list2 = df_density.index.tolist()\n",
    "list1 = df_cpam.index.tolist()\n",
    "#print diff2(list1, list2)\n",
    "#print [x for x in df_cpam.index.tolist() if x not in df_density.index.tolist()]"
   ]
  },
  {
   "cell_type": "code",
   "execution_count": 377,
   "metadata": {
    "collapsed": false
   },
   "outputs": [
    {
     "ename": "AttributeError",
     "evalue": "'numpy.ndarray' object has no attribute 'columns'",
     "output_type": "error",
     "traceback": [
      "\u001b[1;31m---------------------------------------------------------------------------\u001b[0m",
      "\u001b[1;31mAttributeError\u001b[0m                            Traceback (most recent call last)",
      "\u001b[1;32m<ipython-input-377-fa442070cbc2>\u001b[0m in \u001b[0;36m<module>\u001b[1;34m()\u001b[0m\n\u001b[0;32m      1\u001b[0m \u001b[0mdf\u001b[0m \u001b[1;33m=\u001b[0m \u001b[0mpreprocessing\u001b[0m\u001b[1;33m.\u001b[0m\u001b[0mStandardScaler\u001b[0m\u001b[1;33m(\u001b[0m\u001b[1;33m)\u001b[0m\u001b[1;33m.\u001b[0m\u001b[0mfit_transform\u001b[0m\u001b[1;33m(\u001b[0m\u001b[0mdf\u001b[0m\u001b[1;33m)\u001b[0m\u001b[1;33m\u001b[0m\u001b[0m\n\u001b[1;32m----> 2\u001b[1;33m \u001b[0mcolumns\u001b[0m \u001b[1;33m=\u001b[0m \u001b[0mdf\u001b[0m\u001b[1;33m.\u001b[0m\u001b[0mcolumns\u001b[0m\u001b[1;31m#.tolist()\u001b[0m\u001b[1;33m\u001b[0m\u001b[0m\n\u001b[0m\u001b[0;32m      3\u001b[0m \u001b[0mcolumns\u001b[0m\u001b[1;33m\u001b[0m\u001b[0m\n\u001b[0;32m      4\u001b[0m \u001b[1;31m#pd.DataFrame(df, columns=columns)\u001b[0m\u001b[1;33m\u001b[0m\u001b[1;33m\u001b[0m\u001b[0m\n\u001b[0;32m      5\u001b[0m \u001b[1;31m#df\u001b[0m\u001b[1;33m\u001b[0m\u001b[1;33m\u001b[0m\u001b[0m\n",
      "\u001b[1;31mAttributeError\u001b[0m: 'numpy.ndarray' object has no attribute 'columns'"
     ]
    }
   ],
   "source": [
    "columns = df.columns.tolist()\n",
    "columns\n",
    "df = preprocessing.StandardScaler().fit_transform(df)\n",
    "\n",
    "#pd.DataFrame(df, columns=columns)\n",
    "#df\n",
    "#df.cov()"
   ]
  },
  {
   "cell_type": "code",
   "execution_count": null,
   "metadata": {
    "collapsed": true
   },
   "outputs": [],
   "source": []
  }
 ],
 "metadata": {
  "kernelspec": {
   "display_name": "Python 2",
   "language": "python",
   "name": "python2"
  },
  "language_info": {
   "codemirror_mode": {
    "name": "ipython",
    "version": 2
   },
   "file_extension": ".py",
   "mimetype": "text/x-python",
   "name": "python",
   "nbconvert_exporter": "python",
   "pygments_lexer": "ipython2",
   "version": "2.7.10"
  }
 },
 "nbformat": 4,
 "nbformat_minor": 0
}
