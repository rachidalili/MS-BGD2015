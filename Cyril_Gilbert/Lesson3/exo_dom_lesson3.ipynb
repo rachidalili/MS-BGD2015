{
 "cells": [
  {
   "cell_type": "code",
   "execution_count": 8,
   "metadata": {
    "collapsed": false
   },
   "outputs": [
    {
     "ename": "TypeError",
     "evalue": "string indices must be integers",
     "output_type": "error",
     "traceback": [
      "\u001b[1;31m---------------------------------------------------------------------------\u001b[0m",
      "\u001b[1;31mTypeError\u001b[0m                                 Traceback (most recent call last)",
      "\u001b[1;32m<ipython-input-8-46dad78ebcca>\u001b[0m in \u001b[0;36m<module>\u001b[1;34m()\u001b[0m\n\u001b[0;32m     49\u001b[0m \u001b[0mstargazers_tot\u001b[0m\u001b[1;33m=\u001b[0m\u001b[1;36m0\u001b[0m\u001b[1;33m;\u001b[0m\u001b[1;33m\u001b[0m\u001b[0m\n\u001b[0;32m     50\u001b[0m \u001b[1;32mfor\u001b[0m \u001b[0mrepos\u001b[0m \u001b[1;32min\u001b[0m \u001b[0mreq\u001b[0m\u001b[1;33m.\u001b[0m\u001b[0mjson\u001b[0m\u001b[1;33m(\u001b[0m\u001b[1;33m)\u001b[0m\u001b[1;33m:\u001b[0m\u001b[1;33m\u001b[0m\u001b[0m\n\u001b[1;32m---> 51\u001b[1;33m     \u001b[0mstargazers_tot\u001b[0m \u001b[1;33m+=\u001b[0m \u001b[0mrepos\u001b[0m\u001b[1;33m[\u001b[0m\u001b[1;34m'stargazers_count'\u001b[0m\u001b[1;33m]\u001b[0m\u001b[1;33m\u001b[0m\u001b[0m\n\u001b[0m\u001b[0;32m     52\u001b[0m \u001b[0mtopUsers\u001b[0m\u001b[1;33m[\u001b[0m\u001b[0muser\u001b[0m\u001b[1;33m]\u001b[0m\u001b[1;33m=\u001b[0m \u001b[0mstargazers_tot\u001b[0m\u001b[1;33m/\u001b[0m\u001b[0mlen\u001b[0m\u001b[1;33m(\u001b[0m\u001b[0mreq\u001b[0m\u001b[1;33m.\u001b[0m\u001b[0mjson\u001b[0m\u001b[1;33m(\u001b[0m\u001b[1;33m)\u001b[0m\u001b[1;33m)\u001b[0m\u001b[1;33m\u001b[0m\u001b[0m\n\u001b[0;32m     53\u001b[0m \u001b[1;33m\u001b[0m\u001b[0m\n",
      "\u001b[1;31mTypeError\u001b[0m: string indices must be integers"
     ]
    }
   ],
   "source": [
    "import requests\n",
    "import json\n",
    "from bs4 import BeautifulSoup\n",
    "import urllib2\n",
    "import pandas as pd\n",
    "import operator\n",
    "\n",
    "def getContentFromUrl(url):\n",
    "\t# Execute a request to get the content from a web page\n",
    "\trequest = requests.get(url)\n",
    "\t# Parse the document\n",
    "\tsoup = BeautifulSoup(request.text, 'html.parser')\n",
    "\treturn soup\n",
    "\n",
    "url='https://gist.github.com/paulmillr/2657075'\n",
    "soup=getContentFromUrl(url)\n",
    "tableau=soup.find('table')\n",
    "liste=tableau.find('tbody')\n",
    "users=liste.findAll('tr')\n",
    "\n",
    "users_list=[]\n",
    "\n",
    "for user in users:\n",
    "    cell=(user.find('a',href=True))\n",
    "    users_list.append(cell.text)\n",
    "    \n",
    "authe='cyrgilbert'\n",
    "passw='gilbert93'\n",
    "dico_users={}\n",
    "\n",
    "for user in users_list:\n",
    "    user=users_list[0]\n",
    "    req = requests.get('https://api.github.com/users/'+user+'/repos', auth=(authe,passw))\n",
    "    stargazers_tot=0;\n",
    "    for repos in req.json():\n",
    "        stargazers_tot += repos['stargazers_count']\n",
    "    dico_users[user]= stargazers_tot/len(req.json())\n",
    "        \n",
    "df = pd.DataFrame(sorted(topUsers.items(), key=operator.itemgetter(1),reverse=True))\n",
    "df.columns=['user','score']\n",
    "df.to_csv(\"gitTopUsers.csv\")\n",
    " "
   ]
  }
 ],
 "metadata": {
  "kernelspec": {
   "display_name": "Python 2",
   "language": "python",
   "name": "python2"
  },
  "language_info": {
   "codemirror_mode": {
    "name": "ipython",
    "version": 2
   },
   "file_extension": ".py",
   "mimetype": "text/x-python",
   "name": "python",
   "nbconvert_exporter": "python",
   "pygments_lexer": "ipython2",
   "version": "2.7.10"
  }
 },
 "nbformat": 4,
 "nbformat_minor": 0
}
